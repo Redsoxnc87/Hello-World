{
  "nbformat": 4,
  "nbformat_minor": 0,
  "metadata": {
    "colab": {
      "name": "Focused_Industry_Fundamentals.ipynb",
      "provenance": [],
      "collapsed_sections": [],
      "authorship_tag": "ABX9TyM3KwoAqUIXSegs2cYfrtp+",
      "include_colab_link": true
    },
    "kernelspec": {
      "name": "python3",
      "display_name": "Python 3"
    }
  },
  "cells": [
    {
      "cell_type": "markdown",
      "metadata": {
        "id": "view-in-github",
        "colab_type": "text"
      },
      "source": [
        "<a href=\"https://colab.research.google.com/github/Redsoxnc87/Hello-World/blob/master/Focused_Industry_Fundamentals.ipynb\" target=\"_parent\"><img src=\"https://colab.research.google.com/assets/colab-badge.svg\" alt=\"Open In Colab\"/></a>"
      ]
    },
    {
      "cell_type": "code",
      "metadata": {
        "id": "qPHsgYWarIkw"
      },
      "source": [
        "import pandas as pd\n",
        "import numpy as np\n",
        "import operator\n",
        "import requests\n",
        "import matplotlib.pyplot as plt\n",
        "import os \n",
        "import sys \n",
        "%matplotlib inline"
      ],
      "execution_count": 1,
      "outputs": []
    },
    {
      "cell_type": "code",
      "metadata": {
        "id": "hfnbrcWYrXv3"
      },
      "source": [
        "import stk_fundamentsal_by_industry as stk"
      ],
      "execution_count": 2,
      "outputs": []
    },
    {
      "cell_type": "code",
      "metadata": {
        "id": "YNvOmr00rjKh",
        "outputId": "14a82450-fa5c-424e-a7e2-8f9c467f6396",
        "colab": {
          "base_uri": "https://localhost:8080/",
          "height": 34
        }
      },
      "source": [
        "stk.textile['Real_Mcap'].mean()"
      ],
      "execution_count": 8,
      "outputs": [
        {
          "output_type": "execute_result",
          "data": {
            "text/plain": [
              "9322025090.90909"
            ]
          },
          "metadata": {
            "tags": []
          },
          "execution_count": 8
        }
      ]
    },
    {
      "cell_type": "code",
      "metadata": {
        "id": "yJYghJjSsIsA"
      },
      "source": [
        "import stock_fund_by_industry_py as sf"
      ],
      "execution_count": 5,
      "outputs": []
    },
    {
      "cell_type": "code",
      "metadata": {
        "id": "qlwOSjtEeXhL",
        "outputId": "543f2a1c-3e78-44d5-93df-d8b7f225e78d",
        "colab": {
          "base_uri": "https://localhost:8080/",
          "height": 34
        }
      },
      "source": [
        "sf.medinfo['Real_Mcap'].mean()"
      ],
      "execution_count": 9,
      "outputs": [
        {
          "output_type": "execute_result",
          "data": {
            "text/plain": [
              "7512257454.545455"
            ]
          },
          "metadata": {
            "tags": []
          },
          "execution_count": 9
        }
      ]
    },
    {
      "cell_type": "code",
      "metadata": {
        "id": "PD9XfRL-ei0v",
        "outputId": "8ab4cb84-972d-4622-a5ea-06690a40e9b6",
        "colab": {
          "base_uri": "https://localhost:8080/",
          "height": 34
        }
      },
      "source": [
        "sf.wasteRem['Real_Mcap'].mean()"
      ],
      "execution_count": 10,
      "outputs": [
        {
          "output_type": "execute_result",
          "data": {
            "text/plain": [
              "20109253833.333332"
            ]
          },
          "metadata": {
            "tags": []
          },
          "execution_count": 10
        }
      ]
    },
    {
      "cell_type": "code",
      "metadata": {
        "id": "NodcUitFlx59",
        "outputId": "5f62576a-85c4-4fe8-b851-8b788bbb209e",
        "colab": {
          "base_uri": "https://localhost:8080/",
          "height": 34
        }
      },
      "source": [
        "stk.gaming['Real_Mcap'].mean()"
      ],
      "execution_count": 11,
      "outputs": [
        {
          "output_type": "execute_result",
          "data": {
            "text/plain": [
              "12480190600.0"
            ]
          },
          "metadata": {
            "tags": []
          },
          "execution_count": 11
        }
      ]
    },
    {
      "cell_type": "code",
      "metadata": {
        "id": "WqhXEQedqg0n",
        "outputId": "30a42f83-ce34-4583-ee8f-d29eca1ab3fe",
        "colab": {
          "base_uri": "https://localhost:8080/",
          "height": 291
        }
      },
      "source": [
        "sf.medProdct['Annual Net Income']/sf.medProdct['Annual Sales']"
      ],
      "execution_count": 12,
      "outputs": [
        {
          "output_type": "execute_result",
          "data": {
            "text/plain": [
              "0     0.115565\n",
              "1    -3.313442\n",
              "2     0.077422\n",
              "3     0.165635\n",
              "4     0.139949\n",
              "5     0.437820\n",
              "6     0.088101\n",
              "7     0.141765\n",
              "8     0.210236\n",
              "9     0.116777\n",
              "10    0.760787\n",
              "11    0.015714\n",
              "12    0.136327\n",
              "13    0.030202\n",
              "14    0.052351\n",
              "dtype: float64"
            ]
          },
          "metadata": {
            "tags": []
          },
          "execution_count": 12
        }
      ]
    },
    {
      "cell_type": "code",
      "metadata": {
        "id": "bVCpsKRQwoQI",
        "outputId": "655ffa67-105b-4802-df1e-5cb1548f4009",
        "colab": {
          "base_uri": "https://localhost:8080/",
          "height": 222
        }
      },
      "source": [
        "stk.intsware['Annual Net Income']/ stk.intsware['Annual Sales']"
      ],
      "execution_count": 13,
      "outputs": [
        {
          "output_type": "execute_result",
          "data": {
            "text/plain": [
              "0     0.138364\n",
              "1    -0.142721\n",
              "2    -0.046061\n",
              "3    -0.602531\n",
              "4    -0.270664\n",
              "5     0.423683\n",
              "6    -0.294510\n",
              "7     0.040648\n",
              "8     0.079654\n",
              "9    -0.132518\n",
              "10    0.272734\n",
              "dtype: float64"
            ]
          },
          "metadata": {
            "tags": []
          },
          "execution_count": 13
        }
      ]
    },
    {
      "cell_type": "code",
      "metadata": {
        "id": "JPxUykab0Zge"
      },
      "source": [
        "import sklearn as skl \n",
        "import scipy"
      ],
      "execution_count": 14,
      "outputs": []
    },
    {
      "cell_type": "code",
      "metadata": {
        "id": "xyeEBbOw546V"
      },
      "source": [
        "from scipy import  stats"
      ],
      "execution_count": 15,
      "outputs": []
    },
    {
      "cell_type": "code",
      "metadata": {
        "id": "1YY0nkUT57qe"
      },
      "source": [
        "from sklearn import cluster"
      ],
      "execution_count": 16,
      "outputs": []
    },
    {
      "cell_type": "code",
      "metadata": {
        "id": "Ocw4eiAg6Pj3"
      },
      "source": [
        "gaming_nincomePrct = (stk.gaming['Annual Net Income']/stk.gaming['Annual Sales'])"
      ],
      "execution_count": 17,
      "outputs": []
    },
    {
      "cell_type": "code",
      "metadata": {
        "id": "MgL-QkNT7Jgw"
      },
      "source": [
        "gaming_Nincome_mean = gaming_nincomePrct.mean()"
      ],
      "execution_count": 18,
      "outputs": []
    },
    {
      "cell_type": "code",
      "metadata": {
        "id": "B9EpPSBY7QU7",
        "outputId": "e6029161-06ac-4d16-f890-4f90e9526bb9",
        "colab": {
          "base_uri": "https://localhost:8080/",
          "height": 34
        }
      },
      "source": [
        "gaming_Nincome_mean"
      ],
      "execution_count": 19,
      "outputs": [
        {
          "output_type": "execute_result",
          "data": {
            "text/plain": [
              "0.07094115318491684"
            ]
          },
          "metadata": {
            "tags": []
          },
          "execution_count": 19
        }
      ]
    },
    {
      "cell_type": "code",
      "metadata": {
        "id": "c1OBfddO7SfD"
      },
      "source": [
        "air_nincome = stk.air['Annual Net Income']/ stk.air['Annual Sales']"
      ],
      "execution_count": 20,
      "outputs": []
    },
    {
      "cell_type": "code",
      "metadata": {
        "id": "rzKctufm7fX5"
      },
      "source": [
        "air_Nincome_mean = air_nincome.mean()"
      ],
      "execution_count": 21,
      "outputs": []
    },
    {
      "cell_type": "code",
      "metadata": {
        "id": "A9NVBKT37jcE",
        "outputId": "c1fa3d04-d4b0-441e-e501-93e2f0522fd4",
        "colab": {
          "base_uri": "https://localhost:8080/",
          "height": 34
        }
      },
      "source": [
        "air_Nincome_mean"
      ],
      "execution_count": 22,
      "outputs": [
        {
          "output_type": "execute_result",
          "data": {
            "text/plain": [
              "0.07613110877237057"
            ]
          },
          "metadata": {
            "tags": []
          },
          "execution_count": 22
        }
      ]
    },
    {
      "cell_type": "code",
      "metadata": {
        "id": "PmQuJn3V7zGy"
      },
      "source": [
        "intersoft_nincome = stk.intsware['Annual Net Income'] / stk.intsware['Annual Sales']"
      ],
      "execution_count": 23,
      "outputs": []
    },
    {
      "cell_type": "code",
      "metadata": {
        "id": "_G4QXB8Y8AWH"
      },
      "source": [
        "intersoft_Nincome_mean = intersoft_nincome.mean()"
      ],
      "execution_count": 24,
      "outputs": []
    },
    {
      "cell_type": "code",
      "metadata": {
        "id": "sjQ15GWO8EmJ",
        "outputId": "13481c4d-67bd-44c1-a08e-25bf39ae1cdd",
        "colab": {
          "base_uri": "https://localhost:8080/",
          "height": 222
        }
      },
      "source": [
        "intersoft_nincome"
      ],
      "execution_count": 26,
      "outputs": [
        {
          "output_type": "execute_result",
          "data": {
            "text/plain": [
              "0     0.138364\n",
              "1    -0.142721\n",
              "2    -0.046061\n",
              "3    -0.602531\n",
              "4    -0.270664\n",
              "5     0.423683\n",
              "6    -0.294510\n",
              "7     0.040648\n",
              "8     0.079654\n",
              "9    -0.132518\n",
              "10    0.272734\n",
              "dtype: float64"
            ]
          },
          "metadata": {
            "tags": []
          },
          "execution_count": 26
        }
      ]
    },
    {
      "cell_type": "code",
      "metadata": {
        "id": "kYPBY7928F3R"
      },
      "source": [
        "medinfo_nincome = sf.medinfo['Annual Net Income'] / sf.medinfo['Annual Sales']"
      ],
      "execution_count": 28,
      "outputs": []
    },
    {
      "cell_type": "code",
      "metadata": {
        "id": "BYKPYbGV8R3n"
      },
      "source": [
        "medinfo_Nincome_mean = medinfo_nincome.mean()"
      ],
      "execution_count": 29,
      "outputs": []
    },
    {
      "cell_type": "code",
      "metadata": {
        "id": "5FWq7ROa8_36",
        "outputId": "5b90bccd-994d-435f-975e-d1a440812d3a",
        "colab": {
          "base_uri": "https://localhost:8080/",
          "height": 34
        }
      },
      "source": [
        "medinfo_Nincome_mean"
      ],
      "execution_count": 30,
      "outputs": [
        {
          "output_type": "execute_result",
          "data": {
            "text/plain": [
              "-0.666414877260154"
            ]
          },
          "metadata": {
            "tags": []
          },
          "execution_count": 30
        }
      ]
    },
    {
      "cell_type": "code",
      "metadata": {
        "id": "l1d9YKUl9BXc"
      },
      "source": [
        "medPrdct_nincome = sf.medProdct['Annual Net Income'] / sf.medProdct['Annual Sales']"
      ],
      "execution_count": 32,
      "outputs": []
    },
    {
      "cell_type": "code",
      "metadata": {
        "id": "D1UZ1hXV9EPE"
      },
      "source": [
        "medprdct_Nincome_mean = medPrdct_nincome.mean()"
      ],
      "execution_count": 33,
      "outputs": []
    },
    {
      "cell_type": "code",
      "metadata": {
        "id": "q4QqWsyL9VzM",
        "outputId": "bafeddb9-4034-4193-dc07-9d09e5802f90",
        "colab": {
          "base_uri": "https://localhost:8080/",
          "height": 34
        }
      },
      "source": [
        "medprdct_Nincome_mean"
      ],
      "execution_count": 34,
      "outputs": [
        {
          "output_type": "execute_result",
          "data": {
            "text/plain": [
              "-0.05498607372206688"
            ]
          },
          "metadata": {
            "tags": []
          },
          "execution_count": 34
        }
      ]
    },
    {
      "cell_type": "code",
      "metadata": {
        "id": "esNzHQNe9Xcd",
        "outputId": "f8b088f0-2c19-447b-c517-5e3a00715a5a",
        "colab": {
          "base_uri": "https://localhost:8080/",
          "height": 291
        }
      },
      "source": [
        "medPrdct_nincome"
      ],
      "execution_count": 35,
      "outputs": [
        {
          "output_type": "execute_result",
          "data": {
            "text/plain": [
              "0     0.115565\n",
              "1    -3.313442\n",
              "2     0.077422\n",
              "3     0.165635\n",
              "4     0.139949\n",
              "5     0.437820\n",
              "6     0.088101\n",
              "7     0.141765\n",
              "8     0.210236\n",
              "9     0.116777\n",
              "10    0.760787\n",
              "11    0.015714\n",
              "12    0.136327\n",
              "13    0.030202\n",
              "14    0.052351\n",
              "dtype: float64"
            ]
          },
          "metadata": {
            "tags": []
          },
          "execution_count": 35
        }
      ]
    },
    {
      "cell_type": "code",
      "metadata": {
        "id": "KTontpoH9ZIm"
      },
      "source": [
        "bevAlch_nincome = stk.abev['Annual Net Income'] / stk.abev['Annual Sales']"
      ],
      "execution_count": 37,
      "outputs": []
    },
    {
      "cell_type": "code",
      "metadata": {
        "id": "rbEIzE2s9hNZ"
      },
      "source": [
        "bevAlch_Nincome_mean = bevAlch_nincome.mean()"
      ],
      "execution_count": 38,
      "outputs": []
    },
    {
      "cell_type": "code",
      "metadata": {
        "id": "9yxrsK2R-Nwc",
        "outputId": "0a2168e9-0438-4a5b-82e5-45aea979004e",
        "colab": {
          "base_uri": "https://localhost:8080/",
          "height": 34
        }
      },
      "source": [
        "bevAlch_Nincome_mean"
      ],
      "execution_count": 39,
      "outputs": [
        {
          "output_type": "execute_result",
          "data": {
            "text/plain": [
              "0.12492784047117537"
            ]
          },
          "metadata": {
            "tags": []
          },
          "execution_count": 39
        }
      ]
    },
    {
      "cell_type": "code",
      "metadata": {
        "id": "VbxTa9yW-PkU",
        "outputId": "ef54122b-095f-4cb3-aed9-834eee2d7834",
        "colab": {
          "base_uri": "https://localhost:8080/",
          "height": 154
        }
      },
      "source": [
        "bevAlch_nincome"
      ],
      "execution_count": 40,
      "outputs": [
        {
          "output_type": "execute_result",
          "data": {
            "text/plain": [
              "0    0.175257\n",
              "1    0.119895\n",
              "2    0.223956\n",
              "3    0.245911\n",
              "4   -0.001414\n",
              "5    0.088045\n",
              "6    0.022846\n",
              "dtype: float64"
            ]
          },
          "metadata": {
            "tags": []
          },
          "execution_count": 40
        }
      ]
    },
    {
      "cell_type": "code",
      "metadata": {
        "id": "hwyfgLP6-ScO",
        "outputId": "e47d0239-eea4-4c60-e952-6b4055c63f87",
        "colab": {
          "base_uri": "https://localhost:8080/",
          "height": 564
        }
      },
      "source": [
        "stk.abev.head(7)"
      ],
      "execution_count": 42,
      "outputs": [
        {
          "output_type": "execute_result",
          "data": {
            "text/html": [
              "<div>\n",
              "<style scoped>\n",
              "    .dataframe tbody tr th:only-of-type {\n",
              "        vertical-align: middle;\n",
              "    }\n",
              "\n",
              "    .dataframe tbody tr th {\n",
              "        vertical-align: top;\n",
              "    }\n",
              "\n",
              "    .dataframe thead th {\n",
              "        text-align: right;\n",
              "    }\n",
              "</style>\n",
              "<table border=\"1\" class=\"dataframe\">\n",
              "  <thead>\n",
              "    <tr style=\"text-align: right;\">\n",
              "      <th></th>\n",
              "      <th>Symbol</th>\n",
              "      <th>Symbol Name</th>\n",
              "      <th>Exchange</th>\n",
              "      <th>Open</th>\n",
              "      <th>High</th>\n",
              "      <th>Low</th>\n",
              "      <th>Last</th>\n",
              "      <th>Change</th>\n",
              "      <th>% Change</th>\n",
              "      <th>Volume</th>\n",
              "      <th>20-Day Average Volume</th>\n",
              "      <th>Previous Close</th>\n",
              "      <th>Industry</th>\n",
              "      <th>Has Options</th>\n",
              "      <th>20-Day Moving Average</th>\n",
              "      <th>20-Day Raw Stochastic</th>\n",
              "      <th>20-Day Relative Strength</th>\n",
              "      <th>Weighted Alpha</th>\n",
              "      <th>Today's Opinion</th>\n",
              "      <th>Previous Opinion</th>\n",
              "      <th>Last Month's Opinion</th>\n",
              "      <th>5-Days %Chg</th>\n",
              "      <th>5-Days Low</th>\n",
              "      <th>5-Days High</th>\n",
              "      <th>1-Month %Chg</th>\n",
              "      <th>1-Month Low</th>\n",
              "      <th>1-Month High</th>\n",
              "      <th>3-Month %Chg</th>\n",
              "      <th>3-Month Low</th>\n",
              "      <th>3-Month High</th>\n",
              "      <th>6-Month %Chg</th>\n",
              "      <th>6-Month Low</th>\n",
              "      <th>6-Month High</th>\n",
              "      <th>Market Capitalization, $K</th>\n",
              "      <th>Shares Outstanding, K</th>\n",
              "      <th>Annual Sales</th>\n",
              "      <th>Annual Net Income</th>\n",
              "      <th>Last Quarter Sales</th>\n",
              "      <th>Last Quarter Net Income</th>\n",
              "      <th>60-Month Beta</th>\n",
              "      <th>Most Recent Earnings</th>\n",
              "      <th>Latest Earnings Date</th>\n",
              "      <th>Most Recent Dividend</th>\n",
              "      <th>Next Ex-Dividends Date</th>\n",
              "      <th>Price/Earnings ttm</th>\n",
              "      <th>Real_Mcap</th>\n",
              "      <th>Real_Shares</th>\n",
              "      <th>Nincome_Shares</th>\n",
              "      <th>Sales_Mcap</th>\n",
              "    </tr>\n",
              "  </thead>\n",
              "  <tbody>\n",
              "    <tr>\n",
              "      <th>0</th>\n",
              "      <td>BUD</td>\n",
              "      <td>Anheuser-Busch Inbev S.A.</td>\n",
              "      <td>NYSE</td>\n",
              "      <td>52.09</td>\n",
              "      <td>52.94</td>\n",
              "      <td>51.79</td>\n",
              "      <td>52.82</td>\n",
              "      <td>-0.06</td>\n",
              "      <td>-0.001</td>\n",
              "      <td>1830570</td>\n",
              "      <td>1752450</td>\n",
              "      <td>52.88</td>\n",
              "      <td>Beverages - Alcohol</td>\n",
              "      <td>Yes</td>\n",
              "      <td>56.51</td>\n",
              "      <td>0.114</td>\n",
              "      <td>0.415</td>\n",
              "      <td>-39.2</td>\n",
              "      <td>8% Sell</td>\n",
              "      <td>8% Sell</td>\n",
              "      <td>40% Buy</td>\n",
              "      <td>-8.23% since 09/18/20</td>\n",
              "      <td>51.79 on 09/25/20</td>\n",
              "      <td>55.29 on 09/22/20</td>\n",
              "      <td>-9.07% since 08/25/20</td>\n",
              "      <td>51.79 on 09/25/20</td>\n",
              "      <td>60.85 on 09/03/20</td>\n",
              "      <td>+5.83% since 06/25/20</td>\n",
              "      <td>47.80 on 06/26/20</td>\n",
              "      <td>60.85 on 09/03/20</td>\n",
              "      <td>+15.86% since 03/25/20</td>\n",
              "      <td>37.93 on 05/14/20</td>\n",
              "      <td>60.85 on 09/03/20</td>\n",
              "      <td>106506248</td>\n",
              "      <td>2016400</td>\n",
              "      <td>52329000000</td>\n",
              "      <td>9171000000</td>\n",
              "      <td>1.029400e+10</td>\n",
              "      <td>350000000.0</td>\n",
              "      <td>1.35</td>\n",
              "      <td>0.46 on 07/30/20</td>\n",
              "      <td>10/23/2020</td>\n",
              "      <td>0.418 on 06/09/20</td>\n",
              "      <td>6/9/2020</td>\n",
              "      <td>30.39</td>\n",
              "      <td>106506248000</td>\n",
              "      <td>2016400000</td>\n",
              "      <td>4.548205</td>\n",
              "      <td>0.491323</td>\n",
              "    </tr>\n",
              "    <tr>\n",
              "      <th>1</th>\n",
              "      <td>DEO</td>\n",
              "      <td>Diageo Plc</td>\n",
              "      <td>NYSE</td>\n",
              "      <td>128.08</td>\n",
              "      <td>129.56</td>\n",
              "      <td>127.31</td>\n",
              "      <td>129.41</td>\n",
              "      <td>0.60</td>\n",
              "      <td>0.005</td>\n",
              "      <td>280258</td>\n",
              "      <td>517440</td>\n",
              "      <td>128.81</td>\n",
              "      <td>Beverages - Alcohol</td>\n",
              "      <td>Yes</td>\n",
              "      <td>133.27</td>\n",
              "      <td>0.192</td>\n",
              "      <td>0.412</td>\n",
              "      <td>-21.0</td>\n",
              "      <td>88% Sell</td>\n",
              "      <td>88% Sell</td>\n",
              "      <td>72% Sell</td>\n",
              "      <td>-2.67% since 09/18/20</td>\n",
              "      <td>127.12 on 09/21/20</td>\n",
              "      <td>130.35 on 09/24/20</td>\n",
              "      <td>-5.69% since 08/25/20</td>\n",
              "      <td>127.12 on 09/21/20</td>\n",
              "      <td>139.02 on 09/09/20</td>\n",
              "      <td>-4.56% since 06/25/20</td>\n",
              "      <td>127.12 on 09/21/20</td>\n",
              "      <td>150.64 on 08/03/20</td>\n",
              "      <td>+9.35% since 03/25/20</td>\n",
              "      <td>120.12 on 04/03/20</td>\n",
              "      <td>150.64 on 08/03/20</td>\n",
              "      <td>82886720</td>\n",
              "      <td>640497</td>\n",
              "      <td>14816920000</td>\n",
              "      <td>1776470000</td>\n",
              "      <td>NaN</td>\n",
              "      <td>NaN</td>\n",
              "      <td>0.57</td>\n",
              "      <td>NaN</td>\n",
              "      <td>8/6/2020</td>\n",
              "      <td>2.198 on 08/13/20</td>\n",
              "      <td>8/13/2020</td>\n",
              "      <td>0.00</td>\n",
              "      <td>82886720000</td>\n",
              "      <td>640497000</td>\n",
              "      <td>2.773581</td>\n",
              "      <td>0.178761</td>\n",
              "    </tr>\n",
              "    <tr>\n",
              "      <th>2</th>\n",
              "      <td>ABEV</td>\n",
              "      <td>Ambev S.A.</td>\n",
              "      <td>NYSE</td>\n",
              "      <td>2.29</td>\n",
              "      <td>2.34</td>\n",
              "      <td>2.25</td>\n",
              "      <td>2.33</td>\n",
              "      <td>0.02</td>\n",
              "      <td>0.009</td>\n",
              "      <td>17736052</td>\n",
              "      <td>20518275</td>\n",
              "      <td>2.31</td>\n",
              "      <td>Beverages - Alcohol</td>\n",
              "      <td>Yes</td>\n",
              "      <td>2.36</td>\n",
              "      <td>0.353</td>\n",
              "      <td>0.461</td>\n",
              "      <td>-48.7</td>\n",
              "      <td>100% Sell</td>\n",
              "      <td>96% Sell</td>\n",
              "      <td>88% Sell</td>\n",
              "      <td>-2.51% since 09/18/20</td>\n",
              "      <td>2.21 on 09/24/20</td>\n",
              "      <td>2.39 on 09/22/20</td>\n",
              "      <td>+0.43% since 08/25/20</td>\n",
              "      <td>2.21 on 09/24/20</td>\n",
              "      <td>2.55 on 09/17/20</td>\n",
              "      <td>-13.06% since 06/25/20</td>\n",
              "      <td>2.21 on 09/24/20</td>\n",
              "      <td>3.06 on 07/30/20</td>\n",
              "      <td>-1.69% since 03/25/20</td>\n",
              "      <td>1.90 on 05/13/20</td>\n",
              "      <td>3.06 on 07/30/20</td>\n",
              "      <td>36644400</td>\n",
              "      <td>15727211</td>\n",
              "      <td>13328760000</td>\n",
              "      <td>2985050000</td>\n",
              "      <td>2.166250e+09</td>\n",
              "      <td>228800000.0</td>\n",
              "      <td>0.91</td>\n",
              "      <td>NaN</td>\n",
              "      <td>10/23/2020</td>\n",
              "      <td>0.103 on 12/20/19</td>\n",
              "      <td>12/20/2019</td>\n",
              "      <td>16.50</td>\n",
              "      <td>36644400000</td>\n",
              "      <td>15727211000</td>\n",
              "      <td>0.189802</td>\n",
              "      <td>0.363733</td>\n",
              "    </tr>\n",
              "    <tr>\n",
              "      <th>3</th>\n",
              "      <td>BF.A</td>\n",
              "      <td>Brown Forman Inc Cl A</td>\n",
              "      <td>NYSE</td>\n",
              "      <td>67.10</td>\n",
              "      <td>67.90</td>\n",
              "      <td>66.58</td>\n",
              "      <td>67.62</td>\n",
              "      <td>0.05</td>\n",
              "      <td>0.001</td>\n",
              "      <td>46737</td>\n",
              "      <td>61745</td>\n",
              "      <td>67.57</td>\n",
              "      <td>Beverages - Alcohol</td>\n",
              "      <td>Yes</td>\n",
              "      <td>69.89</td>\n",
              "      <td>0.275</td>\n",
              "      <td>0.507</td>\n",
              "      <td>17.0</td>\n",
              "      <td>80% Buy</td>\n",
              "      <td>80% Buy</td>\n",
              "      <td>88% Buy</td>\n",
              "      <td>-0.68% since 09/18/20</td>\n",
              "      <td>66.40 on 09/21/20</td>\n",
              "      <td>69.16 on 09/22/20</td>\n",
              "      <td>+2.42% since 08/25/20</td>\n",
              "      <td>64.75 on 09/01/20</td>\n",
              "      <td>75.16 on 09/02/20</td>\n",
              "      <td>+20.15% since 06/25/20</td>\n",
              "      <td>54.29 on 06/26/20</td>\n",
              "      <td>75.16 on 09/02/20</td>\n",
              "      <td>+41.32% since 03/25/20</td>\n",
              "      <td>47.48 on 04/01/20</td>\n",
              "      <td>75.16 on 09/02/20</td>\n",
              "      <td>32352858</td>\n",
              "      <td>478451</td>\n",
              "      <td>3363000000</td>\n",
              "      <td>827000000</td>\n",
              "      <td>7.530000e+08</td>\n",
              "      <td>324000000.0</td>\n",
              "      <td>0.78</td>\n",
              "      <td>NaN</td>\n",
              "      <td>9/2/2020</td>\n",
              "      <td>0.174 on 09/03/20</td>\n",
              "      <td>9/3/2020</td>\n",
              "      <td>38.83</td>\n",
              "      <td>32352858000</td>\n",
              "      <td>478451000</td>\n",
              "      <td>1.728495</td>\n",
              "      <td>0.103948</td>\n",
              "    </tr>\n",
              "    <tr>\n",
              "      <th>4</th>\n",
              "      <td>STZ</td>\n",
              "      <td>Constellation Brands Inc</td>\n",
              "      <td>NYSE</td>\n",
              "      <td>181.06</td>\n",
              "      <td>182.24</td>\n",
              "      <td>180.12</td>\n",
              "      <td>181.82</td>\n",
              "      <td>-0.05</td>\n",
              "      <td>0.000</td>\n",
              "      <td>1865212</td>\n",
              "      <td>1114500</td>\n",
              "      <td>181.87</td>\n",
              "      <td>Beverages - Alcohol</td>\n",
              "      <td>Yes</td>\n",
              "      <td>188.50</td>\n",
              "      <td>0.112</td>\n",
              "      <td>0.470</td>\n",
              "      <td>-5.0</td>\n",
              "      <td>64% Buy</td>\n",
              "      <td>64% Buy</td>\n",
              "      <td>64% Buy</td>\n",
              "      <td>-3.19% since 09/18/20</td>\n",
              "      <td>179.79 on 09/24/20</td>\n",
              "      <td>190.48 on 09/23/20</td>\n",
              "      <td>+0.91% since 08/25/20</td>\n",
              "      <td>179.11 on 08/26/20</td>\n",
              "      <td>197.97 on 09/15/20</td>\n",
              "      <td>+4.90% since 06/25/20</td>\n",
              "      <td>166.52 on 06/26/20</td>\n",
              "      <td>197.97 on 09/15/20</td>\n",
              "      <td>+43.61% since 03/25/20</td>\n",
              "      <td>117.72 on 04/02/20</td>\n",
              "      <td>197.97 on 09/15/20</td>\n",
              "      <td>35061992</td>\n",
              "      <td>192839</td>\n",
              "      <td>8343500000</td>\n",
              "      <td>-11800000</td>\n",
              "      <td>1.963400e+09</td>\n",
              "      <td>-177900000.0</td>\n",
              "      <td>0.97</td>\n",
              "      <td>2.44 on 07/01/20</td>\n",
              "      <td>10/1/2020</td>\n",
              "      <td>0.750 on 08/10/20</td>\n",
              "      <td>8/10/2020</td>\n",
              "      <td>19.73</td>\n",
              "      <td>35061992000</td>\n",
              "      <td>192839000</td>\n",
              "      <td>-0.061191</td>\n",
              "      <td>0.237964</td>\n",
              "    </tr>\n",
              "    <tr>\n",
              "      <th>5</th>\n",
              "      <td>SAM</td>\n",
              "      <td>Boston Beer Company</td>\n",
              "      <td>NYSE</td>\n",
              "      <td>868.11</td>\n",
              "      <td>886.23</td>\n",
              "      <td>856.30</td>\n",
              "      <td>875.77</td>\n",
              "      <td>7.09</td>\n",
              "      <td>0.008</td>\n",
              "      <td>73208</td>\n",
              "      <td>135600</td>\n",
              "      <td>868.68</td>\n",
              "      <td>Beverages - Alcohol</td>\n",
              "      <td>Yes</td>\n",
              "      <td>859.08</td>\n",
              "      <td>0.666</td>\n",
              "      <td>0.577</td>\n",
              "      <td>153.0</td>\n",
              "      <td>100% Buy</td>\n",
              "      <td>100% Buy</td>\n",
              "      <td>100% Buy</td>\n",
              "      <td>-0.18% since 09/18/20</td>\n",
              "      <td>856.06 on 09/21/20</td>\n",
              "      <td>935.52 on 09/23/20</td>\n",
              "      <td>+0.01% since 08/25/20</td>\n",
              "      <td>756.86 on 09/04/20</td>\n",
              "      <td>935.52 on 09/23/20</td>\n",
              "      <td>+64.23% since 06/25/20</td>\n",
              "      <td>534.32 on 06/30/20</td>\n",
              "      <td>935.52 on 09/23/20</td>\n",
              "      <td>+154.62% since 03/25/20</td>\n",
              "      <td>338.57 on 03/27/20</td>\n",
              "      <td>935.52 on 09/23/20</td>\n",
              "      <td>10693152</td>\n",
              "      <td>12210</td>\n",
              "      <td>1249820000</td>\n",
              "      <td>110040000</td>\n",
              "      <td>4.521400e+08</td>\n",
              "      <td>60140000.0</td>\n",
              "      <td>1.00</td>\n",
              "      <td>4.88 on 07/23/20</td>\n",
              "      <td>11/3/2020</td>\n",
              "      <td>NaN</td>\n",
              "      <td>NaN</td>\n",
              "      <td>80.21</td>\n",
              "      <td>10693152000</td>\n",
              "      <td>12210000</td>\n",
              "      <td>9.012285</td>\n",
              "      <td>0.116880</td>\n",
              "    </tr>\n",
              "    <tr>\n",
              "      <th>6</th>\n",
              "      <td>TAP</td>\n",
              "      <td>Molson Coors Brewing Company</td>\n",
              "      <td>NYSE</td>\n",
              "      <td>32.87</td>\n",
              "      <td>33.20</td>\n",
              "      <td>32.19</td>\n",
              "      <td>32.65</td>\n",
              "      <td>-0.40</td>\n",
              "      <td>-0.012</td>\n",
              "      <td>2355119</td>\n",
              "      <td>2535425</td>\n",
              "      <td>33.05</td>\n",
              "      <td>Beverages - Alcohol</td>\n",
              "      <td>Yes</td>\n",
              "      <td>35.60</td>\n",
              "      <td>0.082</td>\n",
              "      <td>0.326</td>\n",
              "      <td>-44.5</td>\n",
              "      <td>100% Sell</td>\n",
              "      <td>100% Sell</td>\n",
              "      <td>40% Sell</td>\n",
              "      <td>-4.84% since 09/18/20</td>\n",
              "      <td>32.11 on 09/24/20</td>\n",
              "      <td>34.17 on 09/23/20</td>\n",
              "      <td>-13.21% since 08/25/20</td>\n",
              "      <td>32.11 on 09/24/20</td>\n",
              "      <td>38.71 on 09/03/20</td>\n",
              "      <td>-8.23% since 06/25/20</td>\n",
              "      <td>32.11 on 09/24/20</td>\n",
              "      <td>39.24 on 08/11/20</td>\n",
              "      <td>-13.03% since 03/25/20</td>\n",
              "      <td>32.11 on 09/24/20</td>\n",
              "      <td>48.24 on 04/09/20</td>\n",
              "      <td>7074602</td>\n",
              "      <td>216680</td>\n",
              "      <td>10579400000</td>\n",
              "      <td>241700000</td>\n",
              "      <td>2.503400e+09</td>\n",
              "      <td>195000000.0</td>\n",
              "      <td>0.86</td>\n",
              "      <td>1.55 on 07/30/20</td>\n",
              "      <td>11/4/2020</td>\n",
              "      <td>0.570 on 03/06/20</td>\n",
              "      <td>3/6/2020</td>\n",
              "      <td>7.51</td>\n",
              "      <td>7074602000</td>\n",
              "      <td>216680000</td>\n",
              "      <td>1.115470</td>\n",
              "      <td>1.495406</td>\n",
              "    </tr>\n",
              "  </tbody>\n",
              "</table>\n",
              "</div>"
            ],
            "text/plain": [
              "  Symbol                   Symbol Name  ... Nincome_Shares  Sales_Mcap\n",
              "0    BUD     Anheuser-Busch Inbev S.A.  ...       4.548205    0.491323\n",
              "1    DEO                    Diageo Plc  ...       2.773581    0.178761\n",
              "2   ABEV                    Ambev S.A.  ...       0.189802    0.363733\n",
              "3   BF.A         Brown Forman Inc Cl A  ...       1.728495    0.103948\n",
              "4    STZ      Constellation Brands Inc  ...      -0.061191    0.237964\n",
              "5    SAM           Boston Beer Company  ...       9.012285    0.116880\n",
              "6    TAP  Molson Coors Brewing Company  ...       1.115470    1.495406\n",
              "\n",
              "[7 rows x 49 columns]"
            ]
          },
          "metadata": {
            "tags": []
          },
          "execution_count": 42
        }
      ]
    },
    {
      "cell_type": "code",
      "metadata": {
        "id": "T2Z0m5Vb-W-w"
      },
      "source": [
        "conP_nincome = stk.conp['Annual Net Income'] / stk.conp['Annual Sales']"
      ],
      "execution_count": 43,
      "outputs": []
    },
    {
      "cell_type": "code",
      "metadata": {
        "id": "eejicN_l-7jQ"
      },
      "source": [
        "conP_Nincome_mean = conP_nincome.mean()"
      ],
      "execution_count": 44,
      "outputs": []
    },
    {
      "cell_type": "code",
      "metadata": {
        "id": "JewEavuU-_WC",
        "outputId": "17f0ba82-f103-4007-b98a-4d9c5b559e30",
        "colab": {
          "base_uri": "https://localhost:8080/",
          "height": 34
        }
      },
      "source": [
        "conP_Nincome_mean"
      ],
      "execution_count": 45,
      "outputs": [
        {
          "output_type": "execute_result",
          "data": {
            "text/plain": [
              "0.02400458665807372"
            ]
          },
          "metadata": {
            "tags": []
          },
          "execution_count": 45
        }
      ]
    },
    {
      "cell_type": "code",
      "metadata": {
        "id": "uGifFnA0_AlE",
        "outputId": "4268ce1e-54ba-4c95-e670-879d6bc68ea9",
        "colab": {
          "base_uri": "https://localhost:8080/",
          "height": 205
        }
      },
      "source": [
        "conP_nincome"
      ],
      "execution_count": 46,
      "outputs": [
        {
          "output_type": "execute_result",
          "data": {
            "text/plain": [
              "0    0.116911\n",
              "1   -0.009408\n",
              "2   -0.052070\n",
              "3    0.088689\n",
              "4    0.010973\n",
              "5    0.100220\n",
              "6    0.006024\n",
              "7    0.020485\n",
              "8    0.132066\n",
              "9   -0.173844\n",
              "dtype: float64"
            ]
          },
          "metadata": {
            "tags": []
          },
          "execution_count": 46
        }
      ]
    },
    {
      "cell_type": "code",
      "metadata": {
        "id": "dzGwP1Il_CUS",
        "outputId": "d93048d7-862e-4e4c-a995-b841289b662b",
        "colab": {
          "base_uri": "https://localhost:8080/",
          "height": 926
        }
      },
      "source": [
        "stk.conp.head(10)"
      ],
      "execution_count": 47,
      "outputs": [
        {
          "output_type": "execute_result",
          "data": {
            "text/html": [
              "<div>\n",
              "<style scoped>\n",
              "    .dataframe tbody tr th:only-of-type {\n",
              "        vertical-align: middle;\n",
              "    }\n",
              "\n",
              "    .dataframe tbody tr th {\n",
              "        vertical-align: top;\n",
              "    }\n",
              "\n",
              "    .dataframe thead th {\n",
              "        text-align: right;\n",
              "    }\n",
              "</style>\n",
              "<table border=\"1\" class=\"dataframe\">\n",
              "  <thead>\n",
              "    <tr style=\"text-align: right;\">\n",
              "      <th></th>\n",
              "      <th>Symbol</th>\n",
              "      <th>Symbol Name</th>\n",
              "      <th>Exchange</th>\n",
              "      <th>Open</th>\n",
              "      <th>High</th>\n",
              "      <th>Low</th>\n",
              "      <th>Last</th>\n",
              "      <th>Change</th>\n",
              "      <th>% Change</th>\n",
              "      <th>Volume</th>\n",
              "      <th>20-Day Average Volume</th>\n",
              "      <th>Previous Close</th>\n",
              "      <th>Industry</th>\n",
              "      <th>Has Options</th>\n",
              "      <th>20-Day Moving Average</th>\n",
              "      <th>20-Day Raw Stochastic</th>\n",
              "      <th>20-Day Relative Strength</th>\n",
              "      <th>Weighted Alpha</th>\n",
              "      <th>Today's Opinion</th>\n",
              "      <th>Previous Opinion</th>\n",
              "      <th>Last Month's Opinion</th>\n",
              "      <th>5-Days %Chg</th>\n",
              "      <th>5-Days Low</th>\n",
              "      <th>5-Days High</th>\n",
              "      <th>1-Month %Chg</th>\n",
              "      <th>1-Month Low</th>\n",
              "      <th>1-Month High</th>\n",
              "      <th>3-Month %Chg</th>\n",
              "      <th>3-Month Low</th>\n",
              "      <th>3-Month High</th>\n",
              "      <th>6-Month %Chg</th>\n",
              "      <th>6-Month Low</th>\n",
              "      <th>6-Month High</th>\n",
              "      <th>Market Capitalization, $K</th>\n",
              "      <th>Shares Outstanding, K</th>\n",
              "      <th>Annual Sales</th>\n",
              "      <th>Annual Net Income</th>\n",
              "      <th>Last Quarter Sales</th>\n",
              "      <th>Last Quarter Net Income</th>\n",
              "      <th>60-Month Beta</th>\n",
              "      <th>Most Recent Earnings</th>\n",
              "      <th>Latest Earnings Date</th>\n",
              "      <th>Most Recent Dividend</th>\n",
              "      <th>Next Ex-Dividends Date</th>\n",
              "      <th>Price/Earnings ttm</th>\n",
              "      <th>Real_Mcap</th>\n",
              "      <th>Real_Shares</th>\n",
              "      <th>Nincome_Share</th>\n",
              "      <th>Sales_Mcap</th>\n",
              "    </tr>\n",
              "  </thead>\n",
              "  <tbody>\n",
              "    <tr>\n",
              "      <th>0</th>\n",
              "      <td>KMB</td>\n",
              "      <td>Kimberly-Clark Corp</td>\n",
              "      <td>NYSE</td>\n",
              "      <td>146.01</td>\n",
              "      <td>146.86</td>\n",
              "      <td>145.40</td>\n",
              "      <td>146.42</td>\n",
              "      <td>-0.06</td>\n",
              "      <td>0.000</td>\n",
              "      <td>1013692</td>\n",
              "      <td>1485775</td>\n",
              "      <td>146.48</td>\n",
              "      <td>Consumer Prdts - Misc Staple</td>\n",
              "      <td>Yes</td>\n",
              "      <td>149.62</td>\n",
              "      <td>0.152</td>\n",
              "      <td>0.428</td>\n",
              "      <td>4.7</td>\n",
              "      <td>40% Buy</td>\n",
              "      <td>40% Buy</td>\n",
              "      <td>88% Buy</td>\n",
              "      <td>+0.31% since 09/18/20</td>\n",
              "      <td>144.36 on 09/21/20</td>\n",
              "      <td>147.88 on 09/22/20</td>\n",
              "      <td>-6.17% since 08/25/20</td>\n",
              "      <td>144.36 on 09/21/20</td>\n",
              "      <td>157.91 on 08/31/20</td>\n",
              "      <td>+5.50% since 06/25/20</td>\n",
              "      <td>136.00 on 06/26/20</td>\n",
              "      <td>160.16 on 08/12/20</td>\n",
              "      <td>+25.83% since 03/25/20</td>\n",
              "      <td>116.68 on 03/26/20</td>\n",
              "      <td>160.16 on 08/12/20</td>\n",
              "      <td>49936100</td>\n",
              "      <td>341047</td>\n",
              "      <td>18450000000</td>\n",
              "      <td>2157000000</td>\n",
              "      <td>4612000000</td>\n",
              "      <td>681000000</td>\n",
              "      <td>0.47</td>\n",
              "      <td>2.20 on 07/23/20</td>\n",
              "      <td>10/22/2020</td>\n",
              "      <td>1.070 on 09/03/20</td>\n",
              "      <td>9/3/2020</td>\n",
              "      <td>18.59</td>\n",
              "      <td>49936100000</td>\n",
              "      <td>341047000</td>\n",
              "      <td>6.324641</td>\n",
              "      <td>0.369472</td>\n",
              "    </tr>\n",
              "    <tr>\n",
              "      <th>1</th>\n",
              "      <td>PRPL</td>\n",
              "      <td>Purple Innovation Inc</td>\n",
              "      <td>NASDAQ</td>\n",
              "      <td>23.15</td>\n",
              "      <td>24.49</td>\n",
              "      <td>22.81</td>\n",
              "      <td>24.47</td>\n",
              "      <td>1.34</td>\n",
              "      <td>0.058</td>\n",
              "      <td>1577900</td>\n",
              "      <td>1945730</td>\n",
              "      <td>23.13</td>\n",
              "      <td>Consumer Prdts - Misc Staple</td>\n",
              "      <td>Yes</td>\n",
              "      <td>21.38</td>\n",
              "      <td>0.965</td>\n",
              "      <td>0.597</td>\n",
              "      <td>231.4</td>\n",
              "      <td>88% Buy</td>\n",
              "      <td>88% Buy</td>\n",
              "      <td>56% Buy</td>\n",
              "      <td>+11.13% since 09/18/20</td>\n",
              "      <td>21.18 on 09/22/20</td>\n",
              "      <td>24.74 on 09/23/20</td>\n",
              "      <td>+25.17% since 08/25/20</td>\n",
              "      <td>17.01 on 09/03/20</td>\n",
              "      <td>24.74 on 09/23/20</td>\n",
              "      <td>+34.08% since 06/25/20</td>\n",
              "      <td>16.70 on 06/29/20</td>\n",
              "      <td>27.75 on 08/04/20</td>\n",
              "      <td>+253.10% since 03/25/20</td>\n",
              "      <td>4.50 on 04/03/20</td>\n",
              "      <td>27.75 on 08/04/20</td>\n",
              "      <td>1321576</td>\n",
              "      <td>54008</td>\n",
              "      <td>428360000</td>\n",
              "      <td>-4030000</td>\n",
              "      <td>165100000</td>\n",
              "      <td>-1980000</td>\n",
              "      <td>1.70</td>\n",
              "      <td>-0.29 on 03/09/20</td>\n",
              "      <td>11/4/2020</td>\n",
              "      <td>NaN</td>\n",
              "      <td>NaN</td>\n",
              "      <td>18.65</td>\n",
              "      <td>1321576000</td>\n",
              "      <td>54008000</td>\n",
              "      <td>-0.074619</td>\n",
              "      <td>0.324128</td>\n",
              "    </tr>\n",
              "    <tr>\n",
              "      <th>2</th>\n",
              "      <td>CHWY</td>\n",
              "      <td>Chewy Inc</td>\n",
              "      <td>NYSE</td>\n",
              "      <td>55.73</td>\n",
              "      <td>56.77</td>\n",
              "      <td>55.06</td>\n",
              "      <td>56.00</td>\n",
              "      <td>1.04</td>\n",
              "      <td>0.019</td>\n",
              "      <td>4141448</td>\n",
              "      <td>6340425</td>\n",
              "      <td>54.96</td>\n",
              "      <td>Consumer Prdts - Misc Staple</td>\n",
              "      <td>Yes</td>\n",
              "      <td>58.18</td>\n",
              "      <td>0.201</td>\n",
              "      <td>0.507</td>\n",
              "      <td>103.6</td>\n",
              "      <td>72% Buy</td>\n",
              "      <td>64% Buy</td>\n",
              "      <td>100% Buy</td>\n",
              "      <td>+5.66% since 09/18/20</td>\n",
              "      <td>52.05 on 09/21/20</td>\n",
              "      <td>57.03 on 09/23/20</td>\n",
              "      <td>-1.16% since 08/25/20</td>\n",
              "      <td>51.25 on 09/18/20</td>\n",
              "      <td>74.84 on 09/02/20</td>\n",
              "      <td>+13.27% since 06/25/20</td>\n",
              "      <td>44.31 on 06/30/20</td>\n",
              "      <td>74.84 on 09/02/20</td>\n",
              "      <td>+80.24% since 03/25/20</td>\n",
              "      <td>30.50 on 03/26/20</td>\n",
              "      <td>74.84 on 09/02/20</td>\n",
              "      <td>22771280</td>\n",
              "      <td>406630</td>\n",
              "      <td>4846740000</td>\n",
              "      <td>-252370000</td>\n",
              "      <td>1699860000</td>\n",
              "      <td>-32820000</td>\n",
              "      <td>-0.21</td>\n",
              "      <td>-0.08 on 09/10/20</td>\n",
              "      <td>9/10/2020</td>\n",
              "      <td>NaN</td>\n",
              "      <td>NaN</td>\n",
              "      <td>0.00</td>\n",
              "      <td>22771280000</td>\n",
              "      <td>406630000</td>\n",
              "      <td>-0.620638</td>\n",
              "      <td>0.212844</td>\n",
              "    </tr>\n",
              "    <tr>\n",
              "      <th>3</th>\n",
              "      <td>IFF</td>\n",
              "      <td>International Flavors &amp; Fragrances</td>\n",
              "      <td>NYSE</td>\n",
              "      <td>116.24</td>\n",
              "      <td>119.75</td>\n",
              "      <td>115.86</td>\n",
              "      <td>118.97</td>\n",
              "      <td>2.42</td>\n",
              "      <td>0.021</td>\n",
              "      <td>887446</td>\n",
              "      <td>843550</td>\n",
              "      <td>116.55</td>\n",
              "      <td>Consumer Prdts - Misc Staple</td>\n",
              "      <td>Yes</td>\n",
              "      <td>122.09</td>\n",
              "      <td>0.418</td>\n",
              "      <td>0.428</td>\n",
              "      <td>-11.1</td>\n",
              "      <td>72% Sell</td>\n",
              "      <td>72% Sell</td>\n",
              "      <td>56% Sell</td>\n",
              "      <td>-2.91% since 09/18/20</td>\n",
              "      <td>113.54 on 09/24/20</td>\n",
              "      <td>121.47 on 09/22/20</td>\n",
              "      <td>-3.18% since 08/25/20</td>\n",
              "      <td>113.54 on 09/24/20</td>\n",
              "      <td>126.54 on 09/02/20</td>\n",
              "      <td>-2.80% since 06/25/20</td>\n",
              "      <td>113.54 on 09/24/20</td>\n",
              "      <td>132.75 on 08/11/20</td>\n",
              "      <td>+13.77% since 03/25/20</td>\n",
              "      <td>96.80 on 04/01/20</td>\n",
              "      <td>143.09 on 05/12/20</td>\n",
              "      <td>12721818</td>\n",
              "      <td>106933</td>\n",
              "      <td>5140080000</td>\n",
              "      <td>455870000</td>\n",
              "      <td>1198770000</td>\n",
              "      <td>86200000</td>\n",
              "      <td>0.99</td>\n",
              "      <td>1.36 on 08/10/20</td>\n",
              "      <td>11/2/2020</td>\n",
              "      <td>0.770 on 09/23/20</td>\n",
              "      <td>9/23/2020</td>\n",
              "      <td>19.52</td>\n",
              "      <td>12721818000</td>\n",
              "      <td>106933000</td>\n",
              "      <td>4.263137</td>\n",
              "      <td>0.404037</td>\n",
              "    </tr>\n",
              "    <tr>\n",
              "      <th>4</th>\n",
              "      <td>NWL</td>\n",
              "      <td>Newell Rubbermaid Inc</td>\n",
              "      <td>NASDAQ</td>\n",
              "      <td>16.56</td>\n",
              "      <td>16.83</td>\n",
              "      <td>16.56</td>\n",
              "      <td>16.74</td>\n",
              "      <td>0.02</td>\n",
              "      <td>0.002</td>\n",
              "      <td>1727900</td>\n",
              "      <td>3037310</td>\n",
              "      <td>16.72</td>\n",
              "      <td>Consumer Prdts - Misc Staple</td>\n",
              "      <td>Yes</td>\n",
              "      <td>16.88</td>\n",
              "      <td>0.410</td>\n",
              "      <td>0.497</td>\n",
              "      <td>-8.0</td>\n",
              "      <td>56% Buy</td>\n",
              "      <td>56% Buy</td>\n",
              "      <td>32% Buy</td>\n",
              "      <td>-5.53% since 09/18/20</td>\n",
              "      <td>16.56 on 09/25/20</td>\n",
              "      <td>17.51 on 09/21/20</td>\n",
              "      <td>+3.65% since 08/25/20</td>\n",
              "      <td>15.67 on 09/01/20</td>\n",
              "      <td>18.28 on 09/18/20</td>\n",
              "      <td>+10.20% since 06/25/20</td>\n",
              "      <td>14.81 on 06/26/20</td>\n",
              "      <td>18.28 on 09/18/20</td>\n",
              "      <td>+31.19% since 03/25/20</td>\n",
              "      <td>11.05 on 05/14/20</td>\n",
              "      <td>18.28 on 09/18/20</td>\n",
              "      <td>7102782</td>\n",
              "      <td>424300</td>\n",
              "      <td>9714900000</td>\n",
              "      <td>106600000</td>\n",
              "      <td>2111000000</td>\n",
              "      <td>78000000</td>\n",
              "      <td>1.04</td>\n",
              "      <td>0.18 on 07/31/20</td>\n",
              "      <td>11/6/2020</td>\n",
              "      <td>0.230 on 08/28/20</td>\n",
              "      <td>8/28/2020</td>\n",
              "      <td>10.85</td>\n",
              "      <td>7102782000</td>\n",
              "      <td>424300000</td>\n",
              "      <td>0.251237</td>\n",
              "      <td>1.367760</td>\n",
              "    </tr>\n",
              "    <tr>\n",
              "      <th>5</th>\n",
              "      <td>OLLI</td>\n",
              "      <td>Ollies Bargain CS</td>\n",
              "      <td>NASDAQ</td>\n",
              "      <td>87.68</td>\n",
              "      <td>88.05</td>\n",
              "      <td>85.60</td>\n",
              "      <td>87.53</td>\n",
              "      <td>-0.05</td>\n",
              "      <td>-0.001</td>\n",
              "      <td>576200</td>\n",
              "      <td>1059255</td>\n",
              "      <td>87.58</td>\n",
              "      <td>Consumer Prdts - Misc Staple</td>\n",
              "      <td>Yes</td>\n",
              "      <td>89.60</td>\n",
              "      <td>0.205</td>\n",
              "      <td>0.410</td>\n",
              "      <td>45.3</td>\n",
              "      <td>8% Buy</td>\n",
              "      <td>8% Buy</td>\n",
              "      <td>100% Buy</td>\n",
              "      <td>+3.67% since 09/18/20</td>\n",
              "      <td>83.08 on 09/21/20</td>\n",
              "      <td>89.41 on 09/24/20</td>\n",
              "      <td>-19.84% since 08/25/20</td>\n",
              "      <td>83.08 on 09/21/20</td>\n",
              "      <td>112.58 on 08/26/20</td>\n",
              "      <td>-11.68% since 06/25/20</td>\n",
              "      <td>83.08 on 09/21/20</td>\n",
              "      <td>112.58 on 08/26/20</td>\n",
              "      <td>+110.06% since 03/25/20</td>\n",
              "      <td>40.30 on 03/27/20</td>\n",
              "      <td>112.58 on 08/26/20</td>\n",
              "      <td>5722361</td>\n",
              "      <td>65376</td>\n",
              "      <td>1408200000</td>\n",
              "      <td>141130000</td>\n",
              "      <td>529310000</td>\n",
              "      <td>99380000</td>\n",
              "      <td>1.20</td>\n",
              "      <td>1.04 on 08/27/20</td>\n",
              "      <td>8/27/2020</td>\n",
              "      <td>NaN</td>\n",
              "      <td>NaN</td>\n",
              "      <td>32.68</td>\n",
              "      <td>5722361000</td>\n",
              "      <td>65376000</td>\n",
              "      <td>2.158743</td>\n",
              "      <td>0.246087</td>\n",
              "    </tr>\n",
              "    <tr>\n",
              "      <th>6</th>\n",
              "      <td>GO</td>\n",
              "      <td>Grocery Outlet Holding Corp</td>\n",
              "      <td>NASDAQ</td>\n",
              "      <td>38.01</td>\n",
              "      <td>38.75</td>\n",
              "      <td>37.90</td>\n",
              "      <td>38.49</td>\n",
              "      <td>0.35</td>\n",
              "      <td>0.009</td>\n",
              "      <td>556000</td>\n",
              "      <td>1105835</td>\n",
              "      <td>38.14</td>\n",
              "      <td>Consumer Prdts - Misc Staple</td>\n",
              "      <td>Yes</td>\n",
              "      <td>39.50</td>\n",
              "      <td>0.250</td>\n",
              "      <td>0.444</td>\n",
              "      <td>13.6</td>\n",
              "      <td>24% Buy</td>\n",
              "      <td>24% Buy</td>\n",
              "      <td>56% Buy</td>\n",
              "      <td>+0.92% since 09/18/20</td>\n",
              "      <td>37.32 on 09/24/20</td>\n",
              "      <td>39.55 on 09/23/20</td>\n",
              "      <td>-6.82% since 08/25/20</td>\n",
              "      <td>36.93 on 09/04/20</td>\n",
              "      <td>43.17 on 09/02/20</td>\n",
              "      <td>-0.70% since 06/25/20</td>\n",
              "      <td>36.93 on 09/04/20</td>\n",
              "      <td>46.00 on 08/10/20</td>\n",
              "      <td>+15.07% since 03/25/20</td>\n",
              "      <td>31.81 on 06/09/20</td>\n",
              "      <td>46.00 on 08/10/20</td>\n",
              "      <td>3525722</td>\n",
              "      <td>91601</td>\n",
              "      <td>2559620000</td>\n",
              "      <td>15420000</td>\n",
              "      <td>803430000</td>\n",
              "      <td>29330000</td>\n",
              "      <td>-0.22</td>\n",
              "      <td>0.42 on 08/10/20</td>\n",
              "      <td>11/9/2020</td>\n",
              "      <td>NaN</td>\n",
              "      <td>NaN</td>\n",
              "      <td>31.52</td>\n",
              "      <td>3525722000</td>\n",
              "      <td>91601000</td>\n",
              "      <td>0.168339</td>\n",
              "      <td>0.725985</td>\n",
              "    </tr>\n",
              "    <tr>\n",
              "      <th>7</th>\n",
              "      <td>ENR</td>\n",
              "      <td>Energizer Holdings Inc</td>\n",
              "      <td>NYSE</td>\n",
              "      <td>38.95</td>\n",
              "      <td>39.72</td>\n",
              "      <td>38.87</td>\n",
              "      <td>39.41</td>\n",
              "      <td>0.27</td>\n",
              "      <td>0.007</td>\n",
              "      <td>318723</td>\n",
              "      <td>669750</td>\n",
              "      <td>39.14</td>\n",
              "      <td>Consumer Prdts - Misc Staple</td>\n",
              "      <td>Yes</td>\n",
              "      <td>42.31</td>\n",
              "      <td>0.085</td>\n",
              "      <td>0.327</td>\n",
              "      <td>-22.0</td>\n",
              "      <td>40% Sell</td>\n",
              "      <td>40% Sell</td>\n",
              "      <td>56% Buy</td>\n",
              "      <td>-1.48% since 09/18/20</td>\n",
              "      <td>38.59 on 09/24/20</td>\n",
              "      <td>40.31 on 09/23/20</td>\n",
              "      <td>-16.34% since 08/25/20</td>\n",
              "      <td>38.59 on 09/24/20</td>\n",
              "      <td>48.66 on 08/27/20</td>\n",
              "      <td>-15.63% since 06/25/20</td>\n",
              "      <td>38.59 on 09/24/20</td>\n",
              "      <td>53.19 on 08/04/20</td>\n",
              "      <td>+11.36% since 03/25/20</td>\n",
              "      <td>26.63 on 04/03/20</td>\n",
              "      <td>53.19 on 08/04/20</td>\n",
              "      <td>2700255</td>\n",
              "      <td>68517</td>\n",
              "      <td>2494500000</td>\n",
              "      <td>51100000</td>\n",
              "      <td>658000000</td>\n",
              "      <td>29800000</td>\n",
              "      <td>1.22</td>\n",
              "      <td>0.50 on 08/05/20</td>\n",
              "      <td>11/11/2020</td>\n",
              "      <td>0.300 on 08/19/20</td>\n",
              "      <td>8/19/2020</td>\n",
              "      <td>14.77</td>\n",
              "      <td>2700255000</td>\n",
              "      <td>68517000</td>\n",
              "      <td>0.745800</td>\n",
              "      <td>0.923802</td>\n",
              "    </tr>\n",
              "    <tr>\n",
              "      <th>8</th>\n",
              "      <td>WDFC</td>\n",
              "      <td>W D 40 Company</td>\n",
              "      <td>NASDAQ</td>\n",
              "      <td>192.22</td>\n",
              "      <td>192.67</td>\n",
              "      <td>189.59</td>\n",
              "      <td>190.76</td>\n",
              "      <td>-0.92</td>\n",
              "      <td>-0.005</td>\n",
              "      <td>36800</td>\n",
              "      <td>74925</td>\n",
              "      <td>191.68</td>\n",
              "      <td>Consumer Prdts - Misc Staple</td>\n",
              "      <td>Yes</td>\n",
              "      <td>196.50</td>\n",
              "      <td>0.121</td>\n",
              "      <td>0.433</td>\n",
              "      <td>3.3</td>\n",
              "      <td>24% Buy</td>\n",
              "      <td>40% Buy</td>\n",
              "      <td>88% Buy</td>\n",
              "      <td>-1.71% since 09/18/20</td>\n",
              "      <td>188.47 on 09/23/20</td>\n",
              "      <td>196.03 on 09/22/20</td>\n",
              "      <td>-5.89% since 08/25/20</td>\n",
              "      <td>188.47 on 09/23/20</td>\n",
              "      <td>207.46 on 09/02/20</td>\n",
              "      <td>-2.11% since 06/25/20</td>\n",
              "      <td>183.77 on 07/28/20</td>\n",
              "      <td>207.46 on 09/02/20</td>\n",
              "      <td>+3.95% since 03/25/20</td>\n",
              "      <td>151.16 on 04/13/20</td>\n",
              "      <td>207.46 on 09/02/20</td>\n",
              "      <td>2606734</td>\n",
              "      <td>13665</td>\n",
              "      <td>423350000</td>\n",
              "      <td>55910000</td>\n",
              "      <td>98250000</td>\n",
              "      <td>14520000</td>\n",
              "      <td>-0.11</td>\n",
              "      <td>1.06 on 07/09/20</td>\n",
              "      <td>10/15/2020</td>\n",
              "      <td>0.670 on 07/16/20</td>\n",
              "      <td>7/16/2020</td>\n",
              "      <td>53.10</td>\n",
              "      <td>2606734000</td>\n",
              "      <td>13665000</td>\n",
              "      <td>4.091475</td>\n",
              "      <td>0.162406</td>\n",
              "    </tr>\n",
              "    <tr>\n",
              "      <th>9</th>\n",
              "      <td>EPC</td>\n",
              "      <td>Edgewell Personal Care</td>\n",
              "      <td>NYSE</td>\n",
              "      <td>26.89</td>\n",
              "      <td>27.62</td>\n",
              "      <td>26.89</td>\n",
              "      <td>27.32</td>\n",
              "      <td>0.24</td>\n",
              "      <td>0.009</td>\n",
              "      <td>234241</td>\n",
              "      <td>491945</td>\n",
              "      <td>27.08</td>\n",
              "      <td>Consumer Prdts - Misc Staple</td>\n",
              "      <td>Yes</td>\n",
              "      <td>28.88</td>\n",
              "      <td>0.187</td>\n",
              "      <td>0.416</td>\n",
              "      <td>-15.6</td>\n",
              "      <td>40% Sell</td>\n",
              "      <td>56% Sell</td>\n",
              "      <td>8% Sell</td>\n",
              "      <td>-5.99% since 09/18/20</td>\n",
              "      <td>26.40 on 09/24/20</td>\n",
              "      <td>28.72 on 09/21/20</td>\n",
              "      <td>-6.28% since 08/25/20</td>\n",
              "      <td>26.40 on 09/24/20</td>\n",
              "      <td>31.33 on 09/04/20</td>\n",
              "      <td>-8.38% since 06/25/20</td>\n",
              "      <td>26.40 on 09/24/20</td>\n",
              "      <td>32.37 on 07/08/20</td>\n",
              "      <td>+8.07% since 03/25/20</td>\n",
              "      <td>21.87 on 04/01/20</td>\n",
              "      <td>32.81 on 06/08/20</td>\n",
              "      <td>1484978</td>\n",
              "      <td>54355</td>\n",
              "      <td>2141000000</td>\n",
              "      <td>-372200000</td>\n",
              "      <td>483900000</td>\n",
              "      <td>4700000</td>\n",
              "      <td>0.74</td>\n",
              "      <td>0.66 on 08/04/20</td>\n",
              "      <td>11/10/2020</td>\n",
              "      <td>0.250 on 08/17/15</td>\n",
              "      <td>NaN</td>\n",
              "      <td>9.06</td>\n",
              "      <td>1484978000</td>\n",
              "      <td>54355000</td>\n",
              "      <td>-6.847576</td>\n",
              "      <td>1.441772</td>\n",
              "    </tr>\n",
              "  </tbody>\n",
              "</table>\n",
              "</div>"
            ],
            "text/plain": [
              "  Symbol                         Symbol Name  ... Nincome_Share  Sales_Mcap\n",
              "0    KMB                 Kimberly-Clark Corp  ...      6.324641    0.369472\n",
              "1   PRPL               Purple Innovation Inc  ...     -0.074619    0.324128\n",
              "2   CHWY                           Chewy Inc  ...     -0.620638    0.212844\n",
              "3    IFF  International Flavors & Fragrances  ...      4.263137    0.404037\n",
              "4    NWL               Newell Rubbermaid Inc  ...      0.251237    1.367760\n",
              "5   OLLI                   Ollies Bargain CS  ...      2.158743    0.246087\n",
              "6     GO         Grocery Outlet Holding Corp  ...      0.168339    0.725985\n",
              "7    ENR              Energizer Holdings Inc  ...      0.745800    0.923802\n",
              "8   WDFC                      W D 40 Company  ...      4.091475    0.162406\n",
              "9    EPC              Edgewell Personal Care  ...     -6.847576    1.441772\n",
              "\n",
              "[10 rows x 49 columns]"
            ]
          },
          "metadata": {
            "tags": []
          },
          "execution_count": 47
        }
      ]
    },
    {
      "cell_type": "code",
      "metadata": {
        "id": "5xN8BVSH_G9s"
      },
      "source": [
        ""
      ],
      "execution_count": null,
      "outputs": []
    }
  ]
}