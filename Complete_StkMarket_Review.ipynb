{
  "nbformat": 4,
  "nbformat_minor": 0,
  "metadata": {
    "colab": {
      "name": "Complete_StkMarket_Review.ipynb",
      "provenance": [],
      "collapsed_sections": [],
      "authorship_tag": "ABX9TyN3rmlIkfjO9PS5WiUtshZp",
      "include_colab_link": true
    },
    "kernelspec": {
      "name": "python3",
      "display_name": "Python 3"
    }
  },
  "cells": [
    {
      "cell_type": "markdown",
      "metadata": {
        "id": "view-in-github",
        "colab_type": "text"
      },
      "source": [
        "<a href=\"https://colab.research.google.com/github/Redsoxnc87/Hello-World/blob/master/Complete_StkMarket_Review.ipynb\" target=\"_parent\"><img src=\"https://colab.research.google.com/assets/colab-badge.svg\" alt=\"Open In Colab\"/></a>"
      ]
    },
    {
      "cell_type": "code",
      "metadata": {
        "id": "FqY0ZxiPU04j",
        "colab_type": "code",
        "colab": {}
      },
      "source": [
        "import pandas as pd \n",
        "import numpy as np \n",
        "import math \n",
        "import requests "
      ],
      "execution_count": 1,
      "outputs": []
    },
    {
      "cell_type": "code",
      "metadata": {
        "id": "65xuQywuVIiw",
        "colab_type": "code",
        "colab": {}
      },
      "source": [
        "import operator\n",
        "import pandas.plotting\n",
        "import matplotlib.pyplot as plt\n",
        "%matplotlib inline"
      ],
      "execution_count": 2,
      "outputs": []
    },
    {
      "cell_type": "code",
      "metadata": {
        "id": "WuFfKMO3VRPC",
        "colab_type": "code",
        "colab": {
          "base_uri": "https://localhost:8080/",
          "height": 71
        },
        "outputId": "e7c9d540-b7b4-4677-ade0-dff262fb5de1"
      },
      "source": [
        "import seaborn as sns \n",
        "from pandas import Series, DataFrame\n",
        "from numpy import random, array"
      ],
      "execution_count": 3,
      "outputs": [
        {
          "output_type": "stream",
          "text": [
            "/usr/local/lib/python3.6/dist-packages/statsmodels/tools/_testing.py:19: FutureWarning: pandas.util.testing is deprecated. Use the functions in the public API at pandas.testing instead.\n",
            "  import pandas.util.testing as tm\n"
          ],
          "name": "stderr"
        }
      ]
    },
    {
      "cell_type": "code",
      "metadata": {
        "id": "lXL7pLyRVarl",
        "colab_type": "code",
        "colab": {
          "base_uri": "https://localhost:8080/",
          "height": 102
        },
        "outputId": "b76a6dc1-0d26-4c07-cab9-cc2aaf097b62"
      },
      "source": [
        "!pip install pyxll"
      ],
      "execution_count": 4,
      "outputs": [
        {
          "output_type": "stream",
          "text": [
            "Collecting pyxll\n",
            "\u001b[?25l  Downloading https://files.pythonhosted.org/packages/31/27/d18bbaa42baf9aef30aae913cbdc227434050a43093b4ab7546240b1fcc1/pyxll-4.6.1-cp36-none-any.whl (64kB)\n",
            "\r\u001b[K     |█████                           | 10kB 14.5MB/s eta 0:00:01\r\u001b[K     |██████████▏                     | 20kB 1.8MB/s eta 0:00:01\r\u001b[K     |███████████████▏                | 30kB 2.3MB/s eta 0:00:01\r\u001b[K     |████████████████████▎           | 40kB 2.6MB/s eta 0:00:01\r\u001b[K     |█████████████████████████▍      | 51kB 2.0MB/s eta 0:00:01\r\u001b[K     |██████████████████████████████▍ | 61kB 2.3MB/s eta 0:00:01\r\u001b[K     |████████████████████████████████| 71kB 1.8MB/s \n",
            "\u001b[?25hInstalling collected packages: pyxll\n",
            "Successfully installed pyxll-4.6.1\n"
          ],
          "name": "stdout"
        }
      ]
    },
    {
      "cell_type": "code",
      "metadata": {
        "id": "dZwkVQd0Wcga",
        "colab_type": "code",
        "colab": {}
      },
      "source": [
        "import pyxll"
      ],
      "execution_count": 5,
      "outputs": []
    },
    {
      "cell_type": "code",
      "metadata": {
        "id": "ABaORBpdWoPO",
        "colab_type": "code",
        "colab": {}
      },
      "source": [
        "from pyxll import xl_func"
      ],
      "execution_count": 6,
      "outputs": []
    },
    {
      "cell_type": "code",
      "metadata": {
        "id": "7_WkeJVuWwdS",
        "colab_type": "code",
        "colab": {}
      },
      "source": [
        "bchart = pd.read_csv('Bcharts_Total_Market.csv')"
      ],
      "execution_count": 7,
      "outputs": []
    },
    {
      "cell_type": "code",
      "metadata": {
        "id": "8b_DQQbIZw2J",
        "colab_type": "code",
        "colab": {}
      },
      "source": [
        "tview = pd.read_csv('Tview_Total_Market.csv')"
      ],
      "execution_count": 8,
      "outputs": []
    },
    {
      "cell_type": "code",
      "metadata": {
        "id": "oggD4zdrZ3DQ",
        "colab_type": "code",
        "colab": {
          "base_uri": "https://localhost:8080/",
          "height": 282
        },
        "outputId": "6661bd5d-58df-4343-a960-2146a0589440"
      },
      "source": [
        "bchart.describe()"
      ],
      "execution_count": 9,
      "outputs": [
        {
          "output_type": "execute_result",
          "data": {
            "text/html": [
              "<div>\n",
              "<style scoped>\n",
              "    .dataframe tbody tr th:only-of-type {\n",
              "        vertical-align: middle;\n",
              "    }\n",
              "\n",
              "    .dataframe tbody tr th {\n",
              "        vertical-align: top;\n",
              "    }\n",
              "\n",
              "    .dataframe thead th {\n",
              "        text-align: right;\n",
              "    }\n",
              "</style>\n",
              "<table border=\"1\" class=\"dataframe\">\n",
              "  <thead>\n",
              "    <tr style=\"text-align: right;\">\n",
              "      <th></th>\n",
              "      <th>Last</th>\n",
              "    </tr>\n",
              "  </thead>\n",
              "  <tbody>\n",
              "    <tr>\n",
              "      <th>count</th>\n",
              "      <td>4755.000000</td>\n",
              "    </tr>\n",
              "    <tr>\n",
              "      <th>mean</th>\n",
              "      <td>107.591474</td>\n",
              "    </tr>\n",
              "    <tr>\n",
              "      <th>std</th>\n",
              "      <td>4566.712954</td>\n",
              "    </tr>\n",
              "    <tr>\n",
              "      <th>min</th>\n",
              "      <td>0.090000</td>\n",
              "    </tr>\n",
              "    <tr>\n",
              "      <th>25%</th>\n",
              "      <td>5.110000</td>\n",
              "    </tr>\n",
              "    <tr>\n",
              "      <th>50%</th>\n",
              "      <td>14.570000</td>\n",
              "    </tr>\n",
              "    <tr>\n",
              "      <th>75%</th>\n",
              "      <td>39.520000</td>\n",
              "    </tr>\n",
              "    <tr>\n",
              "      <th>max</th>\n",
              "      <td>314840.000000</td>\n",
              "    </tr>\n",
              "  </tbody>\n",
              "</table>\n",
              "</div>"
            ],
            "text/plain": [
              "                Last\n",
              "count    4755.000000\n",
              "mean      107.591474\n",
              "std      4566.712954\n",
              "min         0.090000\n",
              "25%         5.110000\n",
              "50%        14.570000\n",
              "75%        39.520000\n",
              "max    314840.000000"
            ]
          },
          "metadata": {
            "tags": []
          },
          "execution_count": 9
        }
      ]
    },
    {
      "cell_type": "code",
      "metadata": {
        "id": "IWJ_1hZ2Z776",
        "colab_type": "code",
        "colab": {}
      },
      "source": [
        "Blist = list(range(0,4755))"
      ],
      "execution_count": 10,
      "outputs": []
    },
    {
      "cell_type": "code",
      "metadata": {
        "id": "8cTuuTNvaBOc",
        "colab_type": "code",
        "colab": {
          "base_uri": "https://localhost:8080/",
          "height": 282
        },
        "outputId": "a2d1e0df-82bd-40f3-e0ff-9e94507add5d"
      },
      "source": [
        "tview.describe()"
      ],
      "execution_count": 11,
      "outputs": [
        {
          "output_type": "execute_result",
          "data": {
            "text/html": [
              "<div>\n",
              "<style scoped>\n",
              "    .dataframe tbody tr th:only-of-type {\n",
              "        vertical-align: middle;\n",
              "    }\n",
              "\n",
              "    .dataframe tbody tr th {\n",
              "        vertical-align: top;\n",
              "    }\n",
              "\n",
              "    .dataframe thead th {\n",
              "        text-align: right;\n",
              "    }\n",
              "</style>\n",
              "<table border=\"1\" class=\"dataframe\">\n",
              "  <thead>\n",
              "    <tr style=\"text-align: right;\">\n",
              "      <th></th>\n",
              "      <th>Last</th>\n",
              "      <th>Change %</th>\n",
              "      <th>Change</th>\n",
              "      <th>Volume</th>\n",
              "      <th>Market Capitalization</th>\n",
              "      <th>Price to Earnings Ratio (TTM)</th>\n",
              "      <th>Basic EPS (TTM)</th>\n",
              "      <th>Number of Employees</th>\n",
              "    </tr>\n",
              "  </thead>\n",
              "  <tbody>\n",
              "    <tr>\n",
              "      <th>count</th>\n",
              "      <td>4344.000000</td>\n",
              "      <td>4302.000000</td>\n",
              "      <td>4302.000000</td>\n",
              "      <td>4.344000e+03</td>\n",
              "      <td>4.283000e+03</td>\n",
              "      <td>2087.000000</td>\n",
              "      <td>4112.000000</td>\n",
              "      <td>3.969000e+03</td>\n",
              "    </tr>\n",
              "    <tr>\n",
              "      <th>mean</th>\n",
              "      <td>114.772964</td>\n",
              "      <td>-6.037642</td>\n",
              "      <td>-5.726102</td>\n",
              "      <td>2.596556e+07</td>\n",
              "      <td>8.995027e+09</td>\n",
              "      <td>139.028799</td>\n",
              "      <td>0.250260</td>\n",
              "      <td>1.144673e+04</td>\n",
              "    </tr>\n",
              "    <tr>\n",
              "      <th>std</th>\n",
              "      <td>4777.815886</td>\n",
              "      <td>21.933184</td>\n",
              "      <td>194.368065</td>\n",
              "      <td>8.933427e+07</td>\n",
              "      <td>5.619982e+10</td>\n",
              "      <td>3040.037620</td>\n",
              "      <td>296.455202</td>\n",
              "      <td>5.169723e+04</td>\n",
              "    </tr>\n",
              "    <tr>\n",
              "      <th>min</th>\n",
              "      <td>0.085800</td>\n",
              "      <td>-83.791000</td>\n",
              "      <td>-12720.000000</td>\n",
              "      <td>4.280000e+02</td>\n",
              "      <td>2.588000e+03</td>\n",
              "      <td>0.931000</td>\n",
              "      <td>-13176.996000</td>\n",
              "      <td>0.000000e+00</td>\n",
              "    </tr>\n",
              "    <tr>\n",
              "      <th>25%</th>\n",
              "      <td>5.650000</td>\n",
              "      <td>-13.056000</td>\n",
              "      <td>-2.957500</td>\n",
              "      <td>1.703728e+06</td>\n",
              "      <td>1.413351e+08</td>\n",
              "      <td>11.173000</td>\n",
              "      <td>-1.138000</td>\n",
              "      <td>1.630000e+02</td>\n",
              "    </tr>\n",
              "    <tr>\n",
              "      <th>50%</th>\n",
              "      <td>14.610000</td>\n",
              "      <td>-7.031000</td>\n",
              "      <td>-0.800000</td>\n",
              "      <td>6.119012e+06</td>\n",
              "      <td>6.304533e+08</td>\n",
              "      <td>20.319000</td>\n",
              "      <td>0.030000</td>\n",
              "      <td>1.111000e+03</td>\n",
              "    </tr>\n",
              "    <tr>\n",
              "      <th>75%</th>\n",
              "      <td>40.102500</td>\n",
              "      <td>-0.782250</td>\n",
              "      <td>-0.050000</td>\n",
              "      <td>1.932875e+07</td>\n",
              "      <td>3.317614e+09</td>\n",
              "      <td>39.799000</td>\n",
              "      <td>1.781750</td>\n",
              "      <td>6.100000e+03</td>\n",
              "    </tr>\n",
              "    <tr>\n",
              "      <th>max</th>\n",
              "      <td>314840.000000</td>\n",
              "      <td>1117.391000</td>\n",
              "      <td>175.430000</td>\n",
              "      <td>3.188045e+09</td>\n",
              "      <td>1.857172e+12</td>\n",
              "      <td>136980.000000</td>\n",
              "      <td>13689.000000</td>\n",
              "      <td>2.200000e+06</td>\n",
              "    </tr>\n",
              "  </tbody>\n",
              "</table>\n",
              "</div>"
            ],
            "text/plain": [
              "                Last     Change %  ...  Basic EPS (TTM)  Number of Employees\n",
              "count    4344.000000  4302.000000  ...      4112.000000         3.969000e+03\n",
              "mean      114.772964    -6.037642  ...         0.250260         1.144673e+04\n",
              "std      4777.815886    21.933184  ...       296.455202         5.169723e+04\n",
              "min         0.085800   -83.791000  ...    -13176.996000         0.000000e+00\n",
              "25%         5.650000   -13.056000  ...        -1.138000         1.630000e+02\n",
              "50%        14.610000    -7.031000  ...         0.030000         1.111000e+03\n",
              "75%        40.102500    -0.782250  ...         1.781750         6.100000e+03\n",
              "max    314840.000000  1117.391000  ...     13689.000000         2.200000e+06\n",
              "\n",
              "[8 rows x 8 columns]"
            ]
          },
          "metadata": {
            "tags": []
          },
          "execution_count": 11
        }
      ]
    },
    {
      "cell_type": "code",
      "metadata": {
        "id": "ZQQ0VnK0aD4l",
        "colab_type": "code",
        "colab": {}
      },
      "source": [
        "Tlist = list(range(0,4344))"
      ],
      "execution_count": 12,
      "outputs": []
    },
    {
      "cell_type": "code",
      "metadata": {
        "id": "1OoTvsfqaJvY",
        "colab_type": "code",
        "colab": {
          "base_uri": "https://localhost:8080/",
          "height": 194
        },
        "outputId": "510ca7f3-0b60-4b0c-e814-31f9fcf7b253"
      },
      "source": [
        "bchart.head()"
      ],
      "execution_count": 13,
      "outputs": [
        {
          "output_type": "execute_result",
          "data": {
            "text/html": [
              "<div>\n",
              "<style scoped>\n",
              "    .dataframe tbody tr th:only-of-type {\n",
              "        vertical-align: middle;\n",
              "    }\n",
              "\n",
              "    .dataframe tbody tr th {\n",
              "        vertical-align: top;\n",
              "    }\n",
              "\n",
              "    .dataframe thead th {\n",
              "        text-align: right;\n",
              "    }\n",
              "</style>\n",
              "<table border=\"1\" class=\"dataframe\">\n",
              "  <thead>\n",
              "    <tr style=\"text-align: right;\">\n",
              "      <th></th>\n",
              "      <th>Symbol</th>\n",
              "      <th>Name</th>\n",
              "      <th>Exchange</th>\n",
              "      <th>Last</th>\n",
              "      <th>Industry</th>\n",
              "      <th>Sector</th>\n",
              "      <th>SIC Description</th>\n",
              "    </tr>\n",
              "  </thead>\n",
              "  <tbody>\n",
              "    <tr>\n",
              "      <th>0</th>\n",
              "      <td>A</td>\n",
              "      <td>Agilent Technologies</td>\n",
              "      <td>NYSE</td>\n",
              "      <td>96.91</td>\n",
              "      <td>Electronic Test Equipment</td>\n",
              "      <td>Computers and Technology</td>\n",
              "      <td>NaN</td>\n",
              "    </tr>\n",
              "    <tr>\n",
              "      <th>1</th>\n",
              "      <td>AA</td>\n",
              "      <td>Alcoa Corp</td>\n",
              "      <td>NYSE</td>\n",
              "      <td>11.64</td>\n",
              "      <td>Metal Products - Distribution</td>\n",
              "      <td>Basic Materials</td>\n",
              "      <td>SIC-3334 Primary Production of Aluminium</td>\n",
              "    </tr>\n",
              "    <tr>\n",
              "      <th>2</th>\n",
              "      <td>AACG</td>\n",
              "      <td>Ata Creativity Global</td>\n",
              "      <td>NASDAQ</td>\n",
              "      <td>1.08</td>\n",
              "      <td>Schools</td>\n",
              "      <td>Consumer Discretionary</td>\n",
              "      <td>SIC-8200 Services-Educational Services</td>\n",
              "    </tr>\n",
              "    <tr>\n",
              "      <th>3</th>\n",
              "      <td>AAL</td>\n",
              "      <td>American Airlines Gp</td>\n",
              "      <td>NASDAQ</td>\n",
              "      <td>11.93</td>\n",
              "      <td>Transportation - Airline</td>\n",
              "      <td>Transportation</td>\n",
              "      <td>NaN</td>\n",
              "    </tr>\n",
              "    <tr>\n",
              "      <th>4</th>\n",
              "      <td>AAME</td>\n",
              "      <td>Atlantic Amer Cp</td>\n",
              "      <td>NASDAQ</td>\n",
              "      <td>1.98</td>\n",
              "      <td>Insurance - Accident &amp; Health</td>\n",
              "      <td>Finance</td>\n",
              "      <td>SIC-6311 Life Insurance</td>\n",
              "    </tr>\n",
              "  </tbody>\n",
              "</table>\n",
              "</div>"
            ],
            "text/plain": [
              "  Symbol  ...                           SIC Description\n",
              "0      A  ...                                       NaN\n",
              "1     AA  ...  SIC-3334 Primary Production of Aluminium\n",
              "2   AACG  ...    SIC-8200 Services-Educational Services\n",
              "3    AAL  ...                                       NaN\n",
              "4   AAME  ...                   SIC-6311 Life Insurance\n",
              "\n",
              "[5 rows x 7 columns]"
            ]
          },
          "metadata": {
            "tags": []
          },
          "execution_count": 13
        }
      ]
    },
    {
      "cell_type": "code",
      "metadata": {
        "id": "hdxlatsoaNWC",
        "colab_type": "code",
        "colab": {
          "base_uri": "https://localhost:8080/",
          "height": 228
        },
        "outputId": "75d99d5c-dee5-49f5-b097-d008c53ed758"
      },
      "source": [
        "tview.head()"
      ],
      "execution_count": 14,
      "outputs": [
        {
          "output_type": "execute_result",
          "data": {
            "text/html": [
              "<div>\n",
              "<style scoped>\n",
              "    .dataframe tbody tr th:only-of-type {\n",
              "        vertical-align: middle;\n",
              "    }\n",
              "\n",
              "    .dataframe tbody tr th {\n",
              "        vertical-align: top;\n",
              "    }\n",
              "\n",
              "    .dataframe thead th {\n",
              "        text-align: right;\n",
              "    }\n",
              "</style>\n",
              "<table border=\"1\" class=\"dataframe\">\n",
              "  <thead>\n",
              "    <tr style=\"text-align: right;\">\n",
              "      <th></th>\n",
              "      <th>Ticker</th>\n",
              "      <th>Last</th>\n",
              "      <th>Change %</th>\n",
              "      <th>Change</th>\n",
              "      <th>Rating</th>\n",
              "      <th>Volume</th>\n",
              "      <th>Market Capitalization</th>\n",
              "      <th>Price to Earnings Ratio (TTM)</th>\n",
              "      <th>Basic EPS (TTM)</th>\n",
              "      <th>Number of Employees</th>\n",
              "      <th>Sector</th>\n",
              "    </tr>\n",
              "  </thead>\n",
              "  <tbody>\n",
              "    <tr>\n",
              "      <th>0</th>\n",
              "      <td>A</td>\n",
              "      <td>96.91</td>\n",
              "      <td>-3.495</td>\n",
              "      <td>-3.51</td>\n",
              "      <td>Buy</td>\n",
              "      <td>21809133</td>\n",
              "      <td>2.987832e+10</td>\n",
              "      <td>44.61</td>\n",
              "      <td>2.234</td>\n",
              "      <td>16300.0</td>\n",
              "      <td>Health Technology</td>\n",
              "    </tr>\n",
              "    <tr>\n",
              "      <th>1</th>\n",
              "      <td>AA</td>\n",
              "      <td>11.64</td>\n",
              "      <td>-20.383</td>\n",
              "      <td>-2.98</td>\n",
              "      <td>Sell</td>\n",
              "      <td>80323763</td>\n",
              "      <td>2.164155e+09</td>\n",
              "      <td>NaN</td>\n",
              "      <td>-3.450</td>\n",
              "      <td>13800.0</td>\n",
              "      <td>Non-Energy Minerals</td>\n",
              "    </tr>\n",
              "    <tr>\n",
              "      <th>2</th>\n",
              "      <td>AACQ</td>\n",
              "      <td>9.95</td>\n",
              "      <td>NaN</td>\n",
              "      <td>NaN</td>\n",
              "      <td>NaN</td>\n",
              "      <td>5013665</td>\n",
              "      <td>NaN</td>\n",
              "      <td>NaN</td>\n",
              "      <td>NaN</td>\n",
              "      <td>NaN</td>\n",
              "      <td>Finance</td>\n",
              "    </tr>\n",
              "    <tr>\n",
              "      <th>3</th>\n",
              "      <td>AAL</td>\n",
              "      <td>11.93</td>\n",
              "      <td>-8.582</td>\n",
              "      <td>-1.12</td>\n",
              "      <td>Sell</td>\n",
              "      <td>930934083</td>\n",
              "      <td>6.067145e+09</td>\n",
              "      <td>NaN</td>\n",
              "      <td>-8.170</td>\n",
              "      <td>133700.0</td>\n",
              "      <td>Transportation</td>\n",
              "    </tr>\n",
              "    <tr>\n",
              "      <th>4</th>\n",
              "      <td>AAMC</td>\n",
              "      <td>20.65</td>\n",
              "      <td>-12.854</td>\n",
              "      <td>-3.05</td>\n",
              "      <td>Buy</td>\n",
              "      <td>228105</td>\n",
              "      <td>3.370328e+07</td>\n",
              "      <td>NaN</td>\n",
              "      <td>-10.403</td>\n",
              "      <td>109.0</td>\n",
              "      <td>Finance</td>\n",
              "    </tr>\n",
              "  </tbody>\n",
              "</table>\n",
              "</div>"
            ],
            "text/plain": [
              "  Ticker   Last  ...  Number of Employees               Sector\n",
              "0      A  96.91  ...              16300.0    Health Technology\n",
              "1     AA  11.64  ...              13800.0  Non-Energy Minerals\n",
              "2   AACQ   9.95  ...                  NaN              Finance\n",
              "3    AAL  11.93  ...             133700.0       Transportation\n",
              "4   AAMC  20.65  ...                109.0              Finance\n",
              "\n",
              "[5 rows x 11 columns]"
            ]
          },
          "metadata": {
            "tags": []
          },
          "execution_count": 14
        }
      ]
    },
    {
      "cell_type": "code",
      "metadata": {
        "id": "sXos5GeoaPQ6",
        "colab_type": "code",
        "colab": {
          "base_uri": "https://localhost:8080/",
          "height": 308
        },
        "outputId": "afc57d21-0807-45d9-d07d-55e0d97c79f3"
      },
      "source": [
        "bchart.Sector.value_counts()"
      ],
      "execution_count": 15,
      "outputs": [
        {
          "output_type": "execute_result",
          "data": {
            "text/plain": [
              "Medical                     980\n",
              "Finance                     973\n",
              "Computers and Technology    666\n",
              "Oils-Energy                 289\n",
              "Consumer Discretionary      256\n",
              "Basic Materials             245\n",
              "Business Services           245\n",
              "Retail-Wholesale            212\n",
              "Consumer Staples            194\n",
              "Industrial Products         193\n",
              "Transportation              144\n",
              "Utilities                   120\n",
              "Construction                107\n",
              "Auto-Tires-Trucks            73\n",
              "Aerospace                    40\n",
              "Conglomerates                18\n",
              "Name: Sector, dtype: int64"
            ]
          },
          "metadata": {
            "tags": []
          },
          "execution_count": 15
        }
      ]
    },
    {
      "cell_type": "code",
      "metadata": {
        "id": "C7jG_K5CajTT",
        "colab_type": "code",
        "colab": {
          "base_uri": "https://localhost:8080/",
          "height": 376
        },
        "outputId": "ecd7674a-8eeb-4dd5-d733-7a8a975bd6d4"
      },
      "source": [
        "tview.Sector.value_counts()"
      ],
      "execution_count": 16,
      "outputs": [
        {
          "output_type": "execute_result",
          "data": {
            "text/plain": [
              "Finance                   912\n",
              "Health Technology         781\n",
              "Technology Services       354\n",
              "Electronic Technology     301\n",
              "Producer Manufacturing    254\n",
              "Consumer Services         219\n",
              "Commercial Services       184\n",
              "Process Industries        158\n",
              "Industrial Services       141\n",
              "Retail Trade              137\n",
              "Consumer Non-Durables     133\n",
              "Energy Minerals           122\n",
              "Non-Energy Minerals       122\n",
              "Consumer Durables         114\n",
              "Transportation            109\n",
              "Utilities                  93\n",
              "Distribution Services      75\n",
              "Health Services            74\n",
              "Communications             37\n",
              "Miscellaneous              22\n",
              "Name: Sector, dtype: int64"
            ]
          },
          "metadata": {
            "tags": []
          },
          "execution_count": 16
        }
      ]
    },
    {
      "cell_type": "code",
      "metadata": {
        "id": "2PwYih85aoXl",
        "colab_type": "code",
        "colab": {}
      },
      "source": [
        "Symbols = bchart.Symbol.to_list()"
      ],
      "execution_count": 25,
      "outputs": []
    },
    {
      "cell_type": "code",
      "metadata": {
        "id": "PZU8zUTkdchj",
        "colab_type": "code",
        "colab": {
          "base_uri": "https://localhost:8080/",
          "height": 34
        },
        "outputId": "cee7b1bf-5b28-48ed-9a36-c3004cf9c89a"
      },
      "source": [
        "len(Symbols)"
      ],
      "execution_count": 26,
      "outputs": [
        {
          "output_type": "execute_result",
          "data": {
            "text/plain": [
              "4756"
            ]
          },
          "metadata": {
            "tags": []
          },
          "execution_count": 26
        }
      ]
    },
    {
      "cell_type": "code",
      "metadata": {
        "id": "8xCYHL_yd0Gl",
        "colab_type": "code",
        "colab": {}
      },
      "source": [
        "Tickers = tview.Ticker.to_list()"
      ],
      "execution_count": 27,
      "outputs": []
    },
    {
      "cell_type": "code",
      "metadata": {
        "id": "MXQqDakCd4p2",
        "colab_type": "code",
        "colab": {
          "base_uri": "https://localhost:8080/",
          "height": 34
        },
        "outputId": "bf10c0e0-f5ab-4367-8a46-b02d169558fe"
      },
      "source": [
        "len(Tickers)"
      ],
      "execution_count": 28,
      "outputs": [
        {
          "output_type": "execute_result",
          "data": {
            "text/plain": [
              "4344"
            ]
          },
          "metadata": {
            "tags": []
          },
          "execution_count": 28
        }
      ]
    },
    {
      "cell_type": "code",
      "metadata": {
        "id": "kaG_hG8md96p",
        "colab_type": "code",
        "colab": {}
      },
      "source": [
        "Finance_Tview = tview.loc[(tview['Sector'])=='Finance']"
      ],
      "execution_count": 31,
      "outputs": []
    },
    {
      "cell_type": "code",
      "metadata": {
        "id": "5nbBOU_ceGe1",
        "colab_type": "code",
        "colab": {
          "base_uri": "https://localhost:8080/",
          "height": 34
        },
        "outputId": "cd739f45-bb84-4051-9127-41af6bab6b21"
      },
      "source": [
        "len(Finance_Tview)"
      ],
      "execution_count": 32,
      "outputs": [
        {
          "output_type": "execute_result",
          "data": {
            "text/plain": [
              "912"
            ]
          },
          "metadata": {
            "tags": []
          },
          "execution_count": 32
        }
      ]
    },
    {
      "cell_type": "code",
      "metadata": {
        "id": "7eFtfkY_eh7p",
        "colab_type": "code",
        "colab": {}
      },
      "source": [
        "Financial_Employees = Finance_Tview['Number of Employees'].sum()"
      ],
      "execution_count": 34,
      "outputs": []
    },
    {
      "cell_type": "code",
      "metadata": {
        "id": "Z7p1L-EtepZ0",
        "colab_type": "code",
        "colab": {}
      },
      "source": [
        "Health_Tech_Tview = tview.loc[(tview['Sector'])=='Health Technology']"
      ],
      "execution_count": 35,
      "outputs": []
    },
    {
      "cell_type": "code",
      "metadata": {
        "id": "6tIOf93ifc3a",
        "colab_type": "code",
        "colab": {
          "base_uri": "https://localhost:8080/",
          "height": 34
        },
        "outputId": "9cdba8d6-28f9-4ad1-ca2f-8a0c70a3a83a"
      },
      "source": [
        "len(Health_Tech_Tview)"
      ],
      "execution_count": 36,
      "outputs": [
        {
          "output_type": "execute_result",
          "data": {
            "text/plain": [
              "781"
            ]
          },
          "metadata": {
            "tags": []
          },
          "execution_count": 36
        }
      ]
    },
    {
      "cell_type": "code",
      "metadata": {
        "id": "0sqRtAi2fe0z",
        "colab_type": "code",
        "colab": {}
      },
      "source": [
        "HealthTech_Employee = Health_Tech_Tview['Number of Employees'].sum()"
      ],
      "execution_count": 37,
      "outputs": []
    },
    {
      "cell_type": "code",
      "metadata": {
        "id": "c9poeljSfqQo",
        "colab_type": "code",
        "colab": {
          "base_uri": "https://localhost:8080/",
          "height": 34
        },
        "outputId": "3abdb927-8a92-4f8e-9c1a-79ab61684728"
      },
      "source": [
        "HealthTech_Employee"
      ],
      "execution_count": 38,
      "outputs": [
        {
          "output_type": "execute_result",
          "data": {
            "text/plain": [
              "1586706.5"
            ]
          },
          "metadata": {
            "tags": []
          },
          "execution_count": 38
        }
      ]
    },
    {
      "cell_type": "code",
      "metadata": {
        "id": "VF9LXuLQfudy",
        "colab_type": "code",
        "colab": {}
      },
      "source": [
        "Tech_Services_Tview = tview.loc[(tview['Sector'])=='Technology Services']"
      ],
      "execution_count": 39,
      "outputs": []
    },
    {
      "cell_type": "code",
      "metadata": {
        "id": "Zmzf3487f_jx",
        "colab_type": "code",
        "colab": {
          "base_uri": "https://localhost:8080/",
          "height": 34
        },
        "outputId": "f02ebd97-24c9-4f9d-9e2f-b6944c63cbb4"
      },
      "source": [
        "len(Tech_Services_Tview)"
      ],
      "execution_count": 40,
      "outputs": [
        {
          "output_type": "execute_result",
          "data": {
            "text/plain": [
              "354"
            ]
          },
          "metadata": {
            "tags": []
          },
          "execution_count": 40
        }
      ]
    },
    {
      "cell_type": "code",
      "metadata": {
        "id": "FAukqLssgBJS",
        "colab_type": "code",
        "colab": {}
      },
      "source": [
        "TechServices_Employees = Tech_Services_Tview['Number of Employees'].sum()"
      ],
      "execution_count": 41,
      "outputs": []
    },
    {
      "cell_type": "code",
      "metadata": {
        "id": "C-ZhSDGIgITQ",
        "colab_type": "code",
        "colab": {
          "base_uri": "https://localhost:8080/",
          "height": 34
        },
        "outputId": "84c2a4e5-0a40-4ca7-b3e6-1c696a976bbd"
      },
      "source": [
        "TechServices_Employees\n"
      ],
      "execution_count": 42,
      "outputs": [
        {
          "output_type": "execute_result",
          "data": {
            "text/plain": [
              "3486027.0"
            ]
          },
          "metadata": {
            "tags": []
          },
          "execution_count": 42
        }
      ]
    },
    {
      "cell_type": "code",
      "metadata": {
        "id": "E99w2f5lgLxO",
        "colab_type": "code",
        "colab": {}
      },
      "source": [
        "ElectronicTechnology_Tview = tview.loc[(tview['Sector'])=='Electronic Technology']"
      ],
      "execution_count": 43,
      "outputs": []
    },
    {
      "cell_type": "code",
      "metadata": {
        "id": "BFfWF9Mggadl",
        "colab_type": "code",
        "colab": {
          "base_uri": "https://localhost:8080/",
          "height": 34
        },
        "outputId": "e7652828-966b-4f55-8b09-efb3d7917e50"
      },
      "source": [
        "len(ElectronicTechnology_Tview)"
      ],
      "execution_count": 44,
      "outputs": [
        {
          "output_type": "execute_result",
          "data": {
            "text/plain": [
              "301"
            ]
          },
          "metadata": {
            "tags": []
          },
          "execution_count": 44
        }
      ]
    },
    {
      "cell_type": "code",
      "metadata": {
        "id": "vH139_l4gb69",
        "colab_type": "code",
        "colab": {}
      },
      "source": [
        "ElectronicTech_Employees = ElectronicTechnology_Tview['Number of Employees'].sum()"
      ],
      "execution_count": 45,
      "outputs": []
    },
    {
      "cell_type": "code",
      "metadata": {
        "id": "g8yw0nAfglj5",
        "colab_type": "code",
        "colab": {}
      },
      "source": [
        "ProducerMFG_Tview = tview.loc[(tview['Sector'])=='Producer Manufacturing']"
      ],
      "execution_count": 48,
      "outputs": []
    },
    {
      "cell_type": "code",
      "metadata": {
        "id": "RIaGMTrXg6Gy",
        "colab_type": "code",
        "colab": {
          "base_uri": "https://localhost:8080/",
          "height": 34
        },
        "outputId": "8285a9bc-95bc-440c-a4c5-cf5c17470040"
      },
      "source": [
        "len(ProducerMFG_Tview)"
      ],
      "execution_count": 49,
      "outputs": [
        {
          "output_type": "execute_result",
          "data": {
            "text/plain": [
              "254"
            ]
          },
          "metadata": {
            "tags": []
          },
          "execution_count": 49
        }
      ]
    },
    {
      "cell_type": "code",
      "metadata": {
        "id": "MwRMzYyzg8TT",
        "colab_type": "code",
        "colab": {}
      },
      "source": [
        "ProducerMFG_Employees = ProducerMFG_Tview['Number of Employees'].sum()"
      ],
      "execution_count": 50,
      "outputs": []
    },
    {
      "cell_type": "code",
      "metadata": {
        "id": "4b3rlToNhLyi",
        "colab_type": "code",
        "colab": {}
      },
      "source": [
        "ConsumerServices_Tview = tview.loc[(tview['Sector'])=='Consumer Services']"
      ],
      "execution_count": 51,
      "outputs": []
    },
    {
      "cell_type": "code",
      "metadata": {
        "id": "mPiFHZb_hZlZ",
        "colab_type": "code",
        "colab": {
          "base_uri": "https://localhost:8080/",
          "height": 34
        },
        "outputId": "cd618203-6f78-43da-8aef-f63c923f782a"
      },
      "source": [
        "len(ConsumerServices_Tview)"
      ],
      "execution_count": 52,
      "outputs": [
        {
          "output_type": "execute_result",
          "data": {
            "text/plain": [
              "219"
            ]
          },
          "metadata": {
            "tags": []
          },
          "execution_count": 52
        }
      ]
    },
    {
      "cell_type": "code",
      "metadata": {
        "id": "qE2BFjDOhbGp",
        "colab_type": "code",
        "colab": {}
      },
      "source": [
        "ConServices_Employees = ConsumerServices_Tview['Number of Employees'].sum()"
      ],
      "execution_count": 53,
      "outputs": []
    },
    {
      "cell_type": "code",
      "metadata": {
        "id": "1X9eqVuwhhd1",
        "colab_type": "code",
        "colab": {}
      },
      "source": [
        ""
      ],
      "execution_count": null,
      "outputs": []
    }
  ]
}