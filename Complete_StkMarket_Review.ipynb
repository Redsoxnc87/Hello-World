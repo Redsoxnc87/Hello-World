{
  "nbformat": 4,
  "nbformat_minor": 0,
  "metadata": {
    "colab": {
      "name": "Complete_StkMarket_Review.ipynb",
      "provenance": [],
      "collapsed_sections": [],
      "authorship_tag": "ABX9TyOdsfrqtgSdmKTh/Z9GqmKS",
      "include_colab_link": true
    },
    "kernelspec": {
      "name": "python3",
      "display_name": "Python 3"
    }
  },
  "cells": [
    {
      "cell_type": "markdown",
      "metadata": {
        "id": "view-in-github",
        "colab_type": "text"
      },
      "source": [
        "<a href=\"https://colab.research.google.com/github/Redsoxnc87/Hello-World/blob/master/Complete_StkMarket_Review.ipynb\" target=\"_parent\"><img src=\"https://colab.research.google.com/assets/colab-badge.svg\" alt=\"Open In Colab\"/></a>"
      ]
    },
    {
      "cell_type": "code",
      "metadata": {
        "id": "FqY0ZxiPU04j",
        "colab_type": "code",
        "colab": {}
      },
      "source": [
        "import pandas as pd \n",
        "import numpy as np \n",
        "import math \n",
        "import requests "
      ],
      "execution_count": 1,
      "outputs": []
    },
    {
      "cell_type": "code",
      "metadata": {
        "id": "65xuQywuVIiw",
        "colab_type": "code",
        "colab": {}
      },
      "source": [
        "import operator\n",
        "import pandas.plotting\n",
        "import matplotlib.pyplot as plt\n",
        "%matplotlib inline"
      ],
      "execution_count": 2,
      "outputs": []
    },
    {
      "cell_type": "code",
      "metadata": {
        "id": "WuFfKMO3VRPC",
        "colab_type": "code",
        "colab": {
          "base_uri": "https://localhost:8080/",
          "height": 71
        },
        "outputId": "241873c0-7160-4b1b-8fe8-48390aa76c10"
      },
      "source": [
        "import seaborn as sns \n",
        "from pandas import Series, DataFrame\n",
        "from numpy import random, array"
      ],
      "execution_count": 3,
      "outputs": [
        {
          "output_type": "stream",
          "text": [
            "/usr/local/lib/python3.6/dist-packages/statsmodels/tools/_testing.py:19: FutureWarning: pandas.util.testing is deprecated. Use the functions in the public API at pandas.testing instead.\n",
            "  import pandas.util.testing as tm\n"
          ],
          "name": "stderr"
        }
      ]
    },
    {
      "cell_type": "code",
      "metadata": {
        "id": "7_WkeJVuWwdS",
        "colab_type": "code",
        "colab": {}
      },
      "source": [
        "bchart = pd.read_csv('Bcharts_Total_Market.csv')"
      ],
      "execution_count": 4,
      "outputs": []
    },
    {
      "cell_type": "code",
      "metadata": {
        "id": "8b_DQQbIZw2J",
        "colab_type": "code",
        "colab": {}
      },
      "source": [
        "tview = pd.read_csv('Tview_Total_Market.csv')"
      ],
      "execution_count": 5,
      "outputs": []
    },
    {
      "cell_type": "code",
      "metadata": {
        "id": "oggD4zdrZ3DQ",
        "colab_type": "code",
        "colab": {
          "base_uri": "https://localhost:8080/",
          "height": 297
        },
        "outputId": "01da0625-be1e-45c5-9a7d-c02e4b67fbd7"
      },
      "source": [
        "bchart.describe()"
      ],
      "execution_count": 6,
      "outputs": [
        {
          "output_type": "execute_result",
          "data": {
            "text/html": [
              "<div>\n",
              "<style scoped>\n",
              "    .dataframe tbody tr th:only-of-type {\n",
              "        vertical-align: middle;\n",
              "    }\n",
              "\n",
              "    .dataframe tbody tr th {\n",
              "        vertical-align: top;\n",
              "    }\n",
              "\n",
              "    .dataframe thead th {\n",
              "        text-align: right;\n",
              "    }\n",
              "</style>\n",
              "<table border=\"1\" class=\"dataframe\">\n",
              "  <thead>\n",
              "    <tr style=\"text-align: right;\">\n",
              "      <th></th>\n",
              "      <th>Last</th>\n",
              "    </tr>\n",
              "  </thead>\n",
              "  <tbody>\n",
              "    <tr>\n",
              "      <th>count</th>\n",
              "      <td>4755.000000</td>\n",
              "    </tr>\n",
              "    <tr>\n",
              "      <th>mean</th>\n",
              "      <td>107.591474</td>\n",
              "    </tr>\n",
              "    <tr>\n",
              "      <th>std</th>\n",
              "      <td>4566.712954</td>\n",
              "    </tr>\n",
              "    <tr>\n",
              "      <th>min</th>\n",
              "      <td>0.090000</td>\n",
              "    </tr>\n",
              "    <tr>\n",
              "      <th>25%</th>\n",
              "      <td>5.110000</td>\n",
              "    </tr>\n",
              "    <tr>\n",
              "      <th>50%</th>\n",
              "      <td>14.570000</td>\n",
              "    </tr>\n",
              "    <tr>\n",
              "      <th>75%</th>\n",
              "      <td>39.520000</td>\n",
              "    </tr>\n",
              "    <tr>\n",
              "      <th>max</th>\n",
              "      <td>314840.000000</td>\n",
              "    </tr>\n",
              "  </tbody>\n",
              "</table>\n",
              "</div>"
            ],
            "text/plain": [
              "                Last\n",
              "count    4755.000000\n",
              "mean      107.591474\n",
              "std      4566.712954\n",
              "min         0.090000\n",
              "25%         5.110000\n",
              "50%        14.570000\n",
              "75%        39.520000\n",
              "max    314840.000000"
            ]
          },
          "metadata": {
            "tags": []
          },
          "execution_count": 6
        }
      ]
    },
    {
      "cell_type": "code",
      "metadata": {
        "id": "IWJ_1hZ2Z776",
        "colab_type": "code",
        "colab": {}
      },
      "source": [
        "Blist = list(range(0,4755))"
      ],
      "execution_count": 7,
      "outputs": []
    },
    {
      "cell_type": "code",
      "metadata": {
        "id": "8cTuuTNvaBOc",
        "colab_type": "code",
        "colab": {
          "base_uri": "https://localhost:8080/",
          "height": 331
        },
        "outputId": "5d2e4be8-4cd4-4c75-d7f5-81ccbd121105"
      },
      "source": [
        "tview.describe()"
      ],
      "execution_count": 8,
      "outputs": [
        {
          "output_type": "execute_result",
          "data": {
            "text/html": [
              "<div>\n",
              "<style scoped>\n",
              "    .dataframe tbody tr th:only-of-type {\n",
              "        vertical-align: middle;\n",
              "    }\n",
              "\n",
              "    .dataframe tbody tr th {\n",
              "        vertical-align: top;\n",
              "    }\n",
              "\n",
              "    .dataframe thead th {\n",
              "        text-align: right;\n",
              "    }\n",
              "</style>\n",
              "<table border=\"1\" class=\"dataframe\">\n",
              "  <thead>\n",
              "    <tr style=\"text-align: right;\">\n",
              "      <th></th>\n",
              "      <th>Last</th>\n",
              "      <th>Change %</th>\n",
              "      <th>Change</th>\n",
              "      <th>Volume</th>\n",
              "      <th>Market Capitalization</th>\n",
              "      <th>Price to Earnings Ratio (TTM)</th>\n",
              "      <th>Basic EPS (TTM)</th>\n",
              "      <th>Number of Employees</th>\n",
              "    </tr>\n",
              "  </thead>\n",
              "  <tbody>\n",
              "    <tr>\n",
              "      <th>count</th>\n",
              "      <td>4344.000000</td>\n",
              "      <td>4302.000000</td>\n",
              "      <td>4302.000000</td>\n",
              "      <td>4.344000e+03</td>\n",
              "      <td>4.283000e+03</td>\n",
              "      <td>2087.000000</td>\n",
              "      <td>4112.000000</td>\n",
              "      <td>3.969000e+03</td>\n",
              "    </tr>\n",
              "    <tr>\n",
              "      <th>mean</th>\n",
              "      <td>114.772964</td>\n",
              "      <td>-6.037642</td>\n",
              "      <td>-5.726102</td>\n",
              "      <td>2.596556e+07</td>\n",
              "      <td>8.995026e+09</td>\n",
              "      <td>139.028799</td>\n",
              "      <td>0.250260</td>\n",
              "      <td>1.144673e+04</td>\n",
              "    </tr>\n",
              "    <tr>\n",
              "      <th>std</th>\n",
              "      <td>4777.815886</td>\n",
              "      <td>21.933184</td>\n",
              "      <td>194.368065</td>\n",
              "      <td>8.933427e+07</td>\n",
              "      <td>5.619978e+10</td>\n",
              "      <td>3040.037620</td>\n",
              "      <td>296.455202</td>\n",
              "      <td>5.169723e+04</td>\n",
              "    </tr>\n",
              "    <tr>\n",
              "      <th>min</th>\n",
              "      <td>0.085800</td>\n",
              "      <td>-83.791000</td>\n",
              "      <td>-12720.000000</td>\n",
              "      <td>4.280000e+02</td>\n",
              "      <td>2.588000e+03</td>\n",
              "      <td>0.931000</td>\n",
              "      <td>-13176.996000</td>\n",
              "      <td>0.000000e+00</td>\n",
              "    </tr>\n",
              "    <tr>\n",
              "      <th>25%</th>\n",
              "      <td>5.650000</td>\n",
              "      <td>-13.056000</td>\n",
              "      <td>-2.957500</td>\n",
              "      <td>1.703728e+06</td>\n",
              "      <td>1.413351e+08</td>\n",
              "      <td>11.173000</td>\n",
              "      <td>-1.138000</td>\n",
              "      <td>1.630000e+02</td>\n",
              "    </tr>\n",
              "    <tr>\n",
              "      <th>50%</th>\n",
              "      <td>14.610000</td>\n",
              "      <td>-7.031000</td>\n",
              "      <td>-0.800000</td>\n",
              "      <td>6.119012e+06</td>\n",
              "      <td>6.304533e+08</td>\n",
              "      <td>20.319000</td>\n",
              "      <td>0.030000</td>\n",
              "      <td>1.111000e+03</td>\n",
              "    </tr>\n",
              "    <tr>\n",
              "      <th>75%</th>\n",
              "      <td>40.102500</td>\n",
              "      <td>-0.782250</td>\n",
              "      <td>-0.050000</td>\n",
              "      <td>1.932875e+07</td>\n",
              "      <td>3.317614e+09</td>\n",
              "      <td>39.799000</td>\n",
              "      <td>1.781750</td>\n",
              "      <td>6.100000e+03</td>\n",
              "    </tr>\n",
              "    <tr>\n",
              "      <th>max</th>\n",
              "      <td>314840.000000</td>\n",
              "      <td>1117.391000</td>\n",
              "      <td>175.430000</td>\n",
              "      <td>3.188045e+09</td>\n",
              "      <td>1.857170e+12</td>\n",
              "      <td>136980.000000</td>\n",
              "      <td>13689.000000</td>\n",
              "      <td>2.200000e+06</td>\n",
              "    </tr>\n",
              "  </tbody>\n",
              "</table>\n",
              "</div>"
            ],
            "text/plain": [
              "                Last     Change %  ...  Basic EPS (TTM)  Number of Employees\n",
              "count    4344.000000  4302.000000  ...      4112.000000         3.969000e+03\n",
              "mean      114.772964    -6.037642  ...         0.250260         1.144673e+04\n",
              "std      4777.815886    21.933184  ...       296.455202         5.169723e+04\n",
              "min         0.085800   -83.791000  ...    -13176.996000         0.000000e+00\n",
              "25%         5.650000   -13.056000  ...        -1.138000         1.630000e+02\n",
              "50%        14.610000    -7.031000  ...         0.030000         1.111000e+03\n",
              "75%        40.102500    -0.782250  ...         1.781750         6.100000e+03\n",
              "max    314840.000000  1117.391000  ...     13689.000000         2.200000e+06\n",
              "\n",
              "[8 rows x 8 columns]"
            ]
          },
          "metadata": {
            "tags": []
          },
          "execution_count": 8
        }
      ]
    },
    {
      "cell_type": "code",
      "metadata": {
        "id": "ZQQ0VnK0aD4l",
        "colab_type": "code",
        "colab": {}
      },
      "source": [
        "Tlist = list(range(0,4344))"
      ],
      "execution_count": 9,
      "outputs": []
    },
    {
      "cell_type": "code",
      "metadata": {
        "id": "1OoTvsfqaJvY",
        "colab_type": "code",
        "colab": {
          "base_uri": "https://localhost:8080/",
          "height": 289
        },
        "outputId": "fa852222-abda-42a0-b3d3-56bffb284088"
      },
      "source": [
        "bchart.head()"
      ],
      "execution_count": 10,
      "outputs": [
        {
          "output_type": "execute_result",
          "data": {
            "text/html": [
              "<div>\n",
              "<style scoped>\n",
              "    .dataframe tbody tr th:only-of-type {\n",
              "        vertical-align: middle;\n",
              "    }\n",
              "\n",
              "    .dataframe tbody tr th {\n",
              "        vertical-align: top;\n",
              "    }\n",
              "\n",
              "    .dataframe thead th {\n",
              "        text-align: right;\n",
              "    }\n",
              "</style>\n",
              "<table border=\"1\" class=\"dataframe\">\n",
              "  <thead>\n",
              "    <tr style=\"text-align: right;\">\n",
              "      <th></th>\n",
              "      <th>Symbol</th>\n",
              "      <th>Name</th>\n",
              "      <th>Exchange</th>\n",
              "      <th>Last</th>\n",
              "      <th>Industry</th>\n",
              "      <th>Sector</th>\n",
              "      <th>SIC Description</th>\n",
              "    </tr>\n",
              "  </thead>\n",
              "  <tbody>\n",
              "    <tr>\n",
              "      <th>0</th>\n",
              "      <td>A</td>\n",
              "      <td>Agilent Technologies</td>\n",
              "      <td>NYSE</td>\n",
              "      <td>96.91</td>\n",
              "      <td>Electronic Test Equipment</td>\n",
              "      <td>Computers and Technology</td>\n",
              "      <td>NaN</td>\n",
              "    </tr>\n",
              "    <tr>\n",
              "      <th>1</th>\n",
              "      <td>AA</td>\n",
              "      <td>Alcoa Corp</td>\n",
              "      <td>NYSE</td>\n",
              "      <td>11.64</td>\n",
              "      <td>Metal Products - Distribution</td>\n",
              "      <td>Basic Materials</td>\n",
              "      <td>SIC-3334 Primary Production of Aluminium</td>\n",
              "    </tr>\n",
              "    <tr>\n",
              "      <th>2</th>\n",
              "      <td>AACG</td>\n",
              "      <td>Ata Creativity Global</td>\n",
              "      <td>NASDAQ</td>\n",
              "      <td>1.08</td>\n",
              "      <td>Schools</td>\n",
              "      <td>Consumer Discretionary</td>\n",
              "      <td>SIC-8200 Services-Educational Services</td>\n",
              "    </tr>\n",
              "    <tr>\n",
              "      <th>3</th>\n",
              "      <td>AAL</td>\n",
              "      <td>American Airlines Gp</td>\n",
              "      <td>NASDAQ</td>\n",
              "      <td>11.93</td>\n",
              "      <td>Transportation - Airline</td>\n",
              "      <td>Transportation</td>\n",
              "      <td>NaN</td>\n",
              "    </tr>\n",
              "    <tr>\n",
              "      <th>4</th>\n",
              "      <td>AAME</td>\n",
              "      <td>Atlantic Amer Cp</td>\n",
              "      <td>NASDAQ</td>\n",
              "      <td>1.98</td>\n",
              "      <td>Insurance - Accident &amp; Health</td>\n",
              "      <td>Finance</td>\n",
              "      <td>SIC-6311 Life Insurance</td>\n",
              "    </tr>\n",
              "  </tbody>\n",
              "</table>\n",
              "</div>"
            ],
            "text/plain": [
              "  Symbol  ...                           SIC Description\n",
              "0      A  ...                                       NaN\n",
              "1     AA  ...  SIC-3334 Primary Production of Aluminium\n",
              "2   AACG  ...    SIC-8200 Services-Educational Services\n",
              "3    AAL  ...                                       NaN\n",
              "4   AAME  ...                   SIC-6311 Life Insurance\n",
              "\n",
              "[5 rows x 7 columns]"
            ]
          },
          "metadata": {
            "tags": []
          },
          "execution_count": 10
        }
      ]
    },
    {
      "cell_type": "code",
      "metadata": {
        "id": "hdxlatsoaNWC",
        "colab_type": "code",
        "colab": {
          "base_uri": "https://localhost:8080/",
          "height": 272
        },
        "outputId": "caea226a-b91f-4e1f-cfc3-244662d83c5e"
      },
      "source": [
        "tview.head()"
      ],
      "execution_count": 11,
      "outputs": [
        {
          "output_type": "execute_result",
          "data": {
            "text/html": [
              "<div>\n",
              "<style scoped>\n",
              "    .dataframe tbody tr th:only-of-type {\n",
              "        vertical-align: middle;\n",
              "    }\n",
              "\n",
              "    .dataframe tbody tr th {\n",
              "        vertical-align: top;\n",
              "    }\n",
              "\n",
              "    .dataframe thead th {\n",
              "        text-align: right;\n",
              "    }\n",
              "</style>\n",
              "<table border=\"1\" class=\"dataframe\">\n",
              "  <thead>\n",
              "    <tr style=\"text-align: right;\">\n",
              "      <th></th>\n",
              "      <th>Ticker</th>\n",
              "      <th>Last</th>\n",
              "      <th>Change %</th>\n",
              "      <th>Change</th>\n",
              "      <th>Rating</th>\n",
              "      <th>Volume</th>\n",
              "      <th>Market Capitalization</th>\n",
              "      <th>Price to Earnings Ratio (TTM)</th>\n",
              "      <th>Basic EPS (TTM)</th>\n",
              "      <th>Number of Employees</th>\n",
              "      <th>Sector</th>\n",
              "    </tr>\n",
              "  </thead>\n",
              "  <tbody>\n",
              "    <tr>\n",
              "      <th>0</th>\n",
              "      <td>A</td>\n",
              "      <td>96.91</td>\n",
              "      <td>-3.495</td>\n",
              "      <td>-3.51</td>\n",
              "      <td>Buy</td>\n",
              "      <td>21809133</td>\n",
              "      <td>2.987832e+10</td>\n",
              "      <td>44.61</td>\n",
              "      <td>2.234</td>\n",
              "      <td>16300.0</td>\n",
              "      <td>Health Technology</td>\n",
              "    </tr>\n",
              "    <tr>\n",
              "      <th>1</th>\n",
              "      <td>AA</td>\n",
              "      <td>11.64</td>\n",
              "      <td>-20.383</td>\n",
              "      <td>-2.98</td>\n",
              "      <td>Sell</td>\n",
              "      <td>80323763</td>\n",
              "      <td>2.164155e+09</td>\n",
              "      <td>NaN</td>\n",
              "      <td>-3.450</td>\n",
              "      <td>13800.0</td>\n",
              "      <td>Non-Energy Minerals</td>\n",
              "    </tr>\n",
              "    <tr>\n",
              "      <th>2</th>\n",
              "      <td>AACQ</td>\n",
              "      <td>9.95</td>\n",
              "      <td>NaN</td>\n",
              "      <td>NaN</td>\n",
              "      <td>NaN</td>\n",
              "      <td>5013665</td>\n",
              "      <td>NaN</td>\n",
              "      <td>NaN</td>\n",
              "      <td>NaN</td>\n",
              "      <td>NaN</td>\n",
              "      <td>Finance</td>\n",
              "    </tr>\n",
              "    <tr>\n",
              "      <th>3</th>\n",
              "      <td>AAL</td>\n",
              "      <td>11.93</td>\n",
              "      <td>-8.582</td>\n",
              "      <td>-1.12</td>\n",
              "      <td>Sell</td>\n",
              "      <td>930934083</td>\n",
              "      <td>6.067145e+09</td>\n",
              "      <td>NaN</td>\n",
              "      <td>-8.170</td>\n",
              "      <td>133700.0</td>\n",
              "      <td>Transportation</td>\n",
              "    </tr>\n",
              "    <tr>\n",
              "      <th>4</th>\n",
              "      <td>AAMC</td>\n",
              "      <td>20.65</td>\n",
              "      <td>-12.854</td>\n",
              "      <td>-3.05</td>\n",
              "      <td>Buy</td>\n",
              "      <td>228105</td>\n",
              "      <td>3.370328e+07</td>\n",
              "      <td>NaN</td>\n",
              "      <td>-10.403</td>\n",
              "      <td>109.0</td>\n",
              "      <td>Finance</td>\n",
              "    </tr>\n",
              "  </tbody>\n",
              "</table>\n",
              "</div>"
            ],
            "text/plain": [
              "  Ticker   Last  ...  Number of Employees               Sector\n",
              "0      A  96.91  ...              16300.0    Health Technology\n",
              "1     AA  11.64  ...              13800.0  Non-Energy Minerals\n",
              "2   AACQ   9.95  ...                  NaN              Finance\n",
              "3    AAL  11.93  ...             133700.0       Transportation\n",
              "4   AAMC  20.65  ...                109.0              Finance\n",
              "\n",
              "[5 rows x 11 columns]"
            ]
          },
          "metadata": {
            "tags": []
          },
          "execution_count": 11
        }
      ]
    },
    {
      "cell_type": "code",
      "metadata": {
        "id": "sXos5GeoaPQ6",
        "colab_type": "code",
        "colab": {
          "base_uri": "https://localhost:8080/",
          "height": 306
        },
        "outputId": "6144795c-701c-41b0-d76a-58548d29e7f5"
      },
      "source": [
        "bchart.Sector.value_counts()"
      ],
      "execution_count": 12,
      "outputs": [
        {
          "output_type": "execute_result",
          "data": {
            "text/plain": [
              "Medical                     980\n",
              "Finance                     973\n",
              "Computers and Technology    666\n",
              "Oils-Energy                 289\n",
              "Consumer Discretionary      256\n",
              "Business Services           245\n",
              "Basic Materials             245\n",
              "Retail-Wholesale            212\n",
              "Consumer Staples            194\n",
              "Industrial Products         193\n",
              "Transportation              144\n",
              "Utilities                   120\n",
              "Construction                107\n",
              "Auto-Tires-Trucks            73\n",
              "Aerospace                    40\n",
              "Conglomerates                18\n",
              "Name: Sector, dtype: int64"
            ]
          },
          "metadata": {
            "tags": []
          },
          "execution_count": 12
        }
      ]
    },
    {
      "cell_type": "code",
      "metadata": {
        "id": "C7jG_K5CajTT",
        "colab_type": "code",
        "colab": {
          "base_uri": "https://localhost:8080/",
          "height": 374
        },
        "outputId": "bae2bd55-8e5a-4cba-f105-731ffc422c45"
      },
      "source": [
        "tview.Sector.value_counts()"
      ],
      "execution_count": 13,
      "outputs": [
        {
          "output_type": "execute_result",
          "data": {
            "text/plain": [
              "Finance                   912\n",
              "Health Technology         781\n",
              "Technology Services       354\n",
              "Electronic Technology     301\n",
              "Producer Manufacturing    254\n",
              "Consumer Services         219\n",
              "Commercial Services       184\n",
              "Process Industries        158\n",
              "Industrial Services       141\n",
              "Retail Trade              137\n",
              "Consumer Non-Durables     133\n",
              "Non-Energy Minerals       122\n",
              "Energy Minerals           122\n",
              "Consumer Durables         114\n",
              "Transportation            109\n",
              "Utilities                  93\n",
              "Distribution Services      75\n",
              "Health Services            74\n",
              "Communications             37\n",
              "Miscellaneous              22\n",
              "Name: Sector, dtype: int64"
            ]
          },
          "metadata": {
            "tags": []
          },
          "execution_count": 13
        }
      ]
    },
    {
      "cell_type": "code",
      "metadata": {
        "id": "2PwYih85aoXl",
        "colab_type": "code",
        "colab": {}
      },
      "source": [
        "Symbols = bchart.Symbol.to_list()"
      ],
      "execution_count": 14,
      "outputs": []
    },
    {
      "cell_type": "code",
      "metadata": {
        "id": "PZU8zUTkdchj",
        "colab_type": "code",
        "colab": {
          "base_uri": "https://localhost:8080/",
          "height": 34
        },
        "outputId": "295e2c55-16df-41a5-f358-02eecf954953"
      },
      "source": [
        "len(Symbols)"
      ],
      "execution_count": 15,
      "outputs": [
        {
          "output_type": "execute_result",
          "data": {
            "text/plain": [
              "4756"
            ]
          },
          "metadata": {
            "tags": []
          },
          "execution_count": 15
        }
      ]
    },
    {
      "cell_type": "code",
      "metadata": {
        "id": "8xCYHL_yd0Gl",
        "colab_type": "code",
        "colab": {}
      },
      "source": [
        "Tickers = tview.Ticker.to_list()"
      ],
      "execution_count": 16,
      "outputs": []
    },
    {
      "cell_type": "code",
      "metadata": {
        "id": "MXQqDakCd4p2",
        "colab_type": "code",
        "colab": {
          "base_uri": "https://localhost:8080/",
          "height": 34
        },
        "outputId": "cf2ee213-2796-45dd-96f1-c8b6fb0f2472"
      },
      "source": [
        "len(Tickers)"
      ],
      "execution_count": 17,
      "outputs": [
        {
          "output_type": "execute_result",
          "data": {
            "text/plain": [
              "4344"
            ]
          },
          "metadata": {
            "tags": []
          },
          "execution_count": 17
        }
      ]
    },
    {
      "cell_type": "code",
      "metadata": {
        "id": "kaG_hG8md96p",
        "colab_type": "code",
        "colab": {}
      },
      "source": [
        "Finance_Tview = tview.loc[(tview['Sector'])=='Finance']"
      ],
      "execution_count": 18,
      "outputs": []
    },
    {
      "cell_type": "code",
      "metadata": {
        "id": "5nbBOU_ceGe1",
        "colab_type": "code",
        "colab": {
          "base_uri": "https://localhost:8080/",
          "height": 34
        },
        "outputId": "6abedeb0-76b8-4f4d-b5ff-78f66d5a0ad4"
      },
      "source": [
        "len(Finance_Tview)"
      ],
      "execution_count": 19,
      "outputs": [
        {
          "output_type": "execute_result",
          "data": {
            "text/plain": [
              "912"
            ]
          },
          "metadata": {
            "tags": []
          },
          "execution_count": 19
        }
      ]
    },
    {
      "cell_type": "code",
      "metadata": {
        "id": "7eFtfkY_eh7p",
        "colab_type": "code",
        "colab": {}
      },
      "source": [
        "Financial_Employees = Finance_Tview['Number of Employees'].sum()"
      ],
      "execution_count": 20,
      "outputs": []
    },
    {
      "cell_type": "code",
      "metadata": {
        "id": "Z7p1L-EtepZ0",
        "colab_type": "code",
        "colab": {}
      },
      "source": [
        "Health_Tech_Tview = tview.loc[(tview['Sector'])=='Health Technology']"
      ],
      "execution_count": 21,
      "outputs": []
    },
    {
      "cell_type": "code",
      "metadata": {
        "id": "6tIOf93ifc3a",
        "colab_type": "code",
        "colab": {
          "base_uri": "https://localhost:8080/",
          "height": 34
        },
        "outputId": "847a004f-edfe-4ea0-8f00-7ae7c2481362"
      },
      "source": [
        "len(Health_Tech_Tview)"
      ],
      "execution_count": 22,
      "outputs": [
        {
          "output_type": "execute_result",
          "data": {
            "text/plain": [
              "781"
            ]
          },
          "metadata": {
            "tags": []
          },
          "execution_count": 22
        }
      ]
    },
    {
      "cell_type": "code",
      "metadata": {
        "id": "0sqRtAi2fe0z",
        "colab_type": "code",
        "colab": {}
      },
      "source": [
        "HealthTech_Employee = Health_Tech_Tview['Number of Employees'].sum()"
      ],
      "execution_count": 23,
      "outputs": []
    },
    {
      "cell_type": "code",
      "metadata": {
        "id": "c9poeljSfqQo",
        "colab_type": "code",
        "colab": {
          "base_uri": "https://localhost:8080/",
          "height": 34
        },
        "outputId": "838bdec2-06b7-42f6-aa98-e2810f58517d"
      },
      "source": [
        "HealthTech_Employee"
      ],
      "execution_count": 24,
      "outputs": [
        {
          "output_type": "execute_result",
          "data": {
            "text/plain": [
              "1586706.5"
            ]
          },
          "metadata": {
            "tags": []
          },
          "execution_count": 24
        }
      ]
    },
    {
      "cell_type": "code",
      "metadata": {
        "id": "VF9LXuLQfudy",
        "colab_type": "code",
        "colab": {}
      },
      "source": [
        "Tech_Services_Tview = tview.loc[(tview['Sector'])=='Technology Services']"
      ],
      "execution_count": 25,
      "outputs": []
    },
    {
      "cell_type": "code",
      "metadata": {
        "id": "Zmzf3487f_jx",
        "colab_type": "code",
        "colab": {
          "base_uri": "https://localhost:8080/",
          "height": 34
        },
        "outputId": "21b52bfa-384a-4484-a542-ce335bce552f"
      },
      "source": [
        "len(Tech_Services_Tview)"
      ],
      "execution_count": 26,
      "outputs": [
        {
          "output_type": "execute_result",
          "data": {
            "text/plain": [
              "354"
            ]
          },
          "metadata": {
            "tags": []
          },
          "execution_count": 26
        }
      ]
    },
    {
      "cell_type": "code",
      "metadata": {
        "id": "FAukqLssgBJS",
        "colab_type": "code",
        "colab": {}
      },
      "source": [
        "TechServices_Employees = Tech_Services_Tview['Number of Employees'].sum()"
      ],
      "execution_count": 27,
      "outputs": []
    },
    {
      "cell_type": "code",
      "metadata": {
        "id": "C-ZhSDGIgITQ",
        "colab_type": "code",
        "colab": {
          "base_uri": "https://localhost:8080/",
          "height": 34
        },
        "outputId": "bc0aa546-73fa-49dd-8fd8-d9a8d0f61fd4"
      },
      "source": [
        "TechServices_Employees\n"
      ],
      "execution_count": 28,
      "outputs": [
        {
          "output_type": "execute_result",
          "data": {
            "text/plain": [
              "3486027.0"
            ]
          },
          "metadata": {
            "tags": []
          },
          "execution_count": 28
        }
      ]
    },
    {
      "cell_type": "code",
      "metadata": {
        "id": "E99w2f5lgLxO",
        "colab_type": "code",
        "colab": {}
      },
      "source": [
        "ElectronicTechnology_Tview = tview.loc[(tview['Sector'])=='Electronic Technology']"
      ],
      "execution_count": 29,
      "outputs": []
    },
    {
      "cell_type": "code",
      "metadata": {
        "id": "BFfWF9Mggadl",
        "colab_type": "code",
        "colab": {
          "base_uri": "https://localhost:8080/",
          "height": 34
        },
        "outputId": "588f975a-0bc8-4662-e795-931f0a51fc3c"
      },
      "source": [
        "len(ElectronicTechnology_Tview)"
      ],
      "execution_count": 30,
      "outputs": [
        {
          "output_type": "execute_result",
          "data": {
            "text/plain": [
              "301"
            ]
          },
          "metadata": {
            "tags": []
          },
          "execution_count": 30
        }
      ]
    },
    {
      "cell_type": "code",
      "metadata": {
        "id": "vH139_l4gb69",
        "colab_type": "code",
        "colab": {}
      },
      "source": [
        "ElectronicTech_Employees = ElectronicTechnology_Tview['Number of Employees'].sum()"
      ],
      "execution_count": 31,
      "outputs": []
    },
    {
      "cell_type": "code",
      "metadata": {
        "id": "g8yw0nAfglj5",
        "colab_type": "code",
        "colab": {}
      },
      "source": [
        "ProducerMFG_Tview = tview.loc[(tview['Sector'])=='Producer Manufacturing']"
      ],
      "execution_count": 32,
      "outputs": []
    },
    {
      "cell_type": "code",
      "metadata": {
        "id": "RIaGMTrXg6Gy",
        "colab_type": "code",
        "colab": {
          "base_uri": "https://localhost:8080/",
          "height": 34
        },
        "outputId": "90368042-2c14-4084-b78d-24e11d9fdacf"
      },
      "source": [
        "len(ProducerMFG_Tview)"
      ],
      "execution_count": 33,
      "outputs": [
        {
          "output_type": "execute_result",
          "data": {
            "text/plain": [
              "254"
            ]
          },
          "metadata": {
            "tags": []
          },
          "execution_count": 33
        }
      ]
    },
    {
      "cell_type": "code",
      "metadata": {
        "id": "MwRMzYyzg8TT",
        "colab_type": "code",
        "colab": {}
      },
      "source": [
        "ProducerMFG_Employees = ProducerMFG_Tview['Number of Employees'].sum()"
      ],
      "execution_count": 34,
      "outputs": []
    },
    {
      "cell_type": "code",
      "metadata": {
        "id": "4b3rlToNhLyi",
        "colab_type": "code",
        "colab": {}
      },
      "source": [
        "ConsumerServices_Tview = tview.loc[(tview['Sector'])=='Consumer Services']"
      ],
      "execution_count": 35,
      "outputs": []
    },
    {
      "cell_type": "code",
      "metadata": {
        "id": "mPiFHZb_hZlZ",
        "colab_type": "code",
        "colab": {
          "base_uri": "https://localhost:8080/",
          "height": 34
        },
        "outputId": "c392e4fa-5ca2-439d-f9f9-e296eb939cd5"
      },
      "source": [
        "len(ConsumerServices_Tview)"
      ],
      "execution_count": 36,
      "outputs": [
        {
          "output_type": "execute_result",
          "data": {
            "text/plain": [
              "219"
            ]
          },
          "metadata": {
            "tags": []
          },
          "execution_count": 36
        }
      ]
    },
    {
      "cell_type": "code",
      "metadata": {
        "id": "qE2BFjDOhbGp",
        "colab_type": "code",
        "colab": {}
      },
      "source": [
        "ConServices_Employees = ConsumerServices_Tview['Number of Employees'].sum()"
      ],
      "execution_count": 37,
      "outputs": []
    },
    {
      "cell_type": "code",
      "metadata": {
        "id": "1X9eqVuwhhd1",
        "colab_type": "code",
        "colab": {}
      },
      "source": [
        "CommServices_Tview = tview.loc[(tview['Sector'])=='Commercial Services']"
      ],
      "execution_count": 38,
      "outputs": []
    },
    {
      "cell_type": "code",
      "metadata": {
        "id": "xY3s7lvj1n1e",
        "colab_type": "code",
        "colab": {
          "base_uri": "https://localhost:8080/",
          "height": 34
        },
        "outputId": "345205bc-da21-4575-b6a6-1bb7b2f1e0c5"
      },
      "source": [
        "len(CommServices_Tview)"
      ],
      "execution_count": 39,
      "outputs": [
        {
          "output_type": "execute_result",
          "data": {
            "text/plain": [
              "184"
            ]
          },
          "metadata": {
            "tags": []
          },
          "execution_count": 39
        }
      ]
    },
    {
      "cell_type": "code",
      "metadata": {
        "id": "cF1gJSkj1qkk",
        "colab_type": "code",
        "colab": {}
      },
      "source": [
        "CommServices_Employees = CommServices_Tview['Number of Employees'].sum()"
      ],
      "execution_count": 40,
      "outputs": []
    },
    {
      "cell_type": "code",
      "metadata": {
        "id": "09EOhT2K1yCJ",
        "colab_type": "code",
        "colab": {}
      },
      "source": [
        "ProcessIndustries_Tview = tview.loc[(tview['Sector'])=='Process Industries']"
      ],
      "execution_count": 41,
      "outputs": []
    },
    {
      "cell_type": "code",
      "metadata": {
        "id": "zkI-6kRS1_Ok",
        "colab_type": "code",
        "colab": {
          "base_uri": "https://localhost:8080/",
          "height": 34
        },
        "outputId": "18078a1a-f3af-4c1a-99e0-aefbbf9f3a79"
      },
      "source": [
        "len(ProcessIndustries_Tview)"
      ],
      "execution_count": 42,
      "outputs": [
        {
          "output_type": "execute_result",
          "data": {
            "text/plain": [
              "158"
            ]
          },
          "metadata": {
            "tags": []
          },
          "execution_count": 42
        }
      ]
    },
    {
      "cell_type": "code",
      "metadata": {
        "id": "zKaTRfdm2AiR",
        "colab_type": "code",
        "colab": {}
      },
      "source": [
        "ProcessIndustries_Employees = ProcessIndustries_Tview['Number of Employees'].sum()"
      ],
      "execution_count": 43,
      "outputs": []
    },
    {
      "cell_type": "code",
      "metadata": {
        "id": "ll09drum2GU2",
        "colab_type": "code",
        "colab": {}
      },
      "source": [
        "IndustServices_Tview = tview.loc[(tview['Sector'])=='Industrial Services']"
      ],
      "execution_count": 44,
      "outputs": []
    },
    {
      "cell_type": "code",
      "metadata": {
        "id": "Nl4DnAYV2Rd6",
        "colab_type": "code",
        "colab": {
          "base_uri": "https://localhost:8080/",
          "height": 34
        },
        "outputId": "0eb63a0f-c1f1-47b9-d528-0cb13e53cbea"
      },
      "source": [
        "len(IndustServices_Tview)"
      ],
      "execution_count": 45,
      "outputs": [
        {
          "output_type": "execute_result",
          "data": {
            "text/plain": [
              "141"
            ]
          },
          "metadata": {
            "tags": []
          },
          "execution_count": 45
        }
      ]
    },
    {
      "cell_type": "code",
      "metadata": {
        "id": "a3CWaBZL2Tkr",
        "colab_type": "code",
        "colab": {}
      },
      "source": [
        "IndustServices_Employees = IndustServices_Tview['Number of Employees'].sum()"
      ],
      "execution_count": 46,
      "outputs": []
    },
    {
      "cell_type": "code",
      "metadata": {
        "id": "lf1GHXyE2bBT",
        "colab_type": "code",
        "colab": {}
      },
      "source": [
        "RetailTrade_Tview = tview.loc[(tview['Sector'])=='Retail Trade']"
      ],
      "execution_count": 47,
      "outputs": []
    },
    {
      "cell_type": "code",
      "metadata": {
        "id": "lFBe_VA32qhJ",
        "colab_type": "code",
        "colab": {
          "base_uri": "https://localhost:8080/",
          "height": 34
        },
        "outputId": "60bb9dde-b856-45dd-b523-295eaa46908f"
      },
      "source": [
        "len(RetailTrade_Tview)"
      ],
      "execution_count": 48,
      "outputs": [
        {
          "output_type": "execute_result",
          "data": {
            "text/plain": [
              "137"
            ]
          },
          "metadata": {
            "tags": []
          },
          "execution_count": 48
        }
      ]
    },
    {
      "cell_type": "code",
      "metadata": {
        "id": "TADLXdAH2sjP",
        "colab_type": "code",
        "colab": {}
      },
      "source": [
        "RetailTrade_Employees = RetailTrade_Tview['Number of Employees'].sum()"
      ],
      "execution_count": 49,
      "outputs": []
    },
    {
      "cell_type": "code",
      "metadata": {
        "id": "O0O5YMjw28aj",
        "colab_type": "code",
        "colab": {}
      },
      "source": [
        "Consumer_NonDur_tview = tview.loc[(tview['Sector'])=='Consumer Non-Durables']"
      ],
      "execution_count": 53,
      "outputs": []
    },
    {
      "cell_type": "code",
      "metadata": {
        "id": "tDlElr413JGj",
        "colab_type": "code",
        "colab": {
          "base_uri": "https://localhost:8080/",
          "height": 34
        },
        "outputId": "af0ab9f0-7bfd-4674-fa39-07fcfbaa88e3"
      },
      "source": [
        "len(Consumer_NonDur_tview)"
      ],
      "execution_count": 54,
      "outputs": [
        {
          "output_type": "execute_result",
          "data": {
            "text/plain": [
              "133"
            ]
          },
          "metadata": {
            "tags": []
          },
          "execution_count": 54
        }
      ]
    },
    {
      "cell_type": "code",
      "metadata": {
        "id": "okizG4rM3Rk4",
        "colab_type": "code",
        "colab": {}
      },
      "source": [
        "Consumer_NonDur_Employees = Consumer_NonDur_tview['Number of Employees'].sum()"
      ],
      "execution_count": 55,
      "outputs": []
    },
    {
      "cell_type": "code",
      "metadata": {
        "id": "8eXmbnEe3frF",
        "colab_type": "code",
        "colab": {}
      },
      "source": [
        "NonEnergy_Minerals_tview = tview.loc[(tview['Sector'])=='Non-Energy Minerals']"
      ],
      "execution_count": 56,
      "outputs": []
    },
    {
      "cell_type": "code",
      "metadata": {
        "id": "Ge8C5qhd3uHo",
        "colab_type": "code",
        "colab": {
          "base_uri": "https://localhost:8080/",
          "height": 34
        },
        "outputId": "11a30a5d-1e59-44ea-9e97-5b8e10bf53b0"
      },
      "source": [
        "len(NonEnergy_Minerals_tview)"
      ],
      "execution_count": 57,
      "outputs": [
        {
          "output_type": "execute_result",
          "data": {
            "text/plain": [
              "122"
            ]
          },
          "metadata": {
            "tags": []
          },
          "execution_count": 57
        }
      ]
    },
    {
      "cell_type": "code",
      "metadata": {
        "id": "IUrV6ZRD3wdq",
        "colab_type": "code",
        "colab": {}
      },
      "source": [
        "NonEnergy_Minerals_Employees = NonEnergy_Minerals_tview['Number of Employees'].sum()"
      ],
      "execution_count": 58,
      "outputs": []
    },
    {
      "cell_type": "code",
      "metadata": {
        "id": "anrvvjyo4BTq",
        "colab_type": "code",
        "colab": {}
      },
      "source": [
        "EnergyMinerals_tview = tview.loc[(tview['Sector'])=='Energy Minerals']"
      ],
      "execution_count": 59,
      "outputs": []
    },
    {
      "cell_type": "code",
      "metadata": {
        "id": "siGk1Zle4ls3",
        "colab_type": "code",
        "colab": {
          "base_uri": "https://localhost:8080/",
          "height": 34
        },
        "outputId": "9a2c3362-2527-4d14-ee81-b9a7c4c187c9"
      },
      "source": [
        "len(EnergyMinerals_tview)"
      ],
      "execution_count": 60,
      "outputs": [
        {
          "output_type": "execute_result",
          "data": {
            "text/plain": [
              "122"
            ]
          },
          "metadata": {
            "tags": []
          },
          "execution_count": 60
        }
      ]
    },
    {
      "cell_type": "code",
      "metadata": {
        "id": "Lexd1lzA4ydb",
        "colab_type": "code",
        "colab": {}
      },
      "source": [
        "EnergyMinerals_Employees = EnergyMinerals_tview['Number of Employees'].sum()"
      ],
      "execution_count": 61,
      "outputs": []
    },
    {
      "cell_type": "code",
      "metadata": {
        "id": "CL8dNIk_46LG",
        "colab_type": "code",
        "colab": {}
      },
      "source": [
        "ConsumerDurables_tview = tview.loc[(tview['Sector'])=='Consumer Durables']"
      ],
      "execution_count": 62,
      "outputs": []
    },
    {
      "cell_type": "code",
      "metadata": {
        "id": "J8Jvdwrt5Ipg",
        "colab_type": "code",
        "colab": {
          "base_uri": "https://localhost:8080/",
          "height": 34
        },
        "outputId": "e84929f0-4a92-4c44-cc4d-0569e32f0b6a"
      },
      "source": [
        "len(ConsumerDurables_tview)"
      ],
      "execution_count": 63,
      "outputs": [
        {
          "output_type": "execute_result",
          "data": {
            "text/plain": [
              "114"
            ]
          },
          "metadata": {
            "tags": []
          },
          "execution_count": 63
        }
      ]
    },
    {
      "cell_type": "code",
      "metadata": {
        "id": "-8vwQSMq5Krq",
        "colab_type": "code",
        "colab": {}
      },
      "source": [
        "ConsumerDurables_Employees = ConsumerDurables_tview['Number of Employees'].sum()"
      ],
      "execution_count": 64,
      "outputs": []
    },
    {
      "cell_type": "code",
      "metadata": {
        "id": "v4u3Imau5SGz",
        "colab_type": "code",
        "colab": {}
      },
      "source": [
        "Transportation_Tview = tview.loc[(tview['Sector'])=='Transportation']"
      ],
      "execution_count": 65,
      "outputs": []
    },
    {
      "cell_type": "code",
      "metadata": {
        "id": "MziyKsGQ5gGe",
        "colab_type": "code",
        "colab": {
          "base_uri": "https://localhost:8080/",
          "height": 34
        },
        "outputId": "e18fe5fb-7db9-48e3-ea8c-10e535d704c2"
      },
      "source": [
        "len(Transportation_Tview)"
      ],
      "execution_count": 66,
      "outputs": [
        {
          "output_type": "execute_result",
          "data": {
            "text/plain": [
              "109"
            ]
          },
          "metadata": {
            "tags": []
          },
          "execution_count": 66
        }
      ]
    },
    {
      "cell_type": "code",
      "metadata": {
        "id": "u0Oy22Wa5haC",
        "colab_type": "code",
        "colab": {}
      },
      "source": [
        "Transportation_Employees = Transportation_Tview['Number of Employees'].sum()"
      ],
      "execution_count": 67,
      "outputs": []
    },
    {
      "cell_type": "code",
      "metadata": {
        "id": "FjtLguZB5mj5",
        "colab_type": "code",
        "colab": {}
      },
      "source": [
        "Utilities_Tview = tview.loc[(tview['Sector'])=='Utilities']"
      ],
      "execution_count": 68,
      "outputs": []
    },
    {
      "cell_type": "code",
      "metadata": {
        "id": "gLpB2Foy5the",
        "colab_type": "code",
        "colab": {
          "base_uri": "https://localhost:8080/",
          "height": 34
        },
        "outputId": "acbba5dd-9cb4-41eb-f198-c06b8ebfba93"
      },
      "source": [
        "len(Utilities_Tview)"
      ],
      "execution_count": 69,
      "outputs": [
        {
          "output_type": "execute_result",
          "data": {
            "text/plain": [
              "93"
            ]
          },
          "metadata": {
            "tags": []
          },
          "execution_count": 69
        }
      ]
    },
    {
      "cell_type": "code",
      "metadata": {
        "id": "L4zuQtw95usK",
        "colab_type": "code",
        "colab": {}
      },
      "source": [
        "Utilities_Employees = Utilities_Tview['Number of Employees'].sum()"
      ],
      "execution_count": 70,
      "outputs": []
    },
    {
      "cell_type": "code",
      "metadata": {
        "id": "M_jATKP351xt",
        "colab_type": "code",
        "colab": {}
      },
      "source": [
        "DistServices_tview = tview.loc[(tview['Sector'])=='Distribution Services']"
      ],
      "execution_count": 73,
      "outputs": []
    },
    {
      "cell_type": "code",
      "metadata": {
        "id": "vnQ4zZR46Fez",
        "colab_type": "code",
        "colab": {
          "base_uri": "https://localhost:8080/",
          "height": 34
        },
        "outputId": "97b5893f-bc38-472b-ca8d-51df00679370"
      },
      "source": [
        "len(DistServices_tview)"
      ],
      "execution_count": 74,
      "outputs": [
        {
          "output_type": "execute_result",
          "data": {
            "text/plain": [
              "75"
            ]
          },
          "metadata": {
            "tags": []
          },
          "execution_count": 74
        }
      ]
    },
    {
      "cell_type": "code",
      "metadata": {
        "id": "RTqHEdmA6VBR",
        "colab_type": "code",
        "colab": {}
      },
      "source": [
        "DistServices_Employees = DistServices_tview['Number of Employees'].sum()"
      ],
      "execution_count": 75,
      "outputs": []
    },
    {
      "cell_type": "code",
      "metadata": {
        "id": "oIUjd5lZ6bs_",
        "colab_type": "code",
        "colab": {}
      },
      "source": [
        "HealthServices_Tview = tview.loc[(tview['Sector'])=='Health Services']"
      ],
      "execution_count": 76,
      "outputs": []
    },
    {
      "cell_type": "code",
      "metadata": {
        "id": "RYSNKVFq6okR",
        "colab_type": "code",
        "colab": {
          "base_uri": "https://localhost:8080/",
          "height": 34
        },
        "outputId": "2259ab11-7e3f-4bba-b3b0-b27402dbcde8"
      },
      "source": [
        "len(HealthServices_Tview)"
      ],
      "execution_count": 77,
      "outputs": [
        {
          "output_type": "execute_result",
          "data": {
            "text/plain": [
              "74"
            ]
          },
          "metadata": {
            "tags": []
          },
          "execution_count": 77
        }
      ]
    },
    {
      "cell_type": "code",
      "metadata": {
        "id": "QVNAsjZe6rP-",
        "colab_type": "code",
        "colab": {}
      },
      "source": [
        "HealthServices_Employees = HealthServices_Tview['Number of Employees'].sum()"
      ],
      "execution_count": 78,
      "outputs": []
    },
    {
      "cell_type": "code",
      "metadata": {
        "id": "ztPkE2156wn2",
        "colab_type": "code",
        "colab": {}
      },
      "source": [
        "Communications_Tview = tview.loc[(tview['Sector'])=='Communications']"
      ],
      "execution_count": 79,
      "outputs": []
    },
    {
      "cell_type": "code",
      "metadata": {
        "id": "vPkIpP9z66XC",
        "colab_type": "code",
        "colab": {
          "base_uri": "https://localhost:8080/",
          "height": 34
        },
        "outputId": "afb5ac03-8320-408b-8c5e-f35dbd5942c9"
      },
      "source": [
        "len(Communications_Tview)"
      ],
      "execution_count": 80,
      "outputs": [
        {
          "output_type": "execute_result",
          "data": {
            "text/plain": [
              "37"
            ]
          },
          "metadata": {
            "tags": []
          },
          "execution_count": 80
        }
      ]
    },
    {
      "cell_type": "code",
      "metadata": {
        "id": "ijtErJ9169zo",
        "colab_type": "code",
        "colab": {}
      },
      "source": [
        "Communications_Employees = Communications_Tview['Number of Employees'].sum()"
      ],
      "execution_count": 81,
      "outputs": []
    },
    {
      "cell_type": "code",
      "metadata": {
        "id": "hc17YZyy7Emp",
        "colab_type": "code",
        "colab": {}
      },
      "source": [
        "Miscellaneous_Tview = tview.loc[(tview['Sector'])=='Miscellaneous']"
      ],
      "execution_count": 82,
      "outputs": []
    },
    {
      "cell_type": "code",
      "metadata": {
        "id": "O75TpOOB7VsJ",
        "colab_type": "code",
        "colab": {
          "base_uri": "https://localhost:8080/",
          "height": 34
        },
        "outputId": "d36c0e66-c9b3-4c4b-c1f5-6ae144bf7a24"
      },
      "source": [
        "len(Miscellaneous_Tview)"
      ],
      "execution_count": 83,
      "outputs": [
        {
          "output_type": "execute_result",
          "data": {
            "text/plain": [
              "22"
            ]
          },
          "metadata": {
            "tags": []
          },
          "execution_count": 83
        }
      ]
    },
    {
      "cell_type": "code",
      "metadata": {
        "id": "E-J5DYsf7XKj",
        "colab_type": "code",
        "colab": {}
      },
      "source": [
        "Miscellaneous_Employees = Miscellaneous_Tview['Number of Employees'].sum()"
      ],
      "execution_count": 84,
      "outputs": []
    },
    {
      "cell_type": "code",
      "metadata": {
        "id": "kJuhWSSK7mGJ",
        "colab_type": "code",
        "colab": {}
      },
      "source": [
        "Total_StkMrkt_Employees = (Miscellaneous_Employees+Communications_Employees+HealthServices_Employees+DistServices_Employees+Utilities_Employees+Transportation_Employees+ConsumerDurables_Employees+EnergyMinerals_Employees+NonEnergy_Minerals_Employees+Consumer_NonDur_Employees+RetailTrade_Employees+IndustServices_Employees+ProcessIndustries_Employees+CommServices_Employees+ConServices_Employees+ProducerMFG_Employees+ElectronicTech_Employees+TechServices_Employees+HealthTech_Employee+Financial_Employees)"
      ],
      "execution_count": 85,
      "outputs": []
    },
    {
      "cell_type": "code",
      "metadata": {
        "id": "3iRcN2nl_nKy",
        "colab_type": "code",
        "colab": {
          "base_uri": "https://localhost:8080/",
          "height": 34
        },
        "outputId": "992248c0-d427-4bd1-f0c9-cfff9706755f"
      },
      "source": [
        "Total_StkMrkt_Employees"
      ],
      "execution_count": 86,
      "outputs": [
        {
          "output_type": "execute_result",
          "data": {
            "text/plain": [
              "45432078.0"
            ]
          },
          "metadata": {
            "tags": []
          },
          "execution_count": 86
        }
      ]
    },
    {
      "cell_type": "code",
      "metadata": {
        "id": "ZJMrFHoC_or_",
        "colab_type": "code",
        "colab": {}
      },
      "source": [
        ""
      ],
      "execution_count": null,
      "outputs": []
    }
  ]
}