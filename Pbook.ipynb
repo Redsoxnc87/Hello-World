{
  "nbformat": 4,
  "nbformat_minor": 0,
  "metadata": {
    "colab": {
      "name": "Pbook.ipynb",
      "provenance": [],
      "collapsed_sections": [],
      "authorship_tag": "ABX9TyPeqK2nBHnA/CoCpuN+P6JJ",
      "include_colab_link": true
    },
    "kernelspec": {
      "name": "python3",
      "display_name": "Python 3"
    }
  },
  "cells": [
    {
      "cell_type": "markdown",
      "metadata": {
        "id": "view-in-github",
        "colab_type": "text"
      },
      "source": [
        "<a href=\"https://colab.research.google.com/github/Redsoxnc87/Hello-World/blob/master/Pbook.ipynb\" target=\"_parent\"><img src=\"https://colab.research.google.com/assets/colab-badge.svg\" alt=\"Open In Colab\"/></a>"
      ]
    },
    {
      "cell_type": "code",
      "metadata": {
        "id": "nAujxSebDMhK",
        "colab_type": "code",
        "colab": {}
      },
      "source": [
        "import pandas as pd \n",
        "import numpy as np \n",
        "import math "
      ],
      "execution_count": 1,
      "outputs": []
    },
    {
      "cell_type": "code",
      "metadata": {
        "id": "0ZBITotADQrV",
        "colab_type": "code",
        "colab": {}
      },
      "source": [
        "import operator\n",
        "import pandas.plotting\n",
        "import requests"
      ],
      "execution_count": 2,
      "outputs": []
    },
    {
      "cell_type": "code",
      "metadata": {
        "id": "RX1vjqCEDU-I",
        "colab_type": "code",
        "colab": {
          "base_uri": "https://localhost:8080/",
          "height": 34
        },
        "outputId": "a8a4852c-8f26-4849-e602-5de09ab5bfe5"
      },
      "source": [
        "8273000000/597592000"
      ],
      "execution_count": 3,
      "outputs": [
        {
          "output_type": "execute_result",
          "data": {
            "text/plain": [
              "13.843893492550102"
            ]
          },
          "metadata": {
            "tags": []
          },
          "execution_count": 3
        }
      ]
    },
    {
      "cell_type": "code",
      "metadata": {
        "id": "7Fq--UPSDae6",
        "colab_type": "code",
        "colab": {
          "base_uri": "https://localhost:8080/",
          "height": 34
        },
        "outputId": "a031610f-0ff2-4a73-b9b4-5fd8f6c4999e"
      },
      "source": [
        "70.13/13.84"
      ],
      "execution_count": 4,
      "outputs": [
        {
          "output_type": "execute_result",
          "data": {
            "text/plain": [
              "5.067196531791907"
            ]
          },
          "metadata": {
            "tags": []
          },
          "execution_count": 4
        }
      ]
    },
    {
      "cell_type": "code",
      "metadata": {
        "id": "sBW3FpFFFJxy",
        "colab_type": "code",
        "colab": {}
      },
      "source": [
        "pb = pd.read_csv('PB_Screener.csv')"
      ],
      "execution_count": 5,
      "outputs": []
    },
    {
      "cell_type": "code",
      "metadata": {
        "id": "FeKze_bvIAtZ",
        "colab_type": "code",
        "colab": {
          "base_uri": "https://localhost:8080/",
          "height": 282
        },
        "outputId": "fe8cc940-d621-49c1-fc41-24f95588eb8e"
      },
      "source": [
        "pb.describe()"
      ],
      "execution_count": 6,
      "outputs": [
        {
          "output_type": "execute_result",
          "data": {
            "text/html": [
              "<div>\n",
              "<style scoped>\n",
              "    .dataframe tbody tr th:only-of-type {\n",
              "        vertical-align: middle;\n",
              "    }\n",
              "\n",
              "    .dataframe tbody tr th {\n",
              "        vertical-align: top;\n",
              "    }\n",
              "\n",
              "    .dataframe thead th {\n",
              "        text-align: right;\n",
              "    }\n",
              "</style>\n",
              "<table border=\"1\" class=\"dataframe\">\n",
              "  <thead>\n",
              "    <tr style=\"text-align: right;\">\n",
              "      <th></th>\n",
              "      <th>Last</th>\n",
              "      <th>Shares Out</th>\n",
              "      <th>Market Cap</th>\n",
              "      <th>Analyst Rating</th>\n",
              "      <th>Debt/Equity</th>\n",
              "      <th>3Y %Chg</th>\n",
              "      <th>1Y %Chg</th>\n",
              "      <th>% Volume</th>\n",
              "      <th>Volume</th>\n",
              "      <th>Price/Book</th>\n",
              "    </tr>\n",
              "  </thead>\n",
              "  <tbody>\n",
              "    <tr>\n",
              "      <th>count</th>\n",
              "      <td>27.000000</td>\n",
              "      <td>2.700000e+01</td>\n",
              "      <td>2.700000e+01</td>\n",
              "      <td>27.000000</td>\n",
              "      <td>27.000000</td>\n",
              "      <td>27.000000</td>\n",
              "      <td>27.000000</td>\n",
              "      <td>27.000000</td>\n",
              "      <td>2.700000e+01</td>\n",
              "      <td>27.000000</td>\n",
              "    </tr>\n",
              "    <tr>\n",
              "      <th>mean</th>\n",
              "      <td>26.839259</td>\n",
              "      <td>2.172549e+08</td>\n",
              "      <td>3.763712e+09</td>\n",
              "      <td>3.299259</td>\n",
              "      <td>0.271111</td>\n",
              "      <td>0.683815</td>\n",
              "      <td>0.882519</td>\n",
              "      <td>-0.033556</td>\n",
              "      <td>1.303619e+06</td>\n",
              "      <td>1.251481</td>\n",
              "    </tr>\n",
              "    <tr>\n",
              "      <th>std</th>\n",
              "      <td>22.065481</td>\n",
              "      <td>4.708078e+08</td>\n",
              "      <td>5.623607e+09</td>\n",
              "      <td>1.871472</td>\n",
              "      <td>0.204042</td>\n",
              "      <td>1.147165</td>\n",
              "      <td>1.099696</td>\n",
              "      <td>0.499839</td>\n",
              "      <td>3.351102e+06</td>\n",
              "      <td>0.262088</td>\n",
              "    </tr>\n",
              "    <tr>\n",
              "      <th>min</th>\n",
              "      <td>2.180000</td>\n",
              "      <td>5.828000e+06</td>\n",
              "      <td>2.022400e+07</td>\n",
              "      <td>0.000000</td>\n",
              "      <td>0.010000</td>\n",
              "      <td>0.109000</td>\n",
              "      <td>0.207000</td>\n",
              "      <td>-0.749000</td>\n",
              "      <td>1.937000e+03</td>\n",
              "      <td>0.550000</td>\n",
              "    </tr>\n",
              "    <tr>\n",
              "      <th>25%</th>\n",
              "      <td>7.560000</td>\n",
              "      <td>2.266450e+07</td>\n",
              "      <td>2.286705e+08</td>\n",
              "      <td>3.165000</td>\n",
              "      <td>0.105000</td>\n",
              "      <td>0.182500</td>\n",
              "      <td>0.336500</td>\n",
              "      <td>-0.370000</td>\n",
              "      <td>8.050400e+04</td>\n",
              "      <td>1.190000</td>\n",
              "    </tr>\n",
              "    <tr>\n",
              "      <th>50%</th>\n",
              "      <td>21.240000</td>\n",
              "      <td>5.066200e+07</td>\n",
              "      <td>1.758799e+09</td>\n",
              "      <td>4.000000</td>\n",
              "      <td>0.240000</td>\n",
              "      <td>0.413000</td>\n",
              "      <td>0.532000</td>\n",
              "      <td>-0.146000</td>\n",
              "      <td>2.725000e+05</td>\n",
              "      <td>1.310000</td>\n",
              "    </tr>\n",
              "    <tr>\n",
              "      <th>75%</th>\n",
              "      <td>45.130000</td>\n",
              "      <td>1.786050e+08</td>\n",
              "      <td>4.337153e+09</td>\n",
              "      <td>4.565000</td>\n",
              "      <td>0.460000</td>\n",
              "      <td>0.725000</td>\n",
              "      <td>0.844000</td>\n",
              "      <td>0.128500</td>\n",
              "      <td>1.444550e+06</td>\n",
              "      <td>1.440000</td>\n",
              "    </tr>\n",
              "    <tr>\n",
              "      <th>max</th>\n",
              "      <td>78.130000</td>\n",
              "      <td>2.344800e+09</td>\n",
              "      <td>2.336180e+10</td>\n",
              "      <td>5.000000</td>\n",
              "      <td>0.650000</td>\n",
              "      <td>6.089000</td>\n",
              "      <td>5.014000</td>\n",
              "      <td>1.272000</td>\n",
              "      <td>1.760440e+07</td>\n",
              "      <td>1.500000</td>\n",
              "    </tr>\n",
              "  </tbody>\n",
              "</table>\n",
              "</div>"
            ],
            "text/plain": [
              "            Last    Shares Out  ...        Volume  Price/Book\n",
              "count  27.000000  2.700000e+01  ...  2.700000e+01   27.000000\n",
              "mean   26.839259  2.172549e+08  ...  1.303619e+06    1.251481\n",
              "std    22.065481  4.708078e+08  ...  3.351102e+06    0.262088\n",
              "min     2.180000  5.828000e+06  ...  1.937000e+03    0.550000\n",
              "25%     7.560000  2.266450e+07  ...  8.050400e+04    1.190000\n",
              "50%    21.240000  5.066200e+07  ...  2.725000e+05    1.310000\n",
              "75%    45.130000  1.786050e+08  ...  1.444550e+06    1.440000\n",
              "max    78.130000  2.344800e+09  ...  1.760440e+07    1.500000\n",
              "\n",
              "[8 rows x 10 columns]"
            ]
          },
          "metadata": {
            "tags": []
          },
          "execution_count": 6
        }
      ]
    },
    {
      "cell_type": "code",
      "metadata": {
        "id": "iOAkfUwRIErv",
        "colab_type": "code",
        "colab": {}
      },
      "source": [
        "L = list(range(0,27))"
      ],
      "execution_count": 7,
      "outputs": []
    },
    {
      "cell_type": "code",
      "metadata": {
        "id": "DCUHtCOoIIbB",
        "colab_type": "code",
        "colab": {}
      },
      "source": [
        "ch = operator.sub(pb['1Y %Chg'],pb['3Y %Chg'])"
      ],
      "execution_count": 8,
      "outputs": []
    },
    {
      "cell_type": "code",
      "metadata": {
        "id": "PzUI7qtVIanp",
        "colab_type": "code",
        "colab": {}
      },
      "source": [
        "pb['Diff_1to3']=(ch)"
      ],
      "execution_count": 9,
      "outputs": []
    },
    {
      "cell_type": "code",
      "metadata": {
        "id": "s74u_8ShIhk7",
        "colab_type": "code",
        "colab": {}
      },
      "source": [
        "chh = operator.add(pb['1Y %Chg'],pb['3Y %Chg'])"
      ],
      "execution_count": 10,
      "outputs": []
    },
    {
      "cell_type": "code",
      "metadata": {
        "id": "eYNx7nLZIpH_",
        "colab_type": "code",
        "colab": {}
      },
      "source": [
        "pb['Tot_Growth']=(chh)"
      ],
      "execution_count": 11,
      "outputs": []
    },
    {
      "cell_type": "code",
      "metadata": {
        "id": "8AldG-irItYQ",
        "colab_type": "code",
        "colab": {
          "base_uri": "https://localhost:8080/",
          "height": 282
        },
        "outputId": "8541768a-5e7e-4198-a8b6-dc4b4deb7c93"
      },
      "source": [
        "pb.describe()"
      ],
      "execution_count": 12,
      "outputs": [
        {
          "output_type": "execute_result",
          "data": {
            "text/html": [
              "<div>\n",
              "<style scoped>\n",
              "    .dataframe tbody tr th:only-of-type {\n",
              "        vertical-align: middle;\n",
              "    }\n",
              "\n",
              "    .dataframe tbody tr th {\n",
              "        vertical-align: top;\n",
              "    }\n",
              "\n",
              "    .dataframe thead th {\n",
              "        text-align: right;\n",
              "    }\n",
              "</style>\n",
              "<table border=\"1\" class=\"dataframe\">\n",
              "  <thead>\n",
              "    <tr style=\"text-align: right;\">\n",
              "      <th></th>\n",
              "      <th>Last</th>\n",
              "      <th>Shares Out</th>\n",
              "      <th>Market Cap</th>\n",
              "      <th>Analyst Rating</th>\n",
              "      <th>Debt/Equity</th>\n",
              "      <th>3Y %Chg</th>\n",
              "      <th>1Y %Chg</th>\n",
              "      <th>% Volume</th>\n",
              "      <th>Volume</th>\n",
              "      <th>Price/Book</th>\n",
              "      <th>Diff_1to3</th>\n",
              "      <th>Tot_Growth</th>\n",
              "    </tr>\n",
              "  </thead>\n",
              "  <tbody>\n",
              "    <tr>\n",
              "      <th>count</th>\n",
              "      <td>27.000000</td>\n",
              "      <td>2.700000e+01</td>\n",
              "      <td>2.700000e+01</td>\n",
              "      <td>27.000000</td>\n",
              "      <td>27.000000</td>\n",
              "      <td>27.000000</td>\n",
              "      <td>27.000000</td>\n",
              "      <td>27.000000</td>\n",
              "      <td>2.700000e+01</td>\n",
              "      <td>27.000000</td>\n",
              "      <td>27.000000</td>\n",
              "      <td>27.000000</td>\n",
              "    </tr>\n",
              "    <tr>\n",
              "      <th>mean</th>\n",
              "      <td>26.839259</td>\n",
              "      <td>2.172549e+08</td>\n",
              "      <td>3.763712e+09</td>\n",
              "      <td>3.299259</td>\n",
              "      <td>0.271111</td>\n",
              "      <td>0.683815</td>\n",
              "      <td>0.882519</td>\n",
              "      <td>-0.033556</td>\n",
              "      <td>1.303619e+06</td>\n",
              "      <td>1.251481</td>\n",
              "      <td>0.198704</td>\n",
              "      <td>1.566333</td>\n",
              "    </tr>\n",
              "    <tr>\n",
              "      <th>std</th>\n",
              "      <td>22.065481</td>\n",
              "      <td>4.708078e+08</td>\n",
              "      <td>5.623607e+09</td>\n",
              "      <td>1.871472</td>\n",
              "      <td>0.204042</td>\n",
              "      <td>1.147165</td>\n",
              "      <td>1.099696</td>\n",
              "      <td>0.499839</td>\n",
              "      <td>3.351102e+06</td>\n",
              "      <td>0.262088</td>\n",
              "      <td>1.480591</td>\n",
              "      <td>1.690706</td>\n",
              "    </tr>\n",
              "    <tr>\n",
              "      <th>min</th>\n",
              "      <td>2.180000</td>\n",
              "      <td>5.828000e+06</td>\n",
              "      <td>2.022400e+07</td>\n",
              "      <td>0.000000</td>\n",
              "      <td>0.010000</td>\n",
              "      <td>0.109000</td>\n",
              "      <td>0.207000</td>\n",
              "      <td>-0.749000</td>\n",
              "      <td>1.937000e+03</td>\n",
              "      <td>0.550000</td>\n",
              "      <td>-5.006000</td>\n",
              "      <td>0.316000</td>\n",
              "    </tr>\n",
              "    <tr>\n",
              "      <th>25%</th>\n",
              "      <td>7.560000</td>\n",
              "      <td>2.266450e+07</td>\n",
              "      <td>2.286705e+08</td>\n",
              "      <td>3.165000</td>\n",
              "      <td>0.105000</td>\n",
              "      <td>0.182500</td>\n",
              "      <td>0.336500</td>\n",
              "      <td>-0.370000</td>\n",
              "      <td>8.050400e+04</td>\n",
              "      <td>1.190000</td>\n",
              "      <td>0.040000</td>\n",
              "      <td>0.614500</td>\n",
              "    </tr>\n",
              "    <tr>\n",
              "      <th>50%</th>\n",
              "      <td>21.240000</td>\n",
              "      <td>5.066200e+07</td>\n",
              "      <td>1.758799e+09</td>\n",
              "      <td>4.000000</td>\n",
              "      <td>0.240000</td>\n",
              "      <td>0.413000</td>\n",
              "      <td>0.532000</td>\n",
              "      <td>-0.146000</td>\n",
              "      <td>2.725000e+05</td>\n",
              "      <td>1.310000</td>\n",
              "      <td>0.154000</td>\n",
              "      <td>0.937000</td>\n",
              "    </tr>\n",
              "    <tr>\n",
              "      <th>75%</th>\n",
              "      <td>45.130000</td>\n",
              "      <td>1.786050e+08</td>\n",
              "      <td>4.337153e+09</td>\n",
              "      <td>4.565000</td>\n",
              "      <td>0.460000</td>\n",
              "      <td>0.725000</td>\n",
              "      <td>0.844000</td>\n",
              "      <td>0.128500</td>\n",
              "      <td>1.444550e+06</td>\n",
              "      <td>1.440000</td>\n",
              "      <td>0.339000</td>\n",
              "      <td>1.568000</td>\n",
              "    </tr>\n",
              "    <tr>\n",
              "      <th>max</th>\n",
              "      <td>78.130000</td>\n",
              "      <td>2.344800e+09</td>\n",
              "      <td>2.336180e+10</td>\n",
              "      <td>5.000000</td>\n",
              "      <td>0.650000</td>\n",
              "      <td>6.089000</td>\n",
              "      <td>5.014000</td>\n",
              "      <td>1.272000</td>\n",
              "      <td>1.760440e+07</td>\n",
              "      <td>1.500000</td>\n",
              "      <td>4.745000</td>\n",
              "      <td>7.172000</td>\n",
              "    </tr>\n",
              "  </tbody>\n",
              "</table>\n",
              "</div>"
            ],
            "text/plain": [
              "            Last    Shares Out    Market Cap  ...  Price/Book  Diff_1to3  Tot_Growth\n",
              "count  27.000000  2.700000e+01  2.700000e+01  ...   27.000000  27.000000   27.000000\n",
              "mean   26.839259  2.172549e+08  3.763712e+09  ...    1.251481   0.198704    1.566333\n",
              "std    22.065481  4.708078e+08  5.623607e+09  ...    0.262088   1.480591    1.690706\n",
              "min     2.180000  5.828000e+06  2.022400e+07  ...    0.550000  -5.006000    0.316000\n",
              "25%     7.560000  2.266450e+07  2.286705e+08  ...    1.190000   0.040000    0.614500\n",
              "50%    21.240000  5.066200e+07  1.758799e+09  ...    1.310000   0.154000    0.937000\n",
              "75%    45.130000  1.786050e+08  4.337153e+09  ...    1.440000   0.339000    1.568000\n",
              "max    78.130000  2.344800e+09  2.336180e+10  ...    1.500000   4.745000    7.172000\n",
              "\n",
              "[8 rows x 12 columns]"
            ]
          },
          "metadata": {
            "tags": []
          },
          "execution_count": 12
        }
      ]
    },
    {
      "cell_type": "code",
      "metadata": {
        "id": "hEYyoO-LIu4h",
        "colab_type": "code",
        "colab": {
          "base_uri": "https://localhost:8080/",
          "height": 282
        },
        "outputId": "2c195515-e211-4865-a2c6-bdefb5876c21"
      },
      "source": [
        "pb.Tot_Growth.hist()"
      ],
      "execution_count": 13,
      "outputs": [
        {
          "output_type": "execute_result",
          "data": {
            "text/plain": [
              "<matplotlib.axes._subplots.AxesSubplot at 0x7fed85b268d0>"
            ]
          },
          "metadata": {
            "tags": []
          },
          "execution_count": 13
        },
        {
          "output_type": "display_data",
          "data": {
            "image/png": "[encoded data removed]",
            "text/plain": [
              "<Figure size 432x288 with 1 Axes>"
            ]
          },
          "metadata": {
            "tags": [],
            "needs_background": "light"
          }
        }
      ]
    },
    {
      "cell_type": "code",
      "metadata": {
        "id": "7me8EYQpJGLc",
        "colab_type": "code",
        "colab": {}
      },
      "source": [
        "Hgrow = pb.loc[(pb['Tot_Growth'])> 1.00]"
      ],
      "execution_count": 14,
      "outputs": []
    },
    {
      "cell_type": "code",
      "metadata": {
        "id": "0dHSTLzUJb30",
        "colab_type": "code",
        "colab": {
          "base_uri": "https://localhost:8080/",
          "height": 34
        },
        "outputId": "5c437ea8-3556-40a8-c6ea-9c1a130cfde5"
      },
      "source": [
        "len(Hgrow)"
      ],
      "execution_count": 15,
      "outputs": [
        {
          "output_type": "execute_result",
          "data": {
            "text/plain": [
              "13"
            ]
          },
          "metadata": {
            "tags": []
          },
          "execution_count": 15
        }
      ]
    },
    {
      "cell_type": "code",
      "metadata": {
        "id": "FFyjXFsIJdRd",
        "colab_type": "code",
        "colab": {
          "base_uri": "https://localhost:8080/",
          "height": 809
        },
        "outputId": "4d683edf-48f4-4933-ef5b-91260b11ecf5"
      },
      "source": [
        "Hgrow"
      ],
      "execution_count": 16,
      "outputs": [
        {
          "output_type": "execute_result",
          "data": {
            "text/html": [
              "<div>\n",
              "<style scoped>\n",
              "    .dataframe tbody tr th:only-of-type {\n",
              "        vertical-align: middle;\n",
              "    }\n",
              "\n",
              "    .dataframe tbody tr th {\n",
              "        vertical-align: top;\n",
              "    }\n",
              "\n",
              "    .dataframe thead th {\n",
              "        text-align: right;\n",
              "    }\n",
              "</style>\n",
              "<table border=\"1\" class=\"dataframe\">\n",
              "  <thead>\n",
              "    <tr style=\"text-align: right;\">\n",
              "      <th></th>\n",
              "      <th>Symbol</th>\n",
              "      <th>Name</th>\n",
              "      <th>Exchange</th>\n",
              "      <th>Industry</th>\n",
              "      <th>Last</th>\n",
              "      <th>Time</th>\n",
              "      <th>Shares Out</th>\n",
              "      <th>Market Cap</th>\n",
              "      <th>Analyst Rating</th>\n",
              "      <th>Sector</th>\n",
              "      <th>Debt/Equity</th>\n",
              "      <th>3Y %Chg</th>\n",
              "      <th>1Y %Chg</th>\n",
              "      <th>% Volume</th>\n",
              "      <th>Volume</th>\n",
              "      <th>Price/Book</th>\n",
              "      <th>Diff_1to3</th>\n",
              "      <th>Tot_Growth</th>\n",
              "    </tr>\n",
              "  </thead>\n",
              "  <tbody>\n",
              "    <tr>\n",
              "      <th>1</th>\n",
              "      <td>BEP</td>\n",
              "      <td>Brookfield Renewable</td>\n",
              "      <td>NYSE</td>\n",
              "      <td>Utility - Electric Power</td>\n",
              "      <td>45.06</td>\n",
              "      <td>9/1/2020</td>\n",
              "      <td>1.830820e+08</td>\n",
              "      <td>8.319246e+09</td>\n",
              "      <td>3.43</td>\n",
              "      <td>Utilities</td>\n",
              "      <td>0.63</td>\n",
              "      <td>0.269</td>\n",
              "      <td>5.014</td>\n",
              "      <td>-0.369</td>\n",
              "      <td>272500.0</td>\n",
              "      <td>0.55</td>\n",
              "      <td>4.745</td>\n",
              "      <td>5.283</td>\n",
              "    </tr>\n",
              "    <tr>\n",
              "      <th>3</th>\n",
              "      <td>OIIM</td>\n",
              "      <td>O2Micro Intl Ltd</td>\n",
              "      <td>NASDAQ</td>\n",
              "      <td>Electronics - Semiconductors</td>\n",
              "      <td>2.88</td>\n",
              "      <td>9/1/2020</td>\n",
              "      <td>2.635000e+07</td>\n",
              "      <td>7.667900e+07</td>\n",
              "      <td>5.00</td>\n",
              "      <td>Computers and Technology</td>\n",
              "      <td>0.02</td>\n",
              "      <td>0.842</td>\n",
              "      <td>1.171</td>\n",
              "      <td>-0.371</td>\n",
              "      <td>67957.0</td>\n",
              "      <td>1.05</td>\n",
              "      <td>0.329</td>\n",
              "      <td>2.013</td>\n",
              "    </tr>\n",
              "    <tr>\n",
              "      <th>6</th>\n",
              "      <td>REGI</td>\n",
              "      <td>Renewable Energy</td>\n",
              "      <td>NASDAQ</td>\n",
              "      <td>Biofuels</td>\n",
              "      <td>38.62</td>\n",
              "      <td>9/1/2020</td>\n",
              "      <td>3.929200e+07</td>\n",
              "      <td>1.313531e+09</td>\n",
              "      <td>4.80</td>\n",
              "      <td>Oils-Energy</td>\n",
              "      <td>0.01</td>\n",
              "      <td>1.774</td>\n",
              "      <td>2.173</td>\n",
              "      <td>0.820</td>\n",
              "      <td>1572286.0</td>\n",
              "      <td>1.19</td>\n",
              "      <td>0.399</td>\n",
              "      <td>3.947</td>\n",
              "    </tr>\n",
              "    <tr>\n",
              "      <th>8</th>\n",
              "      <td>UMC</td>\n",
              "      <td>United Microelectronics Corp</td>\n",
              "      <td>NYSE</td>\n",
              "      <td>Electronics - Semiconductors</td>\n",
              "      <td>3.64</td>\n",
              "      <td>9/1/2020</td>\n",
              "      <td>2.344800e+09</td>\n",
              "      <td>8.300592e+09</td>\n",
              "      <td>3.00</td>\n",
              "      <td>Computers and Technology</td>\n",
              "      <td>0.25</td>\n",
              "      <td>0.336</td>\n",
              "      <td>0.725</td>\n",
              "      <td>-0.422</td>\n",
              "      <td>1089000.0</td>\n",
              "      <td>1.21</td>\n",
              "      <td>0.389</td>\n",
              "      <td>1.061</td>\n",
              "    </tr>\n",
              "    <tr>\n",
              "      <th>9</th>\n",
              "      <td>CSIQ</td>\n",
              "      <td>Canadian Solar Inc</td>\n",
              "      <td>NASDAQ</td>\n",
              "      <td>Solar</td>\n",
              "      <td>33.75</td>\n",
              "      <td>9/1/2020</td>\n",
              "      <td>5.937200e+07</td>\n",
              "      <td>1.928996e+09</td>\n",
              "      <td>4.33</td>\n",
              "      <td>Oils-Energy</td>\n",
              "      <td>0.45</td>\n",
              "      <td>0.993</td>\n",
              "      <td>0.443</td>\n",
              "      <td>0.145</td>\n",
              "      <td>2194600.0</td>\n",
              "      <td>1.25</td>\n",
              "      <td>-0.550</td>\n",
              "      <td>1.436</td>\n",
              "    </tr>\n",
              "    <tr>\n",
              "      <th>10</th>\n",
              "      <td>BNSO</td>\n",
              "      <td>Bonso Elec Intl IN</td>\n",
              "      <td>NASDAQ</td>\n",
              "      <td>Electronics Products - Misc</td>\n",
              "      <td>3.76</td>\n",
              "      <td>9/1/2020</td>\n",
              "      <td>5.828000e+06</td>\n",
              "      <td>2.022400e+07</td>\n",
              "      <td>0.00</td>\n",
              "      <td>Computers and Technology</td>\n",
              "      <td>0.17</td>\n",
              "      <td>0.614</td>\n",
              "      <td>0.642</td>\n",
              "      <td>1.094</td>\n",
              "      <td>32952.0</td>\n",
              "      <td>1.27</td>\n",
              "      <td>0.028</td>\n",
              "      <td>1.256</td>\n",
              "    </tr>\n",
              "    <tr>\n",
              "      <th>13</th>\n",
              "      <td>LTRPB</td>\n",
              "      <td>Liberty Tripadv B</td>\n",
              "      <td>NASDAQ</td>\n",
              "      <td>Internet - Services</td>\n",
              "      <td>43.05</td>\n",
              "      <td>9/1/2020</td>\n",
              "      <td>7.512000e+07</td>\n",
              "      <td>3.350352e+09</td>\n",
              "      <td>0.00</td>\n",
              "      <td>Computers and Technology</td>\n",
              "      <td>0.24</td>\n",
              "      <td>0.836</td>\n",
              "      <td>3.696</td>\n",
              "      <td>-0.749</td>\n",
              "      <td>1937.0</td>\n",
              "      <td>1.31</td>\n",
              "      <td>2.860</td>\n",
              "      <td>4.532</td>\n",
              "    </tr>\n",
              "    <tr>\n",
              "      <th>14</th>\n",
              "      <td>GRBK</td>\n",
              "      <td>Green Brick Partners</td>\n",
              "      <td>NASDAQ</td>\n",
              "      <td>Real Estate Developers</td>\n",
              "      <td>15.03</td>\n",
              "      <td>9/1/2020</td>\n",
              "      <td>5.066200e+07</td>\n",
              "      <td>7.214270e+08</td>\n",
              "      <td>5.00</td>\n",
              "      <td>Finance</td>\n",
              "      <td>0.13</td>\n",
              "      <td>0.556</td>\n",
              "      <td>0.636</td>\n",
              "      <td>1.272</td>\n",
              "      <td>651494.0</td>\n",
              "      <td>1.31</td>\n",
              "      <td>0.080</td>\n",
              "      <td>1.192</td>\n",
              "    </tr>\n",
              "    <tr>\n",
              "      <th>16</th>\n",
              "      <td>AUY</td>\n",
              "      <td>Yamana Gold</td>\n",
              "      <td>NYSE</td>\n",
              "      <td>Mining - Gold</td>\n",
              "      <td>6.09</td>\n",
              "      <td>9/1/2020</td>\n",
              "      <td>9.516640e+08</td>\n",
              "      <td>5.900317e+09</td>\n",
              "      <td>3.56</td>\n",
              "      <td>Basic Materials</td>\n",
              "      <td>0.24</td>\n",
              "      <td>1.013</td>\n",
              "      <td>0.687</td>\n",
              "      <td>0.006</td>\n",
              "      <td>17604400.0</td>\n",
              "      <td>1.36</td>\n",
              "      <td>-0.326</td>\n",
              "      <td>1.700</td>\n",
              "    </tr>\n",
              "    <tr>\n",
              "      <th>18</th>\n",
              "      <td>LEN</td>\n",
              "      <td>Lennar Corp</td>\n",
              "      <td>NYSE</td>\n",
              "      <td>Building - Residential &amp; Comm</td>\n",
              "      <td>78.13</td>\n",
              "      <td>9/1/2020</td>\n",
              "      <td>3.122400e+08</td>\n",
              "      <td>2.336180e+10</td>\n",
              "      <td>4.00</td>\n",
              "      <td>Construction</td>\n",
              "      <td>0.50</td>\n",
              "      <td>0.480</td>\n",
              "      <td>0.532</td>\n",
              "      <td>0.115</td>\n",
              "      <td>2331600.0</td>\n",
              "      <td>1.43</td>\n",
              "      <td>0.052</td>\n",
              "      <td>1.012</td>\n",
              "    </tr>\n",
              "    <tr>\n",
              "      <th>20</th>\n",
              "      <td>BWEN</td>\n",
              "      <td>Broadwind Energy Inc</td>\n",
              "      <td>NASDAQ</td>\n",
              "      <td>Machinery - General Industrial</td>\n",
              "      <td>3.67</td>\n",
              "      <td>9/1/2020</td>\n",
              "      <td>1.684600e+07</td>\n",
              "      <td>6.115100e+07</td>\n",
              "      <td>5.00</td>\n",
              "      <td>Industrial Products</td>\n",
              "      <td>0.51</td>\n",
              "      <td>0.142</td>\n",
              "      <td>0.963</td>\n",
              "      <td>-0.499</td>\n",
              "      <td>119490.0</td>\n",
              "      <td>1.45</td>\n",
              "      <td>0.821</td>\n",
              "      <td>1.105</td>\n",
              "    </tr>\n",
              "    <tr>\n",
              "      <th>22</th>\n",
              "      <td>MTBC</td>\n",
              "      <td>Mtbc Inc.</td>\n",
              "      <td>NASDAQ</td>\n",
              "      <td>Medical Information Systems</td>\n",
              "      <td>9.31</td>\n",
              "      <td>9/1/2020</td>\n",
              "      <td>1.270000e+07</td>\n",
              "      <td>1.215390e+08</td>\n",
              "      <td>4.71</td>\n",
              "      <td>Medical</td>\n",
              "      <td>0.24</td>\n",
              "      <td>6.089</td>\n",
              "      <td>1.083</td>\n",
              "      <td>-0.472</td>\n",
              "      <td>112897.0</td>\n",
              "      <td>1.49</td>\n",
              "      <td>-5.006</td>\n",
              "      <td>7.172</td>\n",
              "    </tr>\n",
              "    <tr>\n",
              "      <th>25</th>\n",
              "      <td>HZO</td>\n",
              "      <td>Marinemax Inc</td>\n",
              "      <td>NYSE</td>\n",
              "      <td>Retail - Misc &amp; Diversified</td>\n",
              "      <td>30.30</td>\n",
              "      <td>9/1/2020</td>\n",
              "      <td>2.162800e+07</td>\n",
              "      <td>6.360800e+08</td>\n",
              "      <td>4.29</td>\n",
              "      <td>Retail-Wholesale</td>\n",
              "      <td>0.09</td>\n",
              "      <td>0.922</td>\n",
              "      <td>1.095</td>\n",
              "      <td>-0.158</td>\n",
              "      <td>338100.0</td>\n",
              "      <td>1.50</td>\n",
              "      <td>0.173</td>\n",
              "      <td>2.017</td>\n",
              "    </tr>\n",
              "  </tbody>\n",
              "</table>\n",
              "</div>"
            ],
            "text/plain": [
              "   Symbol                          Name  ... Diff_1to3 Tot_Growth\n",
              "1     BEP          Brookfield Renewable  ...     4.745      5.283\n",
              "3    OIIM              O2Micro Intl Ltd  ...     0.329      2.013\n",
              "6    REGI              Renewable Energy  ...     0.399      3.947\n",
              "8     UMC  United Microelectronics Corp  ...     0.389      1.061\n",
              "9    CSIQ            Canadian Solar Inc  ...    -0.550      1.436\n",
              "10   BNSO            Bonso Elec Intl IN  ...     0.028      1.256\n",
              "13  LTRPB             Liberty Tripadv B  ...     2.860      4.532\n",
              "14   GRBK          Green Brick Partners  ...     0.080      1.192\n",
              "16    AUY                   Yamana Gold  ...    -0.326      1.700\n",
              "18    LEN                   Lennar Corp  ...     0.052      1.012\n",
              "20   BWEN          Broadwind Energy Inc  ...     0.821      1.105\n",
              "22   MTBC                     Mtbc Inc.  ...    -5.006      7.172\n",
              "25    HZO                 Marinemax Inc  ...     0.173      2.017\n",
              "\n",
              "[13 rows x 18 columns]"
            ]
          },
          "metadata": {
            "tags": []
          },
          "execution_count": 16
        }
      ]
    },
    {
      "cell_type": "code",
      "metadata": {
        "id": "9yOKVrKhJeW9",
        "colab_type": "code",
        "colab": {}
      },
      "source": [
        "Hgrow.to_csv('Price_to_Book_Hgrow.csv', index=False)"
      ],
      "execution_count": 17,
      "outputs": []
    },
    {
      "cell_type": "code",
      "metadata": {
        "id": "VIH3uVABKEHl",
        "colab_type": "code",
        "colab": {}
      },
      "source": [
        "pb.to_csv('Pbook_Xfields.csv', index=False)"
      ],
      "execution_count": 18,
      "outputs": []
    },
    {
      "cell_type": "code",
      "metadata": {
        "id": "wQB0PKmlKPwi",
        "colab_type": "code",
        "colab": {}
      },
      "source": [
        ""
      ],
      "execution_count": null,
      "outputs": []
    }
  ]
}