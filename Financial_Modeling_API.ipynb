{
  "nbformat": 4,
  "nbformat_minor": 0,
  "metadata": {
    "colab": {
      "name": "Financial_Modeling_API.ipynb",
      "provenance": [],
      "collapsed_sections": [],
      "authorship_tag": "ABX9TyPv0iDXdMPSynyM1txyB6Yc",
      "include_colab_link": true
    },
    "kernelspec": {
      "name": "python3",
      "display_name": "Python 3"
    }
  },
  "cells": [
    {
      "cell_type": "markdown",
      "metadata": {
        "id": "view-in-github",
        "colab_type": "text"
      },
      "source": [
        "<a href=\"https://colab.research.google.com/github/Redsoxnc87/Hello-World/blob/master/Financial_Modeling_API.ipynb\" target=\"_parent\"><img src=\"https://colab.research.google.com/assets/colab-badge.svg\" alt=\"Open In Colab\"/></a>"
      ]
    },
    {
      "cell_type": "code",
      "metadata": {
        "id": "Hd37j-Bj781G"
      },
      "source": [
        "import pandas as pd \n",
        "import numpy as np \n",
        "import math \n",
        "import os \n",
        "import sys \n",
        "import requests "
      ],
      "execution_count": 1,
      "outputs": []
    },
    {
      "cell_type": "code",
      "metadata": {
        "id": "utmldAR_8Ehm"
      },
      "source": [
        "import operator\n",
        "import json\n",
        "import pandas.plotting\n",
        "import matplotlib.pyplot as plt\n",
        "%matplotlib inline"
      ],
      "execution_count": 2,
      "outputs": []
    },
    {
      "cell_type": "code",
      "metadata": {
        "id": "ugW0-7Pw8MMn"
      },
      "source": [
        "prpl_dcf = pd.read_json('https://financialmodelingprep.com/api/v3/discounted-cash-flow/PRPL?apikey=30e3135d235214a1096f974eb78ef403')"
      ],
      "execution_count": 3,
      "outputs": []
    },
    {
      "cell_type": "code",
      "metadata": {
        "id": "d49O1SJW8Sb6",
        "outputId": "908ac57a-b173-428c-da11-974d2d9cfa71",
        "colab": {
          "base_uri": "https://localhost:8080/",
          "height": 77
        }
      },
      "source": [
        "prpl_dcf"
      ],
      "execution_count": 4,
      "outputs": [
        {
          "output_type": "execute_result",
          "data": {
            "text/html": [
              "<div>\n",
              "<style scoped>\n",
              "    .dataframe tbody tr th:only-of-type {\n",
              "        vertical-align: middle;\n",
              "    }\n",
              "\n",
              "    .dataframe tbody tr th {\n",
              "        vertical-align: top;\n",
              "    }\n",
              "\n",
              "    .dataframe thead th {\n",
              "        text-align: right;\n",
              "    }\n",
              "</style>\n",
              "<table border=\"1\" class=\"dataframe\">\n",
              "  <thead>\n",
              "    <tr style=\"text-align: right;\">\n",
              "      <th></th>\n",
              "      <th>symbol</th>\n",
              "      <th>date</th>\n",
              "      <th>dcf</th>\n",
              "      <th>Stock Price</th>\n",
              "    </tr>\n",
              "  </thead>\n",
              "  <tbody>\n",
              "    <tr>\n",
              "      <th>0</th>\n",
              "      <td>PRPL</td>\n",
              "      <td>2020-10-12</td>\n",
              "      <td>32.305793</td>\n",
              "      <td>28.96</td>\n",
              "    </tr>\n",
              "  </tbody>\n",
              "</table>\n",
              "</div>"
            ],
            "text/plain": [
              "  symbol       date        dcf  Stock Price\n",
              "0   PRPL 2020-10-12  32.305793        28.96"
            ]
          },
          "metadata": {
            "tags": []
          },
          "execution_count": 4
        }
      ]
    },
    {
      "cell_type": "code",
      "metadata": {
        "id": "Uhb03KFW8UPL"
      },
      "source": [
        "prpl_finaicals = pd.read_json('https://financialmodelingprep.com/api/v3/income-statement/PRPL?limit=20&apikey=30e3135d235214a1096f974eb78ef403')"
      ],
      "execution_count": 5,
      "outputs": []
    },
    {
      "cell_type": "code",
      "metadata": {
        "id": "5l_kuk1o8pMD",
        "outputId": "925e8987-112b-4603-8a83-2eaf6d958e24",
        "colab": {
          "base_uri": "https://localhost:8080/",
          "height": 300
        }
      },
      "source": [
        "prpl_finaicals"
      ],
      "execution_count": 6,
      "outputs": [
        {
          "output_type": "execute_result",
          "data": {
            "text/html": [
              "<div>\n",
              "<style scoped>\n",
              "    .dataframe tbody tr th:only-of-type {\n",
              "        vertical-align: middle;\n",
              "    }\n",
              "\n",
              "    .dataframe tbody tr th {\n",
              "        vertical-align: top;\n",
              "    }\n",
              "\n",
              "    .dataframe thead th {\n",
              "        text-align: right;\n",
              "    }\n",
              "</style>\n",
              "<table border=\"1\" class=\"dataframe\">\n",
              "  <thead>\n",
              "    <tr style=\"text-align: right;\">\n",
              "      <th></th>\n",
              "      <th>date</th>\n",
              "      <th>symbol</th>\n",
              "      <th>fillingDate</th>\n",
              "      <th>acceptedDate</th>\n",
              "      <th>period</th>\n",
              "      <th>revenue</th>\n",
              "      <th>costOfRevenue</th>\n",
              "      <th>grossProfit</th>\n",
              "      <th>grossProfitRatio</th>\n",
              "      <th>researchAndDevelopmentExpenses</th>\n",
              "      <th>generalAndAdministrativeExpenses</th>\n",
              "      <th>sellingAndMarketingExpenses</th>\n",
              "      <th>otherExpenses</th>\n",
              "      <th>operatingExpenses</th>\n",
              "      <th>costAndExpenses</th>\n",
              "      <th>interestExpense</th>\n",
              "      <th>depreciationAndAmortization</th>\n",
              "      <th>ebitda</th>\n",
              "      <th>ebitdaratio</th>\n",
              "      <th>operatingIncome</th>\n",
              "      <th>operatingIncomeRatio</th>\n",
              "      <th>totalOtherIncomeExpensesNet</th>\n",
              "      <th>incomeBeforeTax</th>\n",
              "      <th>incomeBeforeTaxRatio</th>\n",
              "      <th>incomeTaxExpense</th>\n",
              "      <th>netIncome</th>\n",
              "      <th>netIncomeRatio</th>\n",
              "      <th>eps</th>\n",
              "      <th>epsdiluted</th>\n",
              "      <th>weightedAverageShsOut</th>\n",
              "      <th>weightedAverageShsOutDil</th>\n",
              "      <th>link</th>\n",
              "      <th>finalLink</th>\n",
              "    </tr>\n",
              "  </thead>\n",
              "  <tbody>\n",
              "    <tr>\n",
              "      <th>0</th>\n",
              "      <td>2019-12-31</td>\n",
              "      <td>PRPL</td>\n",
              "      <td>2020-03-09 00:00:00</td>\n",
              "      <td>2020-03-09 16:05:05</td>\n",
              "      <td>FY</td>\n",
              "      <td>428358000</td>\n",
              "      <td>239387000</td>\n",
              "      <td>188971000</td>\n",
              "      <td>0.441152</td>\n",
              "      <td>3864000</td>\n",
              "      <td>168893000</td>\n",
              "      <td>141975000</td>\n",
              "      <td>-28193000</td>\n",
              "      <td>179056000.0</td>\n",
              "      <td>418443000</td>\n",
              "      <td>5180000</td>\n",
              "      <td>4308000</td>\n",
              "      <td>5861000</td>\n",
              "      <td>0.013682</td>\n",
              "      <td>9915000</td>\n",
              "      <td>0.023147</td>\n",
              "      <td>44000</td>\n",
              "      <td>-11979000</td>\n",
              "      <td>-0.027965</td>\n",
              "      <td>400000</td>\n",
              "      <td>-4027000</td>\n",
              "      <td>-0.009401</td>\n",
              "      <td>-0.40246</td>\n",
              "      <td>-0.40246</td>\n",
              "      <td>10006000</td>\n",
              "      <td>10006000</td>\n",
              "      <td>https://www.sec.gov/Archives/edgar/data/164395...</td>\n",
              "      <td>https://www.sec.gov/Archives/edgar/data/164395...</td>\n",
              "    </tr>\n",
              "    <tr>\n",
              "      <th>1</th>\n",
              "      <td>2018-12-31</td>\n",
              "      <td>PRPL</td>\n",
              "      <td>2019-03-14 00:00:00</td>\n",
              "      <td>2019-03-14 07:17:11</td>\n",
              "      <td>FY</td>\n",
              "      <td>285791000</td>\n",
              "      <td>173189000</td>\n",
              "      <td>112602000</td>\n",
              "      <td>0.394001</td>\n",
              "      <td>2095000</td>\n",
              "      <td>127401000</td>\n",
              "      <td>103820000</td>\n",
              "      <td>-2720000</td>\n",
              "      <td>129496000.0</td>\n",
              "      <td>302685000</td>\n",
              "      <td>3733000</td>\n",
              "      <td>2195000</td>\n",
              "      <td>1606000</td>\n",
              "      <td>0.005619</td>\n",
              "      <td>-16894000</td>\n",
              "      <td>-0.059113</td>\n",
              "      <td>1013000</td>\n",
              "      <td>-19614000</td>\n",
              "      <td>-0.068631</td>\n",
              "      <td>0</td>\n",
              "      <td>-4322000</td>\n",
              "      <td>-0.015123</td>\n",
              "      <td>-0.51342</td>\n",
              "      <td>-0.51342</td>\n",
              "      <td>8418000</td>\n",
              "      <td>8418000</td>\n",
              "      <td>https://www.sec.gov/Archives/edgar/data/164395...</td>\n",
              "      <td>https://www.sec.gov/Archives/edgar/data/164395...</td>\n",
              "    </tr>\n",
              "    <tr>\n",
              "      <th>2</th>\n",
              "      <td>2017-12-31</td>\n",
              "      <td>PRPL</td>\n",
              "      <td>2018-02-01 00:00:00</td>\n",
              "      <td>2018-02-01 09:46:37</td>\n",
              "      <td>FY</td>\n",
              "      <td>0</td>\n",
              "      <td>0</td>\n",
              "      <td>0</td>\n",
              "      <td>0.000000</td>\n",
              "      <td>0</td>\n",
              "      <td>2220000</td>\n",
              "      <td>0</td>\n",
              "      <td>19402000000</td>\n",
              "      <td>2220000.0</td>\n",
              "      <td>2220000</td>\n",
              "      <td>929000</td>\n",
              "      <td>0</td>\n",
              "      <td>2138000</td>\n",
              "      <td>0.000000</td>\n",
              "      <td>-2220000</td>\n",
              "      <td>0.000000</td>\n",
              "      <td>2500000</td>\n",
              "      <td>1209000</td>\n",
              "      <td>0.000000</td>\n",
              "      <td>406000</td>\n",
              "      <td>803000</td>\n",
              "      <td>0.000000</td>\n",
              "      <td>0.05022</td>\n",
              "      <td>0.05022</td>\n",
              "      <td>15989770</td>\n",
              "      <td>15989770</td>\n",
              "      <td>https://www.sec.gov/Archives/edgar/data/164395...</td>\n",
              "      <td>https://www.sec.gov/Archives/edgar/data/164395...</td>\n",
              "    </tr>\n",
              "    <tr>\n",
              "      <th>3</th>\n",
              "      <td>2016-12-31</td>\n",
              "      <td>PRPL</td>\n",
              "      <td>2017-03-14 00:00:00</td>\n",
              "      <td>2017-03-14 16:16:59</td>\n",
              "      <td>FY</td>\n",
              "      <td>0</td>\n",
              "      <td>0</td>\n",
              "      <td>0</td>\n",
              "      <td>0.000000</td>\n",
              "      <td>0</td>\n",
              "      <td>2657000</td>\n",
              "      <td>0</td>\n",
              "      <td>0</td>\n",
              "      <td>2657000.0</td>\n",
              "      <td>2657000</td>\n",
              "      <td>330000</td>\n",
              "      <td>0</td>\n",
              "      <td>-1997000</td>\n",
              "      <td>0.000000</td>\n",
              "      <td>-2657000</td>\n",
              "      <td>0.000000</td>\n",
              "      <td>0</td>\n",
              "      <td>-2327000</td>\n",
              "      <td>0.000000</td>\n",
              "      <td>0</td>\n",
              "      <td>-2327000</td>\n",
              "      <td>0.000000</td>\n",
              "      <td>-0.11991</td>\n",
              "      <td>-0.11991</td>\n",
              "      <td>19406250</td>\n",
              "      <td>19406250</td>\n",
              "      <td>https://www.sec.gov/Archives/edgar/data/164395...</td>\n",
              "      <td>https://www.sec.gov/Archives/edgar/data/164395...</td>\n",
              "    </tr>\n",
              "    <tr>\n",
              "      <th>4</th>\n",
              "      <td>2015-12-31</td>\n",
              "      <td>PRPL</td>\n",
              "      <td>2016-03-11 00:00:00</td>\n",
              "      <td>2016-03-11 16:31:40</td>\n",
              "      <td>FY</td>\n",
              "      <td>0</td>\n",
              "      <td>0</td>\n",
              "      <td>0</td>\n",
              "      <td>0.000000</td>\n",
              "      <td>0</td>\n",
              "      <td>346000</td>\n",
              "      <td>0</td>\n",
              "      <td>0</td>\n",
              "      <td>346000.0</td>\n",
              "      <td>346000</td>\n",
              "      <td>43000</td>\n",
              "      <td>0</td>\n",
              "      <td>-260000</td>\n",
              "      <td>0.000000</td>\n",
              "      <td>-346000</td>\n",
              "      <td>0.000000</td>\n",
              "      <td>0</td>\n",
              "      <td>-303000</td>\n",
              "      <td>0.000000</td>\n",
              "      <td>0</td>\n",
              "      <td>-303000</td>\n",
              "      <td>0.000000</td>\n",
              "      <td>-0.01561</td>\n",
              "      <td>-0.01561</td>\n",
              "      <td>19406250</td>\n",
              "      <td>19406250</td>\n",
              "      <td>https://www.sec.gov/Archives/edgar/data/164395...</td>\n",
              "      <td>https://www.sec.gov/Archives/edgar/data/164395...</td>\n",
              "    </tr>\n",
              "  </tbody>\n",
              "</table>\n",
              "</div>"
            ],
            "text/plain": [
              "        date  ...                                          finalLink\n",
              "0 2019-12-31  ...  https://www.sec.gov/Archives/edgar/data/164395...\n",
              "1 2018-12-31  ...  https://www.sec.gov/Archives/edgar/data/164395...\n",
              "2 2017-12-31  ...  https://www.sec.gov/Archives/edgar/data/164395...\n",
              "3 2016-12-31  ...  https://www.sec.gov/Archives/edgar/data/164395...\n",
              "4 2015-12-31  ...  https://www.sec.gov/Archives/edgar/data/164395...\n",
              "\n",
              "[5 rows x 33 columns]"
            ]
          },
          "metadata": {
            "tags": []
          },
          "execution_count": 6
        }
      ]
    },
    {
      "cell_type": "code",
      "metadata": {
        "id": "HHNthsTh8qvz"
      },
      "source": [
        "FMP_Income_Start='https://financialmodelingprep.com/api/v3/income-statement/'\n",
        "FMP_Income_End='?limit=20&apikey=30e3135d235214a1096f974eb78ef403'"
      ],
      "execution_count": 7,
      "outputs": []
    },
    {
      "cell_type": "code",
      "metadata": {
        "id": "XH3idIra9c-q"
      },
      "source": [
        "Citi_Financials = pd.read_json(FMP_Income_Start+'C'+FMP_Income_End)"
      ],
      "execution_count": 8,
      "outputs": []
    },
    {
      "cell_type": "code",
      "metadata": {
        "id": "5SyU5cDP9oL_",
        "outputId": "587e78a7-fa16-4bb0-b73d-7a24f762de86",
        "colab": {
          "base_uri": "https://localhost:8080/",
          "height": 300
        }
      },
      "source": [
        "Citi_Financials"
      ],
      "execution_count": 9,
      "outputs": [
        {
          "output_type": "execute_result",
          "data": {
            "text/html": [
              "<div>\n",
              "<style scoped>\n",
              "    .dataframe tbody tr th:only-of-type {\n",
              "        vertical-align: middle;\n",
              "    }\n",
              "\n",
              "    .dataframe tbody tr th {\n",
              "        vertical-align: top;\n",
              "    }\n",
              "\n",
              "    .dataframe thead th {\n",
              "        text-align: right;\n",
              "    }\n",
              "</style>\n",
              "<table border=\"1\" class=\"dataframe\">\n",
              "  <thead>\n",
              "    <tr style=\"text-align: right;\">\n",
              "      <th></th>\n",
              "      <th>date</th>\n",
              "      <th>symbol</th>\n",
              "      <th>fillingDate</th>\n",
              "      <th>acceptedDate</th>\n",
              "      <th>period</th>\n",
              "      <th>revenue</th>\n",
              "      <th>costOfRevenue</th>\n",
              "      <th>grossProfit</th>\n",
              "      <th>grossProfitRatio</th>\n",
              "      <th>researchAndDevelopmentExpenses</th>\n",
              "      <th>generalAndAdministrativeExpenses</th>\n",
              "      <th>sellingAndMarketingExpenses</th>\n",
              "      <th>otherExpenses</th>\n",
              "      <th>operatingExpenses</th>\n",
              "      <th>costAndExpenses</th>\n",
              "      <th>interestExpense</th>\n",
              "      <th>depreciationAndAmortization</th>\n",
              "      <th>ebitda</th>\n",
              "      <th>ebitdaratio</th>\n",
              "      <th>operatingIncome</th>\n",
              "      <th>operatingIncomeRatio</th>\n",
              "      <th>totalOtherIncomeExpensesNet</th>\n",
              "      <th>incomeBeforeTax</th>\n",
              "      <th>incomeBeforeTaxRatio</th>\n",
              "      <th>incomeTaxExpense</th>\n",
              "      <th>netIncome</th>\n",
              "      <th>netIncomeRatio</th>\n",
              "      <th>eps</th>\n",
              "      <th>epsdiluted</th>\n",
              "      <th>weightedAverageShsOut</th>\n",
              "      <th>weightedAverageShsOutDil</th>\n",
              "      <th>link</th>\n",
              "      <th>finalLink</th>\n",
              "    </tr>\n",
              "  </thead>\n",
              "  <tbody>\n",
              "    <tr>\n",
              "      <th>0</th>\n",
              "      <td>2019-12-31</td>\n",
              "      <td>C</td>\n",
              "      <td>2020-02-21 00:00:00</td>\n",
              "      <td>2020-02-21 17:05:55</td>\n",
              "      <td>FY</td>\n",
              "      <td>74286000000</td>\n",
              "      <td>0</td>\n",
              "      <td>74286000000</td>\n",
              "      <td>1</td>\n",
              "      <td>0</td>\n",
              "      <td>50385000000</td>\n",
              "      <td>0</td>\n",
              "      <td>0</td>\n",
              "      <td>79548000000</td>\n",
              "      <td>1516000000</td>\n",
              "      <td>29163000000</td>\n",
              "      <td>3905000000</td>\n",
              "      <td>56899000000</td>\n",
              "      <td>0.314676</td>\n",
              "      <td>23901000000</td>\n",
              "      <td>0.262109</td>\n",
              "      <td>0</td>\n",
              "      <td>23901000000</td>\n",
              "      <td>0.321743</td>\n",
              "      <td>4430000000</td>\n",
              "      <td>19401000000</td>\n",
              "      <td>0.262109</td>\n",
              "      <td>8.56443</td>\n",
              "      <td>8.56443</td>\n",
              "      <td>2265300000</td>\n",
              "      <td>2265300000</td>\n",
              "      <td>https://www.sec.gov/Archives/edgar/data/831001...</td>\n",
              "      <td>https://www.sec.gov/Archives/edgar/data/831001...</td>\n",
              "    </tr>\n",
              "    <tr>\n",
              "      <th>1</th>\n",
              "      <td>2018-12-31</td>\n",
              "      <td>C</td>\n",
              "      <td>2019-02-22 00:00:00</td>\n",
              "      <td>2019-02-22 16:50:54</td>\n",
              "      <td>FY</td>\n",
              "      <td>72854000000</td>\n",
              "      <td>24266000000</td>\n",
              "      <td>72854000000</td>\n",
              "      <td>1</td>\n",
              "      <td>0</td>\n",
              "      <td>49409000000</td>\n",
              "      <td>0</td>\n",
              "      <td>40296000000</td>\n",
              "      <td>73675000000</td>\n",
              "      <td>28448000000</td>\n",
              "      <td>24266000000</td>\n",
              "      <td>3754000000</td>\n",
              "      <td>51516000000</td>\n",
              "      <td>0.373336</td>\n",
              "      <td>23445000000</td>\n",
              "      <td>0.321808</td>\n",
              "      <td>0</td>\n",
              "      <td>23445000000</td>\n",
              "      <td>0.321808</td>\n",
              "      <td>5451000000</td>\n",
              "      <td>18045000000</td>\n",
              "      <td>0.247687</td>\n",
              "      <td>7.23304</td>\n",
              "      <td>7.23304</td>\n",
              "      <td>2494800000</td>\n",
              "      <td>2494800000</td>\n",
              "      <td>https://www.sec.gov/Archives/edgar/data/831001...</td>\n",
              "      <td>https://www.sec.gov/Archives/edgar/data/831001...</td>\n",
              "    </tr>\n",
              "    <tr>\n",
              "      <th>2</th>\n",
              "      <td>2017-12-31</td>\n",
              "      <td>C</td>\n",
              "      <td>2018-02-23 00:00:00</td>\n",
              "      <td>2018-02-23 08:44:36</td>\n",
              "      <td>FY</td>\n",
              "      <td>72444000000</td>\n",
              "      <td>16518000000</td>\n",
              "      <td>72444000000</td>\n",
              "      <td>1</td>\n",
              "      <td>0</td>\n",
              "      <td>49683000000</td>\n",
              "      <td>0</td>\n",
              "      <td>39629000000</td>\n",
              "      <td>66201000000</td>\n",
              "      <td>28181000000</td>\n",
              "      <td>16518000000</td>\n",
              "      <td>3659000000</td>\n",
              "      <td>20167000000</td>\n",
              "      <td>0.369774</td>\n",
              "      <td>22761000000</td>\n",
              "      <td>0.318563</td>\n",
              "      <td>0</td>\n",
              "      <td>22761000000</td>\n",
              "      <td>0.318563</td>\n",
              "      <td>6788000000</td>\n",
              "      <td>-6798000000</td>\n",
              "      <td>-0.095145</td>\n",
              "      <td>-2.51918</td>\n",
              "      <td>-2.51918</td>\n",
              "      <td>2698500000</td>\n",
              "      <td>2698500000</td>\n",
              "      <td>https://www.sec.gov/Archives/edgar/data/831001...</td>\n",
              "      <td>https://www.sec.gov/Archives/edgar/data/831001...</td>\n",
              "    </tr>\n",
              "    <tr>\n",
              "      <th>3</th>\n",
              "      <td>2016-12-31</td>\n",
              "      <td>C</td>\n",
              "      <td>2017-02-24 00:00:00</td>\n",
              "      <td>2017-02-24 16:46:05</td>\n",
              "      <td>FY</td>\n",
              "      <td>70797000000</td>\n",
              "      <td>12512000000</td>\n",
              "      <td>70797000000</td>\n",
              "      <td>1</td>\n",
              "      <td>0</td>\n",
              "      <td>49320000000</td>\n",
              "      <td>0</td>\n",
              "      <td>39784000000</td>\n",
              "      <td>61832000000</td>\n",
              "      <td>27859000000</td>\n",
              "      <td>12512000000</td>\n",
              "      <td>3720000000</td>\n",
              "      <td>37588000000</td>\n",
              "      <td>0.361073</td>\n",
              "      <td>21477000000</td>\n",
              "      <td>0.307363</td>\n",
              "      <td>0</td>\n",
              "      <td>21477000000</td>\n",
              "      <td>0.307363</td>\n",
              "      <td>6444000000</td>\n",
              "      <td>14912000000</td>\n",
              "      <td>0.213410</td>\n",
              "      <td>5.16290</td>\n",
              "      <td>5.16290</td>\n",
              "      <td>2888300000</td>\n",
              "      <td>2888300000</td>\n",
              "      <td>https://www.sec.gov/Archives/edgar/data/831001...</td>\n",
              "      <td>https://www.sec.gov/Archives/edgar/data/831001...</td>\n",
              "    </tr>\n",
              "    <tr>\n",
              "      <th>4</th>\n",
              "      <td>2015-12-31</td>\n",
              "      <td>C</td>\n",
              "      <td>2016-02-26 00:00:00</td>\n",
              "      <td>2016-02-26 16:45:11</td>\n",
              "      <td>FY</td>\n",
              "      <td>76354000000</td>\n",
              "      <td>11921000000</td>\n",
              "      <td>76354000000</td>\n",
              "      <td>1</td>\n",
              "      <td>0</td>\n",
              "      <td>51528000000</td>\n",
              "      <td>0</td>\n",
              "      <td>42068000000</td>\n",
              "      <td>63449000000</td>\n",
              "      <td>29081000000</td>\n",
              "      <td>11921000000</td>\n",
              "      <td>3506000000</td>\n",
              "      <td>40109000000</td>\n",
              "      <td>0.373563</td>\n",
              "      <td>24826000000</td>\n",
              "      <td>0.325143</td>\n",
              "      <td>0</td>\n",
              "      <td>24826000000</td>\n",
              "      <td>0.325143</td>\n",
              "      <td>7440000000</td>\n",
              "      <td>17242000000</td>\n",
              "      <td>0.225817</td>\n",
              "      <td>5.73262</td>\n",
              "      <td>5.73262</td>\n",
              "      <td>3007700000</td>\n",
              "      <td>3007700000</td>\n",
              "      <td>https://www.sec.gov/Archives/edgar/data/831001...</td>\n",
              "      <td>https://www.sec.gov/Archives/edgar/data/831001...</td>\n",
              "    </tr>\n",
              "  </tbody>\n",
              "</table>\n",
              "</div>"
            ],
            "text/plain": [
              "        date  ...                                          finalLink\n",
              "0 2019-12-31  ...  https://www.sec.gov/Archives/edgar/data/831001...\n",
              "1 2018-12-31  ...  https://www.sec.gov/Archives/edgar/data/831001...\n",
              "2 2017-12-31  ...  https://www.sec.gov/Archives/edgar/data/831001...\n",
              "3 2016-12-31  ...  https://www.sec.gov/Archives/edgar/data/831001...\n",
              "4 2015-12-31  ...  https://www.sec.gov/Archives/edgar/data/831001...\n",
              "\n",
              "[5 rows x 33 columns]"
            ]
          },
          "metadata": {
            "tags": []
          },
          "execution_count": 9
        }
      ]
    },
    {
      "cell_type": "code",
      "metadata": {
        "id": "Yuh3oFZe9qOI"
      },
      "source": [
        "FMP_DCF_Start ='https://financialmodelingprep.com/api/v3/discounted-cash-flow/'\n",
        "FMP_DCF_End ='?apikey=30e3135d235214a1096f974eb78ef403'"
      ],
      "execution_count": 10,
      "outputs": []
    },
    {
      "cell_type": "code",
      "metadata": {
        "id": "2qWovn-d-WkE"
      },
      "source": [
        "ge_dcf = pd.read_json(FMP_DCF_Start+'GE'+FMP_DCF_End)"
      ],
      "execution_count": 11,
      "outputs": []
    },
    {
      "cell_type": "code",
      "metadata": {
        "id": "-gXWxY17-fuv",
        "outputId": "03695757-c3c6-44d3-9d94-05987ca106d3",
        "colab": {
          "base_uri": "https://localhost:8080/",
          "height": 77
        }
      },
      "source": [
        "ge_dcf"
      ],
      "execution_count": 12,
      "outputs": [
        {
          "output_type": "execute_result",
          "data": {
            "text/html": [
              "<div>\n",
              "<style scoped>\n",
              "    .dataframe tbody tr th:only-of-type {\n",
              "        vertical-align: middle;\n",
              "    }\n",
              "\n",
              "    .dataframe tbody tr th {\n",
              "        vertical-align: top;\n",
              "    }\n",
              "\n",
              "    .dataframe thead th {\n",
              "        text-align: right;\n",
              "    }\n",
              "</style>\n",
              "<table border=\"1\" class=\"dataframe\">\n",
              "  <thead>\n",
              "    <tr style=\"text-align: right;\">\n",
              "      <th></th>\n",
              "      <th>symbol</th>\n",
              "      <th>date</th>\n",
              "      <th>dcf</th>\n",
              "      <th>Stock Price</th>\n",
              "    </tr>\n",
              "  </thead>\n",
              "  <tbody>\n",
              "    <tr>\n",
              "      <th>0</th>\n",
              "      <td>GE</td>\n",
              "      <td>2020-10-12</td>\n",
              "      <td>11.01171</td>\n",
              "      <td>6.84</td>\n",
              "    </tr>\n",
              "  </tbody>\n",
              "</table>\n",
              "</div>"
            ],
            "text/plain": [
              "  symbol       date       dcf  Stock Price\n",
              "0     GE 2020-10-12  11.01171         6.84"
            ]
          },
          "metadata": {
            "tags": []
          },
          "execution_count": 12
        }
      ]
    },
    {
      "cell_type": "code",
      "metadata": {
        "id": "NYj-ynOS-guI"
      },
      "source": [
        "FMP_1hr_Start ='https://financialmodelingprep.com/api/v3/historical-chart/1hour/'\n",
        "FMP_1hr_End='?apikey=30e3135d235214a1096f974eb78ef403'"
      ],
      "execution_count": 13,
      "outputs": []
    },
    {
      "cell_type": "code",
      "metadata": {
        "id": "fMuLuGDGAsIV"
      },
      "source": [
        "IIPR_1hr = pd.read_json(FMP_1hr_Start+'IIPR'+FMP_1hr_End)"
      ],
      "execution_count": 14,
      "outputs": []
    },
    {
      "cell_type": "code",
      "metadata": {
        "id": "lKE2AT6ZBn-3"
      },
      "source": [
        "CGC_1hr = pd.read_json(FMP_1hr_Start+'CGC'+FMP_1hr_End)\n",
        "CRON_1hr = pd.read_json(FMP_1hr_Start+'CRON'+FMP_1hr_End)\n",
        "TLRY_1hr = pd.read_json(FMP_1hr_Start+'TLRY'+FMP_1hr_End)"
      ],
      "execution_count": 15,
      "outputs": []
    },
    {
      "cell_type": "code",
      "metadata": {
        "id": "Ijo1x5jiCAJi",
        "outputId": "ec6325f4-a1c1-418b-97a4-613b227bac8a",
        "colab": {
          "base_uri": "https://localhost:8080/",
          "height": 293
        }
      },
      "source": [
        "IIPR_1hr.volume.plot(); CGC_1hr.volume.plot(); CRON_1hr.volume.plot(); TLRY_1hr.volume.plot()"
      ],
      "execution_count": 16,
      "outputs": [
        {
          "output_type": "execute_result",
          "data": {
            "text/plain": [
              "<matplotlib.axes._subplots.AxesSubplot at 0x7f8837d879b0>"
            ]
          },
          "metadata": {
            "tags": []
          },
          "execution_count": 16
        },
        {
          "output_type": "display_data",
          "data": {
            "image/png": "[encoded data removed]",
            "text/plain": [
              "<Figure size 432x288 with 1 Axes>"
            ]
          },
          "metadata": {
            "tags": [],
            "needs_background": "light"
          }
        }
      ]
    },
    {
      "cell_type": "code",
      "metadata": {
        "id": "HzlFWP87CG-k",
        "outputId": "0e4d5c21-4414-4024-fd3d-71017212f097",
        "colab": {
          "base_uri": "https://localhost:8080/",
          "height": 282
        }
      },
      "source": [
        "IIPR_1hr.close.plot()\n",
        " "
      ],
      "execution_count": 17,
      "outputs": [
        {
          "output_type": "execute_result",
          "data": {
            "text/plain": [
              "<matplotlib.axes._subplots.AxesSubplot at 0x7f8837cef048>"
            ]
          },
          "metadata": {
            "tags": []
          },
          "execution_count": 17
        },
        {
          "output_type": "display_data",
          "data": {
            "image/png": "[encoded data removed]",
            "text/plain": [
              "<Figure size 432x288 with 1 Axes>"
            ]
          },
          "metadata": {
            "tags": [],
            "needs_background": "light"
          }
        }
      ]
    },
    {
      "cell_type": "code",
      "metadata": {
        "id": "T9AA48d2Cjui",
        "outputId": "1d703054-edd1-43ab-a15e-8643172f9bc8",
        "colab": {
          "base_uri": "https://localhost:8080/",
          "height": 282
        }
      },
      "source": [
        "CGC_1hr.close.plot() "
      ],
      "execution_count": 18,
      "outputs": [
        {
          "output_type": "execute_result",
          "data": {
            "text/plain": [
              "<matplotlib.axes._subplots.AxesSubplot at 0x7f8837810e10>"
            ]
          },
          "metadata": {
            "tags": []
          },
          "execution_count": 18
        },
        {
          "output_type": "display_data",
          "data": {
            "image/png": "[encoded data removed]",
            "text/plain": [
              "<Figure size 432x288 with 1 Axes>"
            ]
          },
          "metadata": {
            "tags": [],
            "needs_background": "light"
          }
        }
      ]
    },
    {
      "cell_type": "code",
      "metadata": {
        "id": "BpjpyhCICqAl",
        "outputId": "ab573db9-2769-41f4-c86c-c6f16348eac3",
        "colab": {
          "base_uri": "https://localhost:8080/",
          "height": 282
        }
      },
      "source": [
        "CRON_1hr.close.plot(); TLRY_1hr.close.plot()"
      ],
      "execution_count": 19,
      "outputs": [
        {
          "output_type": "execute_result",
          "data": {
            "text/plain": [
              "<matplotlib.axes._subplots.AxesSubplot at 0x7f8837810898>"
            ]
          },
          "metadata": {
            "tags": []
          },
          "execution_count": 19
        },
        {
          "output_type": "display_data",
          "data": {
            "image/png": "[encoded data removed]",
            "text/plain": [
              "<Figure size 432x288 with 1 Axes>"
            ]
          },
          "metadata": {
            "tags": [],
            "needs_background": "light"
          }
        }
      ]
    },
    {
      "cell_type": "code",
      "metadata": {
        "id": "Dr9a7Bv0Ctwm"
      },
      "source": [
        "FMP_Batch_Start ='https://financialmodelingprep.com/api/v3/historical-price-full/'\n",
        "FMP_Batch_End ='&apikey=30e3135d235214a1096f974eb78ef403'"
      ],
      "execution_count": 20,
      "outputs": []
    },
    {
      "cell_type": "code",
      "metadata": {
        "id": "Ca278TYvUxJG"
      },
      "source": [
        "IBM_RSI = pd.read_json('https://www.alphavantage.co/query?function=RSI&symbol=IBM&interval=daily&time_period=14&series_type=open&apikey=V3L36ZUP3KR9WP7N')"
      ],
      "execution_count": 27,
      "outputs": []
    },
    {
      "cell_type": "code",
      "metadata": {
        "id": "6baquQtCU3wX",
        "outputId": "9e504a87-d758-4194-8c76-5ce23dccaccd",
        "colab": {
          "base_uri": "https://localhost:8080/",
          "height": 400
        }
      },
      "source": [
        "IBM_RSI"
      ],
      "execution_count": 30,
      "outputs": [
        {
          "output_type": "execute_result",
          "data": {
            "text/html": [
              "<div>\n",
              "<style scoped>\n",
              "    .dataframe tbody tr th:only-of-type {\n",
              "        vertical-align: middle;\n",
              "    }\n",
              "\n",
              "    .dataframe tbody tr th {\n",
              "        vertical-align: top;\n",
              "    }\n",
              "\n",
              "    .dataframe thead th {\n",
              "        text-align: right;\n",
              "    }\n",
              "</style>\n",
              "<table border=\"1\" class=\"dataframe\">\n",
              "  <thead>\n",
              "    <tr style=\"text-align: right;\">\n",
              "      <th></th>\n",
              "      <th>Meta Data</th>\n",
              "      <th>Technical Analysis: RSI</th>\n",
              "    </tr>\n",
              "  </thead>\n",
              "  <tbody>\n",
              "    <tr>\n",
              "      <th>1: Symbol</th>\n",
              "      <td>IBM</td>\n",
              "      <td>NaN</td>\n",
              "    </tr>\n",
              "    <tr>\n",
              "      <th>2: Indicator</th>\n",
              "      <td>Relative Strength Index (RSI)</td>\n",
              "      <td>NaN</td>\n",
              "    </tr>\n",
              "    <tr>\n",
              "      <th>3: Last Refreshed</th>\n",
              "      <td>2020-10-09</td>\n",
              "      <td>NaN</td>\n",
              "    </tr>\n",
              "    <tr>\n",
              "      <th>4: Interval</th>\n",
              "      <td>daily</td>\n",
              "      <td>NaN</td>\n",
              "    </tr>\n",
              "    <tr>\n",
              "      <th>5: Time Period</th>\n",
              "      <td>14</td>\n",
              "      <td>NaN</td>\n",
              "    </tr>\n",
              "    <tr>\n",
              "      <th>...</th>\n",
              "      <td>...</td>\n",
              "      <td>...</td>\n",
              "    </tr>\n",
              "    <tr>\n",
              "      <th>1999-11-26</th>\n",
              "      <td>NaN</td>\n",
              "      <td>{'RSI': '59.5759'}</td>\n",
              "    </tr>\n",
              "    <tr>\n",
              "      <th>1999-11-24</th>\n",
              "      <td>NaN</td>\n",
              "      <td>{'RSI': '58.3093'}</td>\n",
              "    </tr>\n",
              "    <tr>\n",
              "      <th>1999-11-23</th>\n",
              "      <td>NaN</td>\n",
              "      <td>{'RSI': '66.1049'}</td>\n",
              "    </tr>\n",
              "    <tr>\n",
              "      <th>1999-11-22</th>\n",
              "      <td>NaN</td>\n",
              "      <td>{'RSI': '62.0073'}</td>\n",
              "    </tr>\n",
              "    <tr>\n",
              "      <th>1999-11-19</th>\n",
              "      <td>NaN</td>\n",
              "      <td>{'RSI': '51.2637'}</td>\n",
              "    </tr>\n",
              "  </tbody>\n",
              "</table>\n",
              "<p>5263 rows × 2 columns</p>\n",
              "</div>"
            ],
            "text/plain": [
              "                                       Meta Data Technical Analysis: RSI\n",
              "1: Symbol                                    IBM                     NaN\n",
              "2: Indicator       Relative Strength Index (RSI)                     NaN\n",
              "3: Last Refreshed                     2020-10-09                     NaN\n",
              "4: Interval                                daily                     NaN\n",
              "5: Time Period                                14                     NaN\n",
              "...                                          ...                     ...\n",
              "1999-11-26                                   NaN      {'RSI': '59.5759'}\n",
              "1999-11-24                                   NaN      {'RSI': '58.3093'}\n",
              "1999-11-23                                   NaN      {'RSI': '66.1049'}\n",
              "1999-11-22                                   NaN      {'RSI': '62.0073'}\n",
              "1999-11-19                                   NaN      {'RSI': '51.2637'}\n",
              "\n",
              "[5263 rows x 2 columns]"
            ]
          },
          "metadata": {
            "tags": []
          },
          "execution_count": 30
        }
      ]
    },
    {
      "cell_type": "code",
      "metadata": {
        "id": "QeJ6-R2mVgXZ"
      },
      "source": [
        "basicMat = pd.read_csv('Basic_Materials_Screen.csv')"
      ],
      "execution_count": 31,
      "outputs": []
    },
    {
      "cell_type": "code",
      "metadata": {
        "id": "poIFh2QYhk2G",
        "outputId": "6f340615-2da6-4414-de7b-80d2a0db80c4",
        "colab": {
          "base_uri": "https://localhost:8080/",
          "height": 194
        }
      },
      "source": [
        "basicMat.head()"
      ],
      "execution_count": 32,
      "outputs": [
        {
          "output_type": "execute_result",
          "data": {
            "text/html": [
              "<div>\n",
              "<style scoped>\n",
              "    .dataframe tbody tr th:only-of-type {\n",
              "        vertical-align: middle;\n",
              "    }\n",
              "\n",
              "    .dataframe tbody tr th {\n",
              "        vertical-align: top;\n",
              "    }\n",
              "\n",
              "    .dataframe thead th {\n",
              "        text-align: right;\n",
              "    }\n",
              "</style>\n",
              "<table border=\"1\" class=\"dataframe\">\n",
              "  <thead>\n",
              "    <tr style=\"text-align: right;\">\n",
              "      <th></th>\n",
              "      <th>Symbol</th>\n",
              "      <th>Name</th>\n",
              "      <th>Exchange</th>\n",
              "      <th>Industry</th>\n",
              "      <th>Last</th>\n",
              "      <th>Sector</th>\n",
              "      <th>52W Chg</th>\n",
              "      <th>Shares Out</th>\n",
              "      <th>Market Cap</th>\n",
              "      <th>P/E (ttm)</th>\n",
              "      <th>ROE%</th>\n",
              "      <th>Int Cov</th>\n",
              "      <th>Book Value</th>\n",
              "    </tr>\n",
              "  </thead>\n",
              "  <tbody>\n",
              "    <tr>\n",
              "      <th>0</th>\n",
              "      <td>AA</td>\n",
              "      <td>Alcoa Corp</td>\n",
              "      <td>NYSE</td>\n",
              "      <td>Metal Products - Distribution</td>\n",
              "      <td>12.52</td>\n",
              "      <td>Basic Materials</td>\n",
              "      <td>-5.89</td>\n",
              "      <td>185924000.0</td>\n",
              "      <td>2.327769e+09</td>\n",
              "      <td>0.0</td>\n",
              "      <td>-0.032</td>\n",
              "      <td>-2.62</td>\n",
              "      <td>28.64</td>\n",
              "    </tr>\n",
              "    <tr>\n",
              "      <th>1</th>\n",
              "      <td>ACH</td>\n",
              "      <td>Aluminum Corp of China Ltd</td>\n",
              "      <td>NYSE</td>\n",
              "      <td>Mining - Non Ferrous</td>\n",
              "      <td>5.50</td>\n",
              "      <td>Basic Materials</td>\n",
              "      <td>-2.28</td>\n",
              "      <td>680907000.0</td>\n",
              "      <td>3.744989e+09</td>\n",
              "      <td>0.0</td>\n",
              "      <td>0.000</td>\n",
              "      <td>-1.43</td>\n",
              "      <td>14.72</td>\n",
              "    </tr>\n",
              "    <tr>\n",
              "      <th>2</th>\n",
              "      <td>AEM</td>\n",
              "      <td>Agnico-Eagle Mines Ltd</td>\n",
              "      <td>NYSE</td>\n",
              "      <td>Mining - Gold</td>\n",
              "      <td>82.69</td>\n",
              "      <td>Basic Materials</td>\n",
              "      <td>27.96</td>\n",
              "      <td>242766000.0</td>\n",
              "      <td>2.007432e+10</td>\n",
              "      <td>68.3</td>\n",
              "      <td>0.055</td>\n",
              "      <td>8.03</td>\n",
              "      <td>21.68</td>\n",
              "    </tr>\n",
              "    <tr>\n",
              "      <th>3</th>\n",
              "      <td>AG</td>\n",
              "      <td>First Majestic Silver</td>\n",
              "      <td>NYSE</td>\n",
              "      <td>Mining - Silver</td>\n",
              "      <td>10.56</td>\n",
              "      <td>Basic Materials</td>\n",
              "      <td>0.89</td>\n",
              "      <td>215554000.0</td>\n",
              "      <td>2.276250e+09</td>\n",
              "      <td>0.0</td>\n",
              "      <td>-0.001</td>\n",
              "      <td>-1.58</td>\n",
              "      <td>3.08</td>\n",
              "    </tr>\n",
              "    <tr>\n",
              "      <th>4</th>\n",
              "      <td>AGI</td>\n",
              "      <td>Alamos Gold Inc</td>\n",
              "      <td>NYSE</td>\n",
              "      <td>Mining - Gold</td>\n",
              "      <td>9.27</td>\n",
              "      <td>Basic Materials</td>\n",
              "      <td>3.36</td>\n",
              "      <td>391662000.0</td>\n",
              "      <td>3.630707e+09</td>\n",
              "      <td>35.2</td>\n",
              "      <td>0.035</td>\n",
              "      <td>52.56</td>\n",
              "      <td>6.86</td>\n",
              "    </tr>\n",
              "  </tbody>\n",
              "</table>\n",
              "</div>"
            ],
            "text/plain": [
              "  Symbol                        Name Exchange  ...   ROE%  Int Cov Book Value\n",
              "0     AA                  Alcoa Corp     NYSE  ... -0.032    -2.62      28.64\n",
              "1    ACH  Aluminum Corp of China Ltd     NYSE  ...  0.000    -1.43      14.72\n",
              "2    AEM      Agnico-Eagle Mines Ltd     NYSE  ...  0.055     8.03      21.68\n",
              "3     AG       First Majestic Silver     NYSE  ... -0.001    -1.58       3.08\n",
              "4    AGI             Alamos Gold Inc     NYSE  ...  0.035    52.56       6.86\n",
              "\n",
              "[5 rows x 13 columns]"
            ]
          },
          "metadata": {
            "tags": []
          },
          "execution_count": 32
        }
      ]
    },
    {
      "cell_type": "code",
      "metadata": {
        "id": "Uipm7VWyhnvE",
        "outputId": "a94ef01d-91f9-4bbc-a986-24a052b5a229",
        "colab": {
          "base_uri": "https://localhost:8080/",
          "height": 282
        }
      },
      "source": [
        "basicMat.describe()"
      ],
      "execution_count": 33,
      "outputs": [
        {
          "output_type": "execute_result",
          "data": {
            "text/html": [
              "<div>\n",
              "<style scoped>\n",
              "    .dataframe tbody tr th:only-of-type {\n",
              "        vertical-align: middle;\n",
              "    }\n",
              "\n",
              "    .dataframe tbody tr th {\n",
              "        vertical-align: top;\n",
              "    }\n",
              "\n",
              "    .dataframe thead th {\n",
              "        text-align: right;\n",
              "    }\n",
              "</style>\n",
              "<table border=\"1\" class=\"dataframe\">\n",
              "  <thead>\n",
              "    <tr style=\"text-align: right;\">\n",
              "      <th></th>\n",
              "      <th>Last</th>\n",
              "      <th>52W Chg</th>\n",
              "      <th>Shares Out</th>\n",
              "      <th>Market Cap</th>\n",
              "      <th>P/E (ttm)</th>\n",
              "      <th>ROE%</th>\n",
              "      <th>Int Cov</th>\n",
              "      <th>Book Value</th>\n",
              "    </tr>\n",
              "  </thead>\n",
              "  <tbody>\n",
              "    <tr>\n",
              "      <th>count</th>\n",
              "      <td>173.000000</td>\n",
              "      <td>173.000000</td>\n",
              "      <td>1.730000e+02</td>\n",
              "      <td>1.730000e+02</td>\n",
              "      <td>173.000000</td>\n",
              "      <td>173.000000</td>\n",
              "      <td>173.000000</td>\n",
              "      <td>173.000000</td>\n",
              "    </tr>\n",
              "    <tr>\n",
              "      <th>mean</th>\n",
              "      <td>37.218671</td>\n",
              "      <td>3.928613</td>\n",
              "      <td>3.065021e+08</td>\n",
              "      <td>7.103405e+09</td>\n",
              "      <td>24.350462</td>\n",
              "      <td>-0.017815</td>\n",
              "      <td>9.537168</td>\n",
              "      <td>16.123931</td>\n",
              "    </tr>\n",
              "    <tr>\n",
              "      <th>std</th>\n",
              "      <td>50.890730</td>\n",
              "      <td>20.330859</td>\n",
              "      <td>5.220097e+08</td>\n",
              "      <td>1.289518e+10</td>\n",
              "      <td>50.855688</td>\n",
              "      <td>0.749447</td>\n",
              "      <td>194.243124</td>\n",
              "      <td>17.309092</td>\n",
              "    </tr>\n",
              "    <tr>\n",
              "      <th>min</th>\n",
              "      <td>0.780000</td>\n",
              "      <td>-108.970000</td>\n",
              "      <td>8.263000e+06</td>\n",
              "      <td>3.057800e+08</td>\n",
              "      <td>0.000000</td>\n",
              "      <td>-9.307000</td>\n",
              "      <td>-1112.750000</td>\n",
              "      <td>-14.720000</td>\n",
              "    </tr>\n",
              "    <tr>\n",
              "      <th>25%</th>\n",
              "      <td>9.060000</td>\n",
              "      <td>-1.780000</td>\n",
              "      <td>5.576900e+07</td>\n",
              "      <td>9.052390e+08</td>\n",
              "      <td>0.000000</td>\n",
              "      <td>0.000000</td>\n",
              "      <td>-0.760000</td>\n",
              "      <td>3.080000</td>\n",
              "    </tr>\n",
              "    <tr>\n",
              "      <th>50%</th>\n",
              "      <td>18.430000</td>\n",
              "      <td>1.230000</td>\n",
              "      <td>1.396430e+08</td>\n",
              "      <td>2.327769e+09</td>\n",
              "      <td>14.740000</td>\n",
              "      <td>0.055000</td>\n",
              "      <td>2.790000</td>\n",
              "      <td>11.810000</td>\n",
              "    </tr>\n",
              "    <tr>\n",
              "      <th>75%</th>\n",
              "      <td>44.800000</td>\n",
              "      <td>6.210000</td>\n",
              "      <td>3.018950e+08</td>\n",
              "      <td>6.741068e+09</td>\n",
              "      <td>24.900000</td>\n",
              "      <td>0.121000</td>\n",
              "      <td>7.570000</td>\n",
              "      <td>24.250000</td>\n",
              "    </tr>\n",
              "    <tr>\n",
              "      <th>max</th>\n",
              "      <td>353.170000</td>\n",
              "      <td>152.910000</td>\n",
              "      <td>5.128280e+09</td>\n",
              "      <td>7.749081e+10</td>\n",
              "      <td>493.750000</td>\n",
              "      <td>0.586000</td>\n",
              "      <td>2199.500000</td>\n",
              "      <td>109.180000</td>\n",
              "    </tr>\n",
              "  </tbody>\n",
              "</table>\n",
              "</div>"
            ],
            "text/plain": [
              "             Last     52W Chg  ...      Int Cov  Book Value\n",
              "count  173.000000  173.000000  ...   173.000000  173.000000\n",
              "mean    37.218671    3.928613  ...     9.537168   16.123931\n",
              "std     50.890730   20.330859  ...   194.243124   17.309092\n",
              "min      0.780000 -108.970000  ... -1112.750000  -14.720000\n",
              "25%      9.060000   -1.780000  ...    -0.760000    3.080000\n",
              "50%     18.430000    1.230000  ...     2.790000   11.810000\n",
              "75%     44.800000    6.210000  ...     7.570000   24.250000\n",
              "max    353.170000  152.910000  ...  2199.500000  109.180000\n",
              "\n",
              "[8 rows x 8 columns]"
            ]
          },
          "metadata": {
            "tags": []
          },
          "execution_count": 33
        }
      ]
    },
    {
      "cell_type": "code",
      "metadata": {
        "id": "dpsu9WHshta-"
      },
      "source": [
        "bmat_intcov = basicMat.loc[(basicMat['Int Cov'])>5]"
      ],
      "execution_count": 34,
      "outputs": []
    },
    {
      "cell_type": "code",
      "metadata": {
        "id": "SxC7MXwTiESa",
        "outputId": "db46f02d-37b2-4c14-9b37-1613beb65fab",
        "colab": {
          "base_uri": "https://localhost:8080/",
          "height": 34
        }
      },
      "source": [
        "len(bmat_intcov)"
      ],
      "execution_count": 35,
      "outputs": [
        {
          "output_type": "execute_result",
          "data": {
            "text/plain": [
              "61"
            ]
          },
          "metadata": {
            "tags": []
          },
          "execution_count": 35
        }
      ]
    },
    {
      "cell_type": "code",
      "metadata": {
        "id": "c_V5y_cdiFmh",
        "outputId": "902fc9ca-6581-4657-8084-f6ab9ec814da",
        "colab": {
          "base_uri": "https://localhost:8080/",
          "height": 282
        }
      },
      "source": [
        "bmat_intcov.describe()"
      ],
      "execution_count": 37,
      "outputs": [
        {
          "output_type": "execute_result",
          "data": {
            "text/html": [
              "<div>\n",
              "<style scoped>\n",
              "    .dataframe tbody tr th:only-of-type {\n",
              "        vertical-align: middle;\n",
              "    }\n",
              "\n",
              "    .dataframe tbody tr th {\n",
              "        vertical-align: top;\n",
              "    }\n",
              "\n",
              "    .dataframe thead th {\n",
              "        text-align: right;\n",
              "    }\n",
              "</style>\n",
              "<table border=\"1\" class=\"dataframe\">\n",
              "  <thead>\n",
              "    <tr style=\"text-align: right;\">\n",
              "      <th></th>\n",
              "      <th>Last</th>\n",
              "      <th>52W Chg</th>\n",
              "      <th>Shares Out</th>\n",
              "      <th>Market Cap</th>\n",
              "      <th>P/E (ttm)</th>\n",
              "      <th>ROE%</th>\n",
              "      <th>Int Cov</th>\n",
              "      <th>Book Value</th>\n",
              "    </tr>\n",
              "  </thead>\n",
              "  <tbody>\n",
              "    <tr>\n",
              "      <th>count</th>\n",
              "      <td>61.000000</td>\n",
              "      <td>61.000000</td>\n",
              "      <td>6.100000e+01</td>\n",
              "      <td>6.100000e+01</td>\n",
              "      <td>61.000000</td>\n",
              "      <td>61.000000</td>\n",
              "      <td>61.000000</td>\n",
              "      <td>61.000000</td>\n",
              "    </tr>\n",
              "    <tr>\n",
              "      <th>mean</th>\n",
              "      <td>63.813115</td>\n",
              "      <td>5.700492</td>\n",
              "      <td>2.330019e+08</td>\n",
              "      <td>1.143315e+10</td>\n",
              "      <td>30.000820</td>\n",
              "      <td>0.100656</td>\n",
              "      <td>57.269344</td>\n",
              "      <td>21.090328</td>\n",
              "    </tr>\n",
              "    <tr>\n",
              "      <th>std</th>\n",
              "      <td>66.635181</td>\n",
              "      <td>23.689235</td>\n",
              "      <td>3.577227e+08</td>\n",
              "      <td>1.775754e+10</td>\n",
              "      <td>47.937186</td>\n",
              "      <td>0.172697</td>\n",
              "      <td>282.390342</td>\n",
              "      <td>16.764455</td>\n",
              "    </tr>\n",
              "    <tr>\n",
              "      <th>min</th>\n",
              "      <td>6.940000</td>\n",
              "      <td>-108.970000</td>\n",
              "      <td>9.008000e+06</td>\n",
              "      <td>4.013190e+08</td>\n",
              "      <td>0.000000</td>\n",
              "      <td>-0.887000</td>\n",
              "      <td>5.080000</td>\n",
              "      <td>-2.150000</td>\n",
              "    </tr>\n",
              "    <tr>\n",
              "      <th>25%</th>\n",
              "      <td>18.060000</td>\n",
              "      <td>-1.690000</td>\n",
              "      <td>4.235700e+07</td>\n",
              "      <td>1.287888e+09</td>\n",
              "      <td>13.530000</td>\n",
              "      <td>0.044000</td>\n",
              "      <td>7.480000</td>\n",
              "      <td>8.630000</td>\n",
              "    </tr>\n",
              "    <tr>\n",
              "      <th>50%</th>\n",
              "      <td>44.550000</td>\n",
              "      <td>3.530000</td>\n",
              "      <td>1.080000e+08</td>\n",
              "      <td>3.003008e+09</td>\n",
              "      <td>17.860000</td>\n",
              "      <td>0.100000</td>\n",
              "      <td>12.340000</td>\n",
              "      <td>20.320000</td>\n",
              "    </tr>\n",
              "    <tr>\n",
              "      <th>75%</th>\n",
              "      <td>85.550000</td>\n",
              "      <td>13.710000</td>\n",
              "      <td>2.208940e+08</td>\n",
              "      <td>1.166176e+10</td>\n",
              "      <td>34.610000</td>\n",
              "      <td>0.147000</td>\n",
              "      <td>19.870000</td>\n",
              "      <td>28.550000</td>\n",
              "    </tr>\n",
              "    <tr>\n",
              "      <th>max</th>\n",
              "      <td>353.170000</td>\n",
              "      <td>88.860000</td>\n",
              "      <td>1.778083e+09</td>\n",
              "      <td>7.749081e+10</td>\n",
              "      <td>357.800000</td>\n",
              "      <td>0.454000</td>\n",
              "      <td>2199.500000</td>\n",
              "      <td>77.820000</td>\n",
              "    </tr>\n",
              "  </tbody>\n",
              "</table>\n",
              "</div>"
            ],
            "text/plain": [
              "             Last     52W Chg    Shares Out  ...       ROE%      Int Cov  Book Value\n",
              "count   61.000000   61.000000  6.100000e+01  ...  61.000000    61.000000   61.000000\n",
              "mean    63.813115    5.700492  2.330019e+08  ...   0.100656    57.269344   21.090328\n",
              "std     66.635181   23.689235  3.577227e+08  ...   0.172697   282.390342   16.764455\n",
              "min      6.940000 -108.970000  9.008000e+06  ...  -0.887000     5.080000   -2.150000\n",
              "25%     18.060000   -1.690000  4.235700e+07  ...   0.044000     7.480000    8.630000\n",
              "50%     44.550000    3.530000  1.080000e+08  ...   0.100000    12.340000   20.320000\n",
              "75%     85.550000   13.710000  2.208940e+08  ...   0.147000    19.870000   28.550000\n",
              "max    353.170000   88.860000  1.778083e+09  ...   0.454000  2199.500000   77.820000\n",
              "\n",
              "[8 rows x 8 columns]"
            ]
          },
          "metadata": {
            "tags": []
          },
          "execution_count": 37
        }
      ]
    },
    {
      "cell_type": "code",
      "metadata": {
        "id": "htCj0gY3ikS3"
      },
      "source": [
        "bmat_subPE = bmat_intcov.loc[(bmat_intcov['P/E (ttm)'])<25]"
      ],
      "execution_count": 38,
      "outputs": []
    },
    {
      "cell_type": "code",
      "metadata": {
        "id": "3LRvXOJAjAzj",
        "outputId": "3a2da082-4635-4458-cb7c-d5138f5b9492",
        "colab": {
          "base_uri": "https://localhost:8080/",
          "height": 34
        }
      },
      "source": [
        "len(bmat_subPE)"
      ],
      "execution_count": 39,
      "outputs": [
        {
          "output_type": "execute_result",
          "data": {
            "text/plain": [
              "38"
            ]
          },
          "metadata": {
            "tags": []
          },
          "execution_count": 39
        }
      ]
    },
    {
      "cell_type": "code",
      "metadata": {
        "id": "PBx7Er6mjCXc",
        "outputId": "2a167308-38f9-420d-bc21-6a8fc7c0bf06",
        "colab": {
          "base_uri": "https://localhost:8080/",
          "height": 282
        }
      },
      "source": [
        "bmat_subPE.describe()"
      ],
      "execution_count": 40,
      "outputs": [
        {
          "output_type": "execute_result",
          "data": {
            "text/html": [
              "<div>\n",
              "<style scoped>\n",
              "    .dataframe tbody tr th:only-of-type {\n",
              "        vertical-align: middle;\n",
              "    }\n",
              "\n",
              "    .dataframe tbody tr th {\n",
              "        vertical-align: top;\n",
              "    }\n",
              "\n",
              "    .dataframe thead th {\n",
              "        text-align: right;\n",
              "    }\n",
              "</style>\n",
              "<table border=\"1\" class=\"dataframe\">\n",
              "  <thead>\n",
              "    <tr style=\"text-align: right;\">\n",
              "      <th></th>\n",
              "      <th>Last</th>\n",
              "      <th>52W Chg</th>\n",
              "      <th>Shares Out</th>\n",
              "      <th>Market Cap</th>\n",
              "      <th>P/E (ttm)</th>\n",
              "      <th>ROE%</th>\n",
              "      <th>Int Cov</th>\n",
              "      <th>Book Value</th>\n",
              "    </tr>\n",
              "  </thead>\n",
              "  <tbody>\n",
              "    <tr>\n",
              "      <th>count</th>\n",
              "      <td>38.000000</td>\n",
              "      <td>38.000000</td>\n",
              "      <td>3.800000e+01</td>\n",
              "      <td>3.800000e+01</td>\n",
              "      <td>38.000000</td>\n",
              "      <td>38.000000</td>\n",
              "      <td>38.000000</td>\n",
              "      <td>38.000000</td>\n",
              "    </tr>\n",
              "    <tr>\n",
              "      <th>mean</th>\n",
              "      <td>56.532105</td>\n",
              "      <td>-0.837895</td>\n",
              "      <td>2.117354e+08</td>\n",
              "      <td>8.068967e+09</td>\n",
              "      <td>12.877105</td>\n",
              "      <td>0.105053</td>\n",
              "      <td>22.818684</td>\n",
              "      <td>22.185789</td>\n",
              "    </tr>\n",
              "    <tr>\n",
              "      <th>std</th>\n",
              "      <td>61.363120</td>\n",
              "      <td>22.215672</td>\n",
              "      <td>3.396535e+08</td>\n",
              "      <td>1.448933e+10</td>\n",
              "      <td>7.240692</td>\n",
              "      <td>0.205818</td>\n",
              "      <td>55.624790</td>\n",
              "      <td>18.395315</td>\n",
              "    </tr>\n",
              "    <tr>\n",
              "      <th>min</th>\n",
              "      <td>6.940000</td>\n",
              "      <td>-108.970000</td>\n",
              "      <td>1.066500e+07</td>\n",
              "      <td>5.120260e+08</td>\n",
              "      <td>0.000000</td>\n",
              "      <td>-0.887000</td>\n",
              "      <td>5.080000</td>\n",
              "      <td>-2.150000</td>\n",
              "    </tr>\n",
              "    <tr>\n",
              "      <th>25%</th>\n",
              "      <td>16.635000</td>\n",
              "      <td>-2.975000</td>\n",
              "      <td>3.671450e+07</td>\n",
              "      <td>1.204488e+09</td>\n",
              "      <td>11.087500</td>\n",
              "      <td>0.071000</td>\n",
              "      <td>6.847500</td>\n",
              "      <td>7.362500</td>\n",
              "    </tr>\n",
              "    <tr>\n",
              "      <th>50%</th>\n",
              "      <td>41.965000</td>\n",
              "      <td>1.120000</td>\n",
              "      <td>8.299250e+07</td>\n",
              "      <td>2.519126e+09</td>\n",
              "      <td>14.545000</td>\n",
              "      <td>0.126000</td>\n",
              "      <td>11.235000</td>\n",
              "      <td>20.820000</td>\n",
              "    </tr>\n",
              "    <tr>\n",
              "      <th>75%</th>\n",
              "      <td>65.962500</td>\n",
              "      <td>8.417500</td>\n",
              "      <td>1.887060e+08</td>\n",
              "      <td>9.481864e+09</td>\n",
              "      <td>17.610000</td>\n",
              "      <td>0.154500</td>\n",
              "      <td>17.630000</td>\n",
              "      <td>35.295000</td>\n",
              "    </tr>\n",
              "    <tr>\n",
              "      <th>max</th>\n",
              "      <td>353.170000</td>\n",
              "      <td>32.430000</td>\n",
              "      <td>1.258276e+09</td>\n",
              "      <td>7.749081e+10</td>\n",
              "      <td>23.170000</td>\n",
              "      <td>0.440000</td>\n",
              "      <td>351.080000</td>\n",
              "      <td>77.820000</td>\n",
              "    </tr>\n",
              "  </tbody>\n",
              "</table>\n",
              "</div>"
            ],
            "text/plain": [
              "             Last     52W Chg    Shares Out  ...       ROE%     Int Cov  Book Value\n",
              "count   38.000000   38.000000  3.800000e+01  ...  38.000000   38.000000   38.000000\n",
              "mean    56.532105   -0.837895  2.117354e+08  ...   0.105053   22.818684   22.185789\n",
              "std     61.363120   22.215672  3.396535e+08  ...   0.205818   55.624790   18.395315\n",
              "min      6.940000 -108.970000  1.066500e+07  ...  -0.887000    5.080000   -2.150000\n",
              "25%     16.635000   -2.975000  3.671450e+07  ...   0.071000    6.847500    7.362500\n",
              "50%     41.965000    1.120000  8.299250e+07  ...   0.126000   11.235000   20.820000\n",
              "75%     65.962500    8.417500  1.887060e+08  ...   0.154500   17.630000   35.295000\n",
              "max    353.170000   32.430000  1.258276e+09  ...   0.440000  351.080000   77.820000\n",
              "\n",
              "[8 rows x 8 columns]"
            ]
          },
          "metadata": {
            "tags": []
          },
          "execution_count": 40
        }
      ]
    },
    {
      "cell_type": "code",
      "metadata": {
        "id": "x47PBjBUjE9X"
      },
      "source": [
        "bmat_subPE.to_csv('Basic_Material_Trg.csv', index=False)"
      ],
      "execution_count": 42,
      "outputs": []
    },
    {
      "cell_type": "code",
      "metadata": {
        "id": "2Hoyb2LOkuWp"
      },
      "source": [
        "bizService = pd.read_csv('Business_Services_Screen.csv')"
      ],
      "execution_count": 43,
      "outputs": []
    },
    {
      "cell_type": "code",
      "metadata": {
        "id": "MsnKhI3eltw_",
        "outputId": "da2e2222-7117-4e46-9b54-beb9f2474a64",
        "colab": {
          "base_uri": "https://localhost:8080/",
          "height": 282
        }
      },
      "source": [
        "bizService.describe()"
      ],
      "execution_count": 44,
      "outputs": [
        {
          "output_type": "execute_result",
          "data": {
            "text/html": [
              "<div>\n",
              "<style scoped>\n",
              "    .dataframe tbody tr th:only-of-type {\n",
              "        vertical-align: middle;\n",
              "    }\n",
              "\n",
              "    .dataframe tbody tr th {\n",
              "        vertical-align: top;\n",
              "    }\n",
              "\n",
              "    .dataframe thead th {\n",
              "        text-align: right;\n",
              "    }\n",
              "</style>\n",
              "<table border=\"1\" class=\"dataframe\">\n",
              "  <thead>\n",
              "    <tr style=\"text-align: right;\">\n",
              "      <th></th>\n",
              "      <th>Last</th>\n",
              "      <th>52W Chg</th>\n",
              "      <th>Shares Out</th>\n",
              "      <th>Market Cap</th>\n",
              "      <th>P/E (ttm)</th>\n",
              "      <th>ROE%</th>\n",
              "      <th>Int Cov</th>\n",
              "      <th>Book Value</th>\n",
              "    </tr>\n",
              "  </thead>\n",
              "  <tbody>\n",
              "    <tr>\n",
              "      <th>count</th>\n",
              "      <td>151.000000</td>\n",
              "      <td>151.000000</td>\n",
              "      <td>1.510000e+02</td>\n",
              "      <td>1.510000e+02</td>\n",
              "      <td>151.000000</td>\n",
              "      <td>149.000000</td>\n",
              "      <td>151.000000</td>\n",
              "      <td>151.000000</td>\n",
              "    </tr>\n",
              "    <tr>\n",
              "      <th>mean</th>\n",
              "      <td>61.618013</td>\n",
              "      <td>7.489669</td>\n",
              "      <td>1.614550e+08</td>\n",
              "      <td>1.496305e+10</td>\n",
              "      <td>23.473245</td>\n",
              "      <td>-0.062611</td>\n",
              "      <td>6.650265</td>\n",
              "      <td>12.609404</td>\n",
              "    </tr>\n",
              "    <tr>\n",
              "      <th>std</th>\n",
              "      <td>66.673636</td>\n",
              "      <td>27.568409</td>\n",
              "      <td>2.600147e+08</td>\n",
              "      <td>4.645367e+10</td>\n",
              "      <td>46.705240</td>\n",
              "      <td>3.188001</td>\n",
              "      <td>43.325170</td>\n",
              "      <td>16.365980</td>\n",
              "    </tr>\n",
              "    <tr>\n",
              "      <th>min</th>\n",
              "      <td>1.140000</td>\n",
              "      <td>-69.800000</td>\n",
              "      <td>7.636000e+06</td>\n",
              "      <td>3.007470e+08</td>\n",
              "      <td>0.000000</td>\n",
              "      <td>-34.848000</td>\n",
              "      <td>-387.550000</td>\n",
              "      <td>-9.320000</td>\n",
              "    </tr>\n",
              "    <tr>\n",
              "      <th>25%</th>\n",
              "      <td>18.355000</td>\n",
              "      <td>-3.845000</td>\n",
              "      <td>4.350800e+07</td>\n",
              "      <td>9.117855e+08</td>\n",
              "      <td>0.000000</td>\n",
              "      <td>0.000000</td>\n",
              "      <td>0.000000</td>\n",
              "      <td>2.715000</td>\n",
              "    </tr>\n",
              "    <tr>\n",
              "      <th>50%</th>\n",
              "      <td>36.310000</td>\n",
              "      <td>1.600000</td>\n",
              "      <td>7.949600e+07</td>\n",
              "      <td>2.742819e+09</td>\n",
              "      <td>16.040000</td>\n",
              "      <td>0.114000</td>\n",
              "      <td>2.420000</td>\n",
              "      <td>9.150000</td>\n",
              "    </tr>\n",
              "    <tr>\n",
              "      <th>75%</th>\n",
              "      <td>79.800000</td>\n",
              "      <td>12.615000</td>\n",
              "      <td>1.837755e+08</td>\n",
              "      <td>9.843842e+09</td>\n",
              "      <td>28.940000</td>\n",
              "      <td>0.230000</td>\n",
              "      <td>7.925000</td>\n",
              "      <td>17.365000</td>\n",
              "    </tr>\n",
              "    <tr>\n",
              "      <th>max</th>\n",
              "      <td>356.760000</td>\n",
              "      <td>158.630000</td>\n",
              "      <td>1.984452e+09</td>\n",
              "      <td>4.013734e+11</td>\n",
              "      <td>510.750000</td>\n",
              "      <td>10.727000</td>\n",
              "      <td>205.850000</td>\n",
              "      <td>121.190000</td>\n",
              "    </tr>\n",
              "  </tbody>\n",
              "</table>\n",
              "</div>"
            ],
            "text/plain": [
              "             Last     52W Chg    Shares Out  ...        ROE%     Int Cov  Book Value\n",
              "count  151.000000  151.000000  1.510000e+02  ...  149.000000  151.000000  151.000000\n",
              "mean    61.618013    7.489669  1.614550e+08  ...   -0.062611    6.650265   12.609404\n",
              "std     66.673636   27.568409  2.600147e+08  ...    3.188001   43.325170   16.365980\n",
              "min      1.140000  -69.800000  7.636000e+06  ...  -34.848000 -387.550000   -9.320000\n",
              "25%     18.355000   -3.845000  4.350800e+07  ...    0.000000    0.000000    2.715000\n",
              "50%     36.310000    1.600000  7.949600e+07  ...    0.114000    2.420000    9.150000\n",
              "75%     79.800000   12.615000  1.837755e+08  ...    0.230000    7.925000   17.365000\n",
              "max    356.760000  158.630000  1.984452e+09  ...   10.727000  205.850000  121.190000\n",
              "\n",
              "[8 rows x 8 columns]"
            ]
          },
          "metadata": {
            "tags": []
          },
          "execution_count": 44
        }
      ]
    },
    {
      "cell_type": "code",
      "metadata": {
        "id": "X-rwEQJSlv5Z"
      },
      "source": [
        "bserv_intcov = bizService.loc[(bizService['Int Cov'])>5]"
      ],
      "execution_count": 45,
      "outputs": []
    },
    {
      "cell_type": "code",
      "metadata": {
        "id": "lhJlnAKgmMg9",
        "outputId": "defc3f52-547e-4e5a-cc26-65615fb19871",
        "colab": {
          "base_uri": "https://localhost:8080/",
          "height": 34
        }
      },
      "source": [
        "len(bserv_intcov)"
      ],
      "execution_count": 46,
      "outputs": [
        {
          "output_type": "execute_result",
          "data": {
            "text/plain": [
              "52"
            ]
          },
          "metadata": {
            "tags": []
          },
          "execution_count": 46
        }
      ]
    },
    {
      "cell_type": "code",
      "metadata": {
        "id": "C57Pt8S8mSTH"
      },
      "source": [
        "bserv_pesub = bserv_intcov.loc[(bserv_intcov['P/E (ttm)'])<23]"
      ],
      "execution_count": 47,
      "outputs": []
    },
    {
      "cell_type": "code",
      "metadata": {
        "id": "vSDVwQQ0mmUn",
        "outputId": "32665234-9320-4fc0-e6de-957db7f4e0d1",
        "colab": {
          "base_uri": "https://localhost:8080/",
          "height": 34
        }
      },
      "source": [
        "len(bserv_pesub)"
      ],
      "execution_count": 48,
      "outputs": [
        {
          "output_type": "execute_result",
          "data": {
            "text/plain": [
              "29"
            ]
          },
          "metadata": {
            "tags": []
          },
          "execution_count": 48
        }
      ]
    },
    {
      "cell_type": "code",
      "metadata": {
        "id": "TeHQ_js8mn7R"
      },
      "source": [
        "bserv_pesub.to_csv('Biz_Services_Trg.csv', index=False)"
      ],
      "execution_count": 49,
      "outputs": []
    },
    {
      "cell_type": "code",
      "metadata": {
        "id": "rGsSsiU9mwOU"
      },
      "source": [
        "comptech = pd.read_csv('CompTech_Screen.csv')"
      ],
      "execution_count": 50,
      "outputs": []
    },
    {
      "cell_type": "code",
      "metadata": {
        "id": "Mwo620SsntiH",
        "outputId": "a4f45fbd-a157-4f2b-800e-d3f8b7fffa25",
        "colab": {
          "base_uri": "https://localhost:8080/",
          "height": 282
        }
      },
      "source": [
        "comptech.describe()"
      ],
      "execution_count": 51,
      "outputs": [
        {
          "output_type": "execute_result",
          "data": {
            "text/html": [
              "<div>\n",
              "<style scoped>\n",
              "    .dataframe tbody tr th:only-of-type {\n",
              "        vertical-align: middle;\n",
              "    }\n",
              "\n",
              "    .dataframe tbody tr th {\n",
              "        vertical-align: top;\n",
              "    }\n",
              "\n",
              "    .dataframe thead th {\n",
              "        text-align: right;\n",
              "    }\n",
              "</style>\n",
              "<table border=\"1\" class=\"dataframe\">\n",
              "  <thead>\n",
              "    <tr style=\"text-align: right;\">\n",
              "      <th></th>\n",
              "      <th>Last</th>\n",
              "      <th>52W Chg</th>\n",
              "      <th>Shares Out</th>\n",
              "      <th>Market Cap</th>\n",
              "      <th>P/E (ttm)</th>\n",
              "      <th>ROE%</th>\n",
              "      <th>Int Cov</th>\n",
              "      <th>Book Value</th>\n",
              "    </tr>\n",
              "  </thead>\n",
              "  <tbody>\n",
              "    <tr>\n",
              "      <th>count</th>\n",
              "      <td>472.000000</td>\n",
              "      <td>472.000000</td>\n",
              "      <td>4.720000e+02</td>\n",
              "      <td>4.720000e+02</td>\n",
              "      <td>472.000000</td>\n",
              "      <td>470.000000</td>\n",
              "      <td>472.000000</td>\n",
              "      <td>472.000000</td>\n",
              "    </tr>\n",
              "    <tr>\n",
              "      <th>mean</th>\n",
              "      <td>86.062267</td>\n",
              "      <td>26.130742</td>\n",
              "      <td>3.545679e+08</td>\n",
              "      <td>3.033333e+10</td>\n",
              "      <td>61.439619</td>\n",
              "      <td>0.024032</td>\n",
              "      <td>22.561462</td>\n",
              "      <td>13.616907</td>\n",
              "    </tr>\n",
              "    <tr>\n",
              "      <th>std</th>\n",
              "      <td>149.767524</td>\n",
              "      <td>65.823848</td>\n",
              "      <td>1.112122e+09</td>\n",
              "      <td>1.455430e+11</td>\n",
              "      <td>292.451353</td>\n",
              "      <td>0.507689</td>\n",
              "      <td>458.274189</td>\n",
              "      <td>24.232642</td>\n",
              "    </tr>\n",
              "    <tr>\n",
              "      <th>min</th>\n",
              "      <td>0.310000</td>\n",
              "      <td>-37.630000</td>\n",
              "      <td>6.949000e+06</td>\n",
              "      <td>3.001190e+08</td>\n",
              "      <td>0.000000</td>\n",
              "      <td>-4.571000</td>\n",
              "      <td>-3386.000000</td>\n",
              "      <td>-26.170000</td>\n",
              "    </tr>\n",
              "    <tr>\n",
              "      <th>25%</th>\n",
              "      <td>18.007500</td>\n",
              "      <td>-0.500000</td>\n",
              "      <td>4.378225e+07</td>\n",
              "      <td>1.146449e+09</td>\n",
              "      <td>0.000000</td>\n",
              "      <td>-0.023000</td>\n",
              "      <td>-1.040000</td>\n",
              "      <td>2.982500</td>\n",
              "    </tr>\n",
              "    <tr>\n",
              "      <th>50%</th>\n",
              "      <td>41.020000</td>\n",
              "      <td>6.165000</td>\n",
              "      <td>9.100000e+07</td>\n",
              "      <td>3.817518e+09</td>\n",
              "      <td>19.290000</td>\n",
              "      <td>0.074500</td>\n",
              "      <td>0.000000</td>\n",
              "      <td>8.160000</td>\n",
              "    </tr>\n",
              "    <tr>\n",
              "      <th>75%</th>\n",
              "      <td>98.892500</td>\n",
              "      <td>23.877500</td>\n",
              "      <td>2.294395e+08</td>\n",
              "      <td>1.434656e+10</td>\n",
              "      <td>38.710000</td>\n",
              "      <td>0.166000</td>\n",
              "      <td>5.605000</td>\n",
              "      <td>17.435000</td>\n",
              "    </tr>\n",
              "    <tr>\n",
              "      <th>max</th>\n",
              "      <td>1515.220000</td>\n",
              "      <td>782.150000</td>\n",
              "      <td>1.733734e+10</td>\n",
              "      <td>2.027949e+12</td>\n",
              "      <td>4546.000000</td>\n",
              "      <td>2.400000</td>\n",
              "      <td>9101.000000</td>\n",
              "      <td>304.810000</td>\n",
              "    </tr>\n",
              "  </tbody>\n",
              "</table>\n",
              "</div>"
            ],
            "text/plain": [
              "              Last     52W Chg  ...      Int Cov  Book Value\n",
              "count   472.000000  472.000000  ...   472.000000  472.000000\n",
              "mean     86.062267   26.130742  ...    22.561462   13.616907\n",
              "std     149.767524   65.823848  ...   458.274189   24.232642\n",
              "min       0.310000  -37.630000  ... -3386.000000  -26.170000\n",
              "25%      18.007500   -0.500000  ...    -1.040000    2.982500\n",
              "50%      41.020000    6.165000  ...     0.000000    8.160000\n",
              "75%      98.892500   23.877500  ...     5.605000   17.435000\n",
              "max    1515.220000  782.150000  ...  9101.000000  304.810000\n",
              "\n",
              "[8 rows x 8 columns]"
            ]
          },
          "metadata": {
            "tags": []
          },
          "execution_count": 51
        }
      ]
    },
    {
      "cell_type": "code",
      "metadata": {
        "id": "gH9CEdmmnvio"
      },
      "source": [
        "comT_intcov = comptech.loc[(comptech['Int Cov'])>5]"
      ],
      "execution_count": 52,
      "outputs": []
    },
    {
      "cell_type": "code",
      "metadata": {
        "id": "BM_fLIB6n-tf",
        "outputId": "d8a4e190-d38c-46ed-b838-0fe47b4087a4",
        "colab": {
          "base_uri": "https://localhost:8080/",
          "height": 34
        }
      },
      "source": [
        "len(comT_intcov)"
      ],
      "execution_count": 53,
      "outputs": [
        {
          "output_type": "execute_result",
          "data": {
            "text/plain": [
              "129"
            ]
          },
          "metadata": {
            "tags": []
          },
          "execution_count": 53
        }
      ]
    },
    {
      "cell_type": "code",
      "metadata": {
        "id": "ewHF-LeAoAEn",
        "outputId": "aa36fa80-9a86-4efb-ea43-784e3bfcb2e3",
        "colab": {
          "base_uri": "https://localhost:8080/",
          "height": 282
        }
      },
      "source": [
        "comT_intcov.describe()"
      ],
      "execution_count": 54,
      "outputs": [
        {
          "output_type": "execute_result",
          "data": {
            "text/html": [
              "<div>\n",
              "<style scoped>\n",
              "    .dataframe tbody tr th:only-of-type {\n",
              "        vertical-align: middle;\n",
              "    }\n",
              "\n",
              "    .dataframe tbody tr th {\n",
              "        vertical-align: top;\n",
              "    }\n",
              "\n",
              "    .dataframe thead th {\n",
              "        text-align: right;\n",
              "    }\n",
              "</style>\n",
              "<table border=\"1\" class=\"dataframe\">\n",
              "  <thead>\n",
              "    <tr style=\"text-align: right;\">\n",
              "      <th></th>\n",
              "      <th>Last</th>\n",
              "      <th>52W Chg</th>\n",
              "      <th>Shares Out</th>\n",
              "      <th>Market Cap</th>\n",
              "      <th>P/E (ttm)</th>\n",
              "      <th>ROE%</th>\n",
              "      <th>Int Cov</th>\n",
              "      <th>Book Value</th>\n",
              "    </tr>\n",
              "  </thead>\n",
              "  <tbody>\n",
              "    <tr>\n",
              "      <th>count</th>\n",
              "      <td>129.000000</td>\n",
              "      <td>129.000000</td>\n",
              "      <td>1.290000e+02</td>\n",
              "      <td>1.290000e+02</td>\n",
              "      <td>129.000000</td>\n",
              "      <td>129.000000</td>\n",
              "      <td>129.000000</td>\n",
              "      <td>129.000000</td>\n",
              "    </tr>\n",
              "    <tr>\n",
              "      <th>mean</th>\n",
              "      <td>113.511395</td>\n",
              "      <td>33.047054</td>\n",
              "      <td>5.191261e+08</td>\n",
              "      <td>4.330372e+10</td>\n",
              "      <td>34.116357</td>\n",
              "      <td>0.102783</td>\n",
              "      <td>134.938837</td>\n",
              "      <td>18.157674</td>\n",
              "    </tr>\n",
              "    <tr>\n",
              "      <th>std</th>\n",
              "      <td>153.258288</td>\n",
              "      <td>70.419912</td>\n",
              "      <td>1.150139e+09</td>\n",
              "      <td>1.547279e+11</td>\n",
              "      <td>33.422965</td>\n",
              "      <td>0.677669</td>\n",
              "      <td>812.613346</td>\n",
              "      <td>19.612959</td>\n",
              "    </tr>\n",
              "    <tr>\n",
              "      <th>min</th>\n",
              "      <td>1.450000</td>\n",
              "      <td>-20.920000</td>\n",
              "      <td>6.949000e+06</td>\n",
              "      <td>3.070900e+08</td>\n",
              "      <td>0.000000</td>\n",
              "      <td>-4.571000</td>\n",
              "      <td>5.030000</td>\n",
              "      <td>-12.190000</td>\n",
              "    </tr>\n",
              "    <tr>\n",
              "      <th>25%</th>\n",
              "      <td>27.770000</td>\n",
              "      <td>-0.220000</td>\n",
              "      <td>3.924700e+07</td>\n",
              "      <td>1.881806e+09</td>\n",
              "      <td>17.590000</td>\n",
              "      <td>0.077000</td>\n",
              "      <td>7.670000</td>\n",
              "      <td>7.890000</td>\n",
              "    </tr>\n",
              "    <tr>\n",
              "      <th>50%</th>\n",
              "      <td>69.820000</td>\n",
              "      <td>10.650000</td>\n",
              "      <td>9.164100e+07</td>\n",
              "      <td>9.374190e+09</td>\n",
              "      <td>24.920000</td>\n",
              "      <td>0.140000</td>\n",
              "      <td>14.040000</td>\n",
              "      <td>13.120000</td>\n",
              "    </tr>\n",
              "    <tr>\n",
              "      <th>75%</th>\n",
              "      <td>125.530000</td>\n",
              "      <td>27.860000</td>\n",
              "      <td>3.518600e+08</td>\n",
              "      <td>2.946782e+10</td>\n",
              "      <td>38.620000</td>\n",
              "      <td>0.220000</td>\n",
              "      <td>38.340000</td>\n",
              "      <td>23.850000</td>\n",
              "    </tr>\n",
              "    <tr>\n",
              "      <th>max</th>\n",
              "      <td>1025.460000</td>\n",
              "      <td>421.220000</td>\n",
              "      <td>7.567653e+09</td>\n",
              "      <td>1.633175e+12</td>\n",
              "      <td>250.230000</td>\n",
              "      <td>2.018000</td>\n",
              "      <td>9101.000000</td>\n",
              "      <td>132.700000</td>\n",
              "    </tr>\n",
              "  </tbody>\n",
              "</table>\n",
              "</div>"
            ],
            "text/plain": [
              "              Last     52W Chg  ...      Int Cov  Book Value\n",
              "count   129.000000  129.000000  ...   129.000000  129.000000\n",
              "mean    113.511395   33.047054  ...   134.938837   18.157674\n",
              "std     153.258288   70.419912  ...   812.613346   19.612959\n",
              "min       1.450000  -20.920000  ...     5.030000  -12.190000\n",
              "25%      27.770000   -0.220000  ...     7.670000    7.890000\n",
              "50%      69.820000   10.650000  ...    14.040000   13.120000\n",
              "75%     125.530000   27.860000  ...    38.340000   23.850000\n",
              "max    1025.460000  421.220000  ...  9101.000000  132.700000\n",
              "\n",
              "[8 rows x 8 columns]"
            ]
          },
          "metadata": {
            "tags": []
          },
          "execution_count": 54
        }
      ]
    },
    {
      "cell_type": "code",
      "metadata": {
        "id": "VWehIRSVoCBw"
      },
      "source": [
        "comT_subpe = comT_intcov.loc[(comT_intcov['P/E (ttm)'])<25]"
      ],
      "execution_count": 55,
      "outputs": []
    },
    {
      "cell_type": "code",
      "metadata": {
        "id": "6tsHcoUIoeBE",
        "outputId": "71791422-6ec6-4ee9-ed3b-b58aea237ab7",
        "colab": {
          "base_uri": "https://localhost:8080/",
          "height": 34
        }
      },
      "source": [
        "len(comT_subpe)"
      ],
      "execution_count": 56,
      "outputs": [
        {
          "output_type": "execute_result",
          "data": {
            "text/plain": [
              "65"
            ]
          },
          "metadata": {
            "tags": []
          },
          "execution_count": 56
        }
      ]
    },
    {
      "cell_type": "code",
      "metadata": {
        "id": "w_s0xUYxofsc"
      },
      "source": [
        "comT_subpe.to_csv('Comp_Tech_Trg.csv', index=False)"
      ],
      "execution_count": 57,
      "outputs": []
    },
    {
      "cell_type": "code",
      "metadata": {
        "id": "6Ic6boSYon7a"
      },
      "source": [
        "conDisc = pd.read_csv('Consumer_Disc_Screen.csv')"
      ],
      "execution_count": 58,
      "outputs": []
    },
    {
      "cell_type": "code",
      "metadata": {
        "id": "9zKege2qqJJn",
        "outputId": "b0bf8478-a00e-4e2c-de00-04cdfadbce77",
        "colab": {
          "base_uri": "https://localhost:8080/",
          "height": 282
        }
      },
      "source": [
        "conDisc.describe()"
      ],
      "execution_count": 59,
      "outputs": [
        {
          "output_type": "execute_result",
          "data": {
            "text/html": [
              "<div>\n",
              "<style scoped>\n",
              "    .dataframe tbody tr th:only-of-type {\n",
              "        vertical-align: middle;\n",
              "    }\n",
              "\n",
              "    .dataframe tbody tr th {\n",
              "        vertical-align: top;\n",
              "    }\n",
              "\n",
              "    .dataframe thead th {\n",
              "        text-align: right;\n",
              "    }\n",
              "</style>\n",
              "<table border=\"1\" class=\"dataframe\">\n",
              "  <thead>\n",
              "    <tr style=\"text-align: right;\">\n",
              "      <th></th>\n",
              "      <th>Last</th>\n",
              "      <th>52W Chg</th>\n",
              "      <th>Shares Out</th>\n",
              "      <th>Market Cap</th>\n",
              "      <th>P/E (ttm)</th>\n",
              "      <th>ROE%</th>\n",
              "      <th>Int Cov</th>\n",
              "      <th>Book Value</th>\n",
              "    </tr>\n",
              "  </thead>\n",
              "  <tbody>\n",
              "    <tr>\n",
              "      <th>count</th>\n",
              "      <td>179.000000</td>\n",
              "      <td>179.000000</td>\n",
              "      <td>1.790000e+02</td>\n",
              "      <td>1.790000e+02</td>\n",
              "      <td>179.000000</td>\n",
              "      <td>178.000000</td>\n",
              "      <td>179.000000</td>\n",
              "      <td>179.000000</td>\n",
              "    </tr>\n",
              "    <tr>\n",
              "      <th>mean</th>\n",
              "      <td>62.098603</td>\n",
              "      <td>6.015922</td>\n",
              "      <td>2.452988e+08</td>\n",
              "      <td>1.137898e+10</td>\n",
              "      <td>78.462235</td>\n",
              "      <td>-0.076787</td>\n",
              "      <td>25.123911</td>\n",
              "      <td>20.182737</td>\n",
              "    </tr>\n",
              "    <tr>\n",
              "      <th>std</th>\n",
              "      <td>155.978962</td>\n",
              "      <td>57.054105</td>\n",
              "      <td>5.128624e+08</td>\n",
              "      <td>3.130066e+10</td>\n",
              "      <td>601.988815</td>\n",
              "      <td>0.844440</td>\n",
              "      <td>145.713017</td>\n",
              "      <td>53.553143</td>\n",
              "    </tr>\n",
              "    <tr>\n",
              "      <th>min</th>\n",
              "      <td>1.400000</td>\n",
              "      <td>-233.940000</td>\n",
              "      <td>5.112000e+06</td>\n",
              "      <td>3.064020e+08</td>\n",
              "      <td>0.000000</td>\n",
              "      <td>-8.710000</td>\n",
              "      <td>-154.730000</td>\n",
              "      <td>-15.100000</td>\n",
              "    </tr>\n",
              "    <tr>\n",
              "      <th>25%</th>\n",
              "      <td>13.575000</td>\n",
              "      <td>-5.350000</td>\n",
              "      <td>5.293400e+07</td>\n",
              "      <td>1.061268e+09</td>\n",
              "      <td>0.000000</td>\n",
              "      <td>-0.045000</td>\n",
              "      <td>-0.180000</td>\n",
              "      <td>2.095000</td>\n",
              "    </tr>\n",
              "    <tr>\n",
              "      <th>50%</th>\n",
              "      <td>25.000000</td>\n",
              "      <td>-0.590000</td>\n",
              "      <td>9.678900e+07</td>\n",
              "      <td>2.440287e+09</td>\n",
              "      <td>11.700000</td>\n",
              "      <td>0.035000</td>\n",
              "      <td>2.830000</td>\n",
              "      <td>8.720000</td>\n",
              "    </tr>\n",
              "    <tr>\n",
              "      <th>75%</th>\n",
              "      <td>59.780000</td>\n",
              "      <td>6.445000</td>\n",
              "      <td>2.204500e+08</td>\n",
              "      <td>9.861807e+09</td>\n",
              "      <td>25.870000</td>\n",
              "      <td>0.149000</td>\n",
              "      <td>5.705000</td>\n",
              "      <td>21.140000</td>\n",
              "    </tr>\n",
              "    <tr>\n",
              "      <th>max</th>\n",
              "      <td>1835.860000</td>\n",
              "      <td>555.690000</td>\n",
              "      <td>4.568101e+09</td>\n",
              "      <td>2.379011e+11</td>\n",
              "      <td>7858.010000</td>\n",
              "      <td>2.388000</td>\n",
              "      <td>1661.650000</td>\n",
              "      <td>613.250000</td>\n",
              "    </tr>\n",
              "  </tbody>\n",
              "</table>\n",
              "</div>"
            ],
            "text/plain": [
              "              Last     52W Chg  ...      Int Cov  Book Value\n",
              "count   179.000000  179.000000  ...   179.000000  179.000000\n",
              "mean     62.098603    6.015922  ...    25.123911   20.182737\n",
              "std     155.978962   57.054105  ...   145.713017   53.553143\n",
              "min       1.400000 -233.940000  ...  -154.730000  -15.100000\n",
              "25%      13.575000   -5.350000  ...    -0.180000    2.095000\n",
              "50%      25.000000   -0.590000  ...     2.830000    8.720000\n",
              "75%      59.780000    6.445000  ...     5.705000   21.140000\n",
              "max    1835.860000  555.690000  ...  1661.650000  613.250000\n",
              "\n",
              "[8 rows x 8 columns]"
            ]
          },
          "metadata": {
            "tags": []
          },
          "execution_count": 59
        }
      ]
    },
    {
      "cell_type": "code",
      "metadata": {
        "id": "COBqtsHeqKv_"
      },
      "source": [
        "conD_intcov = conDisc.loc[(conDisc['Int Cov'])>5]"
      ],
      "execution_count": 60,
      "outputs": []
    },
    {
      "cell_type": "code",
      "metadata": {
        "id": "wq0KTbXpqcdk",
        "outputId": "2942719c-fb99-4126-eb0f-be5dc354edaf",
        "colab": {
          "base_uri": "https://localhost:8080/",
          "height": 34
        }
      },
      "source": [
        "len(conD_intcov)"
      ],
      "execution_count": 61,
      "outputs": [
        {
          "output_type": "execute_result",
          "data": {
            "text/plain": [
              "49"
            ]
          },
          "metadata": {
            "tags": []
          },
          "execution_count": 61
        }
      ]
    },
    {
      "cell_type": "code",
      "metadata": {
        "id": "JtcxgaBvqecN",
        "outputId": "e76e1168-8358-47e8-cbdb-8dab604b53c9",
        "colab": {
          "base_uri": "https://localhost:8080/",
          "height": 282
        }
      },
      "source": [
        "conD_intcov.describe()"
      ],
      "execution_count": 62,
      "outputs": [
        {
          "output_type": "execute_result",
          "data": {
            "text/html": [
              "<div>\n",
              "<style scoped>\n",
              "    .dataframe tbody tr th:only-of-type {\n",
              "        vertical-align: middle;\n",
              "    }\n",
              "\n",
              "    .dataframe tbody tr th {\n",
              "        vertical-align: top;\n",
              "    }\n",
              "\n",
              "    .dataframe thead th {\n",
              "        text-align: right;\n",
              "    }\n",
              "</style>\n",
              "<table border=\"1\" class=\"dataframe\">\n",
              "  <thead>\n",
              "    <tr style=\"text-align: right;\">\n",
              "      <th></th>\n",
              "      <th>Last</th>\n",
              "      <th>52W Chg</th>\n",
              "      <th>Shares Out</th>\n",
              "      <th>Market Cap</th>\n",
              "      <th>P/E (ttm)</th>\n",
              "      <th>ROE%</th>\n",
              "      <th>Int Cov</th>\n",
              "      <th>Book Value</th>\n",
              "    </tr>\n",
              "  </thead>\n",
              "  <tbody>\n",
              "    <tr>\n",
              "      <th>count</th>\n",
              "      <td>49.000000</td>\n",
              "      <td>49.000000</td>\n",
              "      <td>4.900000e+01</td>\n",
              "      <td>4.900000e+01</td>\n",
              "      <td>49.000000</td>\n",
              "      <td>49.000000</td>\n",
              "      <td>49.000000</td>\n",
              "      <td>49.000000</td>\n",
              "    </tr>\n",
              "    <tr>\n",
              "      <th>mean</th>\n",
              "      <td>74.116122</td>\n",
              "      <td>1.301429</td>\n",
              "      <td>2.125974e+08</td>\n",
              "      <td>1.507533e+10</td>\n",
              "      <td>24.900000</td>\n",
              "      <td>0.029571</td>\n",
              "      <td>94.367959</td>\n",
              "      <td>34.152857</td>\n",
              "    </tr>\n",
              "    <tr>\n",
              "      <th>std</th>\n",
              "      <td>80.798887</td>\n",
              "      <td>44.128107</td>\n",
              "      <td>3.385830e+08</td>\n",
              "      <td>3.499507e+10</td>\n",
              "      <td>30.907057</td>\n",
              "      <td>0.735201</td>\n",
              "      <td>267.284883</td>\n",
              "      <td>88.495824</td>\n",
              "    </tr>\n",
              "    <tr>\n",
              "      <th>min</th>\n",
              "      <td>4.580000</td>\n",
              "      <td>-233.940000</td>\n",
              "      <td>5.112000e+06</td>\n",
              "      <td>3.414810e+08</td>\n",
              "      <td>0.000000</td>\n",
              "      <td>-4.261000</td>\n",
              "      <td>5.060000</td>\n",
              "      <td>-12.320000</td>\n",
              "    </tr>\n",
              "    <tr>\n",
              "      <th>25%</th>\n",
              "      <td>22.830000</td>\n",
              "      <td>-9.040000</td>\n",
              "      <td>5.187600e+07</td>\n",
              "      <td>1.168689e+09</td>\n",
              "      <td>8.380000</td>\n",
              "      <td>-0.035000</td>\n",
              "      <td>7.160000</td>\n",
              "      <td>6.010000</td>\n",
              "    </tr>\n",
              "    <tr>\n",
              "      <th>50%</th>\n",
              "      <td>55.500000</td>\n",
              "      <td>1.690000</td>\n",
              "      <td>8.507800e+07</td>\n",
              "      <td>5.053164e+09</td>\n",
              "      <td>17.490000</td>\n",
              "      <td>0.095000</td>\n",
              "      <td>12.170000</td>\n",
              "      <td>15.540000</td>\n",
              "    </tr>\n",
              "    <tr>\n",
              "      <th>75%</th>\n",
              "      <td>90.800000</td>\n",
              "      <td>11.830000</td>\n",
              "      <td>1.826560e+08</td>\n",
              "      <td>1.308721e+10</td>\n",
              "      <td>28.830000</td>\n",
              "      <td>0.180000</td>\n",
              "      <td>28.000000</td>\n",
              "      <td>34.540000</td>\n",
              "    </tr>\n",
              "    <tr>\n",
              "      <th>max</th>\n",
              "      <td>413.620000</td>\n",
              "      <td>146.480000</td>\n",
              "      <td>1.807063e+09</td>\n",
              "      <td>2.258467e+11</td>\n",
              "      <td>146.850000</td>\n",
              "      <td>2.388000</td>\n",
              "      <td>1661.650000</td>\n",
              "      <td>613.250000</td>\n",
              "    </tr>\n",
              "  </tbody>\n",
              "</table>\n",
              "</div>"
            ],
            "text/plain": [
              "             Last     52W Chg    Shares Out  ...       ROE%      Int Cov  Book Value\n",
              "count   49.000000   49.000000  4.900000e+01  ...  49.000000    49.000000   49.000000\n",
              "mean    74.116122    1.301429  2.125974e+08  ...   0.029571    94.367959   34.152857\n",
              "std     80.798887   44.128107  3.385830e+08  ...   0.735201   267.284883   88.495824\n",
              "min      4.580000 -233.940000  5.112000e+06  ...  -4.261000     5.060000  -12.320000\n",
              "25%     22.830000   -9.040000  5.187600e+07  ...  -0.035000     7.160000    6.010000\n",
              "50%     55.500000    1.690000  8.507800e+07  ...   0.095000    12.170000   15.540000\n",
              "75%     90.800000   11.830000  1.826560e+08  ...   0.180000    28.000000   34.540000\n",
              "max    413.620000  146.480000  1.807063e+09  ...   2.388000  1661.650000  613.250000\n",
              "\n",
              "[8 rows x 8 columns]"
            ]
          },
          "metadata": {
            "tags": []
          },
          "execution_count": 62
        }
      ]
    },
    {
      "cell_type": "code",
      "metadata": {
        "id": "Zfs6zo9QqgR6"
      },
      "source": [
        "conD_subpe = conD_intcov.loc[(conD_intcov['P/E (ttm)'])<25]"
      ],
      "execution_count": 63,
      "outputs": []
    },
    {
      "cell_type": "code",
      "metadata": {
        "id": "olviamAPqrZ6",
        "outputId": "51924599-edec-4a8d-bd93-5f21e760ab41",
        "colab": {
          "base_uri": "https://localhost:8080/",
          "height": 34
        }
      },
      "source": [
        "len(conD_subpe)"
      ],
      "execution_count": 64,
      "outputs": [
        {
          "output_type": "execute_result",
          "data": {
            "text/plain": [
              "33"
            ]
          },
          "metadata": {
            "tags": []
          },
          "execution_count": 64
        }
      ]
    },
    {
      "cell_type": "code",
      "metadata": {
        "id": "fUm9OAvIqtQ7"
      },
      "source": [
        "conD_subpe.to_csv('Consumer_Disc_Trg.csv', index=False)"
      ],
      "execution_count": 65,
      "outputs": []
    },
    {
      "cell_type": "code",
      "metadata": {
        "id": "vJ9qxK4Rq25I"
      },
      "source": [
        "conStap = pd.read_csv('Consumer_Staple_Screen.csv')"
      ],
      "execution_count": 66,
      "outputs": []
    },
    {
      "cell_type": "code",
      "metadata": {
        "id": "0yjgw8P4rgWp",
        "outputId": "b6c89a12-f1ef-4327-8b61-bdfa49167314",
        "colab": {
          "base_uri": "https://localhost:8080/",
          "height": 282
        }
      },
      "source": [
        "conStap.describe()"
      ],
      "execution_count": 67,
      "outputs": [
        {
          "output_type": "execute_result",
          "data": {
            "text/html": [
              "<div>\n",
              "<style scoped>\n",
              "    .dataframe tbody tr th:only-of-type {\n",
              "        vertical-align: middle;\n",
              "    }\n",
              "\n",
              "    .dataframe tbody tr th {\n",
              "        vertical-align: top;\n",
              "    }\n",
              "\n",
              "    .dataframe thead th {\n",
              "        text-align: right;\n",
              "    }\n",
              "</style>\n",
              "<table border=\"1\" class=\"dataframe\">\n",
              "  <thead>\n",
              "    <tr style=\"text-align: right;\">\n",
              "      <th></th>\n",
              "      <th>Last</th>\n",
              "      <th>52W Chg</th>\n",
              "      <th>Shares Out</th>\n",
              "      <th>Market Cap</th>\n",
              "      <th>P/E (ttm)</th>\n",
              "      <th>ROE%</th>\n",
              "      <th>Int Cov</th>\n",
              "      <th>Book Value</th>\n",
              "    </tr>\n",
              "  </thead>\n",
              "  <tbody>\n",
              "    <tr>\n",
              "      <th>count</th>\n",
              "      <td>143.000000</td>\n",
              "      <td>143.000000</td>\n",
              "      <td>1.430000e+02</td>\n",
              "      <td>1.430000e+02</td>\n",
              "      <td>143.000000</td>\n",
              "      <td>143.000000</td>\n",
              "      <td>143.000000</td>\n",
              "      <td>143.000000</td>\n",
              "    </tr>\n",
              "    <tr>\n",
              "      <th>mean</th>\n",
              "      <td>91.344685</td>\n",
              "      <td>0.054615</td>\n",
              "      <td>4.373309e+08</td>\n",
              "      <td>2.131340e+10</td>\n",
              "      <td>69.067343</td>\n",
              "      <td>0.375636</td>\n",
              "      <td>9.421608</td>\n",
              "      <td>37.090699</td>\n",
              "    </tr>\n",
              "    <tr>\n",
              "      <th>std</th>\n",
              "      <td>278.086446</td>\n",
              "      <td>95.200557</td>\n",
              "      <td>1.411391e+09</td>\n",
              "      <td>4.614127e+10</td>\n",
              "      <td>339.459733</td>\n",
              "      <td>1.406747</td>\n",
              "      <td>22.618562</td>\n",
              "      <td>243.672728</td>\n",
              "    </tr>\n",
              "    <tr>\n",
              "      <th>min</th>\n",
              "      <td>2.470000</td>\n",
              "      <td>-954.490000</td>\n",
              "      <td>1.161000e+06</td>\n",
              "      <td>3.104900e+08</td>\n",
              "      <td>0.000000</td>\n",
              "      <td>-0.802000</td>\n",
              "      <td>-31.790000</td>\n",
              "      <td>-27.690000</td>\n",
              "    </tr>\n",
              "    <tr>\n",
              "      <th>25%</th>\n",
              "      <td>22.400000</td>\n",
              "      <td>-10.045000</td>\n",
              "      <td>4.785000e+07</td>\n",
              "      <td>1.571406e+09</td>\n",
              "      <td>9.080000</td>\n",
              "      <td>0.036000</td>\n",
              "      <td>0.000000</td>\n",
              "      <td>5.010000</td>\n",
              "    </tr>\n",
              "    <tr>\n",
              "      <th>50%</th>\n",
              "      <td>41.120000</td>\n",
              "      <td>-0.860000</td>\n",
              "      <td>9.538000e+07</td>\n",
              "      <td>4.868721e+09</td>\n",
              "      <td>18.760000</td>\n",
              "      <td>0.113000</td>\n",
              "      <td>3.840000</td>\n",
              "      <td>10.570000</td>\n",
              "    </tr>\n",
              "    <tr>\n",
              "      <th>75%</th>\n",
              "      <td>78.650000</td>\n",
              "      <td>9.185000</td>\n",
              "      <td>3.629025e+08</td>\n",
              "      <td>2.209498e+10</td>\n",
              "      <td>31.455000</td>\n",
              "      <td>0.210000</td>\n",
              "      <td>8.895000</td>\n",
              "      <td>24.890000</td>\n",
              "    </tr>\n",
              "    <tr>\n",
              "      <th>max</th>\n",
              "      <td>3195.510000</td>\n",
              "      <td>535.810000</td>\n",
              "      <td>1.572720e+10</td>\n",
              "      <td>3.558168e+11</td>\n",
              "      <td>3223.000000</td>\n",
              "      <td>13.196000</td>\n",
              "      <td>195.280000</td>\n",
              "      <td>2922.410000</td>\n",
              "    </tr>\n",
              "  </tbody>\n",
              "</table>\n",
              "</div>"
            ],
            "text/plain": [
              "              Last     52W Chg  ...     Int Cov   Book Value\n",
              "count   143.000000  143.000000  ...  143.000000   143.000000\n",
              "mean     91.344685    0.054615  ...    9.421608    37.090699\n",
              "std     278.086446   95.200557  ...   22.618562   243.672728\n",
              "min       2.470000 -954.490000  ...  -31.790000   -27.690000\n",
              "25%      22.400000  -10.045000  ...    0.000000     5.010000\n",
              "50%      41.120000   -0.860000  ...    3.840000    10.570000\n",
              "75%      78.650000    9.185000  ...    8.895000    24.890000\n",
              "max    3195.510000  535.810000  ...  195.280000  2922.410000\n",
              "\n",
              "[8 rows x 8 columns]"
            ]
          },
          "metadata": {
            "tags": []
          },
          "execution_count": 67
        }
      ]
    },
    {
      "cell_type": "code",
      "metadata": {
        "id": "I6UtATyYrh9z"
      },
      "source": [
        "conStap_intcov = conStap.loc[(conStap['Int Cov'])>5]"
      ],
      "execution_count": 68,
      "outputs": []
    },
    {
      "cell_type": "code",
      "metadata": {
        "id": "OGCW3IV-r5Pl",
        "outputId": "3673d1dc-bb61-4cb9-fc38-00971def3541",
        "colab": {
          "base_uri": "https://localhost:8080/",
          "height": 34
        }
      },
      "source": [
        "len(conStap_intcov)"
      ],
      "execution_count": 69,
      "outputs": [
        {
          "output_type": "execute_result",
          "data": {
            "text/plain": [
              "65"
            ]
          },
          "metadata": {
            "tags": []
          },
          "execution_count": 69
        }
      ]
    },
    {
      "cell_type": "code",
      "metadata": {
        "id": "CC3WGzXHr7Zt",
        "outputId": "f42416bd-b0d2-4750-8e5e-c5450a5dc466",
        "colab": {
          "base_uri": "https://localhost:8080/",
          "height": 282
        }
      },
      "source": [
        "conStap_intcov.describe()"
      ],
      "execution_count": 70,
      "outputs": [
        {
          "output_type": "execute_result",
          "data": {
            "text/html": [
              "<div>\n",
              "<style scoped>\n",
              "    .dataframe tbody tr th:only-of-type {\n",
              "        vertical-align: middle;\n",
              "    }\n",
              "\n",
              "    .dataframe tbody tr th {\n",
              "        vertical-align: top;\n",
              "    }\n",
              "\n",
              "    .dataframe thead th {\n",
              "        text-align: right;\n",
              "    }\n",
              "</style>\n",
              "<table border=\"1\" class=\"dataframe\">\n",
              "  <thead>\n",
              "    <tr style=\"text-align: right;\">\n",
              "      <th></th>\n",
              "      <th>Last</th>\n",
              "      <th>52W Chg</th>\n",
              "      <th>Shares Out</th>\n",
              "      <th>Market Cap</th>\n",
              "      <th>P/E (ttm)</th>\n",
              "      <th>ROE%</th>\n",
              "      <th>Int Cov</th>\n",
              "      <th>Book Value</th>\n",
              "    </tr>\n",
              "  </thead>\n",
              "  <tbody>\n",
              "    <tr>\n",
              "      <th>count</th>\n",
              "      <td>65.000000</td>\n",
              "      <td>65.000000</td>\n",
              "      <td>6.500000e+01</td>\n",
              "      <td>6.500000e+01</td>\n",
              "      <td>65.000000</td>\n",
              "      <td>65.000000</td>\n",
              "      <td>65.000000</td>\n",
              "      <td>65.000000</td>\n",
              "    </tr>\n",
              "    <tr>\n",
              "      <th>mean</th>\n",
              "      <td>122.229538</td>\n",
              "      <td>-11.318000</td>\n",
              "      <td>4.290403e+08</td>\n",
              "      <td>3.270324e+10</td>\n",
              "      <td>61.406769</td>\n",
              "      <td>0.478231</td>\n",
              "      <td>20.988462</td>\n",
              "      <td>61.349385</td>\n",
              "    </tr>\n",
              "    <tr>\n",
              "      <th>std</th>\n",
              "      <td>391.595625</td>\n",
              "      <td>121.046795</td>\n",
              "      <td>7.368879e+08</td>\n",
              "      <td>6.287253e+10</td>\n",
              "      <td>277.225932</td>\n",
              "      <td>1.762784</td>\n",
              "      <td>29.141479</td>\n",
              "      <td>360.821747</td>\n",
              "    </tr>\n",
              "    <tr>\n",
              "      <th>min</th>\n",
              "      <td>7.230000</td>\n",
              "      <td>-954.490000</td>\n",
              "      <td>1.161000e+06</td>\n",
              "      <td>3.670120e+08</td>\n",
              "      <td>0.000000</td>\n",
              "      <td>-0.802000</td>\n",
              "      <td>5.030000</td>\n",
              "      <td>-6.500000</td>\n",
              "    </tr>\n",
              "    <tr>\n",
              "      <th>25%</th>\n",
              "      <td>32.980000</td>\n",
              "      <td>-9.920000</td>\n",
              "      <td>5.000000e+07</td>\n",
              "      <td>2.230329e+09</td>\n",
              "      <td>12.210000</td>\n",
              "      <td>0.060000</td>\n",
              "      <td>6.460000</td>\n",
              "      <td>5.690000</td>\n",
              "    </tr>\n",
              "    <tr>\n",
              "      <th>50%</th>\n",
              "      <td>61.870000</td>\n",
              "      <td>0.590000</td>\n",
              "      <td>1.577600e+08</td>\n",
              "      <td>5.397295e+09</td>\n",
              "      <td>20.420000</td>\n",
              "      <td>0.152000</td>\n",
              "      <td>10.580000</td>\n",
              "      <td>10.570000</td>\n",
              "    </tr>\n",
              "    <tr>\n",
              "      <th>75%</th>\n",
              "      <td>94.780000</td>\n",
              "      <td>12.400000</td>\n",
              "      <td>4.544870e+08</td>\n",
              "      <td>3.024066e+10</td>\n",
              "      <td>32.040000</td>\n",
              "      <td>0.266000</td>\n",
              "      <td>18.490000</td>\n",
              "      <td>20.860000</td>\n",
              "    </tr>\n",
              "    <tr>\n",
              "      <th>max</th>\n",
              "      <td>3195.510000</td>\n",
              "      <td>107.180000</td>\n",
              "      <td>4.295439e+09</td>\n",
              "      <td>3.558168e+11</td>\n",
              "      <td>2225.020000</td>\n",
              "      <td>13.196000</td>\n",
              "      <td>195.280000</td>\n",
              "      <td>2922.410000</td>\n",
              "    </tr>\n",
              "  </tbody>\n",
              "</table>\n",
              "</div>"
            ],
            "text/plain": [
              "              Last     52W Chg  ...     Int Cov   Book Value\n",
              "count    65.000000   65.000000  ...   65.000000    65.000000\n",
              "mean    122.229538  -11.318000  ...   20.988462    61.349385\n",
              "std     391.595625  121.046795  ...   29.141479   360.821747\n",
              "min       7.230000 -954.490000  ...    5.030000    -6.500000\n",
              "25%      32.980000   -9.920000  ...    6.460000     5.690000\n",
              "50%      61.870000    0.590000  ...   10.580000    10.570000\n",
              "75%      94.780000   12.400000  ...   18.490000    20.860000\n",
              "max    3195.510000  107.180000  ...  195.280000  2922.410000\n",
              "\n",
              "[8 rows x 8 columns]"
            ]
          },
          "metadata": {
            "tags": []
          },
          "execution_count": 70
        }
      ]
    },
    {
      "cell_type": "code",
      "metadata": {
        "id": "ddA5gz-nr-B2"
      },
      "source": [
        "conStap_subpe = conStap_intcov[(conStap_intcov['P/E (ttm)'])<25]"
      ],
      "execution_count": 71,
      "outputs": []
    },
    {
      "cell_type": "code",
      "metadata": {
        "id": "CtWMYFL8sZ36",
        "outputId": "cb1c2d09-de5d-4fcf-b850-f04232e2878e",
        "colab": {
          "base_uri": "https://localhost:8080/",
          "height": 34
        }
      },
      "source": [
        "len(conStap_subpe)"
      ],
      "execution_count": 72,
      "outputs": [
        {
          "output_type": "execute_result",
          "data": {
            "text/plain": [
              "39"
            ]
          },
          "metadata": {
            "tags": []
          },
          "execution_count": 72
        }
      ]
    },
    {
      "cell_type": "code",
      "metadata": {
        "id": "Jo3f0jq6scq7"
      },
      "source": [
        "conStap_subpe.to_csv('Consumer_Staple_Trg.csv', index=False)"
      ],
      "execution_count": 73,
      "outputs": []
    },
    {
      "cell_type": "code",
      "metadata": {
        "id": "CpN2jsRWskS_"
      },
      "source": [
        "industprd = pd.read_csv('Industrial_Prdcts_Screen.csv')"
      ],
      "execution_count": 74,
      "outputs": []
    },
    {
      "cell_type": "code",
      "metadata": {
        "id": "ZKKVJP2Ht3zX",
        "outputId": "3fe49b3d-830e-4fe7-b8f1-05618423b66c",
        "colab": {
          "base_uri": "https://localhost:8080/",
          "height": 282
        }
      },
      "source": [
        "industprd.describe()"
      ],
      "execution_count": 75,
      "outputs": [
        {
          "output_type": "execute_result",
          "data": {
            "text/html": [
              "<div>\n",
              "<style scoped>\n",
              "    .dataframe tbody tr th:only-of-type {\n",
              "        vertical-align: middle;\n",
              "    }\n",
              "\n",
              "    .dataframe tbody tr th {\n",
              "        vertical-align: top;\n",
              "    }\n",
              "\n",
              "    .dataframe thead th {\n",
              "        text-align: right;\n",
              "    }\n",
              "</style>\n",
              "<table border=\"1\" class=\"dataframe\">\n",
              "  <thead>\n",
              "    <tr style=\"text-align: right;\">\n",
              "      <th></th>\n",
              "      <th>Last</th>\n",
              "      <th>52W Chg</th>\n",
              "      <th>Shares Out</th>\n",
              "      <th>Market Cap</th>\n",
              "      <th>P/E (ttm)</th>\n",
              "      <th>ROE%</th>\n",
              "      <th>Int Cov</th>\n",
              "      <th>Book Value</th>\n",
              "    </tr>\n",
              "  </thead>\n",
              "  <tbody>\n",
              "    <tr>\n",
              "      <th>count</th>\n",
              "      <td>130.000000</td>\n",
              "      <td>130.000000</td>\n",
              "      <td>1.300000e+02</td>\n",
              "      <td>1.300000e+02</td>\n",
              "      <td>130.000000</td>\n",
              "      <td>130.000000</td>\n",
              "      <td>130.000000</td>\n",
              "      <td>130.000000</td>\n",
              "    </tr>\n",
              "    <tr>\n",
              "      <th>mean</th>\n",
              "      <td>70.762154</td>\n",
              "      <td>10.291462</td>\n",
              "      <td>1.399280e+08</td>\n",
              "      <td>8.457006e+09</td>\n",
              "      <td>31.847692</td>\n",
              "      <td>0.128146</td>\n",
              "      <td>16.703231</td>\n",
              "      <td>19.953846</td>\n",
              "    </tr>\n",
              "    <tr>\n",
              "      <th>std</th>\n",
              "      <td>71.793374</td>\n",
              "      <td>22.441486</td>\n",
              "      <td>2.613039e+08</td>\n",
              "      <td>1.444879e+10</td>\n",
              "      <td>87.323098</td>\n",
              "      <td>0.284842</td>\n",
              "      <td>95.207628</td>\n",
              "      <td>16.208865</td>\n",
              "    </tr>\n",
              "    <tr>\n",
              "      <th>min</th>\n",
              "      <td>6.490000</td>\n",
              "      <td>-30.060000</td>\n",
              "      <td>7.495000e+06</td>\n",
              "      <td>3.038480e+08</td>\n",
              "      <td>0.000000</td>\n",
              "      <td>-2.408000</td>\n",
              "      <td>-18.940000</td>\n",
              "      <td>-0.850000</td>\n",
              "    </tr>\n",
              "    <tr>\n",
              "      <th>25%</th>\n",
              "      <td>25.232500</td>\n",
              "      <td>-3.250000</td>\n",
              "      <td>2.762800e+07</td>\n",
              "      <td>1.169664e+09</td>\n",
              "      <td>14.045000</td>\n",
              "      <td>0.078250</td>\n",
              "      <td>2.070000</td>\n",
              "      <td>7.915000</td>\n",
              "    </tr>\n",
              "    <tr>\n",
              "      <th>50%</th>\n",
              "      <td>45.260000</td>\n",
              "      <td>3.855000</td>\n",
              "      <td>5.685850e+07</td>\n",
              "      <td>3.132140e+09</td>\n",
              "      <td>19.865000</td>\n",
              "      <td>0.137500</td>\n",
              "      <td>4.415000</td>\n",
              "      <td>17.745000</td>\n",
              "    </tr>\n",
              "    <tr>\n",
              "      <th>75%</th>\n",
              "      <td>94.632500</td>\n",
              "      <td>16.185000</td>\n",
              "      <td>1.401345e+08</td>\n",
              "      <td>7.939341e+09</td>\n",
              "      <td>26.962500</td>\n",
              "      <td>0.206000</td>\n",
              "      <td>10.022500</td>\n",
              "      <td>27.337500</td>\n",
              "    </tr>\n",
              "    <tr>\n",
              "      <th>max</th>\n",
              "      <td>414.390000</td>\n",
              "      <td>101.430000</td>\n",
              "      <td>2.168150e+09</td>\n",
              "      <td>8.606713e+10</td>\n",
              "      <td>861.000000</td>\n",
              "      <td>0.818000</td>\n",
              "      <td>1081.000000</td>\n",
              "      <td>94.630000</td>\n",
              "    </tr>\n",
              "  </tbody>\n",
              "</table>\n",
              "</div>"
            ],
            "text/plain": [
              "             Last     52W Chg  ...      Int Cov  Book Value\n",
              "count  130.000000  130.000000  ...   130.000000  130.000000\n",
              "mean    70.762154   10.291462  ...    16.703231   19.953846\n",
              "std     71.793374   22.441486  ...    95.207628   16.208865\n",
              "min      6.490000  -30.060000  ...   -18.940000   -0.850000\n",
              "25%     25.232500   -3.250000  ...     2.070000    7.915000\n",
              "50%     45.260000    3.855000  ...     4.415000   17.745000\n",
              "75%     94.632500   16.185000  ...    10.022500   27.337500\n",
              "max    414.390000  101.430000  ...  1081.000000   94.630000\n",
              "\n",
              "[8 rows x 8 columns]"
            ]
          },
          "metadata": {
            "tags": []
          },
          "execution_count": 75
        }
      ]
    },
    {
      "cell_type": "code",
      "metadata": {
        "id": "VPqfFmE2t5Ps"
      },
      "source": [
        "indP_intcov = industprd.loc[(industprd['Int Cov'])>5]"
      ],
      "execution_count": 76,
      "outputs": []
    },
    {
      "cell_type": "code",
      "metadata": {
        "id": "ArVBWxwOuM6F",
        "outputId": "8bee140a-7b6d-477a-d7d3-d02380e59389",
        "colab": {
          "base_uri": "https://localhost:8080/",
          "height": 34
        }
      },
      "source": [
        "len(indP_intcov)"
      ],
      "execution_count": 77,
      "outputs": [
        {
          "output_type": "execute_result",
          "data": {
            "text/plain": [
              "60"
            ]
          },
          "metadata": {
            "tags": []
          },
          "execution_count": 77
        }
      ]
    },
    {
      "cell_type": "code",
      "metadata": {
        "id": "aPp5bAcbuOJu",
        "outputId": "d03f6801-99ab-480c-e496-960d601c096b",
        "colab": {
          "base_uri": "https://localhost:8080/",
          "height": 282
        }
      },
      "source": [
        "indP_intcov.describe()"
      ],
      "execution_count": 78,
      "outputs": [
        {
          "output_type": "execute_result",
          "data": {
            "text/html": [
              "<div>\n",
              "<style scoped>\n",
              "    .dataframe tbody tr th:only-of-type {\n",
              "        vertical-align: middle;\n",
              "    }\n",
              "\n",
              "    .dataframe tbody tr th {\n",
              "        vertical-align: top;\n",
              "    }\n",
              "\n",
              "    .dataframe thead th {\n",
              "        text-align: right;\n",
              "    }\n",
              "</style>\n",
              "<table border=\"1\" class=\"dataframe\">\n",
              "  <thead>\n",
              "    <tr style=\"text-align: right;\">\n",
              "      <th></th>\n",
              "      <th>Last</th>\n",
              "      <th>52W Chg</th>\n",
              "      <th>Shares Out</th>\n",
              "      <th>Market Cap</th>\n",
              "      <th>P/E (ttm)</th>\n",
              "      <th>ROE%</th>\n",
              "      <th>Int Cov</th>\n",
              "      <th>Book Value</th>\n",
              "    </tr>\n",
              "  </thead>\n",
              "  <tbody>\n",
              "    <tr>\n",
              "      <th>count</th>\n",
              "      <td>60.000000</td>\n",
              "      <td>60.000000</td>\n",
              "      <td>6.000000e+01</td>\n",
              "      <td>6.000000e+01</td>\n",
              "      <td>60.000000</td>\n",
              "      <td>60.000000</td>\n",
              "      <td>60.000000</td>\n",
              "      <td>60.000000</td>\n",
              "    </tr>\n",
              "    <tr>\n",
              "      <th>mean</th>\n",
              "      <td>97.484000</td>\n",
              "      <td>14.962833</td>\n",
              "      <td>1.392088e+08</td>\n",
              "      <td>1.165802e+10</td>\n",
              "      <td>24.043333</td>\n",
              "      <td>0.193267</td>\n",
              "      <td>35.016000</td>\n",
              "      <td>23.554333</td>\n",
              "    </tr>\n",
              "    <tr>\n",
              "      <th>std</th>\n",
              "      <td>86.011189</td>\n",
              "      <td>27.007508</td>\n",
              "      <td>2.966105e+08</td>\n",
              "      <td>1.721686e+10</td>\n",
              "      <td>8.085795</td>\n",
              "      <td>0.130281</td>\n",
              "      <td>138.446391</td>\n",
              "      <td>16.272630</td>\n",
              "    </tr>\n",
              "    <tr>\n",
              "      <th>min</th>\n",
              "      <td>14.490000</td>\n",
              "      <td>-30.060000</td>\n",
              "      <td>7.495000e+06</td>\n",
              "      <td>3.038480e+08</td>\n",
              "      <td>13.260000</td>\n",
              "      <td>0.042000</td>\n",
              "      <td>5.030000</td>\n",
              "      <td>-0.850000</td>\n",
              "    </tr>\n",
              "    <tr>\n",
              "      <th>25%</th>\n",
              "      <td>41.410000</td>\n",
              "      <td>-1.705000</td>\n",
              "      <td>3.034475e+07</td>\n",
              "      <td>1.673098e+09</td>\n",
              "      <td>17.965000</td>\n",
              "      <td>0.111500</td>\n",
              "      <td>7.542500</td>\n",
              "      <td>11.505000</td>\n",
              "    </tr>\n",
              "    <tr>\n",
              "      <th>50%</th>\n",
              "      <td>67.850000</td>\n",
              "      <td>7.825000</td>\n",
              "      <td>5.550450e+07</td>\n",
              "      <td>5.644980e+09</td>\n",
              "      <td>21.685000</td>\n",
              "      <td>0.158500</td>\n",
              "      <td>10.835000</td>\n",
              "      <td>20.500000</td>\n",
              "    </tr>\n",
              "    <tr>\n",
              "      <th>75%</th>\n",
              "      <td>114.012500</td>\n",
              "      <td>23.725000</td>\n",
              "      <td>1.301720e+08</td>\n",
              "      <td>1.228981e+10</td>\n",
              "      <td>29.732500</td>\n",
              "      <td>0.219750</td>\n",
              "      <td>16.905000</td>\n",
              "      <td>33.887500</td>\n",
              "    </tr>\n",
              "    <tr>\n",
              "      <th>max</th>\n",
              "      <td>414.390000</td>\n",
              "      <td>101.430000</td>\n",
              "      <td>2.168150e+09</td>\n",
              "      <td>8.606713e+10</td>\n",
              "      <td>46.630000</td>\n",
              "      <td>0.818000</td>\n",
              "      <td>1081.000000</td>\n",
              "      <td>94.630000</td>\n",
              "    </tr>\n",
              "  </tbody>\n",
              "</table>\n",
              "</div>"
            ],
            "text/plain": [
              "             Last     52W Chg    Shares Out  ...       ROE%      Int Cov  Book Value\n",
              "count   60.000000   60.000000  6.000000e+01  ...  60.000000    60.000000   60.000000\n",
              "mean    97.484000   14.962833  1.392088e+08  ...   0.193267    35.016000   23.554333\n",
              "std     86.011189   27.007508  2.966105e+08  ...   0.130281   138.446391   16.272630\n",
              "min     14.490000  -30.060000  7.495000e+06  ...   0.042000     5.030000   -0.850000\n",
              "25%     41.410000   -1.705000  3.034475e+07  ...   0.111500     7.542500   11.505000\n",
              "50%     67.850000    7.825000  5.550450e+07  ...   0.158500    10.835000   20.500000\n",
              "75%    114.012500   23.725000  1.301720e+08  ...   0.219750    16.905000   33.887500\n",
              "max    414.390000  101.430000  2.168150e+09  ...   0.818000  1081.000000   94.630000\n",
              "\n",
              "[8 rows x 8 columns]"
            ]
          },
          "metadata": {
            "tags": []
          },
          "execution_count": 78
        }
      ]
    },
    {
      "cell_type": "code",
      "metadata": {
        "id": "D-5yGALSuQZf"
      },
      "source": [
        "indP_subpe = indP_intcov.loc[(indP_intcov['P/E (ttm)'])<25]"
      ],
      "execution_count": 79,
      "outputs": []
    },
    {
      "cell_type": "code",
      "metadata": {
        "id": "mNXir4KHuhWk",
        "outputId": "e271f816-f397-4583-9979-7a7b42af304b",
        "colab": {
          "base_uri": "https://localhost:8080/",
          "height": 34
        }
      },
      "source": [
        "len(indP_subpe)"
      ],
      "execution_count": 80,
      "outputs": [
        {
          "output_type": "execute_result",
          "data": {
            "text/plain": [
              "40"
            ]
          },
          "metadata": {
            "tags": []
          },
          "execution_count": 80
        }
      ]
    },
    {
      "cell_type": "code",
      "metadata": {
        "id": "s5bJ4Knvui8O"
      },
      "source": [
        "indP_subpe.to_csv('Industrial_Prcts_Trg.csv', index=False)"
      ],
      "execution_count": 81,
      "outputs": []
    },
    {
      "cell_type": "code",
      "metadata": {
        "id": "XhjsH--0uqPK"
      },
      "source": [
        "retwhole = pd.read_csv('Retail_Wholesale_Screen.csv')"
      ],
      "execution_count": 82,
      "outputs": []
    },
    {
      "cell_type": "code",
      "metadata": {
        "id": "xv0o_gFBvUxd",
        "outputId": "ad4870bc-bd2d-4492-a6d5-e1f1457d7731",
        "colab": {
          "base_uri": "https://localhost:8080/",
          "height": 282
        }
      },
      "source": [
        "retwhole.describe()"
      ],
      "execution_count": 83,
      "outputs": [
        {
          "output_type": "execute_result",
          "data": {
            "text/html": [
              "<div>\n",
              "<style scoped>\n",
              "    .dataframe tbody tr th:only-of-type {\n",
              "        vertical-align: middle;\n",
              "    }\n",
              "\n",
              "    .dataframe tbody tr th {\n",
              "        vertical-align: top;\n",
              "    }\n",
              "\n",
              "    .dataframe thead th {\n",
              "        text-align: right;\n",
              "    }\n",
              "</style>\n",
              "<table border=\"1\" class=\"dataframe\">\n",
              "  <thead>\n",
              "    <tr style=\"text-align: right;\">\n",
              "      <th></th>\n",
              "      <th>Last</th>\n",
              "      <th>52W Chg</th>\n",
              "      <th>Shares Out</th>\n",
              "      <th>Market Cap</th>\n",
              "      <th>P/E (ttm)</th>\n",
              "      <th>ROE%</th>\n",
              "      <th>Int Cov</th>\n",
              "      <th>Book Value</th>\n",
              "    </tr>\n",
              "  </thead>\n",
              "  <tbody>\n",
              "    <tr>\n",
              "      <th>count</th>\n",
              "      <td>159.000000</td>\n",
              "      <td>159.00000</td>\n",
              "      <td>1.590000e+02</td>\n",
              "      <td>1.590000e+02</td>\n",
              "      <td>159.000000</td>\n",
              "      <td>158.000000</td>\n",
              "      <td>159.000000</td>\n",
              "      <td>159.000000</td>\n",
              "    </tr>\n",
              "    <tr>\n",
              "      <th>mean</th>\n",
              "      <td>127.409937</td>\n",
              "      <td>31.69717</td>\n",
              "      <td>2.004770e+08</td>\n",
              "      <td>3.283460e+10</td>\n",
              "      <td>24.599119</td>\n",
              "      <td>0.081620</td>\n",
              "      <td>8.620629</td>\n",
              "      <td>14.324340</td>\n",
              "    </tr>\n",
              "    <tr>\n",
              "      <th>std</th>\n",
              "      <td>337.623417</td>\n",
              "      <td>143.41313</td>\n",
              "      <td>3.939787e+08</td>\n",
              "      <td>1.510582e+11</td>\n",
              "      <td>31.530075</td>\n",
              "      <td>1.229767</td>\n",
              "      <td>57.880617</td>\n",
              "      <td>23.231107</td>\n",
              "    </tr>\n",
              "    <tr>\n",
              "      <th>min</th>\n",
              "      <td>1.700000</td>\n",
              "      <td>-125.44000</td>\n",
              "      <td>2.274000e+06</td>\n",
              "      <td>3.252200e+08</td>\n",
              "      <td>0.000000</td>\n",
              "      <td>-5.839000</td>\n",
              "      <td>-394.710000</td>\n",
              "      <td>-83.430000</td>\n",
              "    </tr>\n",
              "    <tr>\n",
              "      <th>25%</th>\n",
              "      <td>21.475000</td>\n",
              "      <td>-2.65000</td>\n",
              "      <td>3.030800e+07</td>\n",
              "      <td>8.945995e+08</td>\n",
              "      <td>0.000000</td>\n",
              "      <td>-0.069000</td>\n",
              "      <td>0.000000</td>\n",
              "      <td>3.815000</td>\n",
              "    </tr>\n",
              "    <tr>\n",
              "      <th>50%</th>\n",
              "      <td>39.250000</td>\n",
              "      <td>5.13000</td>\n",
              "      <td>6.616400e+07</td>\n",
              "      <td>2.738563e+09</td>\n",
              "      <td>16.930000</td>\n",
              "      <td>0.091000</td>\n",
              "      <td>3.880000</td>\n",
              "      <td>10.910000</td>\n",
              "    </tr>\n",
              "    <tr>\n",
              "      <th>75%</th>\n",
              "      <td>97.030000</td>\n",
              "      <td>19.09000</td>\n",
              "      <td>1.609310e+08</td>\n",
              "      <td>1.014751e+10</td>\n",
              "      <td>29.750000</td>\n",
              "      <td>0.182250</td>\n",
              "      <td>10.020000</td>\n",
              "      <td>22.910000</td>\n",
              "    </tr>\n",
              "    <tr>\n",
              "      <th>max</th>\n",
              "      <td>3286.650000</td>\n",
              "      <td>1564.66000</td>\n",
              "      <td>2.833753e+09</td>\n",
              "      <td>1.646250e+12</td>\n",
              "      <td>234.700000</td>\n",
              "      <td>12.017000</td>\n",
              "      <td>440.300000</td>\n",
              "      <td>147.190000</td>\n",
              "    </tr>\n",
              "  </tbody>\n",
              "</table>\n",
              "</div>"
            ],
            "text/plain": [
              "              Last     52W Chg  ...     Int Cov  Book Value\n",
              "count   159.000000   159.00000  ...  159.000000  159.000000\n",
              "mean    127.409937    31.69717  ...    8.620629   14.324340\n",
              "std     337.623417   143.41313  ...   57.880617   23.231107\n",
              "min       1.700000  -125.44000  ... -394.710000  -83.430000\n",
              "25%      21.475000    -2.65000  ...    0.000000    3.815000\n",
              "50%      39.250000     5.13000  ...    3.880000   10.910000\n",
              "75%      97.030000    19.09000  ...   10.020000   22.910000\n",
              "max    3286.650000  1564.66000  ...  440.300000  147.190000\n",
              "\n",
              "[8 rows x 8 columns]"
            ]
          },
          "metadata": {
            "tags": []
          },
          "execution_count": 83
        }
      ]
    },
    {
      "cell_type": "code",
      "metadata": {
        "id": "i50b3Sh-vW5m"
      },
      "source": [
        "retW_intcov = retwhole.loc[(retwhole['Int Cov'])>5]"
      ],
      "execution_count": 84,
      "outputs": []
    },
    {
      "cell_type": "code",
      "metadata": {
        "id": "F21twjfZvo8d",
        "outputId": "35cd1952-51a7-4774-c403-ce7432b26959",
        "colab": {
          "base_uri": "https://localhost:8080/",
          "height": 34
        }
      },
      "source": [
        "len(retW_intcov)"
      ],
      "execution_count": 85,
      "outputs": [
        {
          "output_type": "execute_result",
          "data": {
            "text/plain": [
              "66"
            ]
          },
          "metadata": {
            "tags": []
          },
          "execution_count": 85
        }
      ]
    },
    {
      "cell_type": "code",
      "metadata": {
        "id": "UG9Y-45gvrbu",
        "outputId": "484eedc9-ca46-43f6-e508-79b3a7979eea",
        "colab": {
          "base_uri": "https://localhost:8080/",
          "height": 282
        }
      },
      "source": [
        "retW_intcov.describe()"
      ],
      "execution_count": 86,
      "outputs": [
        {
          "output_type": "execute_result",
          "data": {
            "text/html": [
              "<div>\n",
              "<style scoped>\n",
              "    .dataframe tbody tr th:only-of-type {\n",
              "        vertical-align: middle;\n",
              "    }\n",
              "\n",
              "    .dataframe tbody tr th {\n",
              "        vertical-align: top;\n",
              "    }\n",
              "\n",
              "    .dataframe thead th {\n",
              "        text-align: right;\n",
              "    }\n",
              "</style>\n",
              "<table border=\"1\" class=\"dataframe\">\n",
              "  <thead>\n",
              "    <tr style=\"text-align: right;\">\n",
              "      <th></th>\n",
              "      <th>Last</th>\n",
              "      <th>52W Chg</th>\n",
              "      <th>Shares Out</th>\n",
              "      <th>Market Cap</th>\n",
              "      <th>P/E (ttm)</th>\n",
              "      <th>ROE%</th>\n",
              "      <th>Int Cov</th>\n",
              "      <th>Book Value</th>\n",
              "    </tr>\n",
              "  </thead>\n",
              "  <tbody>\n",
              "    <tr>\n",
              "      <th>count</th>\n",
              "      <td>66.000000</td>\n",
              "      <td>66.000000</td>\n",
              "      <td>6.600000e+01</td>\n",
              "      <td>6.600000e+01</td>\n",
              "      <td>66.000000</td>\n",
              "      <td>66.000000</td>\n",
              "      <td>66.000000</td>\n",
              "      <td>66.000000</td>\n",
              "    </tr>\n",
              "    <tr>\n",
              "      <th>mean</th>\n",
              "      <td>181.006364</td>\n",
              "      <td>36.794848</td>\n",
              "      <td>2.940094e+08</td>\n",
              "      <td>6.833103e+10</td>\n",
              "      <td>28.558939</td>\n",
              "      <td>0.041682</td>\n",
              "      <td>32.292727</td>\n",
              "      <td>19.624848</td>\n",
              "    </tr>\n",
              "    <tr>\n",
              "      <th>std</th>\n",
              "      <td>469.091198</td>\n",
              "      <td>195.341927</td>\n",
              "      <td>5.476125e+08</td>\n",
              "      <td>2.301280e+11</td>\n",
              "      <td>27.151601</td>\n",
              "      <td>1.087643</td>\n",
              "      <td>65.237431</td>\n",
              "      <td>24.762599</td>\n",
              "    </tr>\n",
              "    <tr>\n",
              "      <th>min</th>\n",
              "      <td>6.140000</td>\n",
              "      <td>-125.440000</td>\n",
              "      <td>3.731000e+06</td>\n",
              "      <td>3.252200e+08</td>\n",
              "      <td>0.000000</td>\n",
              "      <td>-5.839000</td>\n",
              "      <td>5.230000</td>\n",
              "      <td>-37.600000</td>\n",
              "    </tr>\n",
              "    <tr>\n",
              "      <th>25%</th>\n",
              "      <td>25.370000</td>\n",
              "      <td>-3.777500</td>\n",
              "      <td>3.496000e+07</td>\n",
              "      <td>9.221470e+08</td>\n",
              "      <td>11.462500</td>\n",
              "      <td>-0.013000</td>\n",
              "      <td>8.265000</td>\n",
              "      <td>5.827500</td>\n",
              "    </tr>\n",
              "    <tr>\n",
              "      <th>50%</th>\n",
              "      <td>58.430000</td>\n",
              "      <td>4.680000</td>\n",
              "      <td>6.814000e+07</td>\n",
              "      <td>3.945014e+09</td>\n",
              "      <td>22.785000</td>\n",
              "      <td>0.109000</td>\n",
              "      <td>13.520000</td>\n",
              "      <td>14.090000</td>\n",
              "    </tr>\n",
              "    <tr>\n",
              "      <th>75%</th>\n",
              "      <td>148.142500</td>\n",
              "      <td>24.525000</td>\n",
              "      <td>2.563825e+08</td>\n",
              "      <td>2.931996e+10</td>\n",
              "      <td>35.342500</td>\n",
              "      <td>0.192000</td>\n",
              "      <td>28.677500</td>\n",
              "      <td>28.695000</td>\n",
              "    </tr>\n",
              "    <tr>\n",
              "      <th>max</th>\n",
              "      <td>3286.650000</td>\n",
              "      <td>1564.660000</td>\n",
              "      <td>2.833753e+09</td>\n",
              "      <td>1.646250e+12</td>\n",
              "      <td>122.670000</td>\n",
              "      <td>4.909000</td>\n",
              "      <td>440.300000</td>\n",
              "      <td>147.190000</td>\n",
              "    </tr>\n",
              "  </tbody>\n",
              "</table>\n",
              "</div>"
            ],
            "text/plain": [
              "              Last      52W Chg  ...     Int Cov  Book Value\n",
              "count    66.000000    66.000000  ...   66.000000   66.000000\n",
              "mean    181.006364    36.794848  ...   32.292727   19.624848\n",
              "std     469.091198   195.341927  ...   65.237431   24.762599\n",
              "min       6.140000  -125.440000  ...    5.230000  -37.600000\n",
              "25%      25.370000    -3.777500  ...    8.265000    5.827500\n",
              "50%      58.430000     4.680000  ...   13.520000   14.090000\n",
              "75%     148.142500    24.525000  ...   28.677500   28.695000\n",
              "max    3286.650000  1564.660000  ...  440.300000  147.190000\n",
              "\n",
              "[8 rows x 8 columns]"
            ]
          },
          "metadata": {
            "tags": []
          },
          "execution_count": 86
        }
      ]
    },
    {
      "cell_type": "code",
      "metadata": {
        "id": "kft94jg8vtLP"
      },
      "source": [
        "retW_subpe = retW_intcov.loc[(retW_intcov['P/E (ttm)'])<25]"
      ],
      "execution_count": 87,
      "outputs": []
    },
    {
      "cell_type": "code",
      "metadata": {
        "id": "p63ChQAwwAT_",
        "outputId": "88037813-4eb8-4236-b131-fb924317552a",
        "colab": {
          "base_uri": "https://localhost:8080/",
          "height": 34
        }
      },
      "source": [
        "len(retW_subpe)"
      ],
      "execution_count": 88,
      "outputs": [
        {
          "output_type": "execute_result",
          "data": {
            "text/plain": [
              "38"
            ]
          },
          "metadata": {
            "tags": []
          },
          "execution_count": 88
        }
      ]
    },
    {
      "cell_type": "code",
      "metadata": {
        "id": "G4N0LToDwCYI"
      },
      "source": [
        "retW_subpe.to_csv('Retail_Wholesale_Trg.csv', index=False)"
      ],
      "execution_count": 89,
      "outputs": []
    },
    {
      "cell_type": "code",
      "metadata": {
        "id": "lfGiLQETwIkr"
      },
      "source": [
        ""
      ],
      "execution_count": null,
      "outputs": []
    }
  ]
}