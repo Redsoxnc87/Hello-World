{
  "nbformat": 4,
  "nbformat_minor": 0,
  "metadata": {
    "colab": {
      "name": "Overbought_Longterm_Buys.ipynb",
      "provenance": [],
      "collapsed_sections": [],
      "authorship_tag": "ABX9TyMm7eIpD6ZVTXuMUvsk1Z8o",
      "include_colab_link": true
    },
    "kernelspec": {
      "name": "python3",
      "display_name": "Python 3"
    }
  },
  "cells": [
    {
      "cell_type": "markdown",
      "metadata": {
        "id": "view-in-github",
        "colab_type": "text"
      },
      "source": [
        "<a href=\"https://colab.research.google.com/github/Redsoxnc87/Hello-World/blob/master/Overbought_Longterm_Buys.ipynb\" target=\"_parent\"><img src=\"https://colab.research.google.com/assets/colab-badge.svg\" alt=\"Open In Colab\"/></a>"
      ]
    },
    {
      "cell_type": "code",
      "metadata": {
        "id": "M2NdrKEHYNhv",
        "colab_type": "code",
        "colab": {}
      },
      "source": [
        "import pandas as pd \n",
        "import math \n",
        "import numpy as np"
      ],
      "execution_count": 1,
      "outputs": []
    },
    {
      "cell_type": "code",
      "metadata": {
        "id": "UvRl96diYZlP",
        "colab_type": "code",
        "colab": {}
      },
      "source": [
        "from pandas import Series, DataFrame\n",
        "from numpy import random, array\n",
        "from math import sqrt, exp, pi, pow"
      ],
      "execution_count": 2,
      "outputs": []
    },
    {
      "cell_type": "code",
      "metadata": {
        "id": "EYCTn8RCYxYe",
        "colab_type": "code",
        "colab": {}
      },
      "source": [
        "import operator\n",
        "import requests\n",
        "import pandas.plotting\n",
        "import matplotlib.pyplot as plt\n",
        "%matplotlib inline"
      ],
      "execution_count": 3,
      "outputs": []
    },
    {
      "cell_type": "code",
      "metadata": {
        "id": "76YbDvNqY54p",
        "colab_type": "code",
        "colab": {
          "base_uri": "https://localhost:8080/",
          "height": 71
        },
        "outputId": "41e5768a-6788-43d0-f2d0-d5fa283ef8b5"
      },
      "source": [
        "import seaborn as sns"
      ],
      "execution_count": 4,
      "outputs": [
        {
          "output_type": "stream",
          "text": [
            "/usr/local/lib/python3.6/dist-packages/statsmodels/tools/_testing.py:19: FutureWarning: pandas.util.testing is deprecated. Use the functions in the public API at pandas.testing instead.\n",
            "  import pandas.util.testing as tm\n"
          ],
          "name": "stderr"
        }
      ]
    },
    {
      "cell_type": "code",
      "metadata": {
        "id": "JpYmHpZwZIGf",
        "colab_type": "code",
        "colab": {}
      },
      "source": [
        "scrn = pd.read_csv('Market_Min_Screening.csv')"
      ],
      "execution_count": 5,
      "outputs": []
    },
    {
      "cell_type": "code",
      "metadata": {
        "id": "QsZh1GpZZUwe",
        "colab_type": "code",
        "colab": {
          "base_uri": "https://localhost:8080/",
          "height": 319
        },
        "outputId": "6b0f53a6-ca27-43bc-d6b7-fab9100fc34f"
      },
      "source": [
        "scrn.describe()"
      ],
      "execution_count": 6,
      "outputs": [
        {
          "output_type": "execute_result",
          "data": {
            "text/html": [
              "<div>\n",
              "<style scoped>\n",
              "    .dataframe tbody tr th:only-of-type {\n",
              "        vertical-align: middle;\n",
              "    }\n",
              "\n",
              "    .dataframe tbody tr th {\n",
              "        vertical-align: top;\n",
              "    }\n",
              "\n",
              "    .dataframe thead th {\n",
              "        text-align: right;\n",
              "    }\n",
              "</style>\n",
              "<table border=\"1\" class=\"dataframe\">\n",
              "  <thead>\n",
              "    <tr style=\"text-align: right;\">\n",
              "      <th></th>\n",
              "      <th>Last</th>\n",
              "      <th>1Y %Chg</th>\n",
              "      <th>5Y Rev%</th>\n",
              "      <th>Debt/Equity</th>\n",
              "      <th>Profit%</th>\n",
              "      <th>P/E (ttm)</th>\n",
              "      <th>Net Income(a)</th>\n",
              "      <th>Sales(a)</th>\n",
              "      <th>Shares Out</th>\n",
              "      <th>Market Cap</th>\n",
              "      <th>14D Rel Str</th>\n",
              "      <th>52W Chg</th>\n",
              "      <th>3M Chg</th>\n",
              "      <th>1M Chg</th>\n",
              "      <th>Change</th>\n",
              "    </tr>\n",
              "  </thead>\n",
              "  <tbody>\n",
              "    <tr>\n",
              "      <th>count</th>\n",
              "      <td>313.000000</td>\n",
              "      <td>313.000000</td>\n",
              "      <td>313.000000</td>\n",
              "      <td>313.000000</td>\n",
              "      <td>313.000000</td>\n",
              "      <td>313.000000</td>\n",
              "      <td>3.130000e+02</td>\n",
              "      <td>3.130000e+02</td>\n",
              "      <td>3.130000e+02</td>\n",
              "      <td>3.130000e+02</td>\n",
              "      <td>313.000000</td>\n",
              "      <td>313.000000</td>\n",
              "      <td>313.000000</td>\n",
              "      <td>313.000000</td>\n",
              "      <td>313.000000</td>\n",
              "    </tr>\n",
              "    <tr>\n",
              "      <th>mean</th>\n",
              "      <td>92.449329</td>\n",
              "      <td>0.132348</td>\n",
              "      <td>1.137195</td>\n",
              "      <td>0.657444</td>\n",
              "      <td>12.619665</td>\n",
              "      <td>23.807668</td>\n",
              "      <td>5.737488e+08</td>\n",
              "      <td>5.535576e+09</td>\n",
              "      <td>2.327548e+08</td>\n",
              "      <td>1.369688e+10</td>\n",
              "      <td>0.467460</td>\n",
              "      <td>10.759425</td>\n",
              "      <td>8.685783</td>\n",
              "      <td>-2.114952</td>\n",
              "      <td>0.987412</td>\n",
              "    </tr>\n",
              "    <tr>\n",
              "      <th>std</th>\n",
              "      <td>236.882830</td>\n",
              "      <td>0.082979</td>\n",
              "      <td>7.205293</td>\n",
              "      <td>0.607339</td>\n",
              "      <td>11.040519</td>\n",
              "      <td>10.223294</td>\n",
              "      <td>9.709883e+08</td>\n",
              "      <td>8.550758e+09</td>\n",
              "      <td>5.047880e+08</td>\n",
              "      <td>1.798954e+10</td>\n",
              "      <td>0.091841</td>\n",
              "      <td>26.157720</td>\n",
              "      <td>44.509316</td>\n",
              "      <td>12.093039</td>\n",
              "      <td>6.560625</td>\n",
              "    </tr>\n",
              "    <tr>\n",
              "      <th>min</th>\n",
              "      <td>2.510000</td>\n",
              "      <td>0.011000</td>\n",
              "      <td>-0.819000</td>\n",
              "      <td>0.000000</td>\n",
              "      <td>1.006000</td>\n",
              "      <td>1.630000</td>\n",
              "      <td>1.740000e+06</td>\n",
              "      <td>4.069000e+07</td>\n",
              "      <td>3.702000e+06</td>\n",
              "      <td>3.134200e+08</td>\n",
              "      <td>0.215000</td>\n",
              "      <td>0.110000</td>\n",
              "      <td>-20.050000</td>\n",
              "      <td>-179.240000</td>\n",
              "      <td>-7.390000</td>\n",
              "    </tr>\n",
              "    <tr>\n",
              "      <th>25%</th>\n",
              "      <td>32.860000</td>\n",
              "      <td>0.060000</td>\n",
              "      <td>0.068000</td>\n",
              "      <td>0.170000</td>\n",
              "      <td>5.527000</td>\n",
              "      <td>16.480000</td>\n",
              "      <td>8.093000e+07</td>\n",
              "      <td>9.630100e+08</td>\n",
              "      <td>4.143800e+07</td>\n",
              "      <td>1.850449e+09</td>\n",
              "      <td>0.408000</td>\n",
              "      <td>1.970000</td>\n",
              "      <td>0.240000</td>\n",
              "      <td>-4.210000</td>\n",
              "      <td>-0.020000</td>\n",
              "    </tr>\n",
              "    <tr>\n",
              "      <th>50%</th>\n",
              "      <td>56.990000</td>\n",
              "      <td>0.121000</td>\n",
              "      <td>0.322000</td>\n",
              "      <td>0.550000</td>\n",
              "      <td>9.476000</td>\n",
              "      <td>22.310000</td>\n",
              "      <td>2.534300e+08</td>\n",
              "      <td>2.957010e+09</td>\n",
              "      <td>9.105000e+07</td>\n",
              "      <td>5.126753e+09</td>\n",
              "      <td>0.457000</td>\n",
              "      <td>5.340000</td>\n",
              "      <td>3.970000</td>\n",
              "      <td>-1.110000</td>\n",
              "      <td>0.470000</td>\n",
              "    </tr>\n",
              "    <tr>\n",
              "      <th>75%</th>\n",
              "      <td>102.450000</td>\n",
              "      <td>0.203000</td>\n",
              "      <td>0.754000</td>\n",
              "      <td>0.920000</td>\n",
              "      <td>15.090000</td>\n",
              "      <td>29.470000</td>\n",
              "      <td>6.901000e+08</td>\n",
              "      <td>6.782520e+09</td>\n",
              "      <td>2.359770e+08</td>\n",
              "      <td>1.829858e+10</td>\n",
              "      <td>0.529000</td>\n",
              "      <td>11.470000</td>\n",
              "      <td>10.500000</td>\n",
              "      <td>1.060000</td>\n",
              "      <td>1.130000</td>\n",
              "    </tr>\n",
              "    <tr>\n",
              "      <th>max</th>\n",
              "      <td>4044.520000</td>\n",
              "      <td>0.299000</td>\n",
              "      <td>118.881000</td>\n",
              "      <td>2.840000</td>\n",
              "      <td>61.015000</td>\n",
              "      <td>49.670000</td>\n",
              "      <td>9.042000e+09</td>\n",
              "      <td>7.463900e+10</td>\n",
              "      <td>5.692082e+09</td>\n",
              "      <td>8.923523e+10</td>\n",
              "      <td>0.762000</td>\n",
              "      <td>409.270000</td>\n",
              "      <td>766.410000</td>\n",
              "      <td>37.650000</td>\n",
              "      <td>113.230000</td>\n",
              "    </tr>\n",
              "  </tbody>\n",
              "</table>\n",
              "</div>"
            ],
            "text/plain": [
              "              Last     1Y %Chg     5Y Rev%  ...      3M Chg      1M Chg      Change\n",
              "count   313.000000  313.000000  313.000000  ...  313.000000  313.000000  313.000000\n",
              "mean     92.449329    0.132348    1.137195  ...    8.685783   -2.114952    0.987412\n",
              "std     236.882830    0.082979    7.205293  ...   44.509316   12.093039    6.560625\n",
              "min       2.510000    0.011000   -0.819000  ...  -20.050000 -179.240000   -7.390000\n",
              "25%      32.860000    0.060000    0.068000  ...    0.240000   -4.210000   -0.020000\n",
              "50%      56.990000    0.121000    0.322000  ...    3.970000   -1.110000    0.470000\n",
              "75%     102.450000    0.203000    0.754000  ...   10.500000    1.060000    1.130000\n",
              "max    4044.520000    0.299000  118.881000  ...  766.410000   37.650000  113.230000\n",
              "\n",
              "[8 rows x 15 columns]"
            ]
          },
          "metadata": {
            "tags": []
          },
          "execution_count": 6
        }
      ]
    },
    {
      "cell_type": "code",
      "metadata": {
        "id": "3aqkWt3NZXsu",
        "colab_type": "code",
        "colab": {}
      },
      "source": [
        "L = list(range(0,313))"
      ],
      "execution_count": 7,
      "outputs": []
    },
    {
      "cell_type": "code",
      "metadata": {
        "id": "CJXUZ-z0Zb2Y",
        "colab_type": "code",
        "colab": {}
      },
      "source": [
        "Prof_Prct = scrn.loc[(scrn['Profit%'])>=10]"
      ],
      "execution_count": 8,
      "outputs": []
    },
    {
      "cell_type": "code",
      "metadata": {
        "id": "lgiC9_Bfa_kD",
        "colab_type": "code",
        "colab": {
          "base_uri": "https://localhost:8080/",
          "height": 34
        },
        "outputId": "ea468efd-694b-4ff3-9ac8-dd598a9d34d7"
      },
      "source": [
        "len(Prof_Prct)"
      ],
      "execution_count": 9,
      "outputs": [
        {
          "output_type": "execute_result",
          "data": {
            "text/plain": [
              "146"
            ]
          },
          "metadata": {
            "tags": []
          },
          "execution_count": 9
        }
      ]
    },
    {
      "cell_type": "code",
      "metadata": {
        "id": "TPQy2YRQbA8G",
        "colab_type": "code",
        "colab": {}
      },
      "source": [
        "OvBought = Prof_Prct.loc[(Prof_Prct['14D Rel Str'])<=0.50]"
      ],
      "execution_count": 10,
      "outputs": []
    },
    {
      "cell_type": "code",
      "metadata": {
        "id": "Wu_Ul_Wdbyfi",
        "colab_type": "code",
        "colab": {
          "base_uri": "https://localhost:8080/",
          "height": 34
        },
        "outputId": "27f7e39c-21ad-4360-86f9-9eb762fd7a10"
      },
      "source": [
        "len(OvBought)"
      ],
      "execution_count": 11,
      "outputs": [
        {
          "output_type": "execute_result",
          "data": {
            "text/plain": [
              "93"
            ]
          },
          "metadata": {
            "tags": []
          },
          "execution_count": 11
        }
      ]
    },
    {
      "cell_type": "code",
      "metadata": {
        "id": "svy2snAYb0Oy",
        "colab_type": "code",
        "colab": {
          "base_uri": "https://localhost:8080/",
          "height": 319
        },
        "outputId": "2d3b8df6-d88e-4bc0-8bf7-85229867c545"
      },
      "source": [
        "OvBought.describe()"
      ],
      "execution_count": 12,
      "outputs": [
        {
          "output_type": "execute_result",
          "data": {
            "text/html": [
              "<div>\n",
              "<style scoped>\n",
              "    .dataframe tbody tr th:only-of-type {\n",
              "        vertical-align: middle;\n",
              "    }\n",
              "\n",
              "    .dataframe tbody tr th {\n",
              "        vertical-align: top;\n",
              "    }\n",
              "\n",
              "    .dataframe thead th {\n",
              "        text-align: right;\n",
              "    }\n",
              "</style>\n",
              "<table border=\"1\" class=\"dataframe\">\n",
              "  <thead>\n",
              "    <tr style=\"text-align: right;\">\n",
              "      <th></th>\n",
              "      <th>Last</th>\n",
              "      <th>1Y %Chg</th>\n",
              "      <th>5Y Rev%</th>\n",
              "      <th>Debt/Equity</th>\n",
              "      <th>Profit%</th>\n",
              "      <th>P/E (ttm)</th>\n",
              "      <th>Net Income(a)</th>\n",
              "      <th>Sales(a)</th>\n",
              "      <th>Shares Out</th>\n",
              "      <th>Market Cap</th>\n",
              "      <th>14D Rel Str</th>\n",
              "      <th>52W Chg</th>\n",
              "      <th>3M Chg</th>\n",
              "      <th>1M Chg</th>\n",
              "      <th>Change</th>\n",
              "    </tr>\n",
              "  </thead>\n",
              "  <tbody>\n",
              "    <tr>\n",
              "      <th>count</th>\n",
              "      <td>93.000000</td>\n",
              "      <td>93.000000</td>\n",
              "      <td>93.000000</td>\n",
              "      <td>93.000000</td>\n",
              "      <td>93.000000</td>\n",
              "      <td>93.000000</td>\n",
              "      <td>9.300000e+01</td>\n",
              "      <td>9.300000e+01</td>\n",
              "      <td>9.300000e+01</td>\n",
              "      <td>9.300000e+01</td>\n",
              "      <td>93.000000</td>\n",
              "      <td>93.000000</td>\n",
              "      <td>93.000000</td>\n",
              "      <td>93.000000</td>\n",
              "      <td>93.000000</td>\n",
              "    </tr>\n",
              "    <tr>\n",
              "      <th>mean</th>\n",
              "      <td>96.976452</td>\n",
              "      <td>0.124978</td>\n",
              "      <td>0.826097</td>\n",
              "      <td>0.622796</td>\n",
              "      <td>20.974731</td>\n",
              "      <td>26.186237</td>\n",
              "      <td>7.955271e+08</td>\n",
              "      <td>4.427140e+09</td>\n",
              "      <td>2.580297e+08</td>\n",
              "      <td>1.897021e+10</td>\n",
              "      <td>0.421452</td>\n",
              "      <td>10.819677</td>\n",
              "      <td>2.889140</td>\n",
              "      <td>-4.601398</td>\n",
              "      <td>0.636559</td>\n",
              "    </tr>\n",
              "    <tr>\n",
              "      <th>std</th>\n",
              "      <td>87.579428</td>\n",
              "      <td>0.080118</td>\n",
              "      <td>3.152210</td>\n",
              "      <td>0.571615</td>\n",
              "      <td>12.257726</td>\n",
              "      <td>11.187873</td>\n",
              "      <td>1.218707e+09</td>\n",
              "      <td>6.168611e+09</td>\n",
              "      <td>3.220529e+08</td>\n",
              "      <td>1.973261e+10</td>\n",
              "      <td>0.046377</td>\n",
              "      <td>12.673821</td>\n",
              "      <td>8.650194</td>\n",
              "      <td>7.008328</td>\n",
              "      <td>1.814141</td>\n",
              "    </tr>\n",
              "    <tr>\n",
              "      <th>min</th>\n",
              "      <td>2.510000</td>\n",
              "      <td>0.013000</td>\n",
              "      <td>-0.819000</td>\n",
              "      <td>0.000000</td>\n",
              "      <td>10.094000</td>\n",
              "      <td>3.520000</td>\n",
              "      <td>8.380000e+06</td>\n",
              "      <td>5.158000e+07</td>\n",
              "      <td>5.628000e+06</td>\n",
              "      <td>3.578640e+08</td>\n",
              "      <td>0.272000</td>\n",
              "      <td>0.160000</td>\n",
              "      <td>-20.050000</td>\n",
              "      <td>-39.260000</td>\n",
              "      <td>-7.390000</td>\n",
              "    </tr>\n",
              "    <tr>\n",
              "      <th>25%</th>\n",
              "      <td>45.100000</td>\n",
              "      <td>0.047000</td>\n",
              "      <td>0.000000</td>\n",
              "      <td>0.120000</td>\n",
              "      <td>12.375000</td>\n",
              "      <td>18.720000</td>\n",
              "      <td>1.532500e+08</td>\n",
              "      <td>8.948000e+08</td>\n",
              "      <td>5.888300e+07</td>\n",
              "      <td>3.123789e+09</td>\n",
              "      <td>0.398000</td>\n",
              "      <td>2.250000</td>\n",
              "      <td>-2.490000</td>\n",
              "      <td>-5.080000</td>\n",
              "      <td>-0.040000</td>\n",
              "    </tr>\n",
              "    <tr>\n",
              "      <th>50%</th>\n",
              "      <td>66.870000</td>\n",
              "      <td>0.119000</td>\n",
              "      <td>0.331000</td>\n",
              "      <td>0.530000</td>\n",
              "      <td>15.853000</td>\n",
              "      <td>25.030000</td>\n",
              "      <td>4.774000e+08</td>\n",
              "      <td>2.957010e+09</td>\n",
              "      <td>1.491420e+08</td>\n",
              "      <td>1.244947e+10</td>\n",
              "      <td>0.426000</td>\n",
              "      <td>6.690000</td>\n",
              "      <td>1.530000</td>\n",
              "      <td>-3.000000</td>\n",
              "      <td>0.570000</td>\n",
              "    </tr>\n",
              "    <tr>\n",
              "      <th>75%</th>\n",
              "      <td>123.320000</td>\n",
              "      <td>0.188000</td>\n",
              "      <td>0.817000</td>\n",
              "      <td>0.920000</td>\n",
              "      <td>24.591000</td>\n",
              "      <td>33.800000</td>\n",
              "      <td>8.910000e+08</td>\n",
              "      <td>4.609800e+09</td>\n",
              "      <td>2.853850e+08</td>\n",
              "      <td>2.615480e+10</td>\n",
              "      <td>0.456000</td>\n",
              "      <td>14.840000</td>\n",
              "      <td>7.190000</td>\n",
              "      <td>-1.080000</td>\n",
              "      <td>1.100000</td>\n",
              "    </tr>\n",
              "    <tr>\n",
              "      <th>max</th>\n",
              "      <td>482.300000</td>\n",
              "      <td>0.295000</td>\n",
              "      <td>29.963000</td>\n",
              "      <td>2.480000</td>\n",
              "      <td>61.015000</td>\n",
              "      <td>49.140000</td>\n",
              "      <td>9.042000e+09</td>\n",
              "      <td>4.141900e+10</td>\n",
              "      <td>1.632993e+09</td>\n",
              "      <td>8.055802e+10</td>\n",
              "      <td>0.499000</td>\n",
              "      <td>56.510000</td>\n",
              "      <td>29.680000</td>\n",
              "      <td>6.330000</td>\n",
              "      <td>9.580000</td>\n",
              "    </tr>\n",
              "  </tbody>\n",
              "</table>\n",
              "</div>"
            ],
            "text/plain": [
              "             Last    1Y %Chg    5Y Rev%  ...     3M Chg     1M Chg     Change\n",
              "count   93.000000  93.000000  93.000000  ...  93.000000  93.000000  93.000000\n",
              "mean    96.976452   0.124978   0.826097  ...   2.889140  -4.601398   0.636559\n",
              "std     87.579428   0.080118   3.152210  ...   8.650194   7.008328   1.814141\n",
              "min      2.510000   0.013000  -0.819000  ... -20.050000 -39.260000  -7.390000\n",
              "25%     45.100000   0.047000   0.000000  ...  -2.490000  -5.080000  -0.040000\n",
              "50%     66.870000   0.119000   0.331000  ...   1.530000  -3.000000   0.570000\n",
              "75%    123.320000   0.188000   0.817000  ...   7.190000  -1.080000   1.100000\n",
              "max    482.300000   0.295000  29.963000  ...  29.680000   6.330000   9.580000\n",
              "\n",
              "[8 rows x 15 columns]"
            ]
          },
          "metadata": {
            "tags": []
          },
          "execution_count": 12
        }
      ]
    },
    {
      "cell_type": "code",
      "metadata": {
        "id": "aYWG6YcMcQj3",
        "colab_type": "code",
        "colab": {
          "base_uri": "https://localhost:8080/",
          "height": 488
        },
        "outputId": "3ab21e9a-2d4e-4641-ef9d-6c4530b16eaa"
      },
      "source": [
        "OvBought.head()"
      ],
      "execution_count": 13,
      "outputs": [
        {
          "output_type": "execute_result",
          "data": {
            "text/html": [
              "<div>\n",
              "<style scoped>\n",
              "    .dataframe tbody tr th:only-of-type {\n",
              "        vertical-align: middle;\n",
              "    }\n",
              "\n",
              "    .dataframe tbody tr th {\n",
              "        vertical-align: top;\n",
              "    }\n",
              "\n",
              "    .dataframe thead th {\n",
              "        text-align: right;\n",
              "    }\n",
              "</style>\n",
              "<table border=\"1\" class=\"dataframe\">\n",
              "  <thead>\n",
              "    <tr style=\"text-align: right;\">\n",
              "      <th></th>\n",
              "      <th>Symbol</th>\n",
              "      <th>Name</th>\n",
              "      <th>Last</th>\n",
              "      <th>Exchange</th>\n",
              "      <th>Industry</th>\n",
              "      <th>1Y %Chg</th>\n",
              "      <th>5Y Rev%</th>\n",
              "      <th>Debt/Equity</th>\n",
              "      <th>Profit%</th>\n",
              "      <th>P/E (ttm)</th>\n",
              "      <th>Net Income(a)</th>\n",
              "      <th>Sales(a)</th>\n",
              "      <th>Shares Out</th>\n",
              "      <th>Market Cap</th>\n",
              "      <th>Long Term Signal</th>\n",
              "      <th>Short Term Signal</th>\n",
              "      <th>14D Rel Str</th>\n",
              "      <th>52W Chg</th>\n",
              "      <th>3M Chg</th>\n",
              "      <th>1M Chg</th>\n",
              "      <th>Change</th>\n",
              "      <th>SIC Description</th>\n",
              "      <th>Time</th>\n",
              "    </tr>\n",
              "  </thead>\n",
              "  <tbody>\n",
              "    <tr>\n",
              "      <th>1</th>\n",
              "      <td>AAON</td>\n",
              "      <td>Aaon Inc</td>\n",
              "      <td>56.99</td>\n",
              "      <td>NASDAQ</td>\n",
              "      <td>Building Prdcts - Air Heating</td>\n",
              "      <td>0.165</td>\n",
              "      <td>0.317</td>\n",
              "      <td>0.00</td>\n",
              "      <td>11.444</td>\n",
              "      <td>42.74</td>\n",
              "      <td>5.371000e+07</td>\n",
              "      <td>4.693300e+08</td>\n",
              "      <td>52262000.0</td>\n",
              "      <td>2.929285e+09</td>\n",
              "      <td>Buy</td>\n",
              "      <td>Hold</td>\n",
              "      <td>0.483</td>\n",
              "      <td>8.09</td>\n",
              "      <td>2.94</td>\n",
              "      <td>-1.59</td>\n",
              "      <td>0.94</td>\n",
              "      <td>SIC-3585 Air-Cond &amp; Warm Air Heatg Equip &amp; Com...</td>\n",
              "      <td>9/22/2020</td>\n",
              "    </tr>\n",
              "    <tr>\n",
              "      <th>12</th>\n",
              "      <td>ALRM</td>\n",
              "      <td>Alarm.com</td>\n",
              "      <td>55.58</td>\n",
              "      <td>NASDAQ</td>\n",
              "      <td>Protection - Safety</td>\n",
              "      <td>0.137</td>\n",
              "      <td>2.003</td>\n",
              "      <td>0.31</td>\n",
              "      <td>10.616</td>\n",
              "      <td>42.25</td>\n",
              "      <td>5.333000e+07</td>\n",
              "      <td>5.023600e+08</td>\n",
              "      <td>48966000.0</td>\n",
              "      <td>2.668646e+09</td>\n",
              "      <td>Buy</td>\n",
              "      <td>Sell</td>\n",
              "      <td>0.419</td>\n",
              "      <td>6.69</td>\n",
              "      <td>-7.46</td>\n",
              "      <td>-3.18</td>\n",
              "      <td>1.08</td>\n",
              "      <td>SIC-7372 Services-Prepackaged Software</td>\n",
              "      <td>9/22/2020</td>\n",
              "    </tr>\n",
              "    <tr>\n",
              "      <th>14</th>\n",
              "      <td>AMAT</td>\n",
              "      <td>Applied Materials</td>\n",
              "      <td>57.89</td>\n",
              "      <td>NASDAQ</td>\n",
              "      <td>Semi-Eqpt Wafer Fabrication</td>\n",
              "      <td>0.136</td>\n",
              "      <td>0.610</td>\n",
              "      <td>0.69</td>\n",
              "      <td>18.524</td>\n",
              "      <td>15.05</td>\n",
              "      <td>2.706000e+09</td>\n",
              "      <td>1.460800e+10</td>\n",
              "      <td>913283000.0</td>\n",
              "      <td>5.234938e+10</td>\n",
              "      <td>Hold</td>\n",
              "      <td>Sell</td>\n",
              "      <td>0.443</td>\n",
              "      <td>6.93</td>\n",
              "      <td>-3.38</td>\n",
              "      <td>-4.38</td>\n",
              "      <td>0.57</td>\n",
              "      <td>SIC-3674 Semiconductors &amp; Related Devices</td>\n",
              "      <td>9/22/2020</td>\n",
              "    </tr>\n",
              "    <tr>\n",
              "      <th>15</th>\n",
              "      <td>AME</td>\n",
              "      <td>Amtek Inc</td>\n",
              "      <td>97.24</td>\n",
              "      <td>NYSE</td>\n",
              "      <td>Electronic Test Equipment</td>\n",
              "      <td>0.082</td>\n",
              "      <td>0.283</td>\n",
              "      <td>0.51</td>\n",
              "      <td>16.697</td>\n",
              "      <td>25.18</td>\n",
              "      <td>8.613000e+08</td>\n",
              "      <td>5.158560e+09</td>\n",
              "      <td>229630000.0</td>\n",
              "      <td>2.209959e+10</td>\n",
              "      <td>Buy</td>\n",
              "      <td>Buy</td>\n",
              "      <td>0.435</td>\n",
              "      <td>7.36</td>\n",
              "      <td>7.91</td>\n",
              "      <td>-3.00</td>\n",
              "      <td>1.00</td>\n",
              "      <td>NaN</td>\n",
              "      <td>9/22/2020</td>\n",
              "    </tr>\n",
              "    <tr>\n",
              "      <th>16</th>\n",
              "      <td>AMH</td>\n",
              "      <td>American Homes 4 Rent</td>\n",
              "      <td>28.13</td>\n",
              "      <td>NYSE</td>\n",
              "      <td>REIT - Equity Trust Resident</td>\n",
              "      <td>0.111</td>\n",
              "      <td>1.867</td>\n",
              "      <td>0.49</td>\n",
              "      <td>12.335</td>\n",
              "      <td>25.23</td>\n",
              "      <td>1.410400e+08</td>\n",
              "      <td>1.143380e+09</td>\n",
              "      <td>301235000.0</td>\n",
              "      <td>8.377345e+09</td>\n",
              "      <td>Buy</td>\n",
              "      <td>Buy</td>\n",
              "      <td>0.448</td>\n",
              "      <td>2.80</td>\n",
              "      <td>0.96</td>\n",
              "      <td>-0.56</td>\n",
              "      <td>0.32</td>\n",
              "      <td>SIC-6798 Real Estate Investment Trusts</td>\n",
              "      <td>9/22/2020</td>\n",
              "    </tr>\n",
              "  </tbody>\n",
              "</table>\n",
              "</div>"
            ],
            "text/plain": [
              "   Symbol  ...       Time\n",
              "1    AAON  ...  9/22/2020\n",
              "12   ALRM  ...  9/22/2020\n",
              "14   AMAT  ...  9/22/2020\n",
              "15    AME  ...  9/22/2020\n",
              "16    AMH  ...  9/22/2020\n",
              "\n",
              "[5 rows x 23 columns]"
            ]
          },
          "metadata": {
            "tags": []
          },
          "execution_count": 13
        }
      ]
    },
    {
      "cell_type": "code",
      "metadata": {
        "id": "1OtkHVhZcdX8",
        "colab_type": "code",
        "colab": {
          "base_uri": "https://localhost:8080/",
          "height": 222
        },
        "outputId": "53b370fd-68ef-4798-9b96-64002ff55244"
      },
      "source": [
        "OvBought.Industry.value_counts()"
      ],
      "execution_count": 14,
      "outputs": [
        {
          "output_type": "execute_result",
          "data": {
            "text/plain": [
              "REIT - Equity Trust Other      11\n",
              "Business Information            4\n",
              "Insurance - Brokers             4\n",
              "Food - Misc & Diversified       3\n",
              "Electronics Products - Misc     3\n",
              "                               ..\n",
              "Transportation - Ship           1\n",
              "Soap and Cleaning Products      1\n",
              "Food - Meat Products            1\n",
              "Wireless Non-US                 1\n",
              "Semi Power                      1\n",
              "Name: Industry, Length: 61, dtype: int64"
            ]
          },
          "metadata": {
            "tags": []
          },
          "execution_count": 14
        }
      ]
    },
    {
      "cell_type": "code",
      "metadata": {
        "id": "bROHBXQrcgyt",
        "colab_type": "code",
        "colab": {
          "base_uri": "https://localhost:8080/",
          "height": 68
        },
        "outputId": "423f26e5-b3dc-4faa-f397-6ae65cc65467"
      },
      "source": [
        "OvBought.Exchange.value_counts()"
      ],
      "execution_count": 15,
      "outputs": [
        {
          "output_type": "execute_result",
          "data": {
            "text/plain": [
              "NYSE      54\n",
              "NASDAQ    39\n",
              "Name: Exchange, dtype: int64"
            ]
          },
          "metadata": {
            "tags": []
          },
          "execution_count": 15
        }
      ]
    },
    {
      "cell_type": "code",
      "metadata": {
        "id": "a9BH9mC3coFp",
        "colab_type": "code",
        "colab": {
          "base_uri": "https://localhost:8080/",
          "height": 282
        },
        "outputId": "cf4b43af-3199-499a-f431-b772fb4d82b8"
      },
      "source": [
        "OvBought['P/E (ttm)'].hist()"
      ],
      "execution_count": 16,
      "outputs": [
        {
          "output_type": "execute_result",
          "data": {
            "text/plain": [
              "<matplotlib.axes._subplots.AxesSubplot at 0x7fa299338160>"
            ]
          },
          "metadata": {
            "tags": []
          },
          "execution_count": 16
        },
        {
          "output_type": "display_data",
          "data": {
            "image/png": "[encoded data removed]",
            "text/plain": [
              "<Figure size 432x288 with 1 Axes>"
            ]
          },
          "metadata": {
            "tags": [],
            "needs_background": "light"
          }
        }
      ]
    },
    {
      "cell_type": "code",
      "metadata": {
        "id": "TqvvIvMqc9kB",
        "colab_type": "code",
        "colab": {}
      },
      "source": [
        "NASDAQ = OvBought.loc[(OvBought['Exchange'])=='NASDAQ']"
      ],
      "execution_count": 17,
      "outputs": []
    },
    {
      "cell_type": "code",
      "metadata": {
        "id": "Nlq9etDEdM8o",
        "colab_type": "code",
        "colab": {}
      },
      "source": [
        "NYSE = OvBought.loc[(OvBought['Exchange'])=='NYSE']"
      ],
      "execution_count": 18,
      "outputs": []
    },
    {
      "cell_type": "code",
      "metadata": {
        "id": "fx7fGy8edTID",
        "colab_type": "code",
        "colab": {
          "base_uri": "https://localhost:8080/",
          "height": 34
        },
        "outputId": "a6644ddc-8c04-4d05-f825-2e3923325b11"
      },
      "source": [
        "len(NASDAQ)"
      ],
      "execution_count": 19,
      "outputs": [
        {
          "output_type": "execute_result",
          "data": {
            "text/plain": [
              "39"
            ]
          },
          "metadata": {
            "tags": []
          },
          "execution_count": 19
        }
      ]
    },
    {
      "cell_type": "code",
      "metadata": {
        "id": "PqgelNMVdUuU",
        "colab_type": "code",
        "colab": {
          "base_uri": "https://localhost:8080/",
          "height": 34
        },
        "outputId": "6467cd73-40e0-4f19-a6ba-2821ebb6ffab"
      },
      "source": [
        "len(NYSE)"
      ],
      "execution_count": 20,
      "outputs": [
        {
          "output_type": "execute_result",
          "data": {
            "text/plain": [
              "54"
            ]
          },
          "metadata": {
            "tags": []
          },
          "execution_count": 20
        }
      ]
    },
    {
      "cell_type": "code",
      "metadata": {
        "id": "WkfX3bDXdWVd",
        "colab_type": "code",
        "colab": {}
      },
      "source": [
        "Lng_Term = OvBought.loc[(OvBought['Long Term Signal'])=='Buy']"
      ],
      "execution_count": 21,
      "outputs": []
    },
    {
      "cell_type": "code",
      "metadata": {
        "id": "NyZmtBNZeJj6",
        "colab_type": "code",
        "colab": {
          "base_uri": "https://localhost:8080/",
          "height": 34
        },
        "outputId": "c6f0d89a-9e08-446c-96fc-29aca279d556"
      },
      "source": [
        "len(Lng_Term)"
      ],
      "execution_count": 22,
      "outputs": [
        {
          "output_type": "execute_result",
          "data": {
            "text/plain": [
              "75"
            ]
          },
          "metadata": {
            "tags": []
          },
          "execution_count": 22
        }
      ]
    },
    {
      "cell_type": "code",
      "metadata": {
        "id": "2KBMQOAVeLGk",
        "colab_type": "code",
        "colab": {}
      },
      "source": [
        "Lng_Term.to_csv('Longterm_Overboughts.csv', index=False)"
      ],
      "execution_count": 23,
      "outputs": []
    },
    {
      "cell_type": "code",
      "metadata": {
        "id": "UqUh3k7heUu3",
        "colab_type": "code",
        "colab": {}
      },
      "source": [
        "Shrt_Term = Lng_Term.loc[(Lng_Term['Short Term Signal'])=='Buy']"
      ],
      "execution_count": 24,
      "outputs": []
    },
    {
      "cell_type": "code",
      "metadata": {
        "id": "_-uRqgodeczq",
        "colab_type": "code",
        "colab": {
          "base_uri": "https://localhost:8080/",
          "height": 34
        },
        "outputId": "80ccca6e-69e7-49ac-fef0-1e6f96056a7d"
      },
      "source": [
        "len(Shrt_Term)"
      ],
      "execution_count": 25,
      "outputs": [
        {
          "output_type": "execute_result",
          "data": {
            "text/plain": [
              "46"
            ]
          },
          "metadata": {
            "tags": []
          },
          "execution_count": 25
        }
      ]
    },
    {
      "cell_type": "code",
      "metadata": {
        "id": "cgYCPgckeeid",
        "colab_type": "code",
        "colab": {}
      },
      "source": [
        "Shrt_Term.to_csv('Shorterm_Overboughts.csv', index=False)"
      ],
      "execution_count": 26,
      "outputs": []
    },
    {
      "cell_type": "code",
      "metadata": {
        "id": "9ZhjSXiDeq6R",
        "colab_type": "code",
        "colab": {}
      },
      "source": [
        "li = list(range(0,46))"
      ],
      "execution_count": 27,
      "outputs": []
    },
    {
      "cell_type": "code",
      "metadata": {
        "id": "759eTluEe91S",
        "colab_type": "code",
        "colab": {
          "base_uri": "https://localhost:8080/",
          "height": 319
        },
        "outputId": "a5fabd98-0d1a-446e-efc8-32e02c0a4ffd"
      },
      "source": [
        "Shrt_Term.describe()"
      ],
      "execution_count": 28,
      "outputs": [
        {
          "output_type": "execute_result",
          "data": {
            "text/html": [
              "<div>\n",
              "<style scoped>\n",
              "    .dataframe tbody tr th:only-of-type {\n",
              "        vertical-align: middle;\n",
              "    }\n",
              "\n",
              "    .dataframe tbody tr th {\n",
              "        vertical-align: top;\n",
              "    }\n",
              "\n",
              "    .dataframe thead th {\n",
              "        text-align: right;\n",
              "    }\n",
              "</style>\n",
              "<table border=\"1\" class=\"dataframe\">\n",
              "  <thead>\n",
              "    <tr style=\"text-align: right;\">\n",
              "      <th></th>\n",
              "      <th>Last</th>\n",
              "      <th>1Y %Chg</th>\n",
              "      <th>5Y Rev%</th>\n",
              "      <th>Debt/Equity</th>\n",
              "      <th>Profit%</th>\n",
              "      <th>P/E (ttm)</th>\n",
              "      <th>Net Income(a)</th>\n",
              "      <th>Sales(a)</th>\n",
              "      <th>Shares Out</th>\n",
              "      <th>Market Cap</th>\n",
              "      <th>14D Rel Str</th>\n",
              "      <th>52W Chg</th>\n",
              "      <th>3M Chg</th>\n",
              "      <th>1M Chg</th>\n",
              "      <th>Change</th>\n",
              "    </tr>\n",
              "  </thead>\n",
              "  <tbody>\n",
              "    <tr>\n",
              "      <th>count</th>\n",
              "      <td>46.000000</td>\n",
              "      <td>46.000000</td>\n",
              "      <td>46.000000</td>\n",
              "      <td>46.000000</td>\n",
              "      <td>46.000000</td>\n",
              "      <td>46.000000</td>\n",
              "      <td>4.600000e+01</td>\n",
              "      <td>4.600000e+01</td>\n",
              "      <td>4.600000e+01</td>\n",
              "      <td>4.600000e+01</td>\n",
              "      <td>46.000000</td>\n",
              "      <td>46.000000</td>\n",
              "      <td>46.000000</td>\n",
              "      <td>46.000000</td>\n",
              "      <td>46.00000</td>\n",
              "    </tr>\n",
              "    <tr>\n",
              "      <th>mean</th>\n",
              "      <td>92.232391</td>\n",
              "      <td>0.116196</td>\n",
              "      <td>0.468565</td>\n",
              "      <td>0.686304</td>\n",
              "      <td>18.425348</td>\n",
              "      <td>25.067609</td>\n",
              "      <td>9.184233e+08</td>\n",
              "      <td>5.649368e+09</td>\n",
              "      <td>2.978693e+08</td>\n",
              "      <td>2.076250e+10</td>\n",
              "      <td>0.433391</td>\n",
              "      <td>8.943261</td>\n",
              "      <td>6.019565</td>\n",
              "      <td>-2.465435</td>\n",
              "      <td>0.23413</td>\n",
              "    </tr>\n",
              "    <tr>\n",
              "      <th>std</th>\n",
              "      <td>90.006879</td>\n",
              "      <td>0.080831</td>\n",
              "      <td>0.982231</td>\n",
              "      <td>0.622923</td>\n",
              "      <td>10.379958</td>\n",
              "      <td>10.234428</td>\n",
              "      <td>1.431347e+09</td>\n",
              "      <td>7.641366e+09</td>\n",
              "      <td>3.683037e+08</td>\n",
              "      <td>2.174240e+10</td>\n",
              "      <td>0.040958</td>\n",
              "      <td>11.304015</td>\n",
              "      <td>7.866071</td>\n",
              "      <td>5.234455</td>\n",
              "      <td>2.18954</td>\n",
              "    </tr>\n",
              "    <tr>\n",
              "      <th>min</th>\n",
              "      <td>8.320000</td>\n",
              "      <td>0.014000</td>\n",
              "      <td>-0.819000</td>\n",
              "      <td>0.000000</td>\n",
              "      <td>10.094000</td>\n",
              "      <td>6.030000</td>\n",
              "      <td>8.380000e+06</td>\n",
              "      <td>6.085000e+07</td>\n",
              "      <td>5.628000e+06</td>\n",
              "      <td>4.136020e+08</td>\n",
              "      <td>0.340000</td>\n",
              "      <td>0.220000</td>\n",
              "      <td>-17.200000</td>\n",
              "      <td>-28.540000</td>\n",
              "      <td>-7.39000</td>\n",
              "    </tr>\n",
              "    <tr>\n",
              "      <th>25%</th>\n",
              "      <td>44.657500</td>\n",
              "      <td>0.038250</td>\n",
              "      <td>0.000000</td>\n",
              "      <td>0.232500</td>\n",
              "      <td>12.188000</td>\n",
              "      <td>18.230000</td>\n",
              "      <td>1.928225e+08</td>\n",
              "      <td>1.147378e+09</td>\n",
              "      <td>8.602500e+07</td>\n",
              "      <td>4.100383e+09</td>\n",
              "      <td>0.408750</td>\n",
              "      <td>1.935000</td>\n",
              "      <td>1.215000</td>\n",
              "      <td>-4.057500</td>\n",
              "      <td>-0.14250</td>\n",
              "    </tr>\n",
              "    <tr>\n",
              "      <th>50%</th>\n",
              "      <td>64.670000</td>\n",
              "      <td>0.097500</td>\n",
              "      <td>0.148500</td>\n",
              "      <td>0.525000</td>\n",
              "      <td>13.976500</td>\n",
              "      <td>23.110000</td>\n",
              "      <td>5.530200e+08</td>\n",
              "      <td>3.602340e+09</td>\n",
              "      <td>2.253630e+08</td>\n",
              "      <td>1.238067e+10</td>\n",
              "      <td>0.437000</td>\n",
              "      <td>5.780000</td>\n",
              "      <td>4.435000</td>\n",
              "      <td>-1.760000</td>\n",
              "      <td>0.32000</td>\n",
              "    </tr>\n",
              "    <tr>\n",
              "      <th>75%</th>\n",
              "      <td>99.282500</td>\n",
              "      <td>0.185750</td>\n",
              "      <td>0.681750</td>\n",
              "      <td>1.015000</td>\n",
              "      <td>22.223250</td>\n",
              "      <td>31.290000</td>\n",
              "      <td>1.046175e+09</td>\n",
              "      <td>5.329100e+09</td>\n",
              "      <td>3.005205e+08</td>\n",
              "      <td>2.968368e+10</td>\n",
              "      <td>0.462250</td>\n",
              "      <td>10.597500</td>\n",
              "      <td>9.992500</td>\n",
              "      <td>-0.040000</td>\n",
              "      <td>0.94250</td>\n",
              "    </tr>\n",
              "    <tr>\n",
              "      <th>max</th>\n",
              "      <td>482.300000</td>\n",
              "      <td>0.278000</td>\n",
              "      <td>5.197000</td>\n",
              "      <td>2.480000</td>\n",
              "      <td>61.015000</td>\n",
              "      <td>47.630000</td>\n",
              "      <td>9.042000e+09</td>\n",
              "      <td>4.141900e+10</td>\n",
              "      <td>1.632993e+09</td>\n",
              "      <td>8.055802e+10</td>\n",
              "      <td>0.499000</td>\n",
              "      <td>55.980000</td>\n",
              "      <td>27.630000</td>\n",
              "      <td>6.330000</td>\n",
              "      <td>9.58000</td>\n",
              "    </tr>\n",
              "  </tbody>\n",
              "</table>\n",
              "</div>"
            ],
            "text/plain": [
              "             Last    1Y %Chg    5Y Rev%  ...     3M Chg     1M Chg    Change\n",
              "count   46.000000  46.000000  46.000000  ...  46.000000  46.000000  46.00000\n",
              "mean    92.232391   0.116196   0.468565  ...   6.019565  -2.465435   0.23413\n",
              "std     90.006879   0.080831   0.982231  ...   7.866071   5.234455   2.18954\n",
              "min      8.320000   0.014000  -0.819000  ... -17.200000 -28.540000  -7.39000\n",
              "25%     44.657500   0.038250   0.000000  ...   1.215000  -4.057500  -0.14250\n",
              "50%     64.670000   0.097500   0.148500  ...   4.435000  -1.760000   0.32000\n",
              "75%     99.282500   0.185750   0.681750  ...   9.992500  -0.040000   0.94250\n",
              "max    482.300000   0.278000   5.197000  ...  27.630000   6.330000   9.58000\n",
              "\n",
              "[8 rows x 15 columns]"
            ]
          },
          "metadata": {
            "tags": []
          },
          "execution_count": 28
        }
      ]
    },
    {
      "cell_type": "code",
      "metadata": {
        "id": "eE1e4Oy-fADy",
        "colab_type": "code",
        "colab": {}
      },
      "source": [
        "Downs = Shrt_Term.loc[(Shrt_Term['1M Chg'])<-2.50]"
      ],
      "execution_count": 29,
      "outputs": []
    },
    {
      "cell_type": "code",
      "metadata": {
        "id": "EiTtjlnsfP_i",
        "colab_type": "code",
        "colab": {
          "base_uri": "https://localhost:8080/",
          "height": 34
        },
        "outputId": "19cd7013-90d3-417f-ca40-513efb91a7d8"
      },
      "source": [
        "len(Downs)"
      ],
      "execution_count": 30,
      "outputs": [
        {
          "output_type": "execute_result",
          "data": {
            "text/plain": [
              "19"
            ]
          },
          "metadata": {
            "tags": []
          },
          "execution_count": 30
        }
      ]
    },
    {
      "cell_type": "code",
      "metadata": {
        "id": "JV6FUkGlfRHT",
        "colab_type": "code",
        "colab": {
          "base_uri": "https://localhost:8080/",
          "height": 342
        },
        "outputId": "ace114b1-0335-4c59-fe10-8a5668b9ebe0"
      },
      "source": [
        "Downs.Industry.value_counts()"
      ],
      "execution_count": 32,
      "outputs": [
        {
          "output_type": "execute_result",
          "data": {
            "text/plain": [
              "Finance - Investment Brokers      2\n",
              "Food - Misc & Diversified         1\n",
              "Utility - Electric Power          1\n",
              "Business Services                 1\n",
              "Electronics - Connectors          1\n",
              "Building - CMT & CNT & AG         1\n",
              "Insurance - Brokers               1\n",
              "Internet - Services               1\n",
              "Soap and Cleaning Products        1\n",
              "Insurance - Proprty & Casualty    1\n",
              "Outsourcing                       1\n",
              "Computer - Software               1\n",
              "Semi Analog & Mixed               1\n",
              "Securities Exchanges              1\n",
              "Electronic Test Equipment         1\n",
              "Banks - West                      1\n",
              "Medical - Outpatient & Hm Care    1\n",
              "Mining - Gold                     1\n",
              "Name: Industry, dtype: int64"
            ]
          },
          "metadata": {
            "tags": []
          },
          "execution_count": 32
        }
      ]
    },
    {
      "cell_type": "code",
      "metadata": {
        "id": "tfaihvvafSHi",
        "colab_type": "code",
        "colab": {
          "base_uri": "https://localhost:8080/",
          "height": 1000
        },
        "outputId": "fd917cce-eb83-4c49-8040-7cc67a9e24d6"
      },
      "source": [
        "Downs.head(19)"
      ],
      "execution_count": 34,
      "outputs": [
        {
          "output_type": "execute_result",
          "data": {
            "text/html": [
              "<div>\n",
              "<style scoped>\n",
              "    .dataframe tbody tr th:only-of-type {\n",
              "        vertical-align: middle;\n",
              "    }\n",
              "\n",
              "    .dataframe tbody tr th {\n",
              "        vertical-align: top;\n",
              "    }\n",
              "\n",
              "    .dataframe thead th {\n",
              "        text-align: right;\n",
              "    }\n",
              "</style>\n",
              "<table border=\"1\" class=\"dataframe\">\n",
              "  <thead>\n",
              "    <tr style=\"text-align: right;\">\n",
              "      <th></th>\n",
              "      <th>Symbol</th>\n",
              "      <th>Name</th>\n",
              "      <th>Last</th>\n",
              "      <th>Exchange</th>\n",
              "      <th>Industry</th>\n",
              "      <th>1Y %Chg</th>\n",
              "      <th>5Y Rev%</th>\n",
              "      <th>Debt/Equity</th>\n",
              "      <th>Profit%</th>\n",
              "      <th>P/E (ttm)</th>\n",
              "      <th>Net Income(a)</th>\n",
              "      <th>Sales(a)</th>\n",
              "      <th>Shares Out</th>\n",
              "      <th>Market Cap</th>\n",
              "      <th>Long Term Signal</th>\n",
              "      <th>Short Term Signal</th>\n",
              "      <th>14D Rel Str</th>\n",
              "      <th>52W Chg</th>\n",
              "      <th>3M Chg</th>\n",
              "      <th>1M Chg</th>\n",
              "      <th>Change</th>\n",
              "      <th>SIC Description</th>\n",
              "      <th>Time</th>\n",
              "    </tr>\n",
              "  </thead>\n",
              "  <tbody>\n",
              "    <tr>\n",
              "      <th>15</th>\n",
              "      <td>AME</td>\n",
              "      <td>Amtek Inc</td>\n",
              "      <td>97.24</td>\n",
              "      <td>NYSE</td>\n",
              "      <td>Electronic Test Equipment</td>\n",
              "      <td>0.082</td>\n",
              "      <td>0.283</td>\n",
              "      <td>0.51</td>\n",
              "      <td>16.697</td>\n",
              "      <td>25.18</td>\n",
              "      <td>8.613000e+08</td>\n",
              "      <td>5.158560e+09</td>\n",
              "      <td>2.296300e+08</td>\n",
              "      <td>2.209959e+10</td>\n",
              "      <td>Buy</td>\n",
              "      <td>Buy</td>\n",
              "      <td>0.435</td>\n",
              "      <td>7.36</td>\n",
              "      <td>7.91</td>\n",
              "      <td>-3.00</td>\n",
              "      <td>1.00</td>\n",
              "      <td>NaN</td>\n",
              "      <td>9/22/2020</td>\n",
              "    </tr>\n",
              "    <tr>\n",
              "      <th>22</th>\n",
              "      <td>APH</td>\n",
              "      <td>Amphenol Corp</td>\n",
              "      <td>104.62</td>\n",
              "      <td>NYSE</td>\n",
              "      <td>Electronics - Connectors</td>\n",
              "      <td>0.115</td>\n",
              "      <td>0.539</td>\n",
              "      <td>1.03</td>\n",
              "      <td>14.042</td>\n",
              "      <td>31.56</td>\n",
              "      <td>1.155000e+09</td>\n",
              "      <td>8.225400e+09</td>\n",
              "      <td>2.983770e+08</td>\n",
              "      <td>3.087904e+10</td>\n",
              "      <td>Buy</td>\n",
              "      <td>Buy</td>\n",
              "      <td>0.436</td>\n",
              "      <td>10.80</td>\n",
              "      <td>7.06</td>\n",
              "      <td>-3.62</td>\n",
              "      <td>1.13</td>\n",
              "      <td>SIC-3678 Electronic Connectors</td>\n",
              "      <td>9/22/2020</td>\n",
              "    </tr>\n",
              "    <tr>\n",
              "      <th>42</th>\n",
              "      <td>BR</td>\n",
              "      <td>Broadridge Financial Solutions Llc</td>\n",
              "      <td>132.04</td>\n",
              "      <td>NYSE</td>\n",
              "      <td>Outsourcing</td>\n",
              "      <td>0.042</td>\n",
              "      <td>0.681</td>\n",
              "      <td>1.40</td>\n",
              "      <td>10.212</td>\n",
              "      <td>26.15</td>\n",
              "      <td>4.625000e+08</td>\n",
              "      <td>4.529000e+09</td>\n",
              "      <td>1.151620e+08</td>\n",
              "      <td>1.507586e+10</td>\n",
              "      <td>Buy</td>\n",
              "      <td>Buy</td>\n",
              "      <td>0.426</td>\n",
              "      <td>5.33</td>\n",
              "      <td>7.33</td>\n",
              "      <td>-4.83</td>\n",
              "      <td>1.13</td>\n",
              "      <td>SIC-7389 Services-Business Services, NEC</td>\n",
              "      <td>9/22/2020</td>\n",
              "    </tr>\n",
              "    <tr>\n",
              "      <th>51</th>\n",
              "      <td>CHD</td>\n",
              "      <td>Church &amp; Dwight Company</td>\n",
              "      <td>91.59</td>\n",
              "      <td>NYSE</td>\n",
              "      <td>Soap and Cleaning Products</td>\n",
              "      <td>0.258</td>\n",
              "      <td>0.322</td>\n",
              "      <td>0.64</td>\n",
              "      <td>14.134</td>\n",
              "      <td>32.14</td>\n",
              "      <td>6.159000e+08</td>\n",
              "      <td>4.357700e+09</td>\n",
              "      <td>2.473120e+08</td>\n",
              "      <td>2.216905e+10</td>\n",
              "      <td>Buy</td>\n",
              "      <td>Buy</td>\n",
              "      <td>0.460</td>\n",
              "      <td>18.79</td>\n",
              "      <td>14.04</td>\n",
              "      <td>-4.91</td>\n",
              "      <td>1.95</td>\n",
              "      <td>SIC-2840 Soap, Detergents, Cleaning Preparatio...</td>\n",
              "      <td>9/22/2020</td>\n",
              "    </tr>\n",
              "    <tr>\n",
              "      <th>52</th>\n",
              "      <td>CHE</td>\n",
              "      <td>Chemed Inc</td>\n",
              "      <td>482.30</td>\n",
              "      <td>NYSE</td>\n",
              "      <td>Medical - Outpatient &amp; Hm Care</td>\n",
              "      <td>0.131</td>\n",
              "      <td>0.331</td>\n",
              "      <td>0.23</td>\n",
              "      <td>11.345</td>\n",
              "      <td>30.48</td>\n",
              "      <td>2.199200e+08</td>\n",
              "      <td>1.938560e+09</td>\n",
              "      <td>1.591900e+07</td>\n",
              "      <td>7.633474e+09</td>\n",
              "      <td>Buy</td>\n",
              "      <td>Buy</td>\n",
              "      <td>0.405</td>\n",
              "      <td>55.98</td>\n",
              "      <td>27.63</td>\n",
              "      <td>-28.54</td>\n",
              "      <td>2.78</td>\n",
              "      <td>SIC-8082 Services-Home Health Care Services</td>\n",
              "      <td>9/22/2020</td>\n",
              "    </tr>\n",
              "    <tr>\n",
              "      <th>93</th>\n",
              "      <td>ERIE</td>\n",
              "      <td>Erie Indemnity Company</td>\n",
              "      <td>208.50</td>\n",
              "      <td>NASDAQ</td>\n",
              "      <td>Insurance - Brokers</td>\n",
              "      <td>0.096</td>\n",
              "      <td>-0.596</td>\n",
              "      <td>0.09</td>\n",
              "      <td>12.789</td>\n",
              "      <td>39.08</td>\n",
              "      <td>3.168200e+08</td>\n",
              "      <td>2.477300e+09</td>\n",
              "      <td>4.619200e+07</td>\n",
              "      <td>9.855526e+09</td>\n",
              "      <td>Buy</td>\n",
              "      <td>Buy</td>\n",
              "      <td>0.415</td>\n",
              "      <td>18.29</td>\n",
              "      <td>24.83</td>\n",
              "      <td>-4.13</td>\n",
              "      <td>-4.86</td>\n",
              "      <td>SIC-6411 Insurance Agents, Brokers &amp; Service</td>\n",
              "      <td>9/22/2020</td>\n",
              "    </tr>\n",
              "    <tr>\n",
              "      <th>96</th>\n",
              "      <td>ETFC</td>\n",
              "      <td>E*Trade Finl Corp</td>\n",
              "      <td>49.30</td>\n",
              "      <td>NASDAQ</td>\n",
              "      <td>Finance - Investment Brokers</td>\n",
              "      <td>0.098</td>\n",
              "      <td>0.558</td>\n",
              "      <td>0.24</td>\n",
              "      <td>30.366</td>\n",
              "      <td>14.35</td>\n",
              "      <td>9.550000e+08</td>\n",
              "      <td>3.145000e+09</td>\n",
              "      <td>2.210960e+08</td>\n",
              "      <td>1.105922e+10</td>\n",
              "      <td>Buy</td>\n",
              "      <td>Buy</td>\n",
              "      <td>0.341</td>\n",
              "      <td>4.39</td>\n",
              "      <td>0.48</td>\n",
              "      <td>-3.68</td>\n",
              "      <td>-0.72</td>\n",
              "      <td>NaN</td>\n",
              "      <td>9/22/2020</td>\n",
              "    </tr>\n",
              "    <tr>\n",
              "      <th>130</th>\n",
              "      <td>HCI</td>\n",
              "      <td>Homeowners Choice</td>\n",
              "      <td>51.21</td>\n",
              "      <td>NYSE</td>\n",
              "      <td>Insurance - Proprty &amp; Casualty</td>\n",
              "      <td>0.216</td>\n",
              "      <td>-0.089</td>\n",
              "      <td>0.92</td>\n",
              "      <td>10.962</td>\n",
              "      <td>18.65</td>\n",
              "      <td>2.658000e+07</td>\n",
              "      <td>2.424700e+08</td>\n",
              "      <td>7.985000e+06</td>\n",
              "      <td>4.136020e+08</td>\n",
              "      <td>Buy</td>\n",
              "      <td>Buy</td>\n",
              "      <td>0.402</td>\n",
              "      <td>9.11</td>\n",
              "      <td>7.00</td>\n",
              "      <td>-3.84</td>\n",
              "      <td>-0.59</td>\n",
              "      <td>SIC-6331 Fire, Marine &amp; Casualty Insurance</td>\n",
              "      <td>9/22/2020</td>\n",
              "    </tr>\n",
              "    <tr>\n",
              "      <th>140</th>\n",
              "      <td>ICE</td>\n",
              "      <td>Intercontinental Exchange</td>\n",
              "      <td>98.80</td>\n",
              "      <td>NYSE</td>\n",
              "      <td>Securities Exchanges</td>\n",
              "      <td>0.070</td>\n",
              "      <td>0.682</td>\n",
              "      <td>0.31</td>\n",
              "      <td>37.159</td>\n",
              "      <td>22.75</td>\n",
              "      <td>1.933000e+09</td>\n",
              "      <td>5.202000e+09</td>\n",
              "      <td>5.428870e+08</td>\n",
              "      <td>5.389240e+10</td>\n",
              "      <td>Buy</td>\n",
              "      <td>Buy</td>\n",
              "      <td>0.432</td>\n",
              "      <td>6.47</td>\n",
              "      <td>4.49</td>\n",
              "      <td>-5.40</td>\n",
              "      <td>-0.47</td>\n",
              "      <td>NaN</td>\n",
              "      <td>9/22/2020</td>\n",
              "    </tr>\n",
              "    <tr>\n",
              "      <th>148</th>\n",
              "      <td>INTU</td>\n",
              "      <td>Intuit Inc</td>\n",
              "      <td>317.28</td>\n",
              "      <td>NASDAQ</td>\n",
              "      <td>Computer - Software</td>\n",
              "      <td>0.179</td>\n",
              "      <td>0.832</td>\n",
              "      <td>0.01</td>\n",
              "      <td>23.779</td>\n",
              "      <td>45.13</td>\n",
              "      <td>1.826000e+09</td>\n",
              "      <td>7.679000e+09</td>\n",
              "      <td>2.618070e+08</td>\n",
              "      <td>8.055802e+10</td>\n",
              "      <td>Buy</td>\n",
              "      <td>Buy</td>\n",
              "      <td>0.489</td>\n",
              "      <td>48.10</td>\n",
              "      <td>23.16</td>\n",
              "      <td>-4.95</td>\n",
              "      <td>9.58</td>\n",
              "      <td>NaN</td>\n",
              "      <td>9/22/2020</td>\n",
              "    </tr>\n",
              "    <tr>\n",
              "      <th>161</th>\n",
              "      <td>KL</td>\n",
              "      <td>Kirkland Lake Gold Ltd</td>\n",
              "      <td>49.02</td>\n",
              "      <td>NYSE</td>\n",
              "      <td>Mining - Gold</td>\n",
              "      <td>0.038</td>\n",
              "      <td>0.000</td>\n",
              "      <td>0.00</td>\n",
              "      <td>40.586</td>\n",
              "      <td>15.99</td>\n",
              "      <td>5.600800e+08</td>\n",
              "      <td>1.379990e+09</td>\n",
              "      <td>2.759150e+08</td>\n",
              "      <td>1.373505e+10</td>\n",
              "      <td>Buy</td>\n",
              "      <td>Buy</td>\n",
              "      <td>0.398</td>\n",
              "      <td>1.80</td>\n",
              "      <td>9.97</td>\n",
              "      <td>-4.14</td>\n",
              "      <td>-0.76</td>\n",
              "      <td>SIC-1040 Gold and Silver Ores</td>\n",
              "      <td>9/22/2020</td>\n",
              "    </tr>\n",
              "    <tr>\n",
              "      <th>182</th>\n",
              "      <td>MCHP</td>\n",
              "      <td>Microchip Technology</td>\n",
              "      <td>99.20</td>\n",
              "      <td>NASDAQ</td>\n",
              "      <td>Semi Analog &amp; Mixed</td>\n",
              "      <td>0.097</td>\n",
              "      <td>1.457</td>\n",
              "      <td>1.59</td>\n",
              "      <td>10.819</td>\n",
              "      <td>19.50</td>\n",
              "      <td>5.706000e+08</td>\n",
              "      <td>5.274200e+09</td>\n",
              "      <td>2.524520e+08</td>\n",
              "      <td>2.486652e+10</td>\n",
              "      <td>Buy</td>\n",
              "      <td>Buy</td>\n",
              "      <td>0.397</td>\n",
              "      <td>8.75</td>\n",
              "      <td>-4.51</td>\n",
              "      <td>-8.73</td>\n",
              "      <td>0.70</td>\n",
              "      <td>SIC-3674 Semiconductors &amp; Related Devices</td>\n",
              "      <td>9/22/2020</td>\n",
              "    </tr>\n",
              "    <tr>\n",
              "      <th>187</th>\n",
              "      <td>MKC</td>\n",
              "      <td>Mccormick &amp; Company Inc</td>\n",
              "      <td>192.39</td>\n",
              "      <td>NYSE</td>\n",
              "      <td>Food - Misc &amp; Diversified</td>\n",
              "      <td>0.201</td>\n",
              "      <td>0.260</td>\n",
              "      <td>1.12</td>\n",
              "      <td>13.141</td>\n",
              "      <td>33.80</td>\n",
              "      <td>7.027000e+08</td>\n",
              "      <td>5.347400e+09</td>\n",
              "      <td>1.332230e+08</td>\n",
              "      <td>2.536566e+10</td>\n",
              "      <td>Buy</td>\n",
              "      <td>Buy</td>\n",
              "      <td>0.396</td>\n",
              "      <td>32.25</td>\n",
              "      <td>19.69</td>\n",
              "      <td>-10.76</td>\n",
              "      <td>1.99</td>\n",
              "      <td>NaN</td>\n",
              "      <td>9/22/2020</td>\n",
              "    </tr>\n",
              "    <tr>\n",
              "      <th>192</th>\n",
              "      <td>MS</td>\n",
              "      <td>Morgan Stanley</td>\n",
              "      <td>47.63</td>\n",
              "      <td>NYSE</td>\n",
              "      <td>Finance - Investment Brokers</td>\n",
              "      <td>0.091</td>\n",
              "      <td>0.208</td>\n",
              "      <td>2.48</td>\n",
              "      <td>21.831</td>\n",
              "      <td>9.21</td>\n",
              "      <td>9.042000e+09</td>\n",
              "      <td>4.141900e+10</td>\n",
              "      <td>1.576761e+09</td>\n",
              "      <td>7.625216e+10</td>\n",
              "      <td>Buy</td>\n",
              "      <td>Buy</td>\n",
              "      <td>0.343</td>\n",
              "      <td>3.96</td>\n",
              "      <td>0.25</td>\n",
              "      <td>-3.47</td>\n",
              "      <td>-0.73</td>\n",
              "      <td>NaN</td>\n",
              "      <td>9/22/2020</td>\n",
              "    </tr>\n",
              "    <tr>\n",
              "      <th>254</th>\n",
              "      <td>SIVB</td>\n",
              "      <td>Svb Financial Group</td>\n",
              "      <td>230.47</td>\n",
              "      <td>NASDAQ</td>\n",
              "      <td>Banks - West</td>\n",
              "      <td>0.064</td>\n",
              "      <td>1.412</td>\n",
              "      <td>0.05</td>\n",
              "      <td>32.198</td>\n",
              "      <td>14.34</td>\n",
              "      <td>1.136860e+09</td>\n",
              "      <td>3.530890e+09</td>\n",
              "      <td>5.176100e+07</td>\n",
              "      <td>1.231187e+10</td>\n",
              "      <td>Buy</td>\n",
              "      <td>Buy</td>\n",
              "      <td>0.344</td>\n",
              "      <td>13.89</td>\n",
              "      <td>10.57</td>\n",
              "      <td>-8.95</td>\n",
              "      <td>-7.39</td>\n",
              "      <td>SIC-6022 State Commercial Banks</td>\n",
              "      <td>9/22/2020</td>\n",
              "    </tr>\n",
              "    <tr>\n",
              "      <th>287</th>\n",
              "      <td>USLM</td>\n",
              "      <td>U S Lime &amp; Mineral</td>\n",
              "      <td>88.71</td>\n",
              "      <td>NASDAQ</td>\n",
              "      <td>Building - CMT &amp; CNT &amp; AG</td>\n",
              "      <td>0.142</td>\n",
              "      <td>0.056</td>\n",
              "      <td>0.00</td>\n",
              "      <td>16.465</td>\n",
              "      <td>19.54</td>\n",
              "      <td>2.606000e+07</td>\n",
              "      <td>1.582800e+08</td>\n",
              "      <td>5.628000e+06</td>\n",
              "      <td>5.045980e+08</td>\n",
              "      <td>Buy</td>\n",
              "      <td>Buy</td>\n",
              "      <td>0.408</td>\n",
              "      <td>11.05</td>\n",
              "      <td>7.71</td>\n",
              "      <td>-5.08</td>\n",
              "      <td>-0.95</td>\n",
              "      <td>SIC-1400 Mining &amp; Quarrying of Nonmetallic Min...</td>\n",
              "      <td>9/22/2020</td>\n",
              "    </tr>\n",
              "    <tr>\n",
              "      <th>302</th>\n",
              "      <td>WNS</td>\n",
              "      <td>Wns Ltd</td>\n",
              "      <td>62.47</td>\n",
              "      <td>NYSE</td>\n",
              "      <td>Business Services</td>\n",
              "      <td>0.030</td>\n",
              "      <td>0.739</td>\n",
              "      <td>0.29</td>\n",
              "      <td>12.579</td>\n",
              "      <td>27.40</td>\n",
              "      <td>1.167700e+08</td>\n",
              "      <td>9.282600e+08</td>\n",
              "      <td>4.980900e+07</td>\n",
              "      <td>3.050303e+09</td>\n",
              "      <td>Buy</td>\n",
              "      <td>Buy</td>\n",
              "      <td>0.411</td>\n",
              "      <td>1.83</td>\n",
              "      <td>7.09</td>\n",
              "      <td>-3.22</td>\n",
              "      <td>1.23</td>\n",
              "      <td>SIC-7389 Services-Business Services, NEC</td>\n",
              "      <td>9/22/2020</td>\n",
              "    </tr>\n",
              "    <tr>\n",
              "      <th>304</th>\n",
              "      <td>XEL</td>\n",
              "      <td>XCEL Energy Inc</td>\n",
              "      <td>66.87</td>\n",
              "      <td>NASDAQ</td>\n",
              "      <td>Utility - Electric Power</td>\n",
              "      <td>0.035</td>\n",
              "      <td>-0.013</td>\n",
              "      <td>1.28</td>\n",
              "      <td>11.900</td>\n",
              "      <td>25.06</td>\n",
              "      <td>1.372000e+09</td>\n",
              "      <td>1.152900e+10</td>\n",
              "      <td>5.253420e+08</td>\n",
              "      <td>3.500879e+10</td>\n",
              "      <td>Buy</td>\n",
              "      <td>Buy</td>\n",
              "      <td>0.412</td>\n",
              "      <td>2.25</td>\n",
              "      <td>1.72</td>\n",
              "      <td>-2.74</td>\n",
              "      <td>0.23</td>\n",
              "      <td>NaN</td>\n",
              "      <td>9/22/2020</td>\n",
              "    </tr>\n",
              "    <tr>\n",
              "      <th>310</th>\n",
              "      <td>YY</td>\n",
              "      <td>YY Inc</td>\n",
              "      <td>79.93</td>\n",
              "      <td>NASDAQ</td>\n",
              "      <td>Internet - Services</td>\n",
              "      <td>0.264</td>\n",
              "      <td>5.197</td>\n",
              "      <td>0.14</td>\n",
              "      <td>13.471</td>\n",
              "      <td>24.34</td>\n",
              "      <td>4.948800e+08</td>\n",
              "      <td>3.673790e+09</td>\n",
              "      <td>8.085000e+07</td>\n",
              "      <td>6.628891e+09</td>\n",
              "      <td>Buy</td>\n",
              "      <td>Buy</td>\n",
              "      <td>0.465</td>\n",
              "      <td>16.70</td>\n",
              "      <td>-17.20</td>\n",
              "      <td>-6.94</td>\n",
              "      <td>-2.06</td>\n",
              "      <td>SIC-7374 Services-Computer Processing &amp; Data P...</td>\n",
              "      <td>9/22/2020</td>\n",
              "    </tr>\n",
              "  </tbody>\n",
              "</table>\n",
              "</div>"
            ],
            "text/plain": [
              "    Symbol  ...       Time\n",
              "15     AME  ...  9/22/2020\n",
              "22     APH  ...  9/22/2020\n",
              "42      BR  ...  9/22/2020\n",
              "51     CHD  ...  9/22/2020\n",
              "52     CHE  ...  9/22/2020\n",
              "93    ERIE  ...  9/22/2020\n",
              "96    ETFC  ...  9/22/2020\n",
              "130    HCI  ...  9/22/2020\n",
              "140    ICE  ...  9/22/2020\n",
              "148   INTU  ...  9/22/2020\n",
              "161     KL  ...  9/22/2020\n",
              "182   MCHP  ...  9/22/2020\n",
              "187    MKC  ...  9/22/2020\n",
              "192     MS  ...  9/22/2020\n",
              "254   SIVB  ...  9/22/2020\n",
              "287   USLM  ...  9/22/2020\n",
              "302    WNS  ...  9/22/2020\n",
              "304    XEL  ...  9/22/2020\n",
              "310     YY  ...  9/22/2020\n",
              "\n",
              "[19 rows x 23 columns]"
            ]
          },
          "metadata": {
            "tags": []
          },
          "execution_count": 34
        }
      ]
    },
    {
      "cell_type": "code",
      "metadata": {
        "id": "9L3pchYRfcVu",
        "colab_type": "code",
        "colab": {}
      },
      "source": [
        "Pr = operator.truediv(Shrt_Term['Market Cap'],Shrt_Term['Shares Out'])"
      ],
      "execution_count": 35,
      "outputs": []
    },
    {
      "cell_type": "code",
      "metadata": {
        "id": "VpjHHnYQgCtf",
        "colab_type": "code",
        "colab": {}
      },
      "source": [
        "Y = operator.sub(Shrt_Term['Last'],Pr)"
      ],
      "execution_count": 37,
      "outputs": []
    },
    {
      "cell_type": "code",
      "metadata": {
        "id": "q3YX88iEgJaq",
        "colab_type": "code",
        "colab": {
          "base_uri": "https://localhost:8080/",
          "height": 822
        },
        "outputId": "866806be-be09-471d-9a80-f8bfa9140ff4"
      },
      "source": [
        "Y"
      ],
      "execution_count": 38,
      "outputs": [
        {
          "output_type": "execute_result",
          "data": {
            "text/plain": [
              "15     1.000005\n",
              "16     0.320001\n",
              "19     0.770000\n",
              "22     1.129992\n",
              "35     0.320005\n",
              "42     1.129986\n",
              "44     0.490001\n",
              "50     0.650007\n",
              "51     1.949999\n",
              "52     2.780307\n",
              "63    -0.169999\n",
              "87     0.689989\n",
              "93    -4.860019\n",
              "96    -0.719996\n",
              "97     1.930005\n",
              "100   -2.769999\n",
              "109    1.100005\n",
              "115    0.409995\n",
              "118    0.169995\n",
              "126    0.079998\n",
              "130   -0.587370\n",
              "133    0.460002\n",
              "140   -0.470006\n",
              "148    9.579992\n",
              "156    0.050005\n",
              "161   -0.760001\n",
              "179   -0.060002\n",
              "181   -1.029993\n",
              "182    0.700000\n",
              "185   -0.039996\n",
              "187    1.989994\n",
              "192   -0.729999\n",
              "218   -0.050000\n",
              "236    0.569993\n",
              "254   -7.389991\n",
              "259    1.100023\n",
              "263    0.529999\n",
              "272   -0.040000\n",
              "274   -0.040001\n",
              "280    0.749999\n",
              "287   -0.948493\n",
              "289    0.249999\n",
              "300    1.140006\n",
              "302    1.230003\n",
              "304    0.229998\n",
              "310   -2.059994\n",
              "dtype: float64"
            ]
          },
          "metadata": {
            "tags": []
          },
          "execution_count": 38
        }
      ]
    },
    {
      "cell_type": "code",
      "metadata": {
        "id": "fSCFm2e2gWAZ",
        "colab_type": "code",
        "colab": {}
      },
      "source": [
        ""
      ],
      "execution_count": null,
      "outputs": []
    }
  ]
}