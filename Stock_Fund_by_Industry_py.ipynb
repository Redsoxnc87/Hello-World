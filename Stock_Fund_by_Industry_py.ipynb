{
  "nbformat": 4,
  "nbformat_minor": 0,
  "metadata": {
    "colab": {
      "name": "Stock_Fund_by_Industry.py",
      "provenance": [],
      "collapsed_sections": [],
      "authorship_tag": "ABX9TyMY9IJyumbmmZwUzSksAsop",
      "include_colab_link": true
    },
    "kernelspec": {
      "name": "python3",
      "display_name": "Python 3"
    }
  },
  "cells": [
    {
      "cell_type": "markdown",
      "metadata": {
        "id": "view-in-github",
        "colab_type": "text"
      },
      "source": [
        "<a href=\"https://colab.research.google.com/github/Redsoxnc87/Hello-World/blob/master/Stock_Fund_by_Industry_py.ipynb\" target=\"_parent\"><img src=\"https://colab.research.google.com/assets/colab-badge.svg\" alt=\"Open In Colab\"/></a>"
      ]
    },
    {
      "cell_type": "code",
      "metadata": {
        "id": "KlvaCObyUbk8"
      },
      "source": [
        "import pandas as pd \n",
        "import numpy as np \n",
        "import math \n",
        "import operator"
      ],
      "execution_count": 1,
      "outputs": []
    },
    {
      "cell_type": "code",
      "metadata": {
        "id": "u0PQJu0lUm2B"
      },
      "source": [
        "import pandas.plotting\n",
        "import matplotlib.pyplot as plt\n",
        "import requests\n",
        "import os \n",
        "import sys \n",
        "%matplotlib inline"
      ],
      "execution_count": 2,
      "outputs": []
    },
    {
      "cell_type": "code",
      "metadata": {
        "id": "1fsBo-VoUwHq"
      },
      "source": [
        "medinfo = pd.read_csv('MedInfosys_Final_Comparison.csv')\n",
        "retailAS = pd.read_csv('Retail_AppShoes_Comparison.csv')\n",
        "gendrugs = pd.read_csv('Generic_Drugs_Comparison.csv')\n",
        "wasteRem = pd.read_csv('Waste_Removal_Comp.csv')\n",
        "medProdct = pd.read_csv('MedPrdct_Comparison.csv')"
      ],
      "execution_count": 3,
      "outputs": []
    },
    {
      "cell_type": "code",
      "metadata": {
        "id": "PAoCYPJmVZZG"
      },
      "source": [
        "mrm = operator.mul(medinfo['Market Capitalization, $K'],1000)\n",
        "rrm = operator.mul(retailAS['Market Capitalization, $K'],1000)\n",
        "grm = operator.mul(gendrugs['Market Capitalization, $K'],1000)\n",
        "wrm = operator.mul(wasteRem['Market Capitalization, $K'],1000)\n",
        "mprm = operator.mul(medProdct['Market Capitalization, $K'],1000)"
      ],
      "execution_count": 4,
      "outputs": []
    },
    {
      "cell_type": "code",
      "metadata": {
        "id": "sDRA231gW3EE"
      },
      "source": [
        "mrs = operator.mul(medinfo['Shares Outstanding, K'],1000)\n",
        "rrs = operator.mul(retailAS['Shares Outstanding, K'],1000)\n",
        "grs = operator.mul(gendrugs['Shares Outstanding, K'],1000)\n",
        "wrs =  operator.mul(wasteRem['Shares Outstanding, K'],1000)\n",
        "mprs = operator.mul(medProdct['Shares Outstanding, K'],1000)"
      ],
      "execution_count": 5,
      "outputs": []
    },
    {
      "cell_type": "code",
      "metadata": {
        "id": "cSOIfvnyXXbi"
      },
      "source": [
        "medinfo['Real_Mcap']=(mrm)\n",
        "medinfo['Real_Shares']=(mrs)\n",
        "retailAS['Real_Mcap']=(rrm)\n",
        "retailAS['Real_Shares']=(rrs)"
      ],
      "execution_count": 6,
      "outputs": []
    },
    {
      "cell_type": "code",
      "metadata": {
        "id": "Jnc1P7jJX4NQ"
      },
      "source": [
        "gendrugs['Real_Mcap']=(grm)\n",
        "gendrugs['Real_Shares']=(grs)\n",
        "wasteRem['Real_Mcap']=(wrm)\n",
        "wasteRem['Real_Shares']=(wrs)"
      ],
      "execution_count": 7,
      "outputs": []
    },
    {
      "cell_type": "code",
      "metadata": {
        "id": "LsTUpH-JYNiB"
      },
      "source": [
        "medProdct['Real_Mcap']=(mprm)\n",
        "medProdct['Real_Shares']=(mprs)"
      ],
      "execution_count": 8,
      "outputs": []
    },
    {
      "cell_type": "code",
      "metadata": {
        "id": "XOnAi4X1YZAN"
      },
      "source": [
        "mni = operator.truediv(medinfo['Annual Net Income'],medinfo['Real_Shares'])\n",
        "rni = operator.truediv(retailAS['Annual Net Income'],medinfo['Real_Shares'])\n",
        "gni = operator.truediv(gendrugs['Annual Net Income'],gendrugs['Real_Shares'])\n",
        "wni = operator.truediv(wasteRem['Annual Net Income'],wasteRem['Real_Shares'])\n",
        "mpni = operator.truediv(medProdct['Annual Net Income'],medProdct['Real_Shares'])"
      ],
      "execution_count": 9,
      "outputs": []
    },
    {
      "cell_type": "code",
      "metadata": {
        "id": "VLcKqh6ZagKJ"
      },
      "source": [
        "msm = operator.truediv(medinfo['Annual Sales'],medinfo['Real_Mcap'])\n",
        "rsm = operator.truediv(retailAS['Annual Sales'],retailAS['Real_Mcap'])\n",
        "gsm = operator.truediv(gendrugs['Annual Sales'],gendrugs['Real_Mcap'])\n",
        "wsm = operator.truediv(wasteRem['Annual Sales'],wasteRem['Real_Mcap'])\n",
        "mpsm = operator.truediv(medProdct['Annual Sales'],medProdct['Real_Mcap'])"
      ],
      "execution_count": 10,
      "outputs": []
    },
    {
      "cell_type": "code",
      "metadata": {
        "id": "rabMFy4gbeBT"
      },
      "source": [
        ""
      ],
      "execution_count": null,
      "outputs": []
    }
  ]
}