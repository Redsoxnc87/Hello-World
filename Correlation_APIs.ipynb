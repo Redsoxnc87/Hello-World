{
  "nbformat": 4,
  "nbformat_minor": 0,
  "metadata": {
    "colab": {
      "name": "Correlation_APIs.ipynb",
      "provenance": [],
      "authorship_tag": "ABX9TyNbOxUA4vlz+BE/zcy2aaYC",
      "include_colab_link": true
    },
    "kernelspec": {
      "name": "python3",
      "display_name": "Python 3"
    }
  },
  "cells": [
    {
      "cell_type": "markdown",
      "metadata": {
        "id": "view-in-github",
        "colab_type": "text"
      },
      "source": [
        "<a href=\"https://colab.research.google.com/github/Redsoxnc87/Hello-World/blob/master/Correlation_APIs.ipynb\" target=\"_parent\"><img src=\"https://colab.research.google.com/assets/colab-badge.svg\" alt=\"Open In Colab\"/></a>"
      ]
    },
    {
      "cell_type": "code",
      "metadata": {
        "id": "Zfpi6Ot1N0_p",
        "colab_type": "code",
        "colab": {}
      },
      "source": [
        "a = 152463000*12"
      ],
      "execution_count": 3,
      "outputs": []
    },
    {
      "cell_type": "code",
      "metadata": {
        "id": "4ez0YxAHN5Wv",
        "colab_type": "code",
        "colab": {}
      },
      "source": [
        "b =2000000000000*4"
      ],
      "execution_count": 4,
      "outputs": []
    },
    {
      "cell_type": "code",
      "metadata": {
        "id": "aJA5tHQiOFao",
        "colab_type": "code",
        "colab": {
          "base_uri": "https://localhost:8080/",
          "height": 34
        },
        "outputId": "3af1c587-d8e1-4c6f-c366-6017c669882d"
      },
      "source": [
        "b - a"
      ],
      "execution_count": 5,
      "outputs": [
        {
          "output_type": "execute_result",
          "data": {
            "text/plain": [
              "7998170444000"
            ]
          },
          "metadata": {
            "tags": []
          },
          "execution_count": 5
        }
      ]
    },
    {
      "cell_type": "code",
      "metadata": {
        "id": "iS4232O3OLCa",
        "colab_type": "code",
        "colab": {}
      },
      "source": [
        "import pandas as pd \n",
        "import numpy as np \n",
        "import math \n",
        "import scipy \n",
        "import sklearn\n",
        "import pandas.plotting\n",
        "import requests \n",
        "import operator\n",
        "import scipy.stats"
      ],
      "execution_count": 1,
      "outputs": []
    },
    {
      "cell_type": "code",
      "metadata": {
        "id": "qzs61TZsdIIg",
        "colab_type": "code",
        "colab": {
          "base_uri": "https://localhost:8080/",
          "height": 34
        },
        "outputId": "69799a2c-3e4a-4ac3-9d91-794d95eae410"
      },
      "source": [
        "81.89 * 17483000"
      ],
      "execution_count": 2,
      "outputs": [
        {
          "output_type": "execute_result",
          "data": {
            "text/plain": [
              "1431682870.0"
            ]
          },
          "metadata": {
            "tags": []
          },
          "execution_count": 2
        }
      ]
    },
    {
      "cell_type": "code",
      "metadata": {
        "id": "SpQsofr4dMsn",
        "colab_type": "code",
        "colab": {}
      },
      "source": [
        "boa = pd.read_csv('bac_weekly_historical-data-07-30-2020.csv')"
      ],
      "execution_count": 3,
      "outputs": []
    },
    {
      "cell_type": "code",
      "metadata": {
        "id": "zgXlD10KiTid",
        "colab_type": "code",
        "colab": {
          "base_uri": "https://localhost:8080/",
          "height": 282
        },
        "outputId": "f9271d93-2888-4eb4-f0ce-733727d64e3f"
      },
      "source": [
        "boa.describe()"
      ],
      "execution_count": 4,
      "outputs": [
        {
          "output_type": "execute_result",
          "data": {
            "text/html": [
              "<div>\n",
              "<style scoped>\n",
              "    .dataframe tbody tr th:only-of-type {\n",
              "        vertical-align: middle;\n",
              "    }\n",
              "\n",
              "    .dataframe tbody tr th {\n",
              "        vertical-align: top;\n",
              "    }\n",
              "\n",
              "    .dataframe thead th {\n",
              "        text-align: right;\n",
              "    }\n",
              "</style>\n",
              "<table border=\"1\" class=\"dataframe\">\n",
              "  <thead>\n",
              "    <tr style=\"text-align: right;\">\n",
              "      <th></th>\n",
              "      <th>Open</th>\n",
              "      <th>High</th>\n",
              "      <th>Low</th>\n",
              "      <th>Last</th>\n",
              "      <th>Change</th>\n",
              "      <th>Volume</th>\n",
              "    </tr>\n",
              "  </thead>\n",
              "  <tbody>\n",
              "    <tr>\n",
              "      <th>count</th>\n",
              "      <td>1075.000000</td>\n",
              "      <td>1075.000000</td>\n",
              "      <td>1075.000000</td>\n",
              "      <td>1075.000000</td>\n",
              "      <td>1075.00000</td>\n",
              "      <td>1.075000e+03</td>\n",
              "    </tr>\n",
              "    <tr>\n",
              "      <th>mean</th>\n",
              "      <td>26.641851</td>\n",
              "      <td>27.382363</td>\n",
              "      <td>25.883568</td>\n",
              "      <td>26.653033</td>\n",
              "      <td>0.00014</td>\n",
              "      <td>8.516303e+07</td>\n",
              "    </tr>\n",
              "    <tr>\n",
              "      <th>std</th>\n",
              "      <td>13.081858</td>\n",
              "      <td>13.203893</td>\n",
              "      <td>12.954568</td>\n",
              "      <td>13.093863</td>\n",
              "      <td>1.24615</td>\n",
              "      <td>9.742824e+07</td>\n",
              "    </tr>\n",
              "    <tr>\n",
              "      <th>min</th>\n",
              "      <td>3.220000</td>\n",
              "      <td>4.080000</td>\n",
              "      <td>2.530000</td>\n",
              "      <td>3.140000</td>\n",
              "      <td>-13.61000</td>\n",
              "      <td>5.193600e+06</td>\n",
              "    </tr>\n",
              "    <tr>\n",
              "      <th>25%</th>\n",
              "      <td>15.375000</td>\n",
              "      <td>15.810000</td>\n",
              "      <td>14.960000</td>\n",
              "      <td>15.380000</td>\n",
              "      <td>-0.49000</td>\n",
              "      <td>1.334606e+07</td>\n",
              "    </tr>\n",
              "    <tr>\n",
              "      <th>50%</th>\n",
              "      <td>25.180000</td>\n",
              "      <td>26.900000</td>\n",
              "      <td>24.280000</td>\n",
              "      <td>25.340000</td>\n",
              "      <td>0.05000</td>\n",
              "      <td>6.010076e+07</td>\n",
              "    </tr>\n",
              "    <tr>\n",
              "      <th>75%</th>\n",
              "      <td>36.310000</td>\n",
              "      <td>37.430000</td>\n",
              "      <td>35.165000</td>\n",
              "      <td>36.365000</td>\n",
              "      <td>0.55000</td>\n",
              "      <td>1.133192e+08</td>\n",
              "    </tr>\n",
              "    <tr>\n",
              "      <th>max</th>\n",
              "      <td>55.000000</td>\n",
              "      <td>55.080000</td>\n",
              "      <td>54.270000</td>\n",
              "      <td>54.850000</td>\n",
              "      <td>6.17000</td>\n",
              "      <td>7.363447e+08</td>\n",
              "    </tr>\n",
              "  </tbody>\n",
              "</table>\n",
              "</div>"
            ],
            "text/plain": [
              "              Open         High  ...      Change        Volume\n",
              "count  1075.000000  1075.000000  ...  1075.00000  1.075000e+03\n",
              "mean     26.641851    27.382363  ...     0.00014  8.516303e+07\n",
              "std      13.081858    13.203893  ...     1.24615  9.742824e+07\n",
              "min       3.220000     4.080000  ...   -13.61000  5.193600e+06\n",
              "25%      15.375000    15.810000  ...    -0.49000  1.334606e+07\n",
              "50%      25.180000    26.900000  ...     0.05000  6.010076e+07\n",
              "75%      36.310000    37.430000  ...     0.55000  1.133192e+08\n",
              "max      55.000000    55.080000  ...     6.17000  7.363447e+08\n",
              "\n",
              "[8 rows x 6 columns]"
            ]
          },
          "metadata": {
            "tags": []
          },
          "execution_count": 4
        }
      ]
    },
    {
      "cell_type": "code",
      "metadata": {
        "id": "lNHx8-SQiYIT",
        "colab_type": "code",
        "colab": {}
      },
      "source": [
        "a = boa.Change.sample(12)"
      ],
      "execution_count": 5,
      "outputs": []
    },
    {
      "cell_type": "code",
      "metadata": {
        "id": "HWoUOf9gjE1W",
        "colab_type": "code",
        "colab": {}
      },
      "source": [
        "b = boa.Change.sample(12)\n",
        "c = boa.Change.sample(12)"
      ],
      "execution_count": 7,
      "outputs": []
    },
    {
      "cell_type": "code",
      "metadata": {
        "id": "42r_kolojFr-",
        "colab_type": "code",
        "colab": {
          "base_uri": "https://localhost:8080/",
          "height": 34
        },
        "outputId": "f1911faf-8e2b-442b-f3a6-7f0c989cb28b"
      },
      "source": [
        "a.mean()"
      ],
      "execution_count": 8,
      "outputs": [
        {
          "output_type": "execute_result",
          "data": {
            "text/plain": [
              "-0.3233333333333333"
            ]
          },
          "metadata": {
            "tags": []
          },
          "execution_count": 8
        }
      ]
    },
    {
      "cell_type": "code",
      "metadata": {
        "id": "Gwccq6KfjT9s",
        "colab_type": "code",
        "colab": {
          "base_uri": "https://localhost:8080/",
          "height": 34
        },
        "outputId": "ef6caea8-21b4-456d-daf6-7b532808961c"
      },
      "source": [
        "boa.corr()"
      ],
      "execution_count": 9,
      "outputs": [
        {
          "output_type": "execute_result",
          "data": {
            "text/plain": [
              "-0.085"
            ]
          },
          "metadata": {
            "tags": []
          },
          "execution_count": 9
        }
      ]
    },
    {
      "cell_type": "code",
      "metadata": {
        "id": "GCGdpRBvjVZc",
        "colab_type": "code",
        "colab": {}
      },
      "source": [
        "MofM = c.mean() + b.mean() + a.mean()"
      ],
      "execution_count": 12,
      "outputs": []
    },
    {
      "cell_type": "code",
      "metadata": {
        "id": "UZvbD0zTjW0G",
        "colab_type": "code",
        "colab": {
          "base_uri": "https://localhost:8080/",
          "height": 34
        },
        "outputId": "5865835a-03b9-4685-fbb9-5426e9c31255"
      },
      "source": [
        "MofM/3"
      ],
      "execution_count": 13,
      "outputs": [
        {
          "output_type": "execute_result",
          "data": {
            "text/plain": [
              "-0.11069444444444443"
            ]
          },
          "metadata": {
            "tags": []
          },
          "execution_count": 13
        }
      ]
    },
    {
      "cell_type": "code",
      "metadata": {
        "id": "j0gE0Kx3jmcU",
        "colab_type": "code",
        "colab": {
          "base_uri": "https://localhost:8080/",
          "height": 282
        },
        "outputId": "e66b4695-1af0-456c-9566-37c299f40da2"
      },
      "source": [
        "boa.Change.hist()"
      ],
      "execution_count": 14,
      "outputs": [
        {
          "output_type": "execute_result",
          "data": {
            "text/plain": [
              "<matplotlib.axes._subplots.AxesSubplot at 0x7f787deb74a8>"
            ]
          },
          "metadata": {
            "tags": []
          },
          "execution_count": 14
        },
        {
          "output_type": "display_data",
          "data": {
            "image/png": "[encoded data removed]",
            "text/plain": [
              "<Figure size 432x288 with 1 Axes>"
            ]
          },
          "metadata": {
            "tags": [],
            "needs_background": "light"
          }
        }
      ]
    },
    {
      "cell_type": "code",
      "metadata": {
        "id": "bKgZ2gJekDh4",
        "colab_type": "code",
        "colab": {}
      },
      "source": [
        "wfc = pd.read_csv('wfc_weekly_historical-data-07-30-2020.csv')"
      ],
      "execution_count": 15,
      "outputs": []
    },
    {
      "cell_type": "code",
      "metadata": {
        "id": "DNqqApbUmblb",
        "colab_type": "code",
        "colab": {
          "base_uri": "https://localhost:8080/",
          "height": 282
        },
        "outputId": "d3b87940-0b06-4a97-9e0c-32c9dfb1ec26"
      },
      "source": [
        "wfc.describe()"
      ],
      "execution_count": 16,
      "outputs": [
        {
          "output_type": "execute_result",
          "data": {
            "text/html": [
              "<div>\n",
              "<style scoped>\n",
              "    .dataframe tbody tr th:only-of-type {\n",
              "        vertical-align: middle;\n",
              "    }\n",
              "\n",
              "    .dataframe tbody tr th {\n",
              "        vertical-align: top;\n",
              "    }\n",
              "\n",
              "    .dataframe thead th {\n",
              "        text-align: right;\n",
              "    }\n",
              "</style>\n",
              "<table border=\"1\" class=\"dataframe\">\n",
              "  <thead>\n",
              "    <tr style=\"text-align: right;\">\n",
              "      <th></th>\n",
              "      <th>Open</th>\n",
              "      <th>High</th>\n",
              "      <th>Low</th>\n",
              "      <th>Last</th>\n",
              "      <th>Change</th>\n",
              "      <th>Volume</th>\n",
              "    </tr>\n",
              "  </thead>\n",
              "  <tbody>\n",
              "    <tr>\n",
              "      <th>count</th>\n",
              "      <td>1075.000000</td>\n",
              "      <td>1075.000000</td>\n",
              "      <td>1075.000000</td>\n",
              "      <td>1075.000000</td>\n",
              "      <td>1075.000000</td>\n",
              "      <td>1.075000e+03</td>\n",
              "    </tr>\n",
              "    <tr>\n",
              "      <th>mean</th>\n",
              "      <td>35.786419</td>\n",
              "      <td>36.695860</td>\n",
              "      <td>34.853624</td>\n",
              "      <td>35.800358</td>\n",
              "      <td>0.003628</td>\n",
              "      <td>2.370703e+07</td>\n",
              "    </tr>\n",
              "    <tr>\n",
              "      <th>std</th>\n",
              "      <td>11.870674</td>\n",
              "      <td>11.899067</td>\n",
              "      <td>11.844370</td>\n",
              "      <td>11.877284</td>\n",
              "      <td>1.437435</td>\n",
              "      <td>2.568346e+07</td>\n",
              "    </tr>\n",
              "    <tr>\n",
              "      <th>min</th>\n",
              "      <td>8.650000</td>\n",
              "      <td>11.770000</td>\n",
              "      <td>7.800000</td>\n",
              "      <td>8.610000</td>\n",
              "      <td>-7.940000</td>\n",
              "      <td>3.561320e+06</td>\n",
              "    </tr>\n",
              "    <tr>\n",
              "      <th>25%</th>\n",
              "      <td>26.332500</td>\n",
              "      <td>27.445000</td>\n",
              "      <td>25.217500</td>\n",
              "      <td>26.250000</td>\n",
              "      <td>-0.557500</td>\n",
              "      <td>9.735060e+06</td>\n",
              "    </tr>\n",
              "    <tr>\n",
              "      <th>50%</th>\n",
              "      <td>31.760000</td>\n",
              "      <td>32.550000</td>\n",
              "      <td>30.750000</td>\n",
              "      <td>31.660000</td>\n",
              "      <td>0.010000</td>\n",
              "      <td>1.661204e+07</td>\n",
              "    </tr>\n",
              "    <tr>\n",
              "      <th>75%</th>\n",
              "      <td>47.875000</td>\n",
              "      <td>48.712500</td>\n",
              "      <td>46.730000</td>\n",
              "      <td>47.850000</td>\n",
              "      <td>0.670000</td>\n",
              "      <td>2.773225e+07</td>\n",
              "    </tr>\n",
              "    <tr>\n",
              "      <th>max</th>\n",
              "      <td>65.780000</td>\n",
              "      <td>66.310000</td>\n",
              "      <td>63.970000</td>\n",
              "      <td>65.930000</td>\n",
              "      <td>8.570000</td>\n",
              "      <td>2.881822e+08</td>\n",
              "    </tr>\n",
              "  </tbody>\n",
              "</table>\n",
              "</div>"
            ],
            "text/plain": [
              "              Open         High  ...       Change        Volume\n",
              "count  1075.000000  1075.000000  ...  1075.000000  1.075000e+03\n",
              "mean     35.786419    36.695860  ...     0.003628  2.370703e+07\n",
              "std      11.870674    11.899067  ...     1.437435  2.568346e+07\n",
              "min       8.650000    11.770000  ...    -7.940000  3.561320e+06\n",
              "25%      26.332500    27.445000  ...    -0.557500  9.735060e+06\n",
              "50%      31.760000    32.550000  ...     0.010000  1.661204e+07\n",
              "75%      47.875000    48.712500  ...     0.670000  2.773225e+07\n",
              "max      65.780000    66.310000  ...     8.570000  2.881822e+08\n",
              "\n",
              "[8 rows x 6 columns]"
            ]
          },
          "metadata": {
            "tags": []
          },
          "execution_count": 16
        }
      ]
    },
    {
      "cell_type": "code",
      "metadata": {
        "id": "LUrRL1aGmc9l",
        "colab_type": "code",
        "colab": {}
      },
      "source": [
        "d = wfc.Change.sample(12)\n",
        "e = wfc.Change.sample(12)\n",
        "f= wfc.Change.sample(12)"
      ],
      "execution_count": 17,
      "outputs": []
    },
    {
      "cell_type": "code",
      "metadata": {
        "id": "QTeZ4uUhm-Ix",
        "colab_type": "code",
        "colab": {}
      },
      "source": [
        "Ms = (d.mean()+e.mean()+f.mean()) / 3"
      ],
      "execution_count": 18,
      "outputs": []
    },
    {
      "cell_type": "code",
      "metadata": {
        "id": "vWwWtlVKnI2d",
        "colab_type": "code",
        "colab": {
          "base_uri": "https://localhost:8080/",
          "height": 34
        },
        "outputId": "c6390788-4aa0-42b5-addc-fa9c9f9a97da"
      },
      "source": [
        "Ms"
      ],
      "execution_count": 19,
      "outputs": [
        {
          "output_type": "execute_result",
          "data": {
            "text/plain": [
              "-0.13250000000000065"
            ]
          },
          "metadata": {
            "tags": []
          },
          "execution_count": 19
        }
      ]
    },
    {
      "cell_type": "code",
      "metadata": {
        "id": "Nk6gjvoAnJg1",
        "colab_type": "code",
        "colab": {
          "base_uri": "https://localhost:8080/",
          "height": 194
        },
        "outputId": "6cd2af5c-5a60-4755-a543-7c99cfca4576"
      },
      "source": [
        "wfc.tail()"
      ],
      "execution_count": 20,
      "outputs": [
        {
          "output_type": "execute_result",
          "data": {
            "text/html": [
              "<div>\n",
              "<style scoped>\n",
              "    .dataframe tbody tr th:only-of-type {\n",
              "        vertical-align: middle;\n",
              "    }\n",
              "\n",
              "    .dataframe tbody tr th {\n",
              "        vertical-align: top;\n",
              "    }\n",
              "\n",
              "    .dataframe thead th {\n",
              "        text-align: right;\n",
              "    }\n",
              "</style>\n",
              "<table border=\"1\" class=\"dataframe\">\n",
              "  <thead>\n",
              "    <tr style=\"text-align: right;\">\n",
              "      <th></th>\n",
              "      <th>Time</th>\n",
              "      <th>Open</th>\n",
              "      <th>High</th>\n",
              "      <th>Low</th>\n",
              "      <th>Last</th>\n",
              "      <th>Change</th>\n",
              "      <th>Volume</th>\n",
              "    </tr>\n",
              "  </thead>\n",
              "  <tbody>\n",
              "    <tr>\n",
              "      <th>1071</th>\n",
              "      <td>01/17/2000</td>\n",
              "      <td>19.875</td>\n",
              "      <td>20.125</td>\n",
              "      <td>17.905</td>\n",
              "      <td>18.315</td>\n",
              "      <td>-2.530</td>\n",
              "      <td>14716600.0</td>\n",
              "    </tr>\n",
              "    <tr>\n",
              "      <th>1072</th>\n",
              "      <td>01/10/2000</td>\n",
              "      <td>19.190</td>\n",
              "      <td>21.875</td>\n",
              "      <td>18.530</td>\n",
              "      <td>20.845</td>\n",
              "      <td>1.280</td>\n",
              "      <td>8945720.0</td>\n",
              "    </tr>\n",
              "    <tr>\n",
              "      <th>1073</th>\n",
              "      <td>01/03/2000</td>\n",
              "      <td>20.155</td>\n",
              "      <td>20.220</td>\n",
              "      <td>18.000</td>\n",
              "      <td>19.565</td>\n",
              "      <td>-0.655</td>\n",
              "      <td>9708080.0</td>\n",
              "    </tr>\n",
              "    <tr>\n",
              "      <th>1074</th>\n",
              "      <td>12/27/1999</td>\n",
              "      <td>20.530</td>\n",
              "      <td>21.000</td>\n",
              "      <td>20.065</td>\n",
              "      <td>20.220</td>\n",
              "      <td>-0.530</td>\n",
              "      <td>3895600.0</td>\n",
              "    </tr>\n",
              "    <tr>\n",
              "      <th>1075</th>\n",
              "      <td>Downloaded from Barchart.com as of 07-30-2020 ...</td>\n",
              "      <td>NaN</td>\n",
              "      <td>NaN</td>\n",
              "      <td>NaN</td>\n",
              "      <td>NaN</td>\n",
              "      <td>NaN</td>\n",
              "      <td>NaN</td>\n",
              "    </tr>\n",
              "  </tbody>\n",
              "</table>\n",
              "</div>"
            ],
            "text/plain": [
              "                                                   Time  ...      Volume\n",
              "1071                                         01/17/2000  ...  14716600.0\n",
              "1072                                         01/10/2000  ...   8945720.0\n",
              "1073                                         01/03/2000  ...   9708080.0\n",
              "1074                                         12/27/1999  ...   3895600.0\n",
              "1075  Downloaded from Barchart.com as of 07-30-2020 ...  ...         NaN\n",
              "\n",
              "[5 rows x 7 columns]"
            ]
          },
          "metadata": {
            "tags": []
          },
          "execution_count": 20
        }
      ]
    },
    {
      "cell_type": "code",
      "metadata": {
        "id": "21EMVekVnx7n",
        "colab_type": "code",
        "colab": {
          "base_uri": "https://localhost:8080/",
          "height": 34
        },
        "outputId": "15a25c9c-a7fb-47d9-e360-109101176e60"
      },
      "source": [
        "6554000000*3.1"
      ],
      "execution_count": 22,
      "outputs": [
        {
          "output_type": "execute_result",
          "data": {
            "text/plain": [
              "20317400000.0"
            ]
          },
          "metadata": {
            "tags": []
          },
          "execution_count": 22
        }
      ]
    },
    {
      "cell_type": "code",
      "metadata": {
        "id": "7IUfZArJopLV",
        "colab_type": "code",
        "colab": {}
      },
      "source": [
        "wfc_mean = wfc.Last.mean()"
      ],
      "execution_count": 23,
      "outputs": []
    },
    {
      "cell_type": "code",
      "metadata": {
        "id": "a2LzfsFHsxut",
        "colab_type": "code",
        "colab": {}
      },
      "source": [
        "boa_mean = boa.Last.mean()"
      ],
      "execution_count": 25,
      "outputs": []
    },
    {
      "cell_type": "code",
      "metadata": {
        "id": "mGFdDer9s1V3",
        "colab_type": "code",
        "colab": {}
      },
      "source": [
        "bo_co = operator.sub(boa.Last,boa_mean)"
      ],
      "execution_count": 26,
      "outputs": []
    },
    {
      "cell_type": "code",
      "metadata": {
        "id": "r6Vft_eWtDgF",
        "colab_type": "code",
        "colab": {}
      },
      "source": [
        "wfc_co = operator.sub(wfc.Last,wfc_mean)"
      ],
      "execution_count": 27,
      "outputs": []
    },
    {
      "cell_type": "code",
      "metadata": {
        "id": "xcoxxok1tJsf",
        "colab_type": "code",
        "colab": {}
      },
      "source": [
        "bo_wfc = bo_co*wfc_co"
      ],
      "execution_count": 28,
      "outputs": []
    },
    {
      "cell_type": "code",
      "metadata": {
        "id": "_iV9mksVtRvz",
        "colab_type": "code",
        "colab": {}
      },
      "source": [
        "coVar =bo_wfc/1075"
      ],
      "execution_count": 29,
      "outputs": []
    },
    {
      "cell_type": "code",
      "metadata": {
        "id": "CAdy3o1XtU40",
        "colab_type": "code",
        "colab": {}
      },
      "source": [
        "xco = bo_co.sum()/1075"
      ],
      "execution_count": 32,
      "outputs": []
    },
    {
      "cell_type": "code",
      "metadata": {
        "id": "yj5LZ7WytVu0",
        "colab_type": "code",
        "colab": {}
      },
      "source": [
        "yco = wfc_co.sum()/1075"
      ],
      "execution_count": 33,
      "outputs": []
    },
    {
      "cell_type": "code",
      "metadata": {
        "id": "UHZQwLbZuLOy",
        "colab_type": "code",
        "colab": {}
      },
      "source": [
        "z = xco * yco"
      ],
      "execution_count": 34,
      "outputs": []
    },
    {
      "cell_type": "code",
      "metadata": {
        "id": "bGLOxTySuToF",
        "colab_type": "code",
        "colab": {
          "base_uri": "https://localhost:8080/",
          "height": 34
        },
        "outputId": "eb5f9b1b-8455-47fc-9c62-6d1a1cde255d"
      },
      "source": [
        "z/1075"
      ],
      "execution_count": 35,
      "outputs": [
        {
          "output_type": "execute_result",
          "data": {
            "text/plain": [
              "-7.5041044464292175e-31"
            ]
          },
          "metadata": {
            "tags": []
          },
          "execution_count": 35
        }
      ]
    },
    {
      "cell_type": "code",
      "metadata": {
        "id": "cq0I77CruVJf",
        "colab_type": "code",
        "colab": {}
      },
      "source": [
        "combo = pd.read_csv('BOA_WFC.csv')"
      ],
      "execution_count": 36,
      "outputs": []
    },
    {
      "cell_type": "code",
      "metadata": {
        "id": "9A9kWdhezcTU",
        "colab_type": "code",
        "colab": {
          "base_uri": "https://localhost:8080/",
          "height": 282
        },
        "outputId": "c5021601-f8d2-4ae5-c6fa-19940fc2c50e"
      },
      "source": [
        "combo.describe()"
      ],
      "execution_count": 37,
      "outputs": [
        {
          "output_type": "execute_result",
          "data": {
            "text/html": [
              "<div>\n",
              "<style scoped>\n",
              "    .dataframe tbody tr th:only-of-type {\n",
              "        vertical-align: middle;\n",
              "    }\n",
              "\n",
              "    .dataframe tbody tr th {\n",
              "        vertical-align: top;\n",
              "    }\n",
              "\n",
              "    .dataframe thead th {\n",
              "        text-align: right;\n",
              "    }\n",
              "</style>\n",
              "<table border=\"1\" class=\"dataframe\">\n",
              "  <thead>\n",
              "    <tr style=\"text-align: right;\">\n",
              "      <th></th>\n",
              "      <th>Boa_Last</th>\n",
              "      <th>Boa_Change</th>\n",
              "      <th>Last</th>\n",
              "      <th>Change</th>\n",
              "    </tr>\n",
              "  </thead>\n",
              "  <tbody>\n",
              "    <tr>\n",
              "      <th>count</th>\n",
              "      <td>1075.000000</td>\n",
              "      <td>1075.00000</td>\n",
              "      <td>1075.000000</td>\n",
              "      <td>1075.000000</td>\n",
              "    </tr>\n",
              "    <tr>\n",
              "      <th>mean</th>\n",
              "      <td>26.653033</td>\n",
              "      <td>0.00014</td>\n",
              "      <td>35.800358</td>\n",
              "      <td>0.003628</td>\n",
              "    </tr>\n",
              "    <tr>\n",
              "      <th>std</th>\n",
              "      <td>13.093863</td>\n",
              "      <td>1.24615</td>\n",
              "      <td>11.877284</td>\n",
              "      <td>1.437435</td>\n",
              "    </tr>\n",
              "    <tr>\n",
              "      <th>min</th>\n",
              "      <td>3.140000</td>\n",
              "      <td>-13.61000</td>\n",
              "      <td>8.610000</td>\n",
              "      <td>-7.940000</td>\n",
              "    </tr>\n",
              "    <tr>\n",
              "      <th>25%</th>\n",
              "      <td>15.380000</td>\n",
              "      <td>-0.49000</td>\n",
              "      <td>26.250000</td>\n",
              "      <td>-0.557500</td>\n",
              "    </tr>\n",
              "    <tr>\n",
              "      <th>50%</th>\n",
              "      <td>25.340000</td>\n",
              "      <td>0.05000</td>\n",
              "      <td>31.660000</td>\n",
              "      <td>0.010000</td>\n",
              "    </tr>\n",
              "    <tr>\n",
              "      <th>75%</th>\n",
              "      <td>36.365000</td>\n",
              "      <td>0.55000</td>\n",
              "      <td>47.850000</td>\n",
              "      <td>0.670000</td>\n",
              "    </tr>\n",
              "    <tr>\n",
              "      <th>max</th>\n",
              "      <td>54.850000</td>\n",
              "      <td>6.17000</td>\n",
              "      <td>65.930000</td>\n",
              "      <td>8.570000</td>\n",
              "    </tr>\n",
              "  </tbody>\n",
              "</table>\n",
              "</div>"
            ],
            "text/plain": [
              "          Boa_Last  Boa_Change         Last       Change\n",
              "count  1075.000000  1075.00000  1075.000000  1075.000000\n",
              "mean     26.653033     0.00014    35.800358     0.003628\n",
              "std      13.093863     1.24615    11.877284     1.437435\n",
              "min       3.140000   -13.61000     8.610000    -7.940000\n",
              "25%      15.380000    -0.49000    26.250000    -0.557500\n",
              "50%      25.340000     0.05000    31.660000     0.010000\n",
              "75%      36.365000     0.55000    47.850000     0.670000\n",
              "max      54.850000     6.17000    65.930000     8.570000"
            ]
          },
          "metadata": {
            "tags": []
          },
          "execution_count": 37
        }
      ]
    },
    {
      "cell_type": "code",
      "metadata": {
        "id": "aGM0DZbHzePy",
        "colab_type": "code",
        "colab": {
          "base_uri": "https://localhost:8080/",
          "height": 165
        },
        "outputId": "d22b4209-130d-4118-89f0-0e443fff0d0b"
      },
      "source": [
        "combo.corr(method='pearson',min_periods=12)"
      ],
      "execution_count": 38,
      "outputs": [
        {
          "output_type": "execute_result",
          "data": {
            "text/html": [
              "<div>\n",
              "<style scoped>\n",
              "    .dataframe tbody tr th:only-of-type {\n",
              "        vertical-align: middle;\n",
              "    }\n",
              "\n",
              "    .dataframe tbody tr th {\n",
              "        vertical-align: top;\n",
              "    }\n",
              "\n",
              "    .dataframe thead th {\n",
              "        text-align: right;\n",
              "    }\n",
              "</style>\n",
              "<table border=\"1\" class=\"dataframe\">\n",
              "  <thead>\n",
              "    <tr style=\"text-align: right;\">\n",
              "      <th></th>\n",
              "      <th>Boa_Last</th>\n",
              "      <th>Boa_Change</th>\n",
              "      <th>Last</th>\n",
              "      <th>Change</th>\n",
              "    </tr>\n",
              "  </thead>\n",
              "  <tbody>\n",
              "    <tr>\n",
              "      <th>Boa_Last</th>\n",
              "      <td>1.000000</td>\n",
              "      <td>0.047569</td>\n",
              "      <td>-0.126985</td>\n",
              "      <td>0.016938</td>\n",
              "    </tr>\n",
              "    <tr>\n",
              "      <th>Boa_Change</th>\n",
              "      <td>0.047569</td>\n",
              "      <td>1.000000</td>\n",
              "      <td>0.065679</td>\n",
              "      <td>0.725521</td>\n",
              "    </tr>\n",
              "    <tr>\n",
              "      <th>Last</th>\n",
              "      <td>-0.126985</td>\n",
              "      <td>0.065679</td>\n",
              "      <td>1.000000</td>\n",
              "      <td>0.057726</td>\n",
              "    </tr>\n",
              "    <tr>\n",
              "      <th>Change</th>\n",
              "      <td>0.016938</td>\n",
              "      <td>0.725521</td>\n",
              "      <td>0.057726</td>\n",
              "      <td>1.000000</td>\n",
              "    </tr>\n",
              "  </tbody>\n",
              "</table>\n",
              "</div>"
            ],
            "text/plain": [
              "            Boa_Last  Boa_Change      Last    Change\n",
              "Boa_Last    1.000000    0.047569 -0.126985  0.016938\n",
              "Boa_Change  0.047569    1.000000  0.065679  0.725521\n",
              "Last       -0.126985    0.065679  1.000000  0.057726\n",
              "Change      0.016938    0.725521  0.057726  1.000000"
            ]
          },
          "metadata": {
            "tags": []
          },
          "execution_count": 38
        }
      ]
    },
    {
      "cell_type": "code",
      "metadata": {
        "id": "fFORcUhS0Aqn",
        "colab_type": "code",
        "colab": {}
      },
      "source": [
        "gld_spy = pd.read_csv('Gld_to_Spy_weekly.csv')"
      ],
      "execution_count": 41,
      "outputs": []
    },
    {
      "cell_type": "code",
      "metadata": {
        "id": "F-4a3Lpr2QGM",
        "colab_type": "code",
        "colab": {
          "base_uri": "https://localhost:8080/",
          "height": 282
        },
        "outputId": "d272edf4-7b83-4bae-905f-19cc5171a11f"
      },
      "source": [
        "gld_spy.describe()"
      ],
      "execution_count": 42,
      "outputs": [
        {
          "output_type": "execute_result",
          "data": {
            "text/html": [
              "<div>\n",
              "<style scoped>\n",
              "    .dataframe tbody tr th:only-of-type {\n",
              "        vertical-align: middle;\n",
              "    }\n",
              "\n",
              "    .dataframe tbody tr th {\n",
              "        vertical-align: top;\n",
              "    }\n",
              "\n",
              "    .dataframe thead th {\n",
              "        text-align: right;\n",
              "    }\n",
              "</style>\n",
              "<table border=\"1\" class=\"dataframe\">\n",
              "  <thead>\n",
              "    <tr style=\"text-align: right;\">\n",
              "      <th></th>\n",
              "      <th>Gld_Last</th>\n",
              "      <th>Gld_Change</th>\n",
              "      <th>Spy_Last</th>\n",
              "      <th>Spy_Change</th>\n",
              "    </tr>\n",
              "  </thead>\n",
              "  <tbody>\n",
              "    <tr>\n",
              "      <th>count</th>\n",
              "      <td>819.000000</td>\n",
              "      <td>819.000000</td>\n",
              "      <td>819.000000</td>\n",
              "      <td>819.000000</td>\n",
              "    </tr>\n",
              "    <tr>\n",
              "      <th>mean</th>\n",
              "      <td>111.429634</td>\n",
              "      <td>0.169695</td>\n",
              "      <td>176.483529</td>\n",
              "      <td>0.252186</td>\n",
              "    </tr>\n",
              "    <tr>\n",
              "      <th>std</th>\n",
              "      <td>34.095648</td>\n",
              "      <td>2.751575</td>\n",
              "      <td>64.213682</td>\n",
              "      <td>4.487309</td>\n",
              "    </tr>\n",
              "    <tr>\n",
              "      <th>min</th>\n",
              "      <td>41.470000</td>\n",
              "      <td>-16.230000</td>\n",
              "      <td>68.920000</td>\n",
              "      <td>-40.520000</td>\n",
              "    </tr>\n",
              "    <tr>\n",
              "      <th>25%</th>\n",
              "      <td>89.575000</td>\n",
              "      <td>-1.210000</td>\n",
              "      <td>126.290000</td>\n",
              "      <td>-1.370000</td>\n",
              "    </tr>\n",
              "    <tr>\n",
              "      <th>50%</th>\n",
              "      <td>118.020000</td>\n",
              "      <td>0.370000</td>\n",
              "      <td>150.550000</td>\n",
              "      <td>0.490000</td>\n",
              "    </tr>\n",
              "    <tr>\n",
              "      <th>75%</th>\n",
              "      <td>130.370000</td>\n",
              "      <td>1.645000</td>\n",
              "      <td>215.435000</td>\n",
              "      <td>2.280000</td>\n",
              "    </tr>\n",
              "    <tr>\n",
              "      <th>max</th>\n",
              "      <td>183.760000</td>\n",
              "      <td>12.140000</td>\n",
              "      <td>337.600000</td>\n",
              "      <td>30.010000</td>\n",
              "    </tr>\n",
              "  </tbody>\n",
              "</table>\n",
              "</div>"
            ],
            "text/plain": [
              "         Gld_Last  Gld_Change    Spy_Last  Spy_Change\n",
              "count  819.000000  819.000000  819.000000  819.000000\n",
              "mean   111.429634    0.169695  176.483529    0.252186\n",
              "std     34.095648    2.751575   64.213682    4.487309\n",
              "min     41.470000  -16.230000   68.920000  -40.520000\n",
              "25%     89.575000   -1.210000  126.290000   -1.370000\n",
              "50%    118.020000    0.370000  150.550000    0.490000\n",
              "75%    130.370000    1.645000  215.435000    2.280000\n",
              "max    183.760000   12.140000  337.600000   30.010000"
            ]
          },
          "metadata": {
            "tags": []
          },
          "execution_count": 42
        }
      ]
    },
    {
      "cell_type": "code",
      "metadata": {
        "id": "68qiXsmu2SpR",
        "colab_type": "code",
        "colab": {
          "base_uri": "https://localhost:8080/",
          "height": 165
        },
        "outputId": "dc812337-fc17-46cb-95ad-f1aeb7a040d3"
      },
      "source": [
        "gld_spy.corr(method='pearson',min_periods=40)"
      ],
      "execution_count": 46,
      "outputs": [
        {
          "output_type": "execute_result",
          "data": {
            "text/html": [
              "<div>\n",
              "<style scoped>\n",
              "    .dataframe tbody tr th:only-of-type {\n",
              "        vertical-align: middle;\n",
              "    }\n",
              "\n",
              "    .dataframe tbody tr th {\n",
              "        vertical-align: top;\n",
              "    }\n",
              "\n",
              "    .dataframe thead th {\n",
              "        text-align: right;\n",
              "    }\n",
              "</style>\n",
              "<table border=\"1\" class=\"dataframe\">\n",
              "  <thead>\n",
              "    <tr style=\"text-align: right;\">\n",
              "      <th></th>\n",
              "      <th>Gld_Last</th>\n",
              "      <th>Gld_Change</th>\n",
              "      <th>Spy_Last</th>\n",
              "      <th>Spy_Change</th>\n",
              "    </tr>\n",
              "  </thead>\n",
              "  <tbody>\n",
              "    <tr>\n",
              "      <th>Gld_Last</th>\n",
              "      <td>1.000000</td>\n",
              "      <td>0.045648</td>\n",
              "      <td>0.385864</td>\n",
              "      <td>0.043297</td>\n",
              "    </tr>\n",
              "    <tr>\n",
              "      <th>Gld_Change</th>\n",
              "      <td>0.045648</td>\n",
              "      <td>1.000000</td>\n",
              "      <td>0.015516</td>\n",
              "      <td>0.088691</td>\n",
              "    </tr>\n",
              "    <tr>\n",
              "      <th>Spy_Last</th>\n",
              "      <td>0.385864</td>\n",
              "      <td>0.015516</td>\n",
              "      <td>1.000000</td>\n",
              "      <td>0.073788</td>\n",
              "    </tr>\n",
              "    <tr>\n",
              "      <th>Spy_Change</th>\n",
              "      <td>0.043297</td>\n",
              "      <td>0.088691</td>\n",
              "      <td>0.073788</td>\n",
              "      <td>1.000000</td>\n",
              "    </tr>\n",
              "  </tbody>\n",
              "</table>\n",
              "</div>"
            ],
            "text/plain": [
              "            Gld_Last  Gld_Change  Spy_Last  Spy_Change\n",
              "Gld_Last    1.000000    0.045648  0.385864    0.043297\n",
              "Gld_Change  0.045648    1.000000  0.015516    0.088691\n",
              "Spy_Last    0.385864    0.015516  1.000000    0.073788\n",
              "Spy_Change  0.043297    0.088691  0.073788    1.000000"
            ]
          },
          "metadata": {
            "tags": []
          },
          "execution_count": 46
        }
      ]
    },
    {
      "cell_type": "code",
      "metadata": {
        "id": "ExzzEZhR3B1E",
        "colab_type": "code",
        "colab": {}
      },
      "source": [
        "import matplotlib.pyplot as plt\n"
      ],
      "execution_count": 47,
      "outputs": []
    },
    {
      "cell_type": "code",
      "metadata": {
        "id": "MucnpXvy4lvd",
        "colab_type": "code",
        "colab": {
          "base_uri": "https://localhost:8080/",
          "height": 286
        },
        "outputId": "cf5eff1b-404c-4567-c5ea-f12827da526a"
      },
      "source": [
        "plt.plot(gld_spy['Gld_Last'], gld_spy['Spy_Last'])"
      ],
      "execution_count": 48,
      "outputs": [
        {
          "output_type": "execute_result",
          "data": {
            "text/plain": [
              "[<matplotlib.lines.Line2D at 0x7f787bee6710>]"
            ]
          },
          "metadata": {
            "tags": []
          },
          "execution_count": 48
        },
        {
          "output_type": "display_data",
          "data": {
            "image/png": "[encoded data removed]",
            "text/plain": [
              "<Figure size 432x288 with 1 Axes>"
            ]
          },
          "metadata": {
            "tags": [],
            "needs_background": "light"
          }
        }
      ]
    },
    {
      "cell_type": "code",
      "metadata": {
        "id": "t9J6u5Mc4wWQ",
        "colab_type": "code",
        "colab": {}
      },
      "source": [
        "msft_mflow = pd.read_csv('https://www.alphavantage.co/query?function=MFI&symbol=MSFT&interval=weekly&time_period=10&apikey=V3L36ZUP3KR9WP7N&datatype=csv')"
      ],
      "execution_count": 49,
      "outputs": []
    },
    {
      "cell_type": "code",
      "metadata": {
        "id": "NTm4tpTf66iP",
        "colab_type": "code",
        "colab": {
          "base_uri": "https://localhost:8080/",
          "height": 282
        },
        "outputId": "8605cd31-2ebb-4e56-d366-b54400940621"
      },
      "source": [
        "msft_mflow.describe()"
      ],
      "execution_count": 50,
      "outputs": [
        {
          "output_type": "execute_result",
          "data": {
            "text/html": [
              "<div>\n",
              "<style scoped>\n",
              "    .dataframe tbody tr th:only-of-type {\n",
              "        vertical-align: middle;\n",
              "    }\n",
              "\n",
              "    .dataframe tbody tr th {\n",
              "        vertical-align: top;\n",
              "    }\n",
              "\n",
              "    .dataframe thead th {\n",
              "        text-align: right;\n",
              "    }\n",
              "</style>\n",
              "<table border=\"1\" class=\"dataframe\">\n",
              "  <thead>\n",
              "    <tr style=\"text-align: right;\">\n",
              "      <th></th>\n",
              "      <th>MFI</th>\n",
              "    </tr>\n",
              "  </thead>\n",
              "  <tbody>\n",
              "    <tr>\n",
              "      <th>count</th>\n",
              "      <td>1072.000000</td>\n",
              "    </tr>\n",
              "    <tr>\n",
              "      <th>mean</th>\n",
              "      <td>54.139926</td>\n",
              "    </tr>\n",
              "    <tr>\n",
              "      <th>std</th>\n",
              "      <td>19.652144</td>\n",
              "    </tr>\n",
              "    <tr>\n",
              "      <th>min</th>\n",
              "      <td>-0.000000</td>\n",
              "    </tr>\n",
              "    <tr>\n",
              "      <th>25%</th>\n",
              "      <td>39.739800</td>\n",
              "    </tr>\n",
              "    <tr>\n",
              "      <th>50%</th>\n",
              "      <td>54.578200</td>\n",
              "    </tr>\n",
              "    <tr>\n",
              "      <th>75%</th>\n",
              "      <td>68.472425</td>\n",
              "    </tr>\n",
              "    <tr>\n",
              "      <th>max</th>\n",
              "      <td>100.000000</td>\n",
              "    </tr>\n",
              "  </tbody>\n",
              "</table>\n",
              "</div>"
            ],
            "text/plain": [
              "               MFI\n",
              "count  1072.000000\n",
              "mean     54.139926\n",
              "std      19.652144\n",
              "min      -0.000000\n",
              "25%      39.739800\n",
              "50%      54.578200\n",
              "75%      68.472425\n",
              "max     100.000000"
            ]
          },
          "metadata": {
            "tags": []
          },
          "execution_count": 50
        }
      ]
    },
    {
      "cell_type": "code",
      "metadata": {
        "id": "MmJT5TUu69tY",
        "colab_type": "code",
        "colab": {}
      },
      "source": [
        "mflow_start ='https://www.alphavantage.co/query?function=MFI&symbol=' "
      ],
      "execution_count": 51,
      "outputs": []
    },
    {
      "cell_type": "code",
      "metadata": {
        "id": "TBLkXhmT7O6T",
        "colab_type": "code",
        "colab": {}
      },
      "source": [
        "mflow_end ='&interval=weekly&time_period=10&apikey=V3L36ZUP3KR9WP7N&datatype=csv'"
      ],
      "execution_count": 52,
      "outputs": []
    },
    {
      "cell_type": "code",
      "metadata": {
        "id": "IdWvbGPa7TXJ",
        "colab_type": "code",
        "colab": {}
      },
      "source": [
        "prpl_mflow = pd.read_csv(mflow_start+'PRPL'+mflow_end)"
      ],
      "execution_count": 53,
      "outputs": []
    },
    {
      "cell_type": "code",
      "metadata": {
        "id": "lbNM5QnY7yku",
        "colab_type": "code",
        "colab": {
          "base_uri": "https://localhost:8080/",
          "height": 282
        },
        "outputId": "1609d021-cc4a-4ce8-9e23-0f752d478953"
      },
      "source": [
        "prpl_mflow.describe()"
      ],
      "execution_count": 54,
      "outputs": [
        {
          "output_type": "execute_result",
          "data": {
            "text/html": [
              "<div>\n",
              "<style scoped>\n",
              "    .dataframe tbody tr th:only-of-type {\n",
              "        vertical-align: middle;\n",
              "    }\n",
              "\n",
              "    .dataframe tbody tr th {\n",
              "        vertical-align: top;\n",
              "    }\n",
              "\n",
              "    .dataframe thead th {\n",
              "        text-align: right;\n",
              "    }\n",
              "</style>\n",
              "<table border=\"1\" class=\"dataframe\">\n",
              "  <thead>\n",
              "    <tr style=\"text-align: right;\">\n",
              "      <th></th>\n",
              "      <th>MFI</th>\n",
              "    </tr>\n",
              "  </thead>\n",
              "  <tbody>\n",
              "    <tr>\n",
              "      <th>count</th>\n",
              "      <td>119.000000</td>\n",
              "    </tr>\n",
              "    <tr>\n",
              "      <th>mean</th>\n",
              "      <td>58.711221</td>\n",
              "    </tr>\n",
              "    <tr>\n",
              "      <th>std</th>\n",
              "      <td>21.066628</td>\n",
              "    </tr>\n",
              "    <tr>\n",
              "      <th>min</th>\n",
              "      <td>12.947600</td>\n",
              "    </tr>\n",
              "    <tr>\n",
              "      <th>25%</th>\n",
              "      <td>41.998200</td>\n",
              "    </tr>\n",
              "    <tr>\n",
              "      <th>50%</th>\n",
              "      <td>61.231200</td>\n",
              "    </tr>\n",
              "    <tr>\n",
              "      <th>75%</th>\n",
              "      <td>76.097700</td>\n",
              "    </tr>\n",
              "    <tr>\n",
              "      <th>max</th>\n",
              "      <td>94.918800</td>\n",
              "    </tr>\n",
              "  </tbody>\n",
              "</table>\n",
              "</div>"
            ],
            "text/plain": [
              "              MFI\n",
              "count  119.000000\n",
              "mean    58.711221\n",
              "std     21.066628\n",
              "min     12.947600\n",
              "25%     41.998200\n",
              "50%     61.231200\n",
              "75%     76.097700\n",
              "max     94.918800"
            ]
          },
          "metadata": {
            "tags": []
          },
          "execution_count": 54
        }
      ]
    },
    {
      "cell_type": "code",
      "metadata": {
        "id": "c4Ev6Yoy70X2",
        "colab_type": "code",
        "colab": {
          "base_uri": "https://localhost:8080/",
          "height": 194
        },
        "outputId": "1c1d5901-6ad4-47a5-b9b9-1d3fb65c46f2"
      },
      "source": [
        "prpl_mflow.head()"
      ],
      "execution_count": 58,
      "outputs": [
        {
          "output_type": "execute_result",
          "data": {
            "text/html": [
              "<div>\n",
              "<style scoped>\n",
              "    .dataframe tbody tr th:only-of-type {\n",
              "        vertical-align: middle;\n",
              "    }\n",
              "\n",
              "    .dataframe tbody tr th {\n",
              "        vertical-align: top;\n",
              "    }\n",
              "\n",
              "    .dataframe thead th {\n",
              "        text-align: right;\n",
              "    }\n",
              "</style>\n",
              "<table border=\"1\" class=\"dataframe\">\n",
              "  <thead>\n",
              "    <tr style=\"text-align: right;\">\n",
              "      <th></th>\n",
              "      <th>time</th>\n",
              "      <th>MFI</th>\n",
              "    </tr>\n",
              "  </thead>\n",
              "  <tbody>\n",
              "    <tr>\n",
              "      <th>0</th>\n",
              "      <td>2020-07-30</td>\n",
              "      <td>93.3872</td>\n",
              "    </tr>\n",
              "    <tr>\n",
              "      <th>1</th>\n",
              "      <td>2020-07-24</td>\n",
              "      <td>86.7130</td>\n",
              "    </tr>\n",
              "    <tr>\n",
              "      <th>2</th>\n",
              "      <td>2020-07-17</td>\n",
              "      <td>94.9188</td>\n",
              "    </tr>\n",
              "    <tr>\n",
              "      <th>3</th>\n",
              "      <td>2020-07-10</td>\n",
              "      <td>94.0655</td>\n",
              "    </tr>\n",
              "    <tr>\n",
              "      <th>4</th>\n",
              "      <td>2020-07-02</td>\n",
              "      <td>93.5976</td>\n",
              "    </tr>\n",
              "  </tbody>\n",
              "</table>\n",
              "</div>"
            ],
            "text/plain": [
              "         time      MFI\n",
              "0  2020-07-30  93.3872\n",
              "1  2020-07-24  86.7130\n",
              "2  2020-07-17  94.9188\n",
              "3  2020-07-10  94.0655\n",
              "4  2020-07-02  93.5976"
            ]
          },
          "metadata": {
            "tags": []
          },
          "execution_count": 58
        }
      ]
    },
    {
      "cell_type": "code",
      "metadata": {
        "id": "KsoFwYXt90d1",
        "colab_type": "code",
        "colab": {}
      },
      "source": [
        "rsi_start ='https://www.alphavantage.co/query?function=RSI&symbol=' "
      ],
      "execution_count": 60,
      "outputs": []
    },
    {
      "cell_type": "code",
      "metadata": {
        "id": "XG-pSLKs_uQS",
        "colab_type": "code",
        "colab": {}
      },
      "source": [
        "rsi_end ='&interval=weekly&time_period=10&series_type=open&apikey=V3L36ZUP3KR9WP7N&datatype=csv'"
      ],
      "execution_count": 61,
      "outputs": []
    },
    {
      "cell_type": "code",
      "metadata": {
        "id": "GG3-1o1r_0z-",
        "colab_type": "code",
        "colab": {}
      },
      "source": [
        "ge_rsi = pd.read_csv(rsi_start+'GE'+rsi_end)"
      ],
      "execution_count": 62,
      "outputs": []
    },
    {
      "cell_type": "code",
      "metadata": {
        "id": "AnQ_VmexALnP",
        "colab_type": "code",
        "colab": {
          "base_uri": "https://localhost:8080/",
          "height": 282
        },
        "outputId": "6fdaaec9-ae6a-4e57-e8bd-70f6835a1347"
      },
      "source": [
        "ge_rsi.describe()"
      ],
      "execution_count": 63,
      "outputs": [
        {
          "output_type": "execute_result",
          "data": {
            "text/html": [
              "<div>\n",
              "<style scoped>\n",
              "    .dataframe tbody tr th:only-of-type {\n",
              "        vertical-align: middle;\n",
              "    }\n",
              "\n",
              "    .dataframe tbody tr th {\n",
              "        vertical-align: top;\n",
              "    }\n",
              "\n",
              "    .dataframe thead th {\n",
              "        text-align: right;\n",
              "    }\n",
              "</style>\n",
              "<table border=\"1\" class=\"dataframe\">\n",
              "  <thead>\n",
              "    <tr style=\"text-align: right;\">\n",
              "      <th></th>\n",
              "      <th>RSI</th>\n",
              "    </tr>\n",
              "  </thead>\n",
              "  <tbody>\n",
              "    <tr>\n",
              "      <th>count</th>\n",
              "      <td>1072.000000</td>\n",
              "    </tr>\n",
              "    <tr>\n",
              "      <th>mean</th>\n",
              "      <td>48.583638</td>\n",
              "    </tr>\n",
              "    <tr>\n",
              "      <th>std</th>\n",
              "      <td>13.705259</td>\n",
              "    </tr>\n",
              "    <tr>\n",
              "      <th>min</th>\n",
              "      <td>15.761500</td>\n",
              "    </tr>\n",
              "    <tr>\n",
              "      <th>25%</th>\n",
              "      <td>38.234850</td>\n",
              "    </tr>\n",
              "    <tr>\n",
              "      <th>50%</th>\n",
              "      <td>48.919400</td>\n",
              "    </tr>\n",
              "    <tr>\n",
              "      <th>75%</th>\n",
              "      <td>58.767250</td>\n",
              "    </tr>\n",
              "    <tr>\n",
              "      <th>max</th>\n",
              "      <td>83.906400</td>\n",
              "    </tr>\n",
              "  </tbody>\n",
              "</table>\n",
              "</div>"
            ],
            "text/plain": [
              "               RSI\n",
              "count  1072.000000\n",
              "mean     48.583638\n",
              "std      13.705259\n",
              "min      15.761500\n",
              "25%      38.234850\n",
              "50%      48.919400\n",
              "75%      58.767250\n",
              "max      83.906400"
            ]
          },
          "metadata": {
            "tags": []
          },
          "execution_count": 63
        }
      ]
    },
    {
      "cell_type": "code",
      "metadata": {
        "id": "V47Tg9n2AOSA",
        "colab_type": "code",
        "colab": {}
      },
      "source": [
        "prpl_rsi = pd.read_csv(rsi_start+'PRPL'+rsi_end)"
      ],
      "execution_count": 64,
      "outputs": []
    },
    {
      "cell_type": "code",
      "metadata": {
        "id": "z9P1TGWlAWob",
        "colab_type": "code",
        "colab": {
          "base_uri": "https://localhost:8080/",
          "height": 282
        },
        "outputId": "feb249bf-577d-4913-dbc3-a68c050104a4"
      },
      "source": [
        "prpl_rsi.describe()"
      ],
      "execution_count": 65,
      "outputs": [
        {
          "output_type": "execute_result",
          "data": {
            "text/html": [
              "<div>\n",
              "<style scoped>\n",
              "    .dataframe tbody tr th:only-of-type {\n",
              "        vertical-align: middle;\n",
              "    }\n",
              "\n",
              "    .dataframe tbody tr th {\n",
              "        vertical-align: top;\n",
              "    }\n",
              "\n",
              "    .dataframe thead th {\n",
              "        text-align: right;\n",
              "    }\n",
              "</style>\n",
              "<table border=\"1\" class=\"dataframe\">\n",
              "  <thead>\n",
              "    <tr style=\"text-align: right;\">\n",
              "      <th></th>\n",
              "      <th>RSI</th>\n",
              "    </tr>\n",
              "  </thead>\n",
              "  <tbody>\n",
              "    <tr>\n",
              "      <th>count</th>\n",
              "      <td>119.000000</td>\n",
              "    </tr>\n",
              "    <tr>\n",
              "      <th>mean</th>\n",
              "      <td>51.151776</td>\n",
              "    </tr>\n",
              "    <tr>\n",
              "      <th>std</th>\n",
              "      <td>15.335229</td>\n",
              "    </tr>\n",
              "    <tr>\n",
              "      <th>min</th>\n",
              "      <td>11.219900</td>\n",
              "    </tr>\n",
              "    <tr>\n",
              "      <th>25%</th>\n",
              "      <td>39.848050</td>\n",
              "    </tr>\n",
              "    <tr>\n",
              "      <th>50%</th>\n",
              "      <td>50.897100</td>\n",
              "    </tr>\n",
              "    <tr>\n",
              "      <th>75%</th>\n",
              "      <td>60.378000</td>\n",
              "    </tr>\n",
              "    <tr>\n",
              "      <th>max</th>\n",
              "      <td>88.482200</td>\n",
              "    </tr>\n",
              "  </tbody>\n",
              "</table>\n",
              "</div>"
            ],
            "text/plain": [
              "              RSI\n",
              "count  119.000000\n",
              "mean    51.151776\n",
              "std     15.335229\n",
              "min     11.219900\n",
              "25%     39.848050\n",
              "50%     50.897100\n",
              "75%     60.378000\n",
              "max     88.482200"
            ]
          },
          "metadata": {
            "tags": []
          },
          "execution_count": 65
        }
      ]
    },
    {
      "cell_type": "code",
      "metadata": {
        "id": "sIh6BVy2AYns",
        "colab_type": "code",
        "colab": {
          "base_uri": "https://localhost:8080/",
          "height": 282
        },
        "outputId": "4d83ea1f-c5a6-4c3f-b470-bf000e6356d3"
      },
      "source": [
        "prpl_rsi.plot()"
      ],
      "execution_count": 66,
      "outputs": [
        {
          "output_type": "execute_result",
          "data": {
            "text/plain": [
              "<matplotlib.axes._subplots.AxesSubplot at 0x7f787beb9b70>"
            ]
          },
          "metadata": {
            "tags": []
          },
          "execution_count": 66
        },
        {
          "output_type": "display_data",
          "data": {
            "image/png": "[encoded data removed]",
            "text/plain": [
              "<Figure size 432x288 with 1 Axes>"
            ]
          },
          "metadata": {
            "tags": [],
            "needs_background": "light"
          }
        }
      ]
    },
    {
      "cell_type": "code",
      "metadata": {
        "id": "EA9TdToKAetX",
        "colab_type": "code",
        "colab": {}
      },
      "source": [
        ""
      ],
      "execution_count": null,
      "outputs": []
    }
  ]
}