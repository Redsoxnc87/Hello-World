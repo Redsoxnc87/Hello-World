{
  "nbformat": 4,
  "nbformat_minor": 0,
  "metadata": {
    "colab": {
      "name": "Cbase_Acct_Breakdown.ipynb",
      "provenance": [],
      "collapsed_sections": [],
      "authorship_tag": "ABX9TyOPEMENiOM8+j0Y1u+HwAcH",
      "include_colab_link": true
    },
    "kernelspec": {
      "name": "python3",
      "display_name": "Python 3"
    }
  },
  "cells": [
    {
      "cell_type": "markdown",
      "metadata": {
        "id": "view-in-github",
        "colab_type": "text"
      },
      "source": [
        "<a href=\"https://colab.research.google.com/github/Redsoxnc87/Hello-World/blob/master/Cbase_Acct_Breakdown.ipynb\" target=\"_parent\"><img src=\"https://colab.research.google.com/assets/colab-badge.svg\" alt=\"Open In Colab\"/></a>"
      ]
    },
    {
      "cell_type": "code",
      "metadata": {
        "id": "KOxy1Ti9Ss8H"
      },
      "source": [
        "import pandas as pd \r\n",
        "import numpy as np \r\n",
        "import math "
      ],
      "execution_count": 30,
      "outputs": []
    },
    {
      "cell_type": "code",
      "metadata": {
        "id": "UhY5HboHS4uH"
      },
      "source": [
        "import pandas.plotting\r\n",
        "import operator\r\n",
        "import os \r\n",
        "import sys \r\n",
        "import requests\r\n",
        "import matplotlib.pyplot as plt\r\n",
        "%matplotlib inline"
      ],
      "execution_count": 31,
      "outputs": []
    },
    {
      "cell_type": "code",
      "metadata": {
        "id": "WmSrxqEITA6A"
      },
      "source": [
        "cbase = pd.read_csv('Coinbase_Alltime_Acct_Activity.csv')"
      ],
      "execution_count": 32,
      "outputs": []
    },
    {
      "cell_type": "code",
      "metadata": {
        "colab": {
          "base_uri": "https://localhost:8080/",
          "height": 294
        },
        "id": "LZM6xo-GTIYK",
        "outputId": "daaa14e7-ebcf-49ca-f712-e4829811e538"
      },
      "source": [
        "cbase.head()"
      ],
      "execution_count": 33,
      "outputs": [
        {
          "output_type": "execute_result",
          "data": {
            "text/html": [
              "<div>\n",
              "<style scoped>\n",
              "    .dataframe tbody tr th:only-of-type {\n",
              "        vertical-align: middle;\n",
              "    }\n",
              "\n",
              "    .dataframe tbody tr th {\n",
              "        vertical-align: top;\n",
              "    }\n",
              "\n",
              "    .dataframe thead th {\n",
              "        text-align: right;\n",
              "    }\n",
              "</style>\n",
              "<table border=\"1\" class=\"dataframe\">\n",
              "  <thead>\n",
              "    <tr style=\"text-align: right;\">\n",
              "      <th></th>\n",
              "      <th>Timestamp</th>\n",
              "      <th>Transaction Type</th>\n",
              "      <th>Asset</th>\n",
              "      <th>Quantity Transacted</th>\n",
              "      <th>USD Spot Price at Transaction</th>\n",
              "      <th>USD Subtotal</th>\n",
              "      <th>USD Total (inclusive of fees)</th>\n",
              "      <th>USD Fees</th>\n",
              "      <th>Notes</th>\n",
              "    </tr>\n",
              "  </thead>\n",
              "  <tbody>\n",
              "    <tr>\n",
              "      <th>0</th>\n",
              "      <td>2018-01-09T16:11:08Z</td>\n",
              "      <td>Buy</td>\n",
              "      <td>BTC</td>\n",
              "      <td>0.010000</td>\n",
              "      <td>14812.00</td>\n",
              "      <td>148.12</td>\n",
              "      <td>151.11</td>\n",
              "      <td>2.99</td>\n",
              "      <td>Bought 0.0100 BTC for $151.11 USD</td>\n",
              "    </tr>\n",
              "    <tr>\n",
              "      <th>1</th>\n",
              "      <td>2018-01-10T07:02:24Z</td>\n",
              "      <td>Buy</td>\n",
              "      <td>BTC</td>\n",
              "      <td>0.000700</td>\n",
              "      <td>14275.55</td>\n",
              "      <td>9.99</td>\n",
              "      <td>9.99</td>\n",
              "      <td>0.00</td>\n",
              "      <td>Bought 0.0007 BTC for $9.99 USD</td>\n",
              "    </tr>\n",
              "    <tr>\n",
              "      <th>2</th>\n",
              "      <td>2018-01-11T04:16:24Z</td>\n",
              "      <td>Buy</td>\n",
              "      <td>BTC</td>\n",
              "      <td>0.010000</td>\n",
              "      <td>13267.00</td>\n",
              "      <td>132.67</td>\n",
              "      <td>135.66</td>\n",
              "      <td>2.99</td>\n",
              "      <td>Bought 0.0100 BTC for $135.66 USD</td>\n",
              "    </tr>\n",
              "    <tr>\n",
              "      <th>3</th>\n",
              "      <td>2018-01-16T18:41:05Z</td>\n",
              "      <td>Send</td>\n",
              "      <td>BTC</td>\n",
              "      <td>0.009929</td>\n",
              "      <td>11378.25</td>\n",
              "      <td>NaN</td>\n",
              "      <td>NaN</td>\n",
              "      <td>NaN</td>\n",
              "      <td>Sent 0.00992852 BTC to 12MDHLAiPFB7MhdJXb6egRZ...</td>\n",
              "    </tr>\n",
              "    <tr>\n",
              "      <th>4</th>\n",
              "      <td>2018-01-17T05:51:29Z</td>\n",
              "      <td>Buy</td>\n",
              "      <td>BTC</td>\n",
              "      <td>0.017621</td>\n",
              "      <td>11180.63</td>\n",
              "      <td>197.01</td>\n",
              "      <td>200.00</td>\n",
              "      <td>2.99</td>\n",
              "      <td>Bought 0.01762066 BTC for $200.00 USD</td>\n",
              "    </tr>\n",
              "  </tbody>\n",
              "</table>\n",
              "</div>"
            ],
            "text/plain": [
              "              Timestamp  ...                                              Notes\n",
              "0  2018-01-09T16:11:08Z  ...                  Bought 0.0100 BTC for $151.11 USD\n",
              "1  2018-01-10T07:02:24Z  ...                    Bought 0.0007 BTC for $9.99 USD\n",
              "2  2018-01-11T04:16:24Z  ...                  Bought 0.0100 BTC for $135.66 USD\n",
              "3  2018-01-16T18:41:05Z  ...  Sent 0.00992852 BTC to 12MDHLAiPFB7MhdJXb6egRZ...\n",
              "4  2018-01-17T05:51:29Z  ...              Bought 0.01762066 BTC for $200.00 USD\n",
              "\n",
              "[5 rows x 9 columns]"
            ]
          },
          "metadata": {
            "tags": []
          },
          "execution_count": 33
        }
      ]
    },
    {
      "cell_type": "code",
      "metadata": {
        "id": "NzqiU9nrTJ5B"
      },
      "source": [
        "QU = operator.mul(cbase['Quantity Transacted'],cbase['USD Spot Price at Transaction'])\r\n",
        "cbase['Total_USD']=(QU)"
      ],
      "execution_count": 34,
      "outputs": []
    },
    {
      "cell_type": "code",
      "metadata": {
        "colab": {
          "base_uri": "https://localhost:8080/"
        },
        "id": "NbK01nrGTN__",
        "outputId": "a5a91944-1147-48d3-f786-c2668b3e4ec0"
      },
      "source": [
        "type(cbase['Quantity Transacted'][2])"
      ],
      "execution_count": 35,
      "outputs": [
        {
          "output_type": "execute_result",
          "data": {
            "text/plain": [
              "numpy.float64"
            ]
          },
          "metadata": {
            "tags": []
          },
          "execution_count": 35
        }
      ]
    },
    {
      "cell_type": "code",
      "metadata": {
        "id": "-1gVkzgRTWNn"
      },
      "source": [
        "buy = cbase.loc[(cbase['Transaction Type'])=='Buy']\r\n",
        "send = cbase.loc[(cbase['Transaction Type'])=='Send']\r\n",
        "receive = cbase.loc[(cbase['Transaction Type'])=='Send']\r\n",
        "sell = cbase.loc[(cbase['Transaction Type'])=='Sell']\r\n",
        "convert = cbase.loc[(cbase['Transaction Type'])=='Convert']"
      ],
      "execution_count": 36,
      "outputs": []
    },
    {
      "cell_type": "code",
      "metadata": {
        "colab": {
          "base_uri": "https://localhost:8080/"
        },
        "id": "zmbBQMsLUEnU",
        "outputId": "bbfaac6f-92bc-4c5b-c05a-bbe596e0ebdd"
      },
      "source": [
        "len(buy)"
      ],
      "execution_count": 37,
      "outputs": [
        {
          "output_type": "execute_result",
          "data": {
            "text/plain": [
              "59"
            ]
          },
          "metadata": {
            "tags": []
          },
          "execution_count": 37
        }
      ]
    },
    {
      "cell_type": "code",
      "metadata": {
        "colab": {
          "base_uri": "https://localhost:8080/"
        },
        "id": "x1EMAGFyUGU_",
        "outputId": "26323507-c459-4d31-e792-aebc65ae7c37"
      },
      "source": [
        "len(sell)"
      ],
      "execution_count": 38,
      "outputs": [
        {
          "output_type": "execute_result",
          "data": {
            "text/plain": [
              "2"
            ]
          },
          "metadata": {
            "tags": []
          },
          "execution_count": 38
        }
      ]
    },
    {
      "cell_type": "code",
      "metadata": {
        "colab": {
          "base_uri": "https://localhost:8080/"
        },
        "id": "x_PbgVJlUIQv",
        "outputId": "0e512652-daca-418f-ca3a-a3e4d2288b5a"
      },
      "source": [
        "len(convert)"
      ],
      "execution_count": 39,
      "outputs": [
        {
          "output_type": "execute_result",
          "data": {
            "text/plain": [
              "51"
            ]
          },
          "metadata": {
            "tags": []
          },
          "execution_count": 39
        }
      ]
    },
    {
      "cell_type": "code",
      "metadata": {
        "colab": {
          "base_uri": "https://localhost:8080/"
        },
        "id": "NaNztdB4UKZT",
        "outputId": "89022123-2efa-4b06-8c87-b7ed9975a98f"
      },
      "source": [
        "len(receive)"
      ],
      "execution_count": 40,
      "outputs": [
        {
          "output_type": "execute_result",
          "data": {
            "text/plain": [
              "130"
            ]
          },
          "metadata": {
            "tags": []
          },
          "execution_count": 40
        }
      ]
    },
    {
      "cell_type": "code",
      "metadata": {
        "colab": {
          "base_uri": "https://localhost:8080/"
        },
        "id": "nFlfNzYjUMng",
        "outputId": "61306208-8594-4563-a436-4154955df3d9"
      },
      "source": [
        "len(send)"
      ],
      "execution_count": 41,
      "outputs": [
        {
          "output_type": "execute_result",
          "data": {
            "text/plain": [
              "130"
            ]
          },
          "metadata": {
            "tags": []
          },
          "execution_count": 41
        }
      ]
    },
    {
      "cell_type": "code",
      "metadata": {
        "colab": {
          "base_uri": "https://localhost:8080/",
          "height": 294
        },
        "id": "uJeNwvpgUOrN",
        "outputId": "bc6b5a5c-7ee7-43ca-e2d0-fd5816d116f7"
      },
      "source": [
        "buy.tail()"
      ],
      "execution_count": 42,
      "outputs": [
        {
          "output_type": "execute_result",
          "data": {
            "text/html": [
              "<div>\n",
              "<style scoped>\n",
              "    .dataframe tbody tr th:only-of-type {\n",
              "        vertical-align: middle;\n",
              "    }\n",
              "\n",
              "    .dataframe tbody tr th {\n",
              "        vertical-align: top;\n",
              "    }\n",
              "\n",
              "    .dataframe thead th {\n",
              "        text-align: right;\n",
              "    }\n",
              "</style>\n",
              "<table border=\"1\" class=\"dataframe\">\n",
              "  <thead>\n",
              "    <tr style=\"text-align: right;\">\n",
              "      <th></th>\n",
              "      <th>Timestamp</th>\n",
              "      <th>Transaction Type</th>\n",
              "      <th>Asset</th>\n",
              "      <th>Quantity Transacted</th>\n",
              "      <th>USD Spot Price at Transaction</th>\n",
              "      <th>USD Subtotal</th>\n",
              "      <th>USD Total (inclusive of fees)</th>\n",
              "      <th>USD Fees</th>\n",
              "      <th>Notes</th>\n",
              "      <th>Total_USD</th>\n",
              "    </tr>\n",
              "  </thead>\n",
              "  <tbody>\n",
              "    <tr>\n",
              "      <th>256</th>\n",
              "      <td>2018-02-22T16:09:36Z</td>\n",
              "      <td>Buy</td>\n",
              "      <td>LTC</td>\n",
              "      <td>1.000000</td>\n",
              "      <td>197.58</td>\n",
              "      <td>197.58</td>\n",
              "      <td>200.57</td>\n",
              "      <td>2.99</td>\n",
              "      <td>Bought 1.0000 LTC for $200.57 USD</td>\n",
              "      <td>197.580000</td>\n",
              "    </tr>\n",
              "    <tr>\n",
              "      <th>257</th>\n",
              "      <td>2018-02-23T03:47:39Z</td>\n",
              "      <td>Buy</td>\n",
              "      <td>LTC</td>\n",
              "      <td>0.500000</td>\n",
              "      <td>188.44</td>\n",
              "      <td>94.22</td>\n",
              "      <td>97.21</td>\n",
              "      <td>2.99</td>\n",
              "      <td>Bought 0.5000 LTC for $97.21 USD</td>\n",
              "      <td>94.220000</td>\n",
              "    </tr>\n",
              "    <tr>\n",
              "      <th>261</th>\n",
              "      <td>2018-03-09T01:48:30Z</td>\n",
              "      <td>Buy</td>\n",
              "      <td>LTC</td>\n",
              "      <td>0.868328</td>\n",
              "      <td>169.30</td>\n",
              "      <td>147.01</td>\n",
              "      <td>150.00</td>\n",
              "      <td>2.99</td>\n",
              "      <td>Bought 0.86832843 LTC for $150.00 USD</td>\n",
              "      <td>147.008003</td>\n",
              "    </tr>\n",
              "    <tr>\n",
              "      <th>289</th>\n",
              "      <td>2020-05-10T02:07:27Z</td>\n",
              "      <td>Buy</td>\n",
              "      <td>USDC</td>\n",
              "      <td>258.000000</td>\n",
              "      <td>1.00</td>\n",
              "      <td>258.00</td>\n",
              "      <td>258.00</td>\n",
              "      <td>0.00</td>\n",
              "      <td>Bought 258.0000 USDC for $258.00 USD</td>\n",
              "      <td>258.000000</td>\n",
              "    </tr>\n",
              "    <tr>\n",
              "      <th>321</th>\n",
              "      <td>2020-07-29T02:26:29Z</td>\n",
              "      <td>Buy</td>\n",
              "      <td>XTZ</td>\n",
              "      <td>39.659318</td>\n",
              "      <td>2.95</td>\n",
              "      <td>117.01</td>\n",
              "      <td>120.00</td>\n",
              "      <td>2.99</td>\n",
              "      <td>Bought 39.659318 XTZ for $120.00 USD</td>\n",
              "      <td>116.994988</td>\n",
              "    </tr>\n",
              "  </tbody>\n",
              "</table>\n",
              "</div>"
            ],
            "text/plain": [
              "                Timestamp  ...   Total_USD\n",
              "256  2018-02-22T16:09:36Z  ...  197.580000\n",
              "257  2018-02-23T03:47:39Z  ...   94.220000\n",
              "261  2018-03-09T01:48:30Z  ...  147.008003\n",
              "289  2020-05-10T02:07:27Z  ...  258.000000\n",
              "321  2020-07-29T02:26:29Z  ...  116.994988\n",
              "\n",
              "[5 rows x 10 columns]"
            ]
          },
          "metadata": {
            "tags": []
          },
          "execution_count": 42
        }
      ]
    },
    {
      "cell_type": "code",
      "metadata": {
        "colab": {
          "base_uri": "https://localhost:8080/"
        },
        "id": "VdLrMqOUUfFr",
        "outputId": "745da9d1-3b8b-4850-ed71-f77a1be8a71d"
      },
      "source": [
        "buy['Quantity Transacted'].sum()"
      ],
      "execution_count": 43,
      "outputs": [
        {
          "output_type": "execute_result",
          "data": {
            "text/plain": [
              "311.74107963"
            ]
          },
          "metadata": {
            "tags": []
          },
          "execution_count": 43
        }
      ]
    },
    {
      "cell_type": "code",
      "metadata": {
        "id": "tazutvJsUn62"
      },
      "source": [
        "buy_BTC = buy.loc[(buy['Asset'])=='BTC']\r\n",
        "buy_ETH = buy.loc[(buy['Asset'])=='ETH']\r\n",
        "buy_LTC = buy.loc[(buy['Asset'])=='LTC']"
      ],
      "execution_count": 44,
      "outputs": []
    },
    {
      "cell_type": "code",
      "metadata": {
        "colab": {
          "base_uri": "https://localhost:8080/"
        },
        "id": "gOIod_hqUvsq",
        "outputId": "a654cfb8-dace-45e1-96e2-dae581088c36"
      },
      "source": [
        "len(buy_BTC),len(buy_ETH),len(buy_LTC)"
      ],
      "execution_count": 45,
      "outputs": [
        {
          "output_type": "execute_result",
          "data": {
            "text/plain": [
              "(28, 15, 12)"
            ]
          },
          "metadata": {
            "tags": []
          },
          "execution_count": 45
        }
      ]
    },
    {
      "cell_type": "code",
      "metadata": {
        "colab": {
          "base_uri": "https://localhost:8080/",
          "height": 294
        },
        "id": "aN_nTRAuV3wQ",
        "outputId": "bc0ab95e-1e3a-46df-8b67-46817a732af0"
      },
      "source": [
        "buy_BTC.head()"
      ],
      "execution_count": 46,
      "outputs": [
        {
          "output_type": "execute_result",
          "data": {
            "text/html": [
              "<div>\n",
              "<style scoped>\n",
              "    .dataframe tbody tr th:only-of-type {\n",
              "        vertical-align: middle;\n",
              "    }\n",
              "\n",
              "    .dataframe tbody tr th {\n",
              "        vertical-align: top;\n",
              "    }\n",
              "\n",
              "    .dataframe thead th {\n",
              "        text-align: right;\n",
              "    }\n",
              "</style>\n",
              "<table border=\"1\" class=\"dataframe\">\n",
              "  <thead>\n",
              "    <tr style=\"text-align: right;\">\n",
              "      <th></th>\n",
              "      <th>Timestamp</th>\n",
              "      <th>Transaction Type</th>\n",
              "      <th>Asset</th>\n",
              "      <th>Quantity Transacted</th>\n",
              "      <th>USD Spot Price at Transaction</th>\n",
              "      <th>USD Subtotal</th>\n",
              "      <th>USD Total (inclusive of fees)</th>\n",
              "      <th>USD Fees</th>\n",
              "      <th>Notes</th>\n",
              "      <th>Total_USD</th>\n",
              "    </tr>\n",
              "  </thead>\n",
              "  <tbody>\n",
              "    <tr>\n",
              "      <th>0</th>\n",
              "      <td>2018-01-09T16:11:08Z</td>\n",
              "      <td>Buy</td>\n",
              "      <td>BTC</td>\n",
              "      <td>0.010000</td>\n",
              "      <td>14812.00</td>\n",
              "      <td>148.12</td>\n",
              "      <td>151.11</td>\n",
              "      <td>2.99</td>\n",
              "      <td>Bought 0.0100 BTC for $151.11 USD</td>\n",
              "      <td>148.120000</td>\n",
              "    </tr>\n",
              "    <tr>\n",
              "      <th>1</th>\n",
              "      <td>2018-01-10T07:02:24Z</td>\n",
              "      <td>Buy</td>\n",
              "      <td>BTC</td>\n",
              "      <td>0.000700</td>\n",
              "      <td>14275.55</td>\n",
              "      <td>9.99</td>\n",
              "      <td>9.99</td>\n",
              "      <td>0.00</td>\n",
              "      <td>Bought 0.0007 BTC for $9.99 USD</td>\n",
              "      <td>9.992885</td>\n",
              "    </tr>\n",
              "    <tr>\n",
              "      <th>2</th>\n",
              "      <td>2018-01-11T04:16:24Z</td>\n",
              "      <td>Buy</td>\n",
              "      <td>BTC</td>\n",
              "      <td>0.010000</td>\n",
              "      <td>13267.00</td>\n",
              "      <td>132.67</td>\n",
              "      <td>135.66</td>\n",
              "      <td>2.99</td>\n",
              "      <td>Bought 0.0100 BTC for $135.66 USD</td>\n",
              "      <td>132.670000</td>\n",
              "    </tr>\n",
              "    <tr>\n",
              "      <th>4</th>\n",
              "      <td>2018-01-17T05:51:29Z</td>\n",
              "      <td>Buy</td>\n",
              "      <td>BTC</td>\n",
              "      <td>0.017621</td>\n",
              "      <td>11180.63</td>\n",
              "      <td>197.01</td>\n",
              "      <td>200.00</td>\n",
              "      <td>2.99</td>\n",
              "      <td>Bought 0.01762066 BTC for $200.00 USD</td>\n",
              "      <td>197.010080</td>\n",
              "    </tr>\n",
              "    <tr>\n",
              "      <th>7</th>\n",
              "      <td>2018-01-22T23:09:07Z</td>\n",
              "      <td>Buy</td>\n",
              "      <td>BTC</td>\n",
              "      <td>0.014349</td>\n",
              "      <td>10722.35</td>\n",
              "      <td>153.86</td>\n",
              "      <td>160.00</td>\n",
              "      <td>6.14</td>\n",
              "      <td>Bought 0.01434947 BTC for $160.00 USD</td>\n",
              "      <td>153.860040</td>\n",
              "    </tr>\n",
              "  </tbody>\n",
              "</table>\n",
              "</div>"
            ],
            "text/plain": [
              "              Timestamp  ...   Total_USD\n",
              "0  2018-01-09T16:11:08Z  ...  148.120000\n",
              "1  2018-01-10T07:02:24Z  ...    9.992885\n",
              "2  2018-01-11T04:16:24Z  ...  132.670000\n",
              "4  2018-01-17T05:51:29Z  ...  197.010080\n",
              "7  2018-01-22T23:09:07Z  ...  153.860040\n",
              "\n",
              "[5 rows x 10 columns]"
            ]
          },
          "metadata": {
            "tags": []
          },
          "execution_count": 46
        }
      ]
    },
    {
      "cell_type": "code",
      "metadata": {
        "colab": {
          "base_uri": "https://localhost:8080/",
          "height": 294
        },
        "id": "qAGrqs3xWP5P",
        "outputId": "56147061-f82d-4b29-a8cf-017b450adbf3"
      },
      "source": [
        "buy_BTC.tail()"
      ],
      "execution_count": 47,
      "outputs": [
        {
          "output_type": "execute_result",
          "data": {
            "text/html": [
              "<div>\n",
              "<style scoped>\n",
              "    .dataframe tbody tr th:only-of-type {\n",
              "        vertical-align: middle;\n",
              "    }\n",
              "\n",
              "    .dataframe tbody tr th {\n",
              "        vertical-align: top;\n",
              "    }\n",
              "\n",
              "    .dataframe thead th {\n",
              "        text-align: right;\n",
              "    }\n",
              "</style>\n",
              "<table border=\"1\" class=\"dataframe\">\n",
              "  <thead>\n",
              "    <tr style=\"text-align: right;\">\n",
              "      <th></th>\n",
              "      <th>Timestamp</th>\n",
              "      <th>Transaction Type</th>\n",
              "      <th>Asset</th>\n",
              "      <th>Quantity Transacted</th>\n",
              "      <th>USD Spot Price at Transaction</th>\n",
              "      <th>USD Subtotal</th>\n",
              "      <th>USD Total (inclusive of fees)</th>\n",
              "      <th>USD Fees</th>\n",
              "      <th>Notes</th>\n",
              "      <th>Total_USD</th>\n",
              "    </tr>\n",
              "  </thead>\n",
              "  <tbody>\n",
              "    <tr>\n",
              "      <th>68</th>\n",
              "      <td>2020-01-21T23:57:29Z</td>\n",
              "      <td>Buy</td>\n",
              "      <td>BTC</td>\n",
              "      <td>0.024370</td>\n",
              "      <td>8773.66</td>\n",
              "      <td>213.81</td>\n",
              "      <td>217.0</td>\n",
              "      <td>3.19</td>\n",
              "      <td>Bought 0.02436953 BTC for $217.00 USD</td>\n",
              "      <td>213.809971</td>\n",
              "    </tr>\n",
              "    <tr>\n",
              "      <th>69</th>\n",
              "      <td>2020-02-05T11:05:42Z</td>\n",
              "      <td>Buy</td>\n",
              "      <td>BTC</td>\n",
              "      <td>0.008192</td>\n",
              "      <td>9400.78</td>\n",
              "      <td>77.01</td>\n",
              "      <td>80.0</td>\n",
              "      <td>2.99</td>\n",
              "      <td>Bought 0.00819187 BTC for $80.00 USD</td>\n",
              "      <td>77.009968</td>\n",
              "    </tr>\n",
              "    <tr>\n",
              "      <th>72</th>\n",
              "      <td>2020-03-09T15:19:53Z</td>\n",
              "      <td>Buy</td>\n",
              "      <td>BTC</td>\n",
              "      <td>0.012498</td>\n",
              "      <td>7762.26</td>\n",
              "      <td>97.01</td>\n",
              "      <td>100.0</td>\n",
              "      <td>2.99</td>\n",
              "      <td>Bought 0.01249765 BTC for $100.00 USD</td>\n",
              "      <td>97.010009</td>\n",
              "    </tr>\n",
              "    <tr>\n",
              "      <th>77</th>\n",
              "      <td>2020-05-10T08:01:43Z</td>\n",
              "      <td>Buy</td>\n",
              "      <td>BTC</td>\n",
              "      <td>0.020010</td>\n",
              "      <td>8845.89</td>\n",
              "      <td>177.01</td>\n",
              "      <td>180.0</td>\n",
              "      <td>2.99</td>\n",
              "      <td>Bought 0.02001043 BTC for $180.00 USD</td>\n",
              "      <td>177.010063</td>\n",
              "    </tr>\n",
              "    <tr>\n",
              "      <th>79</th>\n",
              "      <td>2020-07-21T21:53:52Z</td>\n",
              "      <td>Buy</td>\n",
              "      <td>BTC</td>\n",
              "      <td>0.015589</td>\n",
              "      <td>9430.61</td>\n",
              "      <td>147.01</td>\n",
              "      <td>150.0</td>\n",
              "      <td>2.99</td>\n",
              "      <td>Bought 0.0155886 BTC for $150.00 USD</td>\n",
              "      <td>147.010007</td>\n",
              "    </tr>\n",
              "  </tbody>\n",
              "</table>\n",
              "</div>"
            ],
            "text/plain": [
              "               Timestamp  ...   Total_USD\n",
              "68  2020-01-21T23:57:29Z  ...  213.809971\n",
              "69  2020-02-05T11:05:42Z  ...   77.009968\n",
              "72  2020-03-09T15:19:53Z  ...   97.010009\n",
              "77  2020-05-10T08:01:43Z  ...  177.010063\n",
              "79  2020-07-21T21:53:52Z  ...  147.010007\n",
              "\n",
              "[5 rows x 10 columns]"
            ]
          },
          "metadata": {
            "tags": []
          },
          "execution_count": 47
        }
      ]
    },
    {
      "cell_type": "code",
      "metadata": {
        "id": "AHQlxupdWZZ3"
      },
      "source": [
        "BTC_bought = buy_BTC['USD Subtotal'].sum()"
      ],
      "execution_count": 48,
      "outputs": []
    },
    {
      "cell_type": "code",
      "metadata": {
        "id": "EXiJEAn4Wftc"
      },
      "source": [
        "ETH_bought =buy_ETH['USD Subtotal'].sum()"
      ],
      "execution_count": 49,
      "outputs": []
    },
    {
      "cell_type": "code",
      "metadata": {
        "id": "I-g3RQm5Wj7c"
      },
      "source": [
        "LTC_bought =buy_LTC['USD Subtotal'].sum()"
      ],
      "execution_count": 50,
      "outputs": []
    },
    {
      "cell_type": "code",
      "metadata": {
        "colab": {
          "base_uri": "https://localhost:8080/"
        },
        "id": "d0drUxTQWm-w",
        "outputId": "90ce7ee7-2129-4efc-c294-71af22604423"
      },
      "source": [
        "BTC_bought+ETH_bought+LTC_bought"
      ],
      "execution_count": 51,
      "outputs": [
        {
          "output_type": "execute_result",
          "data": {
            "text/plain": [
              "8063.42"
            ]
          },
          "metadata": {
            "tags": []
          },
          "execution_count": 51
        }
      ]
    },
    {
      "cell_type": "code",
      "metadata": {
        "colab": {
          "base_uri": "https://localhost:8080/"
        },
        "id": "FQuLiWknW1Yn",
        "outputId": "80233195-6d75-4462-eb30-30cf95f30da1"
      },
      "source": [
        "cbase.Total_USD.sum()"
      ],
      "execution_count": 52,
      "outputs": [
        {
          "output_type": "execute_result",
          "data": {
            "text/plain": [
              "55854.840838615404"
            ]
          },
          "metadata": {
            "tags": []
          },
          "execution_count": 52
        }
      ]
    },
    {
      "cell_type": "code",
      "metadata": {
        "id": "_BsyXXnyZbdu"
      },
      "source": [
        "cbase.to_csv('Alltime_Cbase_Transations_USD.csv', index=False)"
      ],
      "execution_count": 53,
      "outputs": []
    },
    {
      "cell_type": "code",
      "metadata": {
        "id": "MQpdzrlnZpIk"
      },
      "source": [
        "import datetime"
      ],
      "execution_count": 54,
      "outputs": []
    },
    {
      "cell_type": "code",
      "metadata": {
        "id": "phZ2NRBRanle"
      },
      "source": [
        "from datetime import datetime"
      ],
      "execution_count": 55,
      "outputs": []
    },
    {
      "cell_type": "code",
      "metadata": {
        "id": "YQ0csEpQcUYd"
      },
      "source": [
        "now = datetime.now()"
      ],
      "execution_count": 57,
      "outputs": []
    },
    {
      "cell_type": "code",
      "metadata": {
        "colab": {
          "base_uri": "https://localhost:8080/"
        },
        "id": "7FI15AYwcfMz",
        "outputId": "51b5f87e-1cd7-44f9-ff9a-f4113d8fb008"
      },
      "source": [
        "now"
      ],
      "execution_count": 58,
      "outputs": [
        {
          "output_type": "execute_result",
          "data": {
            "text/plain": [
              "datetime.datetime(2020, 12, 10, 20, 58, 23, 428465)"
            ]
          },
          "metadata": {
            "tags": []
          },
          "execution_count": 58
        }
      ]
    },
    {
      "cell_type": "code",
      "metadata": {
        "id": "551Q1AVjcqXA"
      },
      "source": [
        "timestamp = datetime.timestamp(now)"
      ],
      "execution_count": 59,
      "outputs": []
    },
    {
      "cell_type": "code",
      "metadata": {
        "colab": {
          "base_uri": "https://localhost:8080/"
        },
        "id": "H1lPzHrYcy0m",
        "outputId": "42b45176-c560-475f-b911-8c0b9af0495a"
      },
      "source": [
        "timestamp"
      ],
      "execution_count": 60,
      "outputs": [
        {
          "output_type": "execute_result",
          "data": {
            "text/plain": [
              "1607633903.428465"
            ]
          },
          "metadata": {
            "tags": []
          },
          "execution_count": 60
        }
      ]
    },
    {
      "cell_type": "code",
      "metadata": {
        "id": "1VwWAR5ocz6l"
      },
      "source": [
        ""
      ],
      "execution_count": null,
      "outputs": []
    }
  ]
}