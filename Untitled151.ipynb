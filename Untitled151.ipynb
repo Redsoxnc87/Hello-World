{
  "nbformat": 4,
  "nbformat_minor": 0,
  "metadata": {
    "colab": {
      "name": "Untitled151.ipynb",
      "provenance": [],
      "authorship_tag": "ABX9TyNVGq7gTFJTmn6bRKfhWFdX",
      "include_colab_link": true
    },
    "kernelspec": {
      "name": "python3",
      "display_name": "Python 3"
    }
  },
  "cells": [
    {
      "cell_type": "markdown",
      "metadata": {
        "id": "view-in-github",
        "colab_type": "text"
      },
      "source": [
        "<a href=\"https://colab.research.google.com/github/Redsoxnc87/Hello-World/blob/master/Untitled151.ipynb\" target=\"_parent\"><img src=\"https://colab.research.google.com/assets/colab-badge.svg\" alt=\"Open In Colab\"/></a>"
      ]
    },
    {
      "cell_type": "code",
      "metadata": {
        "id": "y3fzz09s9XmP",
        "colab_type": "code",
        "colab": {}
      },
      "source": [
        "import pandas as pd\n",
        "import numpy as np\n",
        "import math "
      ],
      "execution_count": 1,
      "outputs": []
    },
    {
      "cell_type": "code",
      "metadata": {
        "id": "tqP42kP29rLa",
        "colab_type": "code",
        "colab": {}
      },
      "source": [
        "import operator\n",
        "import matplotlib.pyplot as plt\n",
        "import requests"
      ],
      "execution_count": 2,
      "outputs": []
    },
    {
      "cell_type": "code",
      "metadata": {
        "id": "KcHmiDzI9vaJ",
        "colab_type": "code",
        "colab": {}
      },
      "source": [
        "map = pd.read_html('https://www.citypopulation.de/en/usa/admin/')"
      ],
      "execution_count": 3,
      "outputs": []
    },
    {
      "cell_type": "code",
      "metadata": {
        "id": "hZS82nWi9ycT",
        "colab_type": "code",
        "colab": {}
      },
      "source": [
        "usa = pd.DataFrame(map[0])"
      ],
      "execution_count": 5,
      "outputs": []
    },
    {
      "cell_type": "code",
      "metadata": {
        "id": "pnWqYTYo9z7y",
        "colab_type": "code",
        "colab": {
          "base_uri": "https://localhost:8080/",
          "height": 194
        },
        "outputId": "5167c526-cd72-4f60-8958-e46e0685a39b"
      },
      "source": [
        "usa.head()"
      ],
      "execution_count": 6,
      "outputs": [
        {
          "output_type": "execute_result",
          "data": {
            "text/html": [
              "<div>\n",
              "<style scoped>\n",
              "    .dataframe tbody tr th:only-of-type {\n",
              "        vertical-align: middle;\n",
              "    }\n",
              "\n",
              "    .dataframe tbody tr th {\n",
              "        vertical-align: top;\n",
              "    }\n",
              "\n",
              "    .dataframe thead th {\n",
              "        text-align: right;\n",
              "    }\n",
              "</style>\n",
              "<table border=\"1\" class=\"dataframe\">\n",
              "  <thead>\n",
              "    <tr style=\"text-align: right;\">\n",
              "      <th></th>\n",
              "      <th>Name</th>\n",
              "      <th>Status</th>\n",
              "      <th>PopulationCensus1990-04-01</th>\n",
              "      <th>PopulationCensus2000-04-01</th>\n",
              "      <th>PopulationCensus2010-04-01</th>\n",
              "      <th>PopulationEstimate2019-07-01</th>\n",
              "      <th>Unnamed: 6</th>\n",
              "    </tr>\n",
              "  </thead>\n",
              "  <tbody>\n",
              "    <tr>\n",
              "      <th>0</th>\n",
              "      <td>Alabama</td>\n",
              "      <td>State</td>\n",
              "      <td>4040389</td>\n",
              "      <td>4447207</td>\n",
              "      <td>4780125</td>\n",
              "      <td>4903185</td>\n",
              "      <td>→</td>\n",
              "    </tr>\n",
              "    <tr>\n",
              "      <th>1</th>\n",
              "      <td>Autauga</td>\n",
              "      <td>County</td>\n",
              "      <td>34222</td>\n",
              "      <td>43751</td>\n",
              "      <td>54597</td>\n",
              "      <td>55869</td>\n",
              "      <td>→</td>\n",
              "    </tr>\n",
              "    <tr>\n",
              "      <th>2</th>\n",
              "      <td>Baldwin</td>\n",
              "      <td>County</td>\n",
              "      <td>98280</td>\n",
              "      <td>140416</td>\n",
              "      <td>182265</td>\n",
              "      <td>223234</td>\n",
              "      <td>→</td>\n",
              "    </tr>\n",
              "    <tr>\n",
              "      <th>3</th>\n",
              "      <td>Barbour</td>\n",
              "      <td>County</td>\n",
              "      <td>25417</td>\n",
              "      <td>29042</td>\n",
              "      <td>27455</td>\n",
              "      <td>24686</td>\n",
              "      <td>→</td>\n",
              "    </tr>\n",
              "    <tr>\n",
              "      <th>4</th>\n",
              "      <td>Bibb</td>\n",
              "      <td>County</td>\n",
              "      <td>16598</td>\n",
              "      <td>19856</td>\n",
              "      <td>22915</td>\n",
              "      <td>22394</td>\n",
              "      <td>→</td>\n",
              "    </tr>\n",
              "  </tbody>\n",
              "</table>\n",
              "</div>"
            ],
            "text/plain": [
              "      Name  Status  ... PopulationEstimate2019-07-01  Unnamed: 6\n",
              "0  Alabama   State  ...                      4903185           →\n",
              "1  Autauga  County  ...                        55869           →\n",
              "2  Baldwin  County  ...                       223234           →\n",
              "3  Barbour  County  ...                        24686           →\n",
              "4     Bibb  County  ...                        22394           →\n",
              "\n",
              "[5 rows x 7 columns]"
            ]
          },
          "metadata": {
            "tags": []
          },
          "execution_count": 6
        }
      ]
    },
    {
      "cell_type": "code",
      "metadata": {
        "id": "o268ro9s97jm",
        "colab_type": "code",
        "colab": {}
      },
      "source": [
        "states = usa.loc[(usa['Status'])=='State']"
      ],
      "execution_count": 7,
      "outputs": []
    },
    {
      "cell_type": "code",
      "metadata": {
        "id": "0IHdiUaL-Gdk",
        "colab_type": "code",
        "colab": {
          "base_uri": "https://localhost:8080/",
          "height": 34
        },
        "outputId": "a0818d36-a539-4e34-edcc-5b822dd72a75"
      },
      "source": [
        "len(states)"
      ],
      "execution_count": 8,
      "outputs": [
        {
          "output_type": "execute_result",
          "data": {
            "text/plain": [
              "50"
            ]
          },
          "metadata": {
            "tags": []
          },
          "execution_count": 8
        }
      ]
    },
    {
      "cell_type": "code",
      "metadata": {
        "id": "0HBembkn-Hez",
        "colab_type": "code",
        "colab": {
          "base_uri": "https://localhost:8080/",
          "height": 282
        },
        "outputId": "1a763307-ff9c-40fe-9210-ac3009101734"
      },
      "source": [
        "states.describe()"
      ],
      "execution_count": 9,
      "outputs": [
        {
          "output_type": "execute_result",
          "data": {
            "text/html": [
              "<div>\n",
              "<style scoped>\n",
              "    .dataframe tbody tr th:only-of-type {\n",
              "        vertical-align: middle;\n",
              "    }\n",
              "\n",
              "    .dataframe tbody tr th {\n",
              "        vertical-align: top;\n",
              "    }\n",
              "\n",
              "    .dataframe thead th {\n",
              "        text-align: right;\n",
              "    }\n",
              "</style>\n",
              "<table border=\"1\" class=\"dataframe\">\n",
              "  <thead>\n",
              "    <tr style=\"text-align: right;\">\n",
              "      <th></th>\n",
              "      <th>PopulationCensus2000-04-01</th>\n",
              "      <th>PopulationCensus2010-04-01</th>\n",
              "      <th>PopulationEstimate2019-07-01</th>\n",
              "    </tr>\n",
              "  </thead>\n",
              "  <tbody>\n",
              "    <tr>\n",
              "      <th>count</th>\n",
              "      <td>5.000000e+01</td>\n",
              "      <td>5.000000e+01</td>\n",
              "      <td>5.000000e+01</td>\n",
              "    </tr>\n",
              "    <tr>\n",
              "      <th>mean</th>\n",
              "      <td>5.617050e+06</td>\n",
              "      <td>6.163127e+06</td>\n",
              "      <td>6.550675e+06</td>\n",
              "    </tr>\n",
              "    <tr>\n",
              "      <th>std</th>\n",
              "      <td>6.185566e+06</td>\n",
              "      <td>6.848464e+06</td>\n",
              "      <td>7.389282e+06</td>\n",
              "    </tr>\n",
              "    <tr>\n",
              "      <th>min</th>\n",
              "      <td>4.937860e+05</td>\n",
              "      <td>5.637750e+05</td>\n",
              "      <td>5.787590e+05</td>\n",
              "    </tr>\n",
              "    <tr>\n",
              "      <th>25%</th>\n",
              "      <td>1.735471e+06</td>\n",
              "      <td>1.832983e+06</td>\n",
              "      <td>1.827712e+06</td>\n",
              "    </tr>\n",
              "    <tr>\n",
              "      <th>50%</th>\n",
              "      <td>4.027108e+06</td>\n",
              "      <td>4.436410e+06</td>\n",
              "      <td>4.558234e+06</td>\n",
              "    </tr>\n",
              "    <tr>\n",
              "      <th>75%</th>\n",
              "      <td>6.282230e+06</td>\n",
              "      <td>6.680351e+06</td>\n",
              "      <td>7.530849e+06</td>\n",
              "    </tr>\n",
              "    <tr>\n",
              "      <th>max</th>\n",
              "      <td>3.387165e+07</td>\n",
              "      <td>3.725452e+07</td>\n",
              "      <td>3.951222e+07</td>\n",
              "    </tr>\n",
              "  </tbody>\n",
              "</table>\n",
              "</div>"
            ],
            "text/plain": [
              "       PopulationCensus2000-04-01  ...  PopulationEstimate2019-07-01\n",
              "count                5.000000e+01  ...                  5.000000e+01\n",
              "mean                 5.617050e+06  ...                  6.550675e+06\n",
              "std                  6.185566e+06  ...                  7.389282e+06\n",
              "min                  4.937860e+05  ...                  5.787590e+05\n",
              "25%                  1.735471e+06  ...                  1.827712e+06\n",
              "50%                  4.027108e+06  ...                  4.558234e+06\n",
              "75%                  6.282230e+06  ...                  7.530849e+06\n",
              "max                  3.387165e+07  ...                  3.951222e+07\n",
              "\n",
              "[8 rows x 3 columns]"
            ]
          },
          "metadata": {
            "tags": []
          },
          "execution_count": 9
        }
      ]
    },
    {
      "cell_type": "code",
      "metadata": {
        "id": "6berDvMF-Nf-",
        "colab_type": "code",
        "colab": {}
      },
      "source": [
        "SC = operator.truediv(usa['PopulationCensus2010-04-01'],usa['PopulationEstimate2019-07-01'])"
      ],
      "execution_count": 12,
      "outputs": []
    },
    {
      "cell_type": "code",
      "metadata": {
        "id": "XkLLJKwu_ZLv",
        "colab_type": "code",
        "colab": {}
      },
      "source": [
        "usa['Pop_Chng_10yr']=(SC)"
      ],
      "execution_count": 13,
      "outputs": []
    },
    {
      "cell_type": "code",
      "metadata": {
        "id": "YhRJlnJ9_kN8",
        "colab_type": "code",
        "colab": {
          "base_uri": "https://localhost:8080/",
          "height": 194
        },
        "outputId": "4273c2e1-4d06-4e24-88fe-046a03393a5e"
      },
      "source": [
        "usa.head()"
      ],
      "execution_count": 14,
      "outputs": [
        {
          "output_type": "execute_result",
          "data": {
            "text/html": [
              "<div>\n",
              "<style scoped>\n",
              "    .dataframe tbody tr th:only-of-type {\n",
              "        vertical-align: middle;\n",
              "    }\n",
              "\n",
              "    .dataframe tbody tr th {\n",
              "        vertical-align: top;\n",
              "    }\n",
              "\n",
              "    .dataframe thead th {\n",
              "        text-align: right;\n",
              "    }\n",
              "</style>\n",
              "<table border=\"1\" class=\"dataframe\">\n",
              "  <thead>\n",
              "    <tr style=\"text-align: right;\">\n",
              "      <th></th>\n",
              "      <th>Name</th>\n",
              "      <th>Status</th>\n",
              "      <th>PopulationCensus1990-04-01</th>\n",
              "      <th>PopulationCensus2000-04-01</th>\n",
              "      <th>PopulationCensus2010-04-01</th>\n",
              "      <th>PopulationEstimate2019-07-01</th>\n",
              "      <th>Unnamed: 6</th>\n",
              "      <th>Pop_Chng_10yr</th>\n",
              "    </tr>\n",
              "  </thead>\n",
              "  <tbody>\n",
              "    <tr>\n",
              "      <th>0</th>\n",
              "      <td>Alabama</td>\n",
              "      <td>State</td>\n",
              "      <td>4040389</td>\n",
              "      <td>4447207</td>\n",
              "      <td>4780125</td>\n",
              "      <td>4903185</td>\n",
              "      <td>→</td>\n",
              "      <td>0.974902</td>\n",
              "    </tr>\n",
              "    <tr>\n",
              "      <th>1</th>\n",
              "      <td>Autauga</td>\n",
              "      <td>County</td>\n",
              "      <td>34222</td>\n",
              "      <td>43751</td>\n",
              "      <td>54597</td>\n",
              "      <td>55869</td>\n",
              "      <td>→</td>\n",
              "      <td>0.977232</td>\n",
              "    </tr>\n",
              "    <tr>\n",
              "      <th>2</th>\n",
              "      <td>Baldwin</td>\n",
              "      <td>County</td>\n",
              "      <td>98280</td>\n",
              "      <td>140416</td>\n",
              "      <td>182265</td>\n",
              "      <td>223234</td>\n",
              "      <td>→</td>\n",
              "      <td>0.816475</td>\n",
              "    </tr>\n",
              "    <tr>\n",
              "      <th>3</th>\n",
              "      <td>Barbour</td>\n",
              "      <td>County</td>\n",
              "      <td>25417</td>\n",
              "      <td>29042</td>\n",
              "      <td>27455</td>\n",
              "      <td>24686</td>\n",
              "      <td>→</td>\n",
              "      <td>1.112169</td>\n",
              "    </tr>\n",
              "    <tr>\n",
              "      <th>4</th>\n",
              "      <td>Bibb</td>\n",
              "      <td>County</td>\n",
              "      <td>16598</td>\n",
              "      <td>19856</td>\n",
              "      <td>22915</td>\n",
              "      <td>22394</td>\n",
              "      <td>→</td>\n",
              "      <td>1.023265</td>\n",
              "    </tr>\n",
              "  </tbody>\n",
              "</table>\n",
              "</div>"
            ],
            "text/plain": [
              "      Name  Status  ... Unnamed: 6  Pop_Chng_10yr\n",
              "0  Alabama   State  ...          →       0.974902\n",
              "1  Autauga  County  ...          →       0.977232\n",
              "2  Baldwin  County  ...          →       0.816475\n",
              "3  Barbour  County  ...          →       1.112169\n",
              "4     Bibb  County  ...          →       1.023265\n",
              "\n",
              "[5 rows x 8 columns]"
            ]
          },
          "metadata": {
            "tags": []
          },
          "execution_count": 14
        }
      ]
    },
    {
      "cell_type": "code",
      "metadata": {
        "id": "qM6bSvEm_uRA",
        "colab_type": "code",
        "colab": {}
      },
      "source": [
        "O = operator.sub(1.00,usa['Pop_Chng_10yr'])"
      ],
      "execution_count": 15,
      "outputs": []
    },
    {
      "cell_type": "code",
      "metadata": {
        "id": "YaGRigrpRuq0",
        "colab_type": "code",
        "colab": {}
      },
      "source": [
        "usa['Real_pop_Chng']=(O)"
      ],
      "execution_count": 16,
      "outputs": []
    },
    {
      "cell_type": "code",
      "metadata": {
        "id": "ZwNzlAISR21k",
        "colab_type": "code",
        "colab": {
          "base_uri": "https://localhost:8080/",
          "height": 282
        },
        "outputId": "3f483035-cef4-46b5-fc6a-0953120b4c10"
      },
      "source": [
        "usa.describe()"
      ],
      "execution_count": 17,
      "outputs": [
        {
          "output_type": "execute_result",
          "data": {
            "text/html": [
              "<div>\n",
              "<style scoped>\n",
              "    .dataframe tbody tr th:only-of-type {\n",
              "        vertical-align: middle;\n",
              "    }\n",
              "\n",
              "    .dataframe tbody tr th {\n",
              "        vertical-align: top;\n",
              "    }\n",
              "\n",
              "    .dataframe thead th {\n",
              "        text-align: right;\n",
              "    }\n",
              "</style>\n",
              "<table border=\"1\" class=\"dataframe\">\n",
              "  <thead>\n",
              "    <tr style=\"text-align: right;\">\n",
              "      <th></th>\n",
              "      <th>PopulationCensus2000-04-01</th>\n",
              "      <th>PopulationCensus2010-04-01</th>\n",
              "      <th>PopulationEstimate2019-07-01</th>\n",
              "      <th>Pop_Chng_10yr</th>\n",
              "      <th>Real_pop_Chng</th>\n",
              "    </tr>\n",
              "  </thead>\n",
              "  <tbody>\n",
              "    <tr>\n",
              "      <th>count</th>\n",
              "      <td>3.194000e+03</td>\n",
              "      <td>3.194000e+03</td>\n",
              "      <td>3.194000e+03</td>\n",
              "      <td>3194.000000</td>\n",
              "      <td>3194.000000</td>\n",
              "    </tr>\n",
              "    <tr>\n",
              "      <th>mean</th>\n",
              "      <td>2.643303e+05</td>\n",
              "      <td>2.900045e+05</td>\n",
              "      <td>3.083026e+05</td>\n",
              "      <td>0.995540</td>\n",
              "      <td>0.004460</td>\n",
              "    </tr>\n",
              "    <tr>\n",
              "      <th>std</th>\n",
              "      <td>5.089909e+06</td>\n",
              "      <td>5.585054e+06</td>\n",
              "      <td>5.939529e+06</td>\n",
              "      <td>0.077572</td>\n",
              "      <td>0.077572</td>\n",
              "    </tr>\n",
              "    <tr>\n",
              "      <th>min</th>\n",
              "      <td>6.700000e+01</td>\n",
              "      <td>8.200000e+01</td>\n",
              "      <td>8.600000e+01</td>\n",
              "      <td>0.423256</td>\n",
              "      <td>-0.499266</td>\n",
              "    </tr>\n",
              "    <tr>\n",
              "      <th>25%</th>\n",
              "      <td>1.138075e+04</td>\n",
              "      <td>1.129900e+04</td>\n",
              "      <td>1.112875e+04</td>\n",
              "      <td>0.954024</td>\n",
              "      <td>-0.043910</td>\n",
              "    </tr>\n",
              "    <tr>\n",
              "      <th>50%</th>\n",
              "      <td>2.543200e+04</td>\n",
              "      <td>2.642550e+04</td>\n",
              "      <td>2.653750e+04</td>\n",
              "      <td>1.004027</td>\n",
              "      <td>-0.004027</td>\n",
              "    </tr>\n",
              "    <tr>\n",
              "      <th>75%</th>\n",
              "      <td>6.536525e+04</td>\n",
              "      <td>7.150900e+04</td>\n",
              "      <td>7.334800e+04</td>\n",
              "      <td>1.043910</td>\n",
              "      <td>0.045976</td>\n",
              "    </tr>\n",
              "    <tr>\n",
              "      <th>max</th>\n",
              "      <td>2.814219e+08</td>\n",
              "      <td>3.087581e+08</td>\n",
              "      <td>3.282395e+08</td>\n",
              "      <td>1.499266</td>\n",
              "      <td>0.576744</td>\n",
              "    </tr>\n",
              "  </tbody>\n",
              "</table>\n",
              "</div>"
            ],
            "text/plain": [
              "       PopulationCensus2000-04-01  ...  Real_pop_Chng\n",
              "count                3.194000e+03  ...    3194.000000\n",
              "mean                 2.643303e+05  ...       0.004460\n",
              "std                  5.089909e+06  ...       0.077572\n",
              "min                  6.700000e+01  ...      -0.499266\n",
              "25%                  1.138075e+04  ...      -0.043910\n",
              "50%                  2.543200e+04  ...      -0.004027\n",
              "75%                  6.536525e+04  ...       0.045976\n",
              "max                  2.814219e+08  ...       0.576744\n",
              "\n",
              "[8 rows x 5 columns]"
            ]
          },
          "metadata": {
            "tags": []
          },
          "execution_count": 17
        }
      ]
    },
    {
      "cell_type": "code",
      "metadata": {
        "id": "J9gN_RHRR4dU",
        "colab_type": "code",
        "colab": {}
      },
      "source": [
        "import tensorflow as tf\n",
        "from tensorflow import keras"
      ],
      "execution_count": 18,
      "outputs": []
    },
    {
      "cell_type": "code",
      "metadata": {
        "id": "iEv2UJxmWHQC",
        "colab_type": "code",
        "colab": {}
      },
      "source": [
        "import pymc3"
      ],
      "execution_count": 19,
      "outputs": []
    },
    {
      "cell_type": "code",
      "metadata": {
        "id": "bISKCxoFWIe6",
        "colab_type": "code",
        "colab": {
          "base_uri": "https://localhost:8080/",
          "height": 282
        },
        "outputId": "ec0f27c7-aa59-43d2-922a-6195caa32083"
      },
      "source": [
        "usa['Real_pop_Chng'].hist()"
      ],
      "execution_count": 20,
      "outputs": [
        {
          "output_type": "execute_result",
          "data": {
            "text/plain": [
              "<matplotlib.axes._subplots.AxesSubplot at 0x7f956d74a400>"
            ]
          },
          "metadata": {
            "tags": []
          },
          "execution_count": 20
        },
        {
          "output_type": "display_data",
          "data": {
            "image/png": "[encoded data removed]",
            "text/plain": [
              "<Figure size 432x288 with 1 Axes>"
            ]
          },
          "metadata": {
            "tags": [],
            "needs_background": "light"
          }
        }
      ]
    },
    {
      "cell_type": "code",
      "metadata": {
        "id": "MfWOUF5xWQlk",
        "colab_type": "code",
        "colab": {}
      },
      "source": [
        "A = operator.truediv(usa['PopulationCensus2000-04-01'],usa['PopulationCensus2010-04-01'])"
      ],
      "execution_count": 22,
      "outputs": []
    },
    {
      "cell_type": "code",
      "metadata": {
        "id": "RRbVugT-WjfO",
        "colab_type": "code",
        "colab": {}
      },
      "source": [
        "usa['Prior_Decade']=(A)"
      ],
      "execution_count": 23,
      "outputs": []
    },
    {
      "cell_type": "code",
      "metadata": {
        "id": "mrYvgWOzWyIs",
        "colab_type": "code",
        "colab": {}
      },
      "source": [
        "B = operator.sub(1.00,usa['Prior_Decade'])"
      ],
      "execution_count": 24,
      "outputs": []
    },
    {
      "cell_type": "code",
      "metadata": {
        "id": "SJEFijwZW7_v",
        "colab_type": "code",
        "colab": {}
      },
      "source": [
        "usa['Tot_Prior_Decade']=(B)"
      ],
      "execution_count": 25,
      "outputs": []
    },
    {
      "cell_type": "code",
      "metadata": {
        "id": "2IpZ2dbAXAhh",
        "colab_type": "code",
        "colab": {
          "base_uri": "https://localhost:8080/",
          "height": 211
        },
        "outputId": "884aa9e0-9dae-4554-d0d5-66ec56a36054"
      },
      "source": [
        "usa.head()"
      ],
      "execution_count": 26,
      "outputs": [
        {
          "output_type": "execute_result",
          "data": {
            "text/html": [
              "<div>\n",
              "<style scoped>\n",
              "    .dataframe tbody tr th:only-of-type {\n",
              "        vertical-align: middle;\n",
              "    }\n",
              "\n",
              "    .dataframe tbody tr th {\n",
              "        vertical-align: top;\n",
              "    }\n",
              "\n",
              "    .dataframe thead th {\n",
              "        text-align: right;\n",
              "    }\n",
              "</style>\n",
              "<table border=\"1\" class=\"dataframe\">\n",
              "  <thead>\n",
              "    <tr style=\"text-align: right;\">\n",
              "      <th></th>\n",
              "      <th>Name</th>\n",
              "      <th>Status</th>\n",
              "      <th>PopulationCensus1990-04-01</th>\n",
              "      <th>PopulationCensus2000-04-01</th>\n",
              "      <th>PopulationCensus2010-04-01</th>\n",
              "      <th>PopulationEstimate2019-07-01</th>\n",
              "      <th>Unnamed: 6</th>\n",
              "      <th>Pop_Chng_10yr</th>\n",
              "      <th>Real_pop_Chng</th>\n",
              "      <th>Prior_Decade</th>\n",
              "      <th>Tot_Prior_Decade</th>\n",
              "    </tr>\n",
              "  </thead>\n",
              "  <tbody>\n",
              "    <tr>\n",
              "      <th>0</th>\n",
              "      <td>Alabama</td>\n",
              "      <td>State</td>\n",
              "      <td>4040389</td>\n",
              "      <td>4447207</td>\n",
              "      <td>4780125</td>\n",
              "      <td>4903185</td>\n",
              "      <td>→</td>\n",
              "      <td>0.974902</td>\n",
              "      <td>0.025098</td>\n",
              "      <td>0.930354</td>\n",
              "      <td>0.069646</td>\n",
              "    </tr>\n",
              "    <tr>\n",
              "      <th>1</th>\n",
              "      <td>Autauga</td>\n",
              "      <td>County</td>\n",
              "      <td>34222</td>\n",
              "      <td>43751</td>\n",
              "      <td>54597</td>\n",
              "      <td>55869</td>\n",
              "      <td>→</td>\n",
              "      <td>0.977232</td>\n",
              "      <td>0.022768</td>\n",
              "      <td>0.801344</td>\n",
              "      <td>0.198656</td>\n",
              "    </tr>\n",
              "    <tr>\n",
              "      <th>2</th>\n",
              "      <td>Baldwin</td>\n",
              "      <td>County</td>\n",
              "      <td>98280</td>\n",
              "      <td>140416</td>\n",
              "      <td>182265</td>\n",
              "      <td>223234</td>\n",
              "      <td>→</td>\n",
              "      <td>0.816475</td>\n",
              "      <td>0.183525</td>\n",
              "      <td>0.770395</td>\n",
              "      <td>0.229605</td>\n",
              "    </tr>\n",
              "    <tr>\n",
              "      <th>3</th>\n",
              "      <td>Barbour</td>\n",
              "      <td>County</td>\n",
              "      <td>25417</td>\n",
              "      <td>29042</td>\n",
              "      <td>27455</td>\n",
              "      <td>24686</td>\n",
              "      <td>→</td>\n",
              "      <td>1.112169</td>\n",
              "      <td>-0.112169</td>\n",
              "      <td>1.057804</td>\n",
              "      <td>-0.057804</td>\n",
              "    </tr>\n",
              "    <tr>\n",
              "      <th>4</th>\n",
              "      <td>Bibb</td>\n",
              "      <td>County</td>\n",
              "      <td>16598</td>\n",
              "      <td>19856</td>\n",
              "      <td>22915</td>\n",
              "      <td>22394</td>\n",
              "      <td>→</td>\n",
              "      <td>1.023265</td>\n",
              "      <td>-0.023265</td>\n",
              "      <td>0.866507</td>\n",
              "      <td>0.133493</td>\n",
              "    </tr>\n",
              "  </tbody>\n",
              "</table>\n",
              "</div>"
            ],
            "text/plain": [
              "      Name  Status  ... Prior_Decade  Tot_Prior_Decade\n",
              "0  Alabama   State  ...     0.930354          0.069646\n",
              "1  Autauga  County  ...     0.801344          0.198656\n",
              "2  Baldwin  County  ...     0.770395          0.229605\n",
              "3  Barbour  County  ...     1.057804         -0.057804\n",
              "4     Bibb  County  ...     0.866507          0.133493\n",
              "\n",
              "[5 rows x 11 columns]"
            ]
          },
          "metadata": {
            "tags": []
          },
          "execution_count": 26
        }
      ]
    },
    {
      "cell_type": "code",
      "metadata": {
        "id": "8EJFUGVoXCai",
        "colab_type": "code",
        "colab": {
          "base_uri": "https://localhost:8080/",
          "height": 500
        },
        "outputId": "eeeba116-8ee5-466d-c4a4-c7a7ec20cc4f"
      },
      "source": [
        "plt.figure(figsize=(14,8))\n",
        "\n",
        "plt.plot(usa['Real_pop_Chng'])\n",
        "plt.plot(usa['Tot_Prior_Decade'])"
      ],
      "execution_count": 27,
      "outputs": [
        {
          "output_type": "execute_result",
          "data": {
            "text/plain": [
              "[<matplotlib.lines.Line2D at 0x7f956d15a080>]"
            ]
          },
          "metadata": {
            "tags": []
          },
          "execution_count": 27
        },
        {
          "output_type": "display_data",
          "data": {
            "image/png": "[encoded data removed]",
            "text/plain": [
              "<Figure size 1008x576 with 1 Axes>"
            ]
          },
          "metadata": {
            "tags": [],
            "needs_background": "light"
          }
        }
      ]
    },
    {
      "cell_type": "code",
      "metadata": {
        "id": "GVzhWk8oXW9U",
        "colab_type": "code",
        "colab": {}
      },
      "source": [
        "from pymc3 import Model"
      ],
      "execution_count": 28,
      "outputs": []
    },
    {
      "cell_type": "code",
      "metadata": {
        "id": "lARpypu1b7sS",
        "colab_type": "code",
        "colab": {}
      },
      "source": [
        "from pymc3 import distributions\n",
        "from pymc3 import Distribution\n",
        "from pymc3 import Discrete"
      ],
      "execution_count": 29,
      "outputs": []
    },
    {
      "cell_type": "code",
      "metadata": {
        "id": "1Eyh52UmcF6H",
        "colab_type": "code",
        "colab": {}
      },
      "source": [
        "from pymc3 import Normal\n",
        "from pymc3 import Continuous"
      ],
      "execution_count": 30,
      "outputs": []
    },
    {
      "cell_type": "code",
      "metadata": {
        "id": "cU170qsocZbX",
        "colab_type": "code",
        "colab": {}
      },
      "source": [
        "from pymc3 import model"
      ],
      "execution_count": 33,
      "outputs": []
    },
    {
      "cell_type": "code",
      "metadata": {
        "id": "f3ZWcqqBcnB1",
        "colab_type": "code",
        "colab": {}
      },
      "source": [
        "from scipy import stats as stats"
      ],
      "execution_count": 34,
      "outputs": []
    },
    {
      "cell_type": "code",
      "metadata": {
        "id": "cir8slUHe780",
        "colab_type": "code",
        "colab": {
          "base_uri": "https://localhost:8080/",
          "height": 211
        },
        "outputId": "71dd504a-b8fd-4f89-a101-d425977eb73a"
      },
      "source": [
        "usa.head()"
      ],
      "execution_count": 35,
      "outputs": [
        {
          "output_type": "execute_result",
          "data": {
            "text/html": [
              "<div>\n",
              "<style scoped>\n",
              "    .dataframe tbody tr th:only-of-type {\n",
              "        vertical-align: middle;\n",
              "    }\n",
              "\n",
              "    .dataframe tbody tr th {\n",
              "        vertical-align: top;\n",
              "    }\n",
              "\n",
              "    .dataframe thead th {\n",
              "        text-align: right;\n",
              "    }\n",
              "</style>\n",
              "<table border=\"1\" class=\"dataframe\">\n",
              "  <thead>\n",
              "    <tr style=\"text-align: right;\">\n",
              "      <th></th>\n",
              "      <th>Name</th>\n",
              "      <th>Status</th>\n",
              "      <th>PopulationCensus1990-04-01</th>\n",
              "      <th>PopulationCensus2000-04-01</th>\n",
              "      <th>PopulationCensus2010-04-01</th>\n",
              "      <th>PopulationEstimate2019-07-01</th>\n",
              "      <th>Unnamed: 6</th>\n",
              "      <th>Pop_Chng_10yr</th>\n",
              "      <th>Real_pop_Chng</th>\n",
              "      <th>Prior_Decade</th>\n",
              "      <th>Tot_Prior_Decade</th>\n",
              "    </tr>\n",
              "  </thead>\n",
              "  <tbody>\n",
              "    <tr>\n",
              "      <th>0</th>\n",
              "      <td>Alabama</td>\n",
              "      <td>State</td>\n",
              "      <td>4040389</td>\n",
              "      <td>4447207</td>\n",
              "      <td>4780125</td>\n",
              "      <td>4903185</td>\n",
              "      <td>→</td>\n",
              "      <td>0.974902</td>\n",
              "      <td>0.025098</td>\n",
              "      <td>0.930354</td>\n",
              "      <td>0.069646</td>\n",
              "    </tr>\n",
              "    <tr>\n",
              "      <th>1</th>\n",
              "      <td>Autauga</td>\n",
              "      <td>County</td>\n",
              "      <td>34222</td>\n",
              "      <td>43751</td>\n",
              "      <td>54597</td>\n",
              "      <td>55869</td>\n",
              "      <td>→</td>\n",
              "      <td>0.977232</td>\n",
              "      <td>0.022768</td>\n",
              "      <td>0.801344</td>\n",
              "      <td>0.198656</td>\n",
              "    </tr>\n",
              "    <tr>\n",
              "      <th>2</th>\n",
              "      <td>Baldwin</td>\n",
              "      <td>County</td>\n",
              "      <td>98280</td>\n",
              "      <td>140416</td>\n",
              "      <td>182265</td>\n",
              "      <td>223234</td>\n",
              "      <td>→</td>\n",
              "      <td>0.816475</td>\n",
              "      <td>0.183525</td>\n",
              "      <td>0.770395</td>\n",
              "      <td>0.229605</td>\n",
              "    </tr>\n",
              "    <tr>\n",
              "      <th>3</th>\n",
              "      <td>Barbour</td>\n",
              "      <td>County</td>\n",
              "      <td>25417</td>\n",
              "      <td>29042</td>\n",
              "      <td>27455</td>\n",
              "      <td>24686</td>\n",
              "      <td>→</td>\n",
              "      <td>1.112169</td>\n",
              "      <td>-0.112169</td>\n",
              "      <td>1.057804</td>\n",
              "      <td>-0.057804</td>\n",
              "    </tr>\n",
              "    <tr>\n",
              "      <th>4</th>\n",
              "      <td>Bibb</td>\n",
              "      <td>County</td>\n",
              "      <td>16598</td>\n",
              "      <td>19856</td>\n",
              "      <td>22915</td>\n",
              "      <td>22394</td>\n",
              "      <td>→</td>\n",
              "      <td>1.023265</td>\n",
              "      <td>-0.023265</td>\n",
              "      <td>0.866507</td>\n",
              "      <td>0.133493</td>\n",
              "    </tr>\n",
              "  </tbody>\n",
              "</table>\n",
              "</div>"
            ],
            "text/plain": [
              "      Name  Status  ... Prior_Decade  Tot_Prior_Decade\n",
              "0  Alabama   State  ...     0.930354          0.069646\n",
              "1  Autauga  County  ...     0.801344          0.198656\n",
              "2  Baldwin  County  ...     0.770395          0.229605\n",
              "3  Barbour  County  ...     1.057804         -0.057804\n",
              "4     Bibb  County  ...     0.866507          0.133493\n",
              "\n",
              "[5 rows x 11 columns]"
            ]
          },
          "metadata": {
            "tags": []
          },
          "execution_count": 35
        }
      ]
    },
    {
      "cell_type": "code",
      "metadata": {
        "id": "E2eLa4WifTQ-",
        "colab_type": "code",
        "colab": {
          "base_uri": "https://localhost:8080/",
          "height": 282
        },
        "outputId": "d2254e31-c95e-47fe-a432-a6c688323fc6"
      },
      "source": [
        "usa.describe()"
      ],
      "execution_count": 37,
      "outputs": [
        {
          "output_type": "execute_result",
          "data": {
            "text/html": [
              "<div>\n",
              "<style scoped>\n",
              "    .dataframe tbody tr th:only-of-type {\n",
              "        vertical-align: middle;\n",
              "    }\n",
              "\n",
              "    .dataframe tbody tr th {\n",
              "        vertical-align: top;\n",
              "    }\n",
              "\n",
              "    .dataframe thead th {\n",
              "        text-align: right;\n",
              "    }\n",
              "</style>\n",
              "<table border=\"1\" class=\"dataframe\">\n",
              "  <thead>\n",
              "    <tr style=\"text-align: right;\">\n",
              "      <th></th>\n",
              "      <th>PopulationCensus2000-04-01</th>\n",
              "      <th>PopulationCensus2010-04-01</th>\n",
              "      <th>PopulationEstimate2019-07-01</th>\n",
              "      <th>Pop_Chng_10yr</th>\n",
              "      <th>Real_pop_Chng</th>\n",
              "      <th>Prior_Decade</th>\n",
              "      <th>Tot_Prior_Decade</th>\n",
              "    </tr>\n",
              "  </thead>\n",
              "  <tbody>\n",
              "    <tr>\n",
              "      <th>count</th>\n",
              "      <td>3.194000e+03</td>\n",
              "      <td>3.194000e+03</td>\n",
              "      <td>3.194000e+03</td>\n",
              "      <td>3194.000000</td>\n",
              "      <td>3194.000000</td>\n",
              "      <td>3194.000000</td>\n",
              "      <td>3194.000000</td>\n",
              "    </tr>\n",
              "    <tr>\n",
              "      <th>mean</th>\n",
              "      <td>2.643303e+05</td>\n",
              "      <td>2.900045e+05</td>\n",
              "      <td>3.083026e+05</td>\n",
              "      <td>0.995540</td>\n",
              "      <td>0.004460</td>\n",
              "      <td>0.962388</td>\n",
              "      <td>0.037612</td>\n",
              "    </tr>\n",
              "    <tr>\n",
              "      <th>std</th>\n",
              "      <td>5.089909e+06</td>\n",
              "      <td>5.585054e+06</td>\n",
              "      <td>5.939529e+06</td>\n",
              "      <td>0.077572</td>\n",
              "      <td>0.077572</td>\n",
              "      <td>0.108561</td>\n",
              "      <td>0.108561</td>\n",
              "    </tr>\n",
              "    <tr>\n",
              "      <th>min</th>\n",
              "      <td>6.700000e+01</td>\n",
              "      <td>8.200000e+01</td>\n",
              "      <td>8.600000e+01</td>\n",
              "      <td>0.423256</td>\n",
              "      <td>-0.499266</td>\n",
              "      <td>0.475062</td>\n",
              "      <td>-0.872858</td>\n",
              "    </tr>\n",
              "    <tr>\n",
              "      <th>25%</th>\n",
              "      <td>1.138075e+04</td>\n",
              "      <td>1.129900e+04</td>\n",
              "      <td>1.112875e+04</td>\n",
              "      <td>0.954024</td>\n",
              "      <td>-0.043910</td>\n",
              "      <td>0.906180</td>\n",
              "      <td>-0.023930</td>\n",
              "    </tr>\n",
              "    <tr>\n",
              "      <th>50%</th>\n",
              "      <td>2.543200e+04</td>\n",
              "      <td>2.642550e+04</td>\n",
              "      <td>2.653750e+04</td>\n",
              "      <td>1.004027</td>\n",
              "      <td>-0.004027</td>\n",
              "      <td>0.967992</td>\n",
              "      <td>0.032008</td>\n",
              "    </tr>\n",
              "    <tr>\n",
              "      <th>75%</th>\n",
              "      <td>6.536525e+04</td>\n",
              "      <td>7.150900e+04</td>\n",
              "      <td>7.334800e+04</td>\n",
              "      <td>1.043910</td>\n",
              "      <td>0.045976</td>\n",
              "      <td>1.023930</td>\n",
              "      <td>0.093820</td>\n",
              "    </tr>\n",
              "    <tr>\n",
              "      <th>max</th>\n",
              "      <td>2.814219e+08</td>\n",
              "      <td>3.087581e+08</td>\n",
              "      <td>3.282395e+08</td>\n",
              "      <td>1.499266</td>\n",
              "      <td>0.576744</td>\n",
              "      <td>1.872858</td>\n",
              "      <td>0.524938</td>\n",
              "    </tr>\n",
              "  </tbody>\n",
              "</table>\n",
              "</div>"
            ],
            "text/plain": [
              "       PopulationCensus2000-04-01  ...  Tot_Prior_Decade\n",
              "count                3.194000e+03  ...       3194.000000\n",
              "mean                 2.643303e+05  ...          0.037612\n",
              "std                  5.089909e+06  ...          0.108561\n",
              "min                  6.700000e+01  ...         -0.872858\n",
              "25%                  1.138075e+04  ...         -0.023930\n",
              "50%                  2.543200e+04  ...          0.032008\n",
              "75%                  6.536525e+04  ...          0.093820\n",
              "max                  2.814219e+08  ...          0.524938\n",
              "\n",
              "[8 rows x 7 columns]"
            ]
          },
          "metadata": {
            "tags": []
          },
          "execution_count": 37
        }
      ]
    },
    {
      "cell_type": "code",
      "metadata": {
        "id": "I64a3_AkfmlG",
        "colab_type": "code",
        "colab": {}
      },
      "source": [
        "R = operator.sub(usa['Real_pop_Chng'],usa['Tot_Prior_Decade'])"
      ],
      "execution_count": 38,
      "outputs": []
    },
    {
      "cell_type": "code",
      "metadata": {
        "id": "2vc9nV1ZgIrN",
        "colab_type": "code",
        "colab": {}
      },
      "source": [
        "usa['Diff_Chng']=(R)"
      ],
      "execution_count": 39,
      "outputs": []
    },
    {
      "cell_type": "code",
      "metadata": {
        "id": "sEZZxxVfgNT3",
        "colab_type": "code",
        "colab": {
          "base_uri": "https://localhost:8080/",
          "height": 211
        },
        "outputId": "b8798fad-9f53-4ca6-fe82-b1dd4e1ad4e1"
      },
      "source": [
        "usa.head()"
      ],
      "execution_count": 40,
      "outputs": [
        {
          "output_type": "execute_result",
          "data": {
            "text/html": [
              "<div>\n",
              "<style scoped>\n",
              "    .dataframe tbody tr th:only-of-type {\n",
              "        vertical-align: middle;\n",
              "    }\n",
              "\n",
              "    .dataframe tbody tr th {\n",
              "        vertical-align: top;\n",
              "    }\n",
              "\n",
              "    .dataframe thead th {\n",
              "        text-align: right;\n",
              "    }\n",
              "</style>\n",
              "<table border=\"1\" class=\"dataframe\">\n",
              "  <thead>\n",
              "    <tr style=\"text-align: right;\">\n",
              "      <th></th>\n",
              "      <th>Name</th>\n",
              "      <th>Status</th>\n",
              "      <th>PopulationCensus1990-04-01</th>\n",
              "      <th>PopulationCensus2000-04-01</th>\n",
              "      <th>PopulationCensus2010-04-01</th>\n",
              "      <th>PopulationEstimate2019-07-01</th>\n",
              "      <th>Unnamed: 6</th>\n",
              "      <th>Pop_Chng_10yr</th>\n",
              "      <th>Real_pop_Chng</th>\n",
              "      <th>Prior_Decade</th>\n",
              "      <th>Tot_Prior_Decade</th>\n",
              "      <th>Diff_Chng</th>\n",
              "    </tr>\n",
              "  </thead>\n",
              "  <tbody>\n",
              "    <tr>\n",
              "      <th>0</th>\n",
              "      <td>Alabama</td>\n",
              "      <td>State</td>\n",
              "      <td>4040389</td>\n",
              "      <td>4447207</td>\n",
              "      <td>4780125</td>\n",
              "      <td>4903185</td>\n",
              "      <td>→</td>\n",
              "      <td>0.974902</td>\n",
              "      <td>0.025098</td>\n",
              "      <td>0.930354</td>\n",
              "      <td>0.069646</td>\n",
              "      <td>-0.044548</td>\n",
              "    </tr>\n",
              "    <tr>\n",
              "      <th>1</th>\n",
              "      <td>Autauga</td>\n",
              "      <td>County</td>\n",
              "      <td>34222</td>\n",
              "      <td>43751</td>\n",
              "      <td>54597</td>\n",
              "      <td>55869</td>\n",
              "      <td>→</td>\n",
              "      <td>0.977232</td>\n",
              "      <td>0.022768</td>\n",
              "      <td>0.801344</td>\n",
              "      <td>0.198656</td>\n",
              "      <td>-0.175888</td>\n",
              "    </tr>\n",
              "    <tr>\n",
              "      <th>2</th>\n",
              "      <td>Baldwin</td>\n",
              "      <td>County</td>\n",
              "      <td>98280</td>\n",
              "      <td>140416</td>\n",
              "      <td>182265</td>\n",
              "      <td>223234</td>\n",
              "      <td>→</td>\n",
              "      <td>0.816475</td>\n",
              "      <td>0.183525</td>\n",
              "      <td>0.770395</td>\n",
              "      <td>0.229605</td>\n",
              "      <td>-0.046080</td>\n",
              "    </tr>\n",
              "    <tr>\n",
              "      <th>3</th>\n",
              "      <td>Barbour</td>\n",
              "      <td>County</td>\n",
              "      <td>25417</td>\n",
              "      <td>29042</td>\n",
              "      <td>27455</td>\n",
              "      <td>24686</td>\n",
              "      <td>→</td>\n",
              "      <td>1.112169</td>\n",
              "      <td>-0.112169</td>\n",
              "      <td>1.057804</td>\n",
              "      <td>-0.057804</td>\n",
              "      <td>-0.054365</td>\n",
              "    </tr>\n",
              "    <tr>\n",
              "      <th>4</th>\n",
              "      <td>Bibb</td>\n",
              "      <td>County</td>\n",
              "      <td>16598</td>\n",
              "      <td>19856</td>\n",
              "      <td>22915</td>\n",
              "      <td>22394</td>\n",
              "      <td>→</td>\n",
              "      <td>1.023265</td>\n",
              "      <td>-0.023265</td>\n",
              "      <td>0.866507</td>\n",
              "      <td>0.133493</td>\n",
              "      <td>-0.156759</td>\n",
              "    </tr>\n",
              "  </tbody>\n",
              "</table>\n",
              "</div>"
            ],
            "text/plain": [
              "      Name  Status  ... Tot_Prior_Decade  Diff_Chng\n",
              "0  Alabama   State  ...         0.069646  -0.044548\n",
              "1  Autauga  County  ...         0.198656  -0.175888\n",
              "2  Baldwin  County  ...         0.229605  -0.046080\n",
              "3  Barbour  County  ...        -0.057804  -0.054365\n",
              "4     Bibb  County  ...         0.133493  -0.156759\n",
              "\n",
              "[5 rows x 12 columns]"
            ]
          },
          "metadata": {
            "tags": []
          },
          "execution_count": 40
        }
      ]
    },
    {
      "cell_type": "code",
      "metadata": {
        "id": "ZCJafGNigOkf",
        "colab_type": "code",
        "colab": {}
      },
      "source": [
        "States = usa.loc[(usa['Status'])=='State']"
      ],
      "execution_count": 41,
      "outputs": []
    },
    {
      "cell_type": "code",
      "metadata": {
        "id": "-4rBdys2gYRU",
        "colab_type": "code",
        "colab": {
          "base_uri": "https://localhost:8080/",
          "height": 34
        },
        "outputId": "70cf1d2c-6738-4bac-be31-d3512aa1c22c"
      },
      "source": [
        "len(States)"
      ],
      "execution_count": 42,
      "outputs": [
        {
          "output_type": "execute_result",
          "data": {
            "text/plain": [
              "50"
            ]
          },
          "metadata": {
            "tags": []
          },
          "execution_count": 42
        }
      ]
    },
    {
      "cell_type": "code",
      "metadata": {
        "id": "VXZOuehpgZcs",
        "colab_type": "code",
        "colab": {
          "base_uri": "https://localhost:8080/",
          "height": 299
        },
        "outputId": "95bdffb4-10b1-41c6-b7e5-bb2190ed78c7"
      },
      "source": [
        "States.describe()"
      ],
      "execution_count": 43,
      "outputs": [
        {
          "output_type": "execute_result",
          "data": {
            "text/html": [
              "<div>\n",
              "<style scoped>\n",
              "    .dataframe tbody tr th:only-of-type {\n",
              "        vertical-align: middle;\n",
              "    }\n",
              "\n",
              "    .dataframe tbody tr th {\n",
              "        vertical-align: top;\n",
              "    }\n",
              "\n",
              "    .dataframe thead th {\n",
              "        text-align: right;\n",
              "    }\n",
              "</style>\n",
              "<table border=\"1\" class=\"dataframe\">\n",
              "  <thead>\n",
              "    <tr style=\"text-align: right;\">\n",
              "      <th></th>\n",
              "      <th>PopulationCensus2000-04-01</th>\n",
              "      <th>PopulationCensus2010-04-01</th>\n",
              "      <th>PopulationEstimate2019-07-01</th>\n",
              "      <th>Pop_Chng_10yr</th>\n",
              "      <th>Real_pop_Chng</th>\n",
              "      <th>Prior_Decade</th>\n",
              "      <th>Tot_Prior_Decade</th>\n",
              "      <th>Diff_Chng</th>\n",
              "    </tr>\n",
              "  </thead>\n",
              "  <tbody>\n",
              "    <tr>\n",
              "      <th>count</th>\n",
              "      <td>5.000000e+01</td>\n",
              "      <td>5.000000e+01</td>\n",
              "      <td>5.000000e+01</td>\n",
              "      <td>50.000000</td>\n",
              "      <td>50.000000</td>\n",
              "      <td>50.000000</td>\n",
              "      <td>50.000000</td>\n",
              "      <td>50.000000</td>\n",
              "    </tr>\n",
              "    <tr>\n",
              "      <th>mean</th>\n",
              "      <td>5.617050e+06</td>\n",
              "      <td>6.163127e+06</td>\n",
              "      <td>6.550675e+06</td>\n",
              "      <td>0.948213</td>\n",
              "      <td>0.051787</td>\n",
              "      <td>0.913883</td>\n",
              "      <td>0.086117</td>\n",
              "      <td>-0.034330</td>\n",
              "    </tr>\n",
              "    <tr>\n",
              "      <th>std</th>\n",
              "      <td>6.185566e+06</td>\n",
              "      <td>6.848464e+06</td>\n",
              "      <td>7.389282e+06</td>\n",
              "      <td>0.044925</td>\n",
              "      <td>0.044925</td>\n",
              "      <td>0.056875</td>\n",
              "      <td>0.056875</td>\n",
              "      <td>0.034011</td>\n",
              "    </tr>\n",
              "    <tr>\n",
              "      <th>min</th>\n",
              "      <td>4.937860e+05</td>\n",
              "      <td>5.637750e+05</td>\n",
              "      <td>5.787590e+05</td>\n",
              "      <td>0.862111</td>\n",
              "      <td>-0.033965</td>\n",
              "      <td>0.739907</td>\n",
              "      <td>-0.005535</td>\n",
              "      <td>-0.136892</td>\n",
              "    </tr>\n",
              "    <tr>\n",
              "      <th>25%</th>\n",
              "      <td>1.735471e+06</td>\n",
              "      <td>1.832983e+06</td>\n",
              "      <td>1.827712e+06</td>\n",
              "      <td>0.914486</td>\n",
              "      <td>0.018625</td>\n",
              "      <td>0.878073</td>\n",
              "      <td>0.041901</td>\n",
              "      <td>-0.049601</td>\n",
              "    </tr>\n",
              "    <tr>\n",
              "      <th>50%</th>\n",
              "      <td>4.027108e+06</td>\n",
              "      <td>4.436410e+06</td>\n",
              "      <td>4.558234e+06</td>\n",
              "      <td>0.961946</td>\n",
              "      <td>0.038054</td>\n",
              "      <td>0.927332</td>\n",
              "      <td>0.072668</td>\n",
              "      <td>-0.033228</td>\n",
              "    </tr>\n",
              "    <tr>\n",
              "      <th>75%</th>\n",
              "      <td>6.282230e+06</td>\n",
              "      <td>6.680351e+06</td>\n",
              "      <td>7.530849e+06</td>\n",
              "      <td>0.981375</td>\n",
              "      <td>0.085514</td>\n",
              "      <td>0.958099</td>\n",
              "      <td>0.121927</td>\n",
              "      <td>-0.015627</td>\n",
              "    </tr>\n",
              "    <tr>\n",
              "      <th>max</th>\n",
              "      <td>3.387165e+07</td>\n",
              "      <td>3.725452e+07</td>\n",
              "      <td>3.951222e+07</td>\n",
              "      <td>1.033965</td>\n",
              "      <td>0.137889</td>\n",
              "      <td>1.005535</td>\n",
              "      <td>0.260093</td>\n",
              "      <td>0.072317</td>\n",
              "    </tr>\n",
              "  </tbody>\n",
              "</table>\n",
              "</div>"
            ],
            "text/plain": [
              "       PopulationCensus2000-04-01  ...  Diff_Chng\n",
              "count                5.000000e+01  ...  50.000000\n",
              "mean                 5.617050e+06  ...  -0.034330\n",
              "std                  6.185566e+06  ...   0.034011\n",
              "min                  4.937860e+05  ...  -0.136892\n",
              "25%                  1.735471e+06  ...  -0.049601\n",
              "50%                  4.027108e+06  ...  -0.033228\n",
              "75%                  6.282230e+06  ...  -0.015627\n",
              "max                  3.387165e+07  ...   0.072317\n",
              "\n",
              "[8 rows x 8 columns]"
            ]
          },
          "metadata": {
            "tags": []
          },
          "execution_count": 43
        }
      ]
    },
    {
      "cell_type": "code",
      "metadata": {
        "id": "z6jCGJEcgbs1",
        "colab_type": "code",
        "colab": {
          "base_uri": "https://localhost:8080/",
          "height": 282
        },
        "outputId": "18a479c8-3905-49ae-8ccf-d4b5235ec5d2"
      },
      "source": [
        "States.Real_pop_Chng.hist()"
      ],
      "execution_count": 44,
      "outputs": [
        {
          "output_type": "execute_result",
          "data": {
            "text/plain": [
              "<matplotlib.axes._subplots.AxesSubplot at 0x7f956d6aae80>"
            ]
          },
          "metadata": {
            "tags": []
          },
          "execution_count": 44
        },
        {
          "output_type": "display_data",
          "data": {
            "image/png": "[encoded data removed]",
            "text/plain": [
              "<Figure size 432x288 with 1 Axes>"
            ]
          },
          "metadata": {
            "tags": [],
            "needs_background": "light"
          }
        }
      ]
    },
    {
      "cell_type": "code",
      "metadata": {
        "id": "NhPgQCmbhsBv",
        "colab_type": "code",
        "colab": {
          "base_uri": "https://localhost:8080/",
          "height": 282
        },
        "outputId": "26d2d182-9f29-4a56-b7f8-7a7295dcafdb"
      },
      "source": [
        "States.Tot_Prior_Decade.hist()"
      ],
      "execution_count": 45,
      "outputs": [
        {
          "output_type": "execute_result",
          "data": {
            "text/plain": [
              "<matplotlib.axes._subplots.AxesSubplot at 0x7f956d737240>"
            ]
          },
          "metadata": {
            "tags": []
          },
          "execution_count": 45
        },
        {
          "output_type": "display_data",
          "data": {
            "image/png": "[encoded data removed]",
            "text/plain": [
              "<Figure size 432x288 with 1 Axes>"
            ]
          },
          "metadata": {
            "tags": [],
            "needs_background": "light"
          }
        }
      ]
    },
    {
      "cell_type": "code",
      "metadata": {
        "id": "uFYbRXw-hzVi",
        "colab_type": "code",
        "colab": {}
      },
      "source": [
        "dist_state =np.random.normal(0.051787,0.056875,50)"
      ],
      "execution_count": 47,
      "outputs": []
    },
    {
      "cell_type": "code",
      "metadata": {
        "id": "I6qiR9L3iUBR",
        "colab_type": "code",
        "colab": {
          "base_uri": "https://localhost:8080/",
          "height": 351
        },
        "outputId": "efb35fe7-3e93-4a52-f96d-8d4d0c004b83"
      },
      "source": [
        "plt.hist(dist_state)"
      ],
      "execution_count": 49,
      "outputs": [
        {
          "output_type": "execute_result",
          "data": {
            "text/plain": [
              "(array([6., 3., 4., 8., 5., 6., 7., 6., 3., 2.]),\n",
              " array([-0.03362709, -0.01377818,  0.00607073,  0.02591964,  0.04576855,\n",
              "         0.06561746,  0.08546637,  0.10531528,  0.12516419,  0.14501309,\n",
              "         0.164862  ]),\n",
              " <a list of 10 Patch objects>)"
            ]
          },
          "metadata": {
            "tags": []
          },
          "execution_count": 49
        },
        {
          "output_type": "display_data",
          "data": {
            "image/png": "[encoded data removed]",
            "text/plain": [
              "<Figure size 432x288 with 1 Axes>"
            ]
          },
          "metadata": {
            "tags": [],
            "needs_background": "light"
          }
        }
      ]
    },
    {
      "cell_type": "code",
      "metadata": {
        "id": "7iWy_QsciZsb",
        "colab_type": "code",
        "colab": {}
      },
      "source": [
        "hitter = pd.read_csv('Batted_Balls_95_2019.csv')"
      ],
      "execution_count": 50,
      "outputs": []
    },
    {
      "cell_type": "code",
      "metadata": {
        "id": "fvEwtGC5qxFL",
        "colab_type": "code",
        "colab": {}
      },
      "source": [
        "pitcher = pd.read_csv('Pitchers_Batted_Balls_95_2019.csv')"
      ],
      "execution_count": 51,
      "outputs": []
    },
    {
      "cell_type": "code",
      "metadata": {
        "id": "S9zUCybCq4Km",
        "colab_type": "code",
        "colab": {
          "base_uri": "https://localhost:8080/",
          "height": 302
        },
        "outputId": "80bb92b2-a1f7-4503-935a-d938adfc1800"
      },
      "source": [
        "hitter.describe()"
      ],
      "execution_count": 52,
      "outputs": [
        {
          "output_type": "execute_result",
          "data": {
            "text/html": [
              "<div>\n",
              "<style scoped>\n",
              "    .dataframe tbody tr th:only-of-type {\n",
              "        vertical-align: middle;\n",
              "    }\n",
              "\n",
              "    .dataframe tbody tr th {\n",
              "        vertical-align: top;\n",
              "    }\n",
              "\n",
              "    .dataframe thead th {\n",
              "        text-align: right;\n",
              "    }\n",
              "</style>\n",
              "<table border=\"1\" class=\"dataframe\">\n",
              "  <thead>\n",
              "    <tr style=\"text-align: right;\">\n",
              "      <th></th>\n",
              "      <th>Season</th>\n",
              "      <th>PA</th>\n",
              "      <th>GB/FB</th>\n",
              "      <th>LD%</th>\n",
              "      <th>GB%</th>\n",
              "      <th>FB%</th>\n",
              "      <th>IFFB%</th>\n",
              "      <th>HR/FB</th>\n",
              "      <th>IFH%</th>\n",
              "      <th>BUH%</th>\n",
              "      <th>Pull%</th>\n",
              "      <th>Cent%</th>\n",
              "      <th>Oppo%</th>\n",
              "      <th>Soft%</th>\n",
              "      <th>Med%</th>\n",
              "      <th>Hard%</th>\n",
              "      <th>playerId</th>\n",
              "    </tr>\n",
              "  </thead>\n",
              "  <tbody>\n",
              "    <tr>\n",
              "      <th>count</th>\n",
              "      <td>6430.000000</td>\n",
              "      <td>6430.000000</td>\n",
              "      <td>6430.000000</td>\n",
              "      <td>6430.000000</td>\n",
              "      <td>6430.000000</td>\n",
              "      <td>6430.000000</td>\n",
              "      <td>6430.000000</td>\n",
              "      <td>6430.000000</td>\n",
              "      <td>6430.000000</td>\n",
              "      <td>6430.000000</td>\n",
              "      <td>6430.000000</td>\n",
              "      <td>6430.00000</td>\n",
              "      <td>6430.000000</td>\n",
              "      <td>6430.000000</td>\n",
              "      <td>6430.000000</td>\n",
              "      <td>6430.000000</td>\n",
              "      <td>6430.000000</td>\n",
              "    </tr>\n",
              "    <tr>\n",
              "      <th>mean</th>\n",
              "      <td>2010.563608</td>\n",
              "      <td>451.339969</td>\n",
              "      <td>1.300719</td>\n",
              "      <td>0.204941</td>\n",
              "      <td>0.435379</td>\n",
              "      <td>0.359681</td>\n",
              "      <td>0.099693</td>\n",
              "      <td>0.110463</td>\n",
              "      <td>0.061210</td>\n",
              "      <td>0.187390</td>\n",
              "      <td>0.411079</td>\n",
              "      <td>0.33223</td>\n",
              "      <td>0.256692</td>\n",
              "      <td>0.167620</td>\n",
              "      <td>0.537349</td>\n",
              "      <td>0.295031</td>\n",
              "      <td>4631.942302</td>\n",
              "    </tr>\n",
              "    <tr>\n",
              "      <th>std</th>\n",
              "      <td>5.190889</td>\n",
              "      <td>157.194341</td>\n",
              "      <td>0.512462</td>\n",
              "      <td>0.031842</td>\n",
              "      <td>0.067151</td>\n",
              "      <td>0.069239</td>\n",
              "      <td>0.045701</td>\n",
              "      <td>0.061941</td>\n",
              "      <td>0.028967</td>\n",
              "      <td>0.266362</td>\n",
              "      <td>0.063100</td>\n",
              "      <td>0.04302</td>\n",
              "      <td>0.047039</td>\n",
              "      <td>0.044628</td>\n",
              "      <td>0.069232</td>\n",
              "      <td>0.069527</td>\n",
              "      <td>4539.580101</td>\n",
              "    </tr>\n",
              "    <tr>\n",
              "      <th>min</th>\n",
              "      <td>2002.000000</td>\n",
              "      <td>190.000000</td>\n",
              "      <td>0.293100</td>\n",
              "      <td>0.091500</td>\n",
              "      <td>0.193900</td>\n",
              "      <td>0.092600</td>\n",
              "      <td>0.000000</td>\n",
              "      <td>0.000000</td>\n",
              "      <td>0.000000</td>\n",
              "      <td>0.000000</td>\n",
              "      <td>0.178200</td>\n",
              "      <td>0.16770</td>\n",
              "      <td>0.112600</td>\n",
              "      <td>0.047300</td>\n",
              "      <td>0.311900</td>\n",
              "      <td>0.072500</td>\n",
              "      <td>1.000000</td>\n",
              "    </tr>\n",
              "    <tr>\n",
              "      <th>25%</th>\n",
              "      <td>2006.000000</td>\n",
              "      <td>310.000000</td>\n",
              "      <td>0.966700</td>\n",
              "      <td>0.183300</td>\n",
              "      <td>0.389200</td>\n",
              "      <td>0.314300</td>\n",
              "      <td>0.068200</td>\n",
              "      <td>0.064500</td>\n",
              "      <td>0.040000</td>\n",
              "      <td>0.000000</td>\n",
              "      <td>0.370125</td>\n",
              "      <td>0.30300</td>\n",
              "      <td>0.224400</td>\n",
              "      <td>0.136600</td>\n",
              "      <td>0.488625</td>\n",
              "      <td>0.247800</td>\n",
              "      <td>1026.750000</td>\n",
              "    </tr>\n",
              "    <tr>\n",
              "      <th>50%</th>\n",
              "      <td>2011.000000</td>\n",
              "      <td>452.000000</td>\n",
              "      <td>1.198700</td>\n",
              "      <td>0.204000</td>\n",
              "      <td>0.432400</td>\n",
              "      <td>0.360800</td>\n",
              "      <td>0.097000</td>\n",
              "      <td>0.104700</td>\n",
              "      <td>0.058800</td>\n",
              "      <td>0.000000</td>\n",
              "      <td>0.411050</td>\n",
              "      <td>0.33430</td>\n",
              "      <td>0.255400</td>\n",
              "      <td>0.164350</td>\n",
              "      <td>0.535500</td>\n",
              "      <td>0.294100</td>\n",
              "      <td>2962.500000</td>\n",
              "    </tr>\n",
              "    <tr>\n",
              "      <th>75%</th>\n",
              "      <td>2015.000000</td>\n",
              "      <td>589.750000</td>\n",
              "      <td>1.510600</td>\n",
              "      <td>0.225400</td>\n",
              "      <td>0.478300</td>\n",
              "      <td>0.406000</td>\n",
              "      <td>0.128600</td>\n",
              "      <td>0.148900</td>\n",
              "      <td>0.078375</td>\n",
              "      <td>0.333300</td>\n",
              "      <td>0.452875</td>\n",
              "      <td>0.36210</td>\n",
              "      <td>0.286900</td>\n",
              "      <td>0.194300</td>\n",
              "      <td>0.584800</td>\n",
              "      <td>0.342200</td>\n",
              "      <td>7435.000000</td>\n",
              "    </tr>\n",
              "    <tr>\n",
              "      <th>max</th>\n",
              "      <td>2019.000000</td>\n",
              "      <td>778.000000</td>\n",
              "      <td>7.500000</td>\n",
              "      <td>0.339300</td>\n",
              "      <td>0.727800</td>\n",
              "      <td>0.661600</td>\n",
              "      <td>0.416700</td>\n",
              "      <td>0.413800</td>\n",
              "      <td>0.242400</td>\n",
              "      <td>1.000000</td>\n",
              "      <td>0.660800</td>\n",
              "      <td>0.50390</td>\n",
              "      <td>0.488800</td>\n",
              "      <td>0.371900</td>\n",
              "      <td>0.748500</td>\n",
              "      <td>0.551900</td>\n",
              "      <td>20123.000000</td>\n",
              "    </tr>\n",
              "  </tbody>\n",
              "</table>\n",
              "</div>"
            ],
            "text/plain": [
              "            Season           PA  ...        Hard%      playerId\n",
              "count  6430.000000  6430.000000  ...  6430.000000   6430.000000\n",
              "mean   2010.563608   451.339969  ...     0.295031   4631.942302\n",
              "std       5.190889   157.194341  ...     0.069527   4539.580101\n",
              "min    2002.000000   190.000000  ...     0.072500      1.000000\n",
              "25%    2006.000000   310.000000  ...     0.247800   1026.750000\n",
              "50%    2011.000000   452.000000  ...     0.294100   2962.500000\n",
              "75%    2015.000000   589.750000  ...     0.342200   7435.000000\n",
              "max    2019.000000   778.000000  ...     0.551900  20123.000000\n",
              "\n",
              "[8 rows x 17 columns]"
            ]
          },
          "metadata": {
            "tags": []
          },
          "execution_count": 52
        }
      ]
    },
    {
      "cell_type": "code",
      "metadata": {
        "id": "zVCoro09q-Af",
        "colab_type": "code",
        "colab": {
          "base_uri": "https://localhost:8080/",
          "height": 302
        },
        "outputId": "1bc1e42c-ecd6-453e-9afc-1ffd34660e8c"
      },
      "source": [
        "pitcher.describe()"
      ],
      "execution_count": 53,
      "outputs": [
        {
          "output_type": "execute_result",
          "data": {
            "text/html": [
              "<div>\n",
              "<style scoped>\n",
              "    .dataframe tbody tr th:only-of-type {\n",
              "        vertical-align: middle;\n",
              "    }\n",
              "\n",
              "    .dataframe tbody tr th {\n",
              "        vertical-align: top;\n",
              "    }\n",
              "\n",
              "    .dataframe thead th {\n",
              "        text-align: right;\n",
              "    }\n",
              "</style>\n",
              "<table border=\"1\" class=\"dataframe\">\n",
              "  <thead>\n",
              "    <tr style=\"text-align: right;\">\n",
              "      <th></th>\n",
              "      <th>Season</th>\n",
              "      <th>IP</th>\n",
              "      <th>TBF</th>\n",
              "      <th>GB/FB</th>\n",
              "      <th>LD%</th>\n",
              "      <th>GB%</th>\n",
              "      <th>FB%</th>\n",
              "      <th>IFFB%</th>\n",
              "      <th>HR/FB</th>\n",
              "      <th>IFH%</th>\n",
              "      <th>BUH%</th>\n",
              "      <th>Pull%</th>\n",
              "      <th>Cent%</th>\n",
              "      <th>Oppo%</th>\n",
              "      <th>Soft%</th>\n",
              "      <th>Med%</th>\n",
              "      <th>Hard%</th>\n",
              "      <th>playerId</th>\n",
              "    </tr>\n",
              "  </thead>\n",
              "  <tbody>\n",
              "    <tr>\n",
              "      <th>count</th>\n",
              "      <td>4908.000000</td>\n",
              "      <td>4908.000000</td>\n",
              "      <td>4908.000000</td>\n",
              "      <td>4908.000000</td>\n",
              "      <td>4908.000000</td>\n",
              "      <td>4908.000000</td>\n",
              "      <td>4908.000000</td>\n",
              "      <td>4908.000000</td>\n",
              "      <td>4908.000000</td>\n",
              "      <td>4908.000000</td>\n",
              "      <td>4908.000000</td>\n",
              "      <td>4908.000000</td>\n",
              "      <td>4908.000000</td>\n",
              "      <td>4908.000000</td>\n",
              "      <td>4908.000000</td>\n",
              "      <td>4908.000000</td>\n",
              "      <td>4908.000000</td>\n",
              "      <td>4908.000000</td>\n",
              "    </tr>\n",
              "    <tr>\n",
              "      <th>mean</th>\n",
              "      <td>2010.482274</td>\n",
              "      <td>121.984943</td>\n",
              "      <td>519.039935</td>\n",
              "      <td>1.362950</td>\n",
              "      <td>0.202383</td>\n",
              "      <td>0.442356</td>\n",
              "      <td>0.355262</td>\n",
              "      <td>0.101183</td>\n",
              "      <td>0.108931</td>\n",
              "      <td>0.061031</td>\n",
              "      <td>0.224613</td>\n",
              "      <td>0.404318</td>\n",
              "      <td>0.333972</td>\n",
              "      <td>0.261711</td>\n",
              "      <td>0.172443</td>\n",
              "      <td>0.541080</td>\n",
              "      <td>0.286477</td>\n",
              "      <td>4960.622861</td>\n",
              "    </tr>\n",
              "    <tr>\n",
              "      <th>std</th>\n",
              "      <td>5.204195</td>\n",
              "      <td>54.727599</td>\n",
              "      <td>229.255726</td>\n",
              "      <td>0.633869</td>\n",
              "      <td>0.028345</td>\n",
              "      <td>0.076723</td>\n",
              "      <td>0.074735</td>\n",
              "      <td>0.035921</td>\n",
              "      <td>0.038327</td>\n",
              "      <td>0.022700</td>\n",
              "      <td>0.201592</td>\n",
              "      <td>0.048021</td>\n",
              "      <td>0.039471</td>\n",
              "      <td>0.041301</td>\n",
              "      <td>0.040365</td>\n",
              "      <td>0.061322</td>\n",
              "      <td>0.053016</td>\n",
              "      <td>4682.603602</td>\n",
              "    </tr>\n",
              "    <tr>\n",
              "      <th>min</th>\n",
              "      <td>2002.000000</td>\n",
              "      <td>60.000000</td>\n",
              "      <td>217.000000</td>\n",
              "      <td>0.317300</td>\n",
              "      <td>0.098900</td>\n",
              "      <td>0.191900</td>\n",
              "      <td>0.076500</td>\n",
              "      <td>0.000000</td>\n",
              "      <td>0.000000</td>\n",
              "      <td>0.000000</td>\n",
              "      <td>0.000000</td>\n",
              "      <td>0.215100</td>\n",
              "      <td>0.190200</td>\n",
              "      <td>0.106800</td>\n",
              "      <td>0.024000</td>\n",
              "      <td>0.336600</td>\n",
              "      <td>0.123900</td>\n",
              "      <td>3.000000</td>\n",
              "    </tr>\n",
              "    <tr>\n",
              "      <th>25%</th>\n",
              "      <td>2006.000000</td>\n",
              "      <td>71.200000</td>\n",
              "      <td>304.000000</td>\n",
              "      <td>0.970975</td>\n",
              "      <td>0.184400</td>\n",
              "      <td>0.391300</td>\n",
              "      <td>0.306100</td>\n",
              "      <td>0.076900</td>\n",
              "      <td>0.083300</td>\n",
              "      <td>0.045800</td>\n",
              "      <td>0.000000</td>\n",
              "      <td>0.372800</td>\n",
              "      <td>0.308900</td>\n",
              "      <td>0.233500</td>\n",
              "      <td>0.146275</td>\n",
              "      <td>0.497600</td>\n",
              "      <td>0.250400</td>\n",
              "      <td>1077.000000</td>\n",
              "    </tr>\n",
              "    <tr>\n",
              "      <th>50%</th>\n",
              "      <td>2010.000000</td>\n",
              "      <td>104.600000</td>\n",
              "      <td>455.000000</td>\n",
              "      <td>1.241800</td>\n",
              "      <td>0.202700</td>\n",
              "      <td>0.440000</td>\n",
              "      <td>0.354150</td>\n",
              "      <td>0.099600</td>\n",
              "      <td>0.105900</td>\n",
              "      <td>0.059500</td>\n",
              "      <td>0.200000</td>\n",
              "      <td>0.404500</td>\n",
              "      <td>0.336600</td>\n",
              "      <td>0.259600</td>\n",
              "      <td>0.169600</td>\n",
              "      <td>0.539200</td>\n",
              "      <td>0.283700</td>\n",
              "      <td>3374.000000</td>\n",
              "    </tr>\n",
              "    <tr>\n",
              "      <th>75%</th>\n",
              "      <td>2015.000000</td>\n",
              "      <td>174.100000</td>\n",
              "      <td>741.000000</td>\n",
              "      <td>1.586750</td>\n",
              "      <td>0.220300</td>\n",
              "      <td>0.489025</td>\n",
              "      <td>0.404100</td>\n",
              "      <td>0.123500</td>\n",
              "      <td>0.131025</td>\n",
              "      <td>0.074200</td>\n",
              "      <td>0.333300</td>\n",
              "      <td>0.435325</td>\n",
              "      <td>0.361000</td>\n",
              "      <td>0.288125</td>\n",
              "      <td>0.195525</td>\n",
              "      <td>0.584025</td>\n",
              "      <td>0.318125</td>\n",
              "      <td>7841.000000</td>\n",
              "    </tr>\n",
              "    <tr>\n",
              "      <th>max</th>\n",
              "      <td>2019.000000</td>\n",
              "      <td>266.000000</td>\n",
              "      <td>1071.000000</td>\n",
              "      <td>9.866700</td>\n",
              "      <td>0.356800</td>\n",
              "      <td>0.800000</td>\n",
              "      <td>0.607600</td>\n",
              "      <td>0.283000</td>\n",
              "      <td>0.288900</td>\n",
              "      <td>0.178600</td>\n",
              "      <td>1.000000</td>\n",
              "      <td>0.596400</td>\n",
              "      <td>0.468900</td>\n",
              "      <td>0.473900</td>\n",
              "      <td>0.398800</td>\n",
              "      <td>0.741100</td>\n",
              "      <td>0.502700</td>\n",
              "      <td>20633.000000</td>\n",
              "    </tr>\n",
              "  </tbody>\n",
              "</table>\n",
              "</div>"
            ],
            "text/plain": [
              "            Season           IP  ...        Hard%      playerId\n",
              "count  4908.000000  4908.000000  ...  4908.000000   4908.000000\n",
              "mean   2010.482274   121.984943  ...     0.286477   4960.622861\n",
              "std       5.204195    54.727599  ...     0.053016   4682.603602\n",
              "min    2002.000000    60.000000  ...     0.123900      3.000000\n",
              "25%    2006.000000    71.200000  ...     0.250400   1077.000000\n",
              "50%    2010.000000   104.600000  ...     0.283700   3374.000000\n",
              "75%    2015.000000   174.100000  ...     0.318125   7841.000000\n",
              "max    2019.000000   266.000000  ...     0.502700  20633.000000\n",
              "\n",
              "[8 rows x 18 columns]"
            ]
          },
          "metadata": {
            "tags": []
          },
          "execution_count": 53
        }
      ]
    },
    {
      "cell_type": "code",
      "metadata": {
        "id": "O1LNyCnRrzB9",
        "colab_type": "code",
        "colab": {
          "base_uri": "https://localhost:8080/",
          "height": 282
        },
        "outputId": "a6395c2b-9960-4eb4-aa59-c958cf683a32"
      },
      "source": [
        "hitter['GB/FB'].hist();pitcher['GB/FB'].hist()"
      ],
      "execution_count": 54,
      "outputs": [
        {
          "output_type": "execute_result",
          "data": {
            "text/plain": [
              "<matplotlib.axes._subplots.AxesSubplot at 0x7f956c6dfe80>"
            ]
          },
          "metadata": {
            "tags": []
          },
          "execution_count": 54
        },
        {
          "output_type": "display_data",
          "data": {
            "image/png": "[encoded data removed]",
            "text/plain": [
              "<Figure size 432x288 with 1 Axes>"
            ]
          },
          "metadata": {
            "tags": [],
            "needs_background": "light"
          }
        }
      ]
    },
    {
      "cell_type": "code",
      "metadata": {
        "id": "srUD8sWYsnN8",
        "colab_type": "code",
        "colab": {
          "base_uri": "https://localhost:8080/",
          "height": 194
        },
        "outputId": "ce57477e-76fe-4de2-b79b-bb310f78e01c"
      },
      "source": [
        "hitter.head()"
      ],
      "execution_count": 55,
      "outputs": [
        {
          "output_type": "execute_result",
          "data": {
            "text/html": [
              "<div>\n",
              "<style scoped>\n",
              "    .dataframe tbody tr th:only-of-type {\n",
              "        vertical-align: middle;\n",
              "    }\n",
              "\n",
              "    .dataframe tbody tr th {\n",
              "        vertical-align: top;\n",
              "    }\n",
              "\n",
              "    .dataframe thead th {\n",
              "        text-align: right;\n",
              "    }\n",
              "</style>\n",
              "<table border=\"1\" class=\"dataframe\">\n",
              "  <thead>\n",
              "    <tr style=\"text-align: right;\">\n",
              "      <th></th>\n",
              "      <th>Season</th>\n",
              "      <th>Name</th>\n",
              "      <th>Tm</th>\n",
              "      <th>PA</th>\n",
              "      <th>GB/FB</th>\n",
              "      <th>LD%</th>\n",
              "      <th>GB%</th>\n",
              "      <th>FB%</th>\n",
              "      <th>IFFB%</th>\n",
              "      <th>HR/FB</th>\n",
              "      <th>IFH%</th>\n",
              "      <th>BUH%</th>\n",
              "      <th>Pull%</th>\n",
              "      <th>Cent%</th>\n",
              "      <th>Oppo%</th>\n",
              "      <th>Soft%</th>\n",
              "      <th>Med%</th>\n",
              "      <th>Hard%</th>\n",
              "      <th>playerId</th>\n",
              "    </tr>\n",
              "  </thead>\n",
              "  <tbody>\n",
              "    <tr>\n",
              "      <th>0</th>\n",
              "      <td>2002</td>\n",
              "      <td>Garret Anderson</td>\n",
              "      <td>ANA</td>\n",
              "      <td>678.0</td>\n",
              "      <td>0.9591</td>\n",
              "      <td>0.2399</td>\n",
              "      <td>0.3721</td>\n",
              "      <td>0.3880</td>\n",
              "      <td>0.0682</td>\n",
              "      <td>0.1318</td>\n",
              "      <td>0.0379</td>\n",
              "      <td>1.0000</td>\n",
              "      <td>0.5176</td>\n",
              "      <td>0.2606</td>\n",
              "      <td>0.2218</td>\n",
              "      <td>0.0951</td>\n",
              "      <td>0.6092</td>\n",
              "      <td>0.2958</td>\n",
              "      <td>2.0</td>\n",
              "    </tr>\n",
              "    <tr>\n",
              "      <th>1</th>\n",
              "      <td>2002</td>\n",
              "      <td>David Eckstein</td>\n",
              "      <td>ANA</td>\n",
              "      <td>702.0</td>\n",
              "      <td>1.3370</td>\n",
              "      <td>0.2323</td>\n",
              "      <td>0.4392</td>\n",
              "      <td>0.3285</td>\n",
              "      <td>0.1602</td>\n",
              "      <td>0.0442</td>\n",
              "      <td>0.0909</td>\n",
              "      <td>0.3429</td>\n",
              "      <td>0.4215</td>\n",
              "      <td>0.2799</td>\n",
              "      <td>0.2986</td>\n",
              "      <td>0.1918</td>\n",
              "      <td>0.6781</td>\n",
              "      <td>0.1301</td>\n",
              "      <td>10.0</td>\n",
              "    </tr>\n",
              "    <tr>\n",
              "      <th>2</th>\n",
              "      <td>2002</td>\n",
              "      <td>Darin Erstad</td>\n",
              "      <td>ANA</td>\n",
              "      <td>663.0</td>\n",
              "      <td>1.5858</td>\n",
              "      <td>0.2154</td>\n",
              "      <td>0.4811</td>\n",
              "      <td>0.3034</td>\n",
              "      <td>0.1361</td>\n",
              "      <td>0.0592</td>\n",
              "      <td>0.0746</td>\n",
              "      <td>0.3000</td>\n",
              "      <td>0.3739</td>\n",
              "      <td>0.3104</td>\n",
              "      <td>0.3157</td>\n",
              "      <td>0.1693</td>\n",
              "      <td>0.6296</td>\n",
              "      <td>0.2011</td>\n",
              "      <td>11.0</td>\n",
              "    </tr>\n",
              "    <tr>\n",
              "      <th>3</th>\n",
              "      <td>2002</td>\n",
              "      <td>Brad Fullmer</td>\n",
              "      <td>ANA</td>\n",
              "      <td>479.0</td>\n",
              "      <td>0.7119</td>\n",
              "      <td>0.2191</td>\n",
              "      <td>0.3247</td>\n",
              "      <td>0.4562</td>\n",
              "      <td>0.1017</td>\n",
              "      <td>0.1073</td>\n",
              "      <td>0.0397</td>\n",
              "      <td>0.0000</td>\n",
              "      <td>0.4897</td>\n",
              "      <td>0.2835</td>\n",
              "      <td>0.2268</td>\n",
              "      <td>0.1237</td>\n",
              "      <td>0.6108</td>\n",
              "      <td>0.2655</td>\n",
              "      <td>13.0</td>\n",
              "    </tr>\n",
              "    <tr>\n",
              "      <th>4</th>\n",
              "      <td>2002</td>\n",
              "      <td>Troy Glaus</td>\n",
              "      <td>ANA</td>\n",
              "      <td>671.0</td>\n",
              "      <td>0.9050</td>\n",
              "      <td>0.2125</td>\n",
              "      <td>0.3741</td>\n",
              "      <td>0.4134</td>\n",
              "      <td>0.1061</td>\n",
              "      <td>0.1676</td>\n",
              "      <td>0.0247</td>\n",
              "      <td>0.0000</td>\n",
              "      <td>0.5358</td>\n",
              "      <td>0.2286</td>\n",
              "      <td>0.2356</td>\n",
              "      <td>0.1157</td>\n",
              "      <td>0.6273</td>\n",
              "      <td>0.2569</td>\n",
              "      <td>15.0</td>\n",
              "    </tr>\n",
              "  </tbody>\n",
              "</table>\n",
              "</div>"
            ],
            "text/plain": [
              "   Season             Name   Tm     PA  ...   Soft%    Med%   Hard%  playerId\n",
              "0    2002  Garret Anderson  ANA  678.0  ...  0.0951  0.6092  0.2958       2.0\n",
              "1    2002   David Eckstein  ANA  702.0  ...  0.1918  0.6781  0.1301      10.0\n",
              "2    2002     Darin Erstad  ANA  663.0  ...  0.1693  0.6296  0.2011      11.0\n",
              "3    2002     Brad Fullmer  ANA  479.0  ...  0.1237  0.6108  0.2655      13.0\n",
              "4    2002       Troy Glaus  ANA  671.0  ...  0.1157  0.6273  0.2569      15.0\n",
              "\n",
              "[5 rows x 19 columns]"
            ]
          },
          "metadata": {
            "tags": []
          },
          "execution_count": 55
        }
      ]
    },
    {
      "cell_type": "code",
      "metadata": {
        "id": "dg7SBGC8sv4W",
        "colab_type": "code",
        "colab": {}
      },
      "source": [
        "hitter_2019 = hitter.loc[(hitter['Season'])==2019]"
      ],
      "execution_count": 57,
      "outputs": []
    },
    {
      "cell_type": "code",
      "metadata": {
        "id": "5H-IUQ4qs6Yb",
        "colab_type": "code",
        "colab": {
          "base_uri": "https://localhost:8080/",
          "height": 34
        },
        "outputId": "1da76dc0-6769-4a01-8ef8-744bc1e10a40"
      },
      "source": [
        "len(hitter_2019)"
      ],
      "execution_count": 58,
      "outputs": [
        {
          "output_type": "execute_result",
          "data": {
            "text/plain": [
              "371"
            ]
          },
          "metadata": {
            "tags": []
          },
          "execution_count": 58
        }
      ]
    },
    {
      "cell_type": "code",
      "metadata": {
        "id": "V9RtLgdQtBEe",
        "colab_type": "code",
        "colab": {}
      },
      "source": [
        "hitter_2018 = hitter.loc[(hitter['Season'])==2018]\n",
        "hitter_2017 = hitter.loc[(hitter['Season'])==2017]\n",
        "hitter_2016 = hitter.loc[(hitter['Season'])==2016]\n",
        "hitter_2015 = hitter.loc[(hitter['Season'])==2015]\n",
        "hitter_2014 = hitter.loc[(hitter['Season'])==2014]\n",
        "hitter_2013 = hitter.loc[(hitter['Season'])==2013]\n",
        "hitter_2012 = hitter.loc[(hitter['Season'])==2012]"
      ],
      "execution_count": 59,
      "outputs": []
    },
    {
      "cell_type": "code",
      "metadata": {
        "id": "su5UPDPqtcTa",
        "colab_type": "code",
        "colab": {}
      },
      "source": [
        "hitter_2011 = hitter.loc[(hitter['Season'])==2011]\n",
        "hitter_2010 = hitter.loc[(hitter['Season'])==2010]\n",
        "hitter_2009 = hitter.loc[(hitter['Season'])==2009]\n",
        "hitter_2008 = hitter.loc[(hitter['Season'])==2008]\n",
        "hitter_2007 = hitter.loc[(hitter['Season'])==2007]\n",
        "hitter_2006 = hitter.loc[(hitter['Season'])==2006]"
      ],
      "execution_count": 60,
      "outputs": []
    },
    {
      "cell_type": "code",
      "metadata": {
        "id": "fSh7geWAtwfq",
        "colab_type": "code",
        "colab": {}
      },
      "source": [
        "hitter_2005 = hitter.loc[(hitter['Season'])==2005]\n",
        "hitter_2004 = hitter.loc[(hitter['Season'])==2004]\n",
        "hitter_2003 = hitter.loc[(hitter['Season'])==2003]\n",
        "hitter_2002 = hitter.loc[(hitter['Season'])==2002]"
      ],
      "execution_count": 61,
      "outputs": []
    },
    {
      "cell_type": "code",
      "metadata": {
        "id": "GdqMW47Dt90x",
        "colab_type": "code",
        "colab": {}
      },
      "source": [
        "hitter_2001 = hitter.loc[(hitter['Season'])==2001]\n",
        "hitter_2000 = hitter.loc[(hitter['Season'])==2000]\n",
        "hitter_1999 = hitter.loc[(hitter['Season'])==1999]\n",
        "hitter_1998 = hitter.loc[(hitter['Season'])==1998]\n",
        "hitter_1997 = hitter.loc[(hitter['Season'])==1997]\n"
      ],
      "execution_count": 62,
      "outputs": []
    },
    {
      "cell_type": "code",
      "metadata": {
        "id": "HPqUBAy6uOcf",
        "colab_type": "code",
        "colab": {}
      },
      "source": [
        "hitter_1996 = hitter.loc[(hitter['Season'])==1996]\n",
        "hitter_1995 = hitter.loc[(hitter['Season'])==1995]"
      ],
      "execution_count": 67,
      "outputs": []
    },
    {
      "cell_type": "code",
      "metadata": {
        "id": "Z5SEheQVuVja",
        "colab_type": "code",
        "colab": {
          "base_uri": "https://localhost:8080/",
          "height": 302
        },
        "outputId": "7d913168-3e67-46b3-a32f-4ca42dab0857"
      },
      "source": [
        "hitter_2008.describe()"
      ],
      "execution_count": 69,
      "outputs": [
        {
          "output_type": "execute_result",
          "data": {
            "text/html": [
              "<div>\n",
              "<style scoped>\n",
              "    .dataframe tbody tr th:only-of-type {\n",
              "        vertical-align: middle;\n",
              "    }\n",
              "\n",
              "    .dataframe tbody tr th {\n",
              "        vertical-align: top;\n",
              "    }\n",
              "\n",
              "    .dataframe thead th {\n",
              "        text-align: right;\n",
              "    }\n",
              "</style>\n",
              "<table border=\"1\" class=\"dataframe\">\n",
              "  <thead>\n",
              "    <tr style=\"text-align: right;\">\n",
              "      <th></th>\n",
              "      <th>Season</th>\n",
              "      <th>PA</th>\n",
              "      <th>GB/FB</th>\n",
              "      <th>LD%</th>\n",
              "      <th>GB%</th>\n",
              "      <th>FB%</th>\n",
              "      <th>IFFB%</th>\n",
              "      <th>HR/FB</th>\n",
              "      <th>IFH%</th>\n",
              "      <th>BUH%</th>\n",
              "      <th>Pull%</th>\n",
              "      <th>Cent%</th>\n",
              "      <th>Oppo%</th>\n",
              "      <th>Soft%</th>\n",
              "      <th>Med%</th>\n",
              "      <th>Hard%</th>\n",
              "      <th>playerId</th>\n",
              "    </tr>\n",
              "  </thead>\n",
              "  <tbody>\n",
              "    <tr>\n",
              "      <th>count</th>\n",
              "      <td>353.0</td>\n",
              "      <td>353.000000</td>\n",
              "      <td>353.000000</td>\n",
              "      <td>353.000000</td>\n",
              "      <td>353.000000</td>\n",
              "      <td>353.000000</td>\n",
              "      <td>353.000000</td>\n",
              "      <td>353.000000</td>\n",
              "      <td>353.000000</td>\n",
              "      <td>353.000000</td>\n",
              "      <td>353.000000</td>\n",
              "      <td>353.000000</td>\n",
              "      <td>353.000000</td>\n",
              "      <td>353.000000</td>\n",
              "      <td>353.000000</td>\n",
              "      <td>353.000000</td>\n",
              "      <td>353.000000</td>\n",
              "    </tr>\n",
              "    <tr>\n",
              "      <th>mean</th>\n",
              "      <td>2008.0</td>\n",
              "      <td>457.167139</td>\n",
              "      <td>1.277914</td>\n",
              "      <td>0.202286</td>\n",
              "      <td>0.434198</td>\n",
              "      <td>0.363517</td>\n",
              "      <td>0.100124</td>\n",
              "      <td>0.097239</td>\n",
              "      <td>0.058183</td>\n",
              "      <td>0.163323</td>\n",
              "      <td>0.410097</td>\n",
              "      <td>0.331730</td>\n",
              "      <td>0.258174</td>\n",
              "      <td>0.166625</td>\n",
              "      <td>0.558280</td>\n",
              "      <td>0.275092</td>\n",
              "      <td>2551.725212</td>\n",
              "    </tr>\n",
              "    <tr>\n",
              "      <th>std</th>\n",
              "      <td>0.0</td>\n",
              "      <td>156.449247</td>\n",
              "      <td>0.476219</td>\n",
              "      <td>0.030866</td>\n",
              "      <td>0.068521</td>\n",
              "      <td>0.068414</td>\n",
              "      <td>0.046691</td>\n",
              "      <td>0.058072</td>\n",
              "      <td>0.026941</td>\n",
              "      <td>0.244649</td>\n",
              "      <td>0.065168</td>\n",
              "      <td>0.036704</td>\n",
              "      <td>0.048131</td>\n",
              "      <td>0.040562</td>\n",
              "      <td>0.053065</td>\n",
              "      <td>0.059867</td>\n",
              "      <td>2283.304591</td>\n",
              "    </tr>\n",
              "    <tr>\n",
              "      <th>min</th>\n",
              "      <td>2008.0</td>\n",
              "      <td>192.000000</td>\n",
              "      <td>0.524800</td>\n",
              "      <td>0.112800</td>\n",
              "      <td>0.272500</td>\n",
              "      <td>0.183600</td>\n",
              "      <td>0.000000</td>\n",
              "      <td>0.000000</td>\n",
              "      <td>0.000000</td>\n",
              "      <td>0.000000</td>\n",
              "      <td>0.206900</td>\n",
              "      <td>0.210800</td>\n",
              "      <td>0.122000</td>\n",
              "      <td>0.058800</td>\n",
              "      <td>0.416300</td>\n",
              "      <td>0.095600</td>\n",
              "      <td>1.000000</td>\n",
              "    </tr>\n",
              "    <tr>\n",
              "      <th>25%</th>\n",
              "      <td>2008.0</td>\n",
              "      <td>324.000000</td>\n",
              "      <td>0.949500</td>\n",
              "      <td>0.180900</td>\n",
              "      <td>0.383900</td>\n",
              "      <td>0.319800</td>\n",
              "      <td>0.068400</td>\n",
              "      <td>0.056300</td>\n",
              "      <td>0.039000</td>\n",
              "      <td>0.000000</td>\n",
              "      <td>0.367400</td>\n",
              "      <td>0.306100</td>\n",
              "      <td>0.223800</td>\n",
              "      <td>0.140400</td>\n",
              "      <td>0.519900</td>\n",
              "      <td>0.235300</td>\n",
              "      <td>843.000000</td>\n",
              "    </tr>\n",
              "    <tr>\n",
              "      <th>50%</th>\n",
              "      <td>2008.0</td>\n",
              "      <td>453.000000</td>\n",
              "      <td>1.212900</td>\n",
              "      <td>0.203400</td>\n",
              "      <td>0.434300</td>\n",
              "      <td>0.361600</td>\n",
              "      <td>0.098600</td>\n",
              "      <td>0.089300</td>\n",
              "      <td>0.055600</td>\n",
              "      <td>0.000000</td>\n",
              "      <td>0.411100</td>\n",
              "      <td>0.331500</td>\n",
              "      <td>0.254500</td>\n",
              "      <td>0.161000</td>\n",
              "      <td>0.558300</td>\n",
              "      <td>0.278900</td>\n",
              "      <td>1717.000000</td>\n",
              "    </tr>\n",
              "    <tr>\n",
              "      <th>75%</th>\n",
              "      <td>2008.0</td>\n",
              "      <td>602.000000</td>\n",
              "      <td>1.483100</td>\n",
              "      <td>0.222500</td>\n",
              "      <td>0.471800</td>\n",
              "      <td>0.412500</td>\n",
              "      <td>0.128600</td>\n",
              "      <td>0.137300</td>\n",
              "      <td>0.074800</td>\n",
              "      <td>0.277800</td>\n",
              "      <td>0.455700</td>\n",
              "      <td>0.355400</td>\n",
              "      <td>0.285700</td>\n",
              "      <td>0.193400</td>\n",
              "      <td>0.595400</td>\n",
              "      <td>0.315000</td>\n",
              "      <td>3867.000000</td>\n",
              "    </tr>\n",
              "    <tr>\n",
              "      <th>max</th>\n",
              "      <td>2008.0</td>\n",
              "      <td>763.000000</td>\n",
              "      <td>3.595700</td>\n",
              "      <td>0.300700</td>\n",
              "      <td>0.680200</td>\n",
              "      <td>0.537400</td>\n",
              "      <td>0.256400</td>\n",
              "      <td>0.317900</td>\n",
              "      <td>0.166700</td>\n",
              "      <td>1.000000</td>\n",
              "      <td>0.636800</td>\n",
              "      <td>0.457000</td>\n",
              "      <td>0.420700</td>\n",
              "      <td>0.308800</td>\n",
              "      <td>0.689700</td>\n",
              "      <td>0.462800</td>\n",
              "      <td>9892.000000</td>\n",
              "    </tr>\n",
              "  </tbody>\n",
              "</table>\n",
              "</div>"
            ],
            "text/plain": [
              "       Season          PA       GB/FB  ...        Med%       Hard%     playerId\n",
              "count   353.0  353.000000  353.000000  ...  353.000000  353.000000   353.000000\n",
              "mean   2008.0  457.167139    1.277914  ...    0.558280    0.275092  2551.725212\n",
              "std       0.0  156.449247    0.476219  ...    0.053065    0.059867  2283.304591\n",
              "min    2008.0  192.000000    0.524800  ...    0.416300    0.095600     1.000000\n",
              "25%    2008.0  324.000000    0.949500  ...    0.519900    0.235300   843.000000\n",
              "50%    2008.0  453.000000    1.212900  ...    0.558300    0.278900  1717.000000\n",
              "75%    2008.0  602.000000    1.483100  ...    0.595400    0.315000  3867.000000\n",
              "max    2008.0  763.000000    3.595700  ...    0.689700    0.462800  9892.000000\n",
              "\n",
              "[8 rows x 17 columns]"
            ]
          },
          "metadata": {
            "tags": []
          },
          "execution_count": 69
        }
      ]
    },
    {
      "cell_type": "code",
      "metadata": {
        "id": "mGNl1ZwCvAOt",
        "colab_type": "code",
        "colab": {}
      },
      "source": [
        ""
      ],
      "execution_count": null,
      "outputs": []
    }
  ]
}