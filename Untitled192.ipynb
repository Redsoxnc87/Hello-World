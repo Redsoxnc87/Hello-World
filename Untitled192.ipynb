{
  "nbformat": 4,
  "nbformat_minor": 0,
  "metadata": {
    "colab": {
      "name": "Untitled192.ipynb",
      "provenance": [],
      "collapsed_sections": [],
      "authorship_tag": "ABX9TyMzaobxazrrHg/qj2Tav1uY",
      "include_colab_link": true
    },
    "kernelspec": {
      "name": "python3",
      "display_name": "Python 3"
    }
  },
  "cells": [
    {
      "cell_type": "markdown",
      "metadata": {
        "id": "view-in-github",
        "colab_type": "text"
      },
      "source": [
        "<a href=\"https://colab.research.google.com/github/Redsoxnc87/Hello-World/blob/master/Untitled192.ipynb\" target=\"_parent\"><img src=\"https://colab.research.google.com/assets/colab-badge.svg\" alt=\"Open In Colab\"/></a>"
      ]
    },
    {
      "cell_type": "code",
      "metadata": {
        "id": "gEJb14feZB0K",
        "colab_type": "code",
        "colab": {}
      },
      "source": [
        "import pandas as pd \n",
        "import numpy as np \n",
        "import math \n",
        "import requests"
      ],
      "execution_count": 1,
      "outputs": []
    },
    {
      "cell_type": "code",
      "metadata": {
        "id": "pxQZcFP3ZUzS",
        "colab_type": "code",
        "colab": {}
      },
      "source": [
        "import operator\n",
        "from pandas import Series, DataFrame\n",
        "import matplotlib.pyplot as plt\n",
        "%matplotlib inline\n",
        "import pandas.plotting"
      ],
      "execution_count": 2,
      "outputs": []
    },
    {
      "cell_type": "code",
      "metadata": {
        "id": "VZJg-JXmZlRv",
        "colab_type": "code",
        "colab": {}
      },
      "source": [
        "nas = pd.read_csv('NASDAQ_Tmrkt.csv')"
      ],
      "execution_count": 3,
      "outputs": []
    },
    {
      "cell_type": "code",
      "metadata": {
        "id": "13wSwLbNZ9Tw",
        "colab_type": "code",
        "colab": {
          "base_uri": "https://localhost:8080/",
          "height": 420
        },
        "outputId": "e9fe45a0-0d69-4761-d204-3481dc68e18d"
      },
      "source": [
        "nas.head()"
      ],
      "execution_count": 4,
      "outputs": [
        {
          "output_type": "execute_result",
          "data": {
            "text/html": [
              "<div>\n",
              "<style scoped>\n",
              "    .dataframe tbody tr th:only-of-type {\n",
              "        vertical-align: middle;\n",
              "    }\n",
              "\n",
              "    .dataframe tbody tr th {\n",
              "        vertical-align: top;\n",
              "    }\n",
              "\n",
              "    .dataframe thead th {\n",
              "        text-align: right;\n",
              "    }\n",
              "</style>\n",
              "<table border=\"1\" class=\"dataframe\">\n",
              "  <thead>\n",
              "    <tr style=\"text-align: right;\">\n",
              "      <th></th>\n",
              "      <th>Symbol</th>\n",
              "      <th>Name</th>\n",
              "      <th>Exchange</th>\n",
              "      <th>SIC Description</th>\n",
              "      <th>Industry</th>\n",
              "      <th>Last</th>\n",
              "      <th>Time</th>\n",
              "      <th>Net Income(q)</th>\n",
              "      <th>Sales(q)</th>\n",
              "      <th>Net Income(a)</th>\n",
              "      <th>Sales(a)</th>\n",
              "      <th>Shares Out</th>\n",
              "      <th>Market Cap</th>\n",
              "      <th>Volume</th>\n",
              "    </tr>\n",
              "  </thead>\n",
              "  <tbody>\n",
              "    <tr>\n",
              "      <th>0</th>\n",
              "      <td>AACG</td>\n",
              "      <td>Ata Creativity Global</td>\n",
              "      <td>NASDAQ</td>\n",
              "      <td>SIC-8200 Services-Educational Services</td>\n",
              "      <td>Schools</td>\n",
              "      <td>1.10</td>\n",
              "      <td>9/4/2020</td>\n",
              "      <td>-4.540000e+06</td>\n",
              "      <td>3.740000e+06</td>\n",
              "      <td>-1.756000e+07</td>\n",
              "      <td>1.404000e+07</td>\n",
              "      <td>24323000.0</td>\n",
              "      <td>2.675500e+07</td>\n",
              "      <td>27200.0</td>\n",
              "    </tr>\n",
              "    <tr>\n",
              "      <th>1</th>\n",
              "      <td>AACQ</td>\n",
              "      <td>Artius Acquisition Inc Cl A</td>\n",
              "      <td>NASDAQ</td>\n",
              "      <td>NaN</td>\n",
              "      <td>NaN</td>\n",
              "      <td>10.00</td>\n",
              "      <td>9/4/2020</td>\n",
              "      <td>NaN</td>\n",
              "      <td>NaN</td>\n",
              "      <td>0.000000e+00</td>\n",
              "      <td>0.000000e+00</td>\n",
              "      <td>NaN</td>\n",
              "      <td>NaN</td>\n",
              "      <td>11500.0</td>\n",
              "    </tr>\n",
              "    <tr>\n",
              "      <th>2</th>\n",
              "      <td>AACQW</td>\n",
              "      <td>Artius Acquisition Inc WT</td>\n",
              "      <td>NASDAQ</td>\n",
              "      <td>NaN</td>\n",
              "      <td>NaN</td>\n",
              "      <td>1.75</td>\n",
              "      <td>9/4/2020</td>\n",
              "      <td>NaN</td>\n",
              "      <td>NaN</td>\n",
              "      <td>0.000000e+00</td>\n",
              "      <td>0.000000e+00</td>\n",
              "      <td>NaN</td>\n",
              "      <td>NaN</td>\n",
              "      <td>43300.0</td>\n",
              "    </tr>\n",
              "    <tr>\n",
              "      <th>3</th>\n",
              "      <td>AAL</td>\n",
              "      <td>American Airlines Gp</td>\n",
              "      <td>NASDAQ</td>\n",
              "      <td>SIC-4512 Air Transportation, Scheduled</td>\n",
              "      <td>Transportation - Airline</td>\n",
              "      <td>13.61</td>\n",
              "      <td>9/4/2020</td>\n",
              "      <td>-2.067000e+09</td>\n",
              "      <td>1.622000e+09</td>\n",
              "      <td>1.686000e+09</td>\n",
              "      <td>4.576800e+10</td>\n",
              "      <td>508562000.0</td>\n",
              "      <td>6.921529e+09</td>\n",
              "      <td>64936898.0</td>\n",
              "    </tr>\n",
              "    <tr>\n",
              "      <th>4</th>\n",
              "      <td>AAME</td>\n",
              "      <td>Atlantic Amer Cp</td>\n",
              "      <td>NASDAQ</td>\n",
              "      <td>SIC-6311 Life Insurance</td>\n",
              "      <td>Insurance - Accident &amp; Health</td>\n",
              "      <td>2.02</td>\n",
              "      <td>9/4/2020</td>\n",
              "      <td>6.530000e+06</td>\n",
              "      <td>4.974000e+07</td>\n",
              "      <td>-3.900000e+05</td>\n",
              "      <td>1.981800e+08</td>\n",
              "      <td>20454000.0</td>\n",
              "      <td>4.131700e+07</td>\n",
              "      <td>4500.0</td>\n",
              "    </tr>\n",
              "  </tbody>\n",
              "</table>\n",
              "</div>"
            ],
            "text/plain": [
              "  Symbol                         Name  ...    Market Cap      Volume\n",
              "0   AACG        Ata Creativity Global  ...  2.675500e+07     27200.0\n",
              "1   AACQ  Artius Acquisition Inc Cl A  ...           NaN     11500.0\n",
              "2  AACQW    Artius Acquisition Inc WT  ...           NaN     43300.0\n",
              "3    AAL         American Airlines Gp  ...  6.921529e+09  64936898.0\n",
              "4   AAME             Atlantic Amer Cp  ...  4.131700e+07      4500.0\n",
              "\n",
              "[5 rows x 14 columns]"
            ]
          },
          "metadata": {
            "tags": []
          },
          "execution_count": 4
        }
      ]
    },
    {
      "cell_type": "code",
      "metadata": {
        "id": "jBcHLD_EZ-wR",
        "colab_type": "code",
        "colab": {}
      },
      "source": [
        "nas_mcap = nas['Market Cap'].sum()"
      ],
      "execution_count": 5,
      "outputs": []
    },
    {
      "cell_type": "code",
      "metadata": {
        "id": "XSUi_4JmaJ7W",
        "colab_type": "code",
        "colab": {}
      },
      "source": [
        "nas_sales = nas['Sales(a)'].sum()"
      ],
      "execution_count": 6,
      "outputs": []
    },
    {
      "cell_type": "code",
      "metadata": {
        "id": "W5qqs4SVa2AQ",
        "colab_type": "code",
        "colab": {}
      },
      "source": [
        "nas_qsales = nas['Sales(q)'].sum()"
      ],
      "execution_count": 7,
      "outputs": []
    },
    {
      "cell_type": "code",
      "metadata": {
        "id": "XpQCBSWDa60q",
        "colab_type": "code",
        "colab": {}
      },
      "source": [
        "nas_nincome = nas['Net Income(a)'].sum()"
      ],
      "execution_count": 8,
      "outputs": []
    },
    {
      "cell_type": "code",
      "metadata": {
        "id": "oHmnOQo-bD5W",
        "colab_type": "code",
        "colab": {}
      },
      "source": [
        "nas_qnincome = nas['Net Income(q)'].sum()"
      ],
      "execution_count": 9,
      "outputs": []
    },
    {
      "cell_type": "code",
      "metadata": {
        "id": "ZK_VWwWObIsw",
        "colab_type": "code",
        "colab": {}
      },
      "source": [
        "Sales_Nincome = nas_sales - nas_nincome"
      ],
      "execution_count": 10,
      "outputs": []
    },
    {
      "cell_type": "code",
      "metadata": {
        "id": "93olvn5DbZgX",
        "colab_type": "code",
        "colab": {
          "base_uri": "https://localhost:8080/",
          "height": 34
        },
        "outputId": "dedb9ec4-4bea-48b8-fcb4-80b9c536dcef"
      },
      "source": [
        "Sales_Nincome"
      ],
      "execution_count": 11,
      "outputs": [
        {
          "output_type": "execute_result",
          "data": {
            "text/plain": [
              "4377397836808.0"
            ]
          },
          "metadata": {
            "tags": []
          },
          "execution_count": 11
        }
      ]
    },
    {
      "cell_type": "code",
      "metadata": {
        "id": "VGs_eOOEbaWQ",
        "colab_type": "code",
        "colab": {
          "base_uri": "https://localhost:8080/",
          "height": 34
        },
        "outputId": "bb2f5483-80a8-4e2f-90ea-658d021e5dc9"
      },
      "source": [
        "nas_sales"
      ],
      "execution_count": 12,
      "outputs": [
        {
          "output_type": "execute_result",
          "data": {
            "text/plain": [
              "4860421009004.0"
            ]
          },
          "metadata": {
            "tags": []
          },
          "execution_count": 12
        }
      ]
    },
    {
      "cell_type": "code",
      "metadata": {
        "id": "41vk01DMbfwx",
        "colab_type": "code",
        "colab": {
          "base_uri": "https://localhost:8080/",
          "height": 34
        },
        "outputId": "1f1af881-9947-431a-840e-dc595ea3c56a"
      },
      "source": [
        "nas_nincome"
      ],
      "execution_count": 13,
      "outputs": [
        {
          "output_type": "execute_result",
          "data": {
            "text/plain": [
              "483023172196.0"
            ]
          },
          "metadata": {
            "tags": []
          },
          "execution_count": 13
        }
      ]
    },
    {
      "cell_type": "code",
      "metadata": {
        "id": "PQNOx4PbblbE",
        "colab_type": "code",
        "colab": {
          "base_uri": "https://localhost:8080/",
          "height": 34
        },
        "outputId": "0bcd4f71-db20-4306-ab95-db245e21fe8e"
      },
      "source": [
        "nas_nincome / nas_sales"
      ],
      "execution_count": 14,
      "outputs": [
        {
          "output_type": "execute_result",
          "data": {
            "text/plain": [
              "0.0993788750606568"
            ]
          },
          "metadata": {
            "tags": []
          },
          "execution_count": 14
        }
      ]
    },
    {
      "cell_type": "code",
      "metadata": {
        "id": "vD6n0bH-bwk5",
        "colab_type": "code",
        "colab": {}
      },
      "source": [
        "nyse = pd.read_csv('NYSE_Total.csv')"
      ],
      "execution_count": 15,
      "outputs": []
    },
    {
      "cell_type": "code",
      "metadata": {
        "id": "DlevPNnNJ5Be",
        "colab_type": "code",
        "colab": {
          "base_uri": "https://localhost:8080/",
          "height": 297
        },
        "outputId": "759a14a4-a281-4a9b-ca11-7772f72343e7"
      },
      "source": [
        "nyse.head()"
      ],
      "execution_count": 16,
      "outputs": [
        {
          "output_type": "execute_result",
          "data": {
            "text/html": [
              "<div>\n",
              "<style scoped>\n",
              "    .dataframe tbody tr th:only-of-type {\n",
              "        vertical-align: middle;\n",
              "    }\n",
              "\n",
              "    .dataframe tbody tr th {\n",
              "        vertical-align: top;\n",
              "    }\n",
              "\n",
              "    .dataframe thead th {\n",
              "        text-align: right;\n",
              "    }\n",
              "</style>\n",
              "<table border=\"1\" class=\"dataframe\">\n",
              "  <thead>\n",
              "    <tr style=\"text-align: right;\">\n",
              "      <th></th>\n",
              "      <th>Symbol</th>\n",
              "      <th>Name</th>\n",
              "      <th>Exchange</th>\n",
              "      <th>SIC Description</th>\n",
              "      <th>Industry</th>\n",
              "      <th>Last</th>\n",
              "      <th>Time</th>\n",
              "      <th>Sales(q)</th>\n",
              "      <th>Net Income(a)</th>\n",
              "      <th>Sales(a)</th>\n",
              "      <th>Market Cap</th>\n",
              "      <th>Volume</th>\n",
              "    </tr>\n",
              "  </thead>\n",
              "  <tbody>\n",
              "    <tr>\n",
              "      <th>0</th>\n",
              "      <td>A</td>\n",
              "      <td>Agilent Technologies</td>\n",
              "      <td>NYSE</td>\n",
              "      <td>SIC-3826 Laboratory Analytical Instruments</td>\n",
              "      <td>Electronic Test Equipment</td>\n",
              "      <td>96.84</td>\n",
              "      <td>9/4/2020</td>\n",
              "      <td>1.261000e+09</td>\n",
              "      <td>1.071000e+09</td>\n",
              "      <td>5.163000e+09</td>\n",
              "      <td>2.985674e+10</td>\n",
              "      <td>1753874.0</td>\n",
              "    </tr>\n",
              "    <tr>\n",
              "      <th>1</th>\n",
              "      <td>AA</td>\n",
              "      <td>Alcoa Corp</td>\n",
              "      <td>NYSE</td>\n",
              "      <td>SIC-3334 Primary Production of Aluminium</td>\n",
              "      <td>Metal Products - Distribution</td>\n",
              "      <td>14.40</td>\n",
              "      <td>9/4/2020</td>\n",
              "      <td>2.148000e+09</td>\n",
              "      <td>-1.125000e+09</td>\n",
              "      <td>1.043300e+10</td>\n",
              "      <td>2.677306e+09</td>\n",
              "      <td>3929632.0</td>\n",
              "    </tr>\n",
              "    <tr>\n",
              "      <th>2</th>\n",
              "      <td>AAN</td>\n",
              "      <td>Aaron's Inc</td>\n",
              "      <td>NYSE</td>\n",
              "      <td>SIC-7359 Services-Equipment Rental &amp; Leasing, NEC</td>\n",
              "      <td>Retail - Consumer Electronics</td>\n",
              "      <td>54.67</td>\n",
              "      <td>9/4/2020</td>\n",
              "      <td>1.030120e+09</td>\n",
              "      <td>3.147000e+07</td>\n",
              "      <td>3.947660e+09</td>\n",
              "      <td>3.670598e+09</td>\n",
              "      <td>472870.0</td>\n",
              "    </tr>\n",
              "    <tr>\n",
              "      <th>3</th>\n",
              "      <td>AAP</td>\n",
              "      <td>Advance Auto Parts Inc</td>\n",
              "      <td>NYSE</td>\n",
              "      <td>SIC-5531 Retail-Auto &amp; Home Supply Stores</td>\n",
              "      <td>Retail - Wholesale Auto Parts</td>\n",
              "      <td>153.75</td>\n",
              "      <td>9/4/2020</td>\n",
              "      <td>2.501380e+09</td>\n",
              "      <td>4.869000e+08</td>\n",
              "      <td>9.709000e+09</td>\n",
              "      <td>1.063012e+10</td>\n",
              "      <td>589124.0</td>\n",
              "    </tr>\n",
              "    <tr>\n",
              "      <th>4</th>\n",
              "      <td>AAT</td>\n",
              "      <td>American Assets Trust</td>\n",
              "      <td>NYSE</td>\n",
              "      <td>SIC-6798 Real Estate Investment Trusts</td>\n",
              "      <td>REIT - Equity Trust Retail</td>\n",
              "      <td>26.15</td>\n",
              "      <td>9/4/2020</td>\n",
              "      <td>8.211000e+07</td>\n",
              "      <td>6.019000e+07</td>\n",
              "      <td>3.667400e+08</td>\n",
              "      <td>1.570935e+09</td>\n",
              "      <td>295481.0</td>\n",
              "    </tr>\n",
              "  </tbody>\n",
              "</table>\n",
              "</div>"
            ],
            "text/plain": [
              "  Symbol                    Name  ...    Market Cap     Volume\n",
              "0      A    Agilent Technologies  ...  2.985674e+10  1753874.0\n",
              "1     AA              Alcoa Corp  ...  2.677306e+09  3929632.0\n",
              "2    AAN             Aaron's Inc  ...  3.670598e+09   472870.0\n",
              "3    AAP  Advance Auto Parts Inc  ...  1.063012e+10   589124.0\n",
              "4    AAT   American Assets Trust  ...  1.570935e+09   295481.0\n",
              "\n",
              "[5 rows x 12 columns]"
            ]
          },
          "metadata": {
            "tags": []
          },
          "execution_count": 16
        }
      ]
    },
    {
      "cell_type": "code",
      "metadata": {
        "id": "JJra00xdJ88-",
        "colab_type": "code",
        "colab": {}
      },
      "source": [
        "ny_mcap = nyse['Market Cap'].sum()"
      ],
      "execution_count": 18,
      "outputs": []
    },
    {
      "cell_type": "code",
      "metadata": {
        "id": "kkvSbxkcKSmA",
        "colab_type": "code",
        "colab": {}
      },
      "source": [
        "ny_sales = nyse['Sales(a)'].sum()"
      ],
      "execution_count": 19,
      "outputs": []
    },
    {
      "cell_type": "code",
      "metadata": {
        "id": "tgT9TK5sKZFK",
        "colab_type": "code",
        "colab": {}
      },
      "source": [
        "ny_qsales = nyse['Sales(q)'].sum()"
      ],
      "execution_count": 20,
      "outputs": []
    },
    {
      "cell_type": "code",
      "metadata": {
        "id": "MKYIvfLaKdsc",
        "colab_type": "code",
        "colab": {}
      },
      "source": [
        "ny_nincome = nyse['Net Income(a)'].sum()"
      ],
      "execution_count": 21,
      "outputs": []
    },
    {
      "cell_type": "code",
      "metadata": {
        "id": "Dj21qyS8KiN-",
        "colab_type": "code",
        "colab": {}
      },
      "source": [
        "NYsIn = operator.truediv(ny_nincome, ny_sales)"
      ],
      "execution_count": 22,
      "outputs": []
    },
    {
      "cell_type": "code",
      "metadata": {
        "id": "VKigRfrOK7CA",
        "colab_type": "code",
        "colab": {
          "base_uri": "https://localhost:8080/",
          "height": 34
        },
        "outputId": "b7380140-9da2-4210-8fac-1eb4900efc03"
      },
      "source": [
        "NYsIn"
      ],
      "execution_count": 23,
      "outputs": [
        {
          "output_type": "execute_result",
          "data": {
            "text/plain": [
              "0.07743840713681203"
            ]
          },
          "metadata": {
            "tags": []
          },
          "execution_count": 23
        }
      ]
    },
    {
      "cell_type": "code",
      "metadata": {
        "id": "slUFFxqnK8vp",
        "colab_type": "code",
        "colab": {
          "base_uri": "https://localhost:8080/",
          "height": 282
        },
        "outputId": "6a6f6093-a713-4030-cac5-a619dd279574"
      },
      "source": [
        "nyse.describe()"
      ],
      "execution_count": 24,
      "outputs": [
        {
          "output_type": "execute_result",
          "data": {
            "text/html": [
              "<div>\n",
              "<style scoped>\n",
              "    .dataframe tbody tr th:only-of-type {\n",
              "        vertical-align: middle;\n",
              "    }\n",
              "\n",
              "    .dataframe tbody tr th {\n",
              "        vertical-align: top;\n",
              "    }\n",
              "\n",
              "    .dataframe thead th {\n",
              "        text-align: right;\n",
              "    }\n",
              "</style>\n",
              "<table border=\"1\" class=\"dataframe\">\n",
              "  <thead>\n",
              "    <tr style=\"text-align: right;\">\n",
              "      <th></th>\n",
              "      <th>Last</th>\n",
              "      <th>Sales(q)</th>\n",
              "      <th>Net Income(a)</th>\n",
              "      <th>Sales(a)</th>\n",
              "      <th>Market Cap</th>\n",
              "      <th>Volume</th>\n",
              "    </tr>\n",
              "  </thead>\n",
              "  <tbody>\n",
              "    <tr>\n",
              "      <th>count</th>\n",
              "      <td>1919.000000</td>\n",
              "      <td>1.856000e+03</td>\n",
              "      <td>1.919000e+03</td>\n",
              "      <td>1.919000e+03</td>\n",
              "      <td>1.916000e+03</td>\n",
              "      <td>1.919000e+03</td>\n",
              "    </tr>\n",
              "    <tr>\n",
              "      <th>mean</th>\n",
              "      <td>225.581642</td>\n",
              "      <td>2.114463e+09</td>\n",
              "      <td>8.197028e+08</td>\n",
              "      <td>1.058522e+10</td>\n",
              "      <td>1.511043e+10</td>\n",
              "      <td>2.208841e+06</td>\n",
              "    </tr>\n",
              "    <tr>\n",
              "      <th>std</th>\n",
              "      <td>7473.760260</td>\n",
              "      <td>6.577823e+09</td>\n",
              "      <td>3.567870e+09</td>\n",
              "      <td>3.226106e+10</td>\n",
              "      <td>4.297032e+10</td>\n",
              "      <td>6.692288e+06</td>\n",
              "    </tr>\n",
              "    <tr>\n",
              "      <th>min</th>\n",
              "      <td>0.183100</td>\n",
              "      <td>0.000000e+00</td>\n",
              "      <td>-1.013700e+10</td>\n",
              "      <td>0.000000e+00</td>\n",
              "      <td>7.719000e+06</td>\n",
              "      <td>7.000000e+00</td>\n",
              "    </tr>\n",
              "    <tr>\n",
              "      <th>25%</th>\n",
              "      <td>9.785000</td>\n",
              "      <td>1.102750e+08</td>\n",
              "      <td>3.350000e+05</td>\n",
              "      <td>5.801700e+08</td>\n",
              "      <td>6.804740e+08</td>\n",
              "      <td>2.084230e+05</td>\n",
              "    </tr>\n",
              "    <tr>\n",
              "      <th>50%</th>\n",
              "      <td>23.890000</td>\n",
              "      <td>4.026950e+08</td>\n",
              "      <td>1.055000e+08</td>\n",
              "      <td>1.985670e+09</td>\n",
              "      <td>2.712178e+09</td>\n",
              "      <td>6.189060e+05</td>\n",
              "    </tr>\n",
              "    <tr>\n",
              "      <th>75%</th>\n",
              "      <td>58.340000</td>\n",
              "      <td>1.490882e+09</td>\n",
              "      <td>4.945000e+08</td>\n",
              "      <td>7.202650e+09</td>\n",
              "      <td>1.110450e+10</td>\n",
              "      <td>1.884848e+06</td>\n",
              "    </tr>\n",
              "    <tr>\n",
              "      <th>max</th>\n",
              "      <td>327401.000000</td>\n",
              "      <td>1.377420e+11</td>\n",
              "      <td>8.141700e+10</td>\n",
              "      <td>5.239640e+11</td>\n",
              "      <td>7.159674e+11</td>\n",
              "      <td>1.633298e+08</td>\n",
              "    </tr>\n",
              "  </tbody>\n",
              "</table>\n",
              "</div>"
            ],
            "text/plain": [
              "                Last      Sales(q)  ...    Market Cap        Volume\n",
              "count    1919.000000  1.856000e+03  ...  1.916000e+03  1.919000e+03\n",
              "mean      225.581642  2.114463e+09  ...  1.511043e+10  2.208841e+06\n",
              "std      7473.760260  6.577823e+09  ...  4.297032e+10  6.692288e+06\n",
              "min         0.183100  0.000000e+00  ...  7.719000e+06  7.000000e+00\n",
              "25%         9.785000  1.102750e+08  ...  6.804740e+08  2.084230e+05\n",
              "50%        23.890000  4.026950e+08  ...  2.712178e+09  6.189060e+05\n",
              "75%        58.340000  1.490882e+09  ...  1.110450e+10  1.884848e+06\n",
              "max    327401.000000  1.377420e+11  ...  7.159674e+11  1.633298e+08\n",
              "\n",
              "[8 rows x 6 columns]"
            ]
          },
          "metadata": {
            "tags": []
          },
          "execution_count": 24
        }
      ]
    },
    {
      "cell_type": "code",
      "metadata": {
        "id": "bPlOc3-DLOgB",
        "colab_type": "code",
        "colab": {
          "base_uri": "https://localhost:8080/",
          "height": 282
        },
        "outputId": "b6aa8bb9-20f4-49a2-d6d6-9b8cd9a95474"
      },
      "source": [
        "nas.describe()"
      ],
      "execution_count": 25,
      "outputs": [
        {
          "output_type": "execute_result",
          "data": {
            "text/html": [
              "<div>\n",
              "<style scoped>\n",
              "    .dataframe tbody tr th:only-of-type {\n",
              "        vertical-align: middle;\n",
              "    }\n",
              "\n",
              "    .dataframe tbody tr th {\n",
              "        vertical-align: top;\n",
              "    }\n",
              "\n",
              "    .dataframe thead th {\n",
              "        text-align: right;\n",
              "    }\n",
              "</style>\n",
              "<table border=\"1\" class=\"dataframe\">\n",
              "  <thead>\n",
              "    <tr style=\"text-align: right;\">\n",
              "      <th></th>\n",
              "      <th>Last</th>\n",
              "      <th>Net Income(q)</th>\n",
              "      <th>Sales(q)</th>\n",
              "      <th>Net Income(a)</th>\n",
              "      <th>Sales(a)</th>\n",
              "      <th>Shares Out</th>\n",
              "      <th>Market Cap</th>\n",
              "      <th>Volume</th>\n",
              "    </tr>\n",
              "  </thead>\n",
              "  <tbody>\n",
              "    <tr>\n",
              "      <th>count</th>\n",
              "      <td>2733.000000</td>\n",
              "      <td>2.540000e+03</td>\n",
              "      <td>2.540000e+03</td>\n",
              "      <td>2.733000e+03</td>\n",
              "      <td>2.733000e+03</td>\n",
              "      <td>2.730000e+03</td>\n",
              "      <td>2.730000e+03</td>\n",
              "      <td>2.733000e+03</td>\n",
              "    </tr>\n",
              "    <tr>\n",
              "      <th>mean</th>\n",
              "      <td>35.166276</td>\n",
              "      <td>2.869972e+07</td>\n",
              "      <td>4.481243e+08</td>\n",
              "      <td>1.767373e+08</td>\n",
              "      <td>1.778420e+09</td>\n",
              "      <td>9.430842e+07</td>\n",
              "      <td>7.125496e+09</td>\n",
              "      <td>1.365233e+06</td>\n",
              "    </tr>\n",
              "    <tr>\n",
              "      <th>std</th>\n",
              "      <td>105.927321</td>\n",
              "      <td>4.656110e+08</td>\n",
              "      <td>2.976592e+09</td>\n",
              "      <td>1.878572e+09</td>\n",
              "      <td>1.096046e+10</td>\n",
              "      <td>4.321272e+08</td>\n",
              "      <td>7.047071e+10</td>\n",
              "      <td>8.052876e+06</td>\n",
              "    </tr>\n",
              "    <tr>\n",
              "      <th>min</th>\n",
              "      <td>0.122300</td>\n",
              "      <td>-3.339000e+09</td>\n",
              "      <td>-5.500000e+05</td>\n",
              "      <td>-3.553000e+09</td>\n",
              "      <td>0.000000e+00</td>\n",
              "      <td>0.000000e+00</td>\n",
              "      <td>0.000000e+00</td>\n",
              "      <td>1.000000e+02</td>\n",
              "    </tr>\n",
              "    <tr>\n",
              "      <th>25%</th>\n",
              "      <td>4.300000</td>\n",
              "      <td>-1.057500e+07</td>\n",
              "      <td>4.620000e+06</td>\n",
              "      <td>-2.591000e+07</td>\n",
              "      <td>1.598000e+07</td>\n",
              "      <td>1.604075e+07</td>\n",
              "      <td>9.434975e+07</td>\n",
              "      <td>6.020000e+04</td>\n",
              "    </tr>\n",
              "    <tr>\n",
              "      <th>50%</th>\n",
              "      <td>12.070000</td>\n",
              "      <td>-8.550000e+05</td>\n",
              "      <td>3.636000e+07</td>\n",
              "      <td>0.000000e+00</td>\n",
              "      <td>1.270700e+08</td>\n",
              "      <td>3.475300e+07</td>\n",
              "      <td>3.600295e+08</td>\n",
              "      <td>2.362000e+05</td>\n",
              "    </tr>\n",
              "    <tr>\n",
              "      <th>75%</th>\n",
              "      <td>31.680000</td>\n",
              "      <td>8.710000e+06</td>\n",
              "      <td>1.827925e+08</td>\n",
              "      <td>3.713000e+07</td>\n",
              "      <td>6.958300e+08</td>\n",
              "      <td>7.269675e+07</td>\n",
              "      <td>1.640182e+09</td>\n",
              "      <td>7.652000e+05</td>\n",
              "    </tr>\n",
              "    <tr>\n",
              "      <th>max</th>\n",
              "      <td>3294.620000</td>\n",
              "      <td>1.125300e+10</td>\n",
              "      <td>8.891200e+10</td>\n",
              "      <td>5.525600e+10</td>\n",
              "      <td>2.805220e+11</td>\n",
              "      <td>1.733734e+10</td>\n",
              "      <td>2.097125e+12</td>\n",
              "      <td>3.326071e+08</td>\n",
              "    </tr>\n",
              "  </tbody>\n",
              "</table>\n",
              "</div>"
            ],
            "text/plain": [
              "              Last  Net Income(q)  ...    Market Cap        Volume\n",
              "count  2733.000000   2.540000e+03  ...  2.730000e+03  2.733000e+03\n",
              "mean     35.166276   2.869972e+07  ...  7.125496e+09  1.365233e+06\n",
              "std     105.927321   4.656110e+08  ...  7.047071e+10  8.052876e+06\n",
              "min       0.122300  -3.339000e+09  ...  0.000000e+00  1.000000e+02\n",
              "25%       4.300000  -1.057500e+07  ...  9.434975e+07  6.020000e+04\n",
              "50%      12.070000  -8.550000e+05  ...  3.600295e+08  2.362000e+05\n",
              "75%      31.680000   8.710000e+06  ...  1.640182e+09  7.652000e+05\n",
              "max    3294.620000   1.125300e+10  ...  2.097125e+12  3.326071e+08\n",
              "\n",
              "[8 rows x 8 columns]"
            ]
          },
          "metadata": {
            "tags": []
          },
          "execution_count": 25
        }
      ]
    },
    {
      "cell_type": "code",
      "metadata": {
        "id": "BbL6J3E1LXac",
        "colab_type": "code",
        "colab": {
          "base_uri": "https://localhost:8080/",
          "height": 34
        },
        "outputId": "76f5bcc9-473c-477e-87f5-5df489bb631f"
      },
      "source": [
        "ny_sales"
      ],
      "execution_count": 26,
      "outputs": [
        {
          "output_type": "execute_result",
          "data": {
            "text/plain": [
              "20313042904407.0"
            ]
          },
          "metadata": {
            "tags": []
          },
          "execution_count": 26
        }
      ]
    },
    {
      "cell_type": "code",
      "metadata": {
        "id": "FdbxRIuWL1MJ",
        "colab_type": "code",
        "colab": {
          "base_uri": "https://localhost:8080/",
          "height": 34
        },
        "outputId": "acfe97bb-9aab-43c2-c7ad-ffb74c70f0f9"
      },
      "source": [
        "ny_nincome"
      ],
      "execution_count": 27,
      "outputs": [
        {
          "output_type": "execute_result",
          "data": {
            "text/plain": [
              "1573009686619.0"
            ]
          },
          "metadata": {
            "tags": []
          },
          "execution_count": 27
        }
      ]
    },
    {
      "cell_type": "code",
      "metadata": {
        "id": "3FuGyoakMBOv",
        "colab_type": "code",
        "colab": {
          "base_uri": "https://localhost:8080/",
          "height": 34
        },
        "outputId": "bf2976af-93ef-4ec2-cb1f-52254c27924b"
      },
      "source": [
        "ny_sales / nas_sales"
      ],
      "execution_count": 28,
      "outputs": [
        {
          "output_type": "execute_result",
          "data": {
            "text/plain": [
              "4.179276417984531"
            ]
          },
          "metadata": {
            "tags": []
          },
          "execution_count": 28
        }
      ]
    },
    {
      "cell_type": "code",
      "metadata": {
        "id": "AjIFX9t_MN0D",
        "colab_type": "code",
        "colab": {
          "base_uri": "https://localhost:8080/",
          "height": 34
        },
        "outputId": "bf07e483-262b-47a6-80dd-63488fd48d99"
      },
      "source": [
        "ny_nincome / nas_nincome"
      ],
      "execution_count": 29,
      "outputs": [
        {
          "output_type": "execute_result",
          "data": {
            "text/plain": [
              "3.2565925967226845"
            ]
          },
          "metadata": {
            "tags": []
          },
          "execution_count": 29
        }
      ]
    },
    {
      "cell_type": "code",
      "metadata": {
        "id": "1jcF79ZMMcAy",
        "colab_type": "code",
        "colab": {}
      },
      "source": [
        "nySN = operator.truediv(nyse['Net Income(a)'],nyse['Sales(a)'])"
      ],
      "execution_count": 30,
      "outputs": []
    },
    {
      "cell_type": "code",
      "metadata": {
        "id": "kyrBrD3vM5ZP",
        "colab_type": "code",
        "colab": {}
      },
      "source": [
        "nyse['Sales_Ninc']=(nySN)"
      ],
      "execution_count": 31,
      "outputs": []
    },
    {
      "cell_type": "code",
      "metadata": {
        "id": "E3uyiQZ1NAZ5",
        "colab_type": "code",
        "colab": {}
      },
      "source": [
        "nsSN = operator.truediv(nas['Net Income(a)'], nas['Sales(a)'])"
      ],
      "execution_count": 32,
      "outputs": []
    },
    {
      "cell_type": "code",
      "metadata": {
        "id": "tc1RmWKqNI0F",
        "colab_type": "code",
        "colab": {}
      },
      "source": [
        "nas['Sales_Ninc']=(nsSN)"
      ],
      "execution_count": 33,
      "outputs": []
    },
    {
      "cell_type": "code",
      "metadata": {
        "id": "9fV533U7NQD4",
        "colab_type": "code",
        "colab": {
          "base_uri": "https://localhost:8080/",
          "height": 282
        },
        "outputId": "704c4ac8-cc60-43ad-884c-6b84ef1ddafa"
      },
      "source": [
        "nas.describe()"
      ],
      "execution_count": 34,
      "outputs": [
        {
          "output_type": "execute_result",
          "data": {
            "text/html": [
              "<div>\n",
              "<style scoped>\n",
              "    .dataframe tbody tr th:only-of-type {\n",
              "        vertical-align: middle;\n",
              "    }\n",
              "\n",
              "    .dataframe tbody tr th {\n",
              "        vertical-align: top;\n",
              "    }\n",
              "\n",
              "    .dataframe thead th {\n",
              "        text-align: right;\n",
              "    }\n",
              "</style>\n",
              "<table border=\"1\" class=\"dataframe\">\n",
              "  <thead>\n",
              "    <tr style=\"text-align: right;\">\n",
              "      <th></th>\n",
              "      <th>Last</th>\n",
              "      <th>Net Income(q)</th>\n",
              "      <th>Sales(q)</th>\n",
              "      <th>Net Income(a)</th>\n",
              "      <th>Sales(a)</th>\n",
              "      <th>Shares Out</th>\n",
              "      <th>Market Cap</th>\n",
              "      <th>Volume</th>\n",
              "      <th>Sales_Ninc</th>\n",
              "    </tr>\n",
              "  </thead>\n",
              "  <tbody>\n",
              "    <tr>\n",
              "      <th>count</th>\n",
              "      <td>2733.000000</td>\n",
              "      <td>2.540000e+03</td>\n",
              "      <td>2.540000e+03</td>\n",
              "      <td>2.733000e+03</td>\n",
              "      <td>2.733000e+03</td>\n",
              "      <td>2.730000e+03</td>\n",
              "      <td>2.730000e+03</td>\n",
              "      <td>2.733000e+03</td>\n",
              "      <td>2701.000000</td>\n",
              "    </tr>\n",
              "    <tr>\n",
              "      <th>mean</th>\n",
              "      <td>35.166276</td>\n",
              "      <td>2.869972e+07</td>\n",
              "      <td>4.481243e+08</td>\n",
              "      <td>1.767373e+08</td>\n",
              "      <td>1.778420e+09</td>\n",
              "      <td>9.430842e+07</td>\n",
              "      <td>7.125496e+09</td>\n",
              "      <td>1.365233e+06</td>\n",
              "      <td>NaN</td>\n",
              "    </tr>\n",
              "    <tr>\n",
              "      <th>std</th>\n",
              "      <td>105.927321</td>\n",
              "      <td>4.656110e+08</td>\n",
              "      <td>2.976592e+09</td>\n",
              "      <td>1.878572e+09</td>\n",
              "      <td>1.096046e+10</td>\n",
              "      <td>4.321272e+08</td>\n",
              "      <td>7.047071e+10</td>\n",
              "      <td>8.052876e+06</td>\n",
              "      <td>NaN</td>\n",
              "    </tr>\n",
              "    <tr>\n",
              "      <th>min</th>\n",
              "      <td>0.122300</td>\n",
              "      <td>-3.339000e+09</td>\n",
              "      <td>-5.500000e+05</td>\n",
              "      <td>-3.553000e+09</td>\n",
              "      <td>0.000000e+00</td>\n",
              "      <td>0.000000e+00</td>\n",
              "      <td>0.000000e+00</td>\n",
              "      <td>1.000000e+02</td>\n",
              "      <td>-inf</td>\n",
              "    </tr>\n",
              "    <tr>\n",
              "      <th>25%</th>\n",
              "      <td>4.300000</td>\n",
              "      <td>-1.057500e+07</td>\n",
              "      <td>4.620000e+06</td>\n",
              "      <td>-2.591000e+07</td>\n",
              "      <td>1.598000e+07</td>\n",
              "      <td>1.604075e+07</td>\n",
              "      <td>9.434975e+07</td>\n",
              "      <td>6.020000e+04</td>\n",
              "      <td>-0.768045</td>\n",
              "    </tr>\n",
              "    <tr>\n",
              "      <th>50%</th>\n",
              "      <td>12.070000</td>\n",
              "      <td>-8.550000e+05</td>\n",
              "      <td>3.636000e+07</td>\n",
              "      <td>0.000000e+00</td>\n",
              "      <td>1.270700e+08</td>\n",
              "      <td>3.475300e+07</td>\n",
              "      <td>3.600295e+08</td>\n",
              "      <td>2.362000e+05</td>\n",
              "      <td>-0.000639</td>\n",
              "    </tr>\n",
              "    <tr>\n",
              "      <th>75%</th>\n",
              "      <td>31.680000</td>\n",
              "      <td>8.710000e+06</td>\n",
              "      <td>1.827925e+08</td>\n",
              "      <td>3.713000e+07</td>\n",
              "      <td>6.958300e+08</td>\n",
              "      <td>7.269675e+07</td>\n",
              "      <td>1.640182e+09</td>\n",
              "      <td>7.652000e+05</td>\n",
              "      <td>0.119825</td>\n",
              "    </tr>\n",
              "    <tr>\n",
              "      <th>max</th>\n",
              "      <td>3294.620000</td>\n",
              "      <td>1.125300e+10</td>\n",
              "      <td>8.891200e+10</td>\n",
              "      <td>5.525600e+10</td>\n",
              "      <td>2.805220e+11</td>\n",
              "      <td>1.733734e+10</td>\n",
              "      <td>2.097125e+12</td>\n",
              "      <td>3.326071e+08</td>\n",
              "      <td>inf</td>\n",
              "    </tr>\n",
              "  </tbody>\n",
              "</table>\n",
              "</div>"
            ],
            "text/plain": [
              "              Last  Net Income(q)  ...        Volume   Sales_Ninc\n",
              "count  2733.000000   2.540000e+03  ...  2.733000e+03  2701.000000\n",
              "mean     35.166276   2.869972e+07  ...  1.365233e+06          NaN\n",
              "std     105.927321   4.656110e+08  ...  8.052876e+06          NaN\n",
              "min       0.122300  -3.339000e+09  ...  1.000000e+02         -inf\n",
              "25%       4.300000  -1.057500e+07  ...  6.020000e+04    -0.768045\n",
              "50%      12.070000  -8.550000e+05  ...  2.362000e+05    -0.000639\n",
              "75%      31.680000   8.710000e+06  ...  7.652000e+05     0.119825\n",
              "max    3294.620000   1.125300e+10  ...  3.326071e+08          inf\n",
              "\n",
              "[8 rows x 9 columns]"
            ]
          },
          "metadata": {
            "tags": []
          },
          "execution_count": 34
        }
      ]
    },
    {
      "cell_type": "code",
      "metadata": {
        "id": "xl8HoNcPNS0h",
        "colab_type": "code",
        "colab": {
          "base_uri": "https://localhost:8080/",
          "height": 282
        },
        "outputId": "e15dd1d1-7c49-4664-dda8-0f2c3f615ccd"
      },
      "source": [
        "nyse.describe()"
      ],
      "execution_count": 35,
      "outputs": [
        {
          "output_type": "execute_result",
          "data": {
            "text/html": [
              "<div>\n",
              "<style scoped>\n",
              "    .dataframe tbody tr th:only-of-type {\n",
              "        vertical-align: middle;\n",
              "    }\n",
              "\n",
              "    .dataframe tbody tr th {\n",
              "        vertical-align: top;\n",
              "    }\n",
              "\n",
              "    .dataframe thead th {\n",
              "        text-align: right;\n",
              "    }\n",
              "</style>\n",
              "<table border=\"1\" class=\"dataframe\">\n",
              "  <thead>\n",
              "    <tr style=\"text-align: right;\">\n",
              "      <th></th>\n",
              "      <th>Last</th>\n",
              "      <th>Sales(q)</th>\n",
              "      <th>Net Income(a)</th>\n",
              "      <th>Sales(a)</th>\n",
              "      <th>Market Cap</th>\n",
              "      <th>Volume</th>\n",
              "      <th>Sales_Ninc</th>\n",
              "    </tr>\n",
              "  </thead>\n",
              "  <tbody>\n",
              "    <tr>\n",
              "      <th>count</th>\n",
              "      <td>1919.000000</td>\n",
              "      <td>1.856000e+03</td>\n",
              "      <td>1.919000e+03</td>\n",
              "      <td>1.919000e+03</td>\n",
              "      <td>1.916000e+03</td>\n",
              "      <td>1.919000e+03</td>\n",
              "      <td>1895.000000</td>\n",
              "    </tr>\n",
              "    <tr>\n",
              "      <th>mean</th>\n",
              "      <td>225.581642</td>\n",
              "      <td>2.114463e+09</td>\n",
              "      <td>8.197028e+08</td>\n",
              "      <td>1.058522e+10</td>\n",
              "      <td>1.511043e+10</td>\n",
              "      <td>2.208841e+06</td>\n",
              "      <td>NaN</td>\n",
              "    </tr>\n",
              "    <tr>\n",
              "      <th>std</th>\n",
              "      <td>7473.760260</td>\n",
              "      <td>6.577823e+09</td>\n",
              "      <td>3.567870e+09</td>\n",
              "      <td>3.226106e+10</td>\n",
              "      <td>4.297032e+10</td>\n",
              "      <td>6.692288e+06</td>\n",
              "      <td>NaN</td>\n",
              "    </tr>\n",
              "    <tr>\n",
              "      <th>min</th>\n",
              "      <td>0.183100</td>\n",
              "      <td>0.000000e+00</td>\n",
              "      <td>-1.013700e+10</td>\n",
              "      <td>0.000000e+00</td>\n",
              "      <td>7.719000e+06</td>\n",
              "      <td>7.000000e+00</td>\n",
              "      <td>-inf</td>\n",
              "    </tr>\n",
              "    <tr>\n",
              "      <th>25%</th>\n",
              "      <td>9.785000</td>\n",
              "      <td>1.102750e+08</td>\n",
              "      <td>3.350000e+05</td>\n",
              "      <td>5.801700e+08</td>\n",
              "      <td>6.804740e+08</td>\n",
              "      <td>2.084230e+05</td>\n",
              "      <td>0.004126</td>\n",
              "    </tr>\n",
              "    <tr>\n",
              "      <th>50%</th>\n",
              "      <td>23.890000</td>\n",
              "      <td>4.026950e+08</td>\n",
              "      <td>1.055000e+08</td>\n",
              "      <td>1.985670e+09</td>\n",
              "      <td>2.712178e+09</td>\n",
              "      <td>6.189060e+05</td>\n",
              "      <td>0.064481</td>\n",
              "    </tr>\n",
              "    <tr>\n",
              "      <th>75%</th>\n",
              "      <td>58.340000</td>\n",
              "      <td>1.490882e+09</td>\n",
              "      <td>4.945000e+08</td>\n",
              "      <td>7.202650e+09</td>\n",
              "      <td>1.110450e+10</td>\n",
              "      <td>1.884848e+06</td>\n",
              "      <td>0.145811</td>\n",
              "    </tr>\n",
              "    <tr>\n",
              "      <th>max</th>\n",
              "      <td>327401.000000</td>\n",
              "      <td>1.377420e+11</td>\n",
              "      <td>8.141700e+10</td>\n",
              "      <td>5.239640e+11</td>\n",
              "      <td>7.159674e+11</td>\n",
              "      <td>1.633298e+08</td>\n",
              "      <td>inf</td>\n",
              "    </tr>\n",
              "  </tbody>\n",
              "</table>\n",
              "</div>"
            ],
            "text/plain": [
              "                Last      Sales(q)  ...        Volume   Sales_Ninc\n",
              "count    1919.000000  1.856000e+03  ...  1.919000e+03  1895.000000\n",
              "mean      225.581642  2.114463e+09  ...  2.208841e+06          NaN\n",
              "std      7473.760260  6.577823e+09  ...  6.692288e+06          NaN\n",
              "min         0.183100  0.000000e+00  ...  7.000000e+00         -inf\n",
              "25%         9.785000  1.102750e+08  ...  2.084230e+05     0.004126\n",
              "50%        23.890000  4.026950e+08  ...  6.189060e+05     0.064481\n",
              "75%        58.340000  1.490882e+09  ...  1.884848e+06     0.145811\n",
              "max    327401.000000  1.377420e+11  ...  1.633298e+08          inf\n",
              "\n",
              "[8 rows x 7 columns]"
            ]
          },
          "metadata": {
            "tags": []
          },
          "execution_count": 35
        }
      ]
    },
    {
      "cell_type": "code",
      "metadata": {
        "id": "S1DcTc3ONYmb",
        "colab_type": "code",
        "colab": {}
      },
      "source": [
        "pos_per = nas.loc[(nas['Sales_Ninc'])>0.1]"
      ],
      "execution_count": 42,
      "outputs": []
    },
    {
      "cell_type": "code",
      "metadata": {
        "id": "PZceETz0Nj-h",
        "colab_type": "code",
        "colab": {}
      },
      "source": [
        "pper = nyse.loc[(nyse['Sales_Ninc'])>0.1]"
      ],
      "execution_count": 43,
      "outputs": []
    },
    {
      "cell_type": "code",
      "metadata": {
        "id": "wVNLNsNkNuSc",
        "colab_type": "code",
        "colab": {
          "base_uri": "https://localhost:8080/",
          "height": 34
        },
        "outputId": "eccfd46b-38a3-4a08-c22a-ec082107cdd4"
      },
      "source": [
        "len(pos_per)"
      ],
      "execution_count": 44,
      "outputs": [
        {
          "output_type": "execute_result",
          "data": {
            "text/plain": [
              "746"
            ]
          },
          "metadata": {
            "tags": []
          },
          "execution_count": 44
        }
      ]
    },
    {
      "cell_type": "code",
      "metadata": {
        "id": "If9vnZRKNv39",
        "colab_type": "code",
        "colab": {
          "base_uri": "https://localhost:8080/",
          "height": 34
        },
        "outputId": "c35c497f-bb92-469d-e690-cf850968b2d3"
      },
      "source": [
        "len(pper)"
      ],
      "execution_count": 45,
      "outputs": [
        {
          "output_type": "execute_result",
          "data": {
            "text/plain": [
              "696"
            ]
          },
          "metadata": {
            "tags": []
          },
          "execution_count": 45
        }
      ]
    },
    {
      "cell_type": "code",
      "metadata": {
        "id": "uIB-tx5RNxvW",
        "colab_type": "code",
        "colab": {
          "base_uri": "https://localhost:8080/",
          "height": 222
        },
        "outputId": "db5d89e8-e555-4e46-d5ab-f503bb723fed"
      },
      "source": [
        "pos_per.Industry.value_counts()"
      ],
      "execution_count": 46,
      "outputs": [
        {
          "output_type": "execute_result",
          "data": {
            "text/plain": [
              "Banks - Northeast                103\n",
              "Banks - Southeast                 59\n",
              "Unclassified                      47\n",
              "Finance - Savings & Loan          42\n",
              "Banks - West                      35\n",
              "                                ... \n",
              "Semi Memory                        1\n",
              "Retail - Consumer Electronics      1\n",
              "Insurance - Accident & Health      1\n",
              "Wireless Equipment                 1\n",
              "Food Items - Wholesale             1\n",
              "Name: Industry, Length: 136, dtype: int64"
            ]
          },
          "metadata": {
            "tags": []
          },
          "execution_count": 46
        }
      ]
    },
    {
      "cell_type": "code",
      "metadata": {
        "id": "LpBwqjDBN4Wi",
        "colab_type": "code",
        "colab": {
          "base_uri": "https://localhost:8080/",
          "height": 222
        },
        "outputId": "5893fad0-cd59-4f8a-908e-5fc994a5f77e"
      },
      "source": [
        "pper.Industry.value_counts()"
      ],
      "execution_count": 47,
      "outputs": [
        {
          "output_type": "execute_result",
          "data": {
            "text/plain": [
              "REIT - Equity Trust Other         63\n",
              "Utility - Electric Power          32\n",
              "Banks - Foreign                   26\n",
              "REIT - Mortgage Trusts            26\n",
              "REIT - Equity Trust Retail        20\n",
              "                                  ..\n",
              "Machinery - Construct & Mining     1\n",
              "Food - Meat Products               1\n",
              "Auto - Domestic                    1\n",
              "Electrical Power                   1\n",
              "Mining - Non Ferrous               1\n",
              "Name: Industry, Length: 154, dtype: int64"
            ]
          },
          "metadata": {
            "tags": []
          },
          "execution_count": 47
        }
      ]
    },
    {
      "cell_type": "code",
      "metadata": {
        "id": "K5lNejbEN8Tz",
        "colab_type": "code",
        "colab": {
          "base_uri": "https://localhost:8080/",
          "height": 282
        },
        "outputId": "e3cf3806-8bc1-432b-a9b4-8bef8db4c988"
      },
      "source": [
        "pos_per.describe()"
      ],
      "execution_count": 48,
      "outputs": [
        {
          "output_type": "execute_result",
          "data": {
            "text/html": [
              "<div>\n",
              "<style scoped>\n",
              "    .dataframe tbody tr th:only-of-type {\n",
              "        vertical-align: middle;\n",
              "    }\n",
              "\n",
              "    .dataframe tbody tr th {\n",
              "        vertical-align: top;\n",
              "    }\n",
              "\n",
              "    .dataframe thead th {\n",
              "        text-align: right;\n",
              "    }\n",
              "</style>\n",
              "<table border=\"1\" class=\"dataframe\">\n",
              "  <thead>\n",
              "    <tr style=\"text-align: right;\">\n",
              "      <th></th>\n",
              "      <th>Last</th>\n",
              "      <th>Net Income(q)</th>\n",
              "      <th>Sales(q)</th>\n",
              "      <th>Net Income(a)</th>\n",
              "      <th>Sales(a)</th>\n",
              "      <th>Shares Out</th>\n",
              "      <th>Market Cap</th>\n",
              "      <th>Volume</th>\n",
              "      <th>Sales_Ninc</th>\n",
              "    </tr>\n",
              "  </thead>\n",
              "  <tbody>\n",
              "    <tr>\n",
              "      <th>count</th>\n",
              "      <td>746.000000</td>\n",
              "      <td>7.180000e+02</td>\n",
              "      <td>7.180000e+02</td>\n",
              "      <td>7.460000e+02</td>\n",
              "      <td>7.460000e+02</td>\n",
              "      <td>7.460000e+02</td>\n",
              "      <td>7.460000e+02</td>\n",
              "      <td>7.460000e+02</td>\n",
              "      <td>746.000000</td>\n",
              "    </tr>\n",
              "    <tr>\n",
              "      <th>mean</th>\n",
              "      <td>59.667983</td>\n",
              "      <td>1.219880e+08</td>\n",
              "      <td>7.239085e+08</td>\n",
              "      <td>6.706329e+08</td>\n",
              "      <td>2.911515e+09</td>\n",
              "      <td>1.564384e+08</td>\n",
              "      <td>1.709824e+10</td>\n",
              "      <td>1.611170e+06</td>\n",
              "      <td>inf</td>\n",
              "    </tr>\n",
              "    <tr>\n",
              "      <th>std</th>\n",
              "      <td>137.226893</td>\n",
              "      <td>7.935670e+08</td>\n",
              "      <td>3.716548e+09</td>\n",
              "      <td>3.491700e+09</td>\n",
              "      <td>1.531002e+10</td>\n",
              "      <td>7.812833e+08</td>\n",
              "      <td>1.180003e+11</td>\n",
              "      <td>1.283687e+07</td>\n",
              "      <td>NaN</td>\n",
              "    </tr>\n",
              "    <tr>\n",
              "      <th>min</th>\n",
              "      <td>0.165000</td>\n",
              "      <td>-3.339000e+09</td>\n",
              "      <td>0.000000e+00</td>\n",
              "      <td>1.000000e+04</td>\n",
              "      <td>0.000000e+00</td>\n",
              "      <td>1.108000e+06</td>\n",
              "      <td>3.960000e+05</td>\n",
              "      <td>1.000000e+02</td>\n",
              "      <td>0.100202</td>\n",
              "    </tr>\n",
              "    <tr>\n",
              "      <th>25%</th>\n",
              "      <td>10.782500</td>\n",
              "      <td>1.350000e+06</td>\n",
              "      <td>1.695500e+07</td>\n",
              "      <td>1.433500e+07</td>\n",
              "      <td>6.690875e+07</td>\n",
              "      <td>1.367750e+07</td>\n",
              "      <td>1.740275e+08</td>\n",
              "      <td>2.162500e+04</td>\n",
              "      <td>0.156111</td>\n",
              "    </tr>\n",
              "    <tr>\n",
              "      <th>50%</th>\n",
              "      <td>21.095000</td>\n",
              "      <td>8.685000e+06</td>\n",
              "      <td>6.012000e+07</td>\n",
              "      <td>5.118000e+07</td>\n",
              "      <td>2.216400e+08</td>\n",
              "      <td>3.234550e+07</td>\n",
              "      <td>6.101760e+08</td>\n",
              "      <td>1.368000e+05</td>\n",
              "      <td>0.222416</td>\n",
              "    </tr>\n",
              "    <tr>\n",
              "      <th>75%</th>\n",
              "      <td>53.265000</td>\n",
              "      <td>3.664750e+07</td>\n",
              "      <td>2.560625e+08</td>\n",
              "      <td>2.096525e+08</td>\n",
              "      <td>9.255375e+08</td>\n",
              "      <td>8.890950e+07</td>\n",
              "      <td>3.948780e+09</td>\n",
              "      <td>6.603750e+05</td>\n",
              "      <td>0.298685</td>\n",
              "    </tr>\n",
              "    <tr>\n",
              "      <th>max</th>\n",
              "      <td>1917.740000</td>\n",
              "      <td>1.125300e+10</td>\n",
              "      <td>5.968500e+10</td>\n",
              "      <td>5.525600e+10</td>\n",
              "      <td>2.601740e+11</td>\n",
              "      <td>1.733734e+10</td>\n",
              "      <td>2.097125e+12</td>\n",
              "      <td>3.326071e+08</td>\n",
              "      <td>inf</td>\n",
              "    </tr>\n",
              "  </tbody>\n",
              "</table>\n",
              "</div>"
            ],
            "text/plain": [
              "              Last  Net Income(q)  ...        Volume  Sales_Ninc\n",
              "count   746.000000   7.180000e+02  ...  7.460000e+02  746.000000\n",
              "mean     59.667983   1.219880e+08  ...  1.611170e+06         inf\n",
              "std     137.226893   7.935670e+08  ...  1.283687e+07         NaN\n",
              "min       0.165000  -3.339000e+09  ...  1.000000e+02    0.100202\n",
              "25%      10.782500   1.350000e+06  ...  2.162500e+04    0.156111\n",
              "50%      21.095000   8.685000e+06  ...  1.368000e+05    0.222416\n",
              "75%      53.265000   3.664750e+07  ...  6.603750e+05    0.298685\n",
              "max    1917.740000   1.125300e+10  ...  3.326071e+08         inf\n",
              "\n",
              "[8 rows x 9 columns]"
            ]
          },
          "metadata": {
            "tags": []
          },
          "execution_count": 48
        }
      ]
    },
    {
      "cell_type": "code",
      "metadata": {
        "id": "92a_rinwQuZX",
        "colab_type": "code",
        "colab": {}
      },
      "source": [
        "nasL = list(range(0,746))"
      ],
      "execution_count": 49,
      "outputs": []
    },
    {
      "cell_type": "code",
      "metadata": {
        "id": "QOfUw88IRCpf",
        "colab_type": "code",
        "colab": {}
      },
      "source": [
        "def QA(i): \n",
        "  Q = (pos_per['Sales(q)'][i] * 4) - pos_per['Sales(a)'][i]\n",
        "  return(Q)"
      ],
      "execution_count": 55,
      "outputs": []
    },
    {
      "cell_type": "code",
      "metadata": {
        "id": "xH9-rSaBReCb",
        "colab_type": "code",
        "colab": {
          "base_uri": "https://localhost:8080/",
          "height": 282
        },
        "outputId": "df3bce6b-431a-40d7-c7f0-cd8abe5cc0f0"
      },
      "source": [
        "pper.describe()"
      ],
      "execution_count": 52,
      "outputs": [
        {
          "output_type": "execute_result",
          "data": {
            "text/html": [
              "<div>\n",
              "<style scoped>\n",
              "    .dataframe tbody tr th:only-of-type {\n",
              "        vertical-align: middle;\n",
              "    }\n",
              "\n",
              "    .dataframe tbody tr th {\n",
              "        vertical-align: top;\n",
              "    }\n",
              "\n",
              "    .dataframe thead th {\n",
              "        text-align: right;\n",
              "    }\n",
              "</style>\n",
              "<table border=\"1\" class=\"dataframe\">\n",
              "  <thead>\n",
              "    <tr style=\"text-align: right;\">\n",
              "      <th></th>\n",
              "      <th>Last</th>\n",
              "      <th>Sales(q)</th>\n",
              "      <th>Net Income(a)</th>\n",
              "      <th>Sales(a)</th>\n",
              "      <th>Market Cap</th>\n",
              "      <th>Volume</th>\n",
              "      <th>Sales_Ninc</th>\n",
              "    </tr>\n",
              "  </thead>\n",
              "  <tbody>\n",
              "    <tr>\n",
              "      <th>count</th>\n",
              "      <td>696.000000</td>\n",
              "      <td>6.790000e+02</td>\n",
              "      <td>6.960000e+02</td>\n",
              "      <td>6.960000e+02</td>\n",
              "      <td>6.950000e+02</td>\n",
              "      <td>6.960000e+02</td>\n",
              "      <td>696.000000</td>\n",
              "    </tr>\n",
              "    <tr>\n",
              "      <th>mean</th>\n",
              "      <td>549.191682</td>\n",
              "      <td>1.857681e+09</td>\n",
              "      <td>1.748638e+09</td>\n",
              "      <td>9.025663e+09</td>\n",
              "      <td>2.556637e+10</td>\n",
              "      <td>2.370612e+06</td>\n",
              "      <td>inf</td>\n",
              "    </tr>\n",
              "    <tr>\n",
              "      <th>std</th>\n",
              "      <td>12408.663313</td>\n",
              "      <td>4.810289e+09</td>\n",
              "      <td>5.373034e+09</td>\n",
              "      <td>2.160956e+10</td>\n",
              "      <td>6.194547e+10</td>\n",
              "      <td>6.389764e+06</td>\n",
              "      <td>NaN</td>\n",
              "    </tr>\n",
              "    <tr>\n",
              "      <th>min</th>\n",
              "      <td>0.324900</td>\n",
              "      <td>0.000000e+00</td>\n",
              "      <td>1.000000e+04</td>\n",
              "      <td>0.000000e+00</td>\n",
              "      <td>7.719000e+06</td>\n",
              "      <td>1.250000e+02</td>\n",
              "      <td>0.100008</td>\n",
              "    </tr>\n",
              "    <tr>\n",
              "      <th>25%</th>\n",
              "      <td>12.187500</td>\n",
              "      <td>9.807000e+07</td>\n",
              "      <td>1.118550e+08</td>\n",
              "      <td>5.262275e+08</td>\n",
              "      <td>1.301306e+09</td>\n",
              "      <td>2.410195e+05</td>\n",
              "      <td>0.135204</td>\n",
              "    </tr>\n",
              "    <tr>\n",
              "      <th>50%</th>\n",
              "      <td>35.400000</td>\n",
              "      <td>3.668900e+08</td>\n",
              "      <td>3.852750e+08</td>\n",
              "      <td>1.850870e+09</td>\n",
              "      <td>5.289309e+09</td>\n",
              "      <td>7.146050e+05</td>\n",
              "      <td>0.196053</td>\n",
              "    </tr>\n",
              "    <tr>\n",
              "      <th>75%</th>\n",
              "      <td>80.037500</td>\n",
              "      <td>1.548570e+09</td>\n",
              "      <td>1.289500e+09</td>\n",
              "      <td>7.537400e+09</td>\n",
              "      <td>2.275476e+10</td>\n",
              "      <td>1.943260e+06</td>\n",
              "      <td>0.316070</td>\n",
              "    </tr>\n",
              "    <tr>\n",
              "      <th>max</th>\n",
              "      <td>327401.000000</td>\n",
              "      <td>5.684000e+10</td>\n",
              "      <td>8.141700e+10</td>\n",
              "      <td>2.546160e+11</td>\n",
              "      <td>7.159674e+11</td>\n",
              "      <td>9.962141e+07</td>\n",
              "      <td>inf</td>\n",
              "    </tr>\n",
              "  </tbody>\n",
              "</table>\n",
              "</div>"
            ],
            "text/plain": [
              "                Last      Sales(q)  ...        Volume  Sales_Ninc\n",
              "count     696.000000  6.790000e+02  ...  6.960000e+02  696.000000\n",
              "mean      549.191682  1.857681e+09  ...  2.370612e+06         inf\n",
              "std     12408.663313  4.810289e+09  ...  6.389764e+06         NaN\n",
              "min         0.324900  0.000000e+00  ...  1.250000e+02    0.100008\n",
              "25%        12.187500  9.807000e+07  ...  2.410195e+05    0.135204\n",
              "50%        35.400000  3.668900e+08  ...  7.146050e+05    0.196053\n",
              "75%        80.037500  1.548570e+09  ...  1.943260e+06    0.316070\n",
              "max    327401.000000  5.684000e+10  ...  9.962141e+07         inf\n",
              "\n",
              "[8 rows x 7 columns]"
            ]
          },
          "metadata": {
            "tags": []
          },
          "execution_count": 52
        }
      ]
    },
    {
      "cell_type": "code",
      "metadata": {
        "id": "i9lY_IvERltu",
        "colab_type": "code",
        "colab": {}
      },
      "source": [
        "nyL = list(range(0,696))"
      ],
      "execution_count": 57,
      "outputs": []
    },
    {
      "cell_type": "code",
      "metadata": {
        "id": "g-bOWpPrSGTE",
        "colab_type": "code",
        "colab": {}
      },
      "source": [
        "nyseL = list(range(0,1919))"
      ],
      "execution_count": 58,
      "outputs": []
    },
    {
      "cell_type": "code",
      "metadata": {
        "id": "vkBHvem_SL8i",
        "colab_type": "code",
        "colab": {}
      },
      "source": [
        "nasli = list(range(0,2733))"
      ],
      "execution_count": 59,
      "outputs": []
    },
    {
      "cell_type": "code",
      "metadata": {
        "id": "gwABtaCESQAY",
        "colab_type": "code",
        "colab": {}
      },
      "source": [
        "def nq(i): \n",
        "  Na = (nas['Sales(q)'][i] * 4) - nas['Sales(a)'][i]\n",
        "  return(Na)"
      ],
      "execution_count": 60,
      "outputs": []
    },
    {
      "cell_type": "code",
      "metadata": {
        "id": "kvPRT5DYSjRa",
        "colab_type": "code",
        "colab": {}
      },
      "source": [
        "def ny(i): \n",
        "  nye = (nyse['Sales(q)'][i] * 4) - nyse['Sales(a)'][i]\n",
        "  return(nye)"
      ],
      "execution_count": 61,
      "outputs": []
    },
    {
      "cell_type": "code",
      "metadata": {
        "id": "mGPlVXYRSyNP",
        "colab_type": "code",
        "colab": {}
      },
      "source": [
        "nyQA = ny(nyseL)\n",
        "nsQA = nq(nasli)"
      ],
      "execution_count": 62,
      "outputs": []
    },
    {
      "cell_type": "code",
      "metadata": {
        "id": "6D7-CF1wTDyW",
        "colab_type": "code",
        "colab": {}
      },
      "source": [
        "nyse['Qrt_Yr']=(nyQA)"
      ],
      "execution_count": 64,
      "outputs": []
    },
    {
      "cell_type": "code",
      "metadata": {
        "id": "2HymH8yKTHeY",
        "colab_type": "code",
        "colab": {}
      },
      "source": [
        "nas['Qrt_Yr']=(nsQA)"
      ],
      "execution_count": 65,
      "outputs": []
    },
    {
      "cell_type": "code",
      "metadata": {
        "id": "3Nxvz_iATTpt",
        "colab_type": "code",
        "colab": {
          "base_uri": "https://localhost:8080/",
          "height": 282
        },
        "outputId": "93f8f114-db03-4964-8b93-862613bdd806"
      },
      "source": [
        "nyse.describe()"
      ],
      "execution_count": 66,
      "outputs": [
        {
          "output_type": "execute_result",
          "data": {
            "text/html": [
              "<div>\n",
              "<style scoped>\n",
              "    .dataframe tbody tr th:only-of-type {\n",
              "        vertical-align: middle;\n",
              "    }\n",
              "\n",
              "    .dataframe tbody tr th {\n",
              "        vertical-align: top;\n",
              "    }\n",
              "\n",
              "    .dataframe thead th {\n",
              "        text-align: right;\n",
              "    }\n",
              "</style>\n",
              "<table border=\"1\" class=\"dataframe\">\n",
              "  <thead>\n",
              "    <tr style=\"text-align: right;\">\n",
              "      <th></th>\n",
              "      <th>Last</th>\n",
              "      <th>Sales(q)</th>\n",
              "      <th>Net Income(a)</th>\n",
              "      <th>Sales(a)</th>\n",
              "      <th>Market Cap</th>\n",
              "      <th>Volume</th>\n",
              "      <th>Sales_Ninc</th>\n",
              "      <th>Qrt_Yr</th>\n",
              "    </tr>\n",
              "  </thead>\n",
              "  <tbody>\n",
              "    <tr>\n",
              "      <th>count</th>\n",
              "      <td>1919.000000</td>\n",
              "      <td>1.856000e+03</td>\n",
              "      <td>1.919000e+03</td>\n",
              "      <td>1.919000e+03</td>\n",
              "      <td>1.916000e+03</td>\n",
              "      <td>1.919000e+03</td>\n",
              "      <td>1895.000000</td>\n",
              "      <td>1.856000e+03</td>\n",
              "    </tr>\n",
              "    <tr>\n",
              "      <th>mean</th>\n",
              "      <td>225.581642</td>\n",
              "      <td>2.114463e+09</td>\n",
              "      <td>8.197028e+08</td>\n",
              "      <td>1.058522e+10</td>\n",
              "      <td>1.511043e+10</td>\n",
              "      <td>2.208841e+06</td>\n",
              "      <td>NaN</td>\n",
              "      <td>-2.049414e+09</td>\n",
              "    </tr>\n",
              "    <tr>\n",
              "      <th>std</th>\n",
              "      <td>7473.760260</td>\n",
              "      <td>6.577823e+09</td>\n",
              "      <td>3.567870e+09</td>\n",
              "      <td>3.226106e+10</td>\n",
              "      <td>4.297032e+10</td>\n",
              "      <td>6.692288e+06</td>\n",
              "      <td>NaN</td>\n",
              "      <td>1.229292e+10</td>\n",
              "    </tr>\n",
              "    <tr>\n",
              "      <th>min</th>\n",
              "      <td>0.183100</td>\n",
              "      <td>0.000000e+00</td>\n",
              "      <td>-1.013700e+10</td>\n",
              "      <td>0.000000e+00</td>\n",
              "      <td>7.719000e+06</td>\n",
              "      <td>7.000000e+00</td>\n",
              "      <td>-inf</td>\n",
              "      <td>-2.221420e+11</td>\n",
              "    </tr>\n",
              "    <tr>\n",
              "      <th>25%</th>\n",
              "      <td>9.785000</td>\n",
              "      <td>1.102750e+08</td>\n",
              "      <td>3.350000e+05</td>\n",
              "      <td>5.801700e+08</td>\n",
              "      <td>6.804740e+08</td>\n",
              "      <td>2.084230e+05</td>\n",
              "      <td>0.004126</td>\n",
              "      <td>-9.201000e+08</td>\n",
              "    </tr>\n",
              "    <tr>\n",
              "      <th>50%</th>\n",
              "      <td>23.890000</td>\n",
              "      <td>4.026950e+08</td>\n",
              "      <td>1.055000e+08</td>\n",
              "      <td>1.985670e+09</td>\n",
              "      <td>2.712178e+09</td>\n",
              "      <td>6.189060e+05</td>\n",
              "      <td>0.064481</td>\n",
              "      <td>-1.543750e+08</td>\n",
              "    </tr>\n",
              "    <tr>\n",
              "      <th>75%</th>\n",
              "      <td>58.340000</td>\n",
              "      <td>1.490882e+09</td>\n",
              "      <td>4.945000e+08</td>\n",
              "      <td>7.202650e+09</td>\n",
              "      <td>1.110450e+10</td>\n",
              "      <td>1.884848e+06</td>\n",
              "      <td>0.145811</td>\n",
              "      <td>1.082500e+07</td>\n",
              "    </tr>\n",
              "    <tr>\n",
              "      <th>max</th>\n",
              "      <td>327401.000000</td>\n",
              "      <td>1.377420e+11</td>\n",
              "      <td>8.141700e+10</td>\n",
              "      <td>5.239640e+11</td>\n",
              "      <td>7.159674e+11</td>\n",
              "      <td>1.633298e+08</td>\n",
              "      <td>inf</td>\n",
              "      <td>4.391000e+10</td>\n",
              "    </tr>\n",
              "  </tbody>\n",
              "</table>\n",
              "</div>"
            ],
            "text/plain": [
              "                Last      Sales(q)  ...   Sales_Ninc        Qrt_Yr\n",
              "count    1919.000000  1.856000e+03  ...  1895.000000  1.856000e+03\n",
              "mean      225.581642  2.114463e+09  ...          NaN -2.049414e+09\n",
              "std      7473.760260  6.577823e+09  ...          NaN  1.229292e+10\n",
              "min         0.183100  0.000000e+00  ...         -inf -2.221420e+11\n",
              "25%         9.785000  1.102750e+08  ...     0.004126 -9.201000e+08\n",
              "50%        23.890000  4.026950e+08  ...     0.064481 -1.543750e+08\n",
              "75%        58.340000  1.490882e+09  ...     0.145811  1.082500e+07\n",
              "max    327401.000000  1.377420e+11  ...          inf  4.391000e+10\n",
              "\n",
              "[8 rows x 8 columns]"
            ]
          },
          "metadata": {
            "tags": []
          },
          "execution_count": 66
        }
      ]
    },
    {
      "cell_type": "code",
      "metadata": {
        "id": "i61E32JRTVr-",
        "colab_type": "code",
        "colab": {
          "base_uri": "https://localhost:8080/",
          "height": 282
        },
        "outputId": "54487774-eaec-4db4-c8f5-06dc0db1bf86"
      },
      "source": [
        "nas.describe()"
      ],
      "execution_count": 67,
      "outputs": [
        {
          "output_type": "execute_result",
          "data": {
            "text/html": [
              "<div>\n",
              "<style scoped>\n",
              "    .dataframe tbody tr th:only-of-type {\n",
              "        vertical-align: middle;\n",
              "    }\n",
              "\n",
              "    .dataframe tbody tr th {\n",
              "        vertical-align: top;\n",
              "    }\n",
              "\n",
              "    .dataframe thead th {\n",
              "        text-align: right;\n",
              "    }\n",
              "</style>\n",
              "<table border=\"1\" class=\"dataframe\">\n",
              "  <thead>\n",
              "    <tr style=\"text-align: right;\">\n",
              "      <th></th>\n",
              "      <th>Last</th>\n",
              "      <th>Net Income(q)</th>\n",
              "      <th>Sales(q)</th>\n",
              "      <th>Net Income(a)</th>\n",
              "      <th>Sales(a)</th>\n",
              "      <th>Shares Out</th>\n",
              "      <th>Market Cap</th>\n",
              "      <th>Volume</th>\n",
              "      <th>Sales_Ninc</th>\n",
              "      <th>Qrt_Yr</th>\n",
              "    </tr>\n",
              "  </thead>\n",
              "  <tbody>\n",
              "    <tr>\n",
              "      <th>count</th>\n",
              "      <td>2733.000000</td>\n",
              "      <td>2.540000e+03</td>\n",
              "      <td>2.540000e+03</td>\n",
              "      <td>2.733000e+03</td>\n",
              "      <td>2.733000e+03</td>\n",
              "      <td>2.730000e+03</td>\n",
              "      <td>2.730000e+03</td>\n",
              "      <td>2.733000e+03</td>\n",
              "      <td>2701.000000</td>\n",
              "      <td>2.540000e+03</td>\n",
              "    </tr>\n",
              "    <tr>\n",
              "      <th>mean</th>\n",
              "      <td>35.166276</td>\n",
              "      <td>2.869972e+07</td>\n",
              "      <td>4.481243e+08</td>\n",
              "      <td>1.767373e+08</td>\n",
              "      <td>1.778420e+09</td>\n",
              "      <td>9.430842e+07</td>\n",
              "      <td>7.125496e+09</td>\n",
              "      <td>1.365233e+06</td>\n",
              "      <td>NaN</td>\n",
              "      <td>-8.689985e+07</td>\n",
              "    </tr>\n",
              "    <tr>\n",
              "      <th>std</th>\n",
              "      <td>105.927321</td>\n",
              "      <td>4.656110e+08</td>\n",
              "      <td>2.976592e+09</td>\n",
              "      <td>1.878572e+09</td>\n",
              "      <td>1.096046e+10</td>\n",
              "      <td>4.321272e+08</td>\n",
              "      <td>7.047071e+10</td>\n",
              "      <td>8.052876e+06</td>\n",
              "      <td>NaN</td>\n",
              "      <td>2.334262e+09</td>\n",
              "    </tr>\n",
              "    <tr>\n",
              "      <th>min</th>\n",
              "      <td>0.122300</td>\n",
              "      <td>-3.339000e+09</td>\n",
              "      <td>-5.500000e+05</td>\n",
              "      <td>-3.553000e+09</td>\n",
              "      <td>0.000000e+00</td>\n",
              "      <td>0.000000e+00</td>\n",
              "      <td>0.000000e+00</td>\n",
              "      <td>1.000000e+02</td>\n",
              "      <td>-inf</td>\n",
              "      <td>-3.928000e+10</td>\n",
              "    </tr>\n",
              "    <tr>\n",
              "      <th>25%</th>\n",
              "      <td>4.300000</td>\n",
              "      <td>-1.057500e+07</td>\n",
              "      <td>4.620000e+06</td>\n",
              "      <td>-2.591000e+07</td>\n",
              "      <td>1.598000e+07</td>\n",
              "      <td>1.604075e+07</td>\n",
              "      <td>9.434975e+07</td>\n",
              "      <td>6.020000e+04</td>\n",
              "      <td>-0.768045</td>\n",
              "      <td>-4.394250e+07</td>\n",
              "    </tr>\n",
              "    <tr>\n",
              "      <th>50%</th>\n",
              "      <td>12.070000</td>\n",
              "      <td>-8.550000e+05</td>\n",
              "      <td>3.636000e+07</td>\n",
              "      <td>0.000000e+00</td>\n",
              "      <td>1.270700e+08</td>\n",
              "      <td>3.475300e+07</td>\n",
              "      <td>3.600295e+08</td>\n",
              "      <td>2.362000e+05</td>\n",
              "      <td>-0.000639</td>\n",
              "      <td>-5.600000e+05</td>\n",
              "    </tr>\n",
              "    <tr>\n",
              "      <th>75%</th>\n",
              "      <td>31.680000</td>\n",
              "      <td>8.710000e+06</td>\n",
              "      <td>1.827925e+08</td>\n",
              "      <td>3.713000e+07</td>\n",
              "      <td>6.958300e+08</td>\n",
              "      <td>7.269675e+07</td>\n",
              "      <td>1.640182e+09</td>\n",
              "      <td>7.652000e+05</td>\n",
              "      <td>0.119825</td>\n",
              "      <td>1.033000e+07</td>\n",
              "    </tr>\n",
              "    <tr>\n",
              "      <th>max</th>\n",
              "      <td>3294.620000</td>\n",
              "      <td>1.125300e+10</td>\n",
              "      <td>8.891200e+10</td>\n",
              "      <td>5.525600e+10</td>\n",
              "      <td>2.805220e+11</td>\n",
              "      <td>1.733734e+10</td>\n",
              "      <td>2.097125e+12</td>\n",
              "      <td>3.326071e+08</td>\n",
              "      <td>inf</td>\n",
              "      <td>7.512600e+10</td>\n",
              "    </tr>\n",
              "  </tbody>\n",
              "</table>\n",
              "</div>"
            ],
            "text/plain": [
              "              Last  Net Income(q)  ...   Sales_Ninc        Qrt_Yr\n",
              "count  2733.000000   2.540000e+03  ...  2701.000000  2.540000e+03\n",
              "mean     35.166276   2.869972e+07  ...          NaN -8.689985e+07\n",
              "std     105.927321   4.656110e+08  ...          NaN  2.334262e+09\n",
              "min       0.122300  -3.339000e+09  ...         -inf -3.928000e+10\n",
              "25%       4.300000  -1.057500e+07  ...    -0.768045 -4.394250e+07\n",
              "50%      12.070000  -8.550000e+05  ...    -0.000639 -5.600000e+05\n",
              "75%      31.680000   8.710000e+06  ...     0.119825  1.033000e+07\n",
              "max    3294.620000   1.125300e+10  ...          inf  7.512600e+10\n",
              "\n",
              "[8 rows x 10 columns]"
            ]
          },
          "metadata": {
            "tags": []
          },
          "execution_count": 67
        }
      ]
    },
    {
      "cell_type": "code",
      "metadata": {
        "id": "L8SenpjDTZsA",
        "colab_type": "code",
        "colab": {}
      },
      "source": [
        "pos_nyse = nyse.loc[(nyse['Qrt_Yr'])>0]\n",
        "pos_nasdq = nas.loc[(nas['Qrt_Yr'])>0]"
      ],
      "execution_count": 68,
      "outputs": []
    },
    {
      "cell_type": "code",
      "metadata": {
        "id": "GBBddBYyUXjD",
        "colab_type": "code",
        "colab": {
          "base_uri": "https://localhost:8080/",
          "height": 34
        },
        "outputId": "a456a093-db18-461e-ae2d-b361bb3f2a3a"
      },
      "source": [
        "len(pos_nyse)"
      ],
      "execution_count": 69,
      "outputs": [
        {
          "output_type": "execute_result",
          "data": {
            "text/plain": [
              "503"
            ]
          },
          "metadata": {
            "tags": []
          },
          "execution_count": 69
        }
      ]
    },
    {
      "cell_type": "code",
      "metadata": {
        "id": "mLxs03RZUaJr",
        "colab_type": "code",
        "colab": {
          "base_uri": "https://localhost:8080/",
          "height": 34
        },
        "outputId": "2487dac2-a84f-4917-8df2-8f3d3c6b7e83"
      },
      "source": [
        "len(pos_nasdq)"
      ],
      "execution_count": 70,
      "outputs": [
        {
          "output_type": "execute_result",
          "data": {
            "text/plain": [
              "958"
            ]
          },
          "metadata": {
            "tags": []
          },
          "execution_count": 70
        }
      ]
    },
    {
      "cell_type": "code",
      "metadata": {
        "id": "fBrq2UqrUcys",
        "colab_type": "code",
        "colab": {
          "base_uri": "https://localhost:8080/",
          "height": 222
        },
        "outputId": "a5ef4d81-204b-4681-fb66-866befdf4825"
      },
      "source": [
        "pos_nyse.Industry.value_counts()"
      ],
      "execution_count": 71,
      "outputs": [
        {
          "output_type": "execute_result",
          "data": {
            "text/plain": [
              "REIT - Equity Trust Other         42\n",
              "Internet - Software               24\n",
              "Insurance - Proprty & Casualty    18\n",
              "Transportation - Ship             17\n",
              "Technology Services               12\n",
              "                                  ..\n",
              "Oil Refining & Marketing MLP       1\n",
              "Oil - US Royalty Trusts            1\n",
              "Securities Exchanges               1\n",
              "Medical - Generic Drugs            1\n",
              "E&P MLP                            1\n",
              "Name: Industry, Length: 146, dtype: int64"
            ]
          },
          "metadata": {
            "tags": []
          },
          "execution_count": 71
        }
      ]
    },
    {
      "cell_type": "code",
      "metadata": {
        "id": "S6kOW-9JUl1A",
        "colab_type": "code",
        "colab": {
          "base_uri": "https://localhost:8080/",
          "height": 222
        },
        "outputId": "05c54c0e-9731-4957-833b-401a85a75da6"
      },
      "source": [
        "pos_nasdq.Industry.value_counts()"
      ],
      "execution_count": 72,
      "outputs": [
        {
          "output_type": "execute_result",
          "data": {
            "text/plain": [
              "Medical - Biomedical              107\n",
              "Banks - Northeast                  57\n",
              "Medical - Drugs                    56\n",
              "Internet - Software                42\n",
              "Banks - Southeast                  38\n",
              "                                 ... \n",
              "Semi-Eqpt PhotoMask                 1\n",
              "Printing - Commercial               1\n",
              "Utility - Electric Power            1\n",
              "Large Cap Pharma                    1\n",
              "Machinery - Thermal Processing      1\n",
              "Name: Industry, Length: 159, dtype: int64"
            ]
          },
          "metadata": {
            "tags": []
          },
          "execution_count": 72
        }
      ]
    },
    {
      "cell_type": "code",
      "metadata": {
        "id": "r4m4_xp0Up9K",
        "colab_type": "code",
        "colab": {
          "base_uri": "https://localhost:8080/",
          "height": 454
        },
        "outputId": "4e8d705d-3678-4744-b17d-3cfd8796f4e2"
      },
      "source": [
        "pos_nasdq.head()"
      ],
      "execution_count": 73,
      "outputs": [
        {
          "output_type": "execute_result",
          "data": {
            "text/html": [
              "<div>\n",
              "<style scoped>\n",
              "    .dataframe tbody tr th:only-of-type {\n",
              "        vertical-align: middle;\n",
              "    }\n",
              "\n",
              "    .dataframe tbody tr th {\n",
              "        vertical-align: top;\n",
              "    }\n",
              "\n",
              "    .dataframe thead th {\n",
              "        text-align: right;\n",
              "    }\n",
              "</style>\n",
              "<table border=\"1\" class=\"dataframe\">\n",
              "  <thead>\n",
              "    <tr style=\"text-align: right;\">\n",
              "      <th></th>\n",
              "      <th>Symbol</th>\n",
              "      <th>Name</th>\n",
              "      <th>Exchange</th>\n",
              "      <th>SIC Description</th>\n",
              "      <th>Industry</th>\n",
              "      <th>Last</th>\n",
              "      <th>Time</th>\n",
              "      <th>Net Income(q)</th>\n",
              "      <th>Sales(q)</th>\n",
              "      <th>Net Income(a)</th>\n",
              "      <th>Sales(a)</th>\n",
              "      <th>Shares Out</th>\n",
              "      <th>Market Cap</th>\n",
              "      <th>Volume</th>\n",
              "      <th>Sales_Ninc</th>\n",
              "      <th>Qrt_Yr</th>\n",
              "    </tr>\n",
              "  </thead>\n",
              "  <tbody>\n",
              "    <tr>\n",
              "      <th>0</th>\n",
              "      <td>AACG</td>\n",
              "      <td>Ata Creativity Global</td>\n",
              "      <td>NASDAQ</td>\n",
              "      <td>SIC-8200 Services-Educational Services</td>\n",
              "      <td>Schools</td>\n",
              "      <td>1.10</td>\n",
              "      <td>9/4/2020</td>\n",
              "      <td>-4540000.0</td>\n",
              "      <td>3740000.0</td>\n",
              "      <td>-17560000.0</td>\n",
              "      <td>1.404000e+07</td>\n",
              "      <td>24323000.0</td>\n",
              "      <td>2.675500e+07</td>\n",
              "      <td>27200.0</td>\n",
              "      <td>-1.250712</td>\n",
              "      <td>920000.0</td>\n",
              "    </tr>\n",
              "    <tr>\n",
              "      <th>4</th>\n",
              "      <td>AAME</td>\n",
              "      <td>Atlantic Amer Cp</td>\n",
              "      <td>NASDAQ</td>\n",
              "      <td>SIC-6311 Life Insurance</td>\n",
              "      <td>Insurance - Accident &amp; Health</td>\n",
              "      <td>2.02</td>\n",
              "      <td>9/4/2020</td>\n",
              "      <td>6530000.0</td>\n",
              "      <td>49740000.0</td>\n",
              "      <td>-390000.0</td>\n",
              "      <td>1.981800e+08</td>\n",
              "      <td>20454000.0</td>\n",
              "      <td>4.131700e+07</td>\n",
              "      <td>4500.0</td>\n",
              "      <td>-0.001968</td>\n",
              "      <td>780000.0</td>\n",
              "    </tr>\n",
              "    <tr>\n",
              "      <th>5</th>\n",
              "      <td>AAOI</td>\n",
              "      <td>Applied Optoelect</td>\n",
              "      <td>NASDAQ</td>\n",
              "      <td>SIC-3674 Semiconductors &amp; Related Devices</td>\n",
              "      <td>Electronics - Semiconductors</td>\n",
              "      <td>10.52</td>\n",
              "      <td>9/4/2020</td>\n",
              "      <td>-18600000.0</td>\n",
              "      <td>65220000.0</td>\n",
              "      <td>-66050000.0</td>\n",
              "      <td>1.908700e+08</td>\n",
              "      <td>22774000.0</td>\n",
              "      <td>2.395830e+08</td>\n",
              "      <td>948500.0</td>\n",
              "      <td>-0.346047</td>\n",
              "      <td>70010000.0</td>\n",
              "    </tr>\n",
              "    <tr>\n",
              "      <th>6</th>\n",
              "      <td>AAON</td>\n",
              "      <td>Aaon Inc</td>\n",
              "      <td>NASDAQ</td>\n",
              "      <td>SIC-3585 Air-Cond &amp; Warm Air Heatg Equip &amp; Com...</td>\n",
              "      <td>Building Prdcts - Air Heating</td>\n",
              "      <td>56.43</td>\n",
              "      <td>9/4/2020</td>\n",
              "      <td>17800000.0</td>\n",
              "      <td>125600000.0</td>\n",
              "      <td>53710000.0</td>\n",
              "      <td>4.693300e+08</td>\n",
              "      <td>52262000.0</td>\n",
              "      <td>2.949145e+09</td>\n",
              "      <td>127900.0</td>\n",
              "      <td>0.114440</td>\n",
              "      <td>33070000.0</td>\n",
              "    </tr>\n",
              "    <tr>\n",
              "      <th>8</th>\n",
              "      <td>AAWW</td>\n",
              "      <td>Atlas Air Ww</td>\n",
              "      <td>NASDAQ</td>\n",
              "      <td>SIC-4522 Air Transportation, Nonscheduled</td>\n",
              "      <td>Transportation - Air Freight</td>\n",
              "      <td>55.72</td>\n",
              "      <td>9/4/2020</td>\n",
              "      <td>78910000.0</td>\n",
              "      <td>825250000.0</td>\n",
              "      <td>-293110000.0</td>\n",
              "      <td>2.739190e+09</td>\n",
              "      <td>26136000.0</td>\n",
              "      <td>1.456297e+09</td>\n",
              "      <td>411700.0</td>\n",
              "      <td>-0.107006</td>\n",
              "      <td>561810000.0</td>\n",
              "    </tr>\n",
              "  </tbody>\n",
              "</table>\n",
              "</div>"
            ],
            "text/plain": [
              "  Symbol                   Name Exchange  ...    Volume Sales_Ninc       Qrt_Yr\n",
              "0   AACG  Ata Creativity Global   NASDAQ  ...   27200.0  -1.250712     920000.0\n",
              "4   AAME       Atlantic Amer Cp   NASDAQ  ...    4500.0  -0.001968     780000.0\n",
              "5   AAOI      Applied Optoelect   NASDAQ  ...  948500.0  -0.346047   70010000.0\n",
              "6   AAON               Aaon Inc   NASDAQ  ...  127900.0   0.114440   33070000.0\n",
              "8   AAWW           Atlas Air Ww   NASDAQ  ...  411700.0  -0.107006  561810000.0\n",
              "\n",
              "[5 rows x 16 columns]"
            ]
          },
          "metadata": {
            "tags": []
          },
          "execution_count": 73
        }
      ]
    },
    {
      "cell_type": "code",
      "metadata": {
        "id": "mZ_bPS86XEsf",
        "colab_type": "code",
        "colab": {}
      },
      "source": [
        "PosnasPos = pos_nasdq.loc[(pos_nasdq['Sales(q)'])>0]"
      ],
      "execution_count": 75,
      "outputs": []
    },
    {
      "cell_type": "code",
      "metadata": {
        "id": "JeAW32H4XPq5",
        "colab_type": "code",
        "colab": {}
      },
      "source": [
        "PosnyPos = pos_nyse.loc[(pos_nyse['Sales(q)'])>0]"
      ],
      "execution_count": 76,
      "outputs": []
    },
    {
      "cell_type": "code",
      "metadata": {
        "id": "k4Da8ba4XiUY",
        "colab_type": "code",
        "colab": {
          "base_uri": "https://localhost:8080/",
          "height": 34
        },
        "outputId": "2ab9c16e-be09-46cc-faf7-91f5b7a0f7b3"
      },
      "source": [
        "len(PosnasPos)"
      ],
      "execution_count": 77,
      "outputs": [
        {
          "output_type": "execute_result",
          "data": {
            "text/plain": [
              "958"
            ]
          },
          "metadata": {
            "tags": []
          },
          "execution_count": 77
        }
      ]
    },
    {
      "cell_type": "code",
      "metadata": {
        "id": "7Ab-rOAFXj_B",
        "colab_type": "code",
        "colab": {
          "base_uri": "https://localhost:8080/",
          "height": 34
        },
        "outputId": "8a464b86-cb01-4f8c-dc05-db4521968094"
      },
      "source": [
        "len(PosnyPos)"
      ],
      "execution_count": 78,
      "outputs": [
        {
          "output_type": "execute_result",
          "data": {
            "text/plain": [
              "503"
            ]
          },
          "metadata": {
            "tags": []
          },
          "execution_count": 78
        }
      ]
    },
    {
      "cell_type": "code",
      "metadata": {
        "id": "jk9OED6AXmQj",
        "colab_type": "code",
        "colab": {
          "base_uri": "https://localhost:8080/",
          "height": 454
        },
        "outputId": "6a2b2e9e-2664-4ae9-9e2b-add3d4e348ec"
      },
      "source": [
        "PosnasPos.head()"
      ],
      "execution_count": 79,
      "outputs": [
        {
          "output_type": "execute_result",
          "data": {
            "text/html": [
              "<div>\n",
              "<style scoped>\n",
              "    .dataframe tbody tr th:only-of-type {\n",
              "        vertical-align: middle;\n",
              "    }\n",
              "\n",
              "    .dataframe tbody tr th {\n",
              "        vertical-align: top;\n",
              "    }\n",
              "\n",
              "    .dataframe thead th {\n",
              "        text-align: right;\n",
              "    }\n",
              "</style>\n",
              "<table border=\"1\" class=\"dataframe\">\n",
              "  <thead>\n",
              "    <tr style=\"text-align: right;\">\n",
              "      <th></th>\n",
              "      <th>Symbol</th>\n",
              "      <th>Name</th>\n",
              "      <th>Exchange</th>\n",
              "      <th>SIC Description</th>\n",
              "      <th>Industry</th>\n",
              "      <th>Last</th>\n",
              "      <th>Time</th>\n",
              "      <th>Net Income(q)</th>\n",
              "      <th>Sales(q)</th>\n",
              "      <th>Net Income(a)</th>\n",
              "      <th>Sales(a)</th>\n",
              "      <th>Shares Out</th>\n",
              "      <th>Market Cap</th>\n",
              "      <th>Volume</th>\n",
              "      <th>Sales_Ninc</th>\n",
              "      <th>Qrt_Yr</th>\n",
              "    </tr>\n",
              "  </thead>\n",
              "  <tbody>\n",
              "    <tr>\n",
              "      <th>0</th>\n",
              "      <td>AACG</td>\n",
              "      <td>Ata Creativity Global</td>\n",
              "      <td>NASDAQ</td>\n",
              "      <td>SIC-8200 Services-Educational Services</td>\n",
              "      <td>Schools</td>\n",
              "      <td>1.10</td>\n",
              "      <td>9/4/2020</td>\n",
              "      <td>-4540000.0</td>\n",
              "      <td>3740000.0</td>\n",
              "      <td>-17560000.0</td>\n",
              "      <td>1.404000e+07</td>\n",
              "      <td>24323000.0</td>\n",
              "      <td>2.675500e+07</td>\n",
              "      <td>27200.0</td>\n",
              "      <td>-1.250712</td>\n",
              "      <td>920000.0</td>\n",
              "    </tr>\n",
              "    <tr>\n",
              "      <th>4</th>\n",
              "      <td>AAME</td>\n",
              "      <td>Atlantic Amer Cp</td>\n",
              "      <td>NASDAQ</td>\n",
              "      <td>SIC-6311 Life Insurance</td>\n",
              "      <td>Insurance - Accident &amp; Health</td>\n",
              "      <td>2.02</td>\n",
              "      <td>9/4/2020</td>\n",
              "      <td>6530000.0</td>\n",
              "      <td>49740000.0</td>\n",
              "      <td>-390000.0</td>\n",
              "      <td>1.981800e+08</td>\n",
              "      <td>20454000.0</td>\n",
              "      <td>4.131700e+07</td>\n",
              "      <td>4500.0</td>\n",
              "      <td>-0.001968</td>\n",
              "      <td>780000.0</td>\n",
              "    </tr>\n",
              "    <tr>\n",
              "      <th>5</th>\n",
              "      <td>AAOI</td>\n",
              "      <td>Applied Optoelect</td>\n",
              "      <td>NASDAQ</td>\n",
              "      <td>SIC-3674 Semiconductors &amp; Related Devices</td>\n",
              "      <td>Electronics - Semiconductors</td>\n",
              "      <td>10.52</td>\n",
              "      <td>9/4/2020</td>\n",
              "      <td>-18600000.0</td>\n",
              "      <td>65220000.0</td>\n",
              "      <td>-66050000.0</td>\n",
              "      <td>1.908700e+08</td>\n",
              "      <td>22774000.0</td>\n",
              "      <td>2.395830e+08</td>\n",
              "      <td>948500.0</td>\n",
              "      <td>-0.346047</td>\n",
              "      <td>70010000.0</td>\n",
              "    </tr>\n",
              "    <tr>\n",
              "      <th>6</th>\n",
              "      <td>AAON</td>\n",
              "      <td>Aaon Inc</td>\n",
              "      <td>NASDAQ</td>\n",
              "      <td>SIC-3585 Air-Cond &amp; Warm Air Heatg Equip &amp; Com...</td>\n",
              "      <td>Building Prdcts - Air Heating</td>\n",
              "      <td>56.43</td>\n",
              "      <td>9/4/2020</td>\n",
              "      <td>17800000.0</td>\n",
              "      <td>125600000.0</td>\n",
              "      <td>53710000.0</td>\n",
              "      <td>4.693300e+08</td>\n",
              "      <td>52262000.0</td>\n",
              "      <td>2.949145e+09</td>\n",
              "      <td>127900.0</td>\n",
              "      <td>0.114440</td>\n",
              "      <td>33070000.0</td>\n",
              "    </tr>\n",
              "    <tr>\n",
              "      <th>8</th>\n",
              "      <td>AAWW</td>\n",
              "      <td>Atlas Air Ww</td>\n",
              "      <td>NASDAQ</td>\n",
              "      <td>SIC-4522 Air Transportation, Nonscheduled</td>\n",
              "      <td>Transportation - Air Freight</td>\n",
              "      <td>55.72</td>\n",
              "      <td>9/4/2020</td>\n",
              "      <td>78910000.0</td>\n",
              "      <td>825250000.0</td>\n",
              "      <td>-293110000.0</td>\n",
              "      <td>2.739190e+09</td>\n",
              "      <td>26136000.0</td>\n",
              "      <td>1.456297e+09</td>\n",
              "      <td>411700.0</td>\n",
              "      <td>-0.107006</td>\n",
              "      <td>561810000.0</td>\n",
              "    </tr>\n",
              "  </tbody>\n",
              "</table>\n",
              "</div>"
            ],
            "text/plain": [
              "  Symbol                   Name Exchange  ...    Volume Sales_Ninc       Qrt_Yr\n",
              "0   AACG  Ata Creativity Global   NASDAQ  ...   27200.0  -1.250712     920000.0\n",
              "4   AAME       Atlantic Amer Cp   NASDAQ  ...    4500.0  -0.001968     780000.0\n",
              "5   AAOI      Applied Optoelect   NASDAQ  ...  948500.0  -0.346047   70010000.0\n",
              "6   AAON               Aaon Inc   NASDAQ  ...  127900.0   0.114440   33070000.0\n",
              "8   AAWW           Atlas Air Ww   NASDAQ  ...  411700.0  -0.107006  561810000.0\n",
              "\n",
              "[5 rows x 16 columns]"
            ]
          },
          "metadata": {
            "tags": []
          },
          "execution_count": 79
        }
      ]
    },
    {
      "cell_type": "code",
      "metadata": {
        "id": "dbuW21v4XyeA",
        "colab_type": "code",
        "colab": {}
      },
      "source": [
        "PosnasPos.to_csv('Nasdaq_picks.csv', index=False)"
      ],
      "execution_count": 80,
      "outputs": []
    },
    {
      "cell_type": "code",
      "metadata": {
        "id": "hd2sTHMIZVsi",
        "colab_type": "code",
        "colab": {}
      },
      "source": [
        "PosnyPos.to_csv('NYSE_picks.csv', index=False)"
      ],
      "execution_count": 81,
      "outputs": []
    },
    {
      "cell_type": "code",
      "metadata": {
        "id": "qoYJk2a_ZcrC",
        "colab_type": "code",
        "colab": {}
      },
      "source": [
        "Nystkx = pd.read_csv('Nystckexg.csv')"
      ],
      "execution_count": 82,
      "outputs": []
    },
    {
      "cell_type": "code",
      "metadata": {
        "id": "7skoPiJeb4u_",
        "colab_type": "code",
        "colab": {}
      },
      "source": [
        "Ndaq = pd.read_csv('Ndaq.csv')"
      ],
      "execution_count": 84,
      "outputs": []
    },
    {
      "cell_type": "code",
      "metadata": {
        "id": "R5fhDdFwciCo",
        "colab_type": "code",
        "colab": {
          "base_uri": "https://localhost:8080/",
          "height": 282
        },
        "outputId": "3f890ab7-6534-4bab-9eed-02e4db7e9506"
      },
      "source": [
        "Nystkx.describe()"
      ],
      "execution_count": 85,
      "outputs": [
        {
          "output_type": "execute_result",
          "data": {
            "text/html": [
              "<div>\n",
              "<style scoped>\n",
              "    .dataframe tbody tr th:only-of-type {\n",
              "        vertical-align: middle;\n",
              "    }\n",
              "\n",
              "    .dataframe tbody tr th {\n",
              "        vertical-align: top;\n",
              "    }\n",
              "\n",
              "    .dataframe thead th {\n",
              "        text-align: right;\n",
              "    }\n",
              "</style>\n",
              "<table border=\"1\" class=\"dataframe\">\n",
              "  <thead>\n",
              "    <tr style=\"text-align: right;\">\n",
              "      <th></th>\n",
              "      <th>Last</th>\n",
              "      <th>Sales(q)</th>\n",
              "      <th>Net Income(a)</th>\n",
              "      <th>Sales(a)</th>\n",
              "      <th>Market Cap</th>\n",
              "      <th>Volume</th>\n",
              "      <th>Sales_Ninc</th>\n",
              "      <th>Qrt_Yr</th>\n",
              "    </tr>\n",
              "  </thead>\n",
              "  <tbody>\n",
              "    <tr>\n",
              "      <th>count</th>\n",
              "      <td>366.000000</td>\n",
              "      <td>3.660000e+02</td>\n",
              "      <td>3.660000e+02</td>\n",
              "      <td>3.660000e+02</td>\n",
              "      <td>3.660000e+02</td>\n",
              "      <td>3.660000e+02</td>\n",
              "      <td>366.000000</td>\n",
              "      <td>3.660000e+02</td>\n",
              "    </tr>\n",
              "    <tr>\n",
              "      <th>mean</th>\n",
              "      <td>86.990981</td>\n",
              "      <td>3.254602e+09</td>\n",
              "      <td>8.842128e+08</td>\n",
              "      <td>1.145719e+10</td>\n",
              "      <td>2.140789e+10</td>\n",
              "      <td>1.578431e+06</td>\n",
              "      <td>0.160278</td>\n",
              "      <td>1.561218e+09</td>\n",
              "    </tr>\n",
              "    <tr>\n",
              "      <th>std</th>\n",
              "      <td>150.773270</td>\n",
              "      <td>1.027702e+10</td>\n",
              "      <td>2.148901e+09</td>\n",
              "      <td>3.804364e+10</td>\n",
              "      <td>5.896031e+10</td>\n",
              "      <td>2.865958e+06</td>\n",
              "      <td>0.174565</td>\n",
              "      <td>5.193267e+09</td>\n",
              "    </tr>\n",
              "    <tr>\n",
              "      <th>min</th>\n",
              "      <td>0.833600</td>\n",
              "      <td>3.100000e+06</td>\n",
              "      <td>1.000000e+06</td>\n",
              "      <td>9.660000e+06</td>\n",
              "      <td>1.581200e+07</td>\n",
              "      <td>1.000000e+01</td>\n",
              "      <td>0.004105</td>\n",
              "      <td>5.000000e+04</td>\n",
              "    </tr>\n",
              "    <tr>\n",
              "      <th>25%</th>\n",
              "      <td>18.807500</td>\n",
              "      <td>1.965100e+08</td>\n",
              "      <td>7.012750e+07</td>\n",
              "      <td>6.969200e+08</td>\n",
              "      <td>1.693868e+09</td>\n",
              "      <td>2.480365e+05</td>\n",
              "      <td>0.051245</td>\n",
              "      <td>4.546250e+07</td>\n",
              "    </tr>\n",
              "    <tr>\n",
              "      <th>50%</th>\n",
              "      <td>42.760000</td>\n",
              "      <td>6.076750e+08</td>\n",
              "      <td>2.317600e+08</td>\n",
              "      <td>2.143145e+09</td>\n",
              "      <td>4.999200e+09</td>\n",
              "      <td>6.461505e+05</td>\n",
              "      <td>0.102591</td>\n",
              "      <td>1.673750e+08</td>\n",
              "    </tr>\n",
              "    <tr>\n",
              "      <th>75%</th>\n",
              "      <td>93.300000</td>\n",
              "      <td>1.875750e+09</td>\n",
              "      <td>6.172200e+08</td>\n",
              "      <td>6.671760e+09</td>\n",
              "      <td>1.436469e+10</td>\n",
              "      <td>1.530652e+06</td>\n",
              "      <td>0.205143</td>\n",
              "      <td>6.163700e+08</td>\n",
              "    </tr>\n",
              "    <tr>\n",
              "      <th>max</th>\n",
              "      <td>1845.010000</td>\n",
              "      <td>1.377420e+11</td>\n",
              "      <td>2.110400e+10</td>\n",
              "      <td>5.239640e+11</td>\n",
              "      <td>7.159670e+11</td>\n",
              "      <td>2.144642e+07</td>\n",
              "      <td>1.396092</td>\n",
              "      <td>4.391000e+10</td>\n",
              "    </tr>\n",
              "  </tbody>\n",
              "</table>\n",
              "</div>"
            ],
            "text/plain": [
              "              Last      Sales(q)  ...  Sales_Ninc        Qrt_Yr\n",
              "count   366.000000  3.660000e+02  ...  366.000000  3.660000e+02\n",
              "mean     86.990981  3.254602e+09  ...    0.160278  1.561218e+09\n",
              "std     150.773270  1.027702e+10  ...    0.174565  5.193267e+09\n",
              "min       0.833600  3.100000e+06  ...    0.004105  5.000000e+04\n",
              "25%      18.807500  1.965100e+08  ...    0.051245  4.546250e+07\n",
              "50%      42.760000  6.076750e+08  ...    0.102591  1.673750e+08\n",
              "75%      93.300000  1.875750e+09  ...    0.205143  6.163700e+08\n",
              "max    1845.010000  1.377420e+11  ...    1.396092  4.391000e+10\n",
              "\n",
              "[8 rows x 8 columns]"
            ]
          },
          "metadata": {
            "tags": []
          },
          "execution_count": 85
        }
      ]
    },
    {
      "cell_type": "code",
      "metadata": {
        "id": "wkZnLg1cco9j",
        "colab_type": "code",
        "colab": {
          "base_uri": "https://localhost:8080/",
          "height": 282
        },
        "outputId": "7f897598-ca45-4b1f-e872-367f5f9c3954"
      },
      "source": [
        "Ndaq.describe()"
      ],
      "execution_count": 86,
      "outputs": [
        {
          "output_type": "execute_result",
          "data": {
            "text/html": [
              "<div>\n",
              "<style scoped>\n",
              "    .dataframe tbody tr th:only-of-type {\n",
              "        vertical-align: middle;\n",
              "    }\n",
              "\n",
              "    .dataframe tbody tr th {\n",
              "        vertical-align: top;\n",
              "    }\n",
              "\n",
              "    .dataframe thead th {\n",
              "        text-align: right;\n",
              "    }\n",
              "</style>\n",
              "<table border=\"1\" class=\"dataframe\">\n",
              "  <thead>\n",
              "    <tr style=\"text-align: right;\">\n",
              "      <th></th>\n",
              "      <th>Last</th>\n",
              "      <th>Net Income(q)</th>\n",
              "      <th>Sales(q)</th>\n",
              "      <th>Net Income(a)</th>\n",
              "      <th>Sales(a)</th>\n",
              "      <th>Shares Out</th>\n",
              "      <th>Market Cap</th>\n",
              "      <th>Volume</th>\n",
              "      <th>Sales_Ninc</th>\n",
              "      <th>Qrt_Yr</th>\n",
              "    </tr>\n",
              "  </thead>\n",
              "  <tbody>\n",
              "    <tr>\n",
              "      <th>count</th>\n",
              "      <td>514.000000</td>\n",
              "      <td>5.140000e+02</td>\n",
              "      <td>5.140000e+02</td>\n",
              "      <td>5.140000e+02</td>\n",
              "      <td>5.140000e+02</td>\n",
              "      <td>5.140000e+02</td>\n",
              "      <td>5.140000e+02</td>\n",
              "      <td>5.140000e+02</td>\n",
              "      <td>514.000000</td>\n",
              "      <td>5.140000e+02</td>\n",
              "    </tr>\n",
              "    <tr>\n",
              "      <th>mean</th>\n",
              "      <td>66.337831</td>\n",
              "      <td>1.083553e+08</td>\n",
              "      <td>9.156540e+08</td>\n",
              "      <td>4.176726e+08</td>\n",
              "      <td>3.147958e+09</td>\n",
              "      <td>1.165455e+08</td>\n",
              "      <td>1.671470e+10</td>\n",
              "      <td>1.298800e+06</td>\n",
              "      <td>0.292959</td>\n",
              "      <td>5.146577e+08</td>\n",
              "    </tr>\n",
              "    <tr>\n",
              "      <th>std</th>\n",
              "      <td>173.091656</td>\n",
              "      <td>6.725222e+08</td>\n",
              "      <td>4.968788e+09</td>\n",
              "      <td>2.438534e+09</td>\n",
              "      <td>1.658266e+10</td>\n",
              "      <td>4.337070e+08</td>\n",
              "      <td>1.113151e+11</td>\n",
              "      <td>5.730535e+06</td>\n",
              "      <td>2.227602</td>\n",
              "      <td>3.812208e+09</td>\n",
              "    </tr>\n",
              "    <tr>\n",
              "      <th>min</th>\n",
              "      <td>0.165000</td>\n",
              "      <td>-1.708000e+09</td>\n",
              "      <td>2.200000e+05</td>\n",
              "      <td>3.000000e+04</td>\n",
              "      <td>8.600000e+05</td>\n",
              "      <td>1.466000e+06</td>\n",
              "      <td>3.960000e+05</td>\n",
              "      <td>1.000000e+02</td>\n",
              "      <td>0.000344</td>\n",
              "      <td>2.000000e+04</td>\n",
              "    </tr>\n",
              "    <tr>\n",
              "      <th>25%</th>\n",
              "      <td>13.472500</td>\n",
              "      <td>2.952500e+06</td>\n",
              "      <td>2.974250e+07</td>\n",
              "      <td>1.155750e+07</td>\n",
              "      <td>9.596250e+07</td>\n",
              "      <td>1.366100e+07</td>\n",
              "      <td>2.251895e+08</td>\n",
              "      <td>2.920000e+04</td>\n",
              "      <td>0.059740</td>\n",
              "      <td>9.677500e+06</td>\n",
              "    </tr>\n",
              "    <tr>\n",
              "      <th>50%</th>\n",
              "      <td>24.135000</td>\n",
              "      <td>1.103000e+07</td>\n",
              "      <td>9.568500e+07</td>\n",
              "      <td>3.388500e+07</td>\n",
              "      <td>3.321600e+08</td>\n",
              "      <td>3.359450e+07</td>\n",
              "      <td>7.497825e+08</td>\n",
              "      <td>1.762500e+05</td>\n",
              "      <td>0.130037</td>\n",
              "      <td>4.090000e+07</td>\n",
              "    </tr>\n",
              "    <tr>\n",
              "      <th>75%</th>\n",
              "      <td>58.735000</td>\n",
              "      <td>3.565000e+07</td>\n",
              "      <td>3.993200e+08</td>\n",
              "      <td>1.248125e+08</td>\n",
              "      <td>1.283192e+09</td>\n",
              "      <td>7.421875e+07</td>\n",
              "      <td>3.551615e+09</td>\n",
              "      <td>5.876250e+05</td>\n",
              "      <td>0.219252</td>\n",
              "      <td>1.739175e+08</td>\n",
              "    </tr>\n",
              "    <tr>\n",
              "      <th>max</th>\n",
              "      <td>3294.620000</td>\n",
              "      <td>1.120200e+10</td>\n",
              "      <td>8.891200e+10</td>\n",
              "      <td>4.428100e+10</td>\n",
              "      <td>2.805220e+11</td>\n",
              "      <td>7.567653e+09</td>\n",
              "      <td>1.650242e+12</td>\n",
              "      <td>8.226770e+07</td>\n",
              "      <td>49.116211</td>\n",
              "      <td>7.512600e+10</td>\n",
              "    </tr>\n",
              "  </tbody>\n",
              "</table>\n",
              "</div>"
            ],
            "text/plain": [
              "              Last  Net Income(q)  ...  Sales_Ninc        Qrt_Yr\n",
              "count   514.000000   5.140000e+02  ...  514.000000  5.140000e+02\n",
              "mean     66.337831   1.083553e+08  ...    0.292959  5.146577e+08\n",
              "std     173.091656   6.725222e+08  ...    2.227602  3.812208e+09\n",
              "min       0.165000  -1.708000e+09  ...    0.000344  2.000000e+04\n",
              "25%      13.472500   2.952500e+06  ...    0.059740  9.677500e+06\n",
              "50%      24.135000   1.103000e+07  ...    0.130037  4.090000e+07\n",
              "75%      58.735000   3.565000e+07  ...    0.219252  1.739175e+08\n",
              "max    3294.620000   1.120200e+10  ...   49.116211  7.512600e+10\n",
              "\n",
              "[8 rows x 10 columns]"
            ]
          },
          "metadata": {
            "tags": []
          },
          "execution_count": 86
        }
      ]
    },
    {
      "cell_type": "code",
      "metadata": {
        "id": "BqV41BEWcq68",
        "colab_type": "code",
        "colab": {}
      },
      "source": [
        "Liny = list(range(0,366))"
      ],
      "execution_count": 87,
      "outputs": []
    },
    {
      "cell_type": "code",
      "metadata": {
        "id": "lkPjFNAHdD5f",
        "colab_type": "code",
        "colab": {}
      },
      "source": [
        "Linq = list(range(0,514))"
      ],
      "execution_count": 88,
      "outputs": []
    },
    {
      "cell_type": "code",
      "metadata": {
        "id": "1fxLWvUfdHSo",
        "colab_type": "code",
        "colab": {}
      },
      "source": [
        "def nqval(i): \n",
        "  Q = (Ndaq['Market Cap'][i] / Ndaq['Shares Out'][i]) - Ndaq['Last'][i]\n",
        "  return(Q)"
      ],
      "execution_count": 89,
      "outputs": []
    },
    {
      "cell_type": "code",
      "metadata": {
        "id": "vasoyqModw7y",
        "colab_type": "code",
        "colab": {}
      },
      "source": [
        "E = nqval(Linq)"
      ],
      "execution_count": 90,
      "outputs": []
    },
    {
      "cell_type": "code",
      "metadata": {
        "id": "MyLFvRhXd1xk",
        "colab_type": "code",
        "colab": {}
      },
      "source": [
        "Ndaq['Curr_Value']=(E)"
      ],
      "execution_count": 91,
      "outputs": []
    },
    {
      "cell_type": "code",
      "metadata": {
        "id": "NBKGZv0sd7Eu",
        "colab_type": "code",
        "colab": {
          "base_uri": "https://localhost:8080/",
          "height": 282
        },
        "outputId": "248a6f78-8354-46d2-bbba-66b005d5898a"
      },
      "source": [
        "Ndaq.describe()"
      ],
      "execution_count": 92,
      "outputs": [
        {
          "output_type": "execute_result",
          "data": {
            "text/html": [
              "<div>\n",
              "<style scoped>\n",
              "    .dataframe tbody tr th:only-of-type {\n",
              "        vertical-align: middle;\n",
              "    }\n",
              "\n",
              "    .dataframe tbody tr th {\n",
              "        vertical-align: top;\n",
              "    }\n",
              "\n",
              "    .dataframe thead th {\n",
              "        text-align: right;\n",
              "    }\n",
              "</style>\n",
              "<table border=\"1\" class=\"dataframe\">\n",
              "  <thead>\n",
              "    <tr style=\"text-align: right;\">\n",
              "      <th></th>\n",
              "      <th>Last</th>\n",
              "      <th>Net Income(q)</th>\n",
              "      <th>Sales(q)</th>\n",
              "      <th>Net Income(a)</th>\n",
              "      <th>Sales(a)</th>\n",
              "      <th>Shares Out</th>\n",
              "      <th>Market Cap</th>\n",
              "      <th>Volume</th>\n",
              "      <th>Sales_Ninc</th>\n",
              "      <th>Qrt_Yr</th>\n",
              "      <th>Curr_Value</th>\n",
              "    </tr>\n",
              "  </thead>\n",
              "  <tbody>\n",
              "    <tr>\n",
              "      <th>count</th>\n",
              "      <td>514.000000</td>\n",
              "      <td>5.140000e+02</td>\n",
              "      <td>5.140000e+02</td>\n",
              "      <td>5.140000e+02</td>\n",
              "      <td>5.140000e+02</td>\n",
              "      <td>5.140000e+02</td>\n",
              "      <td>5.140000e+02</td>\n",
              "      <td>5.140000e+02</td>\n",
              "      <td>514.000000</td>\n",
              "      <td>5.140000e+02</td>\n",
              "      <td>514.000000</td>\n",
              "    </tr>\n",
              "    <tr>\n",
              "      <th>mean</th>\n",
              "      <td>66.337831</td>\n",
              "      <td>1.083553e+08</td>\n",
              "      <td>9.156540e+08</td>\n",
              "      <td>4.176726e+08</td>\n",
              "      <td>3.147958e+09</td>\n",
              "      <td>1.165455e+08</td>\n",
              "      <td>1.671470e+10</td>\n",
              "      <td>1.298800e+06</td>\n",
              "      <td>0.292959</td>\n",
              "      <td>5.146577e+08</td>\n",
              "      <td>0.000127</td>\n",
              "    </tr>\n",
              "    <tr>\n",
              "      <th>std</th>\n",
              "      <td>173.091656</td>\n",
              "      <td>6.725222e+08</td>\n",
              "      <td>4.968788e+09</td>\n",
              "      <td>2.438534e+09</td>\n",
              "      <td>1.658266e+10</td>\n",
              "      <td>4.337070e+08</td>\n",
              "      <td>1.113151e+11</td>\n",
              "      <td>5.730535e+06</td>\n",
              "      <td>2.227602</td>\n",
              "      <td>3.812208e+09</td>\n",
              "      <td>0.002072</td>\n",
              "    </tr>\n",
              "    <tr>\n",
              "      <th>min</th>\n",
              "      <td>0.165000</td>\n",
              "      <td>-1.708000e+09</td>\n",
              "      <td>2.200000e+05</td>\n",
              "      <td>3.000000e+04</td>\n",
              "      <td>8.600000e+05</td>\n",
              "      <td>1.466000e+06</td>\n",
              "      <td>3.960000e+05</td>\n",
              "      <td>1.000000e+02</td>\n",
              "      <td>0.000344</td>\n",
              "      <td>2.000000e+04</td>\n",
              "      <td>-0.008797</td>\n",
              "    </tr>\n",
              "    <tr>\n",
              "      <th>25%</th>\n",
              "      <td>13.472500</td>\n",
              "      <td>2.952500e+06</td>\n",
              "      <td>2.974250e+07</td>\n",
              "      <td>1.155750e+07</td>\n",
              "      <td>9.596250e+07</td>\n",
              "      <td>1.366100e+07</td>\n",
              "      <td>2.251895e+08</td>\n",
              "      <td>2.920000e+04</td>\n",
              "      <td>0.059740</td>\n",
              "      <td>9.677500e+06</td>\n",
              "      <td>-0.000010</td>\n",
              "    </tr>\n",
              "    <tr>\n",
              "      <th>50%</th>\n",
              "      <td>24.135000</td>\n",
              "      <td>1.103000e+07</td>\n",
              "      <td>9.568500e+07</td>\n",
              "      <td>3.388500e+07</td>\n",
              "      <td>3.321600e+08</td>\n",
              "      <td>3.359450e+07</td>\n",
              "      <td>7.497825e+08</td>\n",
              "      <td>1.762500e+05</td>\n",
              "      <td>0.130037</td>\n",
              "      <td>4.090000e+07</td>\n",
              "      <td>0.000000</td>\n",
              "    </tr>\n",
              "    <tr>\n",
              "      <th>75%</th>\n",
              "      <td>58.735000</td>\n",
              "      <td>3.565000e+07</td>\n",
              "      <td>3.993200e+08</td>\n",
              "      <td>1.248125e+08</td>\n",
              "      <td>1.283192e+09</td>\n",
              "      <td>7.421875e+07</td>\n",
              "      <td>3.551615e+09</td>\n",
              "      <td>5.876250e+05</td>\n",
              "      <td>0.219252</td>\n",
              "      <td>1.739175e+08</td>\n",
              "      <td>0.000007</td>\n",
              "    </tr>\n",
              "    <tr>\n",
              "      <th>max</th>\n",
              "      <td>3294.620000</td>\n",
              "      <td>1.120200e+10</td>\n",
              "      <td>8.891200e+10</td>\n",
              "      <td>4.428100e+10</td>\n",
              "      <td>2.805220e+11</td>\n",
              "      <td>7.567653e+09</td>\n",
              "      <td>1.650242e+12</td>\n",
              "      <td>8.226770e+07</td>\n",
              "      <td>49.116211</td>\n",
              "      <td>7.512600e+10</td>\n",
              "      <td>0.028753</td>\n",
              "    </tr>\n",
              "  </tbody>\n",
              "</table>\n",
              "</div>"
            ],
            "text/plain": [
              "              Last  Net Income(q)  ...        Qrt_Yr  Curr_Value\n",
              "count   514.000000   5.140000e+02  ...  5.140000e+02  514.000000\n",
              "mean     66.337831   1.083553e+08  ...  5.146577e+08    0.000127\n",
              "std     173.091656   6.725222e+08  ...  3.812208e+09    0.002072\n",
              "min       0.165000  -1.708000e+09  ...  2.000000e+04   -0.008797\n",
              "25%      13.472500   2.952500e+06  ...  9.677500e+06   -0.000010\n",
              "50%      24.135000   1.103000e+07  ...  4.090000e+07    0.000000\n",
              "75%      58.735000   3.565000e+07  ...  1.739175e+08    0.000007\n",
              "max    3294.620000   1.120200e+10  ...  7.512600e+10    0.028753\n",
              "\n",
              "[8 rows x 11 columns]"
            ]
          },
          "metadata": {
            "tags": []
          },
          "execution_count": 92
        }
      ]
    },
    {
      "cell_type": "code",
      "metadata": {
        "id": "w_sV7zbvd9Ie",
        "colab_type": "code",
        "colab": {
          "base_uri": "https://localhost:8080/",
          "height": 488
        },
        "outputId": "f632de79-47c5-4dce-be40-cc98724fb1ab"
      },
      "source": [
        "Ndaq.head()"
      ],
      "execution_count": 93,
      "outputs": [
        {
          "output_type": "execute_result",
          "data": {
            "text/html": [
              "<div>\n",
              "<style scoped>\n",
              "    .dataframe tbody tr th:only-of-type {\n",
              "        vertical-align: middle;\n",
              "    }\n",
              "\n",
              "    .dataframe tbody tr th {\n",
              "        vertical-align: top;\n",
              "    }\n",
              "\n",
              "    .dataframe thead th {\n",
              "        text-align: right;\n",
              "    }\n",
              "</style>\n",
              "<table border=\"1\" class=\"dataframe\">\n",
              "  <thead>\n",
              "    <tr style=\"text-align: right;\">\n",
              "      <th></th>\n",
              "      <th>Symbol</th>\n",
              "      <th>Name</th>\n",
              "      <th>Exchange</th>\n",
              "      <th>Industry</th>\n",
              "      <th>Last</th>\n",
              "      <th>Net Income(q)</th>\n",
              "      <th>Sales(q)</th>\n",
              "      <th>Net Income(a)</th>\n",
              "      <th>Sales(a)</th>\n",
              "      <th>Shares Out</th>\n",
              "      <th>Market Cap</th>\n",
              "      <th>Volume</th>\n",
              "      <th>Sales_Ninc</th>\n",
              "      <th>Qrt_Yr</th>\n",
              "      <th>SIC Description</th>\n",
              "      <th>Time</th>\n",
              "      <th>Curr_Value</th>\n",
              "    </tr>\n",
              "  </thead>\n",
              "  <tbody>\n",
              "    <tr>\n",
              "      <th>0</th>\n",
              "      <td>CRON</td>\n",
              "      <td>Cronos Group Inc</td>\n",
              "      <td>NASDAQ</td>\n",
              "      <td>Medical - Drugs</td>\n",
              "      <td>5.39</td>\n",
              "      <td>-106980000</td>\n",
              "      <td>9880000</td>\n",
              "      <td>1166510000</td>\n",
              "      <td>23750000</td>\n",
              "      <td>349886000</td>\n",
              "      <td>1885886000</td>\n",
              "      <td>3165600</td>\n",
              "      <td>49.116211</td>\n",
              "      <td>15770000</td>\n",
              "      <td>SIC-2833 Medicinal Chemicals &amp; Botanical Products</td>\n",
              "      <td>9/4/2020</td>\n",
              "      <td>0.000001</td>\n",
              "    </tr>\n",
              "    <tr>\n",
              "      <th>1</th>\n",
              "      <td>LBRDA</td>\n",
              "      <td>Liberty Broadbd A</td>\n",
              "      <td>NASDAQ</td>\n",
              "      <td>Cable TV</td>\n",
              "      <td>135.38</td>\n",
              "      <td>72210000</td>\n",
              "      <td>4110000</td>\n",
              "      <td>117220000</td>\n",
              "      <td>14860000</td>\n",
              "      <td>181930000</td>\n",
              "      <td>24629682000</td>\n",
              "      <td>127400</td>\n",
              "      <td>7.888291</td>\n",
              "      <td>1580000</td>\n",
              "      <td>SIC-4841 Cable &amp; Other Pay Television Services</td>\n",
              "      <td>9/4/2020</td>\n",
              "      <td>-0.000008</td>\n",
              "    </tr>\n",
              "    <tr>\n",
              "      <th>2</th>\n",
              "      <td>LBRDK</td>\n",
              "      <td>Liberty Broadbd C</td>\n",
              "      <td>NASDAQ</td>\n",
              "      <td>Cable TV</td>\n",
              "      <td>136.80</td>\n",
              "      <td>72210000</td>\n",
              "      <td>4110000</td>\n",
              "      <td>117220000</td>\n",
              "      <td>14860000</td>\n",
              "      <td>181930000</td>\n",
              "      <td>24888022000</td>\n",
              "      <td>868800</td>\n",
              "      <td>7.888291</td>\n",
              "      <td>1580000</td>\n",
              "      <td>SIC-4841 Cable &amp; Other Pay Television Services</td>\n",
              "      <td>9/4/2020</td>\n",
              "      <td>-0.000011</td>\n",
              "    </tr>\n",
              "    <tr>\n",
              "      <th>3</th>\n",
              "      <td>LGND</td>\n",
              "      <td>Ligand Pharm</td>\n",
              "      <td>NASDAQ</td>\n",
              "      <td>Medical - Biomedical</td>\n",
              "      <td>99.07</td>\n",
              "      <td>22090000</td>\n",
              "      <td>41420000</td>\n",
              "      <td>629300000</td>\n",
              "      <td>120280000</td>\n",
              "      <td>16078000</td>\n",
              "      <td>1592846000</td>\n",
              "      <td>288400</td>\n",
              "      <td>5.231959</td>\n",
              "      <td>45400000</td>\n",
              "      <td>SIC-2834 Pharmaceutical Preparations</td>\n",
              "      <td>9/4/2020</td>\n",
              "      <td>-0.000091</td>\n",
              "    </tr>\n",
              "    <tr>\n",
              "      <th>4</th>\n",
              "      <td>GLIBA</td>\n",
              "      <td>Gci Liberty Inc Cl A</td>\n",
              "      <td>NASDAQ</td>\n",
              "      <td>Wireless National</td>\n",
              "      <td>78.76</td>\n",
              "      <td>610650000</td>\n",
              "      <td>224820000</td>\n",
              "      <td>1938700000</td>\n",
              "      <td>894730000</td>\n",
              "      <td>105814000</td>\n",
              "      <td>8333911000</td>\n",
              "      <td>333800</td>\n",
              "      <td>2.166799</td>\n",
              "      <td>4550000</td>\n",
              "      <td>SIC-4813 Telephone Communications (No Radiotel...</td>\n",
              "      <td>9/4/2020</td>\n",
              "      <td>0.000003</td>\n",
              "    </tr>\n",
              "  </tbody>\n",
              "</table>\n",
              "</div>"
            ],
            "text/plain": [
              "  Symbol                  Name  ...      Time Curr_Value\n",
              "0   CRON      Cronos Group Inc  ...  9/4/2020   0.000001\n",
              "1  LBRDA     Liberty Broadbd A  ...  9/4/2020  -0.000008\n",
              "2  LBRDK     Liberty Broadbd C  ...  9/4/2020  -0.000011\n",
              "3   LGND          Ligand Pharm  ...  9/4/2020  -0.000091\n",
              "4  GLIBA  Gci Liberty Inc Cl A  ...  9/4/2020   0.000003\n",
              "\n",
              "[5 rows x 17 columns]"
            ]
          },
          "metadata": {
            "tags": []
          },
          "execution_count": 93
        }
      ]
    },
    {
      "cell_type": "code",
      "metadata": {
        "id": "mFpgGbS1eQxw",
        "colab_type": "code",
        "colab": {}
      },
      "source": [
        "Gval = Ndaq.loc[(Ndaq['Curr_Value'])>0]"
      ],
      "execution_count": 94,
      "outputs": []
    },
    {
      "cell_type": "code",
      "metadata": {
        "id": "9xZSrP08ehju",
        "colab_type": "code",
        "colab": {
          "base_uri": "https://localhost:8080/",
          "height": 34
        },
        "outputId": "af795719-9183-4769-da92-022b442a968c"
      },
      "source": [
        "len(Gval)"
      ],
      "execution_count": 95,
      "outputs": [
        {
          "output_type": "execute_result",
          "data": {
            "text/plain": [
              "233"
            ]
          },
          "metadata": {
            "tags": []
          },
          "execution_count": 95
        }
      ]
    },
    {
      "cell_type": "code",
      "metadata": {
        "id": "vCJJObskeixG",
        "colab_type": "code",
        "colab": {}
      },
      "source": [
        "Gval.to_csv('Nasdaq_To_Look.csv', index=False)"
      ],
      "execution_count": 96,
      "outputs": []
    },
    {
      "cell_type": "code",
      "metadata": {
        "id": "PJAlL5ileqfy",
        "colab_type": "code",
        "colab": {}
      },
      "source": [
        ""
      ],
      "execution_count": null,
      "outputs": []
    }
  ]
}