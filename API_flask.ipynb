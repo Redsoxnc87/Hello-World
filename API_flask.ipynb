{
  "nbformat": 4,
  "nbformat_minor": 0,
  "metadata": {
    "colab": {
      "name": "API_flask.ipynb",
      "provenance": [],
      "authorship_tag": "ABX9TyPf8uTmYquIlhTgbV42h9Ii",
      "include_colab_link": true
    },
    "kernelspec": {
      "name": "python3",
      "display_name": "Python 3"
    }
  },
  "cells": [
    {
      "cell_type": "markdown",
      "metadata": {
        "id": "view-in-github",
        "colab_type": "text"
      },
      "source": [
        "<a href=\"https://colab.research.google.com/github/Redsoxnc87/Hello-World/blob/master/API_flask.ipynb\" target=\"_parent\"><img src=\"https://colab.research.google.com/assets/colab-badge.svg\" alt=\"Open In Colab\"/></a>"
      ]
    },
    {
      "cell_type": "code",
      "metadata": {
        "id": "FGPmU4tYMN0J"
      },
      "source": [
        "import pandas as pd \r\n",
        "import numpy as pd \r\n",
        "import operator"
      ],
      "execution_count": 1,
      "outputs": []
    },
    {
      "cell_type": "code",
      "metadata": {
        "id": "RBbb-iWeMWL8"
      },
      "source": [
        "import flask\r\n",
        "import sqlite3\r\n"
      ],
      "execution_count": 2,
      "outputs": []
    },
    {
      "cell_type": "code",
      "metadata": {
        "colab": {
          "base_uri": "https://localhost:8080/"
        },
        "id": "k4JnJ30bMdzA",
        "outputId": "746211ca-32ed-4619-ebed-94a4e0cce53a"
      },
      "source": [
        "!pip install Jsonify"
      ],
      "execution_count": 3,
      "outputs": [
        {
          "output_type": "stream",
          "text": [
            "Collecting Jsonify\n",
            "  Downloading https://files.pythonhosted.org/packages/63/5d/44962520aa458852bbd40ac5553dd1431f6367ab31f39ee7650b57136d9a/jsonify-0.5.tar.gz\n",
            "Building wheels for collected packages: Jsonify\n",
            "  Building wheel for Jsonify (setup.py) ... \u001b[?25l\u001b[?25hdone\n",
            "  Created wheel for Jsonify: filename=jsonify-0.5-cp36-none-any.whl size=1564 sha256=35a6afb748d9d7da9acc955408fd4346b5c951b0e2a438419cf8809cf2d8a884\n",
            "  Stored in directory: /root/.cache/pip/wheels/ba/51/8a/136c19b604769b6cb4946fc3402a7068d86fe1f43f8824e2bf\n",
            "Successfully built Jsonify\n",
            "Installing collected packages: Jsonify\n",
            "Successfully installed Jsonify-0.5\n"
          ],
          "name": "stdout"
        }
      ]
    },
    {
      "cell_type": "code",
      "metadata": {
        "id": "25h4Q9ADMhWl"
      },
      "source": [
        "import jsonify"
      ],
      "execution_count": 4,
      "outputs": []
    },
    {
      "cell_type": "code",
      "metadata": {
        "colab": {
          "base_uri": "https://localhost:8080/"
        },
        "id": "cBYzZ3e2MlZt",
        "outputId": "24ec5ef3-a42f-4825-9092-8f4c2b5fc803"
      },
      "source": [
        "!pip install Flask-SQLAlchemy"
      ],
      "execution_count": 5,
      "outputs": [
        {
          "output_type": "stream",
          "text": [
            "Collecting Flask-SQLAlchemy\n",
            "  Downloading https://files.pythonhosted.org/packages/af/4b/3dd83c3e2c6e3034b804d971952e0120606506f153990cc56d2d33173b72/Flask_SQLAlchemy-2.4.4-py2.py3-none-any.whl\n",
            "Requirement already satisfied: Flask>=0.10 in /usr/local/lib/python3.6/dist-packages (from Flask-SQLAlchemy) (1.1.2)\n",
            "Requirement already satisfied: SQLAlchemy>=0.8.0 in /usr/local/lib/python3.6/dist-packages (from Flask-SQLAlchemy) (1.3.23)\n",
            "Requirement already satisfied: Jinja2>=2.10.1 in /usr/local/lib/python3.6/dist-packages (from Flask>=0.10->Flask-SQLAlchemy) (2.11.3)\n",
            "Requirement already satisfied: itsdangerous>=0.24 in /usr/local/lib/python3.6/dist-packages (from Flask>=0.10->Flask-SQLAlchemy) (1.1.0)\n",
            "Requirement already satisfied: Werkzeug>=0.15 in /usr/local/lib/python3.6/dist-packages (from Flask>=0.10->Flask-SQLAlchemy) (1.0.1)\n",
            "Requirement already satisfied: click>=5.1 in /usr/local/lib/python3.6/dist-packages (from Flask>=0.10->Flask-SQLAlchemy) (7.1.2)\n",
            "Requirement already satisfied: MarkupSafe>=0.23 in /usr/local/lib/python3.6/dist-packages (from Jinja2>=2.10.1->Flask>=0.10->Flask-SQLAlchemy) (1.1.1)\n",
            "Installing collected packages: Flask-SQLAlchemy\n",
            "Successfully installed Flask-SQLAlchemy-2.4.4\n"
          ],
          "name": "stdout"
        }
      ]
    },
    {
      "cell_type": "code",
      "metadata": {
        "id": "pvns8GosMwm-"
      },
      "source": [
        "import flask_sqlalchemy as fsql"
      ],
      "execution_count": 6,
      "outputs": []
    },
    {
      "cell_type": "code",
      "metadata": {
        "colab": {
          "base_uri": "https://localhost:8080/"
        },
        "id": "usmKTr4WM26e",
        "outputId": "bcdc7e3d-15f3-4de6-e08b-2d847f9e8612"
      },
      "source": [
        "!pip install Flask-Restful"
      ],
      "execution_count": 7,
      "outputs": [
        {
          "output_type": "stream",
          "text": [
            "Collecting Flask-Restful\n",
            "  Downloading https://files.pythonhosted.org/packages/e9/83/d0d33c971de2d38e54b0037136c8b8d20b9c83d308bc6c220a25162755fd/Flask_RESTful-0.3.8-py2.py3-none-any.whl\n",
            "Collecting aniso8601>=0.82\n",
            "\u001b[?25l  Downloading https://files.pythonhosted.org/packages/2c/09/c26ecac7a5e187db69380e66cbad27f8d53ae98b3d5188af08fdd5e34d9f/aniso8601-8.1.1-py2.py3-none-any.whl (44kB)\n",
            "\r\u001b[K     |███████▎                        | 10kB 19.3MB/s eta 0:00:01\r\u001b[K     |██████████████▋                 | 20kB 24.5MB/s eta 0:00:01\r\u001b[K     |██████████████████████          | 30kB 18.3MB/s eta 0:00:01\r\u001b[K     |█████████████████████████████▏  | 40kB 16.7MB/s eta 0:00:01\r\u001b[K     |████████████████████████████████| 51kB 6.4MB/s \n",
            "\u001b[?25hRequirement already satisfied: pytz in /usr/local/lib/python3.6/dist-packages (from Flask-Restful) (2018.9)\n",
            "Requirement already satisfied: six>=1.3.0 in /usr/local/lib/python3.6/dist-packages (from Flask-Restful) (1.15.0)\n",
            "Requirement already satisfied: Flask>=0.8 in /usr/local/lib/python3.6/dist-packages (from Flask-Restful) (1.1.2)\n",
            "Requirement already satisfied: Werkzeug>=0.15 in /usr/local/lib/python3.6/dist-packages (from Flask>=0.8->Flask-Restful) (1.0.1)\n",
            "Requirement already satisfied: Jinja2>=2.10.1 in /usr/local/lib/python3.6/dist-packages (from Flask>=0.8->Flask-Restful) (2.11.3)\n",
            "Requirement already satisfied: itsdangerous>=0.24 in /usr/local/lib/python3.6/dist-packages (from Flask>=0.8->Flask-Restful) (1.1.0)\n",
            "Requirement already satisfied: click>=5.1 in /usr/local/lib/python3.6/dist-packages (from Flask>=0.8->Flask-Restful) (7.1.2)\n",
            "Requirement already satisfied: MarkupSafe>=0.23 in /usr/local/lib/python3.6/dist-packages (from Jinja2>=2.10.1->Flask>=0.8->Flask-Restful) (1.1.1)\n",
            "Installing collected packages: aniso8601, Flask-Restful\n",
            "Successfully installed Flask-Restful-0.3.8 aniso8601-8.1.1\n"
          ],
          "name": "stdout"
        }
      ]
    },
    {
      "cell_type": "code",
      "metadata": {
        "id": "9iBJkaEaM6R9"
      },
      "source": [
        "import flask_restful as frest"
      ],
      "execution_count": 8,
      "outputs": []
    },
    {
      "cell_type": "code",
      "metadata": {
        "id": "QXfFrQa6M-8x"
      },
      "source": [
        "from flask import Flask, request\r\n",
        "from flask_restful import Resource, Api\r\n",
        "from sqlalchemy import create_engine\r\n",
        "from json import dumps\r\n"
      ],
      "execution_count": 10,
      "outputs": []
    },
    {
      "cell_type": "code",
      "metadata": {
        "id": "eKY6tnUnNmYS"
      },
      "source": [
        "from flask_restful import reqparse\r\n",
        "import ast"
      ],
      "execution_count": 11,
      "outputs": []
    },
    {
      "cell_type": "code",
      "metadata": {
        "id": "QNnJG75_OuKP"
      },
      "source": [
        "app = Flask(__name__)\r\n",
        "api = Api(app)"
      ],
      "execution_count": 12,
      "outputs": []
    },
    {
      "cell_type": "code",
      "metadata": {
        "id": "jPmqPvT1O431"
      },
      "source": [
        "class Users(Resource):\r\n",
        "    # methods go here\r\n",
        "    pass\r\n",
        "    \r\n",
        "class Locations(Resource):\r\n",
        "    # methods go here\r\n",
        "    pass\r\n",
        "    \r\n",
        "api.add_resource(Users, '/users')  # '/users' is our entry point for Users\r\n",
        "api.add_resource(Locations, '/locations')  # and '/locations' is our entry point for Locations"
      ],
      "execution_count": 13,
      "outputs": []
    },
    {
      "cell_type": "code",
      "metadata": {
        "colab": {
          "base_uri": "https://localhost:8080/"
        },
        "id": "WsetlyxSPfmE",
        "outputId": "7fc90a20-4e3c-4e3d-fb1b-669d3f47f89d"
      },
      "source": [
        "if __name__ == '__main__':\r\n",
        "  app.run()"
      ],
      "execution_count": null,
      "outputs": [
        {
          "output_type": "stream",
          "text": [
            " * Serving Flask app \"__main__\" (lazy loading)\n",
            " * Environment: production\n",
            "\u001b[31m   WARNING: This is a development server. Do not use it in a production deployment.\u001b[0m\n",
            "\u001b[2m   Use a production WSGI server instead.\u001b[0m\n",
            " * Debug mode: off\n"
          ],
          "name": "stdout"
        },
        {
          "output_type": "stream",
          "text": [
            " * Running on http://127.0.0.1:5000/ (Press CTRL+C to quit)\n"
          ],
          "name": "stderr"
        }
      ]
    },
    {
      "cell_type": "code",
      "metadata": {
        "id": "u36LWlj1PsPr"
      },
      "source": [
        ""
      ],
      "execution_count": null,
      "outputs": []
    }
  ]
}