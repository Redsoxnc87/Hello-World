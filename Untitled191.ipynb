{
  "nbformat": 4,
  "nbformat_minor": 0,
  "metadata": {
    "colab": {
      "name": "Untitled191.ipynb",
      "provenance": [],
      "collapsed_sections": [],
      "authorship_tag": "ABX9TyON2+99lLVIDnbkxgpHp/S7",
      "include_colab_link": true
    },
    "kernelspec": {
      "name": "python3",
      "display_name": "Python 3"
    }
  },
  "cells": [
    {
      "cell_type": "markdown",
      "metadata": {
        "id": "view-in-github",
        "colab_type": "text"
      },
      "source": [
        "<a href=\"https://colab.research.google.com/github/Redsoxnc87/Hello-World/blob/master/Untitled191.ipynb\" target=\"_parent\"><img src=\"https://colab.research.google.com/assets/colab-badge.svg\" alt=\"Open In Colab\"/></a>"
      ]
    },
    {
      "cell_type": "code",
      "metadata": {
        "id": "URETpashMuBq",
        "colab_type": "code",
        "colab": {}
      },
      "source": [
        "import pandas as pd\n",
        "import numpy as np \n",
        "import scipy.stats \n",
        "import math \n",
        "import os \n",
        "import sys \n",
        "import requests "
      ],
      "execution_count": 5,
      "outputs": []
    },
    {
      "cell_type": "code",
      "metadata": {
        "id": "aUpgQ-W5M85K",
        "colab_type": "code",
        "colab": {}
      },
      "source": [
        "from pandas import Series, DataFrame\n",
        "import matplotlib.pyplot as plt\n",
        "import pandas.plotting\n",
        "import operator\n",
        "import matplotlib.dates as mdates"
      ],
      "execution_count": 6,
      "outputs": []
    },
    {
      "cell_type": "code",
      "metadata": {
        "id": "Mcbgcjt6NTit",
        "colab_type": "code",
        "colab": {}
      },
      "source": [
        "pos5 = pd.read_csv('5-day-all-us-exchanges-percent-change-Positive.csv')\n",
        "neg5 = pd.read_csv('5-day-all-us-exchanges-percent-change-declines.csv')"
      ],
      "execution_count": 7,
      "outputs": []
    },
    {
      "cell_type": "code",
      "metadata": {
        "id": "ONa7IsxjPDKU",
        "colab_type": "code",
        "colab": {}
      },
      "source": [
        "pos3mon = pd.read_csv('3-month-all-us-exchanges-percent-change-advances-09-05-2020.csv')\n",
        "neg3mon = pd.read_csv('3-month-all-us-exchanges-percent-change-declines-09-05-2020.csv')"
      ],
      "execution_count": 8,
      "outputs": []
    },
    {
      "cell_type": "code",
      "metadata": {
        "id": "y2aA0gClP4VE",
        "colab_type": "code",
        "colab": {
          "base_uri": "https://localhost:8080/",
          "height": 197
        },
        "outputId": "c71933fa-2937-4048-faac-f08fa7e4788f"
      },
      "source": [
        "pos5.head()"
      ],
      "execution_count": 9,
      "outputs": [
        {
          "output_type": "execute_result",
          "data": {
            "text/html": [
              "<div>\n",
              "<style scoped>\n",
              "    .dataframe tbody tr th:only-of-type {\n",
              "        vertical-align: middle;\n",
              "    }\n",
              "\n",
              "    .dataframe tbody tr th {\n",
              "        vertical-align: top;\n",
              "    }\n",
              "\n",
              "    .dataframe thead th {\n",
              "        text-align: right;\n",
              "    }\n",
              "</style>\n",
              "<table border=\"1\" class=\"dataframe\">\n",
              "  <thead>\n",
              "    <tr style=\"text-align: right;\">\n",
              "      <th></th>\n",
              "      <th>Symbol</th>\n",
              "      <th>Name</th>\n",
              "      <th>5D %Chg</th>\n",
              "      <th>Last</th>\n",
              "      <th>Change</th>\n",
              "      <th>%Chg</th>\n",
              "      <th>5D Chg</th>\n",
              "      <th>5D High</th>\n",
              "      <th>5D Low</th>\n",
              "      <th>5D Avg Vol</th>\n",
              "      <th>Time</th>\n",
              "    </tr>\n",
              "  </thead>\n",
              "  <tbody>\n",
              "    <tr>\n",
              "      <th>0</th>\n",
              "      <td>AIMT</td>\n",
              "      <td>Aimmune Therap</td>\n",
              "      <td>1.716</td>\n",
              "      <td>34.22</td>\n",
              "      <td>-0.01</td>\n",
              "      <td>0.000</td>\n",
              "      <td>21.62</td>\n",
              "      <td>34.28</td>\n",
              "      <td>34.14</td>\n",
              "      <td>13061580.0</td>\n",
              "      <td>9/4/2020</td>\n",
              "    </tr>\n",
              "    <tr>\n",
              "      <th>1</th>\n",
              "      <td>GOGO</td>\n",
              "      <td>Gogo Inc</td>\n",
              "      <td>1.008</td>\n",
              "      <td>10.04</td>\n",
              "      <td>0.40</td>\n",
              "      <td>0.042</td>\n",
              "      <td>5.04</td>\n",
              "      <td>10.68</td>\n",
              "      <td>4.86</td>\n",
              "      <td>42547539.0</td>\n",
              "      <td>9/4/2020</td>\n",
              "    </tr>\n",
              "    <tr>\n",
              "      <th>2</th>\n",
              "      <td>TCON</td>\n",
              "      <td>Tracon Pharma</td>\n",
              "      <td>0.713</td>\n",
              "      <td>3.10</td>\n",
              "      <td>0.27</td>\n",
              "      <td>0.095</td>\n",
              "      <td>1.29</td>\n",
              "      <td>3.29</td>\n",
              "      <td>1.72</td>\n",
              "      <td>4873780.0</td>\n",
              "      <td>9/4/2020</td>\n",
              "    </tr>\n",
              "    <tr>\n",
              "      <th>3</th>\n",
              "      <td>AKCA</td>\n",
              "      <td>Akcea Therapeutics Inc</td>\n",
              "      <td>0.596</td>\n",
              "      <td>18.16</td>\n",
              "      <td>0.02</td>\n",
              "      <td>0.001</td>\n",
              "      <td>6.78</td>\n",
              "      <td>19.65</td>\n",
              "      <td>18.12</td>\n",
              "      <td>2444480.0</td>\n",
              "      <td>9/4/2020</td>\n",
              "    </tr>\n",
              "    <tr>\n",
              "      <th>4</th>\n",
              "      <td>CORT</td>\n",
              "      <td>Corcept Therapeutics</td>\n",
              "      <td>0.585</td>\n",
              "      <td>19.98</td>\n",
              "      <td>0.90</td>\n",
              "      <td>0.047</td>\n",
              "      <td>7.37</td>\n",
              "      <td>23.48</td>\n",
              "      <td>12.45</td>\n",
              "      <td>22133500.0</td>\n",
              "      <td>9/4/2020</td>\n",
              "    </tr>\n",
              "  </tbody>\n",
              "</table>\n",
              "</div>"
            ],
            "text/plain": [
              "  Symbol                    Name  5D %Chg  ...  5D Low  5D Avg Vol      Time\n",
              "0   AIMT          Aimmune Therap    1.716  ...   34.14  13061580.0  9/4/2020\n",
              "1   GOGO                Gogo Inc    1.008  ...    4.86  42547539.0  9/4/2020\n",
              "2   TCON           Tracon Pharma    0.713  ...    1.72   4873780.0  9/4/2020\n",
              "3   AKCA  Akcea Therapeutics Inc    0.596  ...   18.12   2444480.0  9/4/2020\n",
              "4   CORT    Corcept Therapeutics    0.585  ...   12.45  22133500.0  9/4/2020\n",
              "\n",
              "[5 rows x 11 columns]"
            ]
          },
          "metadata": {
            "tags": []
          },
          "execution_count": 9
        }
      ]
    },
    {
      "cell_type": "code",
      "metadata": {
        "id": "cvN836IsgBbR",
        "colab_type": "code",
        "colab": {}
      },
      "source": [
        "A = set(pos5.Symbol)"
      ],
      "execution_count": 11,
      "outputs": []
    },
    {
      "cell_type": "code",
      "metadata": {
        "id": "lhSY62XNgHOz",
        "colab_type": "code",
        "colab": {}
      },
      "source": [
        "B = set(pos3mon.Symbol)"
      ],
      "execution_count": 13,
      "outputs": []
    },
    {
      "cell_type": "code",
      "metadata": {
        "id": "7OWzXbElgQ2N",
        "colab_type": "code",
        "colab": {}
      },
      "source": [
        "C = A.union(B)"
      ],
      "execution_count": 14,
      "outputs": []
    },
    {
      "cell_type": "code",
      "metadata": {
        "id": "1IseeW4KgfZF",
        "colab_type": "code",
        "colab": {
          "base_uri": "https://localhost:8080/",
          "height": 34
        },
        "outputId": "1dfd66cd-9244-4a9b-cd43-4b699bdc41d7"
      },
      "source": [
        "len(C)"
      ],
      "execution_count": 16,
      "outputs": [
        {
          "output_type": "execute_result",
          "data": {
            "text/plain": [
              "449"
            ]
          },
          "metadata": {
            "tags": []
          },
          "execution_count": 16
        }
      ]
    },
    {
      "cell_type": "code",
      "metadata": {
        "id": "a6i-yTfUggWP",
        "colab_type": "code",
        "colab": {}
      },
      "source": [
        "D = A.intersection(B)"
      ],
      "execution_count": 18,
      "outputs": []
    },
    {
      "cell_type": "code",
      "metadata": {
        "id": "kL6yw4MUglrS",
        "colab_type": "code",
        "colab": {
          "base_uri": "https://localhost:8080/",
          "height": 34
        },
        "outputId": "a91550fb-11d4-4adc-db40-9633790f38dc"
      },
      "source": [
        "len(D)"
      ],
      "execution_count": 19,
      "outputs": [
        {
          "output_type": "execute_result",
          "data": {
            "text/plain": [
              "53"
            ]
          },
          "metadata": {
            "tags": []
          },
          "execution_count": 19
        }
      ]
    },
    {
      "cell_type": "code",
      "metadata": {
        "id": "cDcqzRSYguXz",
        "colab_type": "code",
        "colab": {}
      },
      "source": [
        "E = set(neg5.Symbol)"
      ],
      "execution_count": 20,
      "outputs": []
    },
    {
      "cell_type": "code",
      "metadata": {
        "id": "sewMyPPPg7Vp",
        "colab_type": "code",
        "colab": {}
      },
      "source": [
        "F = set(neg3mon.Symbol)"
      ],
      "execution_count": 21,
      "outputs": []
    },
    {
      "cell_type": "code",
      "metadata": {
        "id": "vsw4nj-jg-ZB",
        "colab_type": "code",
        "colab": {}
      },
      "source": [
        "G = E.intersection(F)"
      ],
      "execution_count": 22,
      "outputs": []
    },
    {
      "cell_type": "code",
      "metadata": {
        "id": "ot3j8TxvhBgS",
        "colab_type": "code",
        "colab": {
          "base_uri": "https://localhost:8080/",
          "height": 34
        },
        "outputId": "c52cc9a8-f2ca-4d11-f95d-aae291a2dc88"
      },
      "source": [
        "len(G)"
      ],
      "execution_count": 23,
      "outputs": [
        {
          "output_type": "execute_result",
          "data": {
            "text/plain": [
              "57"
            ]
          },
          "metadata": {
            "tags": []
          },
          "execution_count": 23
        }
      ]
    },
    {
      "cell_type": "code",
      "metadata": {
        "id": "RaJ8kdjihCwJ",
        "colab_type": "code",
        "colab": {}
      },
      "source": [
        "AlpS =\"https://www.alphavantage.co/query?function=TIME_SERIES_DAILY&symbol=\""
      ],
      "execution_count": 24,
      "outputs": []
    },
    {
      "cell_type": "code",
      "metadata": {
        "id": "Pj4J5TFYiInY",
        "colab_type": "code",
        "colab": {}
      },
      "source": [
        "AlpE =\"&apikey=V3L36ZUP3KR9WP7N&datatype=csv\""
      ],
      "execution_count": 46,
      "outputs": []
    },
    {
      "cell_type": "code",
      "metadata": {
        "id": "7jkmjWFziQsP",
        "colab_type": "code",
        "colab": {}
      },
      "source": [
        "def best(i):\n",
        "  B = AlpS+i+AlpE\n",
        "  return(B)"
      ],
      "execution_count": 47,
      "outputs": []
    },
    {
      "cell_type": "code",
      "metadata": {
        "id": "HMmINqJqjbd0",
        "colab_type": "code",
        "colab": {
          "base_uri": "https://localhost:8080/",
          "height": 256
        },
        "outputId": "85120e19-e67c-4b47-b7b2-70f486243e1a"
      },
      "source": [
        "best(D)"
      ],
      "execution_count": 48,
      "outputs": [
        {
          "output_type": "error",
          "ename": "TypeError",
          "evalue": "ignored",
          "traceback": [
            "\u001b[0;31m---------------------------------------------------------------------------\u001b[0m",
            "\u001b[0;31mTypeError\u001b[0m                                 Traceback (most recent call last)",
            "\u001b[0;32m<ipython-input-48-390efab9cdbb>\u001b[0m in \u001b[0;36m<module>\u001b[0;34m()\u001b[0m\n\u001b[0;32m----> 1\u001b[0;31m \u001b[0mbest\u001b[0m\u001b[0;34m(\u001b[0m\u001b[0mD\u001b[0m\u001b[0;34m)\u001b[0m\u001b[0;34m\u001b[0m\u001b[0;34m\u001b[0m\u001b[0m\n\u001b[0m",
            "\u001b[0;32m<ipython-input-47-ef6f80f7180e>\u001b[0m in \u001b[0;36mbest\u001b[0;34m(i)\u001b[0m\n\u001b[1;32m      1\u001b[0m \u001b[0;32mdef\u001b[0m \u001b[0mbest\u001b[0m\u001b[0;34m(\u001b[0m\u001b[0mi\u001b[0m\u001b[0;34m)\u001b[0m\u001b[0;34m:\u001b[0m\u001b[0;34m\u001b[0m\u001b[0;34m\u001b[0m\u001b[0m\n\u001b[0;32m----> 2\u001b[0;31m   \u001b[0mB\u001b[0m \u001b[0;34m=\u001b[0m \u001b[0mAlpS\u001b[0m\u001b[0;34m+\u001b[0m\u001b[0mi\u001b[0m\u001b[0;34m+\u001b[0m\u001b[0mAlpE\u001b[0m\u001b[0;34m\u001b[0m\u001b[0;34m\u001b[0m\u001b[0m\n\u001b[0m\u001b[1;32m      3\u001b[0m   \u001b[0;32mreturn\u001b[0m\u001b[0;34m(\u001b[0m\u001b[0mB\u001b[0m\u001b[0;34m)\u001b[0m\u001b[0;34m\u001b[0m\u001b[0;34m\u001b[0m\u001b[0m\n",
            "\u001b[0;31mTypeError\u001b[0m: must be str, not set"
          ]
        }
      ]
    },
    {
      "cell_type": "code",
      "metadata": {
        "id": "jn8MBE3XjfOJ",
        "colab_type": "code",
        "colab": {
          "base_uri": "https://localhost:8080/",
          "height": 167
        },
        "outputId": "c76ac72b-9f29-42f8-e9d4-058cf9364209"
      },
      "source": [
        "K = AlpS+D+AlpE"
      ],
      "execution_count": 49,
      "outputs": [
        {
          "output_type": "error",
          "ename": "TypeError",
          "evalue": "ignored",
          "traceback": [
            "\u001b[0;31m---------------------------------------------------------------------------\u001b[0m",
            "\u001b[0;31mTypeError\u001b[0m                                 Traceback (most recent call last)",
            "\u001b[0;32m<ipython-input-49-a0ffe18e23e2>\u001b[0m in \u001b[0;36m<module>\u001b[0;34m()\u001b[0m\n\u001b[0;32m----> 1\u001b[0;31m \u001b[0mK\u001b[0m \u001b[0;34m=\u001b[0m \u001b[0mAlpS\u001b[0m\u001b[0;34m+\u001b[0m\u001b[0mD\u001b[0m\u001b[0;34m+\u001b[0m\u001b[0mAlpE\u001b[0m\u001b[0;34m\u001b[0m\u001b[0;34m\u001b[0m\u001b[0m\n\u001b[0m",
            "\u001b[0;31mTypeError\u001b[0m: must be str, not set"
          ]
        }
      ]
    },
    {
      "cell_type": "code",
      "metadata": {
        "id": "N_6vvxjOjrId",
        "colab_type": "code",
        "colab": {}
      },
      "source": [
        "Both_Pos = list(D)"
      ],
      "execution_count": 50,
      "outputs": []
    },
    {
      "cell_type": "code",
      "metadata": {
        "id": "lYcF69Lgj3nb",
        "colab_type": "code",
        "colab": {
          "base_uri": "https://localhost:8080/",
          "height": 35
        },
        "outputId": "48403fc9-7140-40ac-e4b9-d82bb604661b"
      },
      "source": [
        "Both_Pos[1]"
      ],
      "execution_count": 51,
      "outputs": [
        {
          "output_type": "execute_result",
          "data": {
            "application/vnd.google.colaboratory.intrinsic+json": {
              "type": "string"
            },
            "text/plain": [
              "'PRTH'"
            ]
          },
          "metadata": {
            "tags": []
          },
          "execution_count": 51
        }
      ]
    },
    {
      "cell_type": "code",
      "metadata": {
        "id": "F7SirIKfkGOI",
        "colab_type": "code",
        "colab": {
          "base_uri": "https://localhost:8080/",
          "height": 167
        },
        "outputId": "9f820ac4-0fe2-464d-ad65-b1c4ca1ff2f4"
      },
      "source": [
        "P = AlpS+Both_Pos+AlpE"
      ],
      "execution_count": 52,
      "outputs": [
        {
          "output_type": "error",
          "ename": "TypeError",
          "evalue": "ignored",
          "traceback": [
            "\u001b[0;31m---------------------------------------------------------------------------\u001b[0m",
            "\u001b[0;31mTypeError\u001b[0m                                 Traceback (most recent call last)",
            "\u001b[0;32m<ipython-input-52-6ca85e88d71a>\u001b[0m in \u001b[0;36m<module>\u001b[0;34m()\u001b[0m\n\u001b[0;32m----> 1\u001b[0;31m \u001b[0mP\u001b[0m \u001b[0;34m=\u001b[0m \u001b[0mAlpS\u001b[0m\u001b[0;34m+\u001b[0m\u001b[0mBoth_Pos\u001b[0m\u001b[0;34m+\u001b[0m\u001b[0mAlpE\u001b[0m\u001b[0;34m\u001b[0m\u001b[0;34m\u001b[0m\u001b[0m\n\u001b[0m",
            "\u001b[0;31mTypeError\u001b[0m: must be str, not list"
          ]
        }
      ]
    },
    {
      "cell_type": "code",
      "metadata": {
        "id": "yswVlOLEkMnl",
        "colab_type": "code",
        "colab": {}
      },
      "source": [
        "def J(i):\n",
        "  ML =AlpS+i+AlpE\n",
        "  return(ML)"
      ],
      "execution_count": 53,
      "outputs": []
    },
    {
      "cell_type": "code",
      "metadata": {
        "id": "UbwbFTYOklyn",
        "colab_type": "code",
        "colab": {}
      },
      "source": [
        "Z = A.intersection(F)"
      ],
      "execution_count": 54,
      "outputs": []
    },
    {
      "cell_type": "code",
      "metadata": {
        "id": "h74ssMpUkp8Y",
        "colab_type": "code",
        "colab": {
          "base_uri": "https://localhost:8080/",
          "height": 34
        },
        "outputId": "20b31e1d-6c4b-4158-ee99-68e43e52cae2"
      },
      "source": [
        "len(Z)"
      ],
      "execution_count": 55,
      "outputs": [
        {
          "output_type": "execute_result",
          "data": {
            "text/plain": [
              "5"
            ]
          },
          "metadata": {
            "tags": []
          },
          "execution_count": 55
        }
      ]
    },
    {
      "cell_type": "code",
      "metadata": {
        "id": "xSLwYMYrl7L7",
        "colab_type": "code",
        "colab": {
          "base_uri": "https://localhost:8080/",
          "height": 34
        },
        "outputId": "4ea86843-63d6-4b9a-bed8-84f6f92e4352"
      },
      "source": [
        "Z"
      ],
      "execution_count": 56,
      "outputs": [
        {
          "output_type": "execute_result",
          "data": {
            "text/plain": [
              "{'ATLC', 'PLCE', 'RRGB', 'SLQT', 'TCDA'}"
            ]
          },
          "metadata": {
            "tags": []
          },
          "execution_count": 56
        }
      ]
    },
    {
      "cell_type": "code",
      "metadata": {
        "id": "JBZygeOTl8Q9",
        "colab_type": "code",
        "colab": {}
      },
      "source": [
        "trg = list(Z)"
      ],
      "execution_count": 57,
      "outputs": []
    },
    {
      "cell_type": "code",
      "metadata": {
        "id": "aJOmw_XnmA02",
        "colab_type": "code",
        "colab": {}
      },
      "source": [
        "ATLC = pd.read_csv(AlpS+'ATLC'+AlpE)"
      ],
      "execution_count": 58,
      "outputs": []
    },
    {
      "cell_type": "code",
      "metadata": {
        "id": "UXJlHT48mMwe",
        "colab_type": "code",
        "colab": {
          "base_uri": "https://localhost:8080/",
          "height": 197
        },
        "outputId": "3a3ea66c-ba20-481b-a908-5a3b30c31d0a"
      },
      "source": [
        "ATLC.head()"
      ],
      "execution_count": 59,
      "outputs": [
        {
          "output_type": "execute_result",
          "data": {
            "text/html": [
              "<div>\n",
              "<style scoped>\n",
              "    .dataframe tbody tr th:only-of-type {\n",
              "        vertical-align: middle;\n",
              "    }\n",
              "\n",
              "    .dataframe tbody tr th {\n",
              "        vertical-align: top;\n",
              "    }\n",
              "\n",
              "    .dataframe thead th {\n",
              "        text-align: right;\n",
              "    }\n",
              "</style>\n",
              "<table border=\"1\" class=\"dataframe\">\n",
              "  <thead>\n",
              "    <tr style=\"text-align: right;\">\n",
              "      <th></th>\n",
              "      <th>timestamp</th>\n",
              "      <th>open</th>\n",
              "      <th>high</th>\n",
              "      <th>low</th>\n",
              "      <th>close</th>\n",
              "      <th>volume</th>\n",
              "    </tr>\n",
              "  </thead>\n",
              "  <tbody>\n",
              "    <tr>\n",
              "      <th>0</th>\n",
              "      <td>2020-09-04</td>\n",
              "      <td>9.93</td>\n",
              "      <td>10.360</td>\n",
              "      <td>9.540</td>\n",
              "      <td>10.19</td>\n",
              "      <td>11853</td>\n",
              "    </tr>\n",
              "    <tr>\n",
              "      <th>1</th>\n",
              "      <td>2020-09-03</td>\n",
              "      <td>9.51</td>\n",
              "      <td>9.835</td>\n",
              "      <td>9.355</td>\n",
              "      <td>9.82</td>\n",
              "      <td>15747</td>\n",
              "    </tr>\n",
              "    <tr>\n",
              "      <th>2</th>\n",
              "      <td>2020-09-02</td>\n",
              "      <td>9.13</td>\n",
              "      <td>9.820</td>\n",
              "      <td>9.130</td>\n",
              "      <td>9.82</td>\n",
              "      <td>6946</td>\n",
              "    </tr>\n",
              "    <tr>\n",
              "      <th>3</th>\n",
              "      <td>2020-09-01</td>\n",
              "      <td>8.47</td>\n",
              "      <td>9.900</td>\n",
              "      <td>8.470</td>\n",
              "      <td>9.49</td>\n",
              "      <td>12163</td>\n",
              "    </tr>\n",
              "    <tr>\n",
              "      <th>4</th>\n",
              "      <td>2020-08-31</td>\n",
              "      <td>8.51</td>\n",
              "      <td>8.960</td>\n",
              "      <td>8.500</td>\n",
              "      <td>8.50</td>\n",
              "      <td>9111</td>\n",
              "    </tr>\n",
              "  </tbody>\n",
              "</table>\n",
              "</div>"
            ],
            "text/plain": [
              "    timestamp  open    high    low  close  volume\n",
              "0  2020-09-04  9.93  10.360  9.540  10.19   11853\n",
              "1  2020-09-03  9.51   9.835  9.355   9.82   15747\n",
              "2  2020-09-02  9.13   9.820  9.130   9.82    6946\n",
              "3  2020-09-01  8.47   9.900  8.470   9.49   12163\n",
              "4  2020-08-31  8.51   8.960  8.500   8.50    9111"
            ]
          },
          "metadata": {
            "tags": []
          },
          "execution_count": 59
        }
      ]
    },
    {
      "cell_type": "code",
      "metadata": {
        "id": "3H6KS-0smPaB",
        "colab_type": "code",
        "colab": {}
      },
      "source": [
        "PLCE = pd.read_csv(AlpS+trg[1]+AlpE)"
      ],
      "execution_count": 60,
      "outputs": []
    },
    {
      "cell_type": "code",
      "metadata": {
        "id": "q4ABUVarnBQw",
        "colab_type": "code",
        "colab": {
          "base_uri": "https://localhost:8080/",
          "height": 197
        },
        "outputId": "d6559aa7-c928-46f3-e778-c1d0d905c666"
      },
      "source": [
        "PLCE.head()"
      ],
      "execution_count": 61,
      "outputs": [
        {
          "output_type": "execute_result",
          "data": {
            "text/html": [
              "<div>\n",
              "<style scoped>\n",
              "    .dataframe tbody tr th:only-of-type {\n",
              "        vertical-align: middle;\n",
              "    }\n",
              "\n",
              "    .dataframe tbody tr th {\n",
              "        vertical-align: top;\n",
              "    }\n",
              "\n",
              "    .dataframe thead th {\n",
              "        text-align: right;\n",
              "    }\n",
              "</style>\n",
              "<table border=\"1\" class=\"dataframe\">\n",
              "  <thead>\n",
              "    <tr style=\"text-align: right;\">\n",
              "      <th></th>\n",
              "      <th>timestamp</th>\n",
              "      <th>open</th>\n",
              "      <th>high</th>\n",
              "      <th>low</th>\n",
              "      <th>close</th>\n",
              "      <th>volume</th>\n",
              "    </tr>\n",
              "  </thead>\n",
              "  <tbody>\n",
              "    <tr>\n",
              "      <th>0</th>\n",
              "      <td>2020-09-04</td>\n",
              "      <td>13.000</td>\n",
              "      <td>13.40</td>\n",
              "      <td>12.1100</td>\n",
              "      <td>12.65</td>\n",
              "      <td>1027614</td>\n",
              "    </tr>\n",
              "    <tr>\n",
              "      <th>1</th>\n",
              "      <td>2020-09-03</td>\n",
              "      <td>13.340</td>\n",
              "      <td>14.19</td>\n",
              "      <td>12.4700</td>\n",
              "      <td>12.63</td>\n",
              "      <td>1956748</td>\n",
              "    </tr>\n",
              "    <tr>\n",
              "      <th>2</th>\n",
              "      <td>2020-09-02</td>\n",
              "      <td>12.430</td>\n",
              "      <td>13.69</td>\n",
              "      <td>12.3857</td>\n",
              "      <td>13.21</td>\n",
              "      <td>2507726</td>\n",
              "    </tr>\n",
              "    <tr>\n",
              "      <th>3</th>\n",
              "      <td>2020-09-01</td>\n",
              "      <td>10.880</td>\n",
              "      <td>12.50</td>\n",
              "      <td>10.8200</td>\n",
              "      <td>12.46</td>\n",
              "      <td>2524551</td>\n",
              "    </tr>\n",
              "    <tr>\n",
              "      <th>4</th>\n",
              "      <td>2020-08-31</td>\n",
              "      <td>11.295</td>\n",
              "      <td>11.33</td>\n",
              "      <td>10.5600</td>\n",
              "      <td>11.10</td>\n",
              "      <td>1392487</td>\n",
              "    </tr>\n",
              "  </tbody>\n",
              "</table>\n",
              "</div>"
            ],
            "text/plain": [
              "    timestamp    open   high      low  close   volume\n",
              "0  2020-09-04  13.000  13.40  12.1100  12.65  1027614\n",
              "1  2020-09-03  13.340  14.19  12.4700  12.63  1956748\n",
              "2  2020-09-02  12.430  13.69  12.3857  13.21  2507726\n",
              "3  2020-09-01  10.880  12.50  10.8200  12.46  2524551\n",
              "4  2020-08-31  11.295  11.33  10.5600  11.10  1392487"
            ]
          },
          "metadata": {
            "tags": []
          },
          "execution_count": 61
        }
      ]
    },
    {
      "cell_type": "code",
      "metadata": {
        "id": "5J-xj2vNnDiD",
        "colab_type": "code",
        "colab": {}
      },
      "source": [
        "RRGB = pd.read_csv(AlpS+trg[2]+AlpE)\n",
        "SLQT =  pd.read_csv(AlpS+trg[3]+AlpE)\n",
        "TCDA = pd.read_csv(AlpS+trg[4]+AlpE)"
      ],
      "execution_count": 62,
      "outputs": []
    },
    {
      "cell_type": "code",
      "metadata": {
        "id": "a94eCIZLniWk",
        "colab_type": "code",
        "colab": {
          "base_uri": "https://localhost:8080/",
          "height": 300
        },
        "outputId": "3765b54c-6530-4b93-a3ae-6ab71f93a67c"
      },
      "source": [
        "ATLC.close.plot(); PLCE.close.plot(); RRGB.close.plot(); SLQT.close.plot(), TCDA.close.plot()"
      ],
      "execution_count": 67,
      "outputs": [
        {
          "output_type": "execute_result",
          "data": {
            "text/plain": [
              "(<matplotlib.axes._subplots.AxesSubplot at 0x7f47709a37f0>,\n",
              " <matplotlib.axes._subplots.AxesSubplot at 0x7f47709a37f0>)"
            ]
          },
          "metadata": {
            "tags": []
          },
          "execution_count": 67
        },
        {
          "output_type": "display_data",
          "data": {
            "image/png": "[encoded data removed]",
            "text/plain": [
              "<Figure size 432x288 with 1 Axes>"
            ]
          },
          "metadata": {
            "tags": [],
            "needs_background": "light"
          }
        }
      ]
    },
    {
      "cell_type": "code",
      "metadata": {
        "id": "5VHj7ZRHn24Q",
        "colab_type": "code",
        "colab": {}
      },
      "source": [
        "NYSE_Tshares = 1985590000+66510000+2179950000"
      ],
      "execution_count": 68,
      "outputs": []
    },
    {
      "cell_type": "code",
      "metadata": {
        "id": "97-UPiSFqHhb",
        "colab_type": "code",
        "colab": {}
      },
      "source": [
        "NYSE_Stocks = 859+39+1016"
      ],
      "execution_count": 69,
      "outputs": []
    },
    {
      "cell_type": "code",
      "metadata": {
        "id": "5ThsF0fMqPV0",
        "colab_type": "code",
        "colab": {}
      },
      "source": [
        "NADAQ_Tshares = 1449760000+48340000+2203590000"
      ],
      "execution_count": 70,
      "outputs": []
    },
    {
      "cell_type": "code",
      "metadata": {
        "id": "4NPaZ4oEqcts",
        "colab_type": "code",
        "colab": {}
      },
      "source": [
        "NASDAQ_Stocks = 972+82+1645"
      ],
      "execution_count": 71,
      "outputs": []
    },
    {
      "cell_type": "code",
      "metadata": {
        "id": "2G6h5qFyqhon",
        "colab_type": "code",
        "colab": {
          "base_uri": "https://localhost:8080/",
          "height": 34
        },
        "outputId": "29ba968e-de55-4db6-e06a-f9b2862488ad"
      },
      "source": [
        "NYSE_Tshares / NYSE_Stocks"
      ],
      "execution_count": 72,
      "outputs": [
        {
          "output_type": "execute_result",
          "data": {
            "text/plain": [
              "2211102.4033437828"
            ]
          },
          "metadata": {
            "tags": []
          },
          "execution_count": 72
        }
      ]
    },
    {
      "cell_type": "code",
      "metadata": {
        "id": "CRmd07YNquE8",
        "colab_type": "code",
        "colab": {
          "base_uri": "https://localhost:8080/",
          "height": 34
        },
        "outputId": "46713cd5-14a8-4ae9-cb59-a2b5296d2bdb"
      },
      "source": [
        "NADAQ_Tshares / NASDAQ_Stocks"
      ],
      "execution_count": 73,
      "outputs": [
        {
          "output_type": "execute_result",
          "data": {
            "text/plain": [
              "1371504.2608373472"
            ]
          },
          "metadata": {
            "tags": []
          },
          "execution_count": 73
        }
      ]
    },
    {
      "cell_type": "code",
      "metadata": {
        "id": "UKCKj91Kq0Sd",
        "colab_type": "code",
        "colab": {
          "base_uri": "https://localhost:8080/",
          "height": 34
        },
        "outputId": "ed95e53d-5d69-4ae4-e0f7-6c398baff8ea"
      },
      "source": [
        "NYSE_Stocks"
      ],
      "execution_count": 74,
      "outputs": [
        {
          "output_type": "execute_result",
          "data": {
            "text/plain": [
              "1914"
            ]
          },
          "metadata": {
            "tags": []
          },
          "execution_count": 74
        }
      ]
    },
    {
      "cell_type": "code",
      "metadata": {
        "id": "GzvRY8lfryWy",
        "colab_type": "code",
        "colab": {}
      },
      "source": [
        "NYSE = pd.read_csv(\"NYSE_Total.csv\")"
      ],
      "execution_count": 75,
      "outputs": []
    },
    {
      "cell_type": "code",
      "metadata": {
        "id": "aQ5UjisIsdDH",
        "colab_type": "code",
        "colab": {}
      },
      "source": [
        "NASDAQ = pd.read_csv('NASDAQ_Total.csv')"
      ],
      "execution_count": 76,
      "outputs": []
    },
    {
      "cell_type": "code",
      "metadata": {
        "id": "9Xd9lrhltCXm",
        "colab_type": "code",
        "colab": {}
      },
      "source": [
        ""
      ],
      "execution_count": null,
      "outputs": []
    }
  ]
}