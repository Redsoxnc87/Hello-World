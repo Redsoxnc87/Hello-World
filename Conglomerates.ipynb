{
  "nbformat": 4,
  "nbformat_minor": 0,
  "metadata": {
    "colab": {
      "name": "Conglomerates.ipynb",
      "provenance": [],
      "collapsed_sections": [],
      "authorship_tag": "ABX9TyNtZEFgWNVHjBxiKq7TZmkJ",
      "include_colab_link": true
    },
    "kernelspec": {
      "name": "python3",
      "display_name": "Python 3"
    }
  },
  "cells": [
    {
      "cell_type": "markdown",
      "metadata": {
        "id": "view-in-github",
        "colab_type": "text"
      },
      "source": [
        "<a href=\"https://colab.research.google.com/github/Redsoxnc87/Hello-World/blob/master/Conglomerates.ipynb\" target=\"_parent\"><img src=\"https://colab.research.google.com/assets/colab-badge.svg\" alt=\"Open In Colab\"/></a>"
      ]
    },
    {
      "cell_type": "code",
      "metadata": {
        "id": "CATNT_kb737E",
        "colab_type": "code",
        "colab": {}
      },
      "source": [
        "import pandas as pd\n",
        "import numpy as np\n",
        "import math \n",
        "import requests "
      ],
      "execution_count": 1,
      "outputs": []
    },
    {
      "cell_type": "code",
      "metadata": {
        "id": "gs-fWxNg7-5c",
        "colab_type": "code",
        "colab": {}
      },
      "source": [
        "import matplotlib.pyplot as plt\n",
        "import pandas.plotting \n",
        "import operator\n",
        "import scipy"
      ],
      "execution_count": 2,
      "outputs": []
    },
    {
      "cell_type": "code",
      "metadata": {
        "id": "oe-DTjgT8OJ1",
        "colab_type": "code",
        "colab": {}
      },
      "source": [
        "import scipy.stats"
      ],
      "execution_count": 3,
      "outputs": []
    },
    {
      "cell_type": "code",
      "metadata": {
        "id": "cbRg9pqD8Px1",
        "colab_type": "code",
        "colab": {}
      },
      "source": [
        "congo = pd.read_csv('Conglomerates_Screen.csv')"
      ],
      "execution_count": 4,
      "outputs": []
    },
    {
      "cell_type": "code",
      "metadata": {
        "id": "cpXNvuVk8ZLS",
        "colab_type": "code",
        "colab": {
          "base_uri": "https://localhost:8080/",
          "height": 299
        },
        "outputId": "392235d3-9f67-476c-fb9b-be361ad5fd36"
      },
      "source": [
        "congo.describe()"
      ],
      "execution_count": 5,
      "outputs": [
        {
          "output_type": "execute_result",
          "data": {
            "text/html": [
              "<div>\n",
              "<style scoped>\n",
              "    .dataframe tbody tr th:only-of-type {\n",
              "        vertical-align: middle;\n",
              "    }\n",
              "\n",
              "    .dataframe tbody tr th {\n",
              "        vertical-align: top;\n",
              "    }\n",
              "\n",
              "    .dataframe thead th {\n",
              "        text-align: right;\n",
              "    }\n",
              "</style>\n",
              "<table border=\"1\" class=\"dataframe\">\n",
              "  <thead>\n",
              "    <tr style=\"text-align: right;\">\n",
              "      <th></th>\n",
              "      <th>Last</th>\n",
              "      <th>14D Rel Str</th>\n",
              "      <th>50D Rel Str</th>\n",
              "      <th>Market Cap</th>\n",
              "      <th>Shares Out</th>\n",
              "      <th>Float</th>\n",
              "      <th>1Y Return</th>\n",
              "      <th>3Y Return</th>\n",
              "      <th>5Y Return</th>\n",
              "      <th>Debt/Equity</th>\n",
              "      <th>PEG</th>\n",
              "      <th>52W High</th>\n",
              "      <th>52W Low</th>\n",
              "    </tr>\n",
              "  </thead>\n",
              "  <tbody>\n",
              "    <tr>\n",
              "      <th>count</th>\n",
              "      <td>18.000000</td>\n",
              "      <td>18.000000</td>\n",
              "      <td>18.00000</td>\n",
              "      <td>1.800000e+01</td>\n",
              "      <td>1.800000e+01</td>\n",
              "      <td>1.800000e+01</td>\n",
              "      <td>18.000000</td>\n",
              "      <td>18.000000</td>\n",
              "      <td>18.000000</td>\n",
              "      <td>18.000000</td>\n",
              "      <td>7.000000</td>\n",
              "      <td>18.000000</td>\n",
              "      <td>18.000000</td>\n",
              "    </tr>\n",
              "    <tr>\n",
              "      <th>mean</th>\n",
              "      <td>56.625556</td>\n",
              "      <td>0.523333</td>\n",
              "      <td>0.50000</td>\n",
              "      <td>2.408699e+10</td>\n",
              "      <td>6.385261e+08</td>\n",
              "      <td>6.150505e+05</td>\n",
              "      <td>-0.170556</td>\n",
              "      <td>-0.132222</td>\n",
              "      <td>-0.010556</td>\n",
              "      <td>1.567222</td>\n",
              "      <td>2.638571</td>\n",
              "      <td>72.713889</td>\n",
              "      <td>38.238889</td>\n",
              "    </tr>\n",
              "    <tr>\n",
              "      <th>std</th>\n",
              "      <td>60.656716</td>\n",
              "      <td>0.069536</td>\n",
              "      <td>0.04116</td>\n",
              "      <td>4.399449e+10</td>\n",
              "      <td>2.037316e+09</td>\n",
              "      <td>2.022706e+06</td>\n",
              "      <td>0.286633</td>\n",
              "      <td>0.574114</td>\n",
              "      <td>0.606237</td>\n",
              "      <td>2.556337</td>\n",
              "      <td>1.042168</td>\n",
              "      <td>68.767389</td>\n",
              "      <td>42.052890</td>\n",
              "    </tr>\n",
              "    <tr>\n",
              "      <th>min</th>\n",
              "      <td>1.120000</td>\n",
              "      <td>0.430000</td>\n",
              "      <td>0.44000</td>\n",
              "      <td>1.924700e+07</td>\n",
              "      <td>2.477000e+06</td>\n",
              "      <td>1.829000e+03</td>\n",
              "      <td>-0.690000</td>\n",
              "      <td>-0.860000</td>\n",
              "      <td>-0.970000</td>\n",
              "      <td>0.000000</td>\n",
              "      <td>1.330000</td>\n",
              "      <td>4.330000</td>\n",
              "      <td>1.000000</td>\n",
              "    </tr>\n",
              "    <tr>\n",
              "      <th>25%</th>\n",
              "      <td>9.545000</td>\n",
              "      <td>0.480000</td>\n",
              "      <td>0.48000</td>\n",
              "      <td>3.637038e+08</td>\n",
              "      <td>3.093600e+07</td>\n",
              "      <td>2.207375e+04</td>\n",
              "      <td>-0.345000</td>\n",
              "      <td>-0.575000</td>\n",
              "      <td>-0.585000</td>\n",
              "      <td>0.502500</td>\n",
              "      <td>1.720000</td>\n",
              "      <td>16.875000</td>\n",
              "      <td>5.420000</td>\n",
              "    </tr>\n",
              "    <tr>\n",
              "      <th>50%</th>\n",
              "      <td>29.965000</td>\n",
              "      <td>0.520000</td>\n",
              "      <td>0.49000</td>\n",
              "      <td>2.262882e+09</td>\n",
              "      <td>5.644550e+07</td>\n",
              "      <td>4.797450e+04</td>\n",
              "      <td>-0.185000</td>\n",
              "      <td>-0.195000</td>\n",
              "      <td>0.110000</td>\n",
              "      <td>0.945000</td>\n",
              "      <td>3.000000</td>\n",
              "      <td>41.965000</td>\n",
              "      <td>19.665000</td>\n",
              "    </tr>\n",
              "    <tr>\n",
              "      <th>75%</th>\n",
              "      <td>77.605000</td>\n",
              "      <td>0.557500</td>\n",
              "      <td>0.51750</td>\n",
              "      <td>9.647702e+09</td>\n",
              "      <td>1.824452e+08</td>\n",
              "      <td>8.268450e+04</td>\n",
              "      <td>-0.085000</td>\n",
              "      <td>0.090000</td>\n",
              "      <td>0.227500</td>\n",
              "      <td>1.685000</td>\n",
              "      <td>3.410000</td>\n",
              "      <td>95.810000</td>\n",
              "      <td>59.142500</td>\n",
              "    </tr>\n",
              "    <tr>\n",
              "      <th>max</th>\n",
              "      <td>195.270000</td>\n",
              "      <td>0.700000</td>\n",
              "      <td>0.62000</td>\n",
              "      <td>1.389581e+11</td>\n",
              "      <td>8.747092e+09</td>\n",
              "      <td>8.668368e+06</td>\n",
              "      <td>0.370000</td>\n",
              "      <td>1.450000</td>\n",
              "      <td>1.180000</td>\n",
              "      <td>11.340000</td>\n",
              "      <td>3.880000</td>\n",
              "      <td>203.000000</td>\n",
              "      <td>119.600000</td>\n",
              "    </tr>\n",
              "  </tbody>\n",
              "</table>\n",
              "</div>"
            ],
            "text/plain": [
              "             Last  14D Rel Str  50D Rel Str  ...       PEG    52W High     52W Low\n",
              "count   18.000000    18.000000     18.00000  ...  7.000000   18.000000   18.000000\n",
              "mean    56.625556     0.523333      0.50000  ...  2.638571   72.713889   38.238889\n",
              "std     60.656716     0.069536      0.04116  ...  1.042168   68.767389   42.052890\n",
              "min      1.120000     0.430000      0.44000  ...  1.330000    4.330000    1.000000\n",
              "25%      9.545000     0.480000      0.48000  ...  1.720000   16.875000    5.420000\n",
              "50%     29.965000     0.520000      0.49000  ...  3.000000   41.965000   19.665000\n",
              "75%     77.605000     0.557500      0.51750  ...  3.410000   95.810000   59.142500\n",
              "max    195.270000     0.700000      0.62000  ...  3.880000  203.000000  119.600000\n",
              "\n",
              "[8 rows x 13 columns]"
            ]
          },
          "metadata": {
            "tags": []
          },
          "execution_count": 5
        }
      ]
    },
    {
      "cell_type": "code",
      "metadata": {
        "id": "WWRN-SV08bTi",
        "colab_type": "code",
        "colab": {}
      },
      "source": [
        "float_prct = operator.truediv(congo['Float'], congo['Shares Out'])"
      ],
      "execution_count": 6,
      "outputs": []
    },
    {
      "cell_type": "code",
      "metadata": {
        "id": "oPnKSlCS9AGq",
        "colab_type": "code",
        "colab": {}
      },
      "source": [
        "cum_ret = operator.add(congo['1Y Return'],congo['3Y Return'])"
      ],
      "execution_count": 7,
      "outputs": []
    },
    {
      "cell_type": "code",
      "metadata": {
        "id": "b2YtGhMn9H82",
        "colab_type": "code",
        "colab": {}
      },
      "source": [
        "cum_rets = operator.add(cum_ret,congo['5Y Return'])"
      ],
      "execution_count": 8,
      "outputs": []
    },
    {
      "cell_type": "code",
      "metadata": {
        "id": "aZx9k1_r9OVP",
        "colab_type": "code",
        "colab": {}
      },
      "source": [
        "rsi_diff = operator.sub(congo['14D Rel Str'],congo['50D Rel Str'])"
      ],
      "execution_count": 9,
      "outputs": []
    },
    {
      "cell_type": "code",
      "metadata": {
        "id": "0RxhLDZc9Zhc",
        "colab_type": "code",
        "colab": {}
      },
      "source": [
        "diff_52 = operator.sub(congo['52W High'],congo['52W Low'])"
      ],
      "execution_count": 10,
      "outputs": []
    },
    {
      "cell_type": "code",
      "metadata": {
        "id": "6mE1IFDi9rjc",
        "colab_type": "code",
        "colab": {}
      },
      "source": [
        "congo['Float_Prct']=(float_prct)\n",
        "congo['Cummulative_Returns']=(cum_rets)"
      ],
      "execution_count": 11,
      "outputs": []
    },
    {
      "cell_type": "code",
      "metadata": {
        "id": "y8LHH8o-93Th",
        "colab_type": "code",
        "colab": {}
      },
      "source": [
        "congo['RSI_Diff']=(rsi_diff)\n",
        "congo['Diff_52']=(diff_52)"
      ],
      "execution_count": 12,
      "outputs": []
    },
    {
      "cell_type": "code",
      "metadata": {
        "id": "Z1_rI-q4-E3m",
        "colab_type": "code",
        "colab": {
          "base_uri": "https://localhost:8080/",
          "height": 319
        },
        "outputId": "2a87d4b5-2315-42bc-f968-b43790f77594"
      },
      "source": [
        "congo.describe()"
      ],
      "execution_count": 13,
      "outputs": [
        {
          "output_type": "execute_result",
          "data": {
            "text/html": [
              "<div>\n",
              "<style scoped>\n",
              "    .dataframe tbody tr th:only-of-type {\n",
              "        vertical-align: middle;\n",
              "    }\n",
              "\n",
              "    .dataframe tbody tr th {\n",
              "        vertical-align: top;\n",
              "    }\n",
              "\n",
              "    .dataframe thead th {\n",
              "        text-align: right;\n",
              "    }\n",
              "</style>\n",
              "<table border=\"1\" class=\"dataframe\">\n",
              "  <thead>\n",
              "    <tr style=\"text-align: right;\">\n",
              "      <th></th>\n",
              "      <th>Last</th>\n",
              "      <th>14D Rel Str</th>\n",
              "      <th>50D Rel Str</th>\n",
              "      <th>Market Cap</th>\n",
              "      <th>Shares Out</th>\n",
              "      <th>Float</th>\n",
              "      <th>1Y Return</th>\n",
              "      <th>3Y Return</th>\n",
              "      <th>5Y Return</th>\n",
              "      <th>Debt/Equity</th>\n",
              "      <th>PEG</th>\n",
              "      <th>52W High</th>\n",
              "      <th>52W Low</th>\n",
              "      <th>Float_Prct</th>\n",
              "      <th>Cummulative_Returns</th>\n",
              "      <th>RSI_Diff</th>\n",
              "      <th>Diff_52</th>\n",
              "    </tr>\n",
              "  </thead>\n",
              "  <tbody>\n",
              "    <tr>\n",
              "      <th>count</th>\n",
              "      <td>18.000000</td>\n",
              "      <td>18.000000</td>\n",
              "      <td>18.00000</td>\n",
              "      <td>1.800000e+01</td>\n",
              "      <td>1.800000e+01</td>\n",
              "      <td>1.800000e+01</td>\n",
              "      <td>18.000000</td>\n",
              "      <td>18.000000</td>\n",
              "      <td>18.000000</td>\n",
              "      <td>18.000000</td>\n",
              "      <td>7.000000</td>\n",
              "      <td>18.000000</td>\n",
              "      <td>18.000000</td>\n",
              "      <td>18.000000</td>\n",
              "      <td>18.000000</td>\n",
              "      <td>18.000000</td>\n",
              "      <td>18.000000</td>\n",
              "    </tr>\n",
              "    <tr>\n",
              "      <th>mean</th>\n",
              "      <td>56.625556</td>\n",
              "      <td>0.523333</td>\n",
              "      <td>0.50000</td>\n",
              "      <td>2.408699e+10</td>\n",
              "      <td>6.385261e+08</td>\n",
              "      <td>6.150505e+05</td>\n",
              "      <td>-0.170556</td>\n",
              "      <td>-0.132222</td>\n",
              "      <td>-0.010556</td>\n",
              "      <td>1.567222</td>\n",
              "      <td>2.638571</td>\n",
              "      <td>72.713889</td>\n",
              "      <td>38.238889</td>\n",
              "      <td>0.000830</td>\n",
              "      <td>-0.313333</td>\n",
              "      <td>0.023333</td>\n",
              "      <td>34.475000</td>\n",
              "    </tr>\n",
              "    <tr>\n",
              "      <th>std</th>\n",
              "      <td>60.656716</td>\n",
              "      <td>0.069536</td>\n",
              "      <td>0.04116</td>\n",
              "      <td>4.399449e+10</td>\n",
              "      <td>2.037316e+09</td>\n",
              "      <td>2.022706e+06</td>\n",
              "      <td>0.286633</td>\n",
              "      <td>0.574114</td>\n",
              "      <td>0.606237</td>\n",
              "      <td>2.556337</td>\n",
              "      <td>1.042168</td>\n",
              "      <td>68.767389</td>\n",
              "      <td>42.052890</td>\n",
              "      <td>0.000235</td>\n",
              "      <td>1.351222</td>\n",
              "      <td>0.042840</td>\n",
              "      <td>27.957702</td>\n",
              "    </tr>\n",
              "    <tr>\n",
              "      <th>min</th>\n",
              "      <td>1.120000</td>\n",
              "      <td>0.430000</td>\n",
              "      <td>0.44000</td>\n",
              "      <td>1.924700e+07</td>\n",
              "      <td>2.477000e+06</td>\n",
              "      <td>1.829000e+03</td>\n",
              "      <td>-0.690000</td>\n",
              "      <td>-0.860000</td>\n",
              "      <td>-0.970000</td>\n",
              "      <td>0.000000</td>\n",
              "      <td>1.330000</td>\n",
              "      <td>4.330000</td>\n",
              "      <td>1.000000</td>\n",
              "      <td>0.000099</td>\n",
              "      <td>-2.520000</td>\n",
              "      <td>-0.060000</td>\n",
              "      <td>3.040000</td>\n",
              "    </tr>\n",
              "    <tr>\n",
              "      <th>25%</th>\n",
              "      <td>9.545000</td>\n",
              "      <td>0.480000</td>\n",
              "      <td>0.48000</td>\n",
              "      <td>3.637038e+08</td>\n",
              "      <td>3.093600e+07</td>\n",
              "      <td>2.207375e+04</td>\n",
              "      <td>-0.345000</td>\n",
              "      <td>-0.575000</td>\n",
              "      <td>-0.585000</td>\n",
              "      <td>0.502500</td>\n",
              "      <td>1.720000</td>\n",
              "      <td>16.875000</td>\n",
              "      <td>5.420000</td>\n",
              "      <td>0.000764</td>\n",
              "      <td>-1.217500</td>\n",
              "      <td>0.010000</td>\n",
              "      <td>10.375000</td>\n",
              "    </tr>\n",
              "    <tr>\n",
              "      <th>50%</th>\n",
              "      <td>29.965000</td>\n",
              "      <td>0.520000</td>\n",
              "      <td>0.49000</td>\n",
              "      <td>2.262882e+09</td>\n",
              "      <td>5.644550e+07</td>\n",
              "      <td>4.797450e+04</td>\n",
              "      <td>-0.185000</td>\n",
              "      <td>-0.195000</td>\n",
              "      <td>0.110000</td>\n",
              "      <td>0.945000</td>\n",
              "      <td>3.000000</td>\n",
              "      <td>41.965000</td>\n",
              "      <td>19.665000</td>\n",
              "      <td>0.000915</td>\n",
              "      <td>-0.315000</td>\n",
              "      <td>0.035000</td>\n",
              "      <td>26.750000</td>\n",
              "    </tr>\n",
              "    <tr>\n",
              "      <th>75%</th>\n",
              "      <td>77.605000</td>\n",
              "      <td>0.557500</td>\n",
              "      <td>0.51750</td>\n",
              "      <td>9.647702e+09</td>\n",
              "      <td>1.824452e+08</td>\n",
              "      <td>8.268450e+04</td>\n",
              "      <td>-0.085000</td>\n",
              "      <td>0.090000</td>\n",
              "      <td>0.227500</td>\n",
              "      <td>1.685000</td>\n",
              "      <td>3.410000</td>\n",
              "      <td>95.810000</td>\n",
              "      <td>59.142500</td>\n",
              "      <td>0.000983</td>\n",
              "      <td>0.365000</td>\n",
              "      <td>0.057500</td>\n",
              "      <td>50.920000</td>\n",
              "    </tr>\n",
              "    <tr>\n",
              "      <th>max</th>\n",
              "      <td>195.270000</td>\n",
              "      <td>0.700000</td>\n",
              "      <td>0.62000</td>\n",
              "      <td>1.389581e+11</td>\n",
              "      <td>8.747092e+09</td>\n",
              "      <td>8.668368e+06</td>\n",
              "      <td>0.370000</td>\n",
              "      <td>1.450000</td>\n",
              "      <td>1.180000</td>\n",
              "      <td>11.340000</td>\n",
              "      <td>3.880000</td>\n",
              "      <td>203.000000</td>\n",
              "      <td>119.600000</td>\n",
              "      <td>0.000996</td>\n",
              "      <td>3.000000</td>\n",
              "      <td>0.080000</td>\n",
              "      <td>83.400000</td>\n",
              "    </tr>\n",
              "  </tbody>\n",
              "</table>\n",
              "</div>"
            ],
            "text/plain": [
              "             Last  14D Rel Str  ...   RSI_Diff    Diff_52\n",
              "count   18.000000    18.000000  ...  18.000000  18.000000\n",
              "mean    56.625556     0.523333  ...   0.023333  34.475000\n",
              "std     60.656716     0.069536  ...   0.042840  27.957702\n",
              "min      1.120000     0.430000  ...  -0.060000   3.040000\n",
              "25%      9.545000     0.480000  ...   0.010000  10.375000\n",
              "50%     29.965000     0.520000  ...   0.035000  26.750000\n",
              "75%     77.605000     0.557500  ...   0.057500  50.920000\n",
              "max    195.270000     0.700000  ...   0.080000  83.400000\n",
              "\n",
              "[8 rows x 17 columns]"
            ]
          },
          "metadata": {
            "tags": []
          },
          "execution_count": 13
        }
      ]
    },
    {
      "cell_type": "code",
      "metadata": {
        "id": "aAnqMnyN-HS3",
        "colab_type": "code",
        "colab": {}
      },
      "source": [
        "oversold = congo.loc[(congo['14D Rel Str'])<.55]"
      ],
      "execution_count": 17,
      "outputs": []
    },
    {
      "cell_type": "code",
      "metadata": {
        "id": "na78-UXK-aP3",
        "colab_type": "code",
        "colab": {}
      },
      "source": [
        "overbought = congo.loc[(congo['14D Rel Str'])>.70]"
      ],
      "execution_count": 18,
      "outputs": []
    },
    {
      "cell_type": "code",
      "metadata": {
        "id": "pQuTpGTK-j8s",
        "colab_type": "code",
        "colab": {
          "base_uri": "https://localhost:8080/",
          "height": 34
        },
        "outputId": "457d58b6-1ee0-4413-ff78-ca7780a5b8ec"
      },
      "source": [
        "len(oversold)"
      ],
      "execution_count": 19,
      "outputs": [
        {
          "output_type": "execute_result",
          "data": {
            "text/plain": [
              "12"
            ]
          },
          "metadata": {
            "tags": []
          },
          "execution_count": 19
        }
      ]
    },
    {
      "cell_type": "code",
      "metadata": {
        "id": "ZBz9A8S--mBN",
        "colab_type": "code",
        "colab": {}
      },
      "source": [
        "osold_ret = oversold.loc[(oversold['Cummulative_Returns'])>0]"
      ],
      "execution_count": 20,
      "outputs": []
    },
    {
      "cell_type": "code",
      "metadata": {
        "id": "srDc4cmd-09L",
        "colab_type": "code",
        "colab": {
          "base_uri": "https://localhost:8080/",
          "height": 34
        },
        "outputId": "c4d380a8-a615-45fb-bf47-644ffd3791d2"
      },
      "source": [
        "len(osold_ret)"
      ],
      "execution_count": 21,
      "outputs": [
        {
          "output_type": "execute_result",
          "data": {
            "text/plain": [
              "3"
            ]
          },
          "metadata": {
            "tags": []
          },
          "execution_count": 21
        }
      ]
    },
    {
      "cell_type": "code",
      "metadata": {
        "id": "DYGmDppl-2wk",
        "colab_type": "code",
        "colab": {
          "base_uri": "https://localhost:8080/",
          "height": 275
        },
        "outputId": "a55f27e4-df03-4919-9e00-e340deb2de6c"
      },
      "source": [
        "osold_ret"
      ],
      "execution_count": 22,
      "outputs": [
        {
          "output_type": "execute_result",
          "data": {
            "text/html": [
              "<div>\n",
              "<style scoped>\n",
              "    .dataframe tbody tr th:only-of-type {\n",
              "        vertical-align: middle;\n",
              "    }\n",
              "\n",
              "    .dataframe tbody tr th {\n",
              "        vertical-align: top;\n",
              "    }\n",
              "\n",
              "    .dataframe thead th {\n",
              "        text-align: right;\n",
              "    }\n",
              "</style>\n",
              "<table border=\"1\" class=\"dataframe\">\n",
              "  <thead>\n",
              "    <tr style=\"text-align: right;\">\n",
              "      <th></th>\n",
              "      <th>Symbol</th>\n",
              "      <th>Name</th>\n",
              "      <th>Last</th>\n",
              "      <th>14D Rel Str</th>\n",
              "      <th>50D Rel Str</th>\n",
              "      <th>Market Cap</th>\n",
              "      <th>Shares Out</th>\n",
              "      <th>Float</th>\n",
              "      <th>1Y Return</th>\n",
              "      <th>3Y Return</th>\n",
              "      <th>5Y Return</th>\n",
              "      <th>Debt/Equity</th>\n",
              "      <th>PEG</th>\n",
              "      <th>52W High</th>\n",
              "      <th>52W Low</th>\n",
              "      <th>Float_Prct</th>\n",
              "      <th>Cummulative_Returns</th>\n",
              "      <th>RSI_Diff</th>\n",
              "      <th>Diff_52</th>\n",
              "    </tr>\n",
              "  </thead>\n",
              "  <tbody>\n",
              "    <tr>\n",
              "      <th>1</th>\n",
              "      <td>CSL</td>\n",
              "      <td>Carlisle Companies Inc</td>\n",
              "      <td>120.84</td>\n",
              "      <td>0.52</td>\n",
              "      <td>0.48</td>\n",
              "      <td>6637334000</td>\n",
              "      <td>54913000</td>\n",
              "      <td>53925</td>\n",
              "      <td>-0.14</td>\n",
              "      <td>0.24</td>\n",
              "      <td>0.19</td>\n",
              "      <td>1.02</td>\n",
              "      <td>1.37</td>\n",
              "      <td>169.86</td>\n",
              "      <td>97.55</td>\n",
              "      <td>0.000982</td>\n",
              "      <td>0.29</td>\n",
              "      <td>0.04</td>\n",
              "      <td>72.31</td>\n",
              "    </tr>\n",
              "    <tr>\n",
              "      <th>3</th>\n",
              "      <td>FSS</td>\n",
              "      <td>Federal Signal Corp</td>\n",
              "      <td>29.62</td>\n",
              "      <td>0.52</td>\n",
              "      <td>0.51</td>\n",
              "      <td>1813314000</td>\n",
              "      <td>60243000</td>\n",
              "      <td>57894</td>\n",
              "      <td>0.04</td>\n",
              "      <td>0.63</td>\n",
              "      <td>1.01</td>\n",
              "      <td>0.47</td>\n",
              "      <td>1.33</td>\n",
              "      <td>35.75</td>\n",
              "      <td>23.32</td>\n",
              "      <td>0.000961</td>\n",
              "      <td>1.68</td>\n",
              "      <td>0.01</td>\n",
              "      <td>12.43</td>\n",
              "    </tr>\n",
              "    <tr>\n",
              "      <th>7</th>\n",
              "      <td>HON</td>\n",
              "      <td>Honeywell International Inc</td>\n",
              "      <td>149.43</td>\n",
              "      <td>0.52</td>\n",
              "      <td>0.50</td>\n",
              "      <td>107895096000</td>\n",
              "      <td>701848000</td>\n",
              "      <td>697356</td>\n",
              "      <td>-0.14</td>\n",
              "      <td>0.12</td>\n",
              "      <td>0.46</td>\n",
              "      <td>0.65</td>\n",
              "      <td>3.00</td>\n",
              "      <td>184.06</td>\n",
              "      <td>101.08</td>\n",
              "      <td>0.000994</td>\n",
              "      <td>0.44</td>\n",
              "      <td>0.02</td>\n",
              "      <td>82.98</td>\n",
              "    </tr>\n",
              "  </tbody>\n",
              "</table>\n",
              "</div>"
            ],
            "text/plain": [
              "  Symbol                         Name  ...  RSI_Diff  Diff_52\n",
              "1    CSL       Carlisle Companies Inc  ...      0.04    72.31\n",
              "3    FSS          Federal Signal Corp  ...      0.01    12.43\n",
              "7    HON  Honeywell International Inc  ...      0.02    82.98\n",
              "\n",
              "[3 rows x 19 columns]"
            ]
          },
          "metadata": {
            "tags": []
          },
          "execution_count": 22
        }
      ]
    },
    {
      "cell_type": "code",
      "metadata": {
        "id": "T4GZLjVf-4Cs",
        "colab_type": "code",
        "colab": {}
      },
      "source": [
        "osold_ret.to_csv('Congolmerates_Oversold_Returns.csv', index=False)"
      ],
      "execution_count": 23,
      "outputs": []
    },
    {
      "cell_type": "code",
      "metadata": {
        "id": "QEWkalto_DmB",
        "colab_type": "code",
        "colab": {}
      },
      "source": [
        ""
      ],
      "execution_count": null,
      "outputs": []
    }
  ]
}