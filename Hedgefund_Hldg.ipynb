{
  "nbformat": 4,
  "nbformat_minor": 0,
  "metadata": {
    "colab": {
      "name": "Hedgefund_Hldg.ipynb",
      "provenance": [],
      "collapsed_sections": [],
      "authorship_tag": "ABX9TyNTbN38MTOT+TaTWhQyOLhA",
      "include_colab_link": true
    },
    "kernelspec": {
      "name": "python3",
      "display_name": "Python 3"
    }
  },
  "cells": [
    {
      "cell_type": "markdown",
      "metadata": {
        "id": "view-in-github",
        "colab_type": "text"
      },
      "source": [
        "<a href=\"https://colab.research.google.com/github/Redsoxnc87/Hello-World/blob/master/Hedgefund_Hldg.ipynb\" target=\"_parent\"><img src=\"https://colab.research.google.com/assets/colab-badge.svg\" alt=\"Open In Colab\"/></a>"
      ]
    },
    {
      "cell_type": "code",
      "metadata": {
        "id": "wWiEwq7suHeI",
        "colab_type": "code",
        "colab": {}
      },
      "source": [
        "import pandas as pd \n",
        "import numpy as np \n",
        "import os \n",
        "import sys \n",
        "import requests \n",
        "import math "
      ],
      "execution_count": 3,
      "outputs": []
    },
    {
      "cell_type": "code",
      "metadata": {
        "id": "LbftGwJjuWZQ",
        "colab_type": "code",
        "colab": {}
      },
      "source": [
        "import pandas.plotting\n",
        "import operator\n",
        "import bs4 \n",
        "from bs4 import BeautifulSoup\n",
        "import xml\n",
        "import json"
      ],
      "execution_count": 4,
      "outputs": []
    },
    {
      "cell_type": "code",
      "metadata": {
        "id": "6rAia-t5-pVX",
        "colab_type": "code",
        "colab": {}
      },
      "source": [
        "Bwater_1 = pd.read_csv('Last_Bwater_13F.csv')\n",
        "Bwater_2 = pd.read_csv('Prior_Bwater_13F.csv')\n",
        "Bwater_3 = pd.read_csv('lastyr_Bwater_13F.csv')"
      ],
      "execution_count": 5,
      "outputs": []
    },
    {
      "cell_type": "code",
      "metadata": {
        "id": "ONmZ7A7n_JyF",
        "colab_type": "code",
        "colab": {}
      },
      "source": [
        "AQR_1 = pd.read_csv('aqr_recent_13f.csv')\n",
        "AQR_2 = pd.read_csv('aqr_prior_13f.csv')\n",
        "AQR_3 = pd.read_csv('aqr_lastyr_13f.csv')"
      ],
      "execution_count": 6,
      "outputs": []
    },
    {
      "cell_type": "code",
      "metadata": {
        "id": "LuFNaBck_flN",
        "colab_type": "code",
        "colab": {}
      },
      "source": [
        "Ren_1 = pd.read_csv('renaissance_recent_13f.csv')\n",
        "Ren_2 = pd.read_csv('renaissance_prior_13f.csv')\n",
        "Ren_3 = pd.read_csv('renaissance_lastyr.13f.csv')"
      ],
      "execution_count": 7,
      "outputs": []
    },
    {
      "cell_type": "code",
      "metadata": {
        "id": "qG96r5hs_y1W",
        "colab_type": "code",
        "colab": {
          "base_uri": "https://localhost:8080/",
          "height": 282
        },
        "outputId": "fe11c71d-ce41-4c32-d6ac-6df6f5705d5a"
      },
      "source": [
        "Bwater_1.describe()"
      ],
      "execution_count": 8,
      "outputs": [
        {
          "output_type": "execute_result",
          "data": {
            "text/html": [
              "<div>\n",
              "<style scoped>\n",
              "    .dataframe tbody tr th:only-of-type {\n",
              "        vertical-align: middle;\n",
              "    }\n",
              "\n",
              "    .dataframe tbody tr th {\n",
              "        vertical-align: top;\n",
              "    }\n",
              "\n",
              "    .dataframe thead th {\n",
              "        text-align: right;\n",
              "    }\n",
              "</style>\n",
              "<table border=\"1\" class=\"dataframe\">\n",
              "  <thead>\n",
              "    <tr style=\"text-align: right;\">\n",
              "      <th></th>\n",
              "      <th>Values (x$1000)</th>\n",
              "      <th>Shares</th>\n",
              "      <th>SOLE</th>\n",
              "    </tr>\n",
              "  </thead>\n",
              "  <tbody>\n",
              "    <tr>\n",
              "      <th>count</th>\n",
              "      <td>3.330000e+02</td>\n",
              "      <td>3.330000e+02</td>\n",
              "      <td>3.330000e+02</td>\n",
              "    </tr>\n",
              "    <tr>\n",
              "      <th>mean</th>\n",
              "      <td>3.418070e+04</td>\n",
              "      <td>6.286016e+05</td>\n",
              "      <td>6.121297e+05</td>\n",
              "    </tr>\n",
              "    <tr>\n",
              "      <th>std</th>\n",
              "      <td>1.624900e+05</td>\n",
              "      <td>2.744030e+06</td>\n",
              "      <td>2.665917e+06</td>\n",
              "    </tr>\n",
              "    <tr>\n",
              "      <th>min</th>\n",
              "      <td>3.400000e+01</td>\n",
              "      <td>5.690000e+02</td>\n",
              "      <td>5.690000e+02</td>\n",
              "    </tr>\n",
              "    <tr>\n",
              "      <th>25%</th>\n",
              "      <td>6.050000e+02</td>\n",
              "      <td>1.144700e+04</td>\n",
              "      <td>1.144700e+04</td>\n",
              "    </tr>\n",
              "    <tr>\n",
              "      <th>50%</th>\n",
              "      <td>3.366000e+03</td>\n",
              "      <td>5.907200e+04</td>\n",
              "      <td>5.907200e+04</td>\n",
              "    </tr>\n",
              "    <tr>\n",
              "      <th>75%</th>\n",
              "      <td>1.303100e+04</td>\n",
              "      <td>2.240130e+05</td>\n",
              "      <td>2.240130e+05</td>\n",
              "    </tr>\n",
              "    <tr>\n",
              "      <th>max</th>\n",
              "      <td>2.088806e+06</td>\n",
              "      <td>3.738007e+07</td>\n",
              "      <td>3.664067e+07</td>\n",
              "    </tr>\n",
              "  </tbody>\n",
              "</table>\n",
              "</div>"
            ],
            "text/plain": [
              "       Values (x$1000)        Shares          SOLE\n",
              "count     3.330000e+02  3.330000e+02  3.330000e+02\n",
              "mean      3.418070e+04  6.286016e+05  6.121297e+05\n",
              "std       1.624900e+05  2.744030e+06  2.665917e+06\n",
              "min       3.400000e+01  5.690000e+02  5.690000e+02\n",
              "25%       6.050000e+02  1.144700e+04  1.144700e+04\n",
              "50%       3.366000e+03  5.907200e+04  5.907200e+04\n",
              "75%       1.303100e+04  2.240130e+05  2.240130e+05\n",
              "max       2.088806e+06  3.738007e+07  3.664067e+07"
            ]
          },
          "metadata": {
            "tags": []
          },
          "execution_count": 8
        }
      ]
    },
    {
      "cell_type": "code",
      "metadata": {
        "id": "TdapxgWo_7Zx",
        "colab_type": "code",
        "colab": {
          "base_uri": "https://localhost:8080/",
          "height": 194
        },
        "outputId": "a6b4de6f-1698-4344-d5f1-2be937287d4f"
      },
      "source": [
        "Bwater_1.head()"
      ],
      "execution_count": 9,
      "outputs": [
        {
          "output_type": "execute_result",
          "data": {
            "text/html": [
              "<div>\n",
              "<style scoped>\n",
              "    .dataframe tbody tr th:only-of-type {\n",
              "        vertical-align: middle;\n",
              "    }\n",
              "\n",
              "    .dataframe tbody tr th {\n",
              "        vertical-align: top;\n",
              "    }\n",
              "\n",
              "    .dataframe thead th {\n",
              "        text-align: right;\n",
              "    }\n",
              "</style>\n",
              "<table border=\"1\" class=\"dataframe\">\n",
              "  <thead>\n",
              "    <tr style=\"text-align: right;\">\n",
              "      <th></th>\n",
              "      <th>NAME OF ISSUER</th>\n",
              "      <th>TITLE OF CLASS</th>\n",
              "      <th>CUSIP</th>\n",
              "      <th>Values (x$1000)</th>\n",
              "      <th>Shares</th>\n",
              "      <th>PRN</th>\n",
              "      <th>DISCRETION</th>\n",
              "      <th>SOLE</th>\n",
              "    </tr>\n",
              "  </thead>\n",
              "  <tbody>\n",
              "    <tr>\n",
              "      <th>0</th>\n",
              "      <td>3M CO</td>\n",
              "      <td>COM</td>\n",
              "      <td>88579Y101</td>\n",
              "      <td>4579</td>\n",
              "      <td>27853</td>\n",
              "      <td>SH</td>\n",
              "      <td>SOLE</td>\n",
              "      <td>27853</td>\n",
              "    </tr>\n",
              "    <tr>\n",
              "      <th>1</th>\n",
              "      <td>51JOB INC</td>\n",
              "      <td>SPONSORED ADS</td>\n",
              "      <td>316827104</td>\n",
              "      <td>1165</td>\n",
              "      <td>15747</td>\n",
              "      <td>SH</td>\n",
              "      <td>SOLE</td>\n",
              "      <td>15747</td>\n",
              "    </tr>\n",
              "    <tr>\n",
              "      <th>2</th>\n",
              "      <td>58 COM INC</td>\n",
              "      <td>SPON ADR REP A</td>\n",
              "      <td>31680Q104</td>\n",
              "      <td>302</td>\n",
              "      <td>6133</td>\n",
              "      <td>SH</td>\n",
              "      <td>SOLE</td>\n",
              "      <td>6133</td>\n",
              "    </tr>\n",
              "    <tr>\n",
              "      <th>3</th>\n",
              "      <td>AES CORP</td>\n",
              "      <td>COM</td>\n",
              "      <td>00130H105</td>\n",
              "      <td>194</td>\n",
              "      <td>11856</td>\n",
              "      <td>SH</td>\n",
              "      <td>SOLE</td>\n",
              "      <td>11856</td>\n",
              "    </tr>\n",
              "    <tr>\n",
              "      <th>4</th>\n",
              "      <td>AGNICO EAGLE MINES LTD</td>\n",
              "      <td>COM</td>\n",
              "      <td>8474108</td>\n",
              "      <td>6052</td>\n",
              "      <td>112870</td>\n",
              "      <td>SH</td>\n",
              "      <td>SOLE</td>\n",
              "      <td>112870</td>\n",
              "    </tr>\n",
              "  </tbody>\n",
              "</table>\n",
              "</div>"
            ],
            "text/plain": [
              "           NAME OF ISSUER  TITLE OF CLASS      CUSIP  ...  PRN  DISCRETION    SOLE\n",
              "0                   3M CO             COM  88579Y101  ...   SH        SOLE   27853\n",
              "1               51JOB INC   SPONSORED ADS  316827104  ...   SH        SOLE   15747\n",
              "2              58 COM INC  SPON ADR REP A  31680Q104  ...   SH        SOLE    6133\n",
              "3                AES CORP             COM  00130H105  ...   SH        SOLE   11856\n",
              "4  AGNICO EAGLE MINES LTD             COM    8474108  ...   SH        SOLE  112870\n",
              "\n",
              "[5 rows x 8 columns]"
            ]
          },
          "metadata": {
            "tags": []
          },
          "execution_count": 9
        }
      ]
    },
    {
      "cell_type": "code",
      "metadata": {
        "id": "EPZmTcFxABCi",
        "colab_type": "code",
        "colab": {
          "base_uri": "https://localhost:8080/",
          "height": 194
        },
        "outputId": "7a3f7eda-2b54-4d5d-87b9-a3a93486eaeb"
      },
      "source": [
        "Bwater_2.head()"
      ],
      "execution_count": 10,
      "outputs": [
        {
          "output_type": "execute_result",
          "data": {
            "text/html": [
              "<div>\n",
              "<style scoped>\n",
              "    .dataframe tbody tr th:only-of-type {\n",
              "        vertical-align: middle;\n",
              "    }\n",
              "\n",
              "    .dataframe tbody tr th {\n",
              "        vertical-align: top;\n",
              "    }\n",
              "\n",
              "    .dataframe thead th {\n",
              "        text-align: right;\n",
              "    }\n",
              "</style>\n",
              "<table border=\"1\" class=\"dataframe\">\n",
              "  <thead>\n",
              "    <tr style=\"text-align: right;\">\n",
              "      <th></th>\n",
              "      <th>NAME OF ISSUER</th>\n",
              "      <th>TITLE OF CLASS</th>\n",
              "      <th>CUSIP</th>\n",
              "      <th>Values (x$1000)</th>\n",
              "      <th>Shares</th>\n",
              "      <th>PRN</th>\n",
              "      <th>DISCRETION</th>\n",
              "      <th>SOLE</th>\n",
              "    </tr>\n",
              "  </thead>\n",
              "  <tbody>\n",
              "    <tr>\n",
              "      <th>0</th>\n",
              "      <td>3-D SYS CORP DEL</td>\n",
              "      <td>COM NEW</td>\n",
              "      <td>88554D205</td>\n",
              "      <td>238</td>\n",
              "      <td>27211</td>\n",
              "      <td>SH</td>\n",
              "      <td>SOLE</td>\n",
              "      <td>27211</td>\n",
              "    </tr>\n",
              "    <tr>\n",
              "      <th>1</th>\n",
              "      <td>51JOB INC</td>\n",
              "      <td>SPONSORED ADS</td>\n",
              "      <td>316827104</td>\n",
              "      <td>1290</td>\n",
              "      <td>15200</td>\n",
              "      <td>SH</td>\n",
              "      <td>SOLE</td>\n",
              "      <td>15200</td>\n",
              "    </tr>\n",
              "    <tr>\n",
              "      <th>2</th>\n",
              "      <td>58 COM INC</td>\n",
              "      <td>SPON ADR REP A</td>\n",
              "      <td>31680Q104</td>\n",
              "      <td>547</td>\n",
              "      <td>8456</td>\n",
              "      <td>SH</td>\n",
              "      <td>SOLE</td>\n",
              "      <td>8456</td>\n",
              "    </tr>\n",
              "    <tr>\n",
              "      <th>3</th>\n",
              "      <td>ACTIVISION BLIZZARD INC</td>\n",
              "      <td>COM</td>\n",
              "      <td>00507V109</td>\n",
              "      <td>2442</td>\n",
              "      <td>41092</td>\n",
              "      <td>SH</td>\n",
              "      <td>SOLE</td>\n",
              "      <td>41092</td>\n",
              "    </tr>\n",
              "    <tr>\n",
              "      <th>4</th>\n",
              "      <td>ACUITY BRANDS INC</td>\n",
              "      <td>COM</td>\n",
              "      <td>00508Y102</td>\n",
              "      <td>1263</td>\n",
              "      <td>9154</td>\n",
              "      <td>SH</td>\n",
              "      <td>SOLE</td>\n",
              "      <td>9154</td>\n",
              "    </tr>\n",
              "  </tbody>\n",
              "</table>\n",
              "</div>"
            ],
            "text/plain": [
              "            NAME OF ISSUER  TITLE OF CLASS      CUSIP  ...  PRN  DISCRETION   SOLE\n",
              "0         3-D SYS CORP DEL         COM NEW  88554D205  ...   SH        SOLE  27211\n",
              "1                51JOB INC   SPONSORED ADS  316827104  ...   SH        SOLE  15200\n",
              "2               58 COM INC  SPON ADR REP A  31680Q104  ...   SH        SOLE   8456\n",
              "3  ACTIVISION BLIZZARD INC             COM  00507V109  ...   SH        SOLE  41092\n",
              "4        ACUITY BRANDS INC             COM  00508Y102  ...   SH        SOLE   9154\n",
              "\n",
              "[5 rows x 8 columns]"
            ]
          },
          "metadata": {
            "tags": []
          },
          "execution_count": 10
        }
      ]
    },
    {
      "cell_type": "code",
      "metadata": {
        "id": "-L2uJ5VXAJQm",
        "colab_type": "code",
        "colab": {}
      },
      "source": [
        "fortress = pd.read_html('https://www.sec.gov/Archives/edgar/data/1380393/000108514620001570/xslForm13F_X01/form13fInfoTable.xml')"
      ],
      "execution_count": 11,
      "outputs": []
    },
    {
      "cell_type": "code",
      "metadata": {
        "id": "duYlHjkvBDpu",
        "colab_type": "code",
        "colab": {}
      },
      "source": [
        "fortress_last = pd.DataFrame(fortress[3])"
      ],
      "execution_count": 12,
      "outputs": []
    },
    {
      "cell_type": "code",
      "metadata": {
        "id": "2jy389JyBJTI",
        "colab_type": "code",
        "colab": {}
      },
      "source": [
        "fortress_2 = pd.read_html('https://www.sec.gov/Archives/edgar/data/1380393/000108514620000779/xslForm13F_X01/form13fInfoTable.xml')"
      ],
      "execution_count": 13,
      "outputs": []
    },
    {
      "cell_type": "code",
      "metadata": {
        "id": "AXI2zlnuBR_7",
        "colab_type": "code",
        "colab": {}
      },
      "source": [
        "fortress_prior = pd.DataFrame(fortress_2[3])"
      ],
      "execution_count": 14,
      "outputs": []
    },
    {
      "cell_type": "code",
      "metadata": {
        "id": "0HPAq-7kBXQV",
        "colab_type": "code",
        "colab": {}
      },
      "source": [
        "fortress_3 = pd.read_html('https://www.sec.gov/Archives/edgar/data/1380393/000108514619002995/xslForm13F_X01/form13fInfoTable.xml')"
      ],
      "execution_count": 15,
      "outputs": []
    },
    {
      "cell_type": "code",
      "metadata": {
        "id": "f58VndldBgrp",
        "colab_type": "code",
        "colab": {}
      },
      "source": [
        "fortress_lastyr = pd.DataFrame(fortress_3[3])"
      ],
      "execution_count": 16,
      "outputs": []
    },
    {
      "cell_type": "code",
      "metadata": {
        "id": "ecuEwGGrBl1D",
        "colab_type": "code",
        "colab": {}
      },
      "source": [
        "fortress_last.to_csv('fortress_recent_13f.csv', index=False)\n",
        "fortress_prior.to_csv('fortress_prior_13f.csv', index=False)\n",
        "fortress_lastyr.to_csv('fortress_lastyr_13f', index=False)"
      ],
      "execution_count": 17,
      "outputs": []
    },
    {
      "cell_type": "code",
      "metadata": {
        "id": "jNdXVa7WB7Q-",
        "colab_type": "code",
        "colab": {}
      },
      "source": [
        "B =operator.mul(Bwater_1['Values (x$1000)'], 1000)"
      ],
      "execution_count": 18,
      "outputs": []
    },
    {
      "cell_type": "code",
      "metadata": {
        "id": "ipJc3SGyCze0",
        "colab_type": "code",
        "colab": {}
      },
      "source": [
        "Bwater_1['Tot_Value']=(B)"
      ],
      "execution_count": 19,
      "outputs": []
    },
    {
      "cell_type": "code",
      "metadata": {
        "id": "mitjcPDRC4gk",
        "colab_type": "code",
        "colab": {}
      },
      "source": [
        "BW = operator.mul(Bwater_2['Values (x$1000)'], 1000)"
      ],
      "execution_count": 20,
      "outputs": []
    },
    {
      "cell_type": "code",
      "metadata": {
        "id": "E3h6nIqkC-eP",
        "colab_type": "code",
        "colab": {}
      },
      "source": [
        "Bwater_2['Tot_Value']=(BW)"
      ],
      "execution_count": 21,
      "outputs": []
    },
    {
      "cell_type": "code",
      "metadata": {
        "id": "O4xUgntFDCLw",
        "colab_type": "code",
        "colab": {}
      },
      "source": [
        "BWW = operator.mul(Bwater_3['Shares (x$1000)'], 1000)"
      ],
      "execution_count": 22,
      "outputs": []
    },
    {
      "cell_type": "code",
      "metadata": {
        "id": "jKgucJ-9DK-k",
        "colab_type": "code",
        "colab": {}
      },
      "source": [
        "Bwater_3['Tot_Value']=(BWW)"
      ],
      "execution_count": 23,
      "outputs": []
    },
    {
      "cell_type": "code",
      "metadata": {
        "id": "lEweiqf4DOT1",
        "colab_type": "code",
        "colab": {
          "base_uri": "https://localhost:8080/",
          "height": 282
        },
        "outputId": "a209ba05-31bf-414e-c644-0b0ce1c62d9f"
      },
      "source": [
        "Bwater_1.describe()"
      ],
      "execution_count": 24,
      "outputs": [
        {
          "output_type": "execute_result",
          "data": {
            "text/html": [
              "<div>\n",
              "<style scoped>\n",
              "    .dataframe tbody tr th:only-of-type {\n",
              "        vertical-align: middle;\n",
              "    }\n",
              "\n",
              "    .dataframe tbody tr th {\n",
              "        vertical-align: top;\n",
              "    }\n",
              "\n",
              "    .dataframe thead th {\n",
              "        text-align: right;\n",
              "    }\n",
              "</style>\n",
              "<table border=\"1\" class=\"dataframe\">\n",
              "  <thead>\n",
              "    <tr style=\"text-align: right;\">\n",
              "      <th></th>\n",
              "      <th>Values (x$1000)</th>\n",
              "      <th>Shares</th>\n",
              "      <th>SOLE</th>\n",
              "      <th>Tot_Value</th>\n",
              "    </tr>\n",
              "  </thead>\n",
              "  <tbody>\n",
              "    <tr>\n",
              "      <th>count</th>\n",
              "      <td>3.330000e+02</td>\n",
              "      <td>3.330000e+02</td>\n",
              "      <td>3.330000e+02</td>\n",
              "      <td>3.330000e+02</td>\n",
              "    </tr>\n",
              "    <tr>\n",
              "      <th>mean</th>\n",
              "      <td>3.418070e+04</td>\n",
              "      <td>6.286016e+05</td>\n",
              "      <td>6.121297e+05</td>\n",
              "      <td>3.418070e+07</td>\n",
              "    </tr>\n",
              "    <tr>\n",
              "      <th>std</th>\n",
              "      <td>1.624900e+05</td>\n",
              "      <td>2.744030e+06</td>\n",
              "      <td>2.665917e+06</td>\n",
              "      <td>1.624900e+08</td>\n",
              "    </tr>\n",
              "    <tr>\n",
              "      <th>min</th>\n",
              "      <td>3.400000e+01</td>\n",
              "      <td>5.690000e+02</td>\n",
              "      <td>5.690000e+02</td>\n",
              "      <td>3.400000e+04</td>\n",
              "    </tr>\n",
              "    <tr>\n",
              "      <th>25%</th>\n",
              "      <td>6.050000e+02</td>\n",
              "      <td>1.144700e+04</td>\n",
              "      <td>1.144700e+04</td>\n",
              "      <td>6.050000e+05</td>\n",
              "    </tr>\n",
              "    <tr>\n",
              "      <th>50%</th>\n",
              "      <td>3.366000e+03</td>\n",
              "      <td>5.907200e+04</td>\n",
              "      <td>5.907200e+04</td>\n",
              "      <td>3.366000e+06</td>\n",
              "    </tr>\n",
              "    <tr>\n",
              "      <th>75%</th>\n",
              "      <td>1.303100e+04</td>\n",
              "      <td>2.240130e+05</td>\n",
              "      <td>2.240130e+05</td>\n",
              "      <td>1.303100e+07</td>\n",
              "    </tr>\n",
              "    <tr>\n",
              "      <th>max</th>\n",
              "      <td>2.088806e+06</td>\n",
              "      <td>3.738007e+07</td>\n",
              "      <td>3.664067e+07</td>\n",
              "      <td>2.088806e+09</td>\n",
              "    </tr>\n",
              "  </tbody>\n",
              "</table>\n",
              "</div>"
            ],
            "text/plain": [
              "       Values (x$1000)        Shares          SOLE     Tot_Value\n",
              "count     3.330000e+02  3.330000e+02  3.330000e+02  3.330000e+02\n",
              "mean      3.418070e+04  6.286016e+05  6.121297e+05  3.418070e+07\n",
              "std       1.624900e+05  2.744030e+06  2.665917e+06  1.624900e+08\n",
              "min       3.400000e+01  5.690000e+02  5.690000e+02  3.400000e+04\n",
              "25%       6.050000e+02  1.144700e+04  1.144700e+04  6.050000e+05\n",
              "50%       3.366000e+03  5.907200e+04  5.907200e+04  3.366000e+06\n",
              "75%       1.303100e+04  2.240130e+05  2.240130e+05  1.303100e+07\n",
              "max       2.088806e+06  3.738007e+07  3.664067e+07  2.088806e+09"
            ]
          },
          "metadata": {
            "tags": []
          },
          "execution_count": 24
        }
      ]
    },
    {
      "cell_type": "code",
      "metadata": {
        "id": "70u5dWR9DS9n",
        "colab_type": "code",
        "colab": {}
      },
      "source": [
        "Bwater_1_LG = Bwater_1.loc[(Bwater_1['Tot_Value'])>40000000]"
      ],
      "execution_count": 26,
      "outputs": []
    },
    {
      "cell_type": "code",
      "metadata": {
        "id": "qdJtm39KDmhX",
        "colab_type": "code",
        "colab": {
          "base_uri": "https://localhost:8080/",
          "height": 34
        },
        "outputId": "eeb13ca3-12bf-426b-85e1-f0c245a3f68d"
      },
      "source": [
        "len(Bwater_1_LG)"
      ],
      "execution_count": 27,
      "outputs": [
        {
          "output_type": "execute_result",
          "data": {
            "text/plain": [
              "28"
            ]
          },
          "metadata": {
            "tags": []
          },
          "execution_count": 27
        }
      ]
    },
    {
      "cell_type": "code",
      "metadata": {
        "id": "WFjHejpnD3zG",
        "colab_type": "code",
        "colab": {
          "base_uri": "https://localhost:8080/",
          "height": 282
        },
        "outputId": "4ba0f385-a151-403c-e3ba-eaa6ded57550"
      },
      "source": [
        "Bwater_2.describe()"
      ],
      "execution_count": 28,
      "outputs": [
        {
          "output_type": "execute_result",
          "data": {
            "text/html": [
              "<div>\n",
              "<style scoped>\n",
              "    .dataframe tbody tr th:only-of-type {\n",
              "        vertical-align: middle;\n",
              "    }\n",
              "\n",
              "    .dataframe tbody tr th {\n",
              "        vertical-align: top;\n",
              "    }\n",
              "\n",
              "    .dataframe thead th {\n",
              "        text-align: right;\n",
              "    }\n",
              "</style>\n",
              "<table border=\"1\" class=\"dataframe\">\n",
              "  <thead>\n",
              "    <tr style=\"text-align: right;\">\n",
              "      <th></th>\n",
              "      <th>Values (x$1000)</th>\n",
              "      <th>Shares</th>\n",
              "      <th>SOLE</th>\n",
              "      <th>Tot_Value</th>\n",
              "    </tr>\n",
              "  </thead>\n",
              "  <tbody>\n",
              "    <tr>\n",
              "      <th>count</th>\n",
              "      <td>4.710000e+02</td>\n",
              "      <td>4.710000e+02</td>\n",
              "      <td>4.710000e+02</td>\n",
              "      <td>4.710000e+02</td>\n",
              "    </tr>\n",
              "    <tr>\n",
              "      <th>mean</th>\n",
              "      <td>2.079445e+04</td>\n",
              "      <td>2.903188e+05</td>\n",
              "      <td>2.796462e+05</td>\n",
              "      <td>2.079445e+07</td>\n",
              "    </tr>\n",
              "    <tr>\n",
              "      <th>std</th>\n",
              "      <td>1.295618e+05</td>\n",
              "      <td>1.518812e+06</td>\n",
              "      <td>1.450701e+06</td>\n",
              "      <td>1.295618e+08</td>\n",
              "    </tr>\n",
              "    <tr>\n",
              "      <th>min</th>\n",
              "      <td>1.490000e+02</td>\n",
              "      <td>5.800000e+02</td>\n",
              "      <td>5.800000e+02</td>\n",
              "      <td>1.490000e+05</td>\n",
              "    </tr>\n",
              "    <tr>\n",
              "      <th>25%</th>\n",
              "      <td>7.880000e+02</td>\n",
              "      <td>1.297750e+04</td>\n",
              "      <td>1.297750e+04</td>\n",
              "      <td>7.880000e+05</td>\n",
              "    </tr>\n",
              "    <tr>\n",
              "      <th>50%</th>\n",
              "      <td>1.700000e+03</td>\n",
              "      <td>3.200300e+04</td>\n",
              "      <td>3.200300e+04</td>\n",
              "      <td>1.700000e+06</td>\n",
              "    </tr>\n",
              "    <tr>\n",
              "      <th>75%</th>\n",
              "      <td>4.307000e+03</td>\n",
              "      <td>8.798050e+04</td>\n",
              "      <td>8.798050e+04</td>\n",
              "      <td>4.307000e+06</td>\n",
              "    </tr>\n",
              "    <tr>\n",
              "      <th>max</th>\n",
              "      <td>2.249694e+06</td>\n",
              "      <td>2.475765e+07</td>\n",
              "      <td>2.401608e+07</td>\n",
              "      <td>2.249694e+09</td>\n",
              "    </tr>\n",
              "  </tbody>\n",
              "</table>\n",
              "</div>"
            ],
            "text/plain": [
              "       Values (x$1000)        Shares          SOLE     Tot_Value\n",
              "count     4.710000e+02  4.710000e+02  4.710000e+02  4.710000e+02\n",
              "mean      2.079445e+04  2.903188e+05  2.796462e+05  2.079445e+07\n",
              "std       1.295618e+05  1.518812e+06  1.450701e+06  1.295618e+08\n",
              "min       1.490000e+02  5.800000e+02  5.800000e+02  1.490000e+05\n",
              "25%       7.880000e+02  1.297750e+04  1.297750e+04  7.880000e+05\n",
              "50%       1.700000e+03  3.200300e+04  3.200300e+04  1.700000e+06\n",
              "75%       4.307000e+03  8.798050e+04  8.798050e+04  4.307000e+06\n",
              "max       2.249694e+06  2.475765e+07  2.401608e+07  2.249694e+09"
            ]
          },
          "metadata": {
            "tags": []
          },
          "execution_count": 28
        }
      ]
    },
    {
      "cell_type": "code",
      "metadata": {
        "id": "spOFfcFQD6x3",
        "colab_type": "code",
        "colab": {}
      },
      "source": [
        "Bwater_2_LG = Bwater_2.loc[(Bwater_2['Tot_Value'])>30000000]"
      ],
      "execution_count": 29,
      "outputs": []
    },
    {
      "cell_type": "code",
      "metadata": {
        "id": "qbp-z3mQEYMr",
        "colab_type": "code",
        "colab": {
          "base_uri": "https://localhost:8080/",
          "height": 34
        },
        "outputId": "be31eafc-4cc8-48a5-d2d8-56f9206fb256"
      },
      "source": [
        "len(Bwater_2_LG)"
      ],
      "execution_count": 30,
      "outputs": [
        {
          "output_type": "execute_result",
          "data": {
            "text/plain": [
              "29"
            ]
          },
          "metadata": {
            "tags": []
          },
          "execution_count": 30
        }
      ]
    },
    {
      "cell_type": "code",
      "metadata": {
        "id": "tFRG_kqIEZ4E",
        "colab_type": "code",
        "colab": {
          "base_uri": "https://localhost:8080/",
          "height": 282
        },
        "outputId": "eade6a73-7bc9-4b4f-f400-30484e205ca8"
      },
      "source": [
        "Bwater_3.describe()"
      ],
      "execution_count": 31,
      "outputs": [
        {
          "output_type": "execute_result",
          "data": {
            "text/html": [
              "<div>\n",
              "<style scoped>\n",
              "    .dataframe tbody tr th:only-of-type {\n",
              "        vertical-align: middle;\n",
              "    }\n",
              "\n",
              "    .dataframe tbody tr th {\n",
              "        vertical-align: top;\n",
              "    }\n",
              "\n",
              "    .dataframe thead th {\n",
              "        text-align: right;\n",
              "    }\n",
              "</style>\n",
              "<table border=\"1\" class=\"dataframe\">\n",
              "  <thead>\n",
              "    <tr style=\"text-align: right;\">\n",
              "      <th></th>\n",
              "      <th>Shares (x$1000)</th>\n",
              "      <th>Shares</th>\n",
              "      <th>SOLE</th>\n",
              "      <th>Tot_Value</th>\n",
              "    </tr>\n",
              "  </thead>\n",
              "  <tbody>\n",
              "    <tr>\n",
              "      <th>count</th>\n",
              "      <td>3.330000e+02</td>\n",
              "      <td>3.330000e+02</td>\n",
              "      <td>3.330000e+02</td>\n",
              "      <td>3.330000e+02</td>\n",
              "    </tr>\n",
              "    <tr>\n",
              "      <th>mean</th>\n",
              "      <td>3.418070e+04</td>\n",
              "      <td>6.286016e+05</td>\n",
              "      <td>6.121297e+05</td>\n",
              "      <td>3.418070e+07</td>\n",
              "    </tr>\n",
              "    <tr>\n",
              "      <th>std</th>\n",
              "      <td>1.624900e+05</td>\n",
              "      <td>2.744030e+06</td>\n",
              "      <td>2.665917e+06</td>\n",
              "      <td>1.624900e+08</td>\n",
              "    </tr>\n",
              "    <tr>\n",
              "      <th>min</th>\n",
              "      <td>3.400000e+01</td>\n",
              "      <td>5.690000e+02</td>\n",
              "      <td>5.690000e+02</td>\n",
              "      <td>3.400000e+04</td>\n",
              "    </tr>\n",
              "    <tr>\n",
              "      <th>25%</th>\n",
              "      <td>6.050000e+02</td>\n",
              "      <td>1.144700e+04</td>\n",
              "      <td>1.144700e+04</td>\n",
              "      <td>6.050000e+05</td>\n",
              "    </tr>\n",
              "    <tr>\n",
              "      <th>50%</th>\n",
              "      <td>3.366000e+03</td>\n",
              "      <td>5.907200e+04</td>\n",
              "      <td>5.907200e+04</td>\n",
              "      <td>3.366000e+06</td>\n",
              "    </tr>\n",
              "    <tr>\n",
              "      <th>75%</th>\n",
              "      <td>1.303100e+04</td>\n",
              "      <td>2.240130e+05</td>\n",
              "      <td>2.240130e+05</td>\n",
              "      <td>1.303100e+07</td>\n",
              "    </tr>\n",
              "    <tr>\n",
              "      <th>max</th>\n",
              "      <td>2.088806e+06</td>\n",
              "      <td>3.738007e+07</td>\n",
              "      <td>3.664067e+07</td>\n",
              "      <td>2.088806e+09</td>\n",
              "    </tr>\n",
              "  </tbody>\n",
              "</table>\n",
              "</div>"
            ],
            "text/plain": [
              "       Shares (x$1000)       Shares           SOLE     Tot_Value\n",
              "count     3.330000e+02  3.330000e+02  3.330000e+02  3.330000e+02\n",
              "mean      3.418070e+04  6.286016e+05  6.121297e+05  3.418070e+07\n",
              "std       1.624900e+05  2.744030e+06  2.665917e+06  1.624900e+08\n",
              "min       3.400000e+01  5.690000e+02  5.690000e+02  3.400000e+04\n",
              "25%       6.050000e+02  1.144700e+04  1.144700e+04  6.050000e+05\n",
              "50%       3.366000e+03  5.907200e+04  5.907200e+04  3.366000e+06\n",
              "75%       1.303100e+04  2.240130e+05  2.240130e+05  1.303100e+07\n",
              "max       2.088806e+06  3.738007e+07  3.664067e+07  2.088806e+09"
            ]
          },
          "metadata": {
            "tags": []
          },
          "execution_count": 31
        }
      ]
    },
    {
      "cell_type": "code",
      "metadata": {
        "id": "6BKMdPmFEvrU",
        "colab_type": "code",
        "colab": {}
      },
      "source": [
        "Bwater_3_LG = Bwater_3.loc[(Bwater_3['Tot_Value'])>40000000]"
      ],
      "execution_count": 32,
      "outputs": []
    },
    {
      "cell_type": "code",
      "metadata": {
        "id": "tpSgw918FTqi",
        "colab_type": "code",
        "colab": {
          "base_uri": "https://localhost:8080/",
          "height": 34
        },
        "outputId": "a31de38b-4eef-4b5c-e016-cf3fb041b8f0"
      },
      "source": [
        "len(Bwater_3_LG)"
      ],
      "execution_count": 33,
      "outputs": [
        {
          "output_type": "execute_result",
          "data": {
            "text/plain": [
              "28"
            ]
          },
          "metadata": {
            "tags": []
          },
          "execution_count": 33
        }
      ]
    },
    {
      "cell_type": "code",
      "metadata": {
        "id": "NskGCTc5FWM7",
        "colab_type": "code",
        "colab": {}
      },
      "source": [
        "Bwater_1_LG.to_csv('Bwater_Current_LGholdings.csv', index=False)"
      ],
      "execution_count": 37,
      "outputs": []
    },
    {
      "cell_type": "code",
      "metadata": {
        "id": "2oJUJrYVFYDs",
        "colab_type": "code",
        "colab": {}
      },
      "source": [
        "Bwater_2_LG.to_csv('Bwater_Prior_LGholdings.csv', index=False)"
      ],
      "execution_count": 38,
      "outputs": []
    },
    {
      "cell_type": "code",
      "metadata": {
        "id": "r24__QL0FtEW",
        "colab_type": "code",
        "colab": {}
      },
      "source": [
        "Bwater_3_LG.to_csv('Bwater_Lastyr_LGholdings.csv', index=False)"
      ],
      "execution_count": 39,
      "outputs": []
    },
    {
      "cell_type": "code",
      "metadata": {
        "id": "G220NmEaFumm",
        "colab_type": "code",
        "colab": {}
      },
      "source": [
        "A = operator.mul(AQR_1['Values (x$1000)'], 1000)"
      ],
      "execution_count": 40,
      "outputs": []
    },
    {
      "cell_type": "code",
      "metadata": {
        "id": "xTtQZbHEGsS4",
        "colab_type": "code",
        "colab": {}
      },
      "source": [
        "AQ = operator.mul(AQR_2['Values (x$1000)'], 1000)"
      ],
      "execution_count": 41,
      "outputs": []
    },
    {
      "cell_type": "code",
      "metadata": {
        "id": "Uh4UoS5UGx3g",
        "colab_type": "code",
        "colab": {}
      },
      "source": [
        "AQR = operator.mul(AQR_3['Values (x$1000)'], 1000)"
      ],
      "execution_count": 42,
      "outputs": []
    },
    {
      "cell_type": "code",
      "metadata": {
        "id": "ZEsTOJo2G3Oq",
        "colab_type": "code",
        "colab": {}
      },
      "source": [
        "AQR_1['Tot_Value']=(A)"
      ],
      "execution_count": 43,
      "outputs": []
    },
    {
      "cell_type": "code",
      "metadata": {
        "id": "kl5C7jPnG7yV",
        "colab_type": "code",
        "colab": {}
      },
      "source": [
        "AQR_2['Tot_Value']=(AQ)"
      ],
      "execution_count": 44,
      "outputs": []
    },
    {
      "cell_type": "code",
      "metadata": {
        "id": "bLBalHCzG_ZW",
        "colab_type": "code",
        "colab": {}
      },
      "source": [
        "AQR_3['Tot_Value']=(AQR)"
      ],
      "execution_count": 45,
      "outputs": []
    },
    {
      "cell_type": "code",
      "metadata": {
        "id": "4xPDv91eHEOY",
        "colab_type": "code",
        "colab": {
          "base_uri": "https://localhost:8080/",
          "height": 282
        },
        "outputId": "60c13c17-5c35-4ab8-873f-63ecd9736547"
      },
      "source": [
        "AQR_1.describe()"
      ],
      "execution_count": 46,
      "outputs": [
        {
          "output_type": "execute_result",
          "data": {
            "text/html": [
              "<div>\n",
              "<style scoped>\n",
              "    .dataframe tbody tr th:only-of-type {\n",
              "        vertical-align: middle;\n",
              "    }\n",
              "\n",
              "    .dataframe tbody tr th {\n",
              "        vertical-align: top;\n",
              "    }\n",
              "\n",
              "    .dataframe thead th {\n",
              "        text-align: right;\n",
              "    }\n",
              "</style>\n",
              "<table border=\"1\" class=\"dataframe\">\n",
              "  <thead>\n",
              "    <tr style=\"text-align: right;\">\n",
              "      <th></th>\n",
              "      <th>Values (x$1000)</th>\n",
              "      <th>Shares</th>\n",
              "      <th>SOLE</th>\n",
              "      <th>Tot_Value</th>\n",
              "    </tr>\n",
              "  </thead>\n",
              "  <tbody>\n",
              "    <tr>\n",
              "      <th>count</th>\n",
              "      <td>563.000000</td>\n",
              "      <td>5.630000e+02</td>\n",
              "      <td>5.630000e+02</td>\n",
              "      <td>5.630000e+02</td>\n",
              "    </tr>\n",
              "    <tr>\n",
              "      <th>mean</th>\n",
              "      <td>5310.721137</td>\n",
              "      <td>2.083133e+06</td>\n",
              "      <td>2.083133e+06</td>\n",
              "      <td>5.310721e+06</td>\n",
              "    </tr>\n",
              "    <tr>\n",
              "      <th>std</th>\n",
              "      <td>10827.625920</td>\n",
              "      <td>4.683487e+06</td>\n",
              "      <td>4.683487e+06</td>\n",
              "      <td>1.082763e+07</td>\n",
              "    </tr>\n",
              "    <tr>\n",
              "      <th>min</th>\n",
              "      <td>6.000000</td>\n",
              "      <td>2.360000e+02</td>\n",
              "      <td>2.360000e+02</td>\n",
              "      <td>6.000000e+03</td>\n",
              "    </tr>\n",
              "    <tr>\n",
              "      <th>25%</th>\n",
              "      <td>245.500000</td>\n",
              "      <td>4.503950e+04</td>\n",
              "      <td>4.503950e+04</td>\n",
              "      <td>2.455000e+05</td>\n",
              "    </tr>\n",
              "    <tr>\n",
              "      <th>50%</th>\n",
              "      <td>918.000000</td>\n",
              "      <td>2.750000e+05</td>\n",
              "      <td>2.750000e+05</td>\n",
              "      <td>9.180000e+05</td>\n",
              "    </tr>\n",
              "    <tr>\n",
              "      <th>75%</th>\n",
              "      <td>5583.000000</td>\n",
              "      <td>1.188615e+06</td>\n",
              "      <td>1.188615e+06</td>\n",
              "      <td>5.583000e+06</td>\n",
              "    </tr>\n",
              "    <tr>\n",
              "      <th>max</th>\n",
              "      <td>78616.000000</td>\n",
              "      <td>4.047000e+07</td>\n",
              "      <td>4.047000e+07</td>\n",
              "      <td>7.861600e+07</td>\n",
              "    </tr>\n",
              "  </tbody>\n",
              "</table>\n",
              "</div>"
            ],
            "text/plain": [
              "       Values (x$1000)        Shares          SOLE     Tot_Value\n",
              "count       563.000000  5.630000e+02  5.630000e+02  5.630000e+02\n",
              "mean       5310.721137  2.083133e+06  2.083133e+06  5.310721e+06\n",
              "std       10827.625920  4.683487e+06  4.683487e+06  1.082763e+07\n",
              "min           6.000000  2.360000e+02  2.360000e+02  6.000000e+03\n",
              "25%         245.500000  4.503950e+04  4.503950e+04  2.455000e+05\n",
              "50%         918.000000  2.750000e+05  2.750000e+05  9.180000e+05\n",
              "75%        5583.000000  1.188615e+06  1.188615e+06  5.583000e+06\n",
              "max       78616.000000  4.047000e+07  4.047000e+07  7.861600e+07"
            ]
          },
          "metadata": {
            "tags": []
          },
          "execution_count": 46
        }
      ]
    },
    {
      "cell_type": "code",
      "metadata": {
        "id": "ID42h6wPHGz6",
        "colab_type": "code",
        "colab": {
          "base_uri": "https://localhost:8080/",
          "height": 282
        },
        "outputId": "6a3d3214-2573-4272-a32b-08bd58e0d3e1"
      },
      "source": [
        "AQR_2.describe()"
      ],
      "execution_count": 47,
      "outputs": [
        {
          "output_type": "execute_result",
          "data": {
            "text/html": [
              "<div>\n",
              "<style scoped>\n",
              "    .dataframe tbody tr th:only-of-type {\n",
              "        vertical-align: middle;\n",
              "    }\n",
              "\n",
              "    .dataframe tbody tr th {\n",
              "        vertical-align: top;\n",
              "    }\n",
              "\n",
              "    .dataframe thead th {\n",
              "        text-align: right;\n",
              "    }\n",
              "</style>\n",
              "<table border=\"1\" class=\"dataframe\">\n",
              "  <thead>\n",
              "    <tr style=\"text-align: right;\">\n",
              "      <th></th>\n",
              "      <th>Values (x$1000)</th>\n",
              "      <th>Shares</th>\n",
              "      <th>SOLE</th>\n",
              "      <th>Tot_Value</th>\n",
              "    </tr>\n",
              "  </thead>\n",
              "  <tbody>\n",
              "    <tr>\n",
              "      <th>count</th>\n",
              "      <td>459.000000</td>\n",
              "      <td>4.590000e+02</td>\n",
              "      <td>4.590000e+02</td>\n",
              "      <td>4.590000e+02</td>\n",
              "    </tr>\n",
              "    <tr>\n",
              "      <th>mean</th>\n",
              "      <td>12903.437908</td>\n",
              "      <td>4.061650e+06</td>\n",
              "      <td>4.061650e+06</td>\n",
              "      <td>1.290344e+07</td>\n",
              "    </tr>\n",
              "    <tr>\n",
              "      <th>std</th>\n",
              "      <td>28134.280525</td>\n",
              "      <td>9.304008e+06</td>\n",
              "      <td>9.304008e+06</td>\n",
              "      <td>2.813428e+07</td>\n",
              "    </tr>\n",
              "    <tr>\n",
              "      <th>min</th>\n",
              "      <td>4.000000</td>\n",
              "      <td>1.949000e+03</td>\n",
              "      <td>1.949000e+03</td>\n",
              "      <td>4.000000e+03</td>\n",
              "    </tr>\n",
              "    <tr>\n",
              "      <th>25%</th>\n",
              "      <td>532.500000</td>\n",
              "      <td>1.158330e+05</td>\n",
              "      <td>1.158330e+05</td>\n",
              "      <td>5.325000e+05</td>\n",
              "    </tr>\n",
              "    <tr>\n",
              "      <th>50%</th>\n",
              "      <td>3478.000000</td>\n",
              "      <td>5.000000e+05</td>\n",
              "      <td>5.000000e+05</td>\n",
              "      <td>3.478000e+06</td>\n",
              "    </tr>\n",
              "    <tr>\n",
              "      <th>75%</th>\n",
              "      <td>11251.500000</td>\n",
              "      <td>2.125000e+06</td>\n",
              "      <td>2.125000e+06</td>\n",
              "      <td>1.125150e+07</td>\n",
              "    </tr>\n",
              "    <tr>\n",
              "      <th>max</th>\n",
              "      <td>226081.000000</td>\n",
              "      <td>9.380000e+07</td>\n",
              "      <td>9.380000e+07</td>\n",
              "      <td>2.260810e+08</td>\n",
              "    </tr>\n",
              "  </tbody>\n",
              "</table>\n",
              "</div>"
            ],
            "text/plain": [
              "       Values (x$1000)        Shares          SOLE     Tot_Value\n",
              "count       459.000000  4.590000e+02  4.590000e+02  4.590000e+02\n",
              "mean      12903.437908  4.061650e+06  4.061650e+06  1.290344e+07\n",
              "std       28134.280525  9.304008e+06  9.304008e+06  2.813428e+07\n",
              "min           4.000000  1.949000e+03  1.949000e+03  4.000000e+03\n",
              "25%         532.500000  1.158330e+05  1.158330e+05  5.325000e+05\n",
              "50%        3478.000000  5.000000e+05  5.000000e+05  3.478000e+06\n",
              "75%       11251.500000  2.125000e+06  2.125000e+06  1.125150e+07\n",
              "max      226081.000000  9.380000e+07  9.380000e+07  2.260810e+08"
            ]
          },
          "metadata": {
            "tags": []
          },
          "execution_count": 47
        }
      ]
    },
    {
      "cell_type": "code",
      "metadata": {
        "id": "6yRHCQqJHb7K",
        "colab_type": "code",
        "colab": {
          "base_uri": "https://localhost:8080/",
          "height": 282
        },
        "outputId": "ba12a8d4-0797-4508-b83c-c251b9142fcd"
      },
      "source": [
        "AQR_3.describe()"
      ],
      "execution_count": 48,
      "outputs": [
        {
          "output_type": "execute_result",
          "data": {
            "text/html": [
              "<div>\n",
              "<style scoped>\n",
              "    .dataframe tbody tr th:only-of-type {\n",
              "        vertical-align: middle;\n",
              "    }\n",
              "\n",
              "    .dataframe tbody tr th {\n",
              "        vertical-align: top;\n",
              "    }\n",
              "\n",
              "    .dataframe thead th {\n",
              "        text-align: right;\n",
              "    }\n",
              "</style>\n",
              "<table border=\"1\" class=\"dataframe\">\n",
              "  <thead>\n",
              "    <tr style=\"text-align: right;\">\n",
              "      <th></th>\n",
              "      <th>Values (x$1000)</th>\n",
              "      <th>Shares</th>\n",
              "      <th>SOLE</th>\n",
              "      <th>Tot_Value</th>\n",
              "    </tr>\n",
              "  </thead>\n",
              "  <tbody>\n",
              "    <tr>\n",
              "      <th>count</th>\n",
              "      <td>449.000000</td>\n",
              "      <td>4.490000e+02</td>\n",
              "      <td>4.490000e+02</td>\n",
              "      <td>4.490000e+02</td>\n",
              "    </tr>\n",
              "    <tr>\n",
              "      <th>mean</th>\n",
              "      <td>15219.997773</td>\n",
              "      <td>4.673814e+06</td>\n",
              "      <td>4.673814e+06</td>\n",
              "      <td>1.522000e+07</td>\n",
              "    </tr>\n",
              "    <tr>\n",
              "      <th>std</th>\n",
              "      <td>40714.227173</td>\n",
              "      <td>1.081480e+07</td>\n",
              "      <td>1.081480e+07</td>\n",
              "      <td>4.071423e+07</td>\n",
              "    </tr>\n",
              "    <tr>\n",
              "      <th>min</th>\n",
              "      <td>10.000000</td>\n",
              "      <td>1.833000e+03</td>\n",
              "      <td>1.833000e+03</td>\n",
              "      <td>1.000000e+04</td>\n",
              "    </tr>\n",
              "    <tr>\n",
              "      <th>25%</th>\n",
              "      <td>500.000000</td>\n",
              "      <td>6.988800e+04</td>\n",
              "      <td>6.988800e+04</td>\n",
              "      <td>5.000000e+05</td>\n",
              "    </tr>\n",
              "    <tr>\n",
              "      <th>50%</th>\n",
              "      <td>3057.000000</td>\n",
              "      <td>5.200000e+05</td>\n",
              "      <td>5.200000e+05</td>\n",
              "      <td>3.057000e+06</td>\n",
              "    </tr>\n",
              "    <tr>\n",
              "      <th>75%</th>\n",
              "      <td>13686.000000</td>\n",
              "      <td>2.097920e+06</td>\n",
              "      <td>2.097920e+06</td>\n",
              "      <td>1.368600e+07</td>\n",
              "    </tr>\n",
              "    <tr>\n",
              "      <th>max</th>\n",
              "      <td>578475.000000</td>\n",
              "      <td>9.380000e+07</td>\n",
              "      <td>9.380000e+07</td>\n",
              "      <td>5.784750e+08</td>\n",
              "    </tr>\n",
              "  </tbody>\n",
              "</table>\n",
              "</div>"
            ],
            "text/plain": [
              "       Values (x$1000)       Shares           SOLE     Tot_Value\n",
              "count       449.000000  4.490000e+02  4.490000e+02  4.490000e+02\n",
              "mean      15219.997773  4.673814e+06  4.673814e+06  1.522000e+07\n",
              "std       40714.227173  1.081480e+07  1.081480e+07  4.071423e+07\n",
              "min          10.000000  1.833000e+03  1.833000e+03  1.000000e+04\n",
              "25%         500.000000  6.988800e+04  6.988800e+04  5.000000e+05\n",
              "50%        3057.000000  5.200000e+05  5.200000e+05  3.057000e+06\n",
              "75%       13686.000000  2.097920e+06  2.097920e+06  1.368600e+07\n",
              "max      578475.000000  9.380000e+07  9.380000e+07  5.784750e+08"
            ]
          },
          "metadata": {
            "tags": []
          },
          "execution_count": 48
        }
      ]
    },
    {
      "cell_type": "code",
      "metadata": {
        "id": "GjUiLsHNHkGd",
        "colab_type": "code",
        "colab": {}
      },
      "source": [
        "AQR_1_LG = AQR_1.loc[(AQR_1['Tot_Value'])>30000000]"
      ],
      "execution_count": 53,
      "outputs": []
    },
    {
      "cell_type": "code",
      "metadata": {
        "id": "ErydE3EBH1vs",
        "colab_type": "code",
        "colab": {
          "base_uri": "https://localhost:8080/",
          "height": 34
        },
        "outputId": "9eaeb99a-9168-467f-f448-a3d4537482a6"
      },
      "source": [
        "len(AQR_1_LG)"
      ],
      "execution_count": 54,
      "outputs": [
        {
          "output_type": "execute_result",
          "data": {
            "text/plain": [
              "26"
            ]
          },
          "metadata": {
            "tags": []
          },
          "execution_count": 54
        }
      ]
    },
    {
      "cell_type": "code",
      "metadata": {
        "id": "xLDvwF6rH3TN",
        "colab_type": "code",
        "colab": {}
      },
      "source": [
        "AQR_2_LG = AQR_2.loc[(AQR_2['Tot_Value'])>45000000]"
      ],
      "execution_count": 59,
      "outputs": []
    },
    {
      "cell_type": "code",
      "metadata": {
        "id": "G0jGDKGdIXkZ",
        "colab_type": "code",
        "colab": {
          "base_uri": "https://localhost:8080/",
          "height": 34
        },
        "outputId": "f36bc46a-1dcb-4385-b6bb-241f005b63cc"
      },
      "source": [
        "len(AQR_2_LG)"
      ],
      "execution_count": 60,
      "outputs": [
        {
          "output_type": "execute_result",
          "data": {
            "text/plain": [
              "32"
            ]
          },
          "metadata": {
            "tags": []
          },
          "execution_count": 60
        }
      ]
    },
    {
      "cell_type": "code",
      "metadata": {
        "id": "gfc3MKBuIZIC",
        "colab_type": "code",
        "colab": {}
      },
      "source": [
        "AQR_3_LG = AQR_3.loc[(AQR_3['Tot_Value'])>45000000]"
      ],
      "execution_count": 61,
      "outputs": []
    },
    {
      "cell_type": "code",
      "metadata": {
        "id": "uqo2zOyhInq4",
        "colab_type": "code",
        "colab": {
          "base_uri": "https://localhost:8080/",
          "height": 34
        },
        "outputId": "0a203545-4578-48ff-a7cb-e48979f1bb0c"
      },
      "source": [
        "len(AQR_3_LG)"
      ],
      "execution_count": 62,
      "outputs": [
        {
          "output_type": "execute_result",
          "data": {
            "text/plain": [
              "34"
            ]
          },
          "metadata": {
            "tags": []
          },
          "execution_count": 62
        }
      ]
    },
    {
      "cell_type": "code",
      "metadata": {
        "id": "CHkC_YVCIpE4",
        "colab_type": "code",
        "colab": {}
      },
      "source": [
        "AQR_1_LG.to_csv('AQR_Recent_LGholdings.csv', index=False)"
      ],
      "execution_count": 66,
      "outputs": []
    },
    {
      "cell_type": "code",
      "metadata": {
        "id": "58PqnEd8IvFL",
        "colab_type": "code",
        "colab": {}
      },
      "source": [
        "AQR_2_LG.to_csv('AQR_Prior_LGholdings.csv', index=False)"
      ],
      "execution_count": 67,
      "outputs": []
    },
    {
      "cell_type": "code",
      "metadata": {
        "id": "pesQsslrIwdT",
        "colab_type": "code",
        "colab": {}
      },
      "source": [
        "AQR_3_LG.to_csv('AQR_Lastyr_LGholdings.csv', index=False)"
      ],
      "execution_count": 68,
      "outputs": []
    },
    {
      "cell_type": "code",
      "metadata": {
        "id": "Hz3eSa5GIxtL",
        "colab_type": "code",
        "colab": {}
      },
      "source": [
        "R = operator.mul(Ren_1['Value(x$1000)'], 1000)"
      ],
      "execution_count": 69,
      "outputs": []
    },
    {
      "cell_type": "code",
      "metadata": {
        "id": "PqI0AFvSJ9eU",
        "colab_type": "code",
        "colab": {}
      },
      "source": [
        "E = operator.mul(Ren_2['Value (x$1000)'], 1000)"
      ],
      "execution_count": 70,
      "outputs": []
    },
    {
      "cell_type": "code",
      "metadata": {
        "id": "Kr_RwblmKCbs",
        "colab_type": "code",
        "colab": {}
      },
      "source": [
        "N = operator.mul(Ren_3['Values (x$1000)'], 1000)"
      ],
      "execution_count": 72,
      "outputs": []
    },
    {
      "cell_type": "code",
      "metadata": {
        "id": "YLBy1wP3KH62",
        "colab_type": "code",
        "colab": {}
      },
      "source": [
        "Ren_1['Tot_Value']=(R)\n",
        "Ren_2['Tot_Value']=(E)"
      ],
      "execution_count": 73,
      "outputs": []
    },
    {
      "cell_type": "code",
      "metadata": {
        "id": "iC3R-JpvKWgs",
        "colab_type": "code",
        "colab": {}
      },
      "source": [
        "Ren_3['Tot_Value']=(N)"
      ],
      "execution_count": 74,
      "outputs": []
    },
    {
      "cell_type": "code",
      "metadata": {
        "id": "mj9pAdbNKa3N",
        "colab_type": "code",
        "colab": {
          "base_uri": "https://localhost:8080/",
          "height": 282
        },
        "outputId": "9d0413ef-3c11-4bbc-f7af-7432920b35c8"
      },
      "source": [
        "Ren_1.describe()"
      ],
      "execution_count": 75,
      "outputs": [
        {
          "output_type": "execute_result",
          "data": {
            "text/html": [
              "<div>\n",
              "<style scoped>\n",
              "    .dataframe tbody tr th:only-of-type {\n",
              "        vertical-align: middle;\n",
              "    }\n",
              "\n",
              "    .dataframe tbody tr th {\n",
              "        vertical-align: top;\n",
              "    }\n",
              "\n",
              "    .dataframe thead th {\n",
              "        text-align: right;\n",
              "    }\n",
              "</style>\n",
              "<table border=\"1\" class=\"dataframe\">\n",
              "  <thead>\n",
              "    <tr style=\"text-align: right;\">\n",
              "      <th></th>\n",
              "      <th>Value(x$1000)</th>\n",
              "      <th>Shares</th>\n",
              "      <th>SOLE</th>\n",
              "      <th>Tot_Value</th>\n",
              "    </tr>\n",
              "  </thead>\n",
              "  <tbody>\n",
              "    <tr>\n",
              "      <th>count</th>\n",
              "      <td>3.401000e+03</td>\n",
              "      <td>3.401000e+03</td>\n",
              "      <td>3.401000e+03</td>\n",
              "      <td>3.401000e+03</td>\n",
              "    </tr>\n",
              "    <tr>\n",
              "      <th>mean</th>\n",
              "      <td>3.027407e+04</td>\n",
              "      <td>1.266374e+06</td>\n",
              "      <td>1.177818e+06</td>\n",
              "      <td>3.027407e+07</td>\n",
              "    </tr>\n",
              "    <tr>\n",
              "      <th>std</th>\n",
              "      <td>1.181986e+05</td>\n",
              "      <td>3.825603e+06</td>\n",
              "      <td>3.682575e+06</td>\n",
              "      <td>1.181986e+08</td>\n",
              "    </tr>\n",
              "    <tr>\n",
              "      <th>min</th>\n",
              "      <td>3.000000e+00</td>\n",
              "      <td>7.800000e+01</td>\n",
              "      <td>0.000000e+00</td>\n",
              "      <td>3.000000e+03</td>\n",
              "    </tr>\n",
              "    <tr>\n",
              "      <th>25%</th>\n",
              "      <td>7.690000e+02</td>\n",
              "      <td>8.965200e+04</td>\n",
              "      <td>5.318100e+04</td>\n",
              "      <td>7.690000e+05</td>\n",
              "    </tr>\n",
              "    <tr>\n",
              "      <th>50%</th>\n",
              "      <td>3.916000e+03</td>\n",
              "      <td>3.448950e+05</td>\n",
              "      <td>2.855450e+05</td>\n",
              "      <td>3.916000e+06</td>\n",
              "    </tr>\n",
              "    <tr>\n",
              "      <th>75%</th>\n",
              "      <td>1.732900e+04</td>\n",
              "      <td>1.049625e+06</td>\n",
              "      <td>9.566340e+05</td>\n",
              "      <td>1.732900e+07</td>\n",
              "    </tr>\n",
              "    <tr>\n",
              "      <th>max</th>\n",
              "      <td>3.678400e+06</td>\n",
              "      <td>7.834230e+07</td>\n",
              "      <td>7.834230e+07</td>\n",
              "      <td>3.678400e+09</td>\n",
              "    </tr>\n",
              "  </tbody>\n",
              "</table>\n",
              "</div>"
            ],
            "text/plain": [
              "       Value(x$1000)        Shares          SOLE     Tot_Value\n",
              "count   3.401000e+03  3.401000e+03  3.401000e+03  3.401000e+03\n",
              "mean    3.027407e+04  1.266374e+06  1.177818e+06  3.027407e+07\n",
              "std     1.181986e+05  3.825603e+06  3.682575e+06  1.181986e+08\n",
              "min     3.000000e+00  7.800000e+01  0.000000e+00  3.000000e+03\n",
              "25%     7.690000e+02  8.965200e+04  5.318100e+04  7.690000e+05\n",
              "50%     3.916000e+03  3.448950e+05  2.855450e+05  3.916000e+06\n",
              "75%     1.732900e+04  1.049625e+06  9.566340e+05  1.732900e+07\n",
              "max     3.678400e+06  7.834230e+07  7.834230e+07  3.678400e+09"
            ]
          },
          "metadata": {
            "tags": []
          },
          "execution_count": 75
        }
      ]
    },
    {
      "cell_type": "code",
      "metadata": {
        "id": "TonfexKcKu0n",
        "colab_type": "code",
        "colab": {
          "base_uri": "https://localhost:8080/",
          "height": 282
        },
        "outputId": "043b4b5c-22be-4129-d034-2d7951e6aea7"
      },
      "source": [
        "Ren_2.describe()"
      ],
      "execution_count": 76,
      "outputs": [
        {
          "output_type": "execute_result",
          "data": {
            "text/html": [
              "<div>\n",
              "<style scoped>\n",
              "    .dataframe tbody tr th:only-of-type {\n",
              "        vertical-align: middle;\n",
              "    }\n",
              "\n",
              "    .dataframe tbody tr th {\n",
              "        vertical-align: top;\n",
              "    }\n",
              "\n",
              "    .dataframe thead th {\n",
              "        text-align: right;\n",
              "    }\n",
              "</style>\n",
              "<table border=\"1\" class=\"dataframe\">\n",
              "  <thead>\n",
              "    <tr style=\"text-align: right;\">\n",
              "      <th></th>\n",
              "      <th>Value (x$1000)</th>\n",
              "      <th>Shares</th>\n",
              "      <th>SOLE</th>\n",
              "      <th>NONE</th>\n",
              "      <th>Tot_Value</th>\n",
              "    </tr>\n",
              "  </thead>\n",
              "  <tbody>\n",
              "    <tr>\n",
              "      <th>count</th>\n",
              "      <td>3.469000e+03</td>\n",
              "      <td>3.469000e+03</td>\n",
              "      <td>3.469000e+03</td>\n",
              "      <td>3.469000e+03</td>\n",
              "      <td>3.469000e+03</td>\n",
              "    </tr>\n",
              "    <tr>\n",
              "      <th>mean</th>\n",
              "      <td>3.751248e+04</td>\n",
              "      <td>1.235681e+06</td>\n",
              "      <td>1.122449e+06</td>\n",
              "      <td>1.132326e+05</td>\n",
              "      <td>3.751248e+07</td>\n",
              "    </tr>\n",
              "    <tr>\n",
              "      <th>std</th>\n",
              "      <td>1.279684e+05</td>\n",
              "      <td>3.725802e+06</td>\n",
              "      <td>3.575717e+06</td>\n",
              "      <td>3.802570e+05</td>\n",
              "      <td>1.279684e+08</td>\n",
              "    </tr>\n",
              "    <tr>\n",
              "      <th>min</th>\n",
              "      <td>6.000000e+00</td>\n",
              "      <td>3.000000e+00</td>\n",
              "      <td>0.000000e+00</td>\n",
              "      <td>0.000000e+00</td>\n",
              "      <td>6.000000e+03</td>\n",
              "    </tr>\n",
              "    <tr>\n",
              "      <th>25%</th>\n",
              "      <td>1.060000e+03</td>\n",
              "      <td>8.480000e+04</td>\n",
              "      <td>4.718500e+04</td>\n",
              "      <td>0.000000e+00</td>\n",
              "      <td>1.060000e+06</td>\n",
              "    </tr>\n",
              "    <tr>\n",
              "      <th>50%</th>\n",
              "      <td>6.110000e+03</td>\n",
              "      <td>3.241760e+05</td>\n",
              "      <td>2.529950e+05</td>\n",
              "      <td>1.596700e+04</td>\n",
              "      <td>6.110000e+06</td>\n",
              "    </tr>\n",
              "    <tr>\n",
              "      <th>75%</th>\n",
              "      <td>2.569500e+04</td>\n",
              "      <td>1.042638e+06</td>\n",
              "      <td>9.235930e+05</td>\n",
              "      <td>8.055000e+04</td>\n",
              "      <td>2.569500e+07</td>\n",
              "    </tr>\n",
              "    <tr>\n",
              "      <th>max</th>\n",
              "      <td>3.864922e+06</td>\n",
              "      <td>9.005396e+07</td>\n",
              "      <td>9.005396e+07</td>\n",
              "      <td>9.828985e+06</td>\n",
              "      <td>3.864922e+09</td>\n",
              "    </tr>\n",
              "  </tbody>\n",
              "</table>\n",
              "</div>"
            ],
            "text/plain": [
              "       Value (x$1000)        Shares          SOLE          NONE     Tot_Value\n",
              "count    3.469000e+03  3.469000e+03  3.469000e+03  3.469000e+03  3.469000e+03\n",
              "mean     3.751248e+04  1.235681e+06  1.122449e+06  1.132326e+05  3.751248e+07\n",
              "std      1.279684e+05  3.725802e+06  3.575717e+06  3.802570e+05  1.279684e+08\n",
              "min      6.000000e+00  3.000000e+00  0.000000e+00  0.000000e+00  6.000000e+03\n",
              "25%      1.060000e+03  8.480000e+04  4.718500e+04  0.000000e+00  1.060000e+06\n",
              "50%      6.110000e+03  3.241760e+05  2.529950e+05  1.596700e+04  6.110000e+06\n",
              "75%      2.569500e+04  1.042638e+06  9.235930e+05  8.055000e+04  2.569500e+07\n",
              "max      3.864922e+06  9.005396e+07  9.005396e+07  9.828985e+06  3.864922e+09"
            ]
          },
          "metadata": {
            "tags": []
          },
          "execution_count": 76
        }
      ]
    },
    {
      "cell_type": "code",
      "metadata": {
        "id": "3E1GFQ8XKxYH",
        "colab_type": "code",
        "colab": {
          "base_uri": "https://localhost:8080/",
          "height": 282
        },
        "outputId": "0f8f05f1-33a1-4f45-d8cb-bef283d7d12f"
      },
      "source": [
        "Ren_3.describe()"
      ],
      "execution_count": 77,
      "outputs": [
        {
          "output_type": "execute_result",
          "data": {
            "text/html": [
              "<div>\n",
              "<style scoped>\n",
              "    .dataframe tbody tr th:only-of-type {\n",
              "        vertical-align: middle;\n",
              "    }\n",
              "\n",
              "    .dataframe tbody tr th {\n",
              "        vertical-align: top;\n",
              "    }\n",
              "\n",
              "    .dataframe thead th {\n",
              "        text-align: right;\n",
              "    }\n",
              "</style>\n",
              "<table border=\"1\" class=\"dataframe\">\n",
              "  <thead>\n",
              "    <tr style=\"text-align: right;\">\n",
              "      <th></th>\n",
              "      <th>Values (x$1000)</th>\n",
              "      <th>Shares</th>\n",
              "      <th>CALL</th>\n",
              "      <th>MANAGER</th>\n",
              "      <th>SOLE</th>\n",
              "      <th>SHARED</th>\n",
              "      <th>NONE</th>\n",
              "      <th>Tot_Value</th>\n",
              "    </tr>\n",
              "  </thead>\n",
              "  <tbody>\n",
              "    <tr>\n",
              "      <th>count</th>\n",
              "      <td>3.394000e+03</td>\n",
              "      <td>3.394000e+03</td>\n",
              "      <td>0.0</td>\n",
              "      <td>3394.0</td>\n",
              "      <td>3.394000e+03</td>\n",
              "      <td>3394.0</td>\n",
              "      <td>3.394000e+03</td>\n",
              "      <td>3.394000e+03</td>\n",
              "    </tr>\n",
              "    <tr>\n",
              "      <th>mean</th>\n",
              "      <td>3.480987e+04</td>\n",
              "      <td>1.188407e+06</td>\n",
              "      <td>NaN</td>\n",
              "      <td>0.0</td>\n",
              "      <td>1.063594e+06</td>\n",
              "      <td>0.0</td>\n",
              "      <td>1.248132e+05</td>\n",
              "      <td>3.480987e+07</td>\n",
              "    </tr>\n",
              "    <tr>\n",
              "      <th>std</th>\n",
              "      <td>1.035533e+05</td>\n",
              "      <td>3.304608e+06</td>\n",
              "      <td>NaN</td>\n",
              "      <td>0.0</td>\n",
              "      <td>3.180505e+06</td>\n",
              "      <td>0.0</td>\n",
              "      <td>4.409624e+05</td>\n",
              "      <td>1.035533e+08</td>\n",
              "    </tr>\n",
              "    <tr>\n",
              "      <th>min</th>\n",
              "      <td>7.000000e+00</td>\n",
              "      <td>9.100000e+01</td>\n",
              "      <td>NaN</td>\n",
              "      <td>0.0</td>\n",
              "      <td>0.000000e+00</td>\n",
              "      <td>0.0</td>\n",
              "      <td>0.000000e+00</td>\n",
              "      <td>7.000000e+03</td>\n",
              "    </tr>\n",
              "    <tr>\n",
              "      <th>25%</th>\n",
              "      <td>1.139250e+03</td>\n",
              "      <td>8.601325e+04</td>\n",
              "      <td>NaN</td>\n",
              "      <td>0.0</td>\n",
              "      <td>3.990775e+04</td>\n",
              "      <td>0.0</td>\n",
              "      <td>0.000000e+00</td>\n",
              "      <td>1.139250e+06</td>\n",
              "    </tr>\n",
              "    <tr>\n",
              "      <th>50%</th>\n",
              "      <td>5.904000e+03</td>\n",
              "      <td>3.379110e+05</td>\n",
              "      <td>NaN</td>\n",
              "      <td>0.0</td>\n",
              "      <td>2.430990e+05</td>\n",
              "      <td>0.0</td>\n",
              "      <td>1.325950e+04</td>\n",
              "      <td>5.904000e+06</td>\n",
              "    </tr>\n",
              "    <tr>\n",
              "      <th>75%</th>\n",
              "      <td>2.502475e+04</td>\n",
              "      <td>1.077502e+06</td>\n",
              "      <td>NaN</td>\n",
              "      <td>0.0</td>\n",
              "      <td>9.423970e+05</td>\n",
              "      <td>0.0</td>\n",
              "      <td>8.810875e+04</td>\n",
              "      <td>2.502475e+07</td>\n",
              "    </tr>\n",
              "    <tr>\n",
              "      <th>max</th>\n",
              "      <td>1.661147e+06</td>\n",
              "      <td>8.436094e+07</td>\n",
              "      <td>NaN</td>\n",
              "      <td>0.0</td>\n",
              "      <td>8.436094e+07</td>\n",
              "      <td>0.0</td>\n",
              "      <td>1.219277e+07</td>\n",
              "      <td>1.661147e+09</td>\n",
              "    </tr>\n",
              "  </tbody>\n",
              "</table>\n",
              "</div>"
            ],
            "text/plain": [
              "       Values (x$1000)        Shares  CALL  ...  SHARED          NONE     Tot_Value\n",
              "count     3.394000e+03  3.394000e+03   0.0  ...  3394.0  3.394000e+03  3.394000e+03\n",
              "mean      3.480987e+04  1.188407e+06   NaN  ...     0.0  1.248132e+05  3.480987e+07\n",
              "std       1.035533e+05  3.304608e+06   NaN  ...     0.0  4.409624e+05  1.035533e+08\n",
              "min       7.000000e+00  9.100000e+01   NaN  ...     0.0  0.000000e+00  7.000000e+03\n",
              "25%       1.139250e+03  8.601325e+04   NaN  ...     0.0  0.000000e+00  1.139250e+06\n",
              "50%       5.904000e+03  3.379110e+05   NaN  ...     0.0  1.325950e+04  5.904000e+06\n",
              "75%       2.502475e+04  1.077502e+06   NaN  ...     0.0  8.810875e+04  2.502475e+07\n",
              "max       1.661147e+06  8.436094e+07   NaN  ...     0.0  1.219277e+07  1.661147e+09\n",
              "\n",
              "[8 rows x 8 columns]"
            ]
          },
          "metadata": {
            "tags": []
          },
          "execution_count": 77
        }
      ]
    },
    {
      "cell_type": "code",
      "metadata": {
        "id": "lj-nROd6KzRo",
        "colab_type": "code",
        "colab": {}
      },
      "source": [
        "Ren_1_LG = Ren_1.loc[(Ren_1['Tot_Value'])>500000000]"
      ],
      "execution_count": 80,
      "outputs": []
    },
    {
      "cell_type": "code",
      "metadata": {
        "id": "eUc5JwLjLMCq",
        "colab_type": "code",
        "colab": {
          "base_uri": "https://localhost:8080/",
          "height": 34
        },
        "outputId": "ecf384ff-1fc2-458a-8d11-1733be3a5391"
      },
      "source": [
        "len(Ren_1_LG)"
      ],
      "execution_count": 81,
      "outputs": [
        {
          "output_type": "execute_result",
          "data": {
            "text/plain": [
              "30"
            ]
          },
          "metadata": {
            "tags": []
          },
          "execution_count": 81
        }
      ]
    },
    {
      "cell_type": "code",
      "metadata": {
        "id": "mickaAy3LNpS",
        "colab_type": "code",
        "colab": {}
      },
      "source": [
        "Ren_2_LG = Ren_2.loc[(Ren_2['Tot_Value'])>500000000]"
      ],
      "execution_count": 82,
      "outputs": []
    },
    {
      "cell_type": "code",
      "metadata": {
        "id": "BooSJVeRLYaf",
        "colab_type": "code",
        "colab": {
          "base_uri": "https://localhost:8080/",
          "height": 34
        },
        "outputId": "42058bb3-108a-4ff9-8e02-2d483144776e"
      },
      "source": [
        "len(Ren_2_LG)"
      ],
      "execution_count": 83,
      "outputs": [
        {
          "output_type": "execute_result",
          "data": {
            "text/plain": [
              "39"
            ]
          },
          "metadata": {
            "tags": []
          },
          "execution_count": 83
        }
      ]
    },
    {
      "cell_type": "code",
      "metadata": {
        "id": "KOvm_pB9LaIg",
        "colab_type": "code",
        "colab": {}
      },
      "source": [
        "Ren_3_LG = Ren_3.loc[(Ren_3['Tot_Value'])>500000000]"
      ],
      "execution_count": 84,
      "outputs": []
    },
    {
      "cell_type": "code",
      "metadata": {
        "id": "dXYnNwEALhgS",
        "colab_type": "code",
        "colab": {
          "base_uri": "https://localhost:8080/",
          "height": 34
        },
        "outputId": "c479cec2-8c76-44b3-d66e-91ae8cf9b19f"
      },
      "source": [
        "len(Ren_3_LG)"
      ],
      "execution_count": 85,
      "outputs": [
        {
          "output_type": "execute_result",
          "data": {
            "text/plain": [
              "33"
            ]
          },
          "metadata": {
            "tags": []
          },
          "execution_count": 85
        }
      ]
    },
    {
      "cell_type": "code",
      "metadata": {
        "id": "-Ouj_sFuLjN7",
        "colab_type": "code",
        "colab": {}
      },
      "source": [
        "Ren_1_LG.to_csv('Renissance_Rencent_LGholdings.csv', index=False)"
      ],
      "execution_count": 89,
      "outputs": []
    },
    {
      "cell_type": "code",
      "metadata": {
        "id": "1G9t_D1nLnxk",
        "colab_type": "code",
        "colab": {}
      },
      "source": [
        "Ren_2_LG.to_csv('Renissance_Prior_LGholdings.csv', index=False)"
      ],
      "execution_count": 90,
      "outputs": []
    },
    {
      "cell_type": "code",
      "metadata": {
        "id": "cYAjJZBLLpB1",
        "colab_type": "code",
        "colab": {}
      },
      "source": [
        "Ren_3_LG.to_csv('Renissance_lastyr_LGholdings.csv', index=False)"
      ],
      "execution_count": 91,
      "outputs": []
    },
    {
      "cell_type": "code",
      "metadata": {
        "id": "7pebixZ0LqQO",
        "colab_type": "code",
        "colab": {}
      },
      "source": [
        "tot_ren_1 = Ren_1.Tot_Value.sum()"
      ],
      "execution_count": 98,
      "outputs": []
    },
    {
      "cell_type": "code",
      "metadata": {
        "id": "lQtQTYWZOiAt",
        "colab_type": "code",
        "colab": {}
      },
      "source": [
        "tot_bwater_1 = Bwater_1.Tot_Value.sum()"
      ],
      "execution_count": 99,
      "outputs": []
    },
    {
      "cell_type": "code",
      "metadata": {
        "id": "antKR6IrOmQx",
        "colab_type": "code",
        "colab": {}
      },
      "source": [
        "tot_aqr_1 = AQR_1.Tot_Value.sum()"
      ],
      "execution_count": 100,
      "outputs": []
    },
    {
      "cell_type": "code",
      "metadata": {
        "id": "Q452RFwCOqnj",
        "colab_type": "code",
        "colab": {
          "base_uri": "https://localhost:8080/",
          "height": 34
        },
        "outputId": "5a6741fe-4a31-4fc7-cc31-6842aabc1cba"
      },
      "source": [
        "tot_ren_1"
      ],
      "execution_count": 102,
      "outputs": [
        {
          "output_type": "execute_result",
          "data": {
            "text/plain": [
              "102962101000"
            ]
          },
          "metadata": {
            "tags": []
          },
          "execution_count": 102
        }
      ]
    },
    {
      "cell_type": "code",
      "metadata": {
        "id": "-lKThISlPDIs",
        "colab_type": "code",
        "colab": {}
      },
      "source": [
        ""
      ],
      "execution_count": null,
      "outputs": []
    }
  ]
}