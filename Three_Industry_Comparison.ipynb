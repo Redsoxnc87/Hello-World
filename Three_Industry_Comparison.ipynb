{
  "nbformat": 4,
  "nbformat_minor": 0,
  "metadata": {
    "colab": {
      "name": "Three_Industry_Comparison.ipynb",
      "provenance": [],
      "collapsed_sections": [],
      "authorship_tag": "ABX9TyNiXCoTV0kYTFDiRZmMtLQr",
      "include_colab_link": true
    },
    "kernelspec": {
      "name": "python3",
      "display_name": "Python 3"
    }
  },
  "cells": [
    {
      "cell_type": "markdown",
      "metadata": {
        "id": "view-in-github",
        "colab_type": "text"
      },
      "source": [
        "<a href=\"https://colab.research.google.com/github/Redsoxnc87/Hello-World/blob/master/Three_Industry_Comparison.ipynb\" target=\"_parent\"><img src=\"https://colab.research.google.com/assets/colab-badge.svg\" alt=\"Open In Colab\"/></a>"
      ]
    },
    {
      "cell_type": "code",
      "metadata": {
        "id": "jGMMswhXNDSq"
      },
      "source": [
        "import biz_info"
      ],
      "execution_count": 1,
      "outputs": []
    },
    {
      "cell_type": "code",
      "metadata": {
        "id": "rTx-BDndNmVt"
      },
      "source": [
        "import business_software_\n",
        "import real_estate_developers"
      ],
      "execution_count": 2,
      "outputs": []
    },
    {
      "cell_type": "code",
      "metadata": {
        "id": "Ws8p91yONrAE"
      },
      "source": [
        "import pandas as pd \n",
        "import numpy as np \n",
        "import operator\n",
        "import os \n",
        "import sys \n",
        "import requests\n",
        "import pandas.plotting\n",
        "import matplotlib.pyplot as plt\n",
        "%matplotlib inline"
      ],
      "execution_count": 3,
      "outputs": []
    },
    {
      "cell_type": "code",
      "metadata": {
        "id": "RSp6S0jhN6M6",
        "outputId": "c71bc1b5-659a-4e95-cbc4-e94ccd8e08a8",
        "colab": {
          "base_uri": "https://localhost:8080/",
          "height": 437
        }
      },
      "source": [
        "biz_info.info.head()"
      ],
      "execution_count": 4,
      "outputs": [
        {
          "output_type": "execute_result",
          "data": {
            "text/html": [
              "<div>\n",
              "<style scoped>\n",
              "    .dataframe tbody tr th:only-of-type {\n",
              "        vertical-align: middle;\n",
              "    }\n",
              "\n",
              "    .dataframe tbody tr th {\n",
              "        vertical-align: top;\n",
              "    }\n",
              "\n",
              "    .dataframe thead th {\n",
              "        text-align: right;\n",
              "    }\n",
              "</style>\n",
              "<table border=\"1\" class=\"dataframe\">\n",
              "  <thead>\n",
              "    <tr style=\"text-align: right;\">\n",
              "      <th></th>\n",
              "      <th>Symbol</th>\n",
              "      <th>Symbol Name</th>\n",
              "      <th>Exchange</th>\n",
              "      <th>Open</th>\n",
              "      <th>High</th>\n",
              "      <th>Low</th>\n",
              "      <th>Last</th>\n",
              "      <th>Change</th>\n",
              "      <th>% Change</th>\n",
              "      <th>Volume</th>\n",
              "      <th>20-Day Average Volume</th>\n",
              "      <th>Previous Close</th>\n",
              "      <th>Industry</th>\n",
              "      <th>Has Options</th>\n",
              "      <th>20-Day Moving Average</th>\n",
              "      <th>20-Day Raw Stochastic</th>\n",
              "      <th>20-Day Relative Strength</th>\n",
              "      <th>Weighted Alpha</th>\n",
              "      <th>Today's Opinion</th>\n",
              "      <th>Previous Opinion</th>\n",
              "      <th>Last Month's Opinion</th>\n",
              "      <th>5-Days %Chg</th>\n",
              "      <th>5-Days Low</th>\n",
              "      <th>5-Days High</th>\n",
              "      <th>1-Month %Chg</th>\n",
              "      <th>1-Month Low</th>\n",
              "      <th>1-Month High</th>\n",
              "      <th>3-Month %Chg</th>\n",
              "      <th>3-Month Low</th>\n",
              "      <th>3-Month High</th>\n",
              "      <th>6-Month %Chg</th>\n",
              "      <th>6-Month Low</th>\n",
              "      <th>6-Month High</th>\n",
              "      <th>Market Capitalization, $K</th>\n",
              "      <th>Shares Outstanding, K</th>\n",
              "      <th>Annual Sales</th>\n",
              "      <th>Annual Net Income</th>\n",
              "      <th>Last Quarter Sales</th>\n",
              "      <th>Last Quarter Net Income</th>\n",
              "      <th>60-Month Beta</th>\n",
              "      <th>Most Recent Earnings</th>\n",
              "      <th>Latest Earnings Date</th>\n",
              "      <th>Most Recent Dividend</th>\n",
              "      <th>Next Ex-Dividends Date</th>\n",
              "      <th>Price/Earnings ttm</th>\n",
              "      <th>Real_Mcap</th>\n",
              "      <th>Real_Shares</th>\n",
              "      <th>Nincome_Share</th>\n",
              "      <th>Sales_Mcap</th>\n",
              "    </tr>\n",
              "  </thead>\n",
              "  <tbody>\n",
              "    <tr>\n",
              "      <th>0</th>\n",
              "      <td>SPGI</td>\n",
              "      <td>S&amp;P Global Inc</td>\n",
              "      <td>NYSE</td>\n",
              "      <td>355.94</td>\n",
              "      <td>360.32</td>\n",
              "      <td>354.55</td>\n",
              "      <td>356.98</td>\n",
              "      <td>1.43</td>\n",
              "      <td>0.004</td>\n",
              "      <td>580800</td>\n",
              "      <td>817920</td>\n",
              "      <td>355.55</td>\n",
              "      <td>Business Information</td>\n",
              "      <td>Yes</td>\n",
              "      <td>352.87</td>\n",
              "      <td>0.489</td>\n",
              "      <td>0.531</td>\n",
              "      <td>46.09</td>\n",
              "      <td>72% Buy</td>\n",
              "      <td>72% Buy</td>\n",
              "      <td>100% Buy</td>\n",
              "      <td>+1.94% since 09/22/20</td>\n",
              "      <td>342.09 on 09/24/20</td>\n",
              "      <td>360.32 on 09/29/20</td>\n",
              "      <td>-2.69% since 08/28/20</td>\n",
              "      <td>335.05 on 09/08/20</td>\n",
              "      <td>379.87 on 09/02/20</td>\n",
              "      <td>+11.11% since 06/29/20</td>\n",
              "      <td>320.42 on 06/30/20</td>\n",
              "      <td>379.87 on 09/02/20</td>\n",
              "      <td>+48.90% since 03/27/20</td>\n",
              "      <td>230.11 on 04/02/20</td>\n",
              "      <td>379.87 on 09/02/20</td>\n",
              "      <td>85687552</td>\n",
              "      <td>241000</td>\n",
              "      <td>6699000000</td>\n",
              "      <td>2123000000</td>\n",
              "      <td>1943000000</td>\n",
              "      <td>792000000</td>\n",
              "      <td>1.03</td>\n",
              "      <td>3.40 on 07/28/20</td>\n",
              "      <td>11/3/2020</td>\n",
              "      <td>0.670 on 08/25/20</td>\n",
              "      <td>8/25/2020</td>\n",
              "      <td>31.73</td>\n",
              "      <td>85687552000</td>\n",
              "      <td>241000000</td>\n",
              "      <td>8.809129</td>\n",
              "      <td>0.078179</td>\n",
              "    </tr>\n",
              "    <tr>\n",
              "      <th>1</th>\n",
              "      <td>INFO</td>\n",
              "      <td>IHS Markit Ltd</td>\n",
              "      <td>NYSE</td>\n",
              "      <td>79.70</td>\n",
              "      <td>80.52</td>\n",
              "      <td>77.41</td>\n",
              "      <td>77.42</td>\n",
              "      <td>-2.64</td>\n",
              "      <td>-0.033</td>\n",
              "      <td>2790400</td>\n",
              "      <td>2335725</td>\n",
              "      <td>80.06</td>\n",
              "      <td>Business Information</td>\n",
              "      <td>Yes</td>\n",
              "      <td>78.74</td>\n",
              "      <td>0.175</td>\n",
              "      <td>0.461</td>\n",
              "      <td>12.07</td>\n",
              "      <td>40% Buy</td>\n",
              "      <td>56% Buy</td>\n",
              "      <td>80% Buy</td>\n",
              "      <td>-1.55% since 09/22/20</td>\n",
              "      <td>76.04 on 09/25/20</td>\n",
              "      <td>80.64 on 09/28/20</td>\n",
              "      <td>-3.98% since 08/28/20</td>\n",
              "      <td>76.04 on 09/25/20</td>\n",
              "      <td>83.92 on 09/02/20</td>\n",
              "      <td>+6.32% since 06/29/20</td>\n",
              "      <td>72.55 on 06/30/20</td>\n",
              "      <td>84.37 on 08/10/20</td>\n",
              "      <td>+31.11% since 03/27/20</td>\n",
              "      <td>57.49 on 04/01/20</td>\n",
              "      <td>84.37 on 08/10/20</td>\n",
              "      <td>33787640</td>\n",
              "      <td>422029</td>\n",
              "      <td>4414600000</td>\n",
              "      <td>502700000</td>\n",
              "      <td>1026600000</td>\n",
              "      <td>71700000</td>\n",
              "      <td>0.97</td>\n",
              "      <td>0.69 on 06/23/20</td>\n",
              "      <td>9/29/2020</td>\n",
              "      <td>0.170 on 07/30/20</td>\n",
              "      <td>7/30/2020</td>\n",
              "      <td>35.68</td>\n",
              "      <td>33787640000</td>\n",
              "      <td>422029000</td>\n",
              "      <td>1.191150</td>\n",
              "      <td>0.130657</td>\n",
              "    </tr>\n",
              "    <tr>\n",
              "      <th>2</th>\n",
              "      <td>VRSK</td>\n",
              "      <td>Verisk Analytics Inc</td>\n",
              "      <td>NASDAQ</td>\n",
              "      <td>185.02</td>\n",
              "      <td>188.03</td>\n",
              "      <td>184.36</td>\n",
              "      <td>184.38</td>\n",
              "      <td>-0.14</td>\n",
              "      <td>-0.001</td>\n",
              "      <td>946900</td>\n",
              "      <td>709745</td>\n",
              "      <td>184.52</td>\n",
              "      <td>Business Information</td>\n",
              "      <td>Yes</td>\n",
              "      <td>183.22</td>\n",
              "      <td>0.494</td>\n",
              "      <td>0.519</td>\n",
              "      <td>21.67</td>\n",
              "      <td>56% Buy</td>\n",
              "      <td>56% Buy</td>\n",
              "      <td>80% Buy</td>\n",
              "      <td>+2.21% since 09/22/20</td>\n",
              "      <td>175.37 on 09/24/20</td>\n",
              "      <td>188.03 on 09/29/20</td>\n",
              "      <td>-1.59% since 08/28/20</td>\n",
              "      <td>175.37 on 09/24/20</td>\n",
              "      <td>193.61 on 09/02/20</td>\n",
              "      <td>+12.19% since 06/29/20</td>\n",
              "      <td>162.92 on 06/30/20</td>\n",
              "      <td>193.61 on 09/02/20</td>\n",
              "      <td>+33.83% since 03/27/20</td>\n",
              "      <td>133.50 on 04/01/20</td>\n",
              "      <td>193.61 on 09/02/20</td>\n",
              "      <td>29963464</td>\n",
              "      <td>162386</td>\n",
              "      <td>2607100000</td>\n",
              "      <td>449900000</td>\n",
              "      <td>678800000</td>\n",
              "      <td>179000000</td>\n",
              "      <td>0.67</td>\n",
              "      <td>1.29 on 08/04/20</td>\n",
              "      <td>11/3/2020</td>\n",
              "      <td>0.270 on 09/14/20</td>\n",
              "      <td>9/14/2020</td>\n",
              "      <td>38.50</td>\n",
              "      <td>29963464000</td>\n",
              "      <td>162386000</td>\n",
              "      <td>2.770559</td>\n",
              "      <td>0.087009</td>\n",
              "    </tr>\n",
              "    <tr>\n",
              "      <th>3</th>\n",
              "      <td>TRU</td>\n",
              "      <td>Transunion</td>\n",
              "      <td>NYSE</td>\n",
              "      <td>84.24</td>\n",
              "      <td>86.23</td>\n",
              "      <td>83.82</td>\n",
              "      <td>84.62</td>\n",
              "      <td>0.88</td>\n",
              "      <td>0.011</td>\n",
              "      <td>1484300</td>\n",
              "      <td>1270935</td>\n",
              "      <td>83.74</td>\n",
              "      <td>Business Information</td>\n",
              "      <td>Yes</td>\n",
              "      <td>84.77</td>\n",
              "      <td>0.499</td>\n",
              "      <td>0.490</td>\n",
              "      <td>12.96</td>\n",
              "      <td>8% Buy</td>\n",
              "      <td>8% Sell</td>\n",
              "      <td>56% Buy</td>\n",
              "      <td>+3.13% since 09/22/20</td>\n",
              "      <td>79.56 on 09/24/20</td>\n",
              "      <td>86.23 on 09/29/20</td>\n",
              "      <td>-2.84% since 08/28/20</td>\n",
              "      <td>79.56 on 09/24/20</td>\n",
              "      <td>89.70 on 09/03/20</td>\n",
              "      <td>+0.49% since 06/29/20</td>\n",
              "      <td>79.56 on 09/24/20</td>\n",
              "      <td>93.65 on 07/23/20</td>\n",
              "      <td>+27.71% since 03/27/20</td>\n",
              "      <td>58.76 on 04/03/20</td>\n",
              "      <td>94.11 on 06/05/20</td>\n",
              "      <td>15918974</td>\n",
              "      <td>190100</td>\n",
              "      <td>2656100000</td>\n",
              "      <td>346900000</td>\n",
              "      <td>634400000</td>\n",
              "      <td>68500000</td>\n",
              "      <td>1.16</td>\n",
              "      <td>0.66 on 07/28/20</td>\n",
              "      <td>10/27/2020</td>\n",
              "      <td>0.075 on 08/19/20</td>\n",
              "      <td>8/19/2020</td>\n",
              "      <td>30.52</td>\n",
              "      <td>15918974000</td>\n",
              "      <td>190100000</td>\n",
              "      <td>1.824829</td>\n",
              "      <td>0.166851</td>\n",
              "    </tr>\n",
              "    <tr>\n",
              "      <th>4</th>\n",
              "      <td>BKI</td>\n",
              "      <td>Black Knight Inc</td>\n",
              "      <td>NYSE</td>\n",
              "      <td>86.92</td>\n",
              "      <td>87.46</td>\n",
              "      <td>86.57</td>\n",
              "      <td>86.96</td>\n",
              "      <td>1.16</td>\n",
              "      <td>0.014</td>\n",
              "      <td>452100</td>\n",
              "      <td>713885</td>\n",
              "      <td>85.80</td>\n",
              "      <td>Business Information</td>\n",
              "      <td>Yes</td>\n",
              "      <td>84.20</td>\n",
              "      <td>0.940</td>\n",
              "      <td>0.636</td>\n",
              "      <td>49.38</td>\n",
              "      <td>100% Buy</td>\n",
              "      <td>100% Buy</td>\n",
              "      <td>100% Buy</td>\n",
              "      <td>+1.08% since 09/22/20</td>\n",
              "      <td>82.88 on 09/24/20</td>\n",
              "      <td>87.46 on 09/29/20</td>\n",
              "      <td>+3.13% since 08/28/20</td>\n",
              "      <td>79.14 on 09/08/20</td>\n",
              "      <td>87.46 on 09/29/20</td>\n",
              "      <td>+20.95% since 06/29/20</td>\n",
              "      <td>68.33 on 07/14/20</td>\n",
              "      <td>87.46 on 09/29/20</td>\n",
              "      <td>+52.45% since 03/27/20</td>\n",
              "      <td>56.38 on 04/01/20</td>\n",
              "      <td>87.46 on 09/29/20</td>\n",
              "      <td>13473172</td>\n",
              "      <td>157030</td>\n",
              "      <td>1177200000</td>\n",
              "      <td>108800000</td>\n",
              "      <td>293100000</td>\n",
              "      <td>39100000</td>\n",
              "      <td>0.92</td>\n",
              "      <td>0.52 on 08/10/20</td>\n",
              "      <td>11/4/2020</td>\n",
              "      <td>NaN</td>\n",
              "      <td>NaN</td>\n",
              "      <td>47.85</td>\n",
              "      <td>13473172000</td>\n",
              "      <td>157030000</td>\n",
              "      <td>0.692861</td>\n",
              "      <td>0.087374</td>\n",
              "    </tr>\n",
              "  </tbody>\n",
              "</table>\n",
              "</div>"
            ],
            "text/plain": [
              "  Symbol           Symbol Name Exchange  ...  Real_Shares  Nincome_Share  Sales_Mcap\n",
              "0   SPGI        S&P Global Inc     NYSE  ...    241000000       8.809129    0.078179\n",
              "1   INFO        IHS Markit Ltd     NYSE  ...    422029000       1.191150    0.130657\n",
              "2   VRSK  Verisk Analytics Inc   NASDAQ  ...    162386000       2.770559    0.087009\n",
              "3    TRU            Transunion     NYSE  ...    190100000       1.824829    0.166851\n",
              "4    BKI      Black Knight Inc     NYSE  ...    157030000       0.692861    0.087374\n",
              "\n",
              "[5 rows x 49 columns]"
            ]
          },
          "metadata": {
            "tags": []
          },
          "execution_count": 4
        }
      ]
    },
    {
      "cell_type": "code",
      "metadata": {
        "id": "ArF5mOpUOK5J"
      },
      "source": [
        "Business_Info = biz_info.info"
      ],
      "execution_count": 5,
      "outputs": []
    },
    {
      "cell_type": "code",
      "metadata": {
        "id": "aw93fkCePCip"
      },
      "source": [
        "RealEstate_Dev = real_estate_developers.dev"
      ],
      "execution_count": 6,
      "outputs": []
    },
    {
      "cell_type": "code",
      "metadata": {
        "id": "QzWnh2vsPKEV"
      },
      "source": [
        "Biz_Software = business_software_.bizSoft"
      ],
      "execution_count": 7,
      "outputs": []
    },
    {
      "cell_type": "code",
      "metadata": {
        "id": "ZN8Tb0hRPSZB"
      },
      "source": [
        "Biz_Software_Mean = Biz_Software.Nincome_Share.mean()"
      ],
      "execution_count": 8,
      "outputs": []
    },
    {
      "cell_type": "code",
      "metadata": {
        "id": "SzJmmKIuPhXY"
      },
      "source": [
        "RealEstate_Dev_Mean = RealEstate_Dev.Nincome_Share.mean()"
      ],
      "execution_count": 9,
      "outputs": []
    },
    {
      "cell_type": "code",
      "metadata": {
        "id": "Q5cIeqA4PmK4"
      },
      "source": [
        "Business_Info_Mean = Business_Info.Nincome_Share.mean()"
      ],
      "execution_count": 10,
      "outputs": []
    },
    {
      "cell_type": "code",
      "metadata": {
        "id": "6H8YoFrcPq4b",
        "outputId": "7c2d9dbb-970c-4832-c6bf-617a9a628ad5",
        "colab": {
          "base_uri": "https://localhost:8080/",
          "height": 34
        }
      },
      "source": [
        "Biz_Software_Mean, Business_Info_Mean, RealEstate_Dev_Mean"
      ],
      "execution_count": 11,
      "outputs": [
        {
          "output_type": "execute_result",
          "data": {
            "text/plain": [
              "(2.8307680519597027, 3.1962991681299626, 2.62773263824106)"
            ]
          },
          "metadata": {
            "tags": []
          },
          "execution_count": 11
        }
      ]
    },
    {
      "cell_type": "code",
      "metadata": {
        "id": "scOoUG0oPyn-"
      },
      "source": [
        ""
      ],
      "execution_count": null,
      "outputs": []
    }
  ]
}