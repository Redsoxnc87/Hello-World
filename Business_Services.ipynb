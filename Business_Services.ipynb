{
  "nbformat": 4,
  "nbformat_minor": 0,
  "metadata": {
    "colab": {
      "name": "Business_Services.ipynb",
      "provenance": [],
      "collapsed_sections": [],
      "authorship_tag": "ABX9TyNo3sB0/4uy8qXC9ttP3rsz",
      "include_colab_link": true
    },
    "kernelspec": {
      "name": "python3",
      "display_name": "Python 3"
    }
  },
  "cells": [
    {
      "cell_type": "markdown",
      "metadata": {
        "id": "view-in-github",
        "colab_type": "text"
      },
      "source": [
        "<a href=\"https://colab.research.google.com/github/Redsoxnc87/Hello-World/blob/master/Business_Services.ipynb\" target=\"_parent\"><img src=\"https://colab.research.google.com/assets/colab-badge.svg\" alt=\"Open In Colab\"/></a>"
      ]
    },
    {
      "cell_type": "code",
      "metadata": {
        "id": "UYXmhlAOAlFu",
        "colab_type": "code",
        "colab": {}
      },
      "source": [
        "import pandas as pd\n",
        "import numpy as np\n",
        "import math \n",
        "import requests "
      ],
      "execution_count": 1,
      "outputs": []
    },
    {
      "cell_type": "code",
      "metadata": {
        "id": "79NjSw1TAusZ",
        "colab_type": "code",
        "colab": {}
      },
      "source": [
        "import pandas.plotting\n",
        "import matplotlib.pyplot as plt\n",
        "import operator"
      ],
      "execution_count": 2,
      "outputs": []
    },
    {
      "cell_type": "code",
      "metadata": {
        "id": "GPzTRMv5AzTY",
        "colab_type": "code",
        "colab": {}
      },
      "source": [
        "biz = pd.read_csv('Biz_Services_Stocks.csv')"
      ],
      "execution_count": 3,
      "outputs": []
    },
    {
      "cell_type": "code",
      "metadata": {
        "id": "NjHU6mwuA8ZF",
        "colab_type": "code",
        "colab": {
          "base_uri": "https://localhost:8080/",
          "height": 299
        },
        "outputId": "ccd8ccdb-030a-4701-b291-7b049402d8c0"
      },
      "source": [
        "biz.describe()"
      ],
      "execution_count": 4,
      "outputs": [
        {
          "output_type": "execute_result",
          "data": {
            "text/html": [
              "<div>\n",
              "<style scoped>\n",
              "    .dataframe tbody tr th:only-of-type {\n",
              "        vertical-align: middle;\n",
              "    }\n",
              "\n",
              "    .dataframe tbody tr th {\n",
              "        vertical-align: top;\n",
              "    }\n",
              "\n",
              "    .dataframe thead th {\n",
              "        text-align: right;\n",
              "    }\n",
              "</style>\n",
              "<table border=\"1\" class=\"dataframe\">\n",
              "  <thead>\n",
              "    <tr style=\"text-align: right;\">\n",
              "      <th></th>\n",
              "      <th>Last</th>\n",
              "      <th>14D Rel Str</th>\n",
              "      <th>50D Rel Str</th>\n",
              "      <th>Market Cap</th>\n",
              "      <th>Shares Out</th>\n",
              "      <th>Float</th>\n",
              "      <th>1Y Return</th>\n",
              "      <th>3Y Return</th>\n",
              "      <th>5Y Return</th>\n",
              "      <th>Debt/Equity</th>\n",
              "      <th>PEG</th>\n",
              "      <th>52W High</th>\n",
              "      <th>52W Low</th>\n",
              "    </tr>\n",
              "  </thead>\n",
              "  <tbody>\n",
              "    <tr>\n",
              "      <th>count</th>\n",
              "      <td>224.000000</td>\n",
              "      <td>223.000000</td>\n",
              "      <td>221.000000</td>\n",
              "      <td>2.240000e+02</td>\n",
              "      <td>2.240000e+02</td>\n",
              "      <td>2.240000e+02</td>\n",
              "      <td>224.000000</td>\n",
              "      <td>224.000000</td>\n",
              "      <td>224.000000</td>\n",
              "      <td>185.000000</td>\n",
              "      <td>61.000000</td>\n",
              "      <td>224.000000</td>\n",
              "      <td>224.000000</td>\n",
              "    </tr>\n",
              "    <tr>\n",
              "      <th>mean</th>\n",
              "      <td>38.417813</td>\n",
              "      <td>0.524215</td>\n",
              "      <td>0.513258</td>\n",
              "      <td>9.123952e+09</td>\n",
              "      <td>1.077484e+08</td>\n",
              "      <td>1.002319e+05</td>\n",
              "      <td>-0.110268</td>\n",
              "      <td>0.150000</td>\n",
              "      <td>0.281563</td>\n",
              "      <td>1.669297</td>\n",
              "      <td>4.933115</td>\n",
              "      <td>50.350223</td>\n",
              "      <td>22.471518</td>\n",
              "    </tr>\n",
              "    <tr>\n",
              "      <th>std</th>\n",
              "      <td>59.338129</td>\n",
              "      <td>0.083056</td>\n",
              "      <td>0.048348</td>\n",
              "      <td>3.603361e+10</td>\n",
              "      <td>1.827143e+08</td>\n",
              "      <td>1.804682e+05</td>\n",
              "      <td>0.610326</td>\n",
              "      <td>1.421361</td>\n",
              "      <td>1.787414</td>\n",
              "      <td>5.719964</td>\n",
              "      <td>7.923781</td>\n",
              "      <td>66.381805</td>\n",
              "      <td>35.205671</td>\n",
              "    </tr>\n",
              "    <tr>\n",
              "      <th>min</th>\n",
              "      <td>0.500000</td>\n",
              "      <td>0.330000</td>\n",
              "      <td>0.390000</td>\n",
              "      <td>5.909000e+06</td>\n",
              "      <td>1.994000e+06</td>\n",
              "      <td>1.525000e+03</td>\n",
              "      <td>-0.930000</td>\n",
              "      <td>-1.000000</td>\n",
              "      <td>-1.000000</td>\n",
              "      <td>0.000000</td>\n",
              "      <td>0.520000</td>\n",
              "      <td>1.370000</td>\n",
              "      <td>0.090000</td>\n",
              "    </tr>\n",
              "    <tr>\n",
              "      <th>25%</th>\n",
              "      <td>2.930000</td>\n",
              "      <td>0.470000</td>\n",
              "      <td>0.480000</td>\n",
              "      <td>1.098185e+08</td>\n",
              "      <td>2.566600e+07</td>\n",
              "      <td>2.005750e+04</td>\n",
              "      <td>-0.412500</td>\n",
              "      <td>-0.430000</td>\n",
              "      <td>-0.375000</td>\n",
              "      <td>0.130000</td>\n",
              "      <td>1.840000</td>\n",
              "      <td>8.385000</td>\n",
              "      <td>1.417500</td>\n",
              "    </tr>\n",
              "    <tr>\n",
              "      <th>50%</th>\n",
              "      <td>14.855000</td>\n",
              "      <td>0.520000</td>\n",
              "      <td>0.510000</td>\n",
              "      <td>5.422475e+08</td>\n",
              "      <td>5.162450e+07</td>\n",
              "      <td>4.700700e+04</td>\n",
              "      <td>-0.180000</td>\n",
              "      <td>0.000000</td>\n",
              "      <td>0.000000</td>\n",
              "      <td>0.570000</td>\n",
              "      <td>3.000000</td>\n",
              "      <td>25.090000</td>\n",
              "      <td>8.610000</td>\n",
              "    </tr>\n",
              "    <tr>\n",
              "      <th>75%</th>\n",
              "      <td>47.230000</td>\n",
              "      <td>0.570000</td>\n",
              "      <td>0.540000</td>\n",
              "      <td>4.153698e+09</td>\n",
              "      <td>1.124780e+08</td>\n",
              "      <td>1.006408e+05</td>\n",
              "      <td>0.070000</td>\n",
              "      <td>0.302500</td>\n",
              "      <td>0.397500</td>\n",
              "      <td>1.320000</td>\n",
              "      <td>4.130000</td>\n",
              "      <td>70.827500</td>\n",
              "      <td>27.045000</td>\n",
              "    </tr>\n",
              "    <tr>\n",
              "      <th>max</th>\n",
              "      <td>349.970000</td>\n",
              "      <td>0.780000</td>\n",
              "      <td>0.650000</td>\n",
              "      <td>3.837044e+11</td>\n",
              "      <td>1.943496e+09</td>\n",
              "      <td>1.939803e+06</td>\n",
              "      <td>5.840000</td>\n",
              "      <td>15.860000</td>\n",
              "      <td>21.550000</td>\n",
              "      <td>60.250000</td>\n",
              "      <td>55.830000</td>\n",
              "      <td>359.500000</td>\n",
              "      <td>199.990000</td>\n",
              "    </tr>\n",
              "  </tbody>\n",
              "</table>\n",
              "</div>"
            ],
            "text/plain": [
              "             Last  14D Rel Str  50D Rel Str  ...        PEG    52W High     52W Low\n",
              "count  224.000000   223.000000   221.000000  ...  61.000000  224.000000  224.000000\n",
              "mean    38.417813     0.524215     0.513258  ...   4.933115   50.350223   22.471518\n",
              "std     59.338129     0.083056     0.048348  ...   7.923781   66.381805   35.205671\n",
              "min      0.500000     0.330000     0.390000  ...   0.520000    1.370000    0.090000\n",
              "25%      2.930000     0.470000     0.480000  ...   1.840000    8.385000    1.417500\n",
              "50%     14.855000     0.520000     0.510000  ...   3.000000   25.090000    8.610000\n",
              "75%     47.230000     0.570000     0.540000  ...   4.130000   70.827500   27.045000\n",
              "max    349.970000     0.780000     0.650000  ...  55.830000  359.500000  199.990000\n",
              "\n",
              "[8 rows x 13 columns]"
            ]
          },
          "metadata": {
            "tags": []
          },
          "execution_count": 4
        }
      ]
    },
    {
      "cell_type": "code",
      "metadata": {
        "id": "tZuW3UwBBK7K",
        "colab_type": "code",
        "colab": {}
      },
      "source": [
        "rsi_diff = operator.sub(biz['14D Rel Str'],biz['50D Rel Str'])"
      ],
      "execution_count": 6,
      "outputs": []
    },
    {
      "cell_type": "code",
      "metadata": {
        "id": "Xy6u0FekBl-G",
        "colab_type": "code",
        "colab": {}
      },
      "source": [
        "float_diff = operator.truediv(biz['Float'],biz['Shares Out'])"
      ],
      "execution_count": 7,
      "outputs": []
    },
    {
      "cell_type": "code",
      "metadata": {
        "id": "sMdTyApsBuaZ",
        "colab_type": "code",
        "colab": {}
      },
      "source": [
        "cum_ret = operator.add(biz['1Y Return'],biz['3Y Return'])"
      ],
      "execution_count": 8,
      "outputs": []
    },
    {
      "cell_type": "code",
      "metadata": {
        "id": "s4s-fb9wB1-V",
        "colab_type": "code",
        "colab": {}
      },
      "source": [
        "cum_rets = operator.add(cum_ret,biz['5Y Return'])"
      ],
      "execution_count": 9,
      "outputs": []
    },
    {
      "cell_type": "code",
      "metadata": {
        "id": "OofZCw1SB83v",
        "colab_type": "code",
        "colab": {}
      },
      "source": [
        "diff_52 = operator.sub(biz['52W High'],biz['52W Low'])"
      ],
      "execution_count": 10,
      "outputs": []
    },
    {
      "cell_type": "code",
      "metadata": {
        "id": "IS1pJlUBCGok",
        "colab_type": "code",
        "colab": {}
      },
      "source": [
        "biz['RSI_Diff']=(rsi_diff)"
      ],
      "execution_count": 12,
      "outputs": []
    },
    {
      "cell_type": "code",
      "metadata": {
        "id": "Vl4jGdWTCMRO",
        "colab_type": "code",
        "colab": {}
      },
      "source": [
        "biz['Float_Diff']=(float_diff)"
      ],
      "execution_count": 13,
      "outputs": []
    },
    {
      "cell_type": "code",
      "metadata": {
        "id": "1WwygtCOCZuc",
        "colab_type": "code",
        "colab": {}
      },
      "source": [
        "biz['Cummulative_Ret']=(cum_rets)"
      ],
      "execution_count": 14,
      "outputs": []
    },
    {
      "cell_type": "code",
      "metadata": {
        "id": "0ndSRUh0Cfie",
        "colab_type": "code",
        "colab": {}
      },
      "source": [
        "biz['Diff_52']=(diff_52)"
      ],
      "execution_count": 15,
      "outputs": []
    },
    {
      "cell_type": "code",
      "metadata": {
        "id": "8upfmowuDGDi",
        "colab_type": "code",
        "colab": {}
      },
      "source": [
        "oversold = biz.loc[(biz['14D Rel Str'])<.55]\n",
        "overbought = biz.loc[(biz['14D Rel Str'])>.70]"
      ],
      "execution_count": 19,
      "outputs": []
    },
    {
      "cell_type": "code",
      "metadata": {
        "id": "79QIl_xbCjx3",
        "colab_type": "code",
        "colab": {
          "base_uri": "https://localhost:8080/",
          "height": 319
        },
        "outputId": "3a827ba4-89b7-4573-eddb-b32693387238"
      },
      "source": [
        "biz.describe()"
      ],
      "execution_count": 20,
      "outputs": [
        {
          "output_type": "execute_result",
          "data": {
            "text/html": [
              "<div>\n",
              "<style scoped>\n",
              "    .dataframe tbody tr th:only-of-type {\n",
              "        vertical-align: middle;\n",
              "    }\n",
              "\n",
              "    .dataframe tbody tr th {\n",
              "        vertical-align: top;\n",
              "    }\n",
              "\n",
              "    .dataframe thead th {\n",
              "        text-align: right;\n",
              "    }\n",
              "</style>\n",
              "<table border=\"1\" class=\"dataframe\">\n",
              "  <thead>\n",
              "    <tr style=\"text-align: right;\">\n",
              "      <th></th>\n",
              "      <th>Last</th>\n",
              "      <th>14D Rel Str</th>\n",
              "      <th>50D Rel Str</th>\n",
              "      <th>Market Cap</th>\n",
              "      <th>Shares Out</th>\n",
              "      <th>Float</th>\n",
              "      <th>1Y Return</th>\n",
              "      <th>3Y Return</th>\n",
              "      <th>5Y Return</th>\n",
              "      <th>Debt/Equity</th>\n",
              "      <th>PEG</th>\n",
              "      <th>52W High</th>\n",
              "      <th>52W Low</th>\n",
              "      <th>RSI_Diff</th>\n",
              "      <th>Float_Diff</th>\n",
              "      <th>Cummulative_Ret</th>\n",
              "      <th>Diff_52</th>\n",
              "    </tr>\n",
              "  </thead>\n",
              "  <tbody>\n",
              "    <tr>\n",
              "      <th>count</th>\n",
              "      <td>224.000000</td>\n",
              "      <td>223.000000</td>\n",
              "      <td>221.000000</td>\n",
              "      <td>2.240000e+02</td>\n",
              "      <td>2.240000e+02</td>\n",
              "      <td>2.240000e+02</td>\n",
              "      <td>224.000000</td>\n",
              "      <td>224.000000</td>\n",
              "      <td>224.000000</td>\n",
              "      <td>185.000000</td>\n",
              "      <td>61.000000</td>\n",
              "      <td>224.000000</td>\n",
              "      <td>224.000000</td>\n",
              "      <td>221.000000</td>\n",
              "      <td>224.000000</td>\n",
              "      <td>224.000000</td>\n",
              "      <td>224.000000</td>\n",
              "    </tr>\n",
              "    <tr>\n",
              "      <th>mean</th>\n",
              "      <td>38.417813</td>\n",
              "      <td>0.524215</td>\n",
              "      <td>0.513258</td>\n",
              "      <td>9.123952e+09</td>\n",
              "      <td>1.077484e+08</td>\n",
              "      <td>1.002319e+05</td>\n",
              "      <td>-0.110268</td>\n",
              "      <td>0.150000</td>\n",
              "      <td>0.281563</td>\n",
              "      <td>1.669297</td>\n",
              "      <td>4.933115</td>\n",
              "      <td>50.350223</td>\n",
              "      <td>22.471518</td>\n",
              "      <td>0.011357</td>\n",
              "      <td>0.000880</td>\n",
              "      <td>0.321295</td>\n",
              "      <td>27.878705</td>\n",
              "    </tr>\n",
              "    <tr>\n",
              "      <th>std</th>\n",
              "      <td>59.338129</td>\n",
              "      <td>0.083056</td>\n",
              "      <td>0.048348</td>\n",
              "      <td>3.603361e+10</td>\n",
              "      <td>1.827143e+08</td>\n",
              "      <td>1.804682e+05</td>\n",
              "      <td>0.610326</td>\n",
              "      <td>1.421361</td>\n",
              "      <td>1.787414</td>\n",
              "      <td>5.719964</td>\n",
              "      <td>7.923781</td>\n",
              "      <td>66.381805</td>\n",
              "      <td>35.205671</td>\n",
              "      <td>0.057064</td>\n",
              "      <td>0.000181</td>\n",
              "      <td>3.233282</td>\n",
              "      <td>34.770689</td>\n",
              "    </tr>\n",
              "    <tr>\n",
              "      <th>min</th>\n",
              "      <td>0.500000</td>\n",
              "      <td>0.330000</td>\n",
              "      <td>0.390000</td>\n",
              "      <td>5.909000e+06</td>\n",
              "      <td>1.994000e+06</td>\n",
              "      <td>1.525000e+03</td>\n",
              "      <td>-0.930000</td>\n",
              "      <td>-1.000000</td>\n",
              "      <td>-1.000000</td>\n",
              "      <td>0.000000</td>\n",
              "      <td>0.520000</td>\n",
              "      <td>1.370000</td>\n",
              "      <td>0.090000</td>\n",
              "      <td>-0.150000</td>\n",
              "      <td>0.000069</td>\n",
              "      <td>-2.920000</td>\n",
              "      <td>0.770000</td>\n",
              "    </tr>\n",
              "    <tr>\n",
              "      <th>25%</th>\n",
              "      <td>2.930000</td>\n",
              "      <td>0.470000</td>\n",
              "      <td>0.480000</td>\n",
              "      <td>1.098185e+08</td>\n",
              "      <td>2.566600e+07</td>\n",
              "      <td>2.005750e+04</td>\n",
              "      <td>-0.412500</td>\n",
              "      <td>-0.430000</td>\n",
              "      <td>-0.375000</td>\n",
              "      <td>0.130000</td>\n",
              "      <td>1.840000</td>\n",
              "      <td>8.385000</td>\n",
              "      <td>1.417500</td>\n",
              "      <td>-0.030000</td>\n",
              "      <td>0.000835</td>\n",
              "      <td>-1.022500</td>\n",
              "      <td>5.815000</td>\n",
              "    </tr>\n",
              "    <tr>\n",
              "      <th>50%</th>\n",
              "      <td>14.855000</td>\n",
              "      <td>0.520000</td>\n",
              "      <td>0.510000</td>\n",
              "      <td>5.422475e+08</td>\n",
              "      <td>5.162450e+07</td>\n",
              "      <td>4.700700e+04</td>\n",
              "      <td>-0.180000</td>\n",
              "      <td>0.000000</td>\n",
              "      <td>0.000000</td>\n",
              "      <td>0.570000</td>\n",
              "      <td>3.000000</td>\n",
              "      <td>25.090000</td>\n",
              "      <td>8.610000</td>\n",
              "      <td>0.010000</td>\n",
              "      <td>0.000963</td>\n",
              "      <td>-0.255000</td>\n",
              "      <td>15.295000</td>\n",
              "    </tr>\n",
              "    <tr>\n",
              "      <th>75%</th>\n",
              "      <td>47.230000</td>\n",
              "      <td>0.570000</td>\n",
              "      <td>0.540000</td>\n",
              "      <td>4.153698e+09</td>\n",
              "      <td>1.124780e+08</td>\n",
              "      <td>1.006408e+05</td>\n",
              "      <td>0.070000</td>\n",
              "      <td>0.302500</td>\n",
              "      <td>0.397500</td>\n",
              "      <td>1.320000</td>\n",
              "      <td>4.130000</td>\n",
              "      <td>70.827500</td>\n",
              "      <td>27.045000</td>\n",
              "      <td>0.040000</td>\n",
              "      <td>0.000992</td>\n",
              "      <td>0.937500</td>\n",
              "      <td>35.640000</td>\n",
              "    </tr>\n",
              "    <tr>\n",
              "      <th>max</th>\n",
              "      <td>349.970000</td>\n",
              "      <td>0.780000</td>\n",
              "      <td>0.650000</td>\n",
              "      <td>3.837044e+11</td>\n",
              "      <td>1.943496e+09</td>\n",
              "      <td>1.939803e+06</td>\n",
              "      <td>5.840000</td>\n",
              "      <td>15.860000</td>\n",
              "      <td>21.550000</td>\n",
              "      <td>60.250000</td>\n",
              "      <td>55.830000</td>\n",
              "      <td>359.500000</td>\n",
              "      <td>199.990000</td>\n",
              "      <td>0.210000</td>\n",
              "      <td>0.001000</td>\n",
              "      <td>37.040000</td>\n",
              "      <td>190.490000</td>\n",
              "    </tr>\n",
              "  </tbody>\n",
              "</table>\n",
              "</div>"
            ],
            "text/plain": [
              "             Last  14D Rel Str  ...  Cummulative_Ret     Diff_52\n",
              "count  224.000000   223.000000  ...       224.000000  224.000000\n",
              "mean    38.417813     0.524215  ...         0.321295   27.878705\n",
              "std     59.338129     0.083056  ...         3.233282   34.770689\n",
              "min      0.500000     0.330000  ...        -2.920000    0.770000\n",
              "25%      2.930000     0.470000  ...        -1.022500    5.815000\n",
              "50%     14.855000     0.520000  ...        -0.255000   15.295000\n",
              "75%     47.230000     0.570000  ...         0.937500   35.640000\n",
              "max    349.970000     0.780000  ...        37.040000  190.490000\n",
              "\n",
              "[8 rows x 17 columns]"
            ]
          },
          "metadata": {
            "tags": []
          },
          "execution_count": 20
        }
      ]
    },
    {
      "cell_type": "code",
      "metadata": {
        "id": "RWKgmCIUCmdA",
        "colab_type": "code",
        "colab": {
          "base_uri": "https://localhost:8080/",
          "height": 34
        },
        "outputId": "8da1fee4-7eee-4b4e-f583-03498e9ca757"
      },
      "source": [
        "len(oversold)"
      ],
      "execution_count": 21,
      "outputs": [
        {
          "output_type": "execute_result",
          "data": {
            "text/plain": [
              "141"
            ]
          },
          "metadata": {
            "tags": []
          },
          "execution_count": 21
        }
      ]
    },
    {
      "cell_type": "code",
      "metadata": {
        "id": "02aUVw-NCwZO",
        "colab_type": "code",
        "colab": {
          "base_uri": "https://localhost:8080/",
          "height": 319
        },
        "outputId": "11ccf293-6fe2-4c18-f8cb-f09ef853f4ee"
      },
      "source": [
        "oversold.describe()"
      ],
      "execution_count": 22,
      "outputs": [
        {
          "output_type": "execute_result",
          "data": {
            "text/html": [
              "<div>\n",
              "<style scoped>\n",
              "    .dataframe tbody tr th:only-of-type {\n",
              "        vertical-align: middle;\n",
              "    }\n",
              "\n",
              "    .dataframe tbody tr th {\n",
              "        vertical-align: top;\n",
              "    }\n",
              "\n",
              "    .dataframe thead th {\n",
              "        text-align: right;\n",
              "    }\n",
              "</style>\n",
              "<table border=\"1\" class=\"dataframe\">\n",
              "  <thead>\n",
              "    <tr style=\"text-align: right;\">\n",
              "      <th></th>\n",
              "      <th>Last</th>\n",
              "      <th>14D Rel Str</th>\n",
              "      <th>50D Rel Str</th>\n",
              "      <th>Market Cap</th>\n",
              "      <th>Shares Out</th>\n",
              "      <th>Float</th>\n",
              "      <th>1Y Return</th>\n",
              "      <th>3Y Return</th>\n",
              "      <th>5Y Return</th>\n",
              "      <th>Debt/Equity</th>\n",
              "      <th>PEG</th>\n",
              "      <th>52W High</th>\n",
              "      <th>52W Low</th>\n",
              "      <th>RSI_Diff</th>\n",
              "      <th>Float_Diff</th>\n",
              "      <th>Cummulative_Ret</th>\n",
              "      <th>Diff_52</th>\n",
              "    </tr>\n",
              "  </thead>\n",
              "  <tbody>\n",
              "    <tr>\n",
              "      <th>count</th>\n",
              "      <td>141.000000</td>\n",
              "      <td>141.000000</td>\n",
              "      <td>139.000000</td>\n",
              "      <td>1.410000e+02</td>\n",
              "      <td>1.410000e+02</td>\n",
              "      <td>1.410000e+02</td>\n",
              "      <td>141.000000</td>\n",
              "      <td>141.000000</td>\n",
              "      <td>141.000000</td>\n",
              "      <td>118.000000</td>\n",
              "      <td>33.000000</td>\n",
              "      <td>141.000000</td>\n",
              "      <td>141.000000</td>\n",
              "      <td>139.000000</td>\n",
              "      <td>141.000000</td>\n",
              "      <td>141.000000</td>\n",
              "      <td>141.000000</td>\n",
              "    </tr>\n",
              "    <tr>\n",
              "      <th>mean</th>\n",
              "      <td>30.374255</td>\n",
              "      <td>0.474752</td>\n",
              "      <td>0.491295</td>\n",
              "      <td>8.552002e+09</td>\n",
              "      <td>1.007177e+08</td>\n",
              "      <td>9.218435e+04</td>\n",
              "      <td>-0.218511</td>\n",
              "      <td>0.177163</td>\n",
              "      <td>0.254397</td>\n",
              "      <td>1.190593</td>\n",
              "      <td>4.750606</td>\n",
              "      <td>43.693972</td>\n",
              "      <td>18.740426</td>\n",
              "      <td>-0.016619</td>\n",
              "      <td>0.000875</td>\n",
              "      <td>0.213050</td>\n",
              "      <td>24.953546</td>\n",
              "    </tr>\n",
              "    <tr>\n",
              "      <th>std</th>\n",
              "      <td>49.671395</td>\n",
              "      <td>0.048544</td>\n",
              "      <td>0.037413</td>\n",
              "      <td>4.229470e+10</td>\n",
              "      <td>2.062204e+08</td>\n",
              "      <td>2.027504e+05</td>\n",
              "      <td>0.468930</td>\n",
              "      <td>1.735906</td>\n",
              "      <td>2.137730</td>\n",
              "      <td>3.091420</td>\n",
              "      <td>5.699546</td>\n",
              "      <td>59.819215</td>\n",
              "      <td>31.096018</td>\n",
              "      <td>0.039701</td>\n",
              "      <td>0.000185</td>\n",
              "      <td>3.855565</td>\n",
              "      <td>32.538511</td>\n",
              "    </tr>\n",
              "    <tr>\n",
              "      <th>min</th>\n",
              "      <td>0.500000</td>\n",
              "      <td>0.330000</td>\n",
              "      <td>0.390000</td>\n",
              "      <td>5.909000e+06</td>\n",
              "      <td>1.994000e+06</td>\n",
              "      <td>1.543000e+03</td>\n",
              "      <td>-0.930000</td>\n",
              "      <td>-1.000000</td>\n",
              "      <td>-1.000000</td>\n",
              "      <td>0.000000</td>\n",
              "      <td>0.600000</td>\n",
              "      <td>1.370000</td>\n",
              "      <td>0.090000</td>\n",
              "      <td>-0.150000</td>\n",
              "      <td>0.000069</td>\n",
              "      <td>-2.920000</td>\n",
              "      <td>0.770000</td>\n",
              "    </tr>\n",
              "    <tr>\n",
              "      <th>25%</th>\n",
              "      <td>2.300000</td>\n",
              "      <td>0.440000</td>\n",
              "      <td>0.470000</td>\n",
              "      <td>8.492600e+07</td>\n",
              "      <td>2.192200e+07</td>\n",
              "      <td>1.900500e+04</td>\n",
              "      <td>-0.500000</td>\n",
              "      <td>-0.490000</td>\n",
              "      <td>-0.430000</td>\n",
              "      <td>0.082500</td>\n",
              "      <td>1.820000</td>\n",
              "      <td>8.000000</td>\n",
              "      <td>1.220000</td>\n",
              "      <td>-0.040000</td>\n",
              "      <td>0.000835</td>\n",
              "      <td>-1.140000</td>\n",
              "      <td>5.330000</td>\n",
              "    </tr>\n",
              "    <tr>\n",
              "      <th>50%</th>\n",
              "      <td>11.010000</td>\n",
              "      <td>0.480000</td>\n",
              "      <td>0.490000</td>\n",
              "      <td>4.065590e+08</td>\n",
              "      <td>4.762800e+07</td>\n",
              "      <td>3.872200e+04</td>\n",
              "      <td>-0.270000</td>\n",
              "      <td>0.000000</td>\n",
              "      <td>0.000000</td>\n",
              "      <td>0.405000</td>\n",
              "      <td>2.370000</td>\n",
              "      <td>20.440000</td>\n",
              "      <td>7.020000</td>\n",
              "      <td>-0.010000</td>\n",
              "      <td>0.000958</td>\n",
              "      <td>-0.490000</td>\n",
              "      <td>13.830000</td>\n",
              "    </tr>\n",
              "    <tr>\n",
              "      <th>75%</th>\n",
              "      <td>37.140000</td>\n",
              "      <td>0.510000</td>\n",
              "      <td>0.510000</td>\n",
              "      <td>2.202174e+09</td>\n",
              "      <td>8.542900e+07</td>\n",
              "      <td>7.692800e+04</td>\n",
              "      <td>-0.050000</td>\n",
              "      <td>0.200000</td>\n",
              "      <td>0.120000</td>\n",
              "      <td>1.090000</td>\n",
              "      <td>3.770000</td>\n",
              "      <td>54.150000</td>\n",
              "      <td>23.260000</td>\n",
              "      <td>0.010000</td>\n",
              "      <td>0.000991</td>\n",
              "      <td>0.540000</td>\n",
              "      <td>30.340000</td>\n",
              "    </tr>\n",
              "    <tr>\n",
              "      <th>max</th>\n",
              "      <td>306.920000</td>\n",
              "      <td>0.540000</td>\n",
              "      <td>0.630000</td>\n",
              "      <td>3.837044e+11</td>\n",
              "      <td>1.943496e+09</td>\n",
              "      <td>1.939803e+06</td>\n",
              "      <td>2.510000</td>\n",
              "      <td>15.860000</td>\n",
              "      <td>21.550000</td>\n",
              "      <td>23.490000</td>\n",
              "      <td>23.910000</td>\n",
              "      <td>347.250000</td>\n",
              "      <td>199.990000</td>\n",
              "      <td>0.080000</td>\n",
              "      <td>0.001000</td>\n",
              "      <td>37.040000</td>\n",
              "      <td>173.870000</td>\n",
              "    </tr>\n",
              "  </tbody>\n",
              "</table>\n",
              "</div>"
            ],
            "text/plain": [
              "             Last  14D Rel Str  ...  Cummulative_Ret     Diff_52\n",
              "count  141.000000   141.000000  ...       141.000000  141.000000\n",
              "mean    30.374255     0.474752  ...         0.213050   24.953546\n",
              "std     49.671395     0.048544  ...         3.855565   32.538511\n",
              "min      0.500000     0.330000  ...        -2.920000    0.770000\n",
              "25%      2.300000     0.440000  ...        -1.140000    5.330000\n",
              "50%     11.010000     0.480000  ...        -0.490000   13.830000\n",
              "75%     37.140000     0.510000  ...         0.540000   30.340000\n",
              "max    306.920000     0.540000  ...        37.040000  173.870000\n",
              "\n",
              "[8 rows x 17 columns]"
            ]
          },
          "metadata": {
            "tags": []
          },
          "execution_count": 22
        }
      ]
    },
    {
      "cell_type": "code",
      "metadata": {
        "id": "PceTFSCtC5AJ",
        "colab_type": "code",
        "colab": {}
      },
      "source": [
        "osold_ret = oversold.loc[(oversold['Cummulative_Ret'])>0.25]"
      ],
      "execution_count": 23,
      "outputs": []
    },
    {
      "cell_type": "code",
      "metadata": {
        "id": "A_rh4auJDVLt",
        "colab_type": "code",
        "colab": {
          "base_uri": "https://localhost:8080/",
          "height": 34
        },
        "outputId": "2cd1f311-0aab-4e4e-bca4-63ba5b9edd92"
      },
      "source": [
        "len(osold_ret)"
      ],
      "execution_count": 24,
      "outputs": [
        {
          "output_type": "execute_result",
          "data": {
            "text/plain": [
              "40"
            ]
          },
          "metadata": {
            "tags": []
          },
          "execution_count": 24
        }
      ]
    },
    {
      "cell_type": "code",
      "metadata": {
        "id": "3_U38V6zDW0V",
        "colab_type": "code",
        "colab": {}
      },
      "source": [
        "osold_ret.to_csv('Biz_Services_Oversold_Returns.csv', index=False)"
      ],
      "execution_count": 25,
      "outputs": []
    },
    {
      "cell_type": "code",
      "metadata": {
        "id": "QUEhh9OpDg4p",
        "colab_type": "code",
        "colab": {}
      },
      "source": [
        ""
      ],
      "execution_count": null,
      "outputs": []
    }
  ]
}