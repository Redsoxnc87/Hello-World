{
  "nbformat": 4,
  "nbformat_minor": 0,
  "metadata": {
    "colab": {
      "name": "World Econ Metrics.ipynb",
      "provenance": [],
      "collapsed_sections": [],
      "toc_visible": true,
      "authorship_tag": "ABX9TyMtNLwN6cceoB29o1h8l6Q1",
      "include_colab_link": true
    },
    "kernelspec": {
      "name": "python3",
      "display_name": "Python 3"
    }
  },
  "cells": [
    {
      "cell_type": "markdown",
      "metadata": {
        "id": "view-in-github",
        "colab_type": "text"
      },
      "source": [
        "<a href=\"https://colab.research.google.com/github/Redsoxnc87/Hello-World/blob/master/World_Econ_Metrics.ipynb\" target=\"_parent\"><img src=\"https://colab.research.google.com/assets/colab-badge.svg\" alt=\"Open In Colab\"/></a>"
      ]
    },
    {
      "cell_type": "code",
      "metadata": {
        "id": "uSb2YWUrxgnu",
        "colab_type": "code",
        "colab": {}
      },
      "source": [
        "import pandas as pd\n",
        "import numpy as np\n",
        "import requests\n",
        "import seaborn \n",
        "import plotly"
      ],
      "execution_count": 0,
      "outputs": []
    },
    {
      "cell_type": "code",
      "metadata": {
        "id": "DRWsRxXLx3Pk",
        "colab_type": "code",
        "colab": {}
      },
      "source": [
        "import matplotlib.pyplot as plt\n"
      ],
      "execution_count": 0,
      "outputs": []
    },
    {
      "cell_type": "code",
      "metadata": {
        "id": "q0opJoYVx5Ho",
        "colab_type": "code",
        "colab": {}
      },
      "source": [
        "wages = pd.read_csv('Avg_Wage_Yearly.csv')"
      ],
      "execution_count": 0,
      "outputs": []
    },
    {
      "cell_type": "code",
      "metadata": {
        "id": "L2kMaFuqyCVw",
        "colab_type": "code",
        "colab": {
          "base_uri": "https://localhost:8080/",
          "height": 191
        },
        "outputId": "df2fa10d-f536-46e8-f08e-a33fca19a664"
      },
      "source": [
        "wages.head()"
      ],
      "execution_count": 4,
      "outputs": [
        {
          "output_type": "execute_result",
          "data": {
            "text/html": [
              "<div>\n",
              "<style scoped>\n",
              "    .dataframe tbody tr th:only-of-type {\n",
              "        vertical-align: middle;\n",
              "    }\n",
              "\n",
              "    .dataframe tbody tr th {\n",
              "        vertical-align: top;\n",
              "    }\n",
              "\n",
              "    .dataframe thead th {\n",
              "        text-align: right;\n",
              "    }\n",
              "</style>\n",
              "<table border=\"1\" class=\"dataframe\">\n",
              "  <thead>\n",
              "    <tr style=\"text-align: right;\">\n",
              "      <th></th>\n",
              "      <th>LOCATION</th>\n",
              "      <th>INDICATOR</th>\n",
              "      <th>SUBJECT</th>\n",
              "      <th>MEASURE</th>\n",
              "      <th>FREQUENCY</th>\n",
              "      <th>TIME</th>\n",
              "      <th>Value</th>\n",
              "    </tr>\n",
              "  </thead>\n",
              "  <tbody>\n",
              "    <tr>\n",
              "      <th>0</th>\n",
              "      <td>AUS</td>\n",
              "      <td>AVWAGE</td>\n",
              "      <td>TOT</td>\n",
              "      <td>USD</td>\n",
              "      <td>A</td>\n",
              "      <td>1990</td>\n",
              "      <td>40102.17328</td>\n",
              "    </tr>\n",
              "    <tr>\n",
              "      <th>1</th>\n",
              "      <td>AUS</td>\n",
              "      <td>AVWAGE</td>\n",
              "      <td>TOT</td>\n",
              "      <td>USD</td>\n",
              "      <td>A</td>\n",
              "      <td>1991</td>\n",
              "      <td>39911.21029</td>\n",
              "    </tr>\n",
              "    <tr>\n",
              "      <th>2</th>\n",
              "      <td>AUS</td>\n",
              "      <td>AVWAGE</td>\n",
              "      <td>TOT</td>\n",
              "      <td>USD</td>\n",
              "      <td>A</td>\n",
              "      <td>1992</td>\n",
              "      <td>40712.37396</td>\n",
              "    </tr>\n",
              "    <tr>\n",
              "      <th>3</th>\n",
              "      <td>AUS</td>\n",
              "      <td>AVWAGE</td>\n",
              "      <td>TOT</td>\n",
              "      <td>USD</td>\n",
              "      <td>A</td>\n",
              "      <td>1993</td>\n",
              "      <td>41087.15506</td>\n",
              "    </tr>\n",
              "    <tr>\n",
              "      <th>4</th>\n",
              "      <td>AUS</td>\n",
              "      <td>AVWAGE</td>\n",
              "      <td>TOT</td>\n",
              "      <td>USD</td>\n",
              "      <td>A</td>\n",
              "      <td>1994</td>\n",
              "      <td>41365.72262</td>\n",
              "    </tr>\n",
              "  </tbody>\n",
              "</table>\n",
              "</div>"
            ],
            "text/plain": [
              "  LOCATION INDICATOR SUBJECT MEASURE FREQUENCY  TIME        Value\n",
              "0      AUS    AVWAGE     TOT     USD         A  1990  40102.17328\n",
              "1      AUS    AVWAGE     TOT     USD         A  1991  39911.21029\n",
              "2      AUS    AVWAGE     TOT     USD         A  1992  40712.37396\n",
              "3      AUS    AVWAGE     TOT     USD         A  1993  41087.15506\n",
              "4      AUS    AVWAGE     TOT     USD         A  1994  41365.72262"
            ]
          },
          "metadata": {
            "tags": []
          },
          "execution_count": 4
        }
      ]
    },
    {
      "cell_type": "code",
      "metadata": {
        "id": "J9-sZzP3yEei",
        "colab_type": "code",
        "colab": {}
      },
      "source": [
        "usa_wages = wages.loc[(wages['LOCATION'])=='USA']"
      ],
      "execution_count": 0,
      "outputs": []
    },
    {
      "cell_type": "code",
      "metadata": {
        "id": "DzsJPxnmyJAQ",
        "colab_type": "code",
        "colab": {
          "base_uri": "https://localhost:8080/",
          "height": 281
        },
        "outputId": "29454e15-137b-443f-cc9e-a363df01dddc"
      },
      "source": [
        "usa_wages['Value'].plot()"
      ],
      "execution_count": 11,
      "outputs": [
        {
          "output_type": "execute_result",
          "data": {
            "text/plain": [
              "<matplotlib.axes._subplots.AxesSubplot at 0x7f4cf9d686d8>"
            ]
          },
          "metadata": {
            "tags": []
          },
          "execution_count": 11
        },
        {
          "output_type": "display_data",
          "data": {
            "image/png": "[encoded data removed]",
            "text/plain": [
              "<Figure size 432x288 with 1 Axes>"
            ]
          },
          "metadata": {
            "tags": []
          }
        }
      ]
    },
    {
      "cell_type": "code",
      "metadata": {
        "id": "sZ2LZrSYy0Ny",
        "colab_type": "code",
        "colab": {}
      },
      "source": [
        "can_wages = wages.loc[(wages['LOCATION'])=='CAN']"
      ],
      "execution_count": 0,
      "outputs": []
    },
    {
      "cell_type": "code",
      "metadata": {
        "id": "Jga-ROjWzHcy",
        "colab_type": "code",
        "colab": {}
      },
      "source": [
        "aus_wages = wages.loc[(wages['LOCATION'])=='AUS']"
      ],
      "execution_count": 0,
      "outputs": []
    },
    {
      "cell_type": "code",
      "metadata": {
        "id": "NieCoZmczPoi",
        "colab_type": "code",
        "colab": {}
      },
      "source": [
        "fra_wages = wages.loc[(wages['LOCATION'])=='FRA']"
      ],
      "execution_count": 0,
      "outputs": []
    },
    {
      "cell_type": "code",
      "metadata": {
        "id": "uzzuUH6Nzg0d",
        "colab_type": "code",
        "colab": {}
      },
      "source": [
        "irl_wages = wages.loc[(wages['LOCATION'])=='IRL']"
      ],
      "execution_count": 0,
      "outputs": []
    },
    {
      "cell_type": "code",
      "metadata": {
        "id": "glT5_cf4zrSa",
        "colab_type": "code",
        "colab": {}
      },
      "source": [
        "ita_wages = wages.loc[(wages['LOCATION'])=='ITA']"
      ],
      "execution_count": 0,
      "outputs": []
    },
    {
      "cell_type": "code",
      "metadata": {
        "id": "kfTPKlfCzzu9",
        "colab_type": "code",
        "colab": {}
      },
      "source": [
        "jpn_wages = wages.loc[(wages['LOCATION'])=='JPN']"
      ],
      "execution_count": 0,
      "outputs": []
    },
    {
      "cell_type": "code",
      "metadata": {
        "id": "NmGItgVkz-w4",
        "colab_type": "code",
        "colab": {}
      },
      "source": [
        "kor_wages = wages.loc[(wages['LOCATION'])=='KOR']"
      ],
      "execution_count": 0,
      "outputs": []
    },
    {
      "cell_type": "code",
      "metadata": {
        "id": "RyVsDav70Eeu",
        "colab_type": "code",
        "colab": {}
      },
      "source": [
        "mex_wages = wages.loc[(wages['LOCATION'])=='MEX']"
      ],
      "execution_count": 0,
      "outputs": []
    },
    {
      "cell_type": "code",
      "metadata": {
        "id": "ysCXZa5x0QV_",
        "colab_type": "code",
        "colab": {}
      },
      "source": [
        "esp_wages = wages.loc[(wages['LOCATION'])=='ESP']"
      ],
      "execution_count": 0,
      "outputs": []
    },
    {
      "cell_type": "code",
      "metadata": {
        "id": "clf7KMw60bEU",
        "colab_type": "code",
        "colab": {}
      },
      "source": [
        "swe_wages = wages.loc[(wages['LOCATION'])=='SWE']"
      ],
      "execution_count": 0,
      "outputs": []
    },
    {
      "cell_type": "code",
      "metadata": {
        "id": "FfesIMcv0iD8",
        "colab_type": "code",
        "colab": {}
      },
      "source": [
        "gbr_wages = wages.loc[(wages['LOCATION'])=='GBR']"
      ],
      "execution_count": 0,
      "outputs": []
    },
    {
      "cell_type": "code",
      "metadata": {
        "id": "N1muAWxL0sQS",
        "colab_type": "code",
        "colab": {}
      },
      "source": [
        "isr_wages = wages.loc[(wages['LOCATION'])=='ISR']"
      ],
      "execution_count": 0,
      "outputs": []
    },
    {
      "cell_type": "code",
      "metadata": {
        "id": "d1GZPtjD0zL4",
        "colab_type": "code",
        "colab": {
          "base_uri": "https://localhost:8080/",
          "height": 297
        },
        "outputId": "452c133d-6563-43c8-bca5-db532b3085e8"
      },
      "source": [
        "usa_wages['Value'].plot() , kor_wages['Value'].plot()"
      ],
      "execution_count": 26,
      "outputs": [
        {
          "output_type": "execute_result",
          "data": {
            "text/plain": [
              "(<matplotlib.axes._subplots.AxesSubplot at 0x7f4cf9694cc0>,\n",
              " <matplotlib.axes._subplots.AxesSubplot at 0x7f4cf9694cc0>)"
            ]
          },
          "metadata": {
            "tags": []
          },
          "execution_count": 26
        },
        {
          "output_type": "display_data",
          "data": {
            "image/png": "[encoded data removed]",
            "text/plain": [
              "<Figure size 432x288 with 1 Axes>"
            ]
          },
          "metadata": {
            "tags": []
          }
        }
      ]
    },
    {
      "cell_type": "code",
      "metadata": {
        "id": "MTPVWDdc1NHM",
        "colab_type": "code",
        "colab": {}
      },
      "source": [
        "tax = pd.read_csv('Tax_on_Personal_income.csv')"
      ],
      "execution_count": 0,
      "outputs": []
    },
    {
      "cell_type": "code",
      "metadata": {
        "id": "fACjKNXl3RWO",
        "colab_type": "code",
        "colab": {}
      },
      "source": [
        "usa_tax = tax.loc[(tax['LOCATION'])=='USA']"
      ],
      "execution_count": 0,
      "outputs": []
    },
    {
      "cell_type": "code",
      "metadata": {
        "id": "AIGlFCcf3XsF",
        "colab_type": "code",
        "colab": {}
      },
      "source": [
        "crop_tax = pd.read_csv('CORP_Tax.csv')"
      ],
      "execution_count": 0,
      "outputs": []
    },
    {
      "cell_type": "code",
      "metadata": {
        "id": "QejjiQRb4AZO",
        "colab_type": "code",
        "colab": {}
      },
      "source": [
        "usa_corp_tax = crop_tax.loc[(crop_tax['LOCATION'])=='USA']"
      ],
      "execution_count": 0,
      "outputs": []
    },
    {
      "cell_type": "code",
      "metadata": {
        "id": "nrjn64CU4G38",
        "colab_type": "code",
        "colab": {}
      },
      "source": [
        "disposable_income = pd.read_csv('Disposable_Income.csv')"
      ],
      "execution_count": 0,
      "outputs": []
    },
    {
      "cell_type": "code",
      "metadata": {
        "id": "_c2QvkCU5sEl",
        "colab_type": "code",
        "colab": {}
      },
      "source": [
        "usa_disposable_income = disposable_income.loc[(disposable_income['LOCATION'])=='USA']"
      ],
      "execution_count": 0,
      "outputs": []
    },
    {
      "cell_type": "code",
      "metadata": {
        "id": "HtJ7spkK51zQ",
        "colab_type": "code",
        "colab": {}
      },
      "source": [
        "house_spening = pd.read_csv('Household_Spending.csv')\n",
        "house_savings = pd.read_csv('Household_Savings_Annual.csv')\n",
        "house_debt = pd.read_csv('Household_Debt.csv')"
      ],
      "execution_count": 0,
      "outputs": []
    },
    {
      "cell_type": "code",
      "metadata": {
        "id": "pNwKIFAK7rqV",
        "colab_type": "code",
        "colab": {}
      },
      "source": [
        "usa_house_spening = house_spening.loc[(house_spening['LOCATION'])=='USA']\n",
        "usa_house_savings = house_savings.loc[(house_savings['LOCATION'])=='USA']\n",
        "usa_house_debt = house_debt.loc[(house_debt['LOCATION'])=='USA']"
      ],
      "execution_count": 0,
      "outputs": []
    },
    {
      "cell_type": "code",
      "metadata": {
        "id": "_7zpxnyu8Elh",
        "colab_type": "code",
        "colab": {
          "base_uri": "https://localhost:8080/",
          "height": 292
        },
        "outputId": "3d0c8950-f37e-44bb-80ab-cea37833e62f"
      },
      "source": [
        "usa_house_spening['Value'].plot()"
      ],
      "execution_count": 41,
      "outputs": [
        {
          "output_type": "execute_result",
          "data": {
            "text/plain": [
              "<matplotlib.axes._subplots.AxesSubplot at 0x7f4cf914bac8>"
            ]
          },
          "metadata": {
            "tags": []
          },
          "execution_count": 41
        },
        {
          "output_type": "display_data",
          "data": {
            "image/png": "[encoded data removed]",
            "text/plain": [
              "<Figure size 432x288 with 1 Axes>"
            ]
          },
          "metadata": {
            "tags": []
          }
        }
      ]
    },
    {
      "cell_type": "code",
      "metadata": {
        "id": "lmzVhsH18UXf",
        "colab_type": "code",
        "colab": {
          "base_uri": "https://localhost:8080/",
          "height": 281
        },
        "outputId": "0308e73f-277b-4bce-8888-23ab6e824545"
      },
      "source": [
        "usa_disposable_income['Value'].plot()"
      ],
      "execution_count": 42,
      "outputs": [
        {
          "output_type": "execute_result",
          "data": {
            "text/plain": [
              "<matplotlib.axes._subplots.AxesSubplot at 0x7f4cf91243c8>"
            ]
          },
          "metadata": {
            "tags": []
          },
          "execution_count": 42
        },
        {
          "output_type": "display_data",
          "data": {
            "image/png": "[encoded data removed]",
            "text/plain": [
              "<Figure size 432x288 with 1 Axes>"
            ]
          },
          "metadata": {
            "tags": []
          }
        }
      ]
    },
    {
      "cell_type": "code",
      "metadata": {
        "id": "kUncV7u99A8p",
        "colab_type": "code",
        "colab": {
          "base_uri": "https://localhost:8080/",
          "height": 162
        },
        "outputId": "474e51ea-5c83-44be-9588-6f1b44640585"
      },
      "source": [
        "usa_house_spening.head()"
      ],
      "execution_count": 43,
      "outputs": [
        {
          "output_type": "execute_result",
          "data": {
            "text/html": [
              "<div>\n",
              "<style scoped>\n",
              "    .dataframe tbody tr th:only-of-type {\n",
              "        vertical-align: middle;\n",
              "    }\n",
              "\n",
              "    .dataframe tbody tr th {\n",
              "        vertical-align: top;\n",
              "    }\n",
              "\n",
              "    .dataframe thead th {\n",
              "        text-align: right;\n",
              "    }\n",
              "</style>\n",
              "<table border=\"1\" class=\"dataframe\">\n",
              "  <thead>\n",
              "    <tr style=\"text-align: right;\">\n",
              "      <th></th>\n",
              "      <th>LOCATION</th>\n",
              "      <th>INDICATOR</th>\n",
              "      <th>SUBJECT</th>\n",
              "      <th>MEASURE</th>\n",
              "      <th>FREQUENCY</th>\n",
              "      <th>TIME</th>\n",
              "      <th>Value</th>\n",
              "    </tr>\n",
              "  </thead>\n",
              "  <tbody>\n",
              "    <tr>\n",
              "      <th>119</th>\n",
              "      <td>USA</td>\n",
              "      <td>HHEXP</td>\n",
              "      <td>TOT</td>\n",
              "      <td>MLN_USD</td>\n",
              "      <td>A</td>\n",
              "      <td>2015</td>\n",
              "      <td>11912856.0</td>\n",
              "    </tr>\n",
              "    <tr>\n",
              "      <th>120</th>\n",
              "      <td>USA</td>\n",
              "      <td>HHEXP</td>\n",
              "      <td>TOT</td>\n",
              "      <td>MLN_USD</td>\n",
              "      <td>A</td>\n",
              "      <td>2016</td>\n",
              "      <td>12350950.0</td>\n",
              "    </tr>\n",
              "    <tr>\n",
              "      <th>121</th>\n",
              "      <td>USA</td>\n",
              "      <td>HHEXP</td>\n",
              "      <td>TOT</td>\n",
              "      <td>MLN_USD</td>\n",
              "      <td>A</td>\n",
              "      <td>2017</td>\n",
              "      <td>12898273.0</td>\n",
              "    </tr>\n",
              "    <tr>\n",
              "      <th>122</th>\n",
              "      <td>USA</td>\n",
              "      <td>HHEXP</td>\n",
              "      <td>TOT</td>\n",
              "      <td>MLN_USD</td>\n",
              "      <td>A</td>\n",
              "      <td>2018</td>\n",
              "      <td>13555702.0</td>\n",
              "    </tr>\n",
              "  </tbody>\n",
              "</table>\n",
              "</div>"
            ],
            "text/plain": [
              "    LOCATION INDICATOR SUBJECT  MEASURE FREQUENCY  TIME       Value\n",
              "119      USA     HHEXP     TOT  MLN_USD         A  2015  11912856.0\n",
              "120      USA     HHEXP     TOT  MLN_USD         A  2016  12350950.0\n",
              "121      USA     HHEXP     TOT  MLN_USD         A  2017  12898273.0\n",
              "122      USA     HHEXP     TOT  MLN_USD         A  2018  13555702.0"
            ]
          },
          "metadata": {
            "tags": []
          },
          "execution_count": 43
        }
      ]
    },
    {
      "cell_type": "code",
      "metadata": {
        "id": "Wu_Q1vzO9P10",
        "colab_type": "code",
        "colab": {
          "base_uri": "https://localhost:8080/",
          "height": 292
        },
        "outputId": "f78af034-bd70-4a39-d327-bb7b96a6993a"
      },
      "source": [
        "plt.plot(usa_house_spening['TIME'],usa_house_spening['Value'])\n"
      ],
      "execution_count": 46,
      "outputs": [
        {
          "output_type": "execute_result",
          "data": {
            "text/plain": [
              "[<matplotlib.lines.Line2D at 0x7f4cf8f94240>]"
            ]
          },
          "metadata": {
            "tags": []
          },
          "execution_count": 46
        },
        {
          "output_type": "display_data",
          "data": {
            "image/png": "[encoded data removed]",
            "text/plain": [
              "<Figure size 432x288 with 1 Axes>"
            ]
          },
          "metadata": {
            "tags": []
          }
        }
      ]
    },
    {
      "cell_type": "code",
      "metadata": {
        "id": "EfPM4Rjd9dV2",
        "colab_type": "code",
        "colab": {
          "base_uri": "https://localhost:8080/",
          "height": 281
        },
        "outputId": "f279cad6-4b28-4e30-861a-43cc2a91a3fe"
      },
      "source": [
        "plt.plot(usa_house_savings['TIME'],usa_house_savings['Value'])"
      ],
      "execution_count": 49,
      "outputs": [
        {
          "output_type": "execute_result",
          "data": {
            "text/plain": [
              "[<matplotlib.lines.Line2D at 0x7f4cf8e4a588>]"
            ]
          },
          "metadata": {
            "tags": []
          },
          "execution_count": 49
        },
        {
          "output_type": "display_data",
          "data": {
            "image/png": "[encoded data removed]",
            "text/plain": [
              "<Figure size 432x288 with 1 Axes>"
            ]
          },
          "metadata": {
            "tags": []
          }
        }
      ]
    },
    {
      "cell_type": "code",
      "metadata": {
        "id": "4m2kagTs9tAF",
        "colab_type": "code",
        "colab": {
          "base_uri": "https://localhost:8080/",
          "height": 281
        },
        "outputId": "37644003-44e0-408f-e151-ad332ade8faf"
      },
      "source": [
        "plt.plot(usa_house_debt['TIME'],usa_house_debt['Value'])"
      ],
      "execution_count": 50,
      "outputs": [
        {
          "output_type": "execute_result",
          "data": {
            "text/plain": [
              "[<matplotlib.lines.Line2D at 0x7f4cf8db50b8>]"
            ]
          },
          "metadata": {
            "tags": []
          },
          "execution_count": 50
        },
        {
          "output_type": "display_data",
          "data": {
            "image/png": "[encoded data removed]",
            "text/plain": [
              "<Figure size 432x288 with 1 Axes>"
            ]
          },
          "metadata": {
            "tags": []
          }
        }
      ]
    },
    {
      "cell_type": "code",
      "metadata": {
        "id": "xRPASiDS-BFQ",
        "colab_type": "code",
        "colab": {
          "base_uri": "https://localhost:8080/",
          "height": 191
        },
        "outputId": "308d34c0-4d47-48ac-8146-013cd2971ce5"
      },
      "source": [
        "usa_corp_tax.head()"
      ],
      "execution_count": 51,
      "outputs": [
        {
          "output_type": "execute_result",
          "data": {
            "text/html": [
              "<div>\n",
              "<style scoped>\n",
              "    .dataframe tbody tr th:only-of-type {\n",
              "        vertical-align: middle;\n",
              "    }\n",
              "\n",
              "    .dataframe tbody tr th {\n",
              "        vertical-align: top;\n",
              "    }\n",
              "\n",
              "    .dataframe thead th {\n",
              "        text-align: right;\n",
              "    }\n",
              "</style>\n",
              "<table border=\"1\" class=\"dataframe\">\n",
              "  <thead>\n",
              "    <tr style=\"text-align: right;\">\n",
              "      <th></th>\n",
              "      <th>LOCATION</th>\n",
              "      <th>INDICATOR</th>\n",
              "      <th>SUBJECT</th>\n",
              "      <th>MEASURE</th>\n",
              "      <th>FREQUENCY</th>\n",
              "      <th>TIME</th>\n",
              "      <th>Value</th>\n",
              "    </tr>\n",
              "  </thead>\n",
              "  <tbody>\n",
              "    <tr>\n",
              "      <th>530</th>\n",
              "      <td>USA</td>\n",
              "      <td>TAXCORP</td>\n",
              "      <td>TOT</td>\n",
              "      <td>PC_GDP</td>\n",
              "      <td>A</td>\n",
              "      <td>2000</td>\n",
              "      <td>2.237</td>\n",
              "    </tr>\n",
              "    <tr>\n",
              "      <th>531</th>\n",
              "      <td>USA</td>\n",
              "      <td>TAXCORP</td>\n",
              "      <td>TOT</td>\n",
              "      <td>PC_GDP</td>\n",
              "      <td>A</td>\n",
              "      <td>2001</td>\n",
              "      <td>1.573</td>\n",
              "    </tr>\n",
              "    <tr>\n",
              "      <th>532</th>\n",
              "      <td>USA</td>\n",
              "      <td>TAXCORP</td>\n",
              "      <td>TOT</td>\n",
              "      <td>PC_GDP</td>\n",
              "      <td>A</td>\n",
              "      <td>2002</td>\n",
              "      <td>1.434</td>\n",
              "    </tr>\n",
              "    <tr>\n",
              "      <th>533</th>\n",
              "      <td>USA</td>\n",
              "      <td>TAXCORP</td>\n",
              "      <td>TOT</td>\n",
              "      <td>PC_GDP</td>\n",
              "      <td>A</td>\n",
              "      <td>2003</td>\n",
              "      <td>1.831</td>\n",
              "    </tr>\n",
              "    <tr>\n",
              "      <th>534</th>\n",
              "      <td>USA</td>\n",
              "      <td>TAXCORP</td>\n",
              "      <td>TOT</td>\n",
              "      <td>PC_GDP</td>\n",
              "      <td>A</td>\n",
              "      <td>2004</td>\n",
              "      <td>2.243</td>\n",
              "    </tr>\n",
              "  </tbody>\n",
              "</table>\n",
              "</div>"
            ],
            "text/plain": [
              "    LOCATION INDICATOR SUBJECT MEASURE FREQUENCY  TIME  Value\n",
              "530      USA   TAXCORP     TOT  PC_GDP         A  2000  2.237\n",
              "531      USA   TAXCORP     TOT  PC_GDP         A  2001  1.573\n",
              "532      USA   TAXCORP     TOT  PC_GDP         A  2002  1.434\n",
              "533      USA   TAXCORP     TOT  PC_GDP         A  2003  1.831\n",
              "534      USA   TAXCORP     TOT  PC_GDP         A  2004  2.243"
            ]
          },
          "metadata": {
            "tags": []
          },
          "execution_count": 51
        }
      ]
    },
    {
      "cell_type": "code",
      "metadata": {
        "id": "g2--U23--G35",
        "colab_type": "code",
        "colab": {
          "base_uri": "https://localhost:8080/",
          "height": 191
        },
        "outputId": "b91c14ee-86fd-453e-b307-1f60b42433bf"
      },
      "source": [
        "usa_tax.head()"
      ],
      "execution_count": 52,
      "outputs": [
        {
          "output_type": "execute_result",
          "data": {
            "text/html": [
              "<div>\n",
              "<style scoped>\n",
              "    .dataframe tbody tr th:only-of-type {\n",
              "        vertical-align: middle;\n",
              "    }\n",
              "\n",
              "    .dataframe tbody tr th {\n",
              "        vertical-align: top;\n",
              "    }\n",
              "\n",
              "    .dataframe thead th {\n",
              "        text-align: right;\n",
              "    }\n",
              "</style>\n",
              "<table border=\"1\" class=\"dataframe\">\n",
              "  <thead>\n",
              "    <tr style=\"text-align: right;\">\n",
              "      <th></th>\n",
              "      <th>LOCATION</th>\n",
              "      <th>INDICATOR</th>\n",
              "      <th>SUBJECT</th>\n",
              "      <th>MEASURE</th>\n",
              "      <th>FREQUENCY</th>\n",
              "      <th>TIME</th>\n",
              "      <th>Value</th>\n",
              "      <th>Flag Codes</th>\n",
              "    </tr>\n",
              "  </thead>\n",
              "  <tbody>\n",
              "    <tr>\n",
              "      <th>529</th>\n",
              "      <td>USA</td>\n",
              "      <td>TAXINCOME</td>\n",
              "      <td>TOT</td>\n",
              "      <td>PC_TOT_TAX</td>\n",
              "      <td>A</td>\n",
              "      <td>2000</td>\n",
              "      <td>42.218</td>\n",
              "      <td>NaN</td>\n",
              "    </tr>\n",
              "    <tr>\n",
              "      <th>530</th>\n",
              "      <td>USA</td>\n",
              "      <td>TAXINCOME</td>\n",
              "      <td>TOT</td>\n",
              "      <td>PC_TOT_TAX</td>\n",
              "      <td>A</td>\n",
              "      <td>2001</td>\n",
              "      <td>42.545</td>\n",
              "      <td>NaN</td>\n",
              "    </tr>\n",
              "    <tr>\n",
              "      <th>531</th>\n",
              "      <td>USA</td>\n",
              "      <td>TAXINCOME</td>\n",
              "      <td>TOT</td>\n",
              "      <td>PC_TOT_TAX</td>\n",
              "      <td>A</td>\n",
              "      <td>2002</td>\n",
              "      <td>38.036</td>\n",
              "      <td>NaN</td>\n",
              "    </tr>\n",
              "    <tr>\n",
              "      <th>532</th>\n",
              "      <td>USA</td>\n",
              "      <td>TAXINCOME</td>\n",
              "      <td>TOT</td>\n",
              "      <td>PC_TOT_TAX</td>\n",
              "      <td>A</td>\n",
              "      <td>2003</td>\n",
              "      <td>35.317</td>\n",
              "      <td>NaN</td>\n",
              "    </tr>\n",
              "    <tr>\n",
              "      <th>533</th>\n",
              "      <td>USA</td>\n",
              "      <td>TAXINCOME</td>\n",
              "      <td>TOT</td>\n",
              "      <td>PC_TOT_TAX</td>\n",
              "      <td>A</td>\n",
              "      <td>2004</td>\n",
              "      <td>34.196</td>\n",
              "      <td>NaN</td>\n",
              "    </tr>\n",
              "  </tbody>\n",
              "</table>\n",
              "</div>"
            ],
            "text/plain": [
              "    LOCATION  INDICATOR SUBJECT     MEASURE FREQUENCY  TIME   Value  Flag Codes\n",
              "529      USA  TAXINCOME     TOT  PC_TOT_TAX         A  2000  42.218         NaN\n",
              "530      USA  TAXINCOME     TOT  PC_TOT_TAX         A  2001  42.545         NaN\n",
              "531      USA  TAXINCOME     TOT  PC_TOT_TAX         A  2002  38.036         NaN\n",
              "532      USA  TAXINCOME     TOT  PC_TOT_TAX         A  2003  35.317         NaN\n",
              "533      USA  TAXINCOME     TOT  PC_TOT_TAX         A  2004  34.196         NaN"
            ]
          },
          "metadata": {
            "tags": []
          },
          "execution_count": 52
        }
      ]
    },
    {
      "cell_type": "code",
      "metadata": {
        "id": "QxbaObz5-LTJ",
        "colab_type": "code",
        "colab": {
          "base_uri": "https://localhost:8080/",
          "height": 281
        },
        "outputId": "e43769d6-6ea7-4a05-ae47-60a2991cd23e"
      },
      "source": [
        "usa_corp_tax['Value'].plot()"
      ],
      "execution_count": 53,
      "outputs": [
        {
          "output_type": "execute_result",
          "data": {
            "text/plain": [
              "<matplotlib.axes._subplots.AxesSubplot at 0x7f4cf8db5588>"
            ]
          },
          "metadata": {
            "tags": []
          },
          "execution_count": 53
        },
        {
          "output_type": "display_data",
          "data": {
            "image/png": "[encoded data removed]",
            "text/plain": [
              "<Figure size 432x288 with 1 Axes>"
            ]
          },
          "metadata": {
            "tags": []
          }
        }
      ]
    },
    {
      "cell_type": "code",
      "metadata": {
        "id": "tttBHZfe-Tno",
        "colab_type": "code",
        "colab": {
          "base_uri": "https://localhost:8080/",
          "height": 281
        },
        "outputId": "26204132-8b52-4786-e3ab-c05ab800a186"
      },
      "source": [
        "usa_tax['Value'].plot()"
      ],
      "execution_count": 54,
      "outputs": [
        {
          "output_type": "execute_result",
          "data": {
            "text/plain": [
              "<matplotlib.axes._subplots.AxesSubplot at 0x7f4cf8e98748>"
            ]
          },
          "metadata": {
            "tags": []
          },
          "execution_count": 54
        },
        {
          "output_type": "display_data",
          "data": {
            "image/png": "[encoded data removed]",
            "text/plain": [
              "<Figure size 432x288 with 1 Axes>"
            ]
          },
          "metadata": {
            "tags": []
          }
        }
      ]
    },
    {
      "cell_type": "code",
      "metadata": {
        "id": "8fcWpTby-YqO",
        "colab_type": "code",
        "colab": {}
      },
      "source": [
        "gross_income = pd.read_csv('National_Gross_Income.csv')"
      ],
      "execution_count": 0,
      "outputs": []
    },
    {
      "cell_type": "code",
      "metadata": {
        "id": "4t86Ptn3_vvy",
        "colab_type": "code",
        "colab": {}
      },
      "source": [
        "net_income = pd.read_csv('Net_Income.csv')"
      ],
      "execution_count": 0,
      "outputs": []
    },
    {
      "cell_type": "code",
      "metadata": {
        "id": "p_qtO8hwAiX0",
        "colab_type": "code",
        "colab": {}
      },
      "source": [
        "usa_gross_income = gross_income.loc[(gross_income['LOCATION'])=='USA']"
      ],
      "execution_count": 0,
      "outputs": []
    },
    {
      "cell_type": "code",
      "metadata": {
        "id": "Z0MRLom4AqeK",
        "colab_type": "code",
        "colab": {}
      },
      "source": [
        "usa_net_income = net_income.loc[(net_income['LOCATION'])=='USA']"
      ],
      "execution_count": 0,
      "outputs": []
    },
    {
      "cell_type": "code",
      "metadata": {
        "id": "S4BO7Zd_Aw9i",
        "colab_type": "code",
        "colab": {
          "base_uri": "https://localhost:8080/",
          "height": 283
        },
        "outputId": "a808305a-0e08-448a-b8b7-41c206900667"
      },
      "source": [
        "plt.plot(usa_gross_income['TIME'],usa_gross_income['Value'])\n",
        "plt.plot(usa_net_income['TIME'],usa_net_income['Value'])"
      ],
      "execution_count": 61,
      "outputs": [
        {
          "output_type": "execute_result",
          "data": {
            "text/plain": [
              "[<matplotlib.lines.Line2D at 0x7f4cf8dcf588>]"
            ]
          },
          "metadata": {
            "tags": []
          },
          "execution_count": 61
        },
        {
          "output_type": "display_data",
          "data": {
            "image/png": "[encoded data removed]",
            "text/plain": [
              "<Figure size 432x288 with 1 Axes>"
            ]
          },
          "metadata": {
            "tags": []
          }
        }
      ]
    },
    {
      "cell_type": "code",
      "metadata": {
        "id": "bbyv-Wd7BB-h",
        "colab_type": "code",
        "colab": {}
      },
      "source": [
        "UDI = dict(usa_disposable_income)"
      ],
      "execution_count": 0,
      "outputs": []
    },
    {
      "cell_type": "code",
      "metadata": {
        "id": "9u8lb-CCDHvv",
        "colab_type": "code",
        "colab": {
          "base_uri": "https://localhost:8080/",
          "height": 33
        },
        "outputId": "a79390b1-727f-4b4d-80d4-eb51ea60849b"
      },
      "source": [
        "type(UDI)"
      ],
      "execution_count": 66,
      "outputs": [
        {
          "output_type": "execute_result",
          "data": {
            "text/plain": [
              "dict"
            ]
          },
          "metadata": {
            "tags": []
          },
          "execution_count": 66
        }
      ]
    },
    {
      "cell_type": "code",
      "metadata": {
        "id": "7TEhp7SXDNZh",
        "colab_type": "code",
        "colab": {
          "base_uri": "https://localhost:8080/",
          "height": 375
        },
        "outputId": "f67b6470-aa6d-48d1-84ca-41fabc12966f"
      },
      "source": [
        "UDI.values()"
      ],
      "execution_count": 70,
      "outputs": [
        {
          "output_type": "execute_result",
          "data": {
            "text/plain": [
              "dict_values([98     USA\n",
              "99     USA\n",
              "100    USA\n",
              "Name: LOCATION, dtype: object, 98     HHDI\n",
              "99     HHDI\n",
              "100    HHDI\n",
              "Name: INDICATOR, dtype: object, 98     NET\n",
              "99     NET\n",
              "100    NET\n",
              "Name: SUBJECT, dtype: object, 98     AGRWTH\n",
              "99     AGRWTH\n",
              "100    AGRWTH\n",
              "Name: MEASURE, dtype: object, 98     A\n",
              "99     A\n",
              "100    A\n",
              "Name: FREQUENCY, dtype: object, 98     2015\n",
              "99     2016\n",
              "100    2017\n",
              "Name: TIME, dtype: int64, 98     3.939684\n",
              "99     1.873986\n",
              "100    2.342180\n",
              "Name: Value, dtype: float64])"
            ]
          },
          "metadata": {
            "tags": []
          },
          "execution_count": 70
        }
      ]
    },
    {
      "cell_type": "code",
      "metadata": {
        "id": "A0pKoNxTD7lF",
        "colab_type": "code",
        "colab": {}
      },
      "source": [
        "low_beta = pd.read_csv('Low_Beta_Zacks_Screen.csv')"
      ],
      "execution_count": 0,
      "outputs": []
    },
    {
      "cell_type": "code",
      "metadata": {
        "id": "yYbZonm6FRnQ",
        "colab_type": "code",
        "colab": {
          "base_uri": "https://localhost:8080/",
          "height": 191
        },
        "outputId": "12670c47-3d58-43e7-81fd-57d814a18a24"
      },
      "source": [
        "low_beta.head()"
      ],
      "execution_count": 74,
      "outputs": [
        {
          "output_type": "execute_result",
          "data": {
            "text/html": [
              "<div>\n",
              "<style scoped>\n",
              "    .dataframe tbody tr th:only-of-type {\n",
              "        vertical-align: middle;\n",
              "    }\n",
              "\n",
              "    .dataframe tbody tr th {\n",
              "        vertical-align: top;\n",
              "    }\n",
              "\n",
              "    .dataframe thead th {\n",
              "        text-align: right;\n",
              "    }\n",
              "</style>\n",
              "<table border=\"1\" class=\"dataframe\">\n",
              "  <thead>\n",
              "    <tr style=\"text-align: right;\">\n",
              "      <th></th>\n",
              "      <th>Company Name</th>\n",
              "      <th>Ticker</th>\n",
              "      <th>Beta</th>\n",
              "      <th>Exchange</th>\n",
              "      <th>Avg Volume</th>\n",
              "      <th>Market Cap (mil)</th>\n",
              "      <th>P/E (Trailing 12 Months)</th>\n",
              "      <th>Current Ratio</th>\n",
              "    </tr>\n",
              "  </thead>\n",
              "  <tbody>\n",
              "    <tr>\n",
              "      <th>0</th>\n",
              "      <td>Aaron's,  Inc.</td>\n",
              "      <td>AAN</td>\n",
              "      <td>0.83</td>\n",
              "      <td>NYSE</td>\n",
              "      <td>1566278</td>\n",
              "      <td>1217.41</td>\n",
              "      <td>4.69</td>\n",
              "      <td>2.12</td>\n",
              "    </tr>\n",
              "    <tr>\n",
              "      <th>1</th>\n",
              "      <td>AbbVie Inc.</td>\n",
              "      <td>ABBV</td>\n",
              "      <td>0.83</td>\n",
              "      <td>NYSE</td>\n",
              "      <td>15174074</td>\n",
              "      <td>105108.88</td>\n",
              "      <td>7.95</td>\n",
              "      <td>3.18</td>\n",
              "    </tr>\n",
              "    <tr>\n",
              "      <th>2</th>\n",
              "      <td>Alamos Gold Inc.</td>\n",
              "      <td>AGI</td>\n",
              "      <td>0.11</td>\n",
              "      <td>NYSE</td>\n",
              "      <td>4995987</td>\n",
              "      <td>2084.46</td>\n",
              "      <td>24.23</td>\n",
              "      <td>3.10</td>\n",
              "    </tr>\n",
              "    <tr>\n",
              "      <th>3</th>\n",
              "      <td>Air Products and Chemicals, Inc.</td>\n",
              "      <td>APD</td>\n",
              "      <td>0.87</td>\n",
              "      <td>NYSE</td>\n",
              "      <td>1821525</td>\n",
              "      <td>42158.41</td>\n",
              "      <td>22.48</td>\n",
              "      <td>2.59</td>\n",
              "    </tr>\n",
              "    <tr>\n",
              "      <th>4</th>\n",
              "      <td>Apollo Commercial Real Estate Finance</td>\n",
              "      <td>ARI</td>\n",
              "      <td>0.69</td>\n",
              "      <td>NYSE</td>\n",
              "      <td>3044356</td>\n",
              "      <td>1169.17</td>\n",
              "      <td>4.04</td>\n",
              "      <td>57.38</td>\n",
              "    </tr>\n",
              "  </tbody>\n",
              "</table>\n",
              "</div>"
            ],
            "text/plain": [
              "                            Company Name  ... Current Ratio\n",
              "0                         Aaron's,  Inc.  ...          2.12\n",
              "1                            AbbVie Inc.  ...          3.18\n",
              "2                       Alamos Gold Inc.  ...          3.10\n",
              "3       Air Products and Chemicals, Inc.  ...          2.59\n",
              "4  Apollo Commercial Real Estate Finance  ...         57.38\n",
              "\n",
              "[5 rows x 8 columns]"
            ]
          },
          "metadata": {
            "tags": []
          },
          "execution_count": 74
        }
      ]
    },
    {
      "cell_type": "code",
      "metadata": {
        "id": "Xw-VvvM8GVy1",
        "colab_type": "code",
        "colab": {}
      },
      "source": [
        "LB = low_beta.to_dict()"
      ],
      "execution_count": 0,
      "outputs": []
    },
    {
      "cell_type": "code",
      "metadata": {
        "id": "SloXDryyGwfW",
        "colab_type": "code",
        "colab": {
          "base_uri": "https://localhost:8080/",
          "height": 33
        },
        "outputId": "8e901f2d-73d7-4ecd-a7cd-129051b01eed"
      },
      "source": [
        "type(LB)"
      ],
      "execution_count": 77,
      "outputs": [
        {
          "output_type": "execute_result",
          "data": {
            "text/plain": [
              "dict"
            ]
          },
          "metadata": {
            "tags": []
          },
          "execution_count": 77
        }
      ]
    },
    {
      "cell_type": "code",
      "metadata": {
        "id": "xSZxKocRHJrp",
        "colab_type": "code",
        "colab": {
          "base_uri": "https://localhost:8080/",
          "height": 33
        },
        "outputId": "ab60a333-df1f-41e0-b7d0-ba73bb711895"
      },
      "source": [
        "LB['Company Name'][5]"
      ],
      "execution_count": 83,
      "outputs": [
        {
          "output_type": "execute_result",
          "data": {
            "text/plain": [
              "'Baxter International Inc.'"
            ]
          },
          "metadata": {
            "tags": []
          },
          "execution_count": 83
        }
      ]
    },
    {
      "cell_type": "code",
      "metadata": {
        "id": "VfV8tw7BHKh8",
        "colab_type": "code",
        "colab": {
          "base_uri": "https://localhost:8080/",
          "height": 281
        },
        "outputId": "36e8ab38-c5e9-4368-eaf2-b9b1949c695c"
      },
      "source": [
        "low_beta['Beta'].hist()"
      ],
      "execution_count": 84,
      "outputs": [
        {
          "output_type": "execute_result",
          "data": {
            "text/plain": [
              "<matplotlib.axes._subplots.AxesSubplot at 0x7f4cf8b85208>"
            ]
          },
          "metadata": {
            "tags": []
          },
          "execution_count": 84
        },
        {
          "output_type": "display_data",
          "data": {
            "image/png": "[encoded data removed]",
            "text/plain": [
              "<Figure size 432x288 with 1 Axes>"
            ]
          },
          "metadata": {
            "tags": []
          }
        }
      ]
    },
    {
      "cell_type": "code",
      "metadata": {
        "id": "A_DHL5HwIHF3",
        "colab_type": "code",
        "colab": {}
      },
      "source": [
        "import sys"
      ],
      "execution_count": 0,
      "outputs": []
    },
    {
      "cell_type": "code",
      "metadata": {
        "id": "9avu17GVKLeZ",
        "colab_type": "code",
        "colab": {
          "base_uri": "https://localhost:8080/",
          "height": 180
        },
        "outputId": "715de0d6-2ab0-479e-c648-75c685d0fbc7"
      },
      "source": [
        "for p in sys.path:\n",
        "  print(p)"
      ],
      "execution_count": 86,
      "outputs": [
        {
          "output_type": "stream",
          "text": [
            "/tensorflow-1.15.0/python3.6\n",
            "\n",
            "/env/python\n",
            "/usr/lib/python36.zip\n",
            "/usr/lib/python3.6\n",
            "/usr/lib/python3.6/lib-dynload\n",
            "/usr/local/lib/python3.6/dist-packages\n",
            "/usr/lib/python3/dist-packages\n",
            "/usr/local/lib/python3.6/dist-packages/IPython/extensions\n",
            "/root/.ipython\n"
          ],
          "name": "stdout"
        }
      ]
    },
    {
      "cell_type": "code",
      "metadata": {
        "id": "wZaCzEdGKRsm",
        "colab_type": "code",
        "colab": {
          "base_uri": "https://localhost:8080/",
          "height": 33
        },
        "outputId": "a824230e-c304-4e09-9639-c516cf1e44bf"
      },
      "source": [
        "p"
      ],
      "execution_count": 87,
      "outputs": [
        {
          "output_type": "execute_result",
          "data": {
            "text/plain": [
              "'/root/.ipython'"
            ]
          },
          "metadata": {
            "tags": []
          },
          "execution_count": 87
        }
      ]
    },
    {
      "cell_type": "code",
      "metadata": {
        "id": "syqC163yK-R3",
        "colab_type": "code",
        "colab": {}
      },
      "source": [
        "import os"
      ],
      "execution_count": 0,
      "outputs": []
    },
    {
      "cell_type": "code",
      "metadata": {
        "id": "zGOEyt3_LEvQ",
        "colab_type": "code",
        "colab": {}
      },
      "source": [
        ""
      ],
      "execution_count": 0,
      "outputs": []
    }
  ]
}